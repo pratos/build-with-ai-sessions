{
 "cells": [
  {
   "cell_type": "markdown",
   "id": "875bb7d6-14d3-403b-bd83-fa6557eacccd",
   "metadata": {},
   "source": [
    "## Tool Calling + Agents (?)"
   ]
  },
  {
   "cell_type": "markdown",
   "id": "238cf0b6-27f1-416b-b039-ff6bcc74849c",
   "metadata": {},
   "source": [
    "### Import and setup"
   ]
  },
  {
   "cell_type": "code",
   "execution_count": 2,
   "id": "f933cbca-4d42-42b7-9800-814562b5d567",
   "metadata": {},
   "outputs": [
    {
     "name": "stdout",
     "output_type": "stream",
     "text": [
      " ········\n"
     ]
    }
   ],
   "source": [
    "import openai\n",
    "from rich import print\n",
    "from getpass import getpass\n",
    "\n",
    "oai_api_key = getpass()"
   ]
  },
  {
   "cell_type": "code",
   "execution_count": 3,
   "id": "5942d08d-c3a8-458f-a388-bb0bdde3de2f",
   "metadata": {},
   "outputs": [],
   "source": [
    "client = openai.OpenAI(api_key=oai_api_key)"
   ]
  },
  {
   "cell_type": "markdown",
   "id": "4d709c4f-232d-4327-953d-f24d10fe126f",
   "metadata": {},
   "source": [
    "### Tool Calling"
   ]
  },
  {
   "cell_type": "markdown",
   "id": "adec2efe-c9e7-4a2b-960f-89e61ac205f0",
   "metadata": {},
   "source": [
    "We all have heard about agents? \n",
    "\n",
    "Tool Calling is \"one\" of the things that is the foundation of Agents. There have been previous works like:\n",
    "\n",
    "- [ReACT paper](https://klu.ai/glossary/react-agent-model) was the one to talk about reasoning and acting in sync using LLMs.\n",
    "- OpenAI had a WebGPT paper in 2021\n",
    "- ToolFormer was one paper from Meta that talked about tool calling\n",
    "\n",
    "![react](https://substackcdn.com/image/fetch/w_1456,c_limit,f_auto,q_auto:good,fl_progressive:steep/https%3A%2F%2Fsubstack-post-media.s3.amazonaws.com%2Fpublic%2Fimages%2Fd02b2eaa-16c3-4f92-8f97-06329fbcccd4_716x550.gif)\n",
    "\n"
   ]
  },
  {
   "cell_type": "markdown",
   "id": "b615d1cf-350a-4a36-b850-73bab08ba88a",
   "metadata": {},
   "source": [
    "Below is the example directly lifted off OpenAI's documentation (lazy I know). But it is the simplest example to do function calling/tool calling without writing shitty json schemas myself.\n",
    "\n",
    "Function calling/Tool Calling is nothing but providing LLMs a way to get the exact output via simple functions below or external tools (Exa, Tavily, other APIs, or even Moondream?)"
   ]
  },
  {
   "cell_type": "code",
   "execution_count": 5,
   "id": "dafffc00-9d99-473b-85dd-c83cf5ee2855",
   "metadata": {},
   "outputs": [],
   "source": [
    "tools = [{\n",
    "    \"type\": \"function\",\n",
    "    \"name\": \"get_weather\",  # <- Add this at the top level\n",
    "    \"function\": {\n",
    "        \"name\": \"get_weather\",  # This is usually required too\n",
    "        \"description\": \"Get current temperature for a given location.\",\n",
    "        \"parameters\": {\n",
    "            \"type\": \"object\",\n",
    "            \"properties\": { \n",
    "                \"location\": {\n",
    "                    \"type\": \"string\",\n",
    "                    \"description\": \"City and country e.g. Bogotá, Colombia\"\n",
    "                }\n",
    "            },\n",
    "            \"required\": [\"location\"],\n",
    "            \"additionalProperties\": False\n",
    "        },\n",
    "        \"strict\": True\n",
    "    }\n",
    "}]\n"
   ]
  },
  {
   "cell_type": "markdown",
   "id": "096655c9-bf38-4bca-9a68-fa35b53034c5",
   "metadata": {},
   "source": [
    "A similar python function would be:"
   ]
  },
  {
   "cell_type": "code",
   "execution_count": 6,
   "id": "107ed545-903d-435d-bb02-dbe7bb07a7e7",
   "metadata": {},
   "outputs": [],
   "source": [
    "def get_weather(location: str):\n",
    "    # some processing\n",
    "    extracted_location = \"xxxx\"\n",
    "    return {\"location\": extracted_location}"
   ]
  },
  {
   "cell_type": "markdown",
   "id": "c7db80ad-8a3d-4768-b960-99ef9750c001",
   "metadata": {},
   "source": [
    "We were using the `completions` API from OpenAI, but they have a new API called `responses`"
   ]
  },
  {
   "cell_type": "code",
   "execution_count": 7,
   "id": "8ae80033-dec7-4a37-9b55-58814f598226",
   "metadata": {},
   "outputs": [],
   "source": [
    "response = client.responses.create(\n",
    "    model=\"gpt-4.1\",\n",
    "    input=[{\"role\": \"user\", \"content\": \"What is the weather like in Paris today?\"}],\n",
    "    tools=tools\n",
    ")"
   ]
  },
  {
   "cell_type": "code",
   "execution_count": 8,
   "id": "2a713016-8671-40eb-8518-c0edb998de6e",
   "metadata": {},
   "outputs": [
    {
     "data": {
      "text/html": [
       "<pre style=\"white-space:pre;overflow-x:auto;line-height:normal;font-family:Menlo,'DejaVu Sans Mono',consolas,'Courier New',monospace\"><span style=\"color: #800080; text-decoration-color: #800080; font-weight: bold\">Response</span><span style=\"font-weight: bold\">(</span>\n",
       "    <span style=\"color: #808000; text-decoration-color: #808000\">id</span>=<span style=\"color: #008000; text-decoration-color: #008000\">'resp_6829adb73398819184cab388e76572320a7b4c619524b64b'</span>,\n",
       "    <span style=\"color: #808000; text-decoration-color: #808000\">created_at</span>=<span style=\"color: #008080; text-decoration-color: #008080; font-weight: bold\">1747561911.0</span>,\n",
       "    <span style=\"color: #808000; text-decoration-color: #808000\">error</span>=<span style=\"color: #800080; text-decoration-color: #800080; font-style: italic\">None</span>,\n",
       "    <span style=\"color: #808000; text-decoration-color: #808000\">incomplete_details</span>=<span style=\"color: #800080; text-decoration-color: #800080; font-style: italic\">None</span>,\n",
       "    <span style=\"color: #808000; text-decoration-color: #808000\">instructions</span>=<span style=\"color: #800080; text-decoration-color: #800080; font-style: italic\">None</span>,\n",
       "    <span style=\"color: #808000; text-decoration-color: #808000\">metadata</span>=<span style=\"font-weight: bold\">{}</span>,\n",
       "    <span style=\"color: #808000; text-decoration-color: #808000\">model</span>=<span style=\"color: #008000; text-decoration-color: #008000\">'gpt-4.1-2025-04-14'</span>,\n",
       "    <span style=\"color: #808000; text-decoration-color: #808000\">object</span>=<span style=\"color: #008000; text-decoration-color: #008000\">'response'</span>,\n",
       "    <span style=\"color: #808000; text-decoration-color: #808000\">output</span>=<span style=\"font-weight: bold\">[</span>\n",
       "        <span style=\"color: #800080; text-decoration-color: #800080; font-weight: bold\">ResponseFunctionToolCall</span><span style=\"font-weight: bold\">(</span>\n",
       "            <span style=\"color: #808000; text-decoration-color: #808000\">arguments</span>=<span style=\"color: #008000; text-decoration-color: #008000\">'{}'</span>,\n",
       "            <span style=\"color: #808000; text-decoration-color: #808000\">call_id</span>=<span style=\"color: #008000; text-decoration-color: #008000\">'call_gFyZN1efODdVpsubd8FZYsVI'</span>,\n",
       "            <span style=\"color: #808000; text-decoration-color: #808000\">name</span>=<span style=\"color: #008000; text-decoration-color: #008000\">'get_weather'</span>,\n",
       "            <span style=\"color: #808000; text-decoration-color: #808000\">type</span>=<span style=\"color: #008000; text-decoration-color: #008000\">'function_call'</span>,\n",
       "            <span style=\"color: #808000; text-decoration-color: #808000\">id</span>=<span style=\"color: #008000; text-decoration-color: #008000\">'fc_6829adb7b790819184f3b7c56e46e29d0a7b4c619524b64b'</span>,\n",
       "            <span style=\"color: #808000; text-decoration-color: #808000\">status</span>=<span style=\"color: #008000; text-decoration-color: #008000\">'completed'</span>\n",
       "        <span style=\"font-weight: bold\">)</span>\n",
       "    <span style=\"font-weight: bold\">]</span>,\n",
       "    <span style=\"color: #808000; text-decoration-color: #808000\">parallel_tool_calls</span>=<span style=\"color: #00ff00; text-decoration-color: #00ff00; font-style: italic\">True</span>,\n",
       "    <span style=\"color: #808000; text-decoration-color: #808000\">temperature</span>=<span style=\"color: #008080; text-decoration-color: #008080; font-weight: bold\">1.0</span>,\n",
       "    <span style=\"color: #808000; text-decoration-color: #808000\">tool_choice</span>=<span style=\"color: #008000; text-decoration-color: #008000\">'auto'</span>,\n",
       "    <span style=\"color: #808000; text-decoration-color: #808000\">tools</span>=<span style=\"font-weight: bold\">[</span>\n",
       "        <span style=\"color: #800080; text-decoration-color: #800080; font-weight: bold\">FunctionTool</span><span style=\"font-weight: bold\">(</span>\n",
       "            <span style=\"color: #808000; text-decoration-color: #808000\">name</span>=<span style=\"color: #008000; text-decoration-color: #008000\">'get_weather'</span>,\n",
       "            <span style=\"color: #808000; text-decoration-color: #808000\">parameters</span>=<span style=\"font-weight: bold\">{</span><span style=\"color: #008000; text-decoration-color: #008000\">'type'</span>: <span style=\"color: #008000; text-decoration-color: #008000\">'object'</span>, <span style=\"color: #008000; text-decoration-color: #008000\">'properties'</span>: <span style=\"font-weight: bold\">{}}</span>,\n",
       "            <span style=\"color: #808000; text-decoration-color: #808000\">strict</span>=<span style=\"color: #00ff00; text-decoration-color: #00ff00; font-style: italic\">True</span>,\n",
       "            <span style=\"color: #808000; text-decoration-color: #808000\">type</span>=<span style=\"color: #008000; text-decoration-color: #008000\">'function'</span>,\n",
       "            <span style=\"color: #808000; text-decoration-color: #808000\">description</span>=<span style=\"color: #800080; text-decoration-color: #800080; font-style: italic\">None</span>\n",
       "        <span style=\"font-weight: bold\">)</span>\n",
       "    <span style=\"font-weight: bold\">]</span>,\n",
       "    <span style=\"color: #808000; text-decoration-color: #808000\">top_p</span>=<span style=\"color: #008080; text-decoration-color: #008080; font-weight: bold\">1.0</span>,\n",
       "    <span style=\"color: #808000; text-decoration-color: #808000\">max_output_tokens</span>=<span style=\"color: #800080; text-decoration-color: #800080; font-style: italic\">None</span>,\n",
       "    <span style=\"color: #808000; text-decoration-color: #808000\">previous_response_id</span>=<span style=\"color: #800080; text-decoration-color: #800080; font-style: italic\">None</span>,\n",
       "    <span style=\"color: #808000; text-decoration-color: #808000\">reasoning</span>=<span style=\"color: #800080; text-decoration-color: #800080; font-weight: bold\">Reasoning</span><span style=\"font-weight: bold\">(</span><span style=\"color: #808000; text-decoration-color: #808000\">effort</span>=<span style=\"color: #800080; text-decoration-color: #800080; font-style: italic\">None</span>, <span style=\"color: #808000; text-decoration-color: #808000\">generate_summary</span>=<span style=\"color: #800080; text-decoration-color: #800080; font-style: italic\">None</span>, <span style=\"color: #808000; text-decoration-color: #808000\">summary</span>=<span style=\"color: #800080; text-decoration-color: #800080; font-style: italic\">None</span><span style=\"font-weight: bold\">)</span>,\n",
       "    <span style=\"color: #808000; text-decoration-color: #808000\">service_tier</span>=<span style=\"color: #008000; text-decoration-color: #008000\">'default'</span>,\n",
       "    <span style=\"color: #808000; text-decoration-color: #808000\">status</span>=<span style=\"color: #008000; text-decoration-color: #008000\">'completed'</span>,\n",
       "    <span style=\"color: #808000; text-decoration-color: #808000\">text</span>=<span style=\"color: #800080; text-decoration-color: #800080; font-weight: bold\">ResponseTextConfig</span><span style=\"font-weight: bold\">(</span><span style=\"color: #808000; text-decoration-color: #808000\">format</span>=<span style=\"color: #800080; text-decoration-color: #800080; font-weight: bold\">ResponseFormatText</span><span style=\"font-weight: bold\">(</span><span style=\"color: #808000; text-decoration-color: #808000\">type</span>=<span style=\"color: #008000; text-decoration-color: #008000\">'text'</span><span style=\"font-weight: bold\">))</span>,\n",
       "    <span style=\"color: #808000; text-decoration-color: #808000\">truncation</span>=<span style=\"color: #008000; text-decoration-color: #008000\">'disabled'</span>,\n",
       "    <span style=\"color: #808000; text-decoration-color: #808000\">usage</span>=<span style=\"color: #800080; text-decoration-color: #800080; font-weight: bold\">ResponseUsage</span><span style=\"font-weight: bold\">(</span>\n",
       "        <span style=\"color: #808000; text-decoration-color: #808000\">input_tokens</span>=<span style=\"color: #008080; text-decoration-color: #008080; font-weight: bold\">34</span>,\n",
       "        <span style=\"color: #808000; text-decoration-color: #808000\">input_tokens_details</span>=<span style=\"color: #800080; text-decoration-color: #800080; font-weight: bold\">InputTokensDetails</span><span style=\"font-weight: bold\">(</span><span style=\"color: #808000; text-decoration-color: #808000\">cached_tokens</span>=<span style=\"color: #008080; text-decoration-color: #008080; font-weight: bold\">0</span><span style=\"font-weight: bold\">)</span>,\n",
       "        <span style=\"color: #808000; text-decoration-color: #808000\">output_tokens</span>=<span style=\"color: #008080; text-decoration-color: #008080; font-weight: bold\">11</span>,\n",
       "        <span style=\"color: #808000; text-decoration-color: #808000\">output_tokens_details</span>=<span style=\"color: #800080; text-decoration-color: #800080; font-weight: bold\">OutputTokensDetails</span><span style=\"font-weight: bold\">(</span><span style=\"color: #808000; text-decoration-color: #808000\">reasoning_tokens</span>=<span style=\"color: #008080; text-decoration-color: #008080; font-weight: bold\">0</span><span style=\"font-weight: bold\">)</span>,\n",
       "        <span style=\"color: #808000; text-decoration-color: #808000\">total_tokens</span>=<span style=\"color: #008080; text-decoration-color: #008080; font-weight: bold\">45</span>\n",
       "    <span style=\"font-weight: bold\">)</span>,\n",
       "    <span style=\"color: #808000; text-decoration-color: #808000\">user</span>=<span style=\"color: #800080; text-decoration-color: #800080; font-style: italic\">None</span>,\n",
       "    <span style=\"color: #808000; text-decoration-color: #808000\">store</span>=<span style=\"color: #00ff00; text-decoration-color: #00ff00; font-style: italic\">True</span>\n",
       "<span style=\"font-weight: bold\">)</span>\n",
       "</pre>\n"
      ],
      "text/plain": [
       "\u001b[1;35mResponse\u001b[0m\u001b[1m(\u001b[0m\n",
       "    \u001b[33mid\u001b[0m=\u001b[32m'resp_6829adb73398819184cab388e76572320a7b4c619524b64b'\u001b[0m,\n",
       "    \u001b[33mcreated_at\u001b[0m=\u001b[1;36m1747561911\u001b[0m\u001b[1;36m.0\u001b[0m,\n",
       "    \u001b[33merror\u001b[0m=\u001b[3;35mNone\u001b[0m,\n",
       "    \u001b[33mincomplete_details\u001b[0m=\u001b[3;35mNone\u001b[0m,\n",
       "    \u001b[33minstructions\u001b[0m=\u001b[3;35mNone\u001b[0m,\n",
       "    \u001b[33mmetadata\u001b[0m=\u001b[1m{\u001b[0m\u001b[1m}\u001b[0m,\n",
       "    \u001b[33mmodel\u001b[0m=\u001b[32m'gpt-4.1-2025-04-14'\u001b[0m,\n",
       "    \u001b[33mobject\u001b[0m=\u001b[32m'response'\u001b[0m,\n",
       "    \u001b[33moutput\u001b[0m=\u001b[1m[\u001b[0m\n",
       "        \u001b[1;35mResponseFunctionToolCall\u001b[0m\u001b[1m(\u001b[0m\n",
       "            \u001b[33marguments\u001b[0m=\u001b[32m'\u001b[0m\u001b[32m{\u001b[0m\u001b[32m}\u001b[0m\u001b[32m'\u001b[0m,\n",
       "            \u001b[33mcall_id\u001b[0m=\u001b[32m'call_gFyZN1efODdVpsubd8FZYsVI'\u001b[0m,\n",
       "            \u001b[33mname\u001b[0m=\u001b[32m'get_weather'\u001b[0m,\n",
       "            \u001b[33mtype\u001b[0m=\u001b[32m'function_call'\u001b[0m,\n",
       "            \u001b[33mid\u001b[0m=\u001b[32m'fc_6829adb7b790819184f3b7c56e46e29d0a7b4c619524b64b'\u001b[0m,\n",
       "            \u001b[33mstatus\u001b[0m=\u001b[32m'completed'\u001b[0m\n",
       "        \u001b[1m)\u001b[0m\n",
       "    \u001b[1m]\u001b[0m,\n",
       "    \u001b[33mparallel_tool_calls\u001b[0m=\u001b[3;92mTrue\u001b[0m,\n",
       "    \u001b[33mtemperature\u001b[0m=\u001b[1;36m1\u001b[0m\u001b[1;36m.0\u001b[0m,\n",
       "    \u001b[33mtool_choice\u001b[0m=\u001b[32m'auto'\u001b[0m,\n",
       "    \u001b[33mtools\u001b[0m=\u001b[1m[\u001b[0m\n",
       "        \u001b[1;35mFunctionTool\u001b[0m\u001b[1m(\u001b[0m\n",
       "            \u001b[33mname\u001b[0m=\u001b[32m'get_weather'\u001b[0m,\n",
       "            \u001b[33mparameters\u001b[0m=\u001b[1m{\u001b[0m\u001b[32m'type'\u001b[0m: \u001b[32m'object'\u001b[0m, \u001b[32m'properties'\u001b[0m: \u001b[1m{\u001b[0m\u001b[1m}\u001b[0m\u001b[1m}\u001b[0m,\n",
       "            \u001b[33mstrict\u001b[0m=\u001b[3;92mTrue\u001b[0m,\n",
       "            \u001b[33mtype\u001b[0m=\u001b[32m'function'\u001b[0m,\n",
       "            \u001b[33mdescription\u001b[0m=\u001b[3;35mNone\u001b[0m\n",
       "        \u001b[1m)\u001b[0m\n",
       "    \u001b[1m]\u001b[0m,\n",
       "    \u001b[33mtop_p\u001b[0m=\u001b[1;36m1\u001b[0m\u001b[1;36m.0\u001b[0m,\n",
       "    \u001b[33mmax_output_tokens\u001b[0m=\u001b[3;35mNone\u001b[0m,\n",
       "    \u001b[33mprevious_response_id\u001b[0m=\u001b[3;35mNone\u001b[0m,\n",
       "    \u001b[33mreasoning\u001b[0m=\u001b[1;35mReasoning\u001b[0m\u001b[1m(\u001b[0m\u001b[33meffort\u001b[0m=\u001b[3;35mNone\u001b[0m, \u001b[33mgenerate_summary\u001b[0m=\u001b[3;35mNone\u001b[0m, \u001b[33msummary\u001b[0m=\u001b[3;35mNone\u001b[0m\u001b[1m)\u001b[0m,\n",
       "    \u001b[33mservice_tier\u001b[0m=\u001b[32m'default'\u001b[0m,\n",
       "    \u001b[33mstatus\u001b[0m=\u001b[32m'completed'\u001b[0m,\n",
       "    \u001b[33mtext\u001b[0m=\u001b[1;35mResponseTextConfig\u001b[0m\u001b[1m(\u001b[0m\u001b[33mformat\u001b[0m=\u001b[1;35mResponseFormatText\u001b[0m\u001b[1m(\u001b[0m\u001b[33mtype\u001b[0m=\u001b[32m'text'\u001b[0m\u001b[1m)\u001b[0m\u001b[1m)\u001b[0m,\n",
       "    \u001b[33mtruncation\u001b[0m=\u001b[32m'disabled'\u001b[0m,\n",
       "    \u001b[33musage\u001b[0m=\u001b[1;35mResponseUsage\u001b[0m\u001b[1m(\u001b[0m\n",
       "        \u001b[33minput_tokens\u001b[0m=\u001b[1;36m34\u001b[0m,\n",
       "        \u001b[33minput_tokens_details\u001b[0m=\u001b[1;35mInputTokensDetails\u001b[0m\u001b[1m(\u001b[0m\u001b[33mcached_tokens\u001b[0m=\u001b[1;36m0\u001b[0m\u001b[1m)\u001b[0m,\n",
       "        \u001b[33moutput_tokens\u001b[0m=\u001b[1;36m11\u001b[0m,\n",
       "        \u001b[33moutput_tokens_details\u001b[0m=\u001b[1;35mOutputTokensDetails\u001b[0m\u001b[1m(\u001b[0m\u001b[33mreasoning_tokens\u001b[0m=\u001b[1;36m0\u001b[0m\u001b[1m)\u001b[0m,\n",
       "        \u001b[33mtotal_tokens\u001b[0m=\u001b[1;36m45\u001b[0m\n",
       "    \u001b[1m)\u001b[0m,\n",
       "    \u001b[33muser\u001b[0m=\u001b[3;35mNone\u001b[0m,\n",
       "    \u001b[33mstore\u001b[0m=\u001b[3;92mTrue\u001b[0m\n",
       "\u001b[1m)\u001b[0m\n"
      ]
     },
     "metadata": {},
     "output_type": "display_data"
    }
   ],
   "source": [
    "print(response)"
   ]
  },
  {
   "cell_type": "code",
   "execution_count": 9,
   "id": "be1d0e94-c2d1-48c6-b6ad-a5148dab6f49",
   "metadata": {},
   "outputs": [
    {
     "data": {
      "text/html": [
       "<pre style=\"white-space:pre;overflow-x:auto;line-height:normal;font-family:Menlo,'DejaVu Sans Mono',consolas,'Courier New',monospace\"><span style=\"color: #800080; text-decoration-color: #800080; font-weight: bold\">ResponseFunctionToolCall</span><span style=\"font-weight: bold\">(</span>\n",
       "    <span style=\"color: #808000; text-decoration-color: #808000\">arguments</span>=<span style=\"color: #008000; text-decoration-color: #008000\">'{}'</span>,\n",
       "    <span style=\"color: #808000; text-decoration-color: #808000\">call_id</span>=<span style=\"color: #008000; text-decoration-color: #008000\">'call_gFyZN1efODdVpsubd8FZYsVI'</span>,\n",
       "    <span style=\"color: #808000; text-decoration-color: #808000\">name</span>=<span style=\"color: #008000; text-decoration-color: #008000\">'get_weather'</span>,\n",
       "    <span style=\"color: #808000; text-decoration-color: #808000\">type</span>=<span style=\"color: #008000; text-decoration-color: #008000\">'function_call'</span>,\n",
       "    <span style=\"color: #808000; text-decoration-color: #808000\">id</span>=<span style=\"color: #008000; text-decoration-color: #008000\">'fc_6829adb7b790819184f3b7c56e46e29d0a7b4c619524b64b'</span>,\n",
       "    <span style=\"color: #808000; text-decoration-color: #808000\">status</span>=<span style=\"color: #008000; text-decoration-color: #008000\">'completed'</span>\n",
       "<span style=\"font-weight: bold\">)</span>\n",
       "</pre>\n"
      ],
      "text/plain": [
       "\u001b[1;35mResponseFunctionToolCall\u001b[0m\u001b[1m(\u001b[0m\n",
       "    \u001b[33marguments\u001b[0m=\u001b[32m'\u001b[0m\u001b[32m{\u001b[0m\u001b[32m}\u001b[0m\u001b[32m'\u001b[0m,\n",
       "    \u001b[33mcall_id\u001b[0m=\u001b[32m'call_gFyZN1efODdVpsubd8FZYsVI'\u001b[0m,\n",
       "    \u001b[33mname\u001b[0m=\u001b[32m'get_weather'\u001b[0m,\n",
       "    \u001b[33mtype\u001b[0m=\u001b[32m'function_call'\u001b[0m,\n",
       "    \u001b[33mid\u001b[0m=\u001b[32m'fc_6829adb7b790819184f3b7c56e46e29d0a7b4c619524b64b'\u001b[0m,\n",
       "    \u001b[33mstatus\u001b[0m=\u001b[32m'completed'\u001b[0m\n",
       "\u001b[1m)\u001b[0m\n"
      ]
     },
     "metadata": {},
     "output_type": "display_data"
    }
   ],
   "source": [
    "print(response.output[0])"
   ]
  },
  {
   "cell_type": "code",
   "execution_count": 10,
   "id": "07fdbd30-64c6-46b3-8c3b-cdc7c065ccae",
   "metadata": {},
   "outputs": [],
   "source": [
    "tools = [\n",
    "    {\n",
    "        \"type\": \"function\",\n",
    "        \"name\": \"get_weather\",\n",
    "        \"function\": {\n",
    "            \"name\": \"get_weather\",\n",
    "            \"description\": \"Get current temperature for a given location.\",\n",
    "            \"parameters\": {\n",
    "                \"type\": \"object\",\n",
    "                \"properties\": {\n",
    "                    \"location\": {\n",
    "                        \"type\": \"string\",\n",
    "                        \"description\": \"City and country e.g. Bogotá, Colombia\"\n",
    "                    }\n",
    "                },\n",
    "                \"required\": [\"location\"],\n",
    "                \"additionalProperties\": False\n",
    "            },\n",
    "            \"strict\": True\n",
    "        }\n",
    "    },\n",
    "    {\n",
    "        \"type\": \"function\",\n",
    "        \"name\": \"get_time\",\n",
    "        \"function\": {\n",
    "            \"name\": \"get_time\",\n",
    "            \"description\": \"Get current local time for a given location.\",\n",
    "            \"parameters\": {\n",
    "                \"type\": \"object\",\n",
    "                \"properties\": {\n",
    "                    \"location\": {\n",
    "                        \"type\": \"string\",\n",
    "                        \"description\": \"City and country e.g. Tokyo, Japan\"\n",
    "                    }\n",
    "                },\n",
    "                \"required\": [\"location\"],\n",
    "                \"additionalProperties\": False\n",
    "            },\n",
    "            \"strict\": True\n",
    "        }\n",
    "    }\n",
    "]\n"
   ]
  },
  {
   "cell_type": "code",
   "execution_count": 11,
   "id": "b47bcaed-93df-423c-a6c7-c60b5374cf91",
   "metadata": {},
   "outputs": [],
   "source": [
    "response = client.responses.create(\n",
    "    model=\"gpt-4.1\",\n",
    "    input=[{\"role\": \"user\", \"content\": \"What is the weather like in Paris today?\"}],\n",
    "    tools=tools\n",
    ")"
   ]
  },
  {
   "cell_type": "code",
   "execution_count": 12,
   "id": "b2cd4dcd-337b-446b-bd61-93e092a86078",
   "metadata": {},
   "outputs": [
    {
     "data": {
      "text/html": [
       "<pre style=\"white-space:pre;overflow-x:auto;line-height:normal;font-family:Menlo,'DejaVu Sans Mono',consolas,'Courier New',monospace\"><span style=\"color: #800080; text-decoration-color: #800080; font-weight: bold\">ResponseFunctionToolCall</span><span style=\"font-weight: bold\">(</span>\n",
       "    <span style=\"color: #808000; text-decoration-color: #808000\">arguments</span>=<span style=\"color: #008000; text-decoration-color: #008000\">'{}'</span>,\n",
       "    <span style=\"color: #808000; text-decoration-color: #808000\">call_id</span>=<span style=\"color: #008000; text-decoration-color: #008000\">'call_gHJPeKrZ7o4C2BZ6GXxd5zRc'</span>,\n",
       "    <span style=\"color: #808000; text-decoration-color: #808000\">name</span>=<span style=\"color: #008000; text-decoration-color: #008000\">'get_weather'</span>,\n",
       "    <span style=\"color: #808000; text-decoration-color: #808000\">type</span>=<span style=\"color: #008000; text-decoration-color: #008000\">'function_call'</span>,\n",
       "    <span style=\"color: #808000; text-decoration-color: #808000\">id</span>=<span style=\"color: #008000; text-decoration-color: #008000\">'fc_6829adf44978819195219e560e579346006105ab13e483e5'</span>,\n",
       "    <span style=\"color: #808000; text-decoration-color: #808000\">status</span>=<span style=\"color: #008000; text-decoration-color: #008000\">'completed'</span>\n",
       "<span style=\"font-weight: bold\">)</span>\n",
       "</pre>\n"
      ],
      "text/plain": [
       "\u001b[1;35mResponseFunctionToolCall\u001b[0m\u001b[1m(\u001b[0m\n",
       "    \u001b[33marguments\u001b[0m=\u001b[32m'\u001b[0m\u001b[32m{\u001b[0m\u001b[32m}\u001b[0m\u001b[32m'\u001b[0m,\n",
       "    \u001b[33mcall_id\u001b[0m=\u001b[32m'call_gHJPeKrZ7o4C2BZ6GXxd5zRc'\u001b[0m,\n",
       "    \u001b[33mname\u001b[0m=\u001b[32m'get_weather'\u001b[0m,\n",
       "    \u001b[33mtype\u001b[0m=\u001b[32m'function_call'\u001b[0m,\n",
       "    \u001b[33mid\u001b[0m=\u001b[32m'fc_6829adf44978819195219e560e579346006105ab13e483e5'\u001b[0m,\n",
       "    \u001b[33mstatus\u001b[0m=\u001b[32m'completed'\u001b[0m\n",
       "\u001b[1m)\u001b[0m\n"
      ]
     },
     "metadata": {},
     "output_type": "display_data"
    }
   ],
   "source": [
    "print(response.output[0])"
   ]
  },
  {
   "cell_type": "code",
   "execution_count": 13,
   "id": "7b2151d0-2660-4da3-b79c-3d1804264224",
   "metadata": {},
   "outputs": [],
   "source": [
    "response = client.responses.create(\n",
    "    model=\"gpt-4.1\",\n",
    "    input=[{\"role\": \"user\", \"content\": \"What is the time in London now?\"}],\n",
    "    tools=tools\n",
    ")"
   ]
  },
  {
   "cell_type": "code",
   "execution_count": 14,
   "id": "0421ec2f-c2b4-4489-a19b-2b00c0db76f3",
   "metadata": {},
   "outputs": [
    {
     "data": {
      "text/html": [
       "<pre style=\"white-space:pre;overflow-x:auto;line-height:normal;font-family:Menlo,'DejaVu Sans Mono',consolas,'Courier New',monospace\"><span style=\"color: #800080; text-decoration-color: #800080; font-weight: bold\">ResponseFunctionToolCall</span><span style=\"font-weight: bold\">(</span>\n",
       "    <span style=\"color: #808000; text-decoration-color: #808000\">arguments</span>=<span style=\"color: #008000; text-decoration-color: #008000\">'{}'</span>,\n",
       "    <span style=\"color: #808000; text-decoration-color: #808000\">call_id</span>=<span style=\"color: #008000; text-decoration-color: #008000\">'call_SefI27xGtyYXUoGjE3HGwWth'</span>,\n",
       "    <span style=\"color: #808000; text-decoration-color: #808000\">name</span>=<span style=\"color: #008000; text-decoration-color: #008000\">'get_time'</span>,\n",
       "    <span style=\"color: #808000; text-decoration-color: #808000\">type</span>=<span style=\"color: #008000; text-decoration-color: #008000\">'function_call'</span>,\n",
       "    <span style=\"color: #808000; text-decoration-color: #808000\">id</span>=<span style=\"color: #008000; text-decoration-color: #008000\">'fc_6829adfca2948191a1094f970c78cd6b0f918e83fa3e4349'</span>,\n",
       "    <span style=\"color: #808000; text-decoration-color: #808000\">status</span>=<span style=\"color: #008000; text-decoration-color: #008000\">'completed'</span>\n",
       "<span style=\"font-weight: bold\">)</span>\n",
       "</pre>\n"
      ],
      "text/plain": [
       "\u001b[1;35mResponseFunctionToolCall\u001b[0m\u001b[1m(\u001b[0m\n",
       "    \u001b[33marguments\u001b[0m=\u001b[32m'\u001b[0m\u001b[32m{\u001b[0m\u001b[32m}\u001b[0m\u001b[32m'\u001b[0m,\n",
       "    \u001b[33mcall_id\u001b[0m=\u001b[32m'call_SefI27xGtyYXUoGjE3HGwWth'\u001b[0m,\n",
       "    \u001b[33mname\u001b[0m=\u001b[32m'get_time'\u001b[0m,\n",
       "    \u001b[33mtype\u001b[0m=\u001b[32m'function_call'\u001b[0m,\n",
       "    \u001b[33mid\u001b[0m=\u001b[32m'fc_6829adfca2948191a1094f970c78cd6b0f918e83fa3e4349'\u001b[0m,\n",
       "    \u001b[33mstatus\u001b[0m=\u001b[32m'completed'\u001b[0m\n",
       "\u001b[1m)\u001b[0m\n"
      ]
     },
     "metadata": {},
     "output_type": "display_data"
    }
   ],
   "source": [
    "print(response.output[0])"
   ]
  },
  {
   "cell_type": "code",
   "execution_count": 15,
   "id": "5d25d171-88a5-421c-b371-6c210228a323",
   "metadata": {},
   "outputs": [],
   "source": [
    "response = client.responses.create(\n",
    "    model=\"gpt-3.5-turbo\",\n",
    "    input=[{\"role\": \"user\", \"content\": \"What is the time in London now?\"}],\n",
    "    tools=tools\n",
    ")"
   ]
  },
  {
   "cell_type": "code",
   "execution_count": 16,
   "id": "0d79d639-8d0d-4f04-9041-669640615b89",
   "metadata": {},
   "outputs": [
    {
     "data": {
      "text/html": [
       "<pre style=\"white-space:pre;overflow-x:auto;line-height:normal;font-family:Menlo,'DejaVu Sans Mono',consolas,'Courier New',monospace\"><span style=\"color: #800080; text-decoration-color: #800080; font-weight: bold\">ResponseFunctionToolCall</span><span style=\"font-weight: bold\">(</span>\n",
       "    <span style=\"color: #808000; text-decoration-color: #808000\">arguments</span>=<span style=\"color: #008000; text-decoration-color: #008000\">'{}'</span>,\n",
       "    <span style=\"color: #808000; text-decoration-color: #808000\">call_id</span>=<span style=\"color: #008000; text-decoration-color: #008000\">'call_mnPgodKZFX6jFmFPdCwopGcH'</span>,\n",
       "    <span style=\"color: #808000; text-decoration-color: #808000\">name</span>=<span style=\"color: #008000; text-decoration-color: #008000\">'get_time'</span>,\n",
       "    <span style=\"color: #808000; text-decoration-color: #808000\">type</span>=<span style=\"color: #008000; text-decoration-color: #008000\">'function_call'</span>,\n",
       "    <span style=\"color: #808000; text-decoration-color: #808000\">id</span>=<span style=\"color: #008000; text-decoration-color: #008000\">'fc_6829ae0bdf4c8191bf94c9f24aad8f44027ae6f318830565'</span>,\n",
       "    <span style=\"color: #808000; text-decoration-color: #808000\">status</span>=<span style=\"color: #008000; text-decoration-color: #008000\">'completed'</span>\n",
       "<span style=\"font-weight: bold\">)</span>\n",
       "</pre>\n"
      ],
      "text/plain": [
       "\u001b[1;35mResponseFunctionToolCall\u001b[0m\u001b[1m(\u001b[0m\n",
       "    \u001b[33marguments\u001b[0m=\u001b[32m'\u001b[0m\u001b[32m{\u001b[0m\u001b[32m}\u001b[0m\u001b[32m'\u001b[0m,\n",
       "    \u001b[33mcall_id\u001b[0m=\u001b[32m'call_mnPgodKZFX6jFmFPdCwopGcH'\u001b[0m,\n",
       "    \u001b[33mname\u001b[0m=\u001b[32m'get_time'\u001b[0m,\n",
       "    \u001b[33mtype\u001b[0m=\u001b[32m'function_call'\u001b[0m,\n",
       "    \u001b[33mid\u001b[0m=\u001b[32m'fc_6829ae0bdf4c8191bf94c9f24aad8f44027ae6f318830565'\u001b[0m,\n",
       "    \u001b[33mstatus\u001b[0m=\u001b[32m'completed'\u001b[0m\n",
       "\u001b[1m)\u001b[0m\n"
      ]
     },
     "metadata": {},
     "output_type": "display_data"
    }
   ],
   "source": [
    "print(response.output[0])"
   ]
  },
  {
   "cell_type": "code",
   "execution_count": 17,
   "id": "d7f5e1f0-40e3-4093-ba36-cb9cceee6c4e",
   "metadata": {},
   "outputs": [],
   "source": [
    "response = client.responses.create(\n",
    "    model=\"gpt-3.5-turbo\",\n",
    "    input=[{\"role\": \"user\", \"content\": \"What can we add to the lasagna?\"}],\n",
    "    tools=tools\n",
    ")"
   ]
  },
  {
   "cell_type": "code",
   "execution_count": 18,
   "id": "57d92881-ed18-4308-a186-bae0ee741c83",
   "metadata": {},
   "outputs": [
    {
     "data": {
      "text/html": [
       "<pre style=\"white-space:pre;overflow-x:auto;line-height:normal;font-family:Menlo,'DejaVu Sans Mono',consolas,'Courier New',monospace\"><span style=\"color: #800080; text-decoration-color: #800080; font-weight: bold\">ResponseOutputMessage</span><span style=\"font-weight: bold\">(</span>\n",
       "    <span style=\"color: #808000; text-decoration-color: #808000\">id</span>=<span style=\"color: #008000; text-decoration-color: #008000\">'msg_6829ae177e648191b8a03daaa198b23606369ac5e1dc348a'</span>,\n",
       "    <span style=\"color: #808000; text-decoration-color: #808000\">content</span>=<span style=\"font-weight: bold\">[</span>\n",
       "        <span style=\"color: #800080; text-decoration-color: #800080; font-weight: bold\">ResponseOutputText</span><span style=\"font-weight: bold\">(</span>\n",
       "            <span style=\"color: #808000; text-decoration-color: #808000\">annotations</span>=<span style=\"font-weight: bold\">[]</span>,\n",
       "            <span style=\"color: #808000; text-decoration-color: #808000\">text</span>=<span style=\"color: #008000; text-decoration-color: #008000\">'To provide you with some suggestions on what can be added to lasagna, I can look up the current </span>\n",
       "<span style=\"color: #008000; text-decoration-color: #008000\">weather and time to offer recommendations based on that information. Shall we proceed with that?'</span>,\n",
       "            <span style=\"color: #808000; text-decoration-color: #808000\">type</span>=<span style=\"color: #008000; text-decoration-color: #008000\">'output_text'</span>\n",
       "        <span style=\"font-weight: bold\">)</span>\n",
       "    <span style=\"font-weight: bold\">]</span>,\n",
       "    <span style=\"color: #808000; text-decoration-color: #808000\">role</span>=<span style=\"color: #008000; text-decoration-color: #008000\">'assistant'</span>,\n",
       "    <span style=\"color: #808000; text-decoration-color: #808000\">status</span>=<span style=\"color: #008000; text-decoration-color: #008000\">'completed'</span>,\n",
       "    <span style=\"color: #808000; text-decoration-color: #808000\">type</span>=<span style=\"color: #008000; text-decoration-color: #008000\">'message'</span>\n",
       "<span style=\"font-weight: bold\">)</span>\n",
       "</pre>\n"
      ],
      "text/plain": [
       "\u001b[1;35mResponseOutputMessage\u001b[0m\u001b[1m(\u001b[0m\n",
       "    \u001b[33mid\u001b[0m=\u001b[32m'msg_6829ae177e648191b8a03daaa198b23606369ac5e1dc348a'\u001b[0m,\n",
       "    \u001b[33mcontent\u001b[0m=\u001b[1m[\u001b[0m\n",
       "        \u001b[1;35mResponseOutputText\u001b[0m\u001b[1m(\u001b[0m\n",
       "            \u001b[33mannotations\u001b[0m=\u001b[1m[\u001b[0m\u001b[1m]\u001b[0m,\n",
       "            \u001b[33mtext\u001b[0m=\u001b[32m'To provide you with some suggestions on what can be added to lasagna, I can look up the current \u001b[0m\n",
       "\u001b[32mweather and time to offer recommendations based on that information. Shall we proceed with that?'\u001b[0m,\n",
       "            \u001b[33mtype\u001b[0m=\u001b[32m'output_text'\u001b[0m\n",
       "        \u001b[1m)\u001b[0m\n",
       "    \u001b[1m]\u001b[0m,\n",
       "    \u001b[33mrole\u001b[0m=\u001b[32m'assistant'\u001b[0m,\n",
       "    \u001b[33mstatus\u001b[0m=\u001b[32m'completed'\u001b[0m,\n",
       "    \u001b[33mtype\u001b[0m=\u001b[32m'message'\u001b[0m\n",
       "\u001b[1m)\u001b[0m\n"
      ]
     },
     "metadata": {},
     "output_type": "display_data"
    }
   ],
   "source": [
    "print(response.output[0])"
   ]
  },
  {
   "cell_type": "markdown",
   "id": "e863c36f-a60b-485b-b774-a159f66bcd03",
   "metadata": {},
   "source": [
    "The actual function can be written like this:"
   ]
  },
  {
   "cell_type": "code",
   "execution_count": 19,
   "id": "352eda32-99ba-44bb-bb91-706490922b98",
   "metadata": {},
   "outputs": [],
   "source": [
    "import requests\n",
    "\n",
    "def get_weather_api(latitude, longitude):\n",
    "    response = requests.get(f\"https://api.open-meteo.com/v1/forecast?latitude={latitude}&longitude={longitude}&current=temperature_2m,wind_speed_10m&hourly=temperature_2m,relative_humidity_2m,wind_speed_10m\")\n",
    "    data = response.json()\n",
    "    return data['current']['temperature_2m']"
   ]
  },
  {
   "cell_type": "code",
   "execution_count": 20,
   "id": "93922ccc-ccc4-4849-ace1-67dcfbd0e328",
   "metadata": {},
   "outputs": [],
   "source": [
    "tools = [{\n",
    "    \"type\": \"function\",\n",
    "    \"name\": \"get_weather_api\",\n",
    "    \"description\": \"Get current temperature for provided coordinates in celsius.\",\n",
    "    \"parameters\": {\n",
    "        \"type\": \"object\",\n",
    "        \"properties\": {\n",
    "            \"latitude\": {\"type\": \"number\"},\n",
    "            \"longitude\": {\"type\": \"number\"}\n",
    "        },\n",
    "        \"required\": [\"latitude\", \"longitude\"],\n",
    "        \"additionalProperties\": False\n",
    "    },\n",
    "    \"strict\": True\n",
    "}]"
   ]
  },
  {
   "cell_type": "code",
   "execution_count": 21,
   "id": "74571f63-1bb5-4274-ac94-ed1877fb1a1d",
   "metadata": {},
   "outputs": [],
   "source": [
    "input_messages = [{\"role\": \"user\", \"content\": \"What's the weather like in Paris today?\"}]\n",
    "\n",
    "response = client.responses.create(\n",
    "    model=\"gpt-3.5-turbo\",\n",
    "    input=input_messages,\n",
    "    tools=tools)"
   ]
  },
  {
   "cell_type": "markdown",
   "id": "8a964d45-640d-44ce-9990-b38a0f69b475",
   "metadata": {},
   "source": [
    "1. LLM call routes to the function available"
   ]
  },
  {
   "cell_type": "code",
   "execution_count": 22,
   "id": "af8086e9-0fef-46e8-94e9-aebe79406bd3",
   "metadata": {},
   "outputs": [
    {
     "data": {
      "text/html": [
       "<pre style=\"white-space:pre;overflow-x:auto;line-height:normal;font-family:Menlo,'DejaVu Sans Mono',consolas,'Courier New',monospace\"><span style=\"color: #800080; text-decoration-color: #800080; font-weight: bold\">ResponseFunctionToolCall</span><span style=\"font-weight: bold\">(</span>\n",
       "    <span style=\"color: #808000; text-decoration-color: #808000\">arguments</span>=<span style=\"color: #008000; text-decoration-color: #008000\">'{\"latitude\":48.8566,\"longitude\":2.3522}'</span>,\n",
       "    <span style=\"color: #808000; text-decoration-color: #808000\">call_id</span>=<span style=\"color: #008000; text-decoration-color: #008000\">'call_rAZqrluGwz2yJcFl5LIKfSjr'</span>,\n",
       "    <span style=\"color: #808000; text-decoration-color: #808000\">name</span>=<span style=\"color: #008000; text-decoration-color: #008000\">'get_weather_api'</span>,\n",
       "    <span style=\"color: #808000; text-decoration-color: #808000\">type</span>=<span style=\"color: #008000; text-decoration-color: #008000\">'function_call'</span>,\n",
       "    <span style=\"color: #808000; text-decoration-color: #808000\">id</span>=<span style=\"color: #008000; text-decoration-color: #008000\">'fc_6829ae3a08d88191ab045d7d9ede04e70fab595beb736913'</span>,\n",
       "    <span style=\"color: #808000; text-decoration-color: #808000\">status</span>=<span style=\"color: #008000; text-decoration-color: #008000\">'completed'</span>\n",
       "<span style=\"font-weight: bold\">)</span>\n",
       "</pre>\n"
      ],
      "text/plain": [
       "\u001b[1;35mResponseFunctionToolCall\u001b[0m\u001b[1m(\u001b[0m\n",
       "    \u001b[33marguments\u001b[0m=\u001b[32m'\u001b[0m\u001b[32m{\u001b[0m\u001b[32m\"latitude\":48.8566,\"longitude\":2.3522\u001b[0m\u001b[32m}\u001b[0m\u001b[32m'\u001b[0m,\n",
       "    \u001b[33mcall_id\u001b[0m=\u001b[32m'call_rAZqrluGwz2yJcFl5LIKfSjr'\u001b[0m,\n",
       "    \u001b[33mname\u001b[0m=\u001b[32m'get_weather_api'\u001b[0m,\n",
       "    \u001b[33mtype\u001b[0m=\u001b[32m'function_call'\u001b[0m,\n",
       "    \u001b[33mid\u001b[0m=\u001b[32m'fc_6829ae3a08d88191ab045d7d9ede04e70fab595beb736913'\u001b[0m,\n",
       "    \u001b[33mstatus\u001b[0m=\u001b[32m'completed'\u001b[0m\n",
       "\u001b[1m)\u001b[0m\n"
      ]
     },
     "metadata": {},
     "output_type": "display_data"
    }
   ],
   "source": [
    "print(response.output[0])"
   ]
  },
  {
   "cell_type": "code",
   "execution_count": 23,
   "id": "99ee1d88-5869-45da-b433-6cb5aee96151",
   "metadata": {},
   "outputs": [],
   "source": [
    "import json \n",
    "\n",
    "tool_call = response.output[0]\n",
    "args = json.loads(tool_call.arguments)"
   ]
  },
  {
   "cell_type": "code",
   "execution_count": 24,
   "id": "29bf3043-effa-4a53-98fb-e79bde183bfc",
   "metadata": {},
   "outputs": [
    {
     "data": {
      "text/plain": [
       "{'latitude': 48.8566, 'longitude': 2.3522}"
      ]
     },
     "execution_count": 24,
     "metadata": {},
     "output_type": "execute_result"
    }
   ],
   "source": [
    "args"
   ]
  },
  {
   "cell_type": "markdown",
   "id": "11363858-6a61-4373-bd04-7f87c469104f",
   "metadata": {},
   "source": [
    "2. Calling the actual function (with the API)"
   ]
  },
  {
   "cell_type": "code",
   "execution_count": 25,
   "id": "11fd47d1-99ca-4a26-9541-3317cc1bff2a",
   "metadata": {},
   "outputs": [],
   "source": [
    "result = get_weather_api(args[\"latitude\"], args[\"longitude\"])"
   ]
  },
  {
   "cell_type": "code",
   "execution_count": 26,
   "id": "61cbbce8-c3ed-43b4-acd5-b9944720d48a",
   "metadata": {},
   "outputs": [
    {
     "data": {
      "text/plain": [
       "15.8"
      ]
     },
     "execution_count": 26,
     "metadata": {},
     "output_type": "execute_result"
    }
   ],
   "source": [
    "result"
   ]
  },
  {
   "cell_type": "markdown",
   "id": "2175ef07-4291-4fdb-9238-25c026cce1f6",
   "metadata": {},
   "source": [
    "3. 2nd LLM call to actually get the final output."
   ]
  },
  {
   "cell_type": "code",
   "execution_count": 27,
   "id": "9a8ad2f1-8395-4fe4-8e46-8c29e4043bad",
   "metadata": {},
   "outputs": [],
   "source": [
    "input_messages.append(tool_call)\n",
    "input_messages.append({\n",
    "    \"type\": \"function_call_output\",\n",
    "    \"call_id\": tool_call.call_id,\n",
    "    \"output\": str(result)\n",
    "})"
   ]
  },
  {
   "cell_type": "code",
   "execution_count": 28,
   "id": "47d967f8-31af-4c63-87b2-15b879a3749e",
   "metadata": {},
   "outputs": [
    {
     "data": {
      "text/plain": [
       "[{'role': 'user', 'content': \"What's the weather like in Paris today?\"},\n",
       " ResponseFunctionToolCall(arguments='{\"latitude\":48.8566,\"longitude\":2.3522}', call_id='call_rAZqrluGwz2yJcFl5LIKfSjr', name='get_weather_api', type='function_call', id='fc_6829ae3a08d88191ab045d7d9ede04e70fab595beb736913', status='completed'),\n",
       " {'type': 'function_call_output',\n",
       "  'call_id': 'call_rAZqrluGwz2yJcFl5LIKfSjr',\n",
       "  'output': '15.8'}]"
      ]
     },
     "execution_count": 28,
     "metadata": {},
     "output_type": "execute_result"
    }
   ],
   "source": [
    "input_messages"
   ]
  },
  {
   "cell_type": "code",
   "execution_count": 29,
   "id": "c404bbf3-7e92-41dd-ba73-562ff966bd4c",
   "metadata": {},
   "outputs": [
    {
     "data": {
      "text/html": [
       "<pre style=\"white-space:pre;overflow-x:auto;line-height:normal;font-family:Menlo,'DejaVu Sans Mono',consolas,'Courier New',monospace\">The current temperature in Paris is approximately <span style=\"color: #008080; text-decoration-color: #008080; font-weight: bold\">15.8</span>°C today. If you need more specific details, like weather \n",
       "conditions <span style=\"font-weight: bold\">(</span>rain, sun, wind<span style=\"font-weight: bold\">)</span>, let me know!\n",
       "</pre>\n"
      ],
      "text/plain": [
       "The current temperature in Paris is approximately \u001b[1;36m15.8\u001b[0m°C today. If you need more specific details, like weather \n",
       "conditions \u001b[1m(\u001b[0mrain, sun, wind\u001b[1m)\u001b[0m, let me know!\n"
      ]
     },
     "metadata": {},
     "output_type": "display_data"
    }
   ],
   "source": [
    "response_2 = client.responses.create(\n",
    "    model=\"gpt-4.1\",\n",
    "    input=input_messages,\n",
    "    tools=tools,\n",
    ")\n",
    "print(response_2.output_text)"
   ]
  },
  {
   "cell_type": "markdown",
   "id": "1b3b0d8f-fce8-40c1-8feb-3886a099edfc",
   "metadata": {},
   "source": [
    "Writing the function schemas is deadass boring job plus there's a high chance that we might do a mistake (even an LLM). Also, big sore point is that you have to do all the tasks. The LLM is just there to tell you, \"Hey, use this function. Execute and tell me the output\".\n",
    "\n",
    "We can wrap it up into decoraters like below:"
   ]
  },
  {
   "cell_type": "code",
   "execution_count": 30,
   "id": "1fd7f65c-1025-4478-95d7-7b11cb0ddd30",
   "metadata": {},
   "outputs": [],
   "source": [
    "import json\n",
    "import inspect\n",
    "from typing import Any, Callable, Dict, List, Optional, Union\n",
    "import openai\n",
    "\n",
    "class ToolBasedChatCompleter:\n",
    "    \"\"\"\n",
    "    A chat completion class that supports tool calling with the OpenAI API.\n",
    "    This combines both the ChatCompleter and Tool functionality into one class.\n",
    "    \"\"\"\n",
    "    \n",
    "    def __init__(self, model: str, api_key: str):\n",
    "        \"\"\"\n",
    "        Initialize the ToolBasedChatCompleter with the given model and API key.\n",
    "        \n",
    "        Args:\n",
    "            model: The model to use for chat completion.\n",
    "            api_key: The OpenAI API key.\n",
    "        \"\"\"\n",
    "        self.model = model\n",
    "        self.api_key = api_key\n",
    "        self.client = openai.OpenAI(api_key=self.api_key)\n",
    "        self.tools = {}\n",
    "    \n",
    "    def register_tool(self, description: str = None):\n",
    "        \"\"\"\n",
    "        Decorator to register a tool (function) with the completer.\n",
    "        \n",
    "        Args:\n",
    "            description: A description of what the tool does.\n",
    "            \n",
    "        Returns:\n",
    "            A decorator function that registers the decorated function as a tool.\n",
    "        \"\"\"\n",
    "        def decorator(func: Callable):\n",
    "            sig = inspect.signature(func)\n",
    "            properties = {}\n",
    "            for name, param in sig.parameters.items():\n",
    "                if param.annotation is inspect.Parameter.empty:\n",
    "                    properties[name] = {\"type\": \"string\"}\n",
    "                elif param.annotation == str:\n",
    "                    properties[name] = {\"type\": \"string\"}\n",
    "                elif param.annotation == int:\n",
    "                    properties[name] = {\"type\": \"integer\"}\n",
    "                elif param.annotation == float:\n",
    "                    properties[name] = {\"type\": \"number\"}\n",
    "                elif param.annotation == bool:\n",
    "                    properties[name] = {\"type\": \"boolean\"}\n",
    "                else:\n",
    "                    properties[name] = {\"type\": \"string\"}\n",
    "            \n",
    "            required = [name for name in sig.parameters]\n",
    "            \n",
    "            tool_desc = description or func.__doc__ or f\"Call the {func.__name__} function\"\n",
    "            \n",
    "            self.tools[func.__name__] = {\n",
    "                \"type\": \"function\",\n",
    "                \"function\": {\n",
    "                    \"name\": func.__name__,\n",
    "                    \"description\": tool_desc,\n",
    "                    \"parameters\": {\n",
    "                        \"type\": \"object\",\n",
    "                        \"properties\": properties,\n",
    "                        \"required\": required,\n",
    "                    }\n",
    "                },\n",
    "                \"handler\": func\n",
    "            }\n",
    "            return func\n",
    "        return decorator\n",
    "    \n",
    "    def chat(self, messages: List[Dict[str, str]]) -> str:\n",
    "        \"\"\"\n",
    "        Process a chat with the given messages, executing tools as needed.\n",
    "        \n",
    "        Args:\n",
    "            messages: A list of message dictionaries with role and content keys.\n",
    "            \n",
    "        Returns:\n",
    "            The response text, or the result of a tool call.\n",
    "        \"\"\"\n",
    "        # Prepare tools for the API\n",
    "        api_tools = []\n",
    "        for tool_name, tool_info in self.tools.items():\n",
    "            api_tools.append({\n",
    "                \"type\": tool_info[\"type\"],\n",
    "                \"function\": tool_info[\"function\"]\n",
    "            })\n",
    "        \n",
    "        # Call the OpenAI API\n",
    "        response = self.client.chat.completions.create(\n",
    "            model=self.model,\n",
    "            messages=messages,\n",
    "            tools=api_tools if api_tools else None,\n",
    "            tool_choice=\"auto\"\n",
    "        )\n",
    "        \n",
    "        # Process the response\n",
    "        response_message = response.choices[0].message\n",
    "        \n",
    "        # Check if the model wants to call a tool\n",
    "        if response_message.tool_calls:\n",
    "            # Process each tool call\n",
    "            for tool_call in response_message.tool_calls:\n",
    "                function_name = tool_call.function.name\n",
    "                function_args = json.loads(tool_call.function.arguments)\n",
    "                \n",
    "                if function_name in self.tools:\n",
    "                    # Call the handler function\n",
    "                    handler = self.tools[function_name][\"handler\"]\n",
    "                    result = handler(**function_args)\n",
    "                    \n",
    "                    # Add the tool call and result to the messages\n",
    "                    messages.append({\n",
    "                        \"role\": \"assistant\",\n",
    "                        \"content\": None,\n",
    "                        \"tool_calls\": [\n",
    "                            {\n",
    "                                \"id\": tool_call.id,\n",
    "                                \"type\": \"function\",\n",
    "                                \"function\": {\n",
    "                                    \"name\": function_name,\n",
    "                                    \"arguments\": tool_call.function.arguments\n",
    "                                }\n",
    "                            }\n",
    "                        ]\n",
    "                    })\n",
    "                    \n",
    "                    messages.append({\n",
    "                        \"role\": \"tool\",\n",
    "                        \"tool_call_id\": tool_call.id,\n",
    "                        \"content\": str(result)\n",
    "                    })\n",
    "                    \n",
    "                    # Call the API again with the tool result\n",
    "                    return self.chat(messages)\n",
    "                else:\n",
    "                    return f\"Tool {function_name} not found\"\n",
    "        \n",
    "        # Return the text response if no tool calls\n",
    "        return response_message.content"
   ]
  },
  {
   "cell_type": "code",
   "execution_count": 31,
   "id": "f0dcb7c0-0c23-43a5-b252-390c3a3f1f2e",
   "metadata": {},
   "outputs": [],
   "source": [
    "completer = ToolBasedChatCompleter(\n",
    "            model=\"gpt-3.5-turbo\",\n",
    "            api_key=oai_api_key\n",
    "        )"
   ]
  },
  {
   "cell_type": "code",
   "execution_count": 32,
   "id": "45fd54e9-5daa-4cef-9108-2c0eddbf01b3",
   "metadata": {},
   "outputs": [],
   "source": [
    "@completer.register_tool(\"Get temperature for a location\")\n",
    "def get_weather_api(latitude, longitude):\n",
    "    response = requests.get(f\"https://api.open-meteo.com/v1/forecast?latitude={latitude}&longitude={longitude}&current=temperature_2m,wind_speed_10m&hourly=temperature_2m,relative_humidity_2m,wind_speed_10m\")\n",
    "    data = response.json()\n",
    "    return data['current']['temperature_2m']"
   ]
  },
  {
   "cell_type": "code",
   "execution_count": 33,
   "id": "0c5a5af2-a8f3-4681-b447-195b7635a1c4",
   "metadata": {},
   "outputs": [],
   "source": [
    "from datetime import datetime\n",
    "import pytz\n",
    "\n",
    "@completer.register_tool(\"Get current local time for a location\")\n",
    "def get_time(location: str) -> str:\n",
    "    try:\n",
    "        city_to_timezone = {\n",
    "            \"new york\": \"America/New_York\",\n",
    "            \"london\": \"Europe/London\",\n",
    "            \"tokyo\": \"Asia/Tokyo\",\n",
    "            \"paris\": \"Europe/Paris\",\n",
    "        }\n",
    "        \n",
    "        timezone_str = city_to_timezone.get(location.lower(), location)\n",
    "        timezone = pytz.timezone(timezone_str)\n",
    "        \n",
    "        local_time = datetime.now(timezone)\n",
    "        formatted_time = local_time.strftime(\"%I:%M %p\")\n",
    "        \n",
    "        return f\"The local time in {location} is {formatted_time}.\"\n",
    "    \n",
    "    except pytz.exceptions.UnknownTimeZoneError:\n",
    "        return f\"Sorry, couldn't find timezone data for {location}. Please use a valid city name or timezone identifier (e.g. 'America/New_York').\""
   ]
  },
  {
   "cell_type": "code",
   "execution_count": 34,
   "id": "dda9dcb4-c4b1-4f93-a607-910f94e57d5b",
   "metadata": {},
   "outputs": [],
   "source": [
    "messages = [\n",
    "    {\"role\": \"system\", \"content\": \"You are a helpful assistant.\"},\n",
    "    {\"role\": \"user\", \"content\": \"What's the weather like in Paris?\"}\n",
    "]\n",
    "\n",
    "response = completer.chat(messages)"
   ]
  },
  {
   "cell_type": "code",
   "execution_count": 35,
   "id": "d5354746-d4c7-4542-b622-fa33da04fab7",
   "metadata": {},
   "outputs": [
    {
     "data": {
      "text/plain": [
       "'The current temperature in Paris is 15.8°C.'"
      ]
     },
     "execution_count": 35,
     "metadata": {},
     "output_type": "execute_result"
    }
   ],
   "source": [
    "response"
   ]
  },
  {
   "cell_type": "code",
   "execution_count": 36,
   "id": "bc832f47-feac-49ca-8830-68d4f459b566",
   "metadata": {},
   "outputs": [
    {
     "data": {
      "text/html": [
       "<pre style=\"white-space:pre;overflow-x:auto;line-height:normal;font-family:Menlo,'DejaVu Sans Mono',consolas,'Courier New',monospace\">Sorry, I couldn't retrieve the current time for Delhi. Please provide a valid city name or timezone identifier \n",
       "<span style=\"font-weight: bold\">(</span>e.g. <span style=\"color: #008000; text-decoration-color: #008000\">'America/New_York'</span><span style=\"font-weight: bold\">)</span> for me to try again.\n",
       "</pre>\n"
      ],
      "text/plain": [
       "Sorry, I couldn't retrieve the current time for Delhi. Please provide a valid city name or timezone identifier \n",
       "\u001b[1m(\u001b[0me.g. \u001b[32m'America/New_York'\u001b[0m\u001b[1m)\u001b[0m for me to try again.\n"
      ]
     },
     "metadata": {},
     "output_type": "display_data"
    }
   ],
   "source": [
    "messages = [\n",
    "    {\"role\": \"system\", \"content\": \"You are a helpful assistant.\"},\n",
    "    {\"role\": \"user\", \"content\": \"What's the time in Delhi?\"}\n",
    "]\n",
    "\n",
    "response = completer.chat(messages)\n",
    "print(response)"
   ]
  },
  {
   "cell_type": "markdown",
   "id": "2047e535-505c-471b-a7c4-72675be7c015",
   "metadata": {},
   "source": [
    "Now the above is very specific for OpenAI. What if I had to build it for other models? Too much headache to actually go and write a generic API for it. We can do that for academic purposes."
   ]
  },
  {
   "cell_type": "markdown",
   "id": "107d3ef3-f276-4d2d-9779-d9c4ecddda08",
   "metadata": {},
   "source": [
    "Or we can move to higher abstractions that do the same, but with us not breaking our heads.\n",
    "\n",
    "There are a bunch of these:\n",
    "- LangChain\n",
    "- LlamaIndex\n",
    "- smolagents\n",
    "- Pydantic AI\n",
    "\n",
    "All these have good properties. I hate LangChain the most, too many things happening and you tend to marry too much into the API. Similar case with LlamaIndex, but it is still manageable.\n",
    "\n",
    "I like the very bare minimum `smolagents` which has integration with HuggingFace models as well + tool support. `Pydantic AI` might be slightly higher in the complexity curve, but has a lot of good things.\n",
    "\n",
    "Again, choosing a framework is a personal choice. There are pros and cons wrt complexity, token usage and bunch of production constraints. Choose wisely."
   ]
  },
  {
   "cell_type": "markdown",
   "id": "38f2a166-206e-4ec7-b922-32bdcf267209",
   "metadata": {},
   "source": [
    "### smolagents"
   ]
  },
  {
   "cell_type": "markdown",
   "id": "11671398-d46b-4217-8c5b-ce0b28e55787",
   "metadata": {},
   "source": [
    "Definition of an agent:\n",
    "\n",
    "- Agent = LLM (Brain) + Tools (Limbs) + External Information (Organs)\n",
    "\n",
    "We can do the tool call easily with `smolagents` -> `ToolCallingAgent`"
   ]
  },
  {
   "cell_type": "markdown",
   "id": "7cb5ab79-c44f-43fd-a594-67bf43f43721",
   "metadata": {},
   "source": [
    "But first we'll do a simple prompt"
   ]
  },
  {
   "cell_type": "code",
   "execution_count": 37,
   "id": "f55e3180-61f6-46c1-8ceb-67ac32a9649a",
   "metadata": {},
   "outputs": [],
   "source": [
    "number = 102001"
   ]
  },
  {
   "cell_type": "code",
   "execution_count": 38,
   "id": "fb14c330-f9cc-4a50-8ead-2bae0821a467",
   "metadata": {},
   "outputs": [],
   "source": [
    "from math import isclose\n",
    "from typing import Union\n",
    "\n",
    "def calculate_square_root(number: float, precision: float = 1e-10, max_iterations: int = 100) -> Union[float, str]:\n",
    "    # Handle edge cases\n",
    "    if number < 0:\n",
    "        return \"Error: Cannot calculate square root of a negative number\"\n",
    "    \n",
    "    if number == 0:\n",
    "        return 0.0\n",
    "    \n",
    "    if number == 1:\n",
    "        return 1.0\n",
    "    \n",
    "    # Initial guess\n",
    "    guess = number / 2\n",
    "    \n",
    "    # Newton's method iteration\n",
    "    for _ in range(max_iterations):\n",
    "        new_guess = (guess + number / guess) / 2\n",
    "        \n",
    "        # Check if we've reached desired precision\n",
    "        if isclose(new_guess, guess, rel_tol=precision):\n",
    "            return new_guess\n",
    "        \n",
    "        guess = new_guess\n",
    "    \n",
    "    return f\"Warning: Maximum iterations ({max_iterations}) reached. Last approximation: {guess}\""
   ]
  },
  {
   "cell_type": "code",
   "execution_count": 39,
   "id": "655bf576-4347-4195-8c93-54761713c698",
   "metadata": {},
   "outputs": [
    {
     "data": {
      "text/plain": [
       "319.37595401031683"
      ]
     },
     "execution_count": 39,
     "metadata": {},
     "output_type": "execute_result"
    }
   ],
   "source": [
    "calculate_square_root(number)"
   ]
  },
  {
   "cell_type": "code",
   "execution_count": 40,
   "id": "eda7effb-6a7f-4f18-803d-a11eb866a558",
   "metadata": {},
   "outputs": [
    {
     "data": {
      "text/html": [
       "<pre style=\"white-space:pre;overflow-x:auto;line-height:normal;font-family:Menlo,'DejaVu Sans Mono',consolas,'Courier New',monospace\"><span style=\"color: #d4b702; text-decoration-color: #d4b702\">╭──────────────────────────────────────────────────── </span><span style=\"color: #d4b702; text-decoration-color: #d4b702; font-weight: bold\">New run</span><span style=\"color: #d4b702; text-decoration-color: #d4b702\"> ────────────────────────────────────────────────────╮</span>\n",
       "<span style=\"color: #d4b702; text-decoration-color: #d4b702\">│</span>                                                                                                                 <span style=\"color: #d4b702; text-decoration-color: #d4b702\">│</span>\n",
       "<span style=\"color: #d4b702; text-decoration-color: #d4b702\">│</span> <span style=\"font-weight: bold\">Can you find me the square root of 102001</span>                                                                       <span style=\"color: #d4b702; text-decoration-color: #d4b702\">│</span>\n",
       "<span style=\"color: #d4b702; text-decoration-color: #d4b702\">│</span>                                                                                                                 <span style=\"color: #d4b702; text-decoration-color: #d4b702\">│</span>\n",
       "<span style=\"color: #d4b702; text-decoration-color: #d4b702\">╰─ LiteLLMModel - gpt-3.5-turbo ──────────────────────────────────────────────────────────────────────────────────╯</span>\n",
       "</pre>\n"
      ],
      "text/plain": [
       "\u001b[38;2;212;183;2m╭─\u001b[0m\u001b[38;2;212;183;2m───────────────────────────────────────────────────\u001b[0m\u001b[38;2;212;183;2m \u001b[0m\u001b[1;38;2;212;183;2mNew run\u001b[0m\u001b[38;2;212;183;2m \u001b[0m\u001b[38;2;212;183;2m───────────────────────────────────────────────────\u001b[0m\u001b[38;2;212;183;2m─╮\u001b[0m\n",
       "\u001b[38;2;212;183;2m│\u001b[0m                                                                                                                 \u001b[38;2;212;183;2m│\u001b[0m\n",
       "\u001b[38;2;212;183;2m│\u001b[0m \u001b[1mCan you find me the square root of 102001\u001b[0m                                                                       \u001b[38;2;212;183;2m│\u001b[0m\n",
       "\u001b[38;2;212;183;2m│\u001b[0m                                                                                                                 \u001b[38;2;212;183;2m│\u001b[0m\n",
       "\u001b[38;2;212;183;2m╰─\u001b[0m\u001b[38;2;212;183;2m LiteLLMModel - gpt-3.5-turbo \u001b[0m\u001b[38;2;212;183;2m─────────────────────────────────────────────────────────────────────────────────\u001b[0m\u001b[38;2;212;183;2m─╯\u001b[0m\n"
      ]
     },
     "metadata": {},
     "output_type": "display_data"
    },
    {
     "data": {
      "text/html": [
       "<pre style=\"white-space:pre;overflow-x:auto;line-height:normal;font-family:Menlo,'DejaVu Sans Mono',consolas,'Courier New',monospace\"><span style=\"color: #d4b702; text-decoration-color: #d4b702\">━━━━━━━━━━━━━━━━━━━━━━━━━━━━━━━━━━━━━━━━━━━━━━━━━━━━━ </span><span style=\"font-weight: bold\">Step </span><span style=\"color: #008080; text-decoration-color: #008080; font-weight: bold\">1</span><span style=\"color: #d4b702; text-decoration-color: #d4b702\"> ━━━━━━━━━━━━━━━━━━━━━━━━━━━━━━━━━━━━━━━━━━━━━━━━━━━━━━</span>\n",
       "</pre>\n"
      ],
      "text/plain": [
       "\u001b[38;2;212;183;2m━━━━━━━━━━━━━━━━━━━━━━━━━━━━━━━━━━━━━━━━━━━━━━━━━━━━━ \u001b[0m\u001b[1mStep \u001b[0m\u001b[1;36m1\u001b[0m\u001b[38;2;212;183;2m ━━━━━━━━━━━━━━━━━━━━━━━━━━━━━━━━━━━━━━━━━━━━━━━━━━━━━━\u001b[0m\n"
      ]
     },
     "metadata": {},
     "output_type": "display_data"
    },
    {
     "data": {
      "text/html": [
       "<pre style=\"white-space:pre;overflow-x:auto;line-height:normal;font-family:Menlo,'DejaVu Sans Mono',consolas,'Courier New',monospace\"> ─ <span style=\"font-weight: bold\">Executing parsed code:</span> ──────────────────────────────────────────────────────────────────────────────────────── \n",
       "  <span style=\"color: #ff4689; text-decoration-color: #ff4689; background-color: #272822\">import</span><span style=\"color: #f8f8f2; text-decoration-color: #f8f8f2; background-color: #272822\"> math</span><span style=\"background-color: #272822\">                                                                                                    </span>  \n",
       "  <span style=\"background-color: #272822\">                                                                                                               </span>  \n",
       "  <span style=\"color: #f8f8f2; text-decoration-color: #f8f8f2; background-color: #272822\">square_root </span><span style=\"color: #ff4689; text-decoration-color: #ff4689; background-color: #272822\">=</span><span style=\"color: #f8f8f2; text-decoration-color: #f8f8f2; background-color: #272822\"> math</span><span style=\"color: #ff4689; text-decoration-color: #ff4689; background-color: #272822\">.</span><span style=\"color: #f8f8f2; text-decoration-color: #f8f8f2; background-color: #272822\">sqrt(</span><span style=\"color: #ae81ff; text-decoration-color: #ae81ff; background-color: #272822\">102001</span><span style=\"color: #f8f8f2; text-decoration-color: #f8f8f2; background-color: #272822\">)</span><span style=\"background-color: #272822\">                                                                                </span>  \n",
       "  <span style=\"color: #f8f8f2; text-decoration-color: #f8f8f2; background-color: #272822\">print(square_root)</span><span style=\"background-color: #272822\">                                                                                             </span>  \n",
       " ───────────────────────────────────────────────────────────────────────────────────────────────────────────────── \n",
       "</pre>\n"
      ],
      "text/plain": [
       " ─ \u001b[1mExecuting parsed code:\u001b[0m ──────────────────────────────────────────────────────────────────────────────────────── \n",
       "  \u001b[38;2;255;70;137;48;2;39;40;34mimport\u001b[0m\u001b[38;2;248;248;242;48;2;39;40;34m \u001b[0m\u001b[38;2;248;248;242;48;2;39;40;34mmath\u001b[0m\u001b[48;2;39;40;34m                                                                                                    \u001b[0m  \n",
       "  \u001b[48;2;39;40;34m                                                                                                               \u001b[0m  \n",
       "  \u001b[38;2;248;248;242;48;2;39;40;34msquare_root\u001b[0m\u001b[38;2;248;248;242;48;2;39;40;34m \u001b[0m\u001b[38;2;255;70;137;48;2;39;40;34m=\u001b[0m\u001b[38;2;248;248;242;48;2;39;40;34m \u001b[0m\u001b[38;2;248;248;242;48;2;39;40;34mmath\u001b[0m\u001b[38;2;255;70;137;48;2;39;40;34m.\u001b[0m\u001b[38;2;248;248;242;48;2;39;40;34msqrt\u001b[0m\u001b[38;2;248;248;242;48;2;39;40;34m(\u001b[0m\u001b[38;2;174;129;255;48;2;39;40;34m102001\u001b[0m\u001b[38;2;248;248;242;48;2;39;40;34m)\u001b[0m\u001b[48;2;39;40;34m                                                                                \u001b[0m  \n",
       "  \u001b[38;2;248;248;242;48;2;39;40;34mprint\u001b[0m\u001b[38;2;248;248;242;48;2;39;40;34m(\u001b[0m\u001b[38;2;248;248;242;48;2;39;40;34msquare_root\u001b[0m\u001b[38;2;248;248;242;48;2;39;40;34m)\u001b[0m\u001b[48;2;39;40;34m                                                                                             \u001b[0m  \n",
       " ───────────────────────────────────────────────────────────────────────────────────────────────────────────────── \n"
      ]
     },
     "metadata": {},
     "output_type": "display_data"
    },
    {
     "data": {
      "text/html": [
       "<pre style=\"white-space:pre;overflow-x:auto;line-height:normal;font-family:Menlo,'DejaVu Sans Mono',consolas,'Courier New',monospace\"><span style=\"font-weight: bold\">Execution logs:</span>\n",
       "319.37595401031683\n",
       "\n",
       "Out: None\n",
       "</pre>\n"
      ],
      "text/plain": [
       "\u001b[1mExecution logs:\u001b[0m\n",
       "319.37595401031683\n",
       "\n",
       "Out: None\n"
      ]
     },
     "metadata": {},
     "output_type": "display_data"
    },
    {
     "data": {
      "text/html": [
       "<pre style=\"white-space:pre;overflow-x:auto;line-height:normal;font-family:Menlo,'DejaVu Sans Mono',consolas,'Courier New',monospace\"><span style=\"color: #7f7f7f; text-decoration-color: #7f7f7f\">[Step 1: Duration 1.06 seconds| Input tokens: 2,060 | Output tokens: 70]</span>\n",
       "</pre>\n"
      ],
      "text/plain": [
       "\u001b[2m[Step 1: Duration 1.06 seconds| Input tokens: 2,060 | Output tokens: 70]\u001b[0m\n"
      ]
     },
     "metadata": {},
     "output_type": "display_data"
    },
    {
     "data": {
      "text/html": [
       "<pre style=\"white-space:pre;overflow-x:auto;line-height:normal;font-family:Menlo,'DejaVu Sans Mono',consolas,'Courier New',monospace\"><span style=\"color: #d4b702; text-decoration-color: #d4b702\">━━━━━━━━━━━━━━━━━━━━━━━━━━━━━━━━━━━━━━━━━━━━━━━━━━━━━ </span><span style=\"font-weight: bold\">Step </span><span style=\"color: #008080; text-decoration-color: #008080; font-weight: bold\">2</span><span style=\"color: #d4b702; text-decoration-color: #d4b702\"> ━━━━━━━━━━━━━━━━━━━━━━━━━━━━━━━━━━━━━━━━━━━━━━━━━━━━━━</span>\n",
       "</pre>\n"
      ],
      "text/plain": [
       "\u001b[38;2;212;183;2m━━━━━━━━━━━━━━━━━━━━━━━━━━━━━━━━━━━━━━━━━━━━━━━━━━━━━ \u001b[0m\u001b[1mStep \u001b[0m\u001b[1;36m2\u001b[0m\u001b[38;2;212;183;2m ━━━━━━━━━━━━━━━━━━━━━━━━━━━━━━━━━━━━━━━━━━━━━━━━━━━━━━\u001b[0m\n"
      ]
     },
     "metadata": {},
     "output_type": "display_data"
    },
    {
     "data": {
      "text/html": [
       "<pre style=\"white-space:pre;overflow-x:auto;line-height:normal;font-family:Menlo,'DejaVu Sans Mono',consolas,'Courier New',monospace\"> ─ <span style=\"font-weight: bold\">Executing parsed code:</span> ──────────────────────────────────────────────────────────────────────────────────────── \n",
       "  <span style=\"color: #f8f8f2; text-decoration-color: #f8f8f2; background-color: #272822\">final_answer(</span><span style=\"color: #ae81ff; text-decoration-color: #ae81ff; background-color: #272822\">319.37595401031683</span><span style=\"color: #f8f8f2; text-decoration-color: #f8f8f2; background-color: #272822\">)</span><span style=\"background-color: #272822\">                                                                               </span>  \n",
       " ───────────────────────────────────────────────────────────────────────────────────────────────────────────────── \n",
       "</pre>\n"
      ],
      "text/plain": [
       " ─ \u001b[1mExecuting parsed code:\u001b[0m ──────────────────────────────────────────────────────────────────────────────────────── \n",
       "  \u001b[38;2;248;248;242;48;2;39;40;34mfinal_answer\u001b[0m\u001b[38;2;248;248;242;48;2;39;40;34m(\u001b[0m\u001b[38;2;174;129;255;48;2;39;40;34m319.37595401031683\u001b[0m\u001b[38;2;248;248;242;48;2;39;40;34m)\u001b[0m\u001b[48;2;39;40;34m                                                                               \u001b[0m  \n",
       " ───────────────────────────────────────────────────────────────────────────────────────────────────────────────── \n"
      ]
     },
     "metadata": {},
     "output_type": "display_data"
    },
    {
     "data": {
      "text/html": [
       "<pre style=\"white-space:pre;overflow-x:auto;line-height:normal;font-family:Menlo,'DejaVu Sans Mono',consolas,'Courier New',monospace\"><span style=\"color: #d4b702; text-decoration-color: #d4b702; font-weight: bold\">Out - Final answer: 319.37595401031683</span>\n",
       "</pre>\n"
      ],
      "text/plain": [
       "\u001b[1;38;2;212;183;2mOut - Final answer: 319.37595401031683\u001b[0m\n"
      ]
     },
     "metadata": {},
     "output_type": "display_data"
    },
    {
     "data": {
      "text/html": [
       "<pre style=\"white-space:pre;overflow-x:auto;line-height:normal;font-family:Menlo,'DejaVu Sans Mono',consolas,'Courier New',monospace\"><span style=\"color: #7f7f7f; text-decoration-color: #7f7f7f\">[Step 2: Duration 0.86 seconds| Input tokens: 4,272 | Output tokens: 121]</span>\n",
       "</pre>\n"
      ],
      "text/plain": [
       "\u001b[2m[Step 2: Duration 0.86 seconds| Input tokens: 4,272 | Output tokens: 121]\u001b[0m\n"
      ]
     },
     "metadata": {},
     "output_type": "display_data"
    },
    {
     "data": {
      "text/plain": [
       "319.37595401031683"
      ]
     },
     "execution_count": 40,
     "metadata": {},
     "output_type": "execute_result"
    }
   ],
   "source": [
    "from smolagents import CodeAgent, LiteLLMModel\n",
    "\n",
    "prompt = f\"Can you find me the square root of {number}\"\n",
    "model = LiteLLMModel(model_id=\"gpt-3.5-turbo\", api_key=oai_api_key)\n",
    "agent = CodeAgent(tools=[], model=model, add_base_tools=True)\n",
    "\n",
    "agent.run(prompt)"
   ]
  },
  {
   "cell_type": "code",
   "execution_count": 41,
   "id": "82273128-37cb-4f6d-b719-a19db1e148ad",
   "metadata": {},
   "outputs": [
    {
     "data": {
      "text/html": [
       "<pre style=\"white-space:pre;overflow-x:auto;line-height:normal;font-family:Menlo,'DejaVu Sans Mono',consolas,'Courier New',monospace\"><span style=\"color: #d4b702; text-decoration-color: #d4b702\">╭──────────────────────────────────────────────────── </span><span style=\"color: #d4b702; text-decoration-color: #d4b702; font-weight: bold\">New run</span><span style=\"color: #d4b702; text-decoration-color: #d4b702\"> ────────────────────────────────────────────────────╮</span>\n",
       "<span style=\"color: #d4b702; text-decoration-color: #d4b702\">│</span>                                                                                                                 <span style=\"color: #d4b702; text-decoration-color: #d4b702\">│</span>\n",
       "<span style=\"color: #d4b702; text-decoration-color: #d4b702\">│</span> <span style=\"font-weight: bold\">Can you find me the square root of 102001</span>                                                                       <span style=\"color: #d4b702; text-decoration-color: #d4b702\">│</span>\n",
       "<span style=\"color: #d4b702; text-decoration-color: #d4b702\">│</span>                                                                                                                 <span style=\"color: #d4b702; text-decoration-color: #d4b702\">│</span>\n",
       "<span style=\"color: #d4b702; text-decoration-color: #d4b702\">╰─ LiteLLMModel - gpt-3.5-turbo ──────────────────────────────────────────────────────────────────────────────────╯</span>\n",
       "</pre>\n"
      ],
      "text/plain": [
       "\u001b[38;2;212;183;2m╭─\u001b[0m\u001b[38;2;212;183;2m───────────────────────────────────────────────────\u001b[0m\u001b[38;2;212;183;2m \u001b[0m\u001b[1;38;2;212;183;2mNew run\u001b[0m\u001b[38;2;212;183;2m \u001b[0m\u001b[38;2;212;183;2m───────────────────────────────────────────────────\u001b[0m\u001b[38;2;212;183;2m─╮\u001b[0m\n",
       "\u001b[38;2;212;183;2m│\u001b[0m                                                                                                                 \u001b[38;2;212;183;2m│\u001b[0m\n",
       "\u001b[38;2;212;183;2m│\u001b[0m \u001b[1mCan you find me the square root of 102001\u001b[0m                                                                       \u001b[38;2;212;183;2m│\u001b[0m\n",
       "\u001b[38;2;212;183;2m│\u001b[0m                                                                                                                 \u001b[38;2;212;183;2m│\u001b[0m\n",
       "\u001b[38;2;212;183;2m╰─\u001b[0m\u001b[38;2;212;183;2m LiteLLMModel - gpt-3.5-turbo \u001b[0m\u001b[38;2;212;183;2m─────────────────────────────────────────────────────────────────────────────────\u001b[0m\u001b[38;2;212;183;2m─╯\u001b[0m\n"
      ]
     },
     "metadata": {},
     "output_type": "display_data"
    },
    {
     "data": {
      "text/html": [
       "<pre style=\"white-space:pre;overflow-x:auto;line-height:normal;font-family:Menlo,'DejaVu Sans Mono',consolas,'Courier New',monospace\"><span style=\"color: #d4b702; text-decoration-color: #d4b702\">━━━━━━━━━━━━━━━━━━━━━━━━━━━━━━━━━━━━━━━━━━━━━━━━━━━━━ </span><span style=\"font-weight: bold\">Step </span><span style=\"color: #008080; text-decoration-color: #008080; font-weight: bold\">1</span><span style=\"color: #d4b702; text-decoration-color: #d4b702\"> ━━━━━━━━━━━━━━━━━━━━━━━━━━━━━━━━━━━━━━━━━━━━━━━━━━━━━━</span>\n",
       "</pre>\n"
      ],
      "text/plain": [
       "\u001b[38;2;212;183;2m━━━━━━━━━━━━━━━━━━━━━━━━━━━━━━━━━━━━━━━━━━━━━━━━━━━━━ \u001b[0m\u001b[1mStep \u001b[0m\u001b[1;36m1\u001b[0m\u001b[38;2;212;183;2m ━━━━━━━━━━━━━━━━━━━━━━━━━━━━━━━━━━━━━━━━━━━━━━━━━━━━━━\u001b[0m\n"
      ]
     },
     "metadata": {},
     "output_type": "display_data"
    },
    {
     "data": {
      "text/html": [
       "<pre style=\"white-space:pre;overflow-x:auto;line-height:normal;font-family:Menlo,'DejaVu Sans Mono',consolas,'Courier New',monospace\">╭─────────────────────────────────────────────────────────────────────────────────────────────────────────────────╮\n",
       "│ Calling tool: 'python_interpreter' with arguments: {'code': 'import math\\nresult = math.sqrt(102001)'}          │\n",
       "╰─────────────────────────────────────────────────────────────────────────────────────────────────────────────────╯\n",
       "</pre>\n"
      ],
      "text/plain": [
       "╭─────────────────────────────────────────────────────────────────────────────────────────────────────────────────╮\n",
       "│ Calling tool: 'python_interpreter' with arguments: {'code': 'import math\\nresult = math.sqrt(102001)'}          │\n",
       "╰─────────────────────────────────────────────────────────────────────────────────────────────────────────────────╯\n"
      ]
     },
     "metadata": {},
     "output_type": "display_data"
    },
    {
     "data": {
      "text/html": [
       "<pre style=\"white-space:pre;overflow-x:auto;line-height:normal;font-family:Menlo,'DejaVu Sans Mono',consolas,'Courier New',monospace\">Observations: Stdout:\n",
       "\n",
       "Output: <span style=\"color: #008080; text-decoration-color: #008080; font-weight: bold\">319.37595401031683</span>\n",
       "</pre>\n"
      ],
      "text/plain": [
       "Observations: Stdout:\n",
       "\n",
       "Output: \u001b[1;36m319.37595401031683\u001b[0m\n"
      ]
     },
     "metadata": {},
     "output_type": "display_data"
    },
    {
     "data": {
      "text/html": [
       "<pre style=\"white-space:pre;overflow-x:auto;line-height:normal;font-family:Menlo,'DejaVu Sans Mono',consolas,'Courier New',monospace\"><span style=\"color: #7f7f7f; text-decoration-color: #7f7f7f\">[Step 1: Duration 0.77 seconds| Input tokens: 1,311 | Output tokens: 25]</span>\n",
       "</pre>\n"
      ],
      "text/plain": [
       "\u001b[2m[Step 1: Duration 0.77 seconds| Input tokens: 1,311 | Output tokens: 25]\u001b[0m\n"
      ]
     },
     "metadata": {},
     "output_type": "display_data"
    },
    {
     "data": {
      "text/html": [
       "<pre style=\"white-space:pre;overflow-x:auto;line-height:normal;font-family:Menlo,'DejaVu Sans Mono',consolas,'Courier New',monospace\"><span style=\"color: #d4b702; text-decoration-color: #d4b702\">━━━━━━━━━━━━━━━━━━━━━━━━━━━━━━━━━━━━━━━━━━━━━━━━━━━━━ </span><span style=\"font-weight: bold\">Step </span><span style=\"color: #008080; text-decoration-color: #008080; font-weight: bold\">2</span><span style=\"color: #d4b702; text-decoration-color: #d4b702\"> ━━━━━━━━━━━━━━━━━━━━━━━━━━━━━━━━━━━━━━━━━━━━━━━━━━━━━━</span>\n",
       "</pre>\n"
      ],
      "text/plain": [
       "\u001b[38;2;212;183;2m━━━━━━━━━━━━━━━━━━━━━━━━━━━━━━━━━━━━━━━━━━━━━━━━━━━━━ \u001b[0m\u001b[1mStep \u001b[0m\u001b[1;36m2\u001b[0m\u001b[38;2;212;183;2m ━━━━━━━━━━━━━━━━━━━━━━━━━━━━━━━━━━━━━━━━━━━━━━━━━━━━━━\u001b[0m\n"
      ]
     },
     "metadata": {},
     "output_type": "display_data"
    },
    {
     "data": {
      "text/html": [
       "<pre style=\"white-space:pre;overflow-x:auto;line-height:normal;font-family:Menlo,'DejaVu Sans Mono',consolas,'Courier New',monospace\">╭─────────────────────────────────────────────────────────────────────────────────────────────────────────────────╮\n",
       "│ Calling tool: 'final_answer' with arguments: {'answer': '319.37595401031683'}                                   │\n",
       "╰─────────────────────────────────────────────────────────────────────────────────────────────────────────────────╯\n",
       "</pre>\n"
      ],
      "text/plain": [
       "╭─────────────────────────────────────────────────────────────────────────────────────────────────────────────────╮\n",
       "│ Calling tool: 'final_answer' with arguments: {'answer': '319.37595401031683'}                                   │\n",
       "╰─────────────────────────────────────────────────────────────────────────────────────────────────────────────────╯\n"
      ]
     },
     "metadata": {},
     "output_type": "display_data"
    },
    {
     "data": {
      "text/html": [
       "<pre style=\"white-space:pre;overflow-x:auto;line-height:normal;font-family:Menlo,'DejaVu Sans Mono',consolas,'Courier New',monospace\"><span style=\"color: #d4b702; text-decoration-color: #d4b702; font-weight: bold\">Final answer: 319.37595401031683</span>\n",
       "</pre>\n"
      ],
      "text/plain": [
       "\u001b[1;38;2;212;183;2mFinal answer: 319.37595401031683\u001b[0m\n"
      ]
     },
     "metadata": {},
     "output_type": "display_data"
    },
    {
     "data": {
      "text/html": [
       "<pre style=\"white-space:pre;overflow-x:auto;line-height:normal;font-family:Menlo,'DejaVu Sans Mono',consolas,'Courier New',monospace\"><span style=\"color: #7f7f7f; text-decoration-color: #7f7f7f\">[Step 2: Duration 0.78 seconds| Input tokens: 2,738 | Output tokens: 45]</span>\n",
       "</pre>\n"
      ],
      "text/plain": [
       "\u001b[2m[Step 2: Duration 0.78 seconds| Input tokens: 2,738 | Output tokens: 45]\u001b[0m\n"
      ]
     },
     "metadata": {},
     "output_type": "display_data"
    },
    {
     "data": {
      "text/plain": [
       "'319.37595401031683'"
      ]
     },
     "execution_count": 41,
     "metadata": {},
     "output_type": "execute_result"
    }
   ],
   "source": [
    "from smolagents import ToolCallingAgent\n",
    "\n",
    "model = LiteLLMModel(model_id=\"gpt-3.5-turbo\", api_key=oai_api_key)\n",
    "agent = ToolCallingAgent(tools=[], model=model, add_base_tools=True)\n",
    "\n",
    "agent.run(prompt)"
   ]
  },
  {
   "cell_type": "code",
   "execution_count": 44,
   "id": "079040fb-a3a1-4069-8854-85bfae9813d9",
   "metadata": {},
   "outputs": [
    {
     "data": {
      "text/html": [
       "<pre style=\"white-space:pre;overflow-x:auto;line-height:normal;font-family:Menlo,'DejaVu Sans Mono',consolas,'Courier New',monospace\">You are an expert assistant who can solve any task using tool calls. You will be given a task to solve as best you \n",
       "can.\n",
       "To do so, you have been given access to some tools.\n",
       "\n",
       "The tool call you write is an action: after the tool is executed, you will get the result of the tool call as an \n",
       "<span style=\"color: #008000; text-decoration-color: #008000\">\"observation\"</span>.\n",
       "This Action/Observation can repeat N times, you should take several steps when needed.\n",
       "\n",
       "You can use the result of the previous action as input for the next action.\n",
       "The observation will always be a string: it can represent a file, like <span style=\"color: #008000; text-decoration-color: #008000\">\"image_1.jpg\"</span>.\n",
       "Then you can use it as input for the next action. You can do it for instance as follows:\n",
       "\n",
       "Observation: <span style=\"color: #008000; text-decoration-color: #008000\">\"image_1.jpg\"</span>\n",
       "\n",
       "Action:\n",
       "<span style=\"font-weight: bold\">{</span>\n",
       "  <span style=\"color: #008000; text-decoration-color: #008000\">\"name\"</span>: <span style=\"color: #008000; text-decoration-color: #008000\">\"image_transformer\"</span>,\n",
       "  <span style=\"color: #008000; text-decoration-color: #008000\">\"arguments\"</span>: <span style=\"font-weight: bold\">{</span><span style=\"color: #008000; text-decoration-color: #008000\">\"image\"</span>: <span style=\"color: #008000; text-decoration-color: #008000\">\"image_1.jpg\"</span><span style=\"font-weight: bold\">}</span>\n",
       "<span style=\"font-weight: bold\">}</span>\n",
       "\n",
       "To provide the final answer to the task, use an action blob with <span style=\"color: #008000; text-decoration-color: #008000\">\"name\"</span>: <span style=\"color: #008000; text-decoration-color: #008000\">\"final_answer\"</span> tool. It is the only way to\n",
       "complete the task, else you will be stuck on a loop. So your final output should look like this:\n",
       "Action:\n",
       "<span style=\"font-weight: bold\">{</span>\n",
       "  <span style=\"color: #008000; text-decoration-color: #008000\">\"name\"</span>: <span style=\"color: #008000; text-decoration-color: #008000\">\"final_answer\"</span>,\n",
       "  <span style=\"color: #008000; text-decoration-color: #008000\">\"arguments\"</span>: <span style=\"font-weight: bold\">{</span><span style=\"color: #008000; text-decoration-color: #008000\">\"answer\"</span>: <span style=\"color: #008000; text-decoration-color: #008000\">\"insert your final answer here\"</span><span style=\"font-weight: bold\">}</span>\n",
       "<span style=\"font-weight: bold\">}</span>\n",
       "\n",
       "\n",
       "Here are a few examples using notional tools:\n",
       "---\n",
       "Task: <span style=\"color: #008000; text-decoration-color: #008000\">\"Generate an image of the oldest person in this document.\"</span>\n",
       "\n",
       "Action:\n",
       "<span style=\"font-weight: bold\">{</span>\n",
       "  <span style=\"color: #008000; text-decoration-color: #008000\">\"name\"</span>: <span style=\"color: #008000; text-decoration-color: #008000\">\"document_qa\"</span>,\n",
       "  <span style=\"color: #008000; text-decoration-color: #008000\">\"arguments\"</span>: <span style=\"font-weight: bold\">{</span><span style=\"color: #008000; text-decoration-color: #008000\">\"document\"</span>: <span style=\"color: #008000; text-decoration-color: #008000\">\"document.pdf\"</span>, <span style=\"color: #008000; text-decoration-color: #008000\">\"question\"</span>: <span style=\"color: #008000; text-decoration-color: #008000\">\"Who is the oldest person mentioned?\"</span><span style=\"font-weight: bold\">}</span>\n",
       "<span style=\"font-weight: bold\">}</span>\n",
       "Observation: <span style=\"color: #008000; text-decoration-color: #008000\">\"The oldest person in the document is John Doe, a 55 year old lumberjack living in Newfoundland.\"</span>\n",
       "\n",
       "Action:\n",
       "<span style=\"font-weight: bold\">{</span>\n",
       "  <span style=\"color: #008000; text-decoration-color: #008000\">\"name\"</span>: <span style=\"color: #008000; text-decoration-color: #008000\">\"image_generator\"</span>,\n",
       "  <span style=\"color: #008000; text-decoration-color: #008000\">\"arguments\"</span>: <span style=\"font-weight: bold\">{</span><span style=\"color: #008000; text-decoration-color: #008000\">\"prompt\"</span>: <span style=\"color: #008000; text-decoration-color: #008000\">\"A portrait of John Doe, a 55-year-old man living in Canada.\"</span><span style=\"font-weight: bold\">}</span>\n",
       "<span style=\"font-weight: bold\">}</span>\n",
       "Observation: <span style=\"color: #008000; text-decoration-color: #008000\">\"image.png\"</span>\n",
       "\n",
       "Action:\n",
       "<span style=\"font-weight: bold\">{</span>\n",
       "  <span style=\"color: #008000; text-decoration-color: #008000\">\"name\"</span>: <span style=\"color: #008000; text-decoration-color: #008000\">\"final_answer\"</span>,\n",
       "  <span style=\"color: #008000; text-decoration-color: #008000\">\"arguments\"</span>: <span style=\"color: #008000; text-decoration-color: #008000\">\"image.png\"</span>\n",
       "<span style=\"font-weight: bold\">}</span>\n",
       "\n",
       "---\n",
       "Task: <span style=\"color: #008000; text-decoration-color: #008000\">\"What is the result of the following operation: 5 + 3 + 1294.678?\"</span>\n",
       "\n",
       "Action:\n",
       "<span style=\"font-weight: bold\">{</span>\n",
       "    <span style=\"color: #008000; text-decoration-color: #008000\">\"name\"</span>: <span style=\"color: #008000; text-decoration-color: #008000\">\"python_interpreter\"</span>,\n",
       "    <span style=\"color: #008000; text-decoration-color: #008000\">\"arguments\"</span>: <span style=\"font-weight: bold\">{</span><span style=\"color: #008000; text-decoration-color: #008000\">\"code\"</span>: <span style=\"color: #008000; text-decoration-color: #008000\">\"5 + 3 + 1294.678\"</span><span style=\"font-weight: bold\">}</span>\n",
       "<span style=\"font-weight: bold\">}</span>\n",
       "Observation: <span style=\"color: #008080; text-decoration-color: #008080; font-weight: bold\">1302.678</span>\n",
       "\n",
       "Action:\n",
       "<span style=\"font-weight: bold\">{</span>\n",
       "  <span style=\"color: #008000; text-decoration-color: #008000\">\"name\"</span>: <span style=\"color: #008000; text-decoration-color: #008000\">\"final_answer\"</span>,\n",
       "  <span style=\"color: #008000; text-decoration-color: #008000\">\"arguments\"</span>: <span style=\"color: #008000; text-decoration-color: #008000\">\"1302.678\"</span>\n",
       "<span style=\"font-weight: bold\">}</span>\n",
       "\n",
       "---\n",
       "Task: <span style=\"color: #008000; text-decoration-color: #008000\">\"Which city has the highest population , Guangzhou or Shanghai?\"</span>\n",
       "\n",
       "Action:\n",
       "<span style=\"font-weight: bold\">{</span>\n",
       "    <span style=\"color: #008000; text-decoration-color: #008000\">\"name\"</span>: <span style=\"color: #008000; text-decoration-color: #008000\">\"search\"</span>,\n",
       "    <span style=\"color: #008000; text-decoration-color: #008000\">\"arguments\"</span>: <span style=\"color: #008000; text-decoration-color: #008000\">\"Population Guangzhou\"</span>\n",
       "<span style=\"font-weight: bold\">}</span>\n",
       "Observation: <span style=\"font-weight: bold\">[</span><span style=\"color: #008000; text-decoration-color: #008000\">'Guangzhou has a population of 15 million inhabitants as of 2021.'</span><span style=\"font-weight: bold\">]</span>\n",
       "\n",
       "\n",
       "Action:\n",
       "<span style=\"font-weight: bold\">{</span>\n",
       "    <span style=\"color: #008000; text-decoration-color: #008000\">\"name\"</span>: <span style=\"color: #008000; text-decoration-color: #008000\">\"search\"</span>,\n",
       "    <span style=\"color: #008000; text-decoration-color: #008000\">\"arguments\"</span>: <span style=\"color: #008000; text-decoration-color: #008000\">\"Population Shanghai\"</span>\n",
       "<span style=\"font-weight: bold\">}</span>\n",
       "Observation: <span style=\"color: #008000; text-decoration-color: #008000\">'26 million (2019)'</span>\n",
       "\n",
       "Action:\n",
       "<span style=\"font-weight: bold\">{</span>\n",
       "  <span style=\"color: #008000; text-decoration-color: #008000\">\"name\"</span>: <span style=\"color: #008000; text-decoration-color: #008000\">\"final_answer\"</span>,\n",
       "  <span style=\"color: #008000; text-decoration-color: #008000\">\"arguments\"</span>: <span style=\"color: #008000; text-decoration-color: #008000\">\"Shanghai\"</span>\n",
       "<span style=\"font-weight: bold\">}</span>\n",
       "\n",
       "Above example were using notional tools that might not exist for you. You only have access to these tools:\n",
       "- python_interpreter: This is a tool that evaluates python code. It can be used to perform calculations.\n",
       "    Takes inputs: <span style=\"font-weight: bold\">{</span><span style=\"color: #008000; text-decoration-color: #008000\">'code'</span>: <span style=\"font-weight: bold\">{</span><span style=\"color: #008000; text-decoration-color: #008000\">'type'</span>: <span style=\"color: #008000; text-decoration-color: #008000\">'string'</span>, <span style=\"color: #008000; text-decoration-color: #008000\">'description'</span>: <span style=\"color: #008000; text-decoration-color: #008000\">\"The code snippet to evaluate. All variables used in </span>\n",
       "<span style=\"color: #008000; text-decoration-color: #008000\">this snippet must be defined in this same snippet, else you will get an error. This code can only import the </span>\n",
       "<span style=\"color: #008000; text-decoration-color: #008000\">following python libraries: ['re', 'unicodedata', 'itertools', 'random', 'statistics', 'math', 'time', </span>\n",
       "<span style=\"color: #008000; text-decoration-color: #008000\">'collections', 'queue', 'stat', 'datetime'].\"</span><span style=\"font-weight: bold\">}}</span>\n",
       "    Returns an output of type: string\n",
       "- web_search: Performs a duckduckgo web search based on your query <span style=\"font-weight: bold\">(</span>think a Google search<span style=\"font-weight: bold\">)</span> then returns the top \n",
       "search results.\n",
       "    Takes inputs: <span style=\"font-weight: bold\">{</span><span style=\"color: #008000; text-decoration-color: #008000\">'query'</span>: <span style=\"font-weight: bold\">{</span><span style=\"color: #008000; text-decoration-color: #008000\">'type'</span>: <span style=\"color: #008000; text-decoration-color: #008000\">'string'</span>, <span style=\"color: #008000; text-decoration-color: #008000\">'description'</span>: <span style=\"color: #008000; text-decoration-color: #008000\">'The search query to perform.'</span><span style=\"font-weight: bold\">}}</span>\n",
       "    Returns an output of type: string\n",
       "- visit_webpage: Visits a webpage at the given url and reads its content as a markdown string. Use this to browse \n",
       "webpages.\n",
       "    Takes inputs: <span style=\"font-weight: bold\">{</span><span style=\"color: #008000; text-decoration-color: #008000\">'url'</span>: <span style=\"font-weight: bold\">{</span><span style=\"color: #008000; text-decoration-color: #008000\">'type'</span>: <span style=\"color: #008000; text-decoration-color: #008000\">'string'</span>, <span style=\"color: #008000; text-decoration-color: #008000\">'description'</span>: <span style=\"color: #008000; text-decoration-color: #008000\">'The url of the webpage to visit.'</span><span style=\"font-weight: bold\">}}</span>\n",
       "    Returns an output of type: string\n",
       "- final_answer: Provides a final answer to the given problem.\n",
       "    Takes inputs: <span style=\"font-weight: bold\">{</span><span style=\"color: #008000; text-decoration-color: #008000\">'answer'</span>: <span style=\"font-weight: bold\">{</span><span style=\"color: #008000; text-decoration-color: #008000\">'type'</span>: <span style=\"color: #008000; text-decoration-color: #008000\">'any'</span>, <span style=\"color: #008000; text-decoration-color: #008000\">'description'</span>: <span style=\"color: #008000; text-decoration-color: #008000\">'The final answer to the problem'</span><span style=\"font-weight: bold\">}}</span>\n",
       "    Returns an output of type: any\n",
       "\n",
       "Here are the rules you should always follow to solve your task:\n",
       "<span style=\"color: #008080; text-decoration-color: #008080; font-weight: bold\">1</span>. ALWAYS provide a tool call, else you will fail.\n",
       "<span style=\"color: #008080; text-decoration-color: #008080; font-weight: bold\">2</span>. Always use the right arguments for the tools. Never use variable names as the action arguments, use the value \n",
       "instead.\n",
       "<span style=\"color: #008080; text-decoration-color: #008080; font-weight: bold\">3</span>. Call a tool only when needed: do not call the search agent if you do not need information, try to solve the task\n",
       "yourself.\n",
       "If no tool call is needed, use final_answer tool to return your answer.\n",
       "<span style=\"color: #008080; text-decoration-color: #008080; font-weight: bold\">4</span>. Never re-do a tool call that you previously did with the exact same parameters.\n",
       "\n",
       "Now Begin!\n",
       "</pre>\n"
      ],
      "text/plain": [
       "You are an expert assistant who can solve any task using tool calls. You will be given a task to solve as best you \n",
       "can.\n",
       "To do so, you have been given access to some tools.\n",
       "\n",
       "The tool call you write is an action: after the tool is executed, you will get the result of the tool call as an \n",
       "\u001b[32m\"observation\"\u001b[0m.\n",
       "This Action/Observation can repeat N times, you should take several steps when needed.\n",
       "\n",
       "You can use the result of the previous action as input for the next action.\n",
       "The observation will always be a string: it can represent a file, like \u001b[32m\"image_1.jpg\"\u001b[0m.\n",
       "Then you can use it as input for the next action. You can do it for instance as follows:\n",
       "\n",
       "Observation: \u001b[32m\"image_1.jpg\"\u001b[0m\n",
       "\n",
       "Action:\n",
       "\u001b[1m{\u001b[0m\n",
       "  \u001b[32m\"name\"\u001b[0m: \u001b[32m\"image_transformer\"\u001b[0m,\n",
       "  \u001b[32m\"arguments\"\u001b[0m: \u001b[1m{\u001b[0m\u001b[32m\"image\"\u001b[0m: \u001b[32m\"image_1.jpg\"\u001b[0m\u001b[1m}\u001b[0m\n",
       "\u001b[1m}\u001b[0m\n",
       "\n",
       "To provide the final answer to the task, use an action blob with \u001b[32m\"name\"\u001b[0m: \u001b[32m\"final_answer\"\u001b[0m tool. It is the only way to\n",
       "complete the task, else you will be stuck on a loop. So your final output should look like this:\n",
       "Action:\n",
       "\u001b[1m{\u001b[0m\n",
       "  \u001b[32m\"name\"\u001b[0m: \u001b[32m\"final_answer\"\u001b[0m,\n",
       "  \u001b[32m\"arguments\"\u001b[0m: \u001b[1m{\u001b[0m\u001b[32m\"answer\"\u001b[0m: \u001b[32m\"insert your final answer here\"\u001b[0m\u001b[1m}\u001b[0m\n",
       "\u001b[1m}\u001b[0m\n",
       "\n",
       "\n",
       "Here are a few examples using notional tools:\n",
       "---\n",
       "Task: \u001b[32m\"Generate an image of the oldest person in this document.\"\u001b[0m\n",
       "\n",
       "Action:\n",
       "\u001b[1m{\u001b[0m\n",
       "  \u001b[32m\"name\"\u001b[0m: \u001b[32m\"document_qa\"\u001b[0m,\n",
       "  \u001b[32m\"arguments\"\u001b[0m: \u001b[1m{\u001b[0m\u001b[32m\"document\"\u001b[0m: \u001b[32m\"document.pdf\"\u001b[0m, \u001b[32m\"question\"\u001b[0m: \u001b[32m\"Who is the oldest person mentioned?\"\u001b[0m\u001b[1m}\u001b[0m\n",
       "\u001b[1m}\u001b[0m\n",
       "Observation: \u001b[32m\"The oldest person in the document is John Doe, a 55 year old lumberjack living in Newfoundland.\"\u001b[0m\n",
       "\n",
       "Action:\n",
       "\u001b[1m{\u001b[0m\n",
       "  \u001b[32m\"name\"\u001b[0m: \u001b[32m\"image_generator\"\u001b[0m,\n",
       "  \u001b[32m\"arguments\"\u001b[0m: \u001b[1m{\u001b[0m\u001b[32m\"prompt\"\u001b[0m: \u001b[32m\"A portrait of John Doe, a 55-year-old man living in Canada.\"\u001b[0m\u001b[1m}\u001b[0m\n",
       "\u001b[1m}\u001b[0m\n",
       "Observation: \u001b[32m\"image.png\"\u001b[0m\n",
       "\n",
       "Action:\n",
       "\u001b[1m{\u001b[0m\n",
       "  \u001b[32m\"name\"\u001b[0m: \u001b[32m\"final_answer\"\u001b[0m,\n",
       "  \u001b[32m\"arguments\"\u001b[0m: \u001b[32m\"image.png\"\u001b[0m\n",
       "\u001b[1m}\u001b[0m\n",
       "\n",
       "---\n",
       "Task: \u001b[32m\"What is the result of the following operation: 5 + 3 + 1294.678?\"\u001b[0m\n",
       "\n",
       "Action:\n",
       "\u001b[1m{\u001b[0m\n",
       "    \u001b[32m\"name\"\u001b[0m: \u001b[32m\"python_interpreter\"\u001b[0m,\n",
       "    \u001b[32m\"arguments\"\u001b[0m: \u001b[1m{\u001b[0m\u001b[32m\"code\"\u001b[0m: \u001b[32m\"5 + 3 + 1294.678\"\u001b[0m\u001b[1m}\u001b[0m\n",
       "\u001b[1m}\u001b[0m\n",
       "Observation: \u001b[1;36m1302.678\u001b[0m\n",
       "\n",
       "Action:\n",
       "\u001b[1m{\u001b[0m\n",
       "  \u001b[32m\"name\"\u001b[0m: \u001b[32m\"final_answer\"\u001b[0m,\n",
       "  \u001b[32m\"arguments\"\u001b[0m: \u001b[32m\"1302.678\"\u001b[0m\n",
       "\u001b[1m}\u001b[0m\n",
       "\n",
       "---\n",
       "Task: \u001b[32m\"Which city has the highest population , Guangzhou or Shanghai?\"\u001b[0m\n",
       "\n",
       "Action:\n",
       "\u001b[1m{\u001b[0m\n",
       "    \u001b[32m\"name\"\u001b[0m: \u001b[32m\"search\"\u001b[0m,\n",
       "    \u001b[32m\"arguments\"\u001b[0m: \u001b[32m\"Population Guangzhou\"\u001b[0m\n",
       "\u001b[1m}\u001b[0m\n",
       "Observation: \u001b[1m[\u001b[0m\u001b[32m'Guangzhou has a population of 15 million inhabitants as of 2021.'\u001b[0m\u001b[1m]\u001b[0m\n",
       "\n",
       "\n",
       "Action:\n",
       "\u001b[1m{\u001b[0m\n",
       "    \u001b[32m\"name\"\u001b[0m: \u001b[32m\"search\"\u001b[0m,\n",
       "    \u001b[32m\"arguments\"\u001b[0m: \u001b[32m\"Population Shanghai\"\u001b[0m\n",
       "\u001b[1m}\u001b[0m\n",
       "Observation: \u001b[32m'26 million \u001b[0m\u001b[32m(\u001b[0m\u001b[32m2019\u001b[0m\u001b[32m)\u001b[0m\u001b[32m'\u001b[0m\n",
       "\n",
       "Action:\n",
       "\u001b[1m{\u001b[0m\n",
       "  \u001b[32m\"name\"\u001b[0m: \u001b[32m\"final_answer\"\u001b[0m,\n",
       "  \u001b[32m\"arguments\"\u001b[0m: \u001b[32m\"Shanghai\"\u001b[0m\n",
       "\u001b[1m}\u001b[0m\n",
       "\n",
       "Above example were using notional tools that might not exist for you. You only have access to these tools:\n",
       "- python_interpreter: This is a tool that evaluates python code. It can be used to perform calculations.\n",
       "    Takes inputs: \u001b[1m{\u001b[0m\u001b[32m'code'\u001b[0m: \u001b[1m{\u001b[0m\u001b[32m'type'\u001b[0m: \u001b[32m'string'\u001b[0m, \u001b[32m'description'\u001b[0m: \u001b[32m\"The code snippet to evaluate. All variables used in \u001b[0m\n",
       "\u001b[32mthis snippet must be defined in this same snippet, else you will get an error. This code can only import the \u001b[0m\n",
       "\u001b[32mfollowing python libraries: \u001b[0m\u001b[32m[\u001b[0m\u001b[32m're', 'unicodedata', 'itertools', 'random', 'statistics', 'math', 'time', \u001b[0m\n",
       "\u001b[32m'collections', 'queue', 'stat', 'datetime'\u001b[0m\u001b[32m]\u001b[0m\u001b[32m.\"\u001b[0m\u001b[1m}\u001b[0m\u001b[1m}\u001b[0m\n",
       "    Returns an output of type: string\n",
       "- web_search: Performs a duckduckgo web search based on your query \u001b[1m(\u001b[0mthink a Google search\u001b[1m)\u001b[0m then returns the top \n",
       "search results.\n",
       "    Takes inputs: \u001b[1m{\u001b[0m\u001b[32m'query'\u001b[0m: \u001b[1m{\u001b[0m\u001b[32m'type'\u001b[0m: \u001b[32m'string'\u001b[0m, \u001b[32m'description'\u001b[0m: \u001b[32m'The search query to perform.'\u001b[0m\u001b[1m}\u001b[0m\u001b[1m}\u001b[0m\n",
       "    Returns an output of type: string\n",
       "- visit_webpage: Visits a webpage at the given url and reads its content as a markdown string. Use this to browse \n",
       "webpages.\n",
       "    Takes inputs: \u001b[1m{\u001b[0m\u001b[32m'url'\u001b[0m: \u001b[1m{\u001b[0m\u001b[32m'type'\u001b[0m: \u001b[32m'string'\u001b[0m, \u001b[32m'description'\u001b[0m: \u001b[32m'The url of the webpage to visit.'\u001b[0m\u001b[1m}\u001b[0m\u001b[1m}\u001b[0m\n",
       "    Returns an output of type: string\n",
       "- final_answer: Provides a final answer to the given problem.\n",
       "    Takes inputs: \u001b[1m{\u001b[0m\u001b[32m'answer'\u001b[0m: \u001b[1m{\u001b[0m\u001b[32m'type'\u001b[0m: \u001b[32m'any'\u001b[0m, \u001b[32m'description'\u001b[0m: \u001b[32m'The final answer to the problem'\u001b[0m\u001b[1m}\u001b[0m\u001b[1m}\u001b[0m\n",
       "    Returns an output of type: any\n",
       "\n",
       "Here are the rules you should always follow to solve your task:\n",
       "\u001b[1;36m1\u001b[0m. ALWAYS provide a tool call, else you will fail.\n",
       "\u001b[1;36m2\u001b[0m. Always use the right arguments for the tools. Never use variable names as the action arguments, use the value \n",
       "instead.\n",
       "\u001b[1;36m3\u001b[0m. Call a tool only when needed: do not call the search agent if you do not need information, try to solve the task\n",
       "yourself.\n",
       "If no tool call is needed, use final_answer tool to return your answer.\n",
       "\u001b[1;36m4\u001b[0m. Never re-do a tool call that you previously did with the exact same parameters.\n",
       "\n",
       "Now Begin!\n"
      ]
     },
     "metadata": {},
     "output_type": "display_data"
    }
   ],
   "source": [
    "print(agent.system_prompt)"
   ]
  },
  {
   "cell_type": "code",
   "execution_count": 42,
   "id": "532e4426-46d2-4d09-add9-6948dea3615d",
   "metadata": {},
   "outputs": [
    {
     "name": "stderr",
     "output_type": "stream",
     "text": [
      "The 'logs' attribute is deprecated and will soon be removed. Please use 'self.memory.steps' instead.\n"
     ]
    },
    {
     "data": {
      "text/html": [
       "<pre style=\"white-space:pre;overflow-x:auto;line-height:normal;font-family:Menlo,'DejaVu Sans Mono',consolas,'Courier New',monospace\"><span style=\"font-weight: bold\">[</span>\n",
       "    <span style=\"color: #800080; text-decoration-color: #800080; font-weight: bold\">SystemPromptStep</span><span style=\"font-weight: bold\">(</span>\n",
       "        <span style=\"color: #808000; text-decoration-color: #808000\">system_prompt</span>=<span style=\"color: #008000; text-decoration-color: #008000\">'You are an expert assistant who can solve any task using tool calls. You will be given a </span>\n",
       "<span style=\"color: #008000; text-decoration-color: #008000\">task to solve as best you can.\\nTo do so, you have been given access to some tools.\\n\\nThe tool call you write is </span>\n",
       "<span style=\"color: #008000; text-decoration-color: #008000\">an action: after the tool is executed, you will get the result of the tool call as an \"observation\".\\nThis </span>\n",
       "<span style=\"color: #008000; text-decoration-color: #008000\">Action/Observation can repeat N times, you should take several steps when needed.\\n\\nYou can use the result of the </span>\n",
       "<span style=\"color: #008000; text-decoration-color: #008000\">previous action as input for the next action.\\nThe observation will always be a string: it can represent a file, </span>\n",
       "<span style=\"color: #008000; text-decoration-color: #008000\">like \"image_1.jpg\".\\nThen you can use it as input for the next action. You can do it for instance as </span>\n",
       "<span style=\"color: #008000; text-decoration-color: #008000\">follows:\\n\\nObservation: \"image_1.jpg\"\\n\\nAction:\\n{\\n  \"name\": \"image_transformer\",\\n  \"arguments\": {\"image\": </span>\n",
       "<span style=\"color: #008000; text-decoration-color: #008000\">\"image_1.jpg\"}\\n}\\n\\nTo provide the final answer to the task, use an action blob with \"name\": \"final_answer\" tool. </span>\n",
       "<span style=\"color: #008000; text-decoration-color: #008000\">It is the only way to complete the task, else you will be stuck on a loop. So your final output should look like </span>\n",
       "<span style=\"color: #008000; text-decoration-color: #008000\">this:\\nAction:\\n{\\n  \"name\": \"final_answer\",\\n  \"arguments\": {\"answer\": \"insert your final answer </span>\n",
       "<span style=\"color: #008000; text-decoration-color: #008000\">here\"}\\n}\\n\\n\\nHere are a few examples using notional tools:\\n---\\nTask: \"Generate an image of the oldest person in</span>\n",
       "<span style=\"color: #008000; text-decoration-color: #008000\">this document.\"\\n\\nAction:\\n{\\n  \"name\": \"document_qa\",\\n  \"arguments\": {\"document\": \"document.pdf\", \"question\": </span>\n",
       "<span style=\"color: #008000; text-decoration-color: #008000\">\"Who is the oldest person mentioned?\"}\\n}\\nObservation: \"The oldest person in the document is John Doe, a 55 year </span>\n",
       "<span style=\"color: #008000; text-decoration-color: #008000\">old lumberjack living in Newfoundland.\"\\n\\nAction:\\n{\\n  \"name\": \"image_generator\",\\n  \"arguments\": {\"prompt\": \"A </span>\n",
       "<span style=\"color: #008000; text-decoration-color: #008000\">portrait of John Doe, a 55-year-old man living in Canada.\"}\\n}\\nObservation: \"image.png\"\\n\\nAction:\\n{\\n  \"name\": </span>\n",
       "<span style=\"color: #008000; text-decoration-color: #008000\">\"final_answer\",\\n  \"arguments\": \"image.png\"\\n}\\n\\n---\\nTask: \"What is the result of the following operation: 5 + 3 </span>\n",
       "<span style=\"color: #008000; text-decoration-color: #008000\">+ 1294.678?\"\\n\\nAction:\\n{\\n    \"name\": \"python_interpreter\",\\n    \"arguments\": {\"code\": \"5 + 3 + </span>\n",
       "<span style=\"color: #008000; text-decoration-color: #008000\">1294.678\"}\\n}\\nObservation: 1302.678\\n\\nAction:\\n{\\n  \"name\": \"final_answer\",\\n  \"arguments\": </span>\n",
       "<span style=\"color: #008000; text-decoration-color: #008000\">\"1302.678\"\\n}\\n\\n---\\nTask: \"Which city has the highest population , Guangzhou or Shanghai?\"\\n\\nAction:\\n{\\n    </span>\n",
       "<span style=\"color: #008000; text-decoration-color: #008000\">\"name\": \"search\",\\n    \"arguments\": \"Population Guangzhou\"\\n}\\nObservation: [\\'Guangzhou has a population of 15 </span>\n",
       "<span style=\"color: #008000; text-decoration-color: #008000\">million inhabitants as of 2021.\\']\\n\\n\\nAction:\\n{\\n    \"name\": \"search\",\\n    \"arguments\": \"Population </span>\n",
       "<span style=\"color: #008000; text-decoration-color: #008000\">Shanghai\"\\n}\\nObservation: \\'26 million (2019)\\'\\n\\nAction:\\n{\\n  \"name\": \"final_answer\",\\n  \"arguments\": </span>\n",
       "<span style=\"color: #008000; text-decoration-color: #008000\">\"Shanghai\"\\n}\\n\\nAbove example were using notional tools that might not exist for you. You only have access to </span>\n",
       "<span style=\"color: #008000; text-decoration-color: #008000\">these tools:\\n- python_interpreter: This is a tool that evaluates python code. It can be used to perform </span>\n",
       "<span style=\"color: #008000; text-decoration-color: #008000\">calculations.\\n    Takes inputs: {\\'code\\': {\\'type\\': \\'string\\', \\'description\\': \"The code snippet to evaluate. </span>\n",
       "<span style=\"color: #008000; text-decoration-color: #008000\">All variables used in this snippet must be defined in this same snippet, else you will get an error. This code can </span>\n",
       "<span style=\"color: #008000; text-decoration-color: #008000\">only import the following python libraries: [\\'re\\', \\'unicodedata\\', \\'itertools\\', \\'random\\', \\'statistics\\', </span>\n",
       "<span style=\"color: #008000; text-decoration-color: #008000\">\\'math\\', \\'time\\', \\'collections\\', \\'queue\\', \\'stat\\', \\'datetime\\'].\"}}\\n    Returns an output of type: </span>\n",
       "<span style=\"color: #008000; text-decoration-color: #008000\">string\\n- web_search: Performs a duckduckgo web search based on your query (think a Google search) then returns the</span>\n",
       "<span style=\"color: #008000; text-decoration-color: #008000\">top search results.\\n    Takes inputs: {\\'query\\': {\\'type\\': \\'string\\', \\'description\\': \\'The search query to </span>\n",
       "<span style=\"color: #008000; text-decoration-color: #008000\">perform.\\'}}\\n    Returns an output of type: string\\n- visit_webpage: Visits a webpage at the given url and reads </span>\n",
       "<span style=\"color: #008000; text-decoration-color: #008000\">its content as a markdown string. Use this to browse webpages.\\n    Takes inputs: {\\'url\\': {\\'type\\': \\'string\\', </span>\n",
       "<span style=\"color: #008000; text-decoration-color: #008000\">\\'description\\': \\'The url of the webpage to visit.\\'}}\\n    Returns an output of type: string\\n- final_answer: </span>\n",
       "<span style=\"color: #008000; text-decoration-color: #008000\">Provides a final answer to the given problem.\\n    Takes inputs: {\\'answer\\': {\\'type\\': \\'any\\', \\'description\\': </span>\n",
       "<span style=\"color: #008000; text-decoration-color: #008000\">\\'The final answer to the problem\\'}}\\n    Returns an output of type: any\\n\\nHere are the rules you should always </span>\n",
       "<span style=\"color: #008000; text-decoration-color: #008000\">follow to solve your task:\\n1. ALWAYS provide a tool call, else you will fail.\\n2. Always use the right arguments </span>\n",
       "<span style=\"color: #008000; text-decoration-color: #008000\">for the tools. Never use variable names as the action arguments, use the value instead.\\n3. Call a tool only when </span>\n",
       "<span style=\"color: #008000; text-decoration-color: #008000\">needed: do not call the search agent if you do not need information, try to solve the task yourself.\\nIf no tool </span>\n",
       "<span style=\"color: #008000; text-decoration-color: #008000\">call is needed, use final_answer tool to return your answer.\\n4. Never re-do a tool call that you previously did </span>\n",
       "<span style=\"color: #008000; text-decoration-color: #008000\">with the exact same parameters.\\n\\nNow Begin!'</span>\n",
       "    <span style=\"font-weight: bold\">)</span>,\n",
       "    <span style=\"color: #800080; text-decoration-color: #800080; font-weight: bold\">TaskStep</span><span style=\"font-weight: bold\">(</span><span style=\"color: #808000; text-decoration-color: #808000\">task</span>=<span style=\"color: #008000; text-decoration-color: #008000\">'Can you find me the square root of 102001'</span>, <span style=\"color: #808000; text-decoration-color: #808000\">task_images</span>=<span style=\"color: #800080; text-decoration-color: #800080; font-style: italic\">None</span><span style=\"font-weight: bold\">)</span>,\n",
       "    <span style=\"color: #800080; text-decoration-color: #800080; font-weight: bold\">ActionStep</span><span style=\"font-weight: bold\">(</span>\n",
       "        <span style=\"color: #808000; text-decoration-color: #808000\">model_input_messages</span>=<span style=\"font-weight: bold\">[</span>\n",
       "            <span style=\"font-weight: bold\">{</span>\n",
       "                <span style=\"color: #008000; text-decoration-color: #008000\">'role'</span>: <span style=\"font-weight: bold\">&lt;</span><span style=\"color: #ff00ff; text-decoration-color: #ff00ff; font-weight: bold\">MessageRole.SYSTEM:</span><span style=\"color: #000000; text-decoration-color: #000000\"> </span><span style=\"color: #008000; text-decoration-color: #008000\">'system'</span><span style=\"color: #000000; text-decoration-color: #000000\">&gt;,</span>\n",
       "<span style=\"color: #000000; text-decoration-color: #000000\">                </span><span style=\"color: #008000; text-decoration-color: #008000\">'content'</span><span style=\"color: #000000; text-decoration-color: #000000\">: </span><span style=\"color: #000000; text-decoration-color: #000000; font-weight: bold\">[</span>\n",
       "<span style=\"color: #000000; text-decoration-color: #000000\">                    </span><span style=\"color: #000000; text-decoration-color: #000000; font-weight: bold\">{</span>\n",
       "<span style=\"color: #000000; text-decoration-color: #000000\">                        </span><span style=\"color: #008000; text-decoration-color: #008000\">'type'</span><span style=\"color: #000000; text-decoration-color: #000000\">: </span><span style=\"color: #008000; text-decoration-color: #008000\">'text'</span><span style=\"color: #000000; text-decoration-color: #000000\">,</span>\n",
       "<span style=\"color: #000000; text-decoration-color: #000000\">                        </span><span style=\"color: #008000; text-decoration-color: #008000\">'text'</span><span style=\"color: #000000; text-decoration-color: #000000\">: </span><span style=\"color: #008000; text-decoration-color: #008000\">'You are an expert assistant who can solve any task using tool calls. You will be </span>\n",
       "<span style=\"color: #008000; text-decoration-color: #008000\">given a task to solve as best you can.\\nTo do so, you have been given access to some tools.\\n\\nThe tool call you </span>\n",
       "<span style=\"color: #008000; text-decoration-color: #008000\">write is an action: after the tool is executed, you will get the result of the tool call as an \"observation\".\\nThis</span>\n",
       "<span style=\"color: #008000; text-decoration-color: #008000\">Action/Observation can repeat N times, you should take several steps when needed.\\n\\nYou can use the result of the </span>\n",
       "<span style=\"color: #008000; text-decoration-color: #008000\">previous action as input for the next action.\\nThe observation will always be a string: it can represent a file, </span>\n",
       "<span style=\"color: #008000; text-decoration-color: #008000\">like \"image_1.jpg\".\\nThen you can use it as input for the next action. You can do it for instance as </span>\n",
       "<span style=\"color: #008000; text-decoration-color: #008000\">follows:\\n\\nObservation: \"image_1.jpg\"\\n\\nAction:\\n{\\n  \"name\": \"image_transformer\",\\n  \"arguments\": {\"image\": </span>\n",
       "<span style=\"color: #008000; text-decoration-color: #008000\">\"image_1.jpg\"}\\n}\\n\\nTo provide the final answer to the task, use an action blob with \"name\": \"final_answer\" tool. </span>\n",
       "<span style=\"color: #008000; text-decoration-color: #008000\">It is the only way to complete the task, else you will be stuck on a loop. So your final output should look like </span>\n",
       "<span style=\"color: #008000; text-decoration-color: #008000\">this:\\nAction:\\n{\\n  \"name\": \"final_answer\",\\n  \"arguments\": {\"answer\": \"insert your final answer </span>\n",
       "<span style=\"color: #008000; text-decoration-color: #008000\">here\"}\\n}\\n\\n\\nHere are a few examples using notional tools:\\n---\\nTask: \"Generate an image of the oldest person in</span>\n",
       "<span style=\"color: #008000; text-decoration-color: #008000\">this document.\"\\n\\nAction:\\n{\\n  \"name\": \"document_qa\",\\n  \"arguments\": {\"document\": \"document.pdf\", \"question\": </span>\n",
       "<span style=\"color: #008000; text-decoration-color: #008000\">\"Who is the oldest person mentioned?\"}\\n}\\nObservation: \"The oldest person in the document is John Doe, a 55 year </span>\n",
       "<span style=\"color: #008000; text-decoration-color: #008000\">old lumberjack living in Newfoundland.\"\\n\\nAction:\\n{\\n  \"name\": \"image_generator\",\\n  \"arguments\": {\"prompt\": \"A </span>\n",
       "<span style=\"color: #008000; text-decoration-color: #008000\">portrait of John Doe, a 55-year-old man living in Canada.\"}\\n}\\nObservation: \"image.png\"\\n\\nAction:\\n{\\n  \"name\": </span>\n",
       "<span style=\"color: #008000; text-decoration-color: #008000\">\"final_answer\",\\n  \"arguments\": \"image.png\"\\n}\\n\\n---\\nTask: \"What is the result of the following operation: 5 + 3 </span>\n",
       "<span style=\"color: #008000; text-decoration-color: #008000\">+ 1294.678?\"\\n\\nAction:\\n{\\n    \"name\": \"python_interpreter\",\\n    \"arguments\": {\"code\": \"5 + 3 + </span>\n",
       "<span style=\"color: #008000; text-decoration-color: #008000\">1294.678\"}\\n}\\nObservation: 1302.678\\n\\nAction:\\n{\\n  \"name\": \"final_answer\",\\n  \"arguments\": </span>\n",
       "<span style=\"color: #008000; text-decoration-color: #008000\">\"1302.678\"\\n}\\n\\n---\\nTask: \"Which city has the highest population , Guangzhou or Shanghai?\"\\n\\nAction:\\n{\\n    </span>\n",
       "<span style=\"color: #008000; text-decoration-color: #008000\">\"name\": \"search\",\\n    \"arguments\": \"Population Guangzhou\"\\n}\\nObservation: [\\'Guangzhou has a population of 15 </span>\n",
       "<span style=\"color: #008000; text-decoration-color: #008000\">million inhabitants as of 2021.\\']\\n\\n\\nAction:\\n{\\n    \"name\": \"search\",\\n    \"arguments\": \"Population </span>\n",
       "<span style=\"color: #008000; text-decoration-color: #008000\">Shanghai\"\\n}\\nObservation: \\'26 million (2019)\\'\\n\\nAction:\\n{\\n  \"name\": \"final_answer\",\\n  \"arguments\": </span>\n",
       "<span style=\"color: #008000; text-decoration-color: #008000\">\"Shanghai\"\\n}\\n\\nAbove example were using notional tools that might not exist for you. You only have access to </span>\n",
       "<span style=\"color: #008000; text-decoration-color: #008000\">these tools:\\n- python_interpreter: This is a tool that evaluates python code. It can be used to perform </span>\n",
       "<span style=\"color: #008000; text-decoration-color: #008000\">calculations.\\n    Takes inputs: {\\'code\\': {\\'type\\': \\'string\\', \\'description\\': \"The code snippet to evaluate. </span>\n",
       "<span style=\"color: #008000; text-decoration-color: #008000\">All variables used in this snippet must be defined in this same snippet, else you will get an error. This code can </span>\n",
       "<span style=\"color: #008000; text-decoration-color: #008000\">only import the following python libraries: [\\'re\\', \\'unicodedata\\', \\'itertools\\', \\'random\\', \\'statistics\\', </span>\n",
       "<span style=\"color: #008000; text-decoration-color: #008000\">\\'math\\', \\'time\\', \\'collections\\', \\'queue\\', \\'stat\\', \\'datetime\\'].\"}}\\n    Returns an output of type: </span>\n",
       "<span style=\"color: #008000; text-decoration-color: #008000\">string\\n- web_search: Performs a duckduckgo web search based on your query (think a Google search) then returns the</span>\n",
       "<span style=\"color: #008000; text-decoration-color: #008000\">top search results.\\n    Takes inputs: {\\'query\\': {\\'type\\': \\'string\\', \\'description\\': \\'The search query to </span>\n",
       "<span style=\"color: #008000; text-decoration-color: #008000\">perform.\\'}}\\n    Returns an output of type: string\\n- visit_webpage: Visits a webpage at the given url and reads </span>\n",
       "<span style=\"color: #008000; text-decoration-color: #008000\">its content as a markdown string. Use this to browse webpages.\\n    Takes inputs: {\\'url\\': {\\'type\\': \\'string\\', </span>\n",
       "<span style=\"color: #008000; text-decoration-color: #008000\">\\'description\\': \\'The url of the webpage to visit.\\'}}\\n    Returns an output of type: string\\n- final_answer: </span>\n",
       "<span style=\"color: #008000; text-decoration-color: #008000\">Provides a final answer to the given problem.\\n    Takes inputs: {\\'answer\\': {\\'type\\': \\'any\\', \\'description\\': </span>\n",
       "<span style=\"color: #008000; text-decoration-color: #008000\">\\'The final answer to the problem\\'}}\\n    Returns an output of type: any\\n\\nHere are the rules you should always </span>\n",
       "<span style=\"color: #008000; text-decoration-color: #008000\">follow to solve your task:\\n1. ALWAYS provide a tool call, else you will fail.\\n2. Always use the right arguments </span>\n",
       "<span style=\"color: #008000; text-decoration-color: #008000\">for the tools. Never use variable names as the action arguments, use the value instead.\\n3. Call a tool only when </span>\n",
       "<span style=\"color: #008000; text-decoration-color: #008000\">needed: do not call the search agent if you do not need information, try to solve the task yourself.\\nIf no tool </span>\n",
       "<span style=\"color: #008000; text-decoration-color: #008000\">call is needed, use final_answer tool to return your answer.\\n4. Never re-do a tool call that you previously did </span>\n",
       "<span style=\"color: #008000; text-decoration-color: #008000\">with the exact same parameters.\\n\\nNow Begin!'</span>\n",
       "<span style=\"color: #000000; text-decoration-color: #000000\">                    </span><span style=\"color: #000000; text-decoration-color: #000000; font-weight: bold\">}</span>\n",
       "<span style=\"color: #000000; text-decoration-color: #000000\">                </span><span style=\"color: #000000; text-decoration-color: #000000; font-weight: bold\">]</span>\n",
       "<span style=\"color: #000000; text-decoration-color: #000000\">            </span><span style=\"color: #000000; text-decoration-color: #000000; font-weight: bold\">}</span><span style=\"color: #000000; text-decoration-color: #000000\">,</span>\n",
       "<span style=\"color: #000000; text-decoration-color: #000000\">            </span><span style=\"color: #000000; text-decoration-color: #000000; font-weight: bold\">{</span>\n",
       "<span style=\"color: #000000; text-decoration-color: #000000\">                </span><span style=\"color: #008000; text-decoration-color: #008000\">'role'</span><span style=\"color: #000000; text-decoration-color: #000000\">: &lt;MessageRole.USER: </span><span style=\"color: #008000; text-decoration-color: #008000\">'user'</span><span style=\"color: #000000; text-decoration-color: #000000\">&gt;,</span>\n",
       "<span style=\"color: #000000; text-decoration-color: #000000\">                </span><span style=\"color: #008000; text-decoration-color: #008000\">'content'</span><span style=\"color: #000000; text-decoration-color: #000000\">: </span><span style=\"color: #000000; text-decoration-color: #000000; font-weight: bold\">[{</span><span style=\"color: #008000; text-decoration-color: #008000\">'type'</span><span style=\"color: #000000; text-decoration-color: #000000\">: </span><span style=\"color: #008000; text-decoration-color: #008000\">'text'</span><span style=\"color: #000000; text-decoration-color: #000000\">, </span><span style=\"color: #008000; text-decoration-color: #008000\">'text'</span><span style=\"color: #000000; text-decoration-color: #000000\">: </span><span style=\"color: #008000; text-decoration-color: #008000\">'New task:\\nCan you find me the square root of 102001'</span><span style=\"color: #000000; text-decoration-color: #000000; font-weight: bold\">}]</span>\n",
       "<span style=\"color: #000000; text-decoration-color: #000000\">            </span><span style=\"color: #000000; text-decoration-color: #000000; font-weight: bold\">}</span>\n",
       "<span style=\"color: #000000; text-decoration-color: #000000\">        </span><span style=\"color: #000000; text-decoration-color: #000000; font-weight: bold\">]</span><span style=\"color: #000000; text-decoration-color: #000000\">,</span>\n",
       "<span style=\"color: #000000; text-decoration-color: #000000\">        </span><span style=\"color: #808000; text-decoration-color: #808000\">tool_calls</span><span style=\"color: #000000; text-decoration-color: #000000\">=</span><span style=\"color: #000000; text-decoration-color: #000000; font-weight: bold\">[</span>\n",
       "<span style=\"color: #000000; text-decoration-color: #000000\">            </span><span style=\"color: #800080; text-decoration-color: #800080; font-weight: bold\">ToolCall</span><span style=\"color: #000000; text-decoration-color: #000000; font-weight: bold\">(</span>\n",
       "<span style=\"color: #000000; text-decoration-color: #000000\">                </span><span style=\"color: #808000; text-decoration-color: #808000\">name</span><span style=\"color: #000000; text-decoration-color: #000000\">=</span><span style=\"color: #008000; text-decoration-color: #008000\">'python_interpreter'</span><span style=\"color: #000000; text-decoration-color: #000000\">,</span>\n",
       "<span style=\"color: #000000; text-decoration-color: #000000\">                </span><span style=\"color: #808000; text-decoration-color: #808000\">arguments</span><span style=\"color: #000000; text-decoration-color: #000000\">=</span><span style=\"color: #000000; text-decoration-color: #000000; font-weight: bold\">{</span><span style=\"color: #008000; text-decoration-color: #008000\">'code'</span><span style=\"color: #000000; text-decoration-color: #000000\">: </span><span style=\"color: #008000; text-decoration-color: #008000\">'import math\\nresult = math.sqrt(102001)'</span><span style=\"color: #000000; text-decoration-color: #000000; font-weight: bold\">}</span><span style=\"color: #000000; text-decoration-color: #000000\">,</span>\n",
       "<span style=\"color: #000000; text-decoration-color: #000000\">                </span><span style=\"color: #808000; text-decoration-color: #808000\">id</span><span style=\"color: #000000; text-decoration-color: #000000\">=</span><span style=\"color: #008000; text-decoration-color: #008000\">'call_lgGJFqVTBUhukwEocWOi5yci'</span>\n",
       "<span style=\"color: #000000; text-decoration-color: #000000\">            </span><span style=\"color: #000000; text-decoration-color: #000000; font-weight: bold\">)</span>\n",
       "<span style=\"color: #000000; text-decoration-color: #000000\">        </span><span style=\"color: #000000; text-decoration-color: #000000; font-weight: bold\">]</span><span style=\"color: #000000; text-decoration-color: #000000\">,</span>\n",
       "<span style=\"color: #000000; text-decoration-color: #000000\">        </span><span style=\"color: #808000; text-decoration-color: #808000\">start_time</span><span style=\"color: #000000; text-decoration-color: #000000\">=</span><span style=\"color: #008080; text-decoration-color: #008080; font-weight: bold\">1747562741.0492759</span><span style=\"color: #000000; text-decoration-color: #000000\">,</span>\n",
       "<span style=\"color: #000000; text-decoration-color: #000000\">        </span><span style=\"color: #808000; text-decoration-color: #808000\">end_time</span><span style=\"color: #000000; text-decoration-color: #000000\">=</span><span style=\"color: #008080; text-decoration-color: #008080; font-weight: bold\">1747562741.818602</span><span style=\"color: #000000; text-decoration-color: #000000\">,</span>\n",
       "<span style=\"color: #000000; text-decoration-color: #000000\">        </span><span style=\"color: #808000; text-decoration-color: #808000\">step_number</span><span style=\"color: #000000; text-decoration-color: #000000\">=</span><span style=\"color: #008080; text-decoration-color: #008080; font-weight: bold\">1</span><span style=\"color: #000000; text-decoration-color: #000000\">,</span>\n",
       "<span style=\"color: #000000; text-decoration-color: #000000\">        </span><span style=\"color: #808000; text-decoration-color: #808000\">error</span><span style=\"color: #000000; text-decoration-color: #000000\">=</span><span style=\"color: #800080; text-decoration-color: #800080; font-style: italic\">None</span><span style=\"color: #000000; text-decoration-color: #000000\">,</span>\n",
       "<span style=\"color: #000000; text-decoration-color: #000000\">        </span><span style=\"color: #808000; text-decoration-color: #808000\">duration</span><span style=\"color: #000000; text-decoration-color: #000000\">=</span><span style=\"color: #008080; text-decoration-color: #008080; font-weight: bold\">0.7693262100219727</span><span style=\"color: #000000; text-decoration-color: #000000\">,</span>\n",
       "<span style=\"color: #000000; text-decoration-color: #000000\">        </span><span style=\"color: #808000; text-decoration-color: #808000\">model_output_message</span><span style=\"color: #000000; text-decoration-color: #000000\">=</span><span style=\"color: #800080; text-decoration-color: #800080; font-weight: bold\">ChatMessage</span><span style=\"color: #000000; text-decoration-color: #000000; font-weight: bold\">(</span>\n",
       "<span style=\"color: #000000; text-decoration-color: #000000\">            </span><span style=\"color: #808000; text-decoration-color: #808000\">role</span><span style=\"color: #000000; text-decoration-color: #000000\">=</span><span style=\"color: #008000; text-decoration-color: #008000\">'assistant'</span><span style=\"color: #000000; text-decoration-color: #000000\">,</span>\n",
       "<span style=\"color: #000000; text-decoration-color: #000000\">            </span><span style=\"color: #808000; text-decoration-color: #808000\">content</span><span style=\"color: #000000; text-decoration-color: #000000\">=</span><span style=\"color: #800080; text-decoration-color: #800080; font-style: italic\">None</span><span style=\"color: #000000; text-decoration-color: #000000\">,</span>\n",
       "<span style=\"color: #000000; text-decoration-color: #000000\">            </span><span style=\"color: #808000; text-decoration-color: #808000\">tool_calls</span><span style=\"color: #000000; text-decoration-color: #000000\">=</span><span style=\"color: #000000; text-decoration-color: #000000; font-weight: bold\">[</span>\n",
       "<span style=\"color: #000000; text-decoration-color: #000000\">                </span><span style=\"color: #800080; text-decoration-color: #800080; font-weight: bold\">ChatMessageToolCall</span><span style=\"color: #000000; text-decoration-color: #000000; font-weight: bold\">(</span>\n",
       "<span style=\"color: #000000; text-decoration-color: #000000\">                    </span><span style=\"color: #808000; text-decoration-color: #808000\">function</span><span style=\"color: #000000; text-decoration-color: #000000\">=</span><span style=\"color: #800080; text-decoration-color: #800080; font-weight: bold\">ChatMessageToolCallDefinition</span><span style=\"color: #000000; text-decoration-color: #000000; font-weight: bold\">(</span>\n",
       "<span style=\"color: #000000; text-decoration-color: #000000\">                        </span><span style=\"color: #808000; text-decoration-color: #808000\">arguments</span><span style=\"color: #000000; text-decoration-color: #000000\">=</span><span style=\"color: #000000; text-decoration-color: #000000; font-weight: bold\">{</span><span style=\"color: #008000; text-decoration-color: #008000\">'code'</span><span style=\"color: #000000; text-decoration-color: #000000\">: </span><span style=\"color: #008000; text-decoration-color: #008000\">'import math\\nresult = math.sqrt(102001)'</span><span style=\"color: #000000; text-decoration-color: #000000; font-weight: bold\">}</span><span style=\"color: #000000; text-decoration-color: #000000\">,</span>\n",
       "<span style=\"color: #000000; text-decoration-color: #000000\">                        </span><span style=\"color: #808000; text-decoration-color: #808000\">name</span><span style=\"color: #000000; text-decoration-color: #000000\">=</span><span style=\"color: #008000; text-decoration-color: #008000\">'python_interpreter'</span><span style=\"color: #000000; text-decoration-color: #000000\">,</span>\n",
       "<span style=\"color: #000000; text-decoration-color: #000000\">                        </span><span style=\"color: #808000; text-decoration-color: #808000\">description</span><span style=\"color: #000000; text-decoration-color: #000000\">=</span><span style=\"color: #800080; text-decoration-color: #800080; font-style: italic\">None</span>\n",
       "<span style=\"color: #000000; text-decoration-color: #000000\">                    </span><span style=\"color: #000000; text-decoration-color: #000000; font-weight: bold\">)</span><span style=\"color: #000000; text-decoration-color: #000000\">,</span>\n",
       "<span style=\"color: #000000; text-decoration-color: #000000\">                    </span><span style=\"color: #808000; text-decoration-color: #808000\">id</span><span style=\"color: #000000; text-decoration-color: #000000\">=</span><span style=\"color: #008000; text-decoration-color: #008000\">'call_lgGJFqVTBUhukwEocWOi5yci'</span><span style=\"color: #000000; text-decoration-color: #000000\">,</span>\n",
       "<span style=\"color: #000000; text-decoration-color: #000000\">                    </span><span style=\"color: #808000; text-decoration-color: #808000\">type</span><span style=\"color: #000000; text-decoration-color: #000000\">=</span><span style=\"color: #008000; text-decoration-color: #008000\">'function'</span>\n",
       "<span style=\"color: #000000; text-decoration-color: #000000\">                </span><span style=\"color: #000000; text-decoration-color: #000000; font-weight: bold\">)</span>\n",
       "<span style=\"color: #000000; text-decoration-color: #000000\">            </span><span style=\"color: #000000; text-decoration-color: #000000; font-weight: bold\">]</span><span style=\"color: #000000; text-decoration-color: #000000\">,</span>\n",
       "<span style=\"color: #000000; text-decoration-color: #000000\">            </span><span style=\"color: #808000; text-decoration-color: #808000\">raw</span><span style=\"color: #000000; text-decoration-color: #000000\">=</span><span style=\"color: #800080; text-decoration-color: #800080; font-weight: bold\">ModelResponse</span><span style=\"color: #000000; text-decoration-color: #000000; font-weight: bold\">(</span>\n",
       "<span style=\"color: #000000; text-decoration-color: #000000\">                </span><span style=\"color: #808000; text-decoration-color: #808000\">id</span><span style=\"color: #000000; text-decoration-color: #000000\">=</span><span style=\"color: #008000; text-decoration-color: #008000\">'chatcmpl-BYVBl39QDdzaccVav0VEGGfnTUsTo'</span><span style=\"color: #000000; text-decoration-color: #000000\">,</span>\n",
       "<span style=\"color: #000000; text-decoration-color: #000000\">                </span><span style=\"color: #808000; text-decoration-color: #808000\">created</span><span style=\"color: #000000; text-decoration-color: #000000\">=</span><span style=\"color: #008080; text-decoration-color: #008080; font-weight: bold\">1747562741</span><span style=\"color: #000000; text-decoration-color: #000000\">,</span>\n",
       "<span style=\"color: #000000; text-decoration-color: #000000\">                </span><span style=\"color: #808000; text-decoration-color: #808000\">model</span><span style=\"color: #000000; text-decoration-color: #000000\">=</span><span style=\"color: #008000; text-decoration-color: #008000\">'gpt-3.5-turbo-0125'</span><span style=\"color: #000000; text-decoration-color: #000000\">,</span>\n",
       "<span style=\"color: #000000; text-decoration-color: #000000\">                </span><span style=\"color: #808000; text-decoration-color: #808000\">object</span><span style=\"color: #000000; text-decoration-color: #000000\">=</span><span style=\"color: #008000; text-decoration-color: #008000\">'chat.completion'</span><span style=\"color: #000000; text-decoration-color: #000000\">,</span>\n",
       "<span style=\"color: #000000; text-decoration-color: #000000\">                </span><span style=\"color: #808000; text-decoration-color: #808000\">system_fingerprint</span><span style=\"color: #000000; text-decoration-color: #000000\">=</span><span style=\"color: #800080; text-decoration-color: #800080; font-style: italic\">None</span><span style=\"color: #000000; text-decoration-color: #000000\">,</span>\n",
       "<span style=\"color: #000000; text-decoration-color: #000000\">                </span><span style=\"color: #808000; text-decoration-color: #808000\">choices</span><span style=\"color: #000000; text-decoration-color: #000000\">=</span><span style=\"color: #000000; text-decoration-color: #000000; font-weight: bold\">[</span>\n",
       "<span style=\"color: #000000; text-decoration-color: #000000\">                    </span><span style=\"color: #800080; text-decoration-color: #800080; font-weight: bold\">Choices</span><span style=\"color: #000000; text-decoration-color: #000000; font-weight: bold\">(</span>\n",
       "<span style=\"color: #000000; text-decoration-color: #000000\">                        </span><span style=\"color: #808000; text-decoration-color: #808000\">finish_reason</span><span style=\"color: #000000; text-decoration-color: #000000\">=</span><span style=\"color: #008000; text-decoration-color: #008000\">'tool_calls'</span><span style=\"color: #000000; text-decoration-color: #000000\">,</span>\n",
       "<span style=\"color: #000000; text-decoration-color: #000000\">                        </span><span style=\"color: #808000; text-decoration-color: #808000\">index</span><span style=\"color: #000000; text-decoration-color: #000000\">=</span><span style=\"color: #008080; text-decoration-color: #008080; font-weight: bold\">0</span><span style=\"color: #000000; text-decoration-color: #000000\">,</span>\n",
       "<span style=\"color: #000000; text-decoration-color: #000000\">                        </span><span style=\"color: #808000; text-decoration-color: #808000\">message</span><span style=\"color: #000000; text-decoration-color: #000000\">=</span><span style=\"color: #800080; text-decoration-color: #800080; font-weight: bold\">Message</span><span style=\"color: #000000; text-decoration-color: #000000; font-weight: bold\">(</span>\n",
       "<span style=\"color: #000000; text-decoration-color: #000000\">                            </span><span style=\"color: #808000; text-decoration-color: #808000\">content</span><span style=\"color: #000000; text-decoration-color: #000000\">=</span><span style=\"color: #800080; text-decoration-color: #800080; font-style: italic\">None</span><span style=\"color: #000000; text-decoration-color: #000000\">,</span>\n",
       "<span style=\"color: #000000; text-decoration-color: #000000\">                            </span><span style=\"color: #808000; text-decoration-color: #808000\">role</span><span style=\"color: #000000; text-decoration-color: #000000\">=</span><span style=\"color: #008000; text-decoration-color: #008000\">'assistant'</span><span style=\"color: #000000; text-decoration-color: #000000\">,</span>\n",
       "<span style=\"color: #000000; text-decoration-color: #000000\">                            </span><span style=\"color: #808000; text-decoration-color: #808000\">tool_calls</span><span style=\"color: #000000; text-decoration-color: #000000\">=</span><span style=\"color: #000000; text-decoration-color: #000000; font-weight: bold\">[</span>\n",
       "<span style=\"color: #000000; text-decoration-color: #000000\">                                </span><span style=\"color: #800080; text-decoration-color: #800080; font-weight: bold\">ChatCompletionMessageToolCall</span><span style=\"color: #000000; text-decoration-color: #000000; font-weight: bold\">(</span>\n",
       "<span style=\"color: #000000; text-decoration-color: #000000\">                                    </span><span style=\"color: #808000; text-decoration-color: #808000\">function</span><span style=\"color: #000000; text-decoration-color: #000000\">=</span><span style=\"color: #800080; text-decoration-color: #800080; font-weight: bold\">Function</span><span style=\"color: #000000; text-decoration-color: #000000; font-weight: bold\">(</span>\n",
       "<span style=\"color: #000000; text-decoration-color: #000000\">                                        </span><span style=\"color: #808000; text-decoration-color: #808000\">arguments</span><span style=\"color: #000000; text-decoration-color: #000000\">=</span><span style=\"color: #008000; text-decoration-color: #008000\">'{\"code\":\"import math\\\\nresult = math.sqrt(102001)\"}'</span><span style=\"color: #000000; text-decoration-color: #000000\">,</span>\n",
       "<span style=\"color: #000000; text-decoration-color: #000000\">                                        </span><span style=\"color: #808000; text-decoration-color: #808000\">name</span><span style=\"color: #000000; text-decoration-color: #000000\">=</span><span style=\"color: #008000; text-decoration-color: #008000\">'python_interpreter'</span>\n",
       "<span style=\"color: #000000; text-decoration-color: #000000\">                                    </span><span style=\"color: #000000; text-decoration-color: #000000; font-weight: bold\">)</span><span style=\"color: #000000; text-decoration-color: #000000\">,</span>\n",
       "<span style=\"color: #000000; text-decoration-color: #000000\">                                    </span><span style=\"color: #808000; text-decoration-color: #808000\">id</span><span style=\"color: #000000; text-decoration-color: #000000\">=</span><span style=\"color: #008000; text-decoration-color: #008000\">'call_lgGJFqVTBUhukwEocWOi5yci'</span><span style=\"color: #000000; text-decoration-color: #000000\">,</span>\n",
       "<span style=\"color: #000000; text-decoration-color: #000000\">                                    </span><span style=\"color: #808000; text-decoration-color: #808000\">type</span><span style=\"color: #000000; text-decoration-color: #000000\">=</span><span style=\"color: #008000; text-decoration-color: #008000\">'function'</span>\n",
       "<span style=\"color: #000000; text-decoration-color: #000000\">                                </span><span style=\"color: #000000; text-decoration-color: #000000; font-weight: bold\">)</span>\n",
       "<span style=\"color: #000000; text-decoration-color: #000000\">                            </span><span style=\"color: #000000; text-decoration-color: #000000; font-weight: bold\">]</span><span style=\"color: #000000; text-decoration-color: #000000\">,</span>\n",
       "<span style=\"color: #000000; text-decoration-color: #000000\">                            </span><span style=\"color: #808000; text-decoration-color: #808000\">function_call</span><span style=\"color: #000000; text-decoration-color: #000000\">=</span><span style=\"color: #800080; text-decoration-color: #800080; font-style: italic\">None</span><span style=\"color: #000000; text-decoration-color: #000000\">,</span>\n",
       "<span style=\"color: #000000; text-decoration-color: #000000\">                            </span><span style=\"color: #808000; text-decoration-color: #808000\">provider_specific_fields</span><span style=\"color: #000000; text-decoration-color: #000000\">=</span><span style=\"color: #000000; text-decoration-color: #000000; font-weight: bold\">{</span><span style=\"color: #008000; text-decoration-color: #008000\">'refusal'</span><span style=\"color: #000000; text-decoration-color: #000000\">: </span><span style=\"color: #800080; text-decoration-color: #800080; font-style: italic\">None</span><span style=\"color: #000000; text-decoration-color: #000000; font-weight: bold\">}</span><span style=\"color: #000000; text-decoration-color: #000000\">,</span>\n",
       "<span style=\"color: #000000; text-decoration-color: #000000\">                            </span><span style=\"color: #808000; text-decoration-color: #808000\">annotations</span><span style=\"color: #000000; text-decoration-color: #000000\">=</span><span style=\"color: #000000; text-decoration-color: #000000; font-weight: bold\">[]</span>\n",
       "<span style=\"color: #000000; text-decoration-color: #000000\">                        </span><span style=\"color: #000000; text-decoration-color: #000000; font-weight: bold\">)</span>\n",
       "<span style=\"color: #000000; text-decoration-color: #000000\">                    </span><span style=\"color: #000000; text-decoration-color: #000000; font-weight: bold\">)</span>\n",
       "<span style=\"color: #000000; text-decoration-color: #000000\">                </span><span style=\"color: #000000; text-decoration-color: #000000; font-weight: bold\">]</span><span style=\"color: #000000; text-decoration-color: #000000\">,</span>\n",
       "<span style=\"color: #000000; text-decoration-color: #000000\">                </span><span style=\"color: #808000; text-decoration-color: #808000\">usage</span><span style=\"color: #000000; text-decoration-color: #000000\">=</span><span style=\"color: #800080; text-decoration-color: #800080; font-weight: bold\">Usage</span><span style=\"color: #000000; text-decoration-color: #000000; font-weight: bold\">(</span>\n",
       "<span style=\"color: #000000; text-decoration-color: #000000\">                    </span><span style=\"color: #808000; text-decoration-color: #808000\">completion_tokens</span><span style=\"color: #000000; text-decoration-color: #000000\">=</span><span style=\"color: #008080; text-decoration-color: #008080; font-weight: bold\">25</span><span style=\"color: #000000; text-decoration-color: #000000\">,</span>\n",
       "<span style=\"color: #000000; text-decoration-color: #000000\">                    </span><span style=\"color: #808000; text-decoration-color: #808000\">prompt_tokens</span><span style=\"color: #000000; text-decoration-color: #000000\">=</span><span style=\"color: #008080; text-decoration-color: #008080; font-weight: bold\">1311</span><span style=\"color: #000000; text-decoration-color: #000000\">,</span>\n",
       "<span style=\"color: #000000; text-decoration-color: #000000\">                    </span><span style=\"color: #808000; text-decoration-color: #808000\">total_tokens</span><span style=\"color: #000000; text-decoration-color: #000000\">=</span><span style=\"color: #008080; text-decoration-color: #008080; font-weight: bold\">1336</span><span style=\"color: #000000; text-decoration-color: #000000\">,</span>\n",
       "<span style=\"color: #000000; text-decoration-color: #000000\">                    </span><span style=\"color: #808000; text-decoration-color: #808000\">completion_tokens_details</span><span style=\"color: #000000; text-decoration-color: #000000\">=</span><span style=\"color: #800080; text-decoration-color: #800080; font-weight: bold\">CompletionTokensDetailsWrapper</span><span style=\"color: #000000; text-decoration-color: #000000; font-weight: bold\">(</span>\n",
       "<span style=\"color: #000000; text-decoration-color: #000000\">                        </span><span style=\"color: #808000; text-decoration-color: #808000\">accepted_prediction_tokens</span><span style=\"color: #000000; text-decoration-color: #000000\">=</span><span style=\"color: #008080; text-decoration-color: #008080; font-weight: bold\">0</span><span style=\"color: #000000; text-decoration-color: #000000\">,</span>\n",
       "<span style=\"color: #000000; text-decoration-color: #000000\">                        </span><span style=\"color: #808000; text-decoration-color: #808000\">audio_tokens</span><span style=\"color: #000000; text-decoration-color: #000000\">=</span><span style=\"color: #008080; text-decoration-color: #008080; font-weight: bold\">0</span><span style=\"color: #000000; text-decoration-color: #000000\">,</span>\n",
       "<span style=\"color: #000000; text-decoration-color: #000000\">                        </span><span style=\"color: #808000; text-decoration-color: #808000\">reasoning_tokens</span><span style=\"color: #000000; text-decoration-color: #000000\">=</span><span style=\"color: #008080; text-decoration-color: #008080; font-weight: bold\">0</span><span style=\"color: #000000; text-decoration-color: #000000\">,</span>\n",
       "<span style=\"color: #000000; text-decoration-color: #000000\">                        </span><span style=\"color: #808000; text-decoration-color: #808000\">rejected_prediction_tokens</span><span style=\"color: #000000; text-decoration-color: #000000\">=</span><span style=\"color: #008080; text-decoration-color: #008080; font-weight: bold\">0</span><span style=\"color: #000000; text-decoration-color: #000000\">,</span>\n",
       "<span style=\"color: #000000; text-decoration-color: #000000\">                        </span><span style=\"color: #808000; text-decoration-color: #808000\">text_tokens</span><span style=\"color: #000000; text-decoration-color: #000000\">=</span><span style=\"color: #800080; text-decoration-color: #800080; font-style: italic\">None</span>\n",
       "<span style=\"color: #000000; text-decoration-color: #000000\">                    </span><span style=\"color: #000000; text-decoration-color: #000000; font-weight: bold\">)</span><span style=\"color: #000000; text-decoration-color: #000000\">,</span>\n",
       "<span style=\"color: #000000; text-decoration-color: #000000\">                    </span><span style=\"color: #808000; text-decoration-color: #808000\">prompt_tokens_details</span><span style=\"color: #000000; text-decoration-color: #000000\">=</span><span style=\"color: #800080; text-decoration-color: #800080; font-weight: bold\">PromptTokensDetailsWrapper</span><span style=\"color: #000000; text-decoration-color: #000000; font-weight: bold\">(</span>\n",
       "<span style=\"color: #000000; text-decoration-color: #000000\">                        </span><span style=\"color: #808000; text-decoration-color: #808000\">audio_tokens</span><span style=\"color: #000000; text-decoration-color: #000000\">=</span><span style=\"color: #008080; text-decoration-color: #008080; font-weight: bold\">0</span><span style=\"color: #000000; text-decoration-color: #000000\">,</span>\n",
       "<span style=\"color: #000000; text-decoration-color: #000000\">                        </span><span style=\"color: #808000; text-decoration-color: #808000\">cached_tokens</span><span style=\"color: #000000; text-decoration-color: #000000\">=</span><span style=\"color: #008080; text-decoration-color: #008080; font-weight: bold\">0</span><span style=\"color: #000000; text-decoration-color: #000000\">,</span>\n",
       "<span style=\"color: #000000; text-decoration-color: #000000\">                        </span><span style=\"color: #808000; text-decoration-color: #808000\">text_tokens</span><span style=\"color: #000000; text-decoration-color: #000000\">=</span><span style=\"color: #800080; text-decoration-color: #800080; font-style: italic\">None</span><span style=\"color: #000000; text-decoration-color: #000000\">,</span>\n",
       "<span style=\"color: #000000; text-decoration-color: #000000\">                        </span><span style=\"color: #808000; text-decoration-color: #808000\">image_tokens</span><span style=\"color: #000000; text-decoration-color: #000000\">=</span><span style=\"color: #800080; text-decoration-color: #800080; font-style: italic\">None</span>\n",
       "<span style=\"color: #000000; text-decoration-color: #000000\">                    </span><span style=\"color: #000000; text-decoration-color: #000000; font-weight: bold\">)</span>\n",
       "<span style=\"color: #000000; text-decoration-color: #000000\">                </span><span style=\"color: #000000; text-decoration-color: #000000; font-weight: bold\">)</span><span style=\"color: #000000; text-decoration-color: #000000\">,</span>\n",
       "<span style=\"color: #000000; text-decoration-color: #000000\">                </span><span style=\"color: #808000; text-decoration-color: #808000\">service_tier</span><span style=\"color: #000000; text-decoration-color: #000000\">=</span><span style=\"color: #008000; text-decoration-color: #008000\">'default'</span>\n",
       "<span style=\"color: #000000; text-decoration-color: #000000\">            </span><span style=\"color: #000000; text-decoration-color: #000000; font-weight: bold\">)</span>\n",
       "<span style=\"color: #000000; text-decoration-color: #000000\">        </span><span style=\"color: #000000; text-decoration-color: #000000; font-weight: bold\">)</span><span style=\"color: #000000; text-decoration-color: #000000\">,</span>\n",
       "<span style=\"color: #000000; text-decoration-color: #000000\">        </span><span style=\"color: #808000; text-decoration-color: #808000\">model_output</span><span style=\"color: #000000; text-decoration-color: #000000\">=</span><span style=\"color: #008000; text-decoration-color: #008000\">\"Called Tool: 'python_interpreter' with arguments: {'code': 'import math\\\\nresult = </span>\n",
       "<span style=\"color: #008000; text-decoration-color: #008000\">math.sqrt(102001)'}\"</span><span style=\"color: #000000; text-decoration-color: #000000\">,</span>\n",
       "<span style=\"color: #000000; text-decoration-color: #000000\">        </span><span style=\"color: #808000; text-decoration-color: #808000\">observations</span><span style=\"color: #000000; text-decoration-color: #000000\">=</span><span style=\"color: #008000; text-decoration-color: #008000\">'Stdout:\\n\\nOutput: 319.37595401031683'</span><span style=\"color: #000000; text-decoration-color: #000000\">,</span>\n",
       "<span style=\"color: #000000; text-decoration-color: #000000\">        </span><span style=\"color: #808000; text-decoration-color: #808000\">observations_images</span><span style=\"color: #000000; text-decoration-color: #000000\">=</span><span style=\"color: #800080; text-decoration-color: #800080; font-style: italic\">None</span><span style=\"color: #000000; text-decoration-color: #000000\">,</span>\n",
       "<span style=\"color: #000000; text-decoration-color: #000000\">        </span><span style=\"color: #808000; text-decoration-color: #808000\">action_output</span><span style=\"color: #000000; text-decoration-color: #000000\">=</span><span style=\"color: #800080; text-decoration-color: #800080; font-style: italic\">None</span>\n",
       "<span style=\"color: #000000; text-decoration-color: #000000\">    </span><span style=\"color: #000000; text-decoration-color: #000000; font-weight: bold\">)</span><span style=\"color: #000000; text-decoration-color: #000000\">,</span>\n",
       "<span style=\"color: #000000; text-decoration-color: #000000\">    </span><span style=\"color: #800080; text-decoration-color: #800080; font-weight: bold\">ActionStep</span><span style=\"color: #000000; text-decoration-color: #000000; font-weight: bold\">(</span>\n",
       "<span style=\"color: #000000; text-decoration-color: #000000\">        </span><span style=\"color: #808000; text-decoration-color: #808000\">model_input_messages</span><span style=\"color: #000000; text-decoration-color: #000000\">=</span><span style=\"color: #000000; text-decoration-color: #000000; font-weight: bold\">[</span>\n",
       "<span style=\"color: #000000; text-decoration-color: #000000\">            </span><span style=\"color: #000000; text-decoration-color: #000000; font-weight: bold\">{</span>\n",
       "<span style=\"color: #000000; text-decoration-color: #000000\">                </span><span style=\"color: #008000; text-decoration-color: #008000\">'role'</span><span style=\"color: #000000; text-decoration-color: #000000\">: &lt;MessageRole.SYSTEM: </span><span style=\"color: #008000; text-decoration-color: #008000\">'system'</span><span style=\"color: #000000; text-decoration-color: #000000\">&gt;,</span>\n",
       "<span style=\"color: #000000; text-decoration-color: #000000\">                </span><span style=\"color: #008000; text-decoration-color: #008000\">'content'</span><span style=\"color: #000000; text-decoration-color: #000000\">: </span><span style=\"color: #000000; text-decoration-color: #000000; font-weight: bold\">[</span>\n",
       "<span style=\"color: #000000; text-decoration-color: #000000\">                    </span><span style=\"color: #000000; text-decoration-color: #000000; font-weight: bold\">{</span>\n",
       "<span style=\"color: #000000; text-decoration-color: #000000\">                        </span><span style=\"color: #008000; text-decoration-color: #008000\">'type'</span><span style=\"color: #000000; text-decoration-color: #000000\">: </span><span style=\"color: #008000; text-decoration-color: #008000\">'text'</span><span style=\"color: #000000; text-decoration-color: #000000\">,</span>\n",
       "<span style=\"color: #000000; text-decoration-color: #000000\">                        </span><span style=\"color: #008000; text-decoration-color: #008000\">'text'</span><span style=\"color: #000000; text-decoration-color: #000000\">: </span><span style=\"color: #008000; text-decoration-color: #008000\">'You are an expert assistant who can solve any task using tool calls. You will be </span>\n",
       "<span style=\"color: #008000; text-decoration-color: #008000\">given a task to solve as best you can.\\nTo do so, you have been given access to some tools.\\n\\nThe tool call you </span>\n",
       "<span style=\"color: #008000; text-decoration-color: #008000\">write is an action: after the tool is executed, you will get the result of the tool call as an \"observation\".\\nThis</span>\n",
       "<span style=\"color: #008000; text-decoration-color: #008000\">Action/Observation can repeat N times, you should take several steps when needed.\\n\\nYou can use the result of the </span>\n",
       "<span style=\"color: #008000; text-decoration-color: #008000\">previous action as input for the next action.\\nThe observation will always be a string: it can represent a file, </span>\n",
       "<span style=\"color: #008000; text-decoration-color: #008000\">like \"image_1.jpg\".\\nThen you can use it as input for the next action. You can do it for instance as </span>\n",
       "<span style=\"color: #008000; text-decoration-color: #008000\">follows:\\n\\nObservation: \"image_1.jpg\"\\n\\nAction:\\n{\\n  \"name\": \"image_transformer\",\\n  \"arguments\": {\"image\": </span>\n",
       "<span style=\"color: #008000; text-decoration-color: #008000\">\"image_1.jpg\"}\\n}\\n\\nTo provide the final answer to the task, use an action blob with \"name\": \"final_answer\" tool. </span>\n",
       "<span style=\"color: #008000; text-decoration-color: #008000\">It is the only way to complete the task, else you will be stuck on a loop. So your final output should look like </span>\n",
       "<span style=\"color: #008000; text-decoration-color: #008000\">this:\\nAction:\\n{\\n  \"name\": \"final_answer\",\\n  \"arguments\": {\"answer\": \"insert your final answer </span>\n",
       "<span style=\"color: #008000; text-decoration-color: #008000\">here\"}\\n}\\n\\n\\nHere are a few examples using notional tools:\\n---\\nTask: \"Generate an image of the oldest person in</span>\n",
       "<span style=\"color: #008000; text-decoration-color: #008000\">this document.\"\\n\\nAction:\\n{\\n  \"name\": \"document_qa\",\\n  \"arguments\": {\"document\": \"document.pdf\", \"question\": </span>\n",
       "<span style=\"color: #008000; text-decoration-color: #008000\">\"Who is the oldest person mentioned?\"}\\n}\\nObservation: \"The oldest person in the document is John Doe, a 55 year </span>\n",
       "<span style=\"color: #008000; text-decoration-color: #008000\">old lumberjack living in Newfoundland.\"\\n\\nAction:\\n{\\n  \"name\": \"image_generator\",\\n  \"arguments\": {\"prompt\": \"A </span>\n",
       "<span style=\"color: #008000; text-decoration-color: #008000\">portrait of John Doe, a 55-year-old man living in Canada.\"}\\n}\\nObservation: \"image.png\"\\n\\nAction:\\n{\\n  \"name\": </span>\n",
       "<span style=\"color: #008000; text-decoration-color: #008000\">\"final_answer\",\\n  \"arguments\": \"image.png\"\\n}\\n\\n---\\nTask: \"What is the result of the following operation: 5 + 3 </span>\n",
       "<span style=\"color: #008000; text-decoration-color: #008000\">+ 1294.678?\"\\n\\nAction:\\n{\\n    \"name\": \"python_interpreter\",\\n    \"arguments\": {\"code\": \"5 + 3 + </span>\n",
       "<span style=\"color: #008000; text-decoration-color: #008000\">1294.678\"}\\n}\\nObservation: 1302.678\\n\\nAction:\\n{\\n  \"name\": \"final_answer\",\\n  \"arguments\": </span>\n",
       "<span style=\"color: #008000; text-decoration-color: #008000\">\"1302.678\"\\n}\\n\\n---\\nTask: \"Which city has the highest population , Guangzhou or Shanghai?\"\\n\\nAction:\\n{\\n    </span>\n",
       "<span style=\"color: #008000; text-decoration-color: #008000\">\"name\": \"search\",\\n    \"arguments\": \"Population Guangzhou\"\\n}\\nObservation: [\\'Guangzhou has a population of 15 </span>\n",
       "<span style=\"color: #008000; text-decoration-color: #008000\">million inhabitants as of 2021.\\']\\n\\n\\nAction:\\n{\\n    \"name\": \"search\",\\n    \"arguments\": \"Population </span>\n",
       "<span style=\"color: #008000; text-decoration-color: #008000\">Shanghai\"\\n}\\nObservation: \\'26 million (2019)\\'\\n\\nAction:\\n{\\n  \"name\": \"final_answer\",\\n  \"arguments\": </span>\n",
       "<span style=\"color: #008000; text-decoration-color: #008000\">\"Shanghai\"\\n}\\n\\nAbove example were using notional tools that might not exist for you. You only have access to </span>\n",
       "<span style=\"color: #008000; text-decoration-color: #008000\">these tools:\\n- python_interpreter: This is a tool that evaluates python code. It can be used to perform </span>\n",
       "<span style=\"color: #008000; text-decoration-color: #008000\">calculations.\\n    Takes inputs: {\\'code\\': {\\'type\\': \\'string\\', \\'description\\': \"The code snippet to evaluate. </span>\n",
       "<span style=\"color: #008000; text-decoration-color: #008000\">All variables used in this snippet must be defined in this same snippet, else you will get an error. This code can </span>\n",
       "<span style=\"color: #008000; text-decoration-color: #008000\">only import the following python libraries: [\\'re\\', \\'unicodedata\\', \\'itertools\\', \\'random\\', \\'statistics\\', </span>\n",
       "<span style=\"color: #008000; text-decoration-color: #008000\">\\'math\\', \\'time\\', \\'collections\\', \\'queue\\', \\'stat\\', \\'datetime\\'].\"}}\\n    Returns an output of type: </span>\n",
       "<span style=\"color: #008000; text-decoration-color: #008000\">string\\n- web_search: Performs a duckduckgo web search based on your query (think a Google search) then returns the</span>\n",
       "<span style=\"color: #008000; text-decoration-color: #008000\">top search results.\\n    Takes inputs: {\\'query\\': {\\'type\\': \\'string\\', \\'description\\': \\'The search query to </span>\n",
       "<span style=\"color: #008000; text-decoration-color: #008000\">perform.\\'}}\\n    Returns an output of type: string\\n- visit_webpage: Visits a webpage at the given url and reads </span>\n",
       "<span style=\"color: #008000; text-decoration-color: #008000\">its content as a markdown string. Use this to browse webpages.\\n    Takes inputs: {\\'url\\': {\\'type\\': \\'string\\', </span>\n",
       "<span style=\"color: #008000; text-decoration-color: #008000\">\\'description\\': \\'The url of the webpage to visit.\\'}}\\n    Returns an output of type: string\\n- final_answer: </span>\n",
       "<span style=\"color: #008000; text-decoration-color: #008000\">Provides a final answer to the given problem.\\n    Takes inputs: {\\'answer\\': {\\'type\\': \\'any\\', \\'description\\': </span>\n",
       "<span style=\"color: #008000; text-decoration-color: #008000\">\\'The final answer to the problem\\'}}\\n    Returns an output of type: any\\n\\nHere are the rules you should always </span>\n",
       "<span style=\"color: #008000; text-decoration-color: #008000\">follow to solve your task:\\n1. ALWAYS provide a tool call, else you will fail.\\n2. Always use the right arguments </span>\n",
       "<span style=\"color: #008000; text-decoration-color: #008000\">for the tools. Never use variable names as the action arguments, use the value instead.\\n3. Call a tool only when </span>\n",
       "<span style=\"color: #008000; text-decoration-color: #008000\">needed: do not call the search agent if you do not need information, try to solve the task yourself.\\nIf no tool </span>\n",
       "<span style=\"color: #008000; text-decoration-color: #008000\">call is needed, use final_answer tool to return your answer.\\n4. Never re-do a tool call that you previously did </span>\n",
       "<span style=\"color: #008000; text-decoration-color: #008000\">with the exact same parameters.\\n\\nNow Begin!'</span>\n",
       "<span style=\"color: #000000; text-decoration-color: #000000\">                    </span><span style=\"color: #000000; text-decoration-color: #000000; font-weight: bold\">}</span>\n",
       "<span style=\"color: #000000; text-decoration-color: #000000\">                </span><span style=\"color: #000000; text-decoration-color: #000000; font-weight: bold\">]</span>\n",
       "<span style=\"color: #000000; text-decoration-color: #000000\">            </span><span style=\"color: #000000; text-decoration-color: #000000; font-weight: bold\">}</span><span style=\"color: #000000; text-decoration-color: #000000\">,</span>\n",
       "<span style=\"color: #000000; text-decoration-color: #000000\">            </span><span style=\"color: #000000; text-decoration-color: #000000; font-weight: bold\">{</span>\n",
       "<span style=\"color: #000000; text-decoration-color: #000000\">                </span><span style=\"color: #008000; text-decoration-color: #008000\">'role'</span><span style=\"color: #000000; text-decoration-color: #000000\">: &lt;MessageRole.USER: </span><span style=\"color: #008000; text-decoration-color: #008000\">'user'</span><span style=\"color: #000000; text-decoration-color: #000000\">&gt;,</span>\n",
       "<span style=\"color: #000000; text-decoration-color: #000000\">                </span><span style=\"color: #008000; text-decoration-color: #008000\">'content'</span><span style=\"color: #000000; text-decoration-color: #000000\">: </span><span style=\"color: #000000; text-decoration-color: #000000; font-weight: bold\">[{</span><span style=\"color: #008000; text-decoration-color: #008000\">'type'</span><span style=\"color: #000000; text-decoration-color: #000000\">: </span><span style=\"color: #008000; text-decoration-color: #008000\">'text'</span><span style=\"color: #000000; text-decoration-color: #000000\">, </span><span style=\"color: #008000; text-decoration-color: #008000\">'text'</span><span style=\"color: #000000; text-decoration-color: #000000\">: </span><span style=\"color: #008000; text-decoration-color: #008000\">'New task:\\nCan you find me the square root of 102001'</span><span style=\"color: #000000; text-decoration-color: #000000; font-weight: bold\">}]</span>\n",
       "<span style=\"color: #000000; text-decoration-color: #000000\">            </span><span style=\"color: #000000; text-decoration-color: #000000; font-weight: bold\">}</span><span style=\"color: #000000; text-decoration-color: #000000\">,</span>\n",
       "<span style=\"color: #000000; text-decoration-color: #000000\">            </span><span style=\"color: #000000; text-decoration-color: #000000; font-weight: bold\">{</span>\n",
       "<span style=\"color: #000000; text-decoration-color: #000000\">                </span><span style=\"color: #008000; text-decoration-color: #008000\">'role'</span><span style=\"color: #000000; text-decoration-color: #000000\">: &lt;MessageRole.ASSISTANT: </span><span style=\"color: #008000; text-decoration-color: #008000\">'assistant'</span><span style=\"color: #000000; text-decoration-color: #000000\">&gt;,</span>\n",
       "<span style=\"color: #000000; text-decoration-color: #000000\">                </span><span style=\"color: #008000; text-decoration-color: #008000\">'content'</span><span style=\"color: #000000; text-decoration-color: #000000\">: </span><span style=\"color: #000000; text-decoration-color: #000000; font-weight: bold\">[</span>\n",
       "<span style=\"color: #000000; text-decoration-color: #000000\">                    </span><span style=\"color: #000000; text-decoration-color: #000000; font-weight: bold\">{</span>\n",
       "<span style=\"color: #000000; text-decoration-color: #000000\">                        </span><span style=\"color: #008000; text-decoration-color: #008000\">'type'</span><span style=\"color: #000000; text-decoration-color: #000000\">: </span><span style=\"color: #008000; text-decoration-color: #008000\">'text'</span><span style=\"color: #000000; text-decoration-color: #000000\">,</span>\n",
       "<span style=\"color: #000000; text-decoration-color: #000000\">                        </span><span style=\"color: #008000; text-decoration-color: #008000\">'text'</span><span style=\"color: #000000; text-decoration-color: #000000\">: </span><span style=\"color: #008000; text-decoration-color: #008000\">\"Called Tool: 'python_interpreter' with arguments: {'code': 'import math\\\\nresult =</span>\n",
       "<span style=\"color: #008000; text-decoration-color: #008000\">math.sqrt(102001)'}\"</span>\n",
       "<span style=\"color: #000000; text-decoration-color: #000000\">                    </span><span style=\"color: #000000; text-decoration-color: #000000; font-weight: bold\">}</span>\n",
       "<span style=\"color: #000000; text-decoration-color: #000000\">                </span><span style=\"color: #000000; text-decoration-color: #000000; font-weight: bold\">]</span>\n",
       "<span style=\"color: #000000; text-decoration-color: #000000\">            </span><span style=\"color: #000000; text-decoration-color: #000000; font-weight: bold\">}</span><span style=\"color: #000000; text-decoration-color: #000000\">,</span>\n",
       "<span style=\"color: #000000; text-decoration-color: #000000\">            </span><span style=\"color: #000000; text-decoration-color: #000000; font-weight: bold\">{</span>\n",
       "<span style=\"color: #000000; text-decoration-color: #000000\">                </span><span style=\"color: #008000; text-decoration-color: #008000\">'role'</span><span style=\"color: #000000; text-decoration-color: #000000\">: &lt;MessageRole.TOOL_CALL: </span><span style=\"color: #008000; text-decoration-color: #008000\">'tool-call'</span><span style=\"color: #000000; text-decoration-color: #000000\">&gt;,</span>\n",
       "<span style=\"color: #000000; text-decoration-color: #000000\">                </span><span style=\"color: #008000; text-decoration-color: #008000\">'content'</span><span style=\"color: #000000; text-decoration-color: #000000\">: </span><span style=\"color: #000000; text-decoration-color: #000000; font-weight: bold\">[</span>\n",
       "<span style=\"color: #000000; text-decoration-color: #000000\">                    </span><span style=\"color: #000000; text-decoration-color: #000000; font-weight: bold\">{</span>\n",
       "<span style=\"color: #000000; text-decoration-color: #000000\">                        </span><span style=\"color: #008000; text-decoration-color: #008000\">'type'</span><span style=\"color: #000000; text-decoration-color: #000000\">: </span><span style=\"color: #008000; text-decoration-color: #008000\">'text'</span><span style=\"color: #000000; text-decoration-color: #000000\">,</span>\n",
       "<span style=\"color: #000000; text-decoration-color: #000000\">                        </span><span style=\"color: #008000; text-decoration-color: #008000\">'text'</span><span style=\"color: #000000; text-decoration-color: #000000\">: </span><span style=\"color: #008000; text-decoration-color: #008000\">\"Calling tools:\\n[{'id': 'call_lgGJFqVTBUhukwEocWOi5yci', 'type': 'function', </span>\n",
       "<span style=\"color: #008000; text-decoration-color: #008000\">'function': {'name': 'python_interpreter', 'arguments': {'code': 'import math\\\\nresult = math.sqrt(102001)'}}}]\"</span>\n",
       "<span style=\"color: #000000; text-decoration-color: #000000\">                    </span><span style=\"color: #000000; text-decoration-color: #000000; font-weight: bold\">}</span>\n",
       "<span style=\"color: #000000; text-decoration-color: #000000\">                </span><span style=\"color: #000000; text-decoration-color: #000000; font-weight: bold\">]</span>\n",
       "<span style=\"color: #000000; text-decoration-color: #000000\">            </span><span style=\"color: #000000; text-decoration-color: #000000; font-weight: bold\">}</span><span style=\"color: #000000; text-decoration-color: #000000\">,</span>\n",
       "<span style=\"color: #000000; text-decoration-color: #000000\">            </span><span style=\"color: #000000; text-decoration-color: #000000; font-weight: bold\">{</span>\n",
       "<span style=\"color: #000000; text-decoration-color: #000000\">                </span><span style=\"color: #008000; text-decoration-color: #008000\">'role'</span><span style=\"color: #000000; text-decoration-color: #000000\">: &lt;MessageRole.TOOL_RESPONSE: </span><span style=\"color: #008000; text-decoration-color: #008000\">'tool-response'</span><span style=\"font-weight: bold\">&gt;</span>,\n",
       "                <span style=\"color: #008000; text-decoration-color: #008000\">'content'</span>: <span style=\"font-weight: bold\">[{</span><span style=\"color: #008000; text-decoration-color: #008000\">'type'</span>: <span style=\"color: #008000; text-decoration-color: #008000\">'text'</span>, <span style=\"color: #008000; text-decoration-color: #008000\">'text'</span>: <span style=\"color: #008000; text-decoration-color: #008000\">'Observation:\\nStdout:\\n\\nOutput: 319.37595401031683'</span><span style=\"font-weight: bold\">}]</span>\n",
       "            <span style=\"font-weight: bold\">}</span>\n",
       "        <span style=\"font-weight: bold\">]</span>,\n",
       "        <span style=\"color: #808000; text-decoration-color: #808000\">tool_calls</span>=<span style=\"font-weight: bold\">[</span>\n",
       "            <span style=\"color: #800080; text-decoration-color: #800080; font-weight: bold\">ToolCall</span><span style=\"font-weight: bold\">(</span>\n",
       "                <span style=\"color: #808000; text-decoration-color: #808000\">name</span>=<span style=\"color: #008000; text-decoration-color: #008000\">'final_answer'</span>,\n",
       "                <span style=\"color: #808000; text-decoration-color: #808000\">arguments</span>=<span style=\"font-weight: bold\">{</span><span style=\"color: #008000; text-decoration-color: #008000\">'answer'</span>: <span style=\"color: #008000; text-decoration-color: #008000\">'319.37595401031683'</span><span style=\"font-weight: bold\">}</span>,\n",
       "                <span style=\"color: #808000; text-decoration-color: #808000\">id</span>=<span style=\"color: #008000; text-decoration-color: #008000\">'call_AXT19qWqwIeZwAZhUPKe6RbK'</span>\n",
       "            <span style=\"font-weight: bold\">)</span>\n",
       "        <span style=\"font-weight: bold\">]</span>,\n",
       "        <span style=\"color: #808000; text-decoration-color: #808000\">start_time</span>=<span style=\"color: #008080; text-decoration-color: #008080; font-weight: bold\">1747562741.820061</span>,\n",
       "        <span style=\"color: #808000; text-decoration-color: #808000\">end_time</span>=<span style=\"color: #008080; text-decoration-color: #008080; font-weight: bold\">1747562742.6031659</span>,\n",
       "        <span style=\"color: #808000; text-decoration-color: #808000\">step_number</span>=<span style=\"color: #008080; text-decoration-color: #008080; font-weight: bold\">2</span>,\n",
       "        <span style=\"color: #808000; text-decoration-color: #808000\">error</span>=<span style=\"color: #800080; text-decoration-color: #800080; font-style: italic\">None</span>,\n",
       "        <span style=\"color: #808000; text-decoration-color: #808000\">duration</span>=<span style=\"color: #008080; text-decoration-color: #008080; font-weight: bold\">0.7831048965454102</span>,\n",
       "        <span style=\"color: #808000; text-decoration-color: #808000\">model_output_message</span>=<span style=\"color: #800080; text-decoration-color: #800080; font-weight: bold\">ChatMessage</span><span style=\"font-weight: bold\">(</span>\n",
       "            <span style=\"color: #808000; text-decoration-color: #808000\">role</span>=<span style=\"color: #008000; text-decoration-color: #008000\">'assistant'</span>,\n",
       "            <span style=\"color: #808000; text-decoration-color: #808000\">content</span>=<span style=\"color: #800080; text-decoration-color: #800080; font-style: italic\">None</span>,\n",
       "            <span style=\"color: #808000; text-decoration-color: #808000\">tool_calls</span>=<span style=\"font-weight: bold\">[</span>\n",
       "                <span style=\"color: #800080; text-decoration-color: #800080; font-weight: bold\">ChatMessageToolCall</span><span style=\"font-weight: bold\">(</span>\n",
       "                    <span style=\"color: #808000; text-decoration-color: #808000\">function</span>=<span style=\"color: #800080; text-decoration-color: #800080; font-weight: bold\">ChatMessageToolCallDefinition</span><span style=\"font-weight: bold\">(</span>\n",
       "                        <span style=\"color: #808000; text-decoration-color: #808000\">arguments</span>=<span style=\"font-weight: bold\">{</span><span style=\"color: #008000; text-decoration-color: #008000\">'answer'</span>: <span style=\"color: #008000; text-decoration-color: #008000\">'319.37595401031683'</span><span style=\"font-weight: bold\">}</span>,\n",
       "                        <span style=\"color: #808000; text-decoration-color: #808000\">name</span>=<span style=\"color: #008000; text-decoration-color: #008000\">'final_answer'</span>,\n",
       "                        <span style=\"color: #808000; text-decoration-color: #808000\">description</span>=<span style=\"color: #800080; text-decoration-color: #800080; font-style: italic\">None</span>\n",
       "                    <span style=\"font-weight: bold\">)</span>,\n",
       "                    <span style=\"color: #808000; text-decoration-color: #808000\">id</span>=<span style=\"color: #008000; text-decoration-color: #008000\">'call_AXT19qWqwIeZwAZhUPKe6RbK'</span>,\n",
       "                    <span style=\"color: #808000; text-decoration-color: #808000\">type</span>=<span style=\"color: #008000; text-decoration-color: #008000\">'function'</span>\n",
       "                <span style=\"font-weight: bold\">)</span>\n",
       "            <span style=\"font-weight: bold\">]</span>,\n",
       "            <span style=\"color: #808000; text-decoration-color: #808000\">raw</span>=<span style=\"color: #800080; text-decoration-color: #800080; font-weight: bold\">ModelResponse</span><span style=\"font-weight: bold\">(</span>\n",
       "                <span style=\"color: #808000; text-decoration-color: #808000\">id</span>=<span style=\"color: #008000; text-decoration-color: #008000\">'chatcmpl-BYVBmIKHBP1N4TUSWcfdnko7gOTfN'</span>,\n",
       "                <span style=\"color: #808000; text-decoration-color: #808000\">created</span>=<span style=\"color: #008080; text-decoration-color: #008080; font-weight: bold\">1747562742</span>,\n",
       "                <span style=\"color: #808000; text-decoration-color: #808000\">model</span>=<span style=\"color: #008000; text-decoration-color: #008000\">'gpt-3.5-turbo-0125'</span>,\n",
       "                <span style=\"color: #808000; text-decoration-color: #808000\">object</span>=<span style=\"color: #008000; text-decoration-color: #008000\">'chat.completion'</span>,\n",
       "                <span style=\"color: #808000; text-decoration-color: #808000\">system_fingerprint</span>=<span style=\"color: #800080; text-decoration-color: #800080; font-style: italic\">None</span>,\n",
       "                <span style=\"color: #808000; text-decoration-color: #808000\">choices</span>=<span style=\"font-weight: bold\">[</span>\n",
       "                    <span style=\"color: #800080; text-decoration-color: #800080; font-weight: bold\">Choices</span><span style=\"font-weight: bold\">(</span>\n",
       "                        <span style=\"color: #808000; text-decoration-color: #808000\">finish_reason</span>=<span style=\"color: #008000; text-decoration-color: #008000\">'tool_calls'</span>,\n",
       "                        <span style=\"color: #808000; text-decoration-color: #808000\">index</span>=<span style=\"color: #008080; text-decoration-color: #008080; font-weight: bold\">0</span>,\n",
       "                        <span style=\"color: #808000; text-decoration-color: #808000\">message</span>=<span style=\"color: #800080; text-decoration-color: #800080; font-weight: bold\">Message</span><span style=\"font-weight: bold\">(</span>\n",
       "                            <span style=\"color: #808000; text-decoration-color: #808000\">content</span>=<span style=\"color: #800080; text-decoration-color: #800080; font-style: italic\">None</span>,\n",
       "                            <span style=\"color: #808000; text-decoration-color: #808000\">role</span>=<span style=\"color: #008000; text-decoration-color: #008000\">'assistant'</span>,\n",
       "                            <span style=\"color: #808000; text-decoration-color: #808000\">tool_calls</span>=<span style=\"font-weight: bold\">[</span>\n",
       "                                <span style=\"color: #800080; text-decoration-color: #800080; font-weight: bold\">ChatCompletionMessageToolCall</span><span style=\"font-weight: bold\">(</span>\n",
       "                                    <span style=\"color: #808000; text-decoration-color: #808000\">function</span>=<span style=\"color: #800080; text-decoration-color: #800080; font-weight: bold\">Function</span><span style=\"font-weight: bold\">(</span>\n",
       "                                        <span style=\"color: #808000; text-decoration-color: #808000\">arguments</span>=<span style=\"color: #008000; text-decoration-color: #008000\">'{\"answer\":\"319.37595401031683\"}'</span>,\n",
       "                                        <span style=\"color: #808000; text-decoration-color: #808000\">name</span>=<span style=\"color: #008000; text-decoration-color: #008000\">'final_answer'</span>\n",
       "                                    <span style=\"font-weight: bold\">)</span>,\n",
       "                                    <span style=\"color: #808000; text-decoration-color: #808000\">id</span>=<span style=\"color: #008000; text-decoration-color: #008000\">'call_AXT19qWqwIeZwAZhUPKe6RbK'</span>,\n",
       "                                    <span style=\"color: #808000; text-decoration-color: #808000\">type</span>=<span style=\"color: #008000; text-decoration-color: #008000\">'function'</span>\n",
       "                                <span style=\"font-weight: bold\">)</span>\n",
       "                            <span style=\"font-weight: bold\">]</span>,\n",
       "                            <span style=\"color: #808000; text-decoration-color: #808000\">function_call</span>=<span style=\"color: #800080; text-decoration-color: #800080; font-style: italic\">None</span>,\n",
       "                            <span style=\"color: #808000; text-decoration-color: #808000\">provider_specific_fields</span>=<span style=\"font-weight: bold\">{</span><span style=\"color: #008000; text-decoration-color: #008000\">'refusal'</span>: <span style=\"color: #800080; text-decoration-color: #800080; font-style: italic\">None</span><span style=\"font-weight: bold\">}</span>,\n",
       "                            <span style=\"color: #808000; text-decoration-color: #808000\">annotations</span>=<span style=\"font-weight: bold\">[]</span>\n",
       "                        <span style=\"font-weight: bold\">)</span>\n",
       "                    <span style=\"font-weight: bold\">)</span>\n",
       "                <span style=\"font-weight: bold\">]</span>,\n",
       "                <span style=\"color: #808000; text-decoration-color: #808000\">usage</span>=<span style=\"color: #800080; text-decoration-color: #800080; font-weight: bold\">Usage</span><span style=\"font-weight: bold\">(</span>\n",
       "                    <span style=\"color: #808000; text-decoration-color: #808000\">completion_tokens</span>=<span style=\"color: #008080; text-decoration-color: #008080; font-weight: bold\">20</span>,\n",
       "                    <span style=\"color: #808000; text-decoration-color: #808000\">prompt_tokens</span>=<span style=\"color: #008080; text-decoration-color: #008080; font-weight: bold\">1427</span>,\n",
       "                    <span style=\"color: #808000; text-decoration-color: #808000\">total_tokens</span>=<span style=\"color: #008080; text-decoration-color: #008080; font-weight: bold\">1447</span>,\n",
       "                    <span style=\"color: #808000; text-decoration-color: #808000\">completion_tokens_details</span>=<span style=\"color: #800080; text-decoration-color: #800080; font-weight: bold\">CompletionTokensDetailsWrapper</span><span style=\"font-weight: bold\">(</span>\n",
       "                        <span style=\"color: #808000; text-decoration-color: #808000\">accepted_prediction_tokens</span>=<span style=\"color: #008080; text-decoration-color: #008080; font-weight: bold\">0</span>,\n",
       "                        <span style=\"color: #808000; text-decoration-color: #808000\">audio_tokens</span>=<span style=\"color: #008080; text-decoration-color: #008080; font-weight: bold\">0</span>,\n",
       "                        <span style=\"color: #808000; text-decoration-color: #808000\">reasoning_tokens</span>=<span style=\"color: #008080; text-decoration-color: #008080; font-weight: bold\">0</span>,\n",
       "                        <span style=\"color: #808000; text-decoration-color: #808000\">rejected_prediction_tokens</span>=<span style=\"color: #008080; text-decoration-color: #008080; font-weight: bold\">0</span>,\n",
       "                        <span style=\"color: #808000; text-decoration-color: #808000\">text_tokens</span>=<span style=\"color: #800080; text-decoration-color: #800080; font-style: italic\">None</span>\n",
       "                    <span style=\"font-weight: bold\">)</span>,\n",
       "                    <span style=\"color: #808000; text-decoration-color: #808000\">prompt_tokens_details</span>=<span style=\"color: #800080; text-decoration-color: #800080; font-weight: bold\">PromptTokensDetailsWrapper</span><span style=\"font-weight: bold\">(</span>\n",
       "                        <span style=\"color: #808000; text-decoration-color: #808000\">audio_tokens</span>=<span style=\"color: #008080; text-decoration-color: #008080; font-weight: bold\">0</span>,\n",
       "                        <span style=\"color: #808000; text-decoration-color: #808000\">cached_tokens</span>=<span style=\"color: #008080; text-decoration-color: #008080; font-weight: bold\">0</span>,\n",
       "                        <span style=\"color: #808000; text-decoration-color: #808000\">text_tokens</span>=<span style=\"color: #800080; text-decoration-color: #800080; font-style: italic\">None</span>,\n",
       "                        <span style=\"color: #808000; text-decoration-color: #808000\">image_tokens</span>=<span style=\"color: #800080; text-decoration-color: #800080; font-style: italic\">None</span>\n",
       "                    <span style=\"font-weight: bold\">)</span>\n",
       "                <span style=\"font-weight: bold\">)</span>,\n",
       "                <span style=\"color: #808000; text-decoration-color: #808000\">service_tier</span>=<span style=\"color: #008000; text-decoration-color: #008000\">'default'</span>\n",
       "            <span style=\"font-weight: bold\">)</span>\n",
       "        <span style=\"font-weight: bold\">)</span>,\n",
       "        <span style=\"color: #808000; text-decoration-color: #808000\">model_output</span>=<span style=\"color: #008000; text-decoration-color: #008000\">\"Called Tool: 'final_answer' with arguments: {'answer': '319.37595401031683'}\"</span>,\n",
       "        <span style=\"color: #808000; text-decoration-color: #808000\">observations</span>=<span style=\"color: #800080; text-decoration-color: #800080; font-style: italic\">None</span>,\n",
       "        <span style=\"color: #808000; text-decoration-color: #808000\">observations_images</span>=<span style=\"color: #800080; text-decoration-color: #800080; font-style: italic\">None</span>,\n",
       "        <span style=\"color: #808000; text-decoration-color: #808000\">action_output</span>=<span style=\"color: #008000; text-decoration-color: #008000\">'319.37595401031683'</span>\n",
       "    <span style=\"font-weight: bold\">)</span>\n",
       "<span style=\"font-weight: bold\">]</span>\n",
       "</pre>\n"
      ],
      "text/plain": [
       "\u001b[1m[\u001b[0m\n",
       "    \u001b[1;35mSystemPromptStep\u001b[0m\u001b[1m(\u001b[0m\n",
       "        \u001b[33msystem_prompt\u001b[0m=\u001b[32m'You are an expert assistant who can solve any task using tool calls. You will be given a \u001b[0m\n",
       "\u001b[32mtask to solve as best you can.\\nTo do so, you have been given access to some tools.\\n\\nThe tool call you write is \u001b[0m\n",
       "\u001b[32man action: after the tool is executed, you will get the result of the tool call as an \"observation\".\\nThis \u001b[0m\n",
       "\u001b[32mAction/Observation can repeat N times, you should take several steps when needed.\\n\\nYou can use the result of the \u001b[0m\n",
       "\u001b[32mprevious action as input for the next action.\\nThe observation will always be a string: it can represent a file, \u001b[0m\n",
       "\u001b[32mlike \"image_1.jpg\".\\nThen you can use it as input for the next action. You can do it for instance as \u001b[0m\n",
       "\u001b[32mfollows:\\n\\nObservation: \"image_1.jpg\"\\n\\nAction:\\n\u001b[0m\u001b[32m{\u001b[0m\u001b[32m\\n  \"name\": \"image_transformer\",\\n  \"arguments\": \u001b[0m\u001b[32m{\u001b[0m\u001b[32m\"image\": \u001b[0m\n",
       "\u001b[32m\"image_1.jpg\"\u001b[0m\u001b[32m}\u001b[0m\u001b[32m\\n\u001b[0m\u001b[32m}\u001b[0m\u001b[32m\\n\\nTo provide the final answer to the task, use an action blob with \"name\": \"final_answer\" tool. \u001b[0m\n",
       "\u001b[32mIt is the only way to complete the task, else you will be stuck on a loop. So your final output should look like \u001b[0m\n",
       "\u001b[32mthis:\\nAction:\\n\u001b[0m\u001b[32m{\u001b[0m\u001b[32m\\n  \"name\": \"final_answer\",\\n  \"arguments\": \u001b[0m\u001b[32m{\u001b[0m\u001b[32m\"answer\": \"insert your final answer \u001b[0m\n",
       "\u001b[32mhere\"\u001b[0m\u001b[32m}\u001b[0m\u001b[32m\\n\u001b[0m\u001b[32m}\u001b[0m\u001b[32m\\n\\n\\nHere are a few examples using notional tools:\\n---\\nTask: \"Generate an image of the oldest person in\u001b[0m\n",
       "\u001b[32mthis document.\"\\n\\nAction:\\n\u001b[0m\u001b[32m{\u001b[0m\u001b[32m\\n  \"name\": \"document_qa\",\\n  \"arguments\": \u001b[0m\u001b[32m{\u001b[0m\u001b[32m\"document\": \"document.pdf\", \"question\": \u001b[0m\n",
       "\u001b[32m\"Who is the oldest person mentioned?\"\u001b[0m\u001b[32m}\u001b[0m\u001b[32m\\n\u001b[0m\u001b[32m}\u001b[0m\u001b[32m\\nObservation: \"The oldest person in the document is John Doe, a 55 year \u001b[0m\n",
       "\u001b[32mold lumberjack living in Newfoundland.\"\\n\\nAction:\\n\u001b[0m\u001b[32m{\u001b[0m\u001b[32m\\n  \"name\": \"image_generator\",\\n  \"arguments\": \u001b[0m\u001b[32m{\u001b[0m\u001b[32m\"prompt\": \"A \u001b[0m\n",
       "\u001b[32mportrait of John Doe, a 55-year-old man living in Canada.\"\u001b[0m\u001b[32m}\u001b[0m\u001b[32m\\n\u001b[0m\u001b[32m}\u001b[0m\u001b[32m\\nObservation: \"image.png\"\\n\\nAction:\\n\u001b[0m\u001b[32m{\u001b[0m\u001b[32m\\n  \"name\": \u001b[0m\n",
       "\u001b[32m\"final_answer\",\\n  \"arguments\": \"image.png\"\\n\u001b[0m\u001b[32m}\u001b[0m\u001b[32m\\n\\n---\\nTask: \"What is the result of the following operation: 5 + 3 \u001b[0m\n",
       "\u001b[32m+ 1294.678?\"\\n\\nAction:\\n\u001b[0m\u001b[32m{\u001b[0m\u001b[32m\\n    \"name\": \"python_interpreter\",\\n    \"arguments\": \u001b[0m\u001b[32m{\u001b[0m\u001b[32m\"code\": \"5 + 3 + \u001b[0m\n",
       "\u001b[32m1294.678\"\u001b[0m\u001b[32m}\u001b[0m\u001b[32m\\n\u001b[0m\u001b[32m}\u001b[0m\u001b[32m\\nObservation: 1302.678\\n\\nAction:\\n\u001b[0m\u001b[32m{\u001b[0m\u001b[32m\\n  \"name\": \"final_answer\",\\n  \"arguments\": \u001b[0m\n",
       "\u001b[32m\"1302.678\"\\n\u001b[0m\u001b[32m}\u001b[0m\u001b[32m\\n\\n---\\nTask: \"Which city has the highest population , Guangzhou or Shanghai?\"\\n\\nAction:\\n\u001b[0m\u001b[32m{\u001b[0m\u001b[32m\\n    \u001b[0m\n",
       "\u001b[32m\"name\": \"search\",\\n    \"arguments\": \"Population Guangzhou\"\\n\u001b[0m\u001b[32m}\u001b[0m\u001b[32m\\nObservation: \u001b[0m\u001b[32m[\u001b[0m\u001b[32m\\'Guangzhou has a population of 15 \u001b[0m\n",
       "\u001b[32mmillion inhabitants as of 2021.\\'\u001b[0m\u001b[32m]\u001b[0m\u001b[32m\\n\\n\\nAction:\\n\u001b[0m\u001b[32m{\u001b[0m\u001b[32m\\n    \"name\": \"search\",\\n    \"arguments\": \"Population \u001b[0m\n",
       "\u001b[32mShanghai\"\\n\u001b[0m\u001b[32m}\u001b[0m\u001b[32m\\nObservation: \\'26 million \u001b[0m\u001b[32m(\u001b[0m\u001b[32m2019\u001b[0m\u001b[32m)\u001b[0m\u001b[32m\\'\\n\\nAction:\\n\u001b[0m\u001b[32m{\u001b[0m\u001b[32m\\n  \"name\": \"final_answer\",\\n  \"arguments\": \u001b[0m\n",
       "\u001b[32m\"Shanghai\"\\n\u001b[0m\u001b[32m}\u001b[0m\u001b[32m\\n\\nAbove example were using notional tools that might not exist for you. You only have access to \u001b[0m\n",
       "\u001b[32mthese tools:\\n- python_interpreter: This is a tool that evaluates python code. It can be used to perform \u001b[0m\n",
       "\u001b[32mcalculations.\\n    Takes inputs: \u001b[0m\u001b[32m{\u001b[0m\u001b[32m\\'code\\': \u001b[0m\u001b[32m{\u001b[0m\u001b[32m\\'type\\': \\'string\\', \\'description\\': \"The code snippet to evaluate. \u001b[0m\n",
       "\u001b[32mAll variables used in this snippet must be defined in this same snippet, else you will get an error. This code can \u001b[0m\n",
       "\u001b[32monly import the following python libraries: \u001b[0m\u001b[32m[\u001b[0m\u001b[32m\\'re\\', \\'unicodedata\\', \\'itertools\\', \\'random\\', \\'statistics\\', \u001b[0m\n",
       "\u001b[32m\\'math\\', \\'time\\', \\'collections\\', \\'queue\\', \\'stat\\', \\'datetime\\'\u001b[0m\u001b[32m]\u001b[0m\u001b[32m.\"\u001b[0m\u001b[32m}\u001b[0m\u001b[32m}\u001b[0m\u001b[32m\\n    Returns an output of type: \u001b[0m\n",
       "\u001b[32mstring\\n- web_search: Performs a duckduckgo web search based on your query \u001b[0m\u001b[32m(\u001b[0m\u001b[32mthink a Google search\u001b[0m\u001b[32m)\u001b[0m\u001b[32m then returns the\u001b[0m\n",
       "\u001b[32mtop search results.\\n    Takes inputs: \u001b[0m\u001b[32m{\u001b[0m\u001b[32m\\'query\\': \u001b[0m\u001b[32m{\u001b[0m\u001b[32m\\'type\\': \\'string\\', \\'description\\': \\'The search query to \u001b[0m\n",
       "\u001b[32mperform.\\'\u001b[0m\u001b[32m}\u001b[0m\u001b[32m}\u001b[0m\u001b[32m\\n    Returns an output of type: string\\n- visit_webpage: Visits a webpage at the given url and reads \u001b[0m\n",
       "\u001b[32mits content as a markdown string. Use this to browse webpages.\\n    Takes inputs: \u001b[0m\u001b[32m{\u001b[0m\u001b[32m\\'url\\': \u001b[0m\u001b[32m{\u001b[0m\u001b[32m\\'type\\': \\'string\\', \u001b[0m\n",
       "\u001b[32m\\'description\\': \\'The url of the webpage to visit.\\'\u001b[0m\u001b[32m}\u001b[0m\u001b[32m}\u001b[0m\u001b[32m\\n    Returns an output of type: string\\n- final_answer: \u001b[0m\n",
       "\u001b[32mProvides a final answer to the given problem.\\n    Takes inputs: \u001b[0m\u001b[32m{\u001b[0m\u001b[32m\\'answer\\': \u001b[0m\u001b[32m{\u001b[0m\u001b[32m\\'type\\': \\'any\\', \\'description\\': \u001b[0m\n",
       "\u001b[32m\\'The final answer to the problem\\'\u001b[0m\u001b[32m}\u001b[0m\u001b[32m}\u001b[0m\u001b[32m\\n    Returns an output of type: any\\n\\nHere are the rules you should always \u001b[0m\n",
       "\u001b[32mfollow to solve your task:\\n1. ALWAYS provide a tool call, else you will fail.\\n2. Always use the right arguments \u001b[0m\n",
       "\u001b[32mfor the tools. Never use variable names as the action arguments, use the value instead.\\n3. Call a tool only when \u001b[0m\n",
       "\u001b[32mneeded: do not call the search agent if you do not need information, try to solve the task yourself.\\nIf no tool \u001b[0m\n",
       "\u001b[32mcall is needed, use final_answer tool to return your answer.\\n4. Never re-do a tool call that you previously did \u001b[0m\n",
       "\u001b[32mwith the exact same parameters.\\n\\nNow Begin!'\u001b[0m\n",
       "    \u001b[1m)\u001b[0m,\n",
       "    \u001b[1;35mTaskStep\u001b[0m\u001b[1m(\u001b[0m\u001b[33mtask\u001b[0m=\u001b[32m'Can you find me the square root of 102001'\u001b[0m, \u001b[33mtask_images\u001b[0m=\u001b[3;35mNone\u001b[0m\u001b[1m)\u001b[0m,\n",
       "    \u001b[1;35mActionStep\u001b[0m\u001b[1m(\u001b[0m\n",
       "        \u001b[33mmodel_input_messages\u001b[0m=\u001b[1m[\u001b[0m\n",
       "            \u001b[1m{\u001b[0m\n",
       "                \u001b[32m'role'\u001b[0m: \u001b[1m<\u001b[0m\u001b[1;95mMessageRole.SYSTEM:\u001b[0m\u001b[39m \u001b[0m\u001b[32m'system'\u001b[0m\u001b[39m>,\u001b[0m\n",
       "\u001b[39m                \u001b[0m\u001b[32m'content'\u001b[0m\u001b[39m: \u001b[0m\u001b[1;39m[\u001b[0m\n",
       "\u001b[39m                    \u001b[0m\u001b[1;39m{\u001b[0m\n",
       "\u001b[39m                        \u001b[0m\u001b[32m'type'\u001b[0m\u001b[39m: \u001b[0m\u001b[32m'text'\u001b[0m\u001b[39m,\u001b[0m\n",
       "\u001b[39m                        \u001b[0m\u001b[32m'text'\u001b[0m\u001b[39m: \u001b[0m\u001b[32m'You are an expert assistant who can solve any task using tool calls. You will be \u001b[0m\n",
       "\u001b[32mgiven a task to solve as best you can.\\nTo do so, you have been given access to some tools.\\n\\nThe tool call you \u001b[0m\n",
       "\u001b[32mwrite is an action: after the tool is executed, you will get the result of the tool call as an \"observation\".\\nThis\u001b[0m\n",
       "\u001b[32mAction/Observation can repeat N times, you should take several steps when needed.\\n\\nYou can use the result of the \u001b[0m\n",
       "\u001b[32mprevious action as input for the next action.\\nThe observation will always be a string: it can represent a file, \u001b[0m\n",
       "\u001b[32mlike \"image_1.jpg\".\\nThen you can use it as input for the next action. You can do it for instance as \u001b[0m\n",
       "\u001b[32mfollows:\\n\\nObservation: \"image_1.jpg\"\\n\\nAction:\\n\u001b[0m\u001b[32m{\u001b[0m\u001b[32m\\n  \"name\": \"image_transformer\",\\n  \"arguments\": \u001b[0m\u001b[32m{\u001b[0m\u001b[32m\"image\": \u001b[0m\n",
       "\u001b[32m\"image_1.jpg\"\u001b[0m\u001b[32m}\u001b[0m\u001b[32m\\n\u001b[0m\u001b[32m}\u001b[0m\u001b[32m\\n\\nTo provide the final answer to the task, use an action blob with \"name\": \"final_answer\" tool. \u001b[0m\n",
       "\u001b[32mIt is the only way to complete the task, else you will be stuck on a loop. So your final output should look like \u001b[0m\n",
       "\u001b[32mthis:\\nAction:\\n\u001b[0m\u001b[32m{\u001b[0m\u001b[32m\\n  \"name\": \"final_answer\",\\n  \"arguments\": \u001b[0m\u001b[32m{\u001b[0m\u001b[32m\"answer\": \"insert your final answer \u001b[0m\n",
       "\u001b[32mhere\"\u001b[0m\u001b[32m}\u001b[0m\u001b[32m\\n\u001b[0m\u001b[32m}\u001b[0m\u001b[32m\\n\\n\\nHere are a few examples using notional tools:\\n---\\nTask: \"Generate an image of the oldest person in\u001b[0m\n",
       "\u001b[32mthis document.\"\\n\\nAction:\\n\u001b[0m\u001b[32m{\u001b[0m\u001b[32m\\n  \"name\": \"document_qa\",\\n  \"arguments\": \u001b[0m\u001b[32m{\u001b[0m\u001b[32m\"document\": \"document.pdf\", \"question\": \u001b[0m\n",
       "\u001b[32m\"Who is the oldest person mentioned?\"\u001b[0m\u001b[32m}\u001b[0m\u001b[32m\\n\u001b[0m\u001b[32m}\u001b[0m\u001b[32m\\nObservation: \"The oldest person in the document is John Doe, a 55 year \u001b[0m\n",
       "\u001b[32mold lumberjack living in Newfoundland.\"\\n\\nAction:\\n\u001b[0m\u001b[32m{\u001b[0m\u001b[32m\\n  \"name\": \"image_generator\",\\n  \"arguments\": \u001b[0m\u001b[32m{\u001b[0m\u001b[32m\"prompt\": \"A \u001b[0m\n",
       "\u001b[32mportrait of John Doe, a 55-year-old man living in Canada.\"\u001b[0m\u001b[32m}\u001b[0m\u001b[32m\\n\u001b[0m\u001b[32m}\u001b[0m\u001b[32m\\nObservation: \"image.png\"\\n\\nAction:\\n\u001b[0m\u001b[32m{\u001b[0m\u001b[32m\\n  \"name\": \u001b[0m\n",
       "\u001b[32m\"final_answer\",\\n  \"arguments\": \"image.png\"\\n\u001b[0m\u001b[32m}\u001b[0m\u001b[32m\\n\\n---\\nTask: \"What is the result of the following operation: 5 + 3 \u001b[0m\n",
       "\u001b[32m+ 1294.678?\"\\n\\nAction:\\n\u001b[0m\u001b[32m{\u001b[0m\u001b[32m\\n    \"name\": \"python_interpreter\",\\n    \"arguments\": \u001b[0m\u001b[32m{\u001b[0m\u001b[32m\"code\": \"5 + 3 + \u001b[0m\n",
       "\u001b[32m1294.678\"\u001b[0m\u001b[32m}\u001b[0m\u001b[32m\\n\u001b[0m\u001b[32m}\u001b[0m\u001b[32m\\nObservation: 1302.678\\n\\nAction:\\n\u001b[0m\u001b[32m{\u001b[0m\u001b[32m\\n  \"name\": \"final_answer\",\\n  \"arguments\": \u001b[0m\n",
       "\u001b[32m\"1302.678\"\\n\u001b[0m\u001b[32m}\u001b[0m\u001b[32m\\n\\n---\\nTask: \"Which city has the highest population , Guangzhou or Shanghai?\"\\n\\nAction:\\n\u001b[0m\u001b[32m{\u001b[0m\u001b[32m\\n    \u001b[0m\n",
       "\u001b[32m\"name\": \"search\",\\n    \"arguments\": \"Population Guangzhou\"\\n\u001b[0m\u001b[32m}\u001b[0m\u001b[32m\\nObservation: \u001b[0m\u001b[32m[\u001b[0m\u001b[32m\\'Guangzhou has a population of 15 \u001b[0m\n",
       "\u001b[32mmillion inhabitants as of 2021.\\'\u001b[0m\u001b[32m]\u001b[0m\u001b[32m\\n\\n\\nAction:\\n\u001b[0m\u001b[32m{\u001b[0m\u001b[32m\\n    \"name\": \"search\",\\n    \"arguments\": \"Population \u001b[0m\n",
       "\u001b[32mShanghai\"\\n\u001b[0m\u001b[32m}\u001b[0m\u001b[32m\\nObservation: \\'26 million \u001b[0m\u001b[32m(\u001b[0m\u001b[32m2019\u001b[0m\u001b[32m)\u001b[0m\u001b[32m\\'\\n\\nAction:\\n\u001b[0m\u001b[32m{\u001b[0m\u001b[32m\\n  \"name\": \"final_answer\",\\n  \"arguments\": \u001b[0m\n",
       "\u001b[32m\"Shanghai\"\\n\u001b[0m\u001b[32m}\u001b[0m\u001b[32m\\n\\nAbove example were using notional tools that might not exist for you. You only have access to \u001b[0m\n",
       "\u001b[32mthese tools:\\n- python_interpreter: This is a tool that evaluates python code. It can be used to perform \u001b[0m\n",
       "\u001b[32mcalculations.\\n    Takes inputs: \u001b[0m\u001b[32m{\u001b[0m\u001b[32m\\'code\\': \u001b[0m\u001b[32m{\u001b[0m\u001b[32m\\'type\\': \\'string\\', \\'description\\': \"The code snippet to evaluate. \u001b[0m\n",
       "\u001b[32mAll variables used in this snippet must be defined in this same snippet, else you will get an error. This code can \u001b[0m\n",
       "\u001b[32monly import the following python libraries: \u001b[0m\u001b[32m[\u001b[0m\u001b[32m\\'re\\', \\'unicodedata\\', \\'itertools\\', \\'random\\', \\'statistics\\', \u001b[0m\n",
       "\u001b[32m\\'math\\', \\'time\\', \\'collections\\', \\'queue\\', \\'stat\\', \\'datetime\\'\u001b[0m\u001b[32m]\u001b[0m\u001b[32m.\"\u001b[0m\u001b[32m}\u001b[0m\u001b[32m}\u001b[0m\u001b[32m\\n    Returns an output of type: \u001b[0m\n",
       "\u001b[32mstring\\n- web_search: Performs a duckduckgo web search based on your query \u001b[0m\u001b[32m(\u001b[0m\u001b[32mthink a Google search\u001b[0m\u001b[32m)\u001b[0m\u001b[32m then returns the\u001b[0m\n",
       "\u001b[32mtop search results.\\n    Takes inputs: \u001b[0m\u001b[32m{\u001b[0m\u001b[32m\\'query\\': \u001b[0m\u001b[32m{\u001b[0m\u001b[32m\\'type\\': \\'string\\', \\'description\\': \\'The search query to \u001b[0m\n",
       "\u001b[32mperform.\\'\u001b[0m\u001b[32m}\u001b[0m\u001b[32m}\u001b[0m\u001b[32m\\n    Returns an output of type: string\\n- visit_webpage: Visits a webpage at the given url and reads \u001b[0m\n",
       "\u001b[32mits content as a markdown string. Use this to browse webpages.\\n    Takes inputs: \u001b[0m\u001b[32m{\u001b[0m\u001b[32m\\'url\\': \u001b[0m\u001b[32m{\u001b[0m\u001b[32m\\'type\\': \\'string\\', \u001b[0m\n",
       "\u001b[32m\\'description\\': \\'The url of the webpage to visit.\\'\u001b[0m\u001b[32m}\u001b[0m\u001b[32m}\u001b[0m\u001b[32m\\n    Returns an output of type: string\\n- final_answer: \u001b[0m\n",
       "\u001b[32mProvides a final answer to the given problem.\\n    Takes inputs: \u001b[0m\u001b[32m{\u001b[0m\u001b[32m\\'answer\\': \u001b[0m\u001b[32m{\u001b[0m\u001b[32m\\'type\\': \\'any\\', \\'description\\': \u001b[0m\n",
       "\u001b[32m\\'The final answer to the problem\\'\u001b[0m\u001b[32m}\u001b[0m\u001b[32m}\u001b[0m\u001b[32m\\n    Returns an output of type: any\\n\\nHere are the rules you should always \u001b[0m\n",
       "\u001b[32mfollow to solve your task:\\n1. ALWAYS provide a tool call, else you will fail.\\n2. Always use the right arguments \u001b[0m\n",
       "\u001b[32mfor the tools. Never use variable names as the action arguments, use the value instead.\\n3. Call a tool only when \u001b[0m\n",
       "\u001b[32mneeded: do not call the search agent if you do not need information, try to solve the task yourself.\\nIf no tool \u001b[0m\n",
       "\u001b[32mcall is needed, use final_answer tool to return your answer.\\n4. Never re-do a tool call that you previously did \u001b[0m\n",
       "\u001b[32mwith the exact same parameters.\\n\\nNow Begin!'\u001b[0m\n",
       "\u001b[39m                    \u001b[0m\u001b[1;39m}\u001b[0m\n",
       "\u001b[39m                \u001b[0m\u001b[1;39m]\u001b[0m\n",
       "\u001b[39m            \u001b[0m\u001b[1;39m}\u001b[0m\u001b[39m,\u001b[0m\n",
       "\u001b[39m            \u001b[0m\u001b[1;39m{\u001b[0m\n",
       "\u001b[39m                \u001b[0m\u001b[32m'role'\u001b[0m\u001b[39m: <MessageRole.USER: \u001b[0m\u001b[32m'user'\u001b[0m\u001b[39m>,\u001b[0m\n",
       "\u001b[39m                \u001b[0m\u001b[32m'content'\u001b[0m\u001b[39m: \u001b[0m\u001b[1;39m[\u001b[0m\u001b[1;39m{\u001b[0m\u001b[32m'type'\u001b[0m\u001b[39m: \u001b[0m\u001b[32m'text'\u001b[0m\u001b[39m, \u001b[0m\u001b[32m'text'\u001b[0m\u001b[39m: \u001b[0m\u001b[32m'New task:\\nCan you find me the square root of 102001'\u001b[0m\u001b[1;39m}\u001b[0m\u001b[1;39m]\u001b[0m\n",
       "\u001b[39m            \u001b[0m\u001b[1;39m}\u001b[0m\n",
       "\u001b[39m        \u001b[0m\u001b[1;39m]\u001b[0m\u001b[39m,\u001b[0m\n",
       "\u001b[39m        \u001b[0m\u001b[33mtool_calls\u001b[0m\u001b[39m=\u001b[0m\u001b[1;39m[\u001b[0m\n",
       "\u001b[39m            \u001b[0m\u001b[1;35mToolCall\u001b[0m\u001b[1;39m(\u001b[0m\n",
       "\u001b[39m                \u001b[0m\u001b[33mname\u001b[0m\u001b[39m=\u001b[0m\u001b[32m'python_interpreter'\u001b[0m\u001b[39m,\u001b[0m\n",
       "\u001b[39m                \u001b[0m\u001b[33marguments\u001b[0m\u001b[39m=\u001b[0m\u001b[1;39m{\u001b[0m\u001b[32m'code'\u001b[0m\u001b[39m: \u001b[0m\u001b[32m'import math\\nresult = math.sqrt\u001b[0m\u001b[32m(\u001b[0m\u001b[32m102001\u001b[0m\u001b[32m)\u001b[0m\u001b[32m'\u001b[0m\u001b[1;39m}\u001b[0m\u001b[39m,\u001b[0m\n",
       "\u001b[39m                \u001b[0m\u001b[33mid\u001b[0m\u001b[39m=\u001b[0m\u001b[32m'call_lgGJFqVTBUhukwEocWOi5yci'\u001b[0m\n",
       "\u001b[39m            \u001b[0m\u001b[1;39m)\u001b[0m\n",
       "\u001b[39m        \u001b[0m\u001b[1;39m]\u001b[0m\u001b[39m,\u001b[0m\n",
       "\u001b[39m        \u001b[0m\u001b[33mstart_time\u001b[0m\u001b[39m=\u001b[0m\u001b[1;36m1747562741\u001b[0m\u001b[1;36m.0492759\u001b[0m\u001b[39m,\u001b[0m\n",
       "\u001b[39m        \u001b[0m\u001b[33mend_time\u001b[0m\u001b[39m=\u001b[0m\u001b[1;36m1747562741\u001b[0m\u001b[1;36m.818602\u001b[0m\u001b[39m,\u001b[0m\n",
       "\u001b[39m        \u001b[0m\u001b[33mstep_number\u001b[0m\u001b[39m=\u001b[0m\u001b[1;36m1\u001b[0m\u001b[39m,\u001b[0m\n",
       "\u001b[39m        \u001b[0m\u001b[33merror\u001b[0m\u001b[39m=\u001b[0m\u001b[3;35mNone\u001b[0m\u001b[39m,\u001b[0m\n",
       "\u001b[39m        \u001b[0m\u001b[33mduration\u001b[0m\u001b[39m=\u001b[0m\u001b[1;36m0\u001b[0m\u001b[1;36m.7693262100219727\u001b[0m\u001b[39m,\u001b[0m\n",
       "\u001b[39m        \u001b[0m\u001b[33mmodel_output_message\u001b[0m\u001b[39m=\u001b[0m\u001b[1;35mChatMessage\u001b[0m\u001b[1;39m(\u001b[0m\n",
       "\u001b[39m            \u001b[0m\u001b[33mrole\u001b[0m\u001b[39m=\u001b[0m\u001b[32m'assistant'\u001b[0m\u001b[39m,\u001b[0m\n",
       "\u001b[39m            \u001b[0m\u001b[33mcontent\u001b[0m\u001b[39m=\u001b[0m\u001b[3;35mNone\u001b[0m\u001b[39m,\u001b[0m\n",
       "\u001b[39m            \u001b[0m\u001b[33mtool_calls\u001b[0m\u001b[39m=\u001b[0m\u001b[1;39m[\u001b[0m\n",
       "\u001b[39m                \u001b[0m\u001b[1;35mChatMessageToolCall\u001b[0m\u001b[1;39m(\u001b[0m\n",
       "\u001b[39m                    \u001b[0m\u001b[33mfunction\u001b[0m\u001b[39m=\u001b[0m\u001b[1;35mChatMessageToolCallDefinition\u001b[0m\u001b[1;39m(\u001b[0m\n",
       "\u001b[39m                        \u001b[0m\u001b[33marguments\u001b[0m\u001b[39m=\u001b[0m\u001b[1;39m{\u001b[0m\u001b[32m'code'\u001b[0m\u001b[39m: \u001b[0m\u001b[32m'import math\\nresult = math.sqrt\u001b[0m\u001b[32m(\u001b[0m\u001b[32m102001\u001b[0m\u001b[32m)\u001b[0m\u001b[32m'\u001b[0m\u001b[1;39m}\u001b[0m\u001b[39m,\u001b[0m\n",
       "\u001b[39m                        \u001b[0m\u001b[33mname\u001b[0m\u001b[39m=\u001b[0m\u001b[32m'python_interpreter'\u001b[0m\u001b[39m,\u001b[0m\n",
       "\u001b[39m                        \u001b[0m\u001b[33mdescription\u001b[0m\u001b[39m=\u001b[0m\u001b[3;35mNone\u001b[0m\n",
       "\u001b[39m                    \u001b[0m\u001b[1;39m)\u001b[0m\u001b[39m,\u001b[0m\n",
       "\u001b[39m                    \u001b[0m\u001b[33mid\u001b[0m\u001b[39m=\u001b[0m\u001b[32m'call_lgGJFqVTBUhukwEocWOi5yci'\u001b[0m\u001b[39m,\u001b[0m\n",
       "\u001b[39m                    \u001b[0m\u001b[33mtype\u001b[0m\u001b[39m=\u001b[0m\u001b[32m'function'\u001b[0m\n",
       "\u001b[39m                \u001b[0m\u001b[1;39m)\u001b[0m\n",
       "\u001b[39m            \u001b[0m\u001b[1;39m]\u001b[0m\u001b[39m,\u001b[0m\n",
       "\u001b[39m            \u001b[0m\u001b[33mraw\u001b[0m\u001b[39m=\u001b[0m\u001b[1;35mModelResponse\u001b[0m\u001b[1;39m(\u001b[0m\n",
       "\u001b[39m                \u001b[0m\u001b[33mid\u001b[0m\u001b[39m=\u001b[0m\u001b[32m'chatcmpl-BYVBl39QDdzaccVav0VEGGfnTUsTo'\u001b[0m\u001b[39m,\u001b[0m\n",
       "\u001b[39m                \u001b[0m\u001b[33mcreated\u001b[0m\u001b[39m=\u001b[0m\u001b[1;36m1747562741\u001b[0m\u001b[39m,\u001b[0m\n",
       "\u001b[39m                \u001b[0m\u001b[33mmodel\u001b[0m\u001b[39m=\u001b[0m\u001b[32m'gpt-3.5-turbo-0125'\u001b[0m\u001b[39m,\u001b[0m\n",
       "\u001b[39m                \u001b[0m\u001b[33mobject\u001b[0m\u001b[39m=\u001b[0m\u001b[32m'chat.completion'\u001b[0m\u001b[39m,\u001b[0m\n",
       "\u001b[39m                \u001b[0m\u001b[33msystem_fingerprint\u001b[0m\u001b[39m=\u001b[0m\u001b[3;35mNone\u001b[0m\u001b[39m,\u001b[0m\n",
       "\u001b[39m                \u001b[0m\u001b[33mchoices\u001b[0m\u001b[39m=\u001b[0m\u001b[1;39m[\u001b[0m\n",
       "\u001b[39m                    \u001b[0m\u001b[1;35mChoices\u001b[0m\u001b[1;39m(\u001b[0m\n",
       "\u001b[39m                        \u001b[0m\u001b[33mfinish_reason\u001b[0m\u001b[39m=\u001b[0m\u001b[32m'tool_calls'\u001b[0m\u001b[39m,\u001b[0m\n",
       "\u001b[39m                        \u001b[0m\u001b[33mindex\u001b[0m\u001b[39m=\u001b[0m\u001b[1;36m0\u001b[0m\u001b[39m,\u001b[0m\n",
       "\u001b[39m                        \u001b[0m\u001b[33mmessage\u001b[0m\u001b[39m=\u001b[0m\u001b[1;35mMessage\u001b[0m\u001b[1;39m(\u001b[0m\n",
       "\u001b[39m                            \u001b[0m\u001b[33mcontent\u001b[0m\u001b[39m=\u001b[0m\u001b[3;35mNone\u001b[0m\u001b[39m,\u001b[0m\n",
       "\u001b[39m                            \u001b[0m\u001b[33mrole\u001b[0m\u001b[39m=\u001b[0m\u001b[32m'assistant'\u001b[0m\u001b[39m,\u001b[0m\n",
       "\u001b[39m                            \u001b[0m\u001b[33mtool_calls\u001b[0m\u001b[39m=\u001b[0m\u001b[1;39m[\u001b[0m\n",
       "\u001b[39m                                \u001b[0m\u001b[1;35mChatCompletionMessageToolCall\u001b[0m\u001b[1;39m(\u001b[0m\n",
       "\u001b[39m                                    \u001b[0m\u001b[33mfunction\u001b[0m\u001b[39m=\u001b[0m\u001b[1;35mFunction\u001b[0m\u001b[1;39m(\u001b[0m\n",
       "\u001b[39m                                        \u001b[0m\u001b[33marguments\u001b[0m\u001b[39m=\u001b[0m\u001b[32m'\u001b[0m\u001b[32m{\u001b[0m\u001b[32m\"code\":\"import math\\\\nresult = math.sqrt\u001b[0m\u001b[32m(\u001b[0m\u001b[32m102001\u001b[0m\u001b[32m)\u001b[0m\u001b[32m\"\u001b[0m\u001b[32m}\u001b[0m\u001b[32m'\u001b[0m\u001b[39m,\u001b[0m\n",
       "\u001b[39m                                        \u001b[0m\u001b[33mname\u001b[0m\u001b[39m=\u001b[0m\u001b[32m'python_interpreter'\u001b[0m\n",
       "\u001b[39m                                    \u001b[0m\u001b[1;39m)\u001b[0m\u001b[39m,\u001b[0m\n",
       "\u001b[39m                                    \u001b[0m\u001b[33mid\u001b[0m\u001b[39m=\u001b[0m\u001b[32m'call_lgGJFqVTBUhukwEocWOi5yci'\u001b[0m\u001b[39m,\u001b[0m\n",
       "\u001b[39m                                    \u001b[0m\u001b[33mtype\u001b[0m\u001b[39m=\u001b[0m\u001b[32m'function'\u001b[0m\n",
       "\u001b[39m                                \u001b[0m\u001b[1;39m)\u001b[0m\n",
       "\u001b[39m                            \u001b[0m\u001b[1;39m]\u001b[0m\u001b[39m,\u001b[0m\n",
       "\u001b[39m                            \u001b[0m\u001b[33mfunction_call\u001b[0m\u001b[39m=\u001b[0m\u001b[3;35mNone\u001b[0m\u001b[39m,\u001b[0m\n",
       "\u001b[39m                            \u001b[0m\u001b[33mprovider_specific_fields\u001b[0m\u001b[39m=\u001b[0m\u001b[1;39m{\u001b[0m\u001b[32m'refusal'\u001b[0m\u001b[39m: \u001b[0m\u001b[3;35mNone\u001b[0m\u001b[1;39m}\u001b[0m\u001b[39m,\u001b[0m\n",
       "\u001b[39m                            \u001b[0m\u001b[33mannotations\u001b[0m\u001b[39m=\u001b[0m\u001b[1;39m[\u001b[0m\u001b[1;39m]\u001b[0m\n",
       "\u001b[39m                        \u001b[0m\u001b[1;39m)\u001b[0m\n",
       "\u001b[39m                    \u001b[0m\u001b[1;39m)\u001b[0m\n",
       "\u001b[39m                \u001b[0m\u001b[1;39m]\u001b[0m\u001b[39m,\u001b[0m\n",
       "\u001b[39m                \u001b[0m\u001b[33musage\u001b[0m\u001b[39m=\u001b[0m\u001b[1;35mUsage\u001b[0m\u001b[1;39m(\u001b[0m\n",
       "\u001b[39m                    \u001b[0m\u001b[33mcompletion_tokens\u001b[0m\u001b[39m=\u001b[0m\u001b[1;36m25\u001b[0m\u001b[39m,\u001b[0m\n",
       "\u001b[39m                    \u001b[0m\u001b[33mprompt_tokens\u001b[0m\u001b[39m=\u001b[0m\u001b[1;36m1311\u001b[0m\u001b[39m,\u001b[0m\n",
       "\u001b[39m                    \u001b[0m\u001b[33mtotal_tokens\u001b[0m\u001b[39m=\u001b[0m\u001b[1;36m1336\u001b[0m\u001b[39m,\u001b[0m\n",
       "\u001b[39m                    \u001b[0m\u001b[33mcompletion_tokens_details\u001b[0m\u001b[39m=\u001b[0m\u001b[1;35mCompletionTokensDetailsWrapper\u001b[0m\u001b[1;39m(\u001b[0m\n",
       "\u001b[39m                        \u001b[0m\u001b[33maccepted_prediction_tokens\u001b[0m\u001b[39m=\u001b[0m\u001b[1;36m0\u001b[0m\u001b[39m,\u001b[0m\n",
       "\u001b[39m                        \u001b[0m\u001b[33maudio_tokens\u001b[0m\u001b[39m=\u001b[0m\u001b[1;36m0\u001b[0m\u001b[39m,\u001b[0m\n",
       "\u001b[39m                        \u001b[0m\u001b[33mreasoning_tokens\u001b[0m\u001b[39m=\u001b[0m\u001b[1;36m0\u001b[0m\u001b[39m,\u001b[0m\n",
       "\u001b[39m                        \u001b[0m\u001b[33mrejected_prediction_tokens\u001b[0m\u001b[39m=\u001b[0m\u001b[1;36m0\u001b[0m\u001b[39m,\u001b[0m\n",
       "\u001b[39m                        \u001b[0m\u001b[33mtext_tokens\u001b[0m\u001b[39m=\u001b[0m\u001b[3;35mNone\u001b[0m\n",
       "\u001b[39m                    \u001b[0m\u001b[1;39m)\u001b[0m\u001b[39m,\u001b[0m\n",
       "\u001b[39m                    \u001b[0m\u001b[33mprompt_tokens_details\u001b[0m\u001b[39m=\u001b[0m\u001b[1;35mPromptTokensDetailsWrapper\u001b[0m\u001b[1;39m(\u001b[0m\n",
       "\u001b[39m                        \u001b[0m\u001b[33maudio_tokens\u001b[0m\u001b[39m=\u001b[0m\u001b[1;36m0\u001b[0m\u001b[39m,\u001b[0m\n",
       "\u001b[39m                        \u001b[0m\u001b[33mcached_tokens\u001b[0m\u001b[39m=\u001b[0m\u001b[1;36m0\u001b[0m\u001b[39m,\u001b[0m\n",
       "\u001b[39m                        \u001b[0m\u001b[33mtext_tokens\u001b[0m\u001b[39m=\u001b[0m\u001b[3;35mNone\u001b[0m\u001b[39m,\u001b[0m\n",
       "\u001b[39m                        \u001b[0m\u001b[33mimage_tokens\u001b[0m\u001b[39m=\u001b[0m\u001b[3;35mNone\u001b[0m\n",
       "\u001b[39m                    \u001b[0m\u001b[1;39m)\u001b[0m\n",
       "\u001b[39m                \u001b[0m\u001b[1;39m)\u001b[0m\u001b[39m,\u001b[0m\n",
       "\u001b[39m                \u001b[0m\u001b[33mservice_tier\u001b[0m\u001b[39m=\u001b[0m\u001b[32m'default'\u001b[0m\n",
       "\u001b[39m            \u001b[0m\u001b[1;39m)\u001b[0m\n",
       "\u001b[39m        \u001b[0m\u001b[1;39m)\u001b[0m\u001b[39m,\u001b[0m\n",
       "\u001b[39m        \u001b[0m\u001b[33mmodel_output\u001b[0m\u001b[39m=\u001b[0m\u001b[32m\"Called\u001b[0m\u001b[32m Tool: 'python_interpreter' with arguments: \u001b[0m\u001b[32m{\u001b[0m\u001b[32m'code': 'import math\\\\nresult = \u001b[0m\n",
       "\u001b[32mmath.sqrt\u001b[0m\u001b[32m(\u001b[0m\u001b[32m102001\u001b[0m\u001b[32m)\u001b[0m\u001b[32m'\u001b[0m\u001b[32m}\u001b[0m\u001b[32m\"\u001b[0m\u001b[39m,\u001b[0m\n",
       "\u001b[39m        \u001b[0m\u001b[33mobservations\u001b[0m\u001b[39m=\u001b[0m\u001b[32m'Stdout:\\n\\nOutput: 319.37595401031683'\u001b[0m\u001b[39m,\u001b[0m\n",
       "\u001b[39m        \u001b[0m\u001b[33mobservations_images\u001b[0m\u001b[39m=\u001b[0m\u001b[3;35mNone\u001b[0m\u001b[39m,\u001b[0m\n",
       "\u001b[39m        \u001b[0m\u001b[33maction_output\u001b[0m\u001b[39m=\u001b[0m\u001b[3;35mNone\u001b[0m\n",
       "\u001b[39m    \u001b[0m\u001b[1;39m)\u001b[0m\u001b[39m,\u001b[0m\n",
       "\u001b[39m    \u001b[0m\u001b[1;35mActionStep\u001b[0m\u001b[1;39m(\u001b[0m\n",
       "\u001b[39m        \u001b[0m\u001b[33mmodel_input_messages\u001b[0m\u001b[39m=\u001b[0m\u001b[1;39m[\u001b[0m\n",
       "\u001b[39m            \u001b[0m\u001b[1;39m{\u001b[0m\n",
       "\u001b[39m                \u001b[0m\u001b[32m'role'\u001b[0m\u001b[39m: <MessageRole.SYSTEM: \u001b[0m\u001b[32m'system'\u001b[0m\u001b[39m>,\u001b[0m\n",
       "\u001b[39m                \u001b[0m\u001b[32m'content'\u001b[0m\u001b[39m: \u001b[0m\u001b[1;39m[\u001b[0m\n",
       "\u001b[39m                    \u001b[0m\u001b[1;39m{\u001b[0m\n",
       "\u001b[39m                        \u001b[0m\u001b[32m'type'\u001b[0m\u001b[39m: \u001b[0m\u001b[32m'text'\u001b[0m\u001b[39m,\u001b[0m\n",
       "\u001b[39m                        \u001b[0m\u001b[32m'text'\u001b[0m\u001b[39m: \u001b[0m\u001b[32m'You are an expert assistant who can solve any task using tool calls. You will be \u001b[0m\n",
       "\u001b[32mgiven a task to solve as best you can.\\nTo do so, you have been given access to some tools.\\n\\nThe tool call you \u001b[0m\n",
       "\u001b[32mwrite is an action: after the tool is executed, you will get the result of the tool call as an \"observation\".\\nThis\u001b[0m\n",
       "\u001b[32mAction/Observation can repeat N times, you should take several steps when needed.\\n\\nYou can use the result of the \u001b[0m\n",
       "\u001b[32mprevious action as input for the next action.\\nThe observation will always be a string: it can represent a file, \u001b[0m\n",
       "\u001b[32mlike \"image_1.jpg\".\\nThen you can use it as input for the next action. You can do it for instance as \u001b[0m\n",
       "\u001b[32mfollows:\\n\\nObservation: \"image_1.jpg\"\\n\\nAction:\\n\u001b[0m\u001b[32m{\u001b[0m\u001b[32m\\n  \"name\": \"image_transformer\",\\n  \"arguments\": \u001b[0m\u001b[32m{\u001b[0m\u001b[32m\"image\": \u001b[0m\n",
       "\u001b[32m\"image_1.jpg\"\u001b[0m\u001b[32m}\u001b[0m\u001b[32m\\n\u001b[0m\u001b[32m}\u001b[0m\u001b[32m\\n\\nTo provide the final answer to the task, use an action blob with \"name\": \"final_answer\" tool. \u001b[0m\n",
       "\u001b[32mIt is the only way to complete the task, else you will be stuck on a loop. So your final output should look like \u001b[0m\n",
       "\u001b[32mthis:\\nAction:\\n\u001b[0m\u001b[32m{\u001b[0m\u001b[32m\\n  \"name\": \"final_answer\",\\n  \"arguments\": \u001b[0m\u001b[32m{\u001b[0m\u001b[32m\"answer\": \"insert your final answer \u001b[0m\n",
       "\u001b[32mhere\"\u001b[0m\u001b[32m}\u001b[0m\u001b[32m\\n\u001b[0m\u001b[32m}\u001b[0m\u001b[32m\\n\\n\\nHere are a few examples using notional tools:\\n---\\nTask: \"Generate an image of the oldest person in\u001b[0m\n",
       "\u001b[32mthis document.\"\\n\\nAction:\\n\u001b[0m\u001b[32m{\u001b[0m\u001b[32m\\n  \"name\": \"document_qa\",\\n  \"arguments\": \u001b[0m\u001b[32m{\u001b[0m\u001b[32m\"document\": \"document.pdf\", \"question\": \u001b[0m\n",
       "\u001b[32m\"Who is the oldest person mentioned?\"\u001b[0m\u001b[32m}\u001b[0m\u001b[32m\\n\u001b[0m\u001b[32m}\u001b[0m\u001b[32m\\nObservation: \"The oldest person in the document is John Doe, a 55 year \u001b[0m\n",
       "\u001b[32mold lumberjack living in Newfoundland.\"\\n\\nAction:\\n\u001b[0m\u001b[32m{\u001b[0m\u001b[32m\\n  \"name\": \"image_generator\",\\n  \"arguments\": \u001b[0m\u001b[32m{\u001b[0m\u001b[32m\"prompt\": \"A \u001b[0m\n",
       "\u001b[32mportrait of John Doe, a 55-year-old man living in Canada.\"\u001b[0m\u001b[32m}\u001b[0m\u001b[32m\\n\u001b[0m\u001b[32m}\u001b[0m\u001b[32m\\nObservation: \"image.png\"\\n\\nAction:\\n\u001b[0m\u001b[32m{\u001b[0m\u001b[32m\\n  \"name\": \u001b[0m\n",
       "\u001b[32m\"final_answer\",\\n  \"arguments\": \"image.png\"\\n\u001b[0m\u001b[32m}\u001b[0m\u001b[32m\\n\\n---\\nTask: \"What is the result of the following operation: 5 + 3 \u001b[0m\n",
       "\u001b[32m+ 1294.678?\"\\n\\nAction:\\n\u001b[0m\u001b[32m{\u001b[0m\u001b[32m\\n    \"name\": \"python_interpreter\",\\n    \"arguments\": \u001b[0m\u001b[32m{\u001b[0m\u001b[32m\"code\": \"5 + 3 + \u001b[0m\n",
       "\u001b[32m1294.678\"\u001b[0m\u001b[32m}\u001b[0m\u001b[32m\\n\u001b[0m\u001b[32m}\u001b[0m\u001b[32m\\nObservation: 1302.678\\n\\nAction:\\n\u001b[0m\u001b[32m{\u001b[0m\u001b[32m\\n  \"name\": \"final_answer\",\\n  \"arguments\": \u001b[0m\n",
       "\u001b[32m\"1302.678\"\\n\u001b[0m\u001b[32m}\u001b[0m\u001b[32m\\n\\n---\\nTask: \"Which city has the highest population , Guangzhou or Shanghai?\"\\n\\nAction:\\n\u001b[0m\u001b[32m{\u001b[0m\u001b[32m\\n    \u001b[0m\n",
       "\u001b[32m\"name\": \"search\",\\n    \"arguments\": \"Population Guangzhou\"\\n\u001b[0m\u001b[32m}\u001b[0m\u001b[32m\\nObservation: \u001b[0m\u001b[32m[\u001b[0m\u001b[32m\\'Guangzhou has a population of 15 \u001b[0m\n",
       "\u001b[32mmillion inhabitants as of 2021.\\'\u001b[0m\u001b[32m]\u001b[0m\u001b[32m\\n\\n\\nAction:\\n\u001b[0m\u001b[32m{\u001b[0m\u001b[32m\\n    \"name\": \"search\",\\n    \"arguments\": \"Population \u001b[0m\n",
       "\u001b[32mShanghai\"\\n\u001b[0m\u001b[32m}\u001b[0m\u001b[32m\\nObservation: \\'26 million \u001b[0m\u001b[32m(\u001b[0m\u001b[32m2019\u001b[0m\u001b[32m)\u001b[0m\u001b[32m\\'\\n\\nAction:\\n\u001b[0m\u001b[32m{\u001b[0m\u001b[32m\\n  \"name\": \"final_answer\",\\n  \"arguments\": \u001b[0m\n",
       "\u001b[32m\"Shanghai\"\\n\u001b[0m\u001b[32m}\u001b[0m\u001b[32m\\n\\nAbove example were using notional tools that might not exist for you. You only have access to \u001b[0m\n",
       "\u001b[32mthese tools:\\n- python_interpreter: This is a tool that evaluates python code. It can be used to perform \u001b[0m\n",
       "\u001b[32mcalculations.\\n    Takes inputs: \u001b[0m\u001b[32m{\u001b[0m\u001b[32m\\'code\\': \u001b[0m\u001b[32m{\u001b[0m\u001b[32m\\'type\\': \\'string\\', \\'description\\': \"The code snippet to evaluate. \u001b[0m\n",
       "\u001b[32mAll variables used in this snippet must be defined in this same snippet, else you will get an error. This code can \u001b[0m\n",
       "\u001b[32monly import the following python libraries: \u001b[0m\u001b[32m[\u001b[0m\u001b[32m\\'re\\', \\'unicodedata\\', \\'itertools\\', \\'random\\', \\'statistics\\', \u001b[0m\n",
       "\u001b[32m\\'math\\', \\'time\\', \\'collections\\', \\'queue\\', \\'stat\\', \\'datetime\\'\u001b[0m\u001b[32m]\u001b[0m\u001b[32m.\"\u001b[0m\u001b[32m}\u001b[0m\u001b[32m}\u001b[0m\u001b[32m\\n    Returns an output of type: \u001b[0m\n",
       "\u001b[32mstring\\n- web_search: Performs a duckduckgo web search based on your query \u001b[0m\u001b[32m(\u001b[0m\u001b[32mthink a Google search\u001b[0m\u001b[32m)\u001b[0m\u001b[32m then returns the\u001b[0m\n",
       "\u001b[32mtop search results.\\n    Takes inputs: \u001b[0m\u001b[32m{\u001b[0m\u001b[32m\\'query\\': \u001b[0m\u001b[32m{\u001b[0m\u001b[32m\\'type\\': \\'string\\', \\'description\\': \\'The search query to \u001b[0m\n",
       "\u001b[32mperform.\\'\u001b[0m\u001b[32m}\u001b[0m\u001b[32m}\u001b[0m\u001b[32m\\n    Returns an output of type: string\\n- visit_webpage: Visits a webpage at the given url and reads \u001b[0m\n",
       "\u001b[32mits content as a markdown string. Use this to browse webpages.\\n    Takes inputs: \u001b[0m\u001b[32m{\u001b[0m\u001b[32m\\'url\\': \u001b[0m\u001b[32m{\u001b[0m\u001b[32m\\'type\\': \\'string\\', \u001b[0m\n",
       "\u001b[32m\\'description\\': \\'The url of the webpage to visit.\\'\u001b[0m\u001b[32m}\u001b[0m\u001b[32m}\u001b[0m\u001b[32m\\n    Returns an output of type: string\\n- final_answer: \u001b[0m\n",
       "\u001b[32mProvides a final answer to the given problem.\\n    Takes inputs: \u001b[0m\u001b[32m{\u001b[0m\u001b[32m\\'answer\\': \u001b[0m\u001b[32m{\u001b[0m\u001b[32m\\'type\\': \\'any\\', \\'description\\': \u001b[0m\n",
       "\u001b[32m\\'The final answer to the problem\\'\u001b[0m\u001b[32m}\u001b[0m\u001b[32m}\u001b[0m\u001b[32m\\n    Returns an output of type: any\\n\\nHere are the rules you should always \u001b[0m\n",
       "\u001b[32mfollow to solve your task:\\n1. ALWAYS provide a tool call, else you will fail.\\n2. Always use the right arguments \u001b[0m\n",
       "\u001b[32mfor the tools. Never use variable names as the action arguments, use the value instead.\\n3. Call a tool only when \u001b[0m\n",
       "\u001b[32mneeded: do not call the search agent if you do not need information, try to solve the task yourself.\\nIf no tool \u001b[0m\n",
       "\u001b[32mcall is needed, use final_answer tool to return your answer.\\n4. Never re-do a tool call that you previously did \u001b[0m\n",
       "\u001b[32mwith the exact same parameters.\\n\\nNow Begin!'\u001b[0m\n",
       "\u001b[39m                    \u001b[0m\u001b[1;39m}\u001b[0m\n",
       "\u001b[39m                \u001b[0m\u001b[1;39m]\u001b[0m\n",
       "\u001b[39m            \u001b[0m\u001b[1;39m}\u001b[0m\u001b[39m,\u001b[0m\n",
       "\u001b[39m            \u001b[0m\u001b[1;39m{\u001b[0m\n",
       "\u001b[39m                \u001b[0m\u001b[32m'role'\u001b[0m\u001b[39m: <MessageRole.USER: \u001b[0m\u001b[32m'user'\u001b[0m\u001b[39m>,\u001b[0m\n",
       "\u001b[39m                \u001b[0m\u001b[32m'content'\u001b[0m\u001b[39m: \u001b[0m\u001b[1;39m[\u001b[0m\u001b[1;39m{\u001b[0m\u001b[32m'type'\u001b[0m\u001b[39m: \u001b[0m\u001b[32m'text'\u001b[0m\u001b[39m, \u001b[0m\u001b[32m'text'\u001b[0m\u001b[39m: \u001b[0m\u001b[32m'New task:\\nCan you find me the square root of 102001'\u001b[0m\u001b[1;39m}\u001b[0m\u001b[1;39m]\u001b[0m\n",
       "\u001b[39m            \u001b[0m\u001b[1;39m}\u001b[0m\u001b[39m,\u001b[0m\n",
       "\u001b[39m            \u001b[0m\u001b[1;39m{\u001b[0m\n",
       "\u001b[39m                \u001b[0m\u001b[32m'role'\u001b[0m\u001b[39m: <MessageRole.ASSISTANT: \u001b[0m\u001b[32m'assistant'\u001b[0m\u001b[39m>,\u001b[0m\n",
       "\u001b[39m                \u001b[0m\u001b[32m'content'\u001b[0m\u001b[39m: \u001b[0m\u001b[1;39m[\u001b[0m\n",
       "\u001b[39m                    \u001b[0m\u001b[1;39m{\u001b[0m\n",
       "\u001b[39m                        \u001b[0m\u001b[32m'type'\u001b[0m\u001b[39m: \u001b[0m\u001b[32m'text'\u001b[0m\u001b[39m,\u001b[0m\n",
       "\u001b[39m                        \u001b[0m\u001b[32m'text'\u001b[0m\u001b[39m: \u001b[0m\u001b[32m\"Called Tool: 'python_interpreter' with arguments: \u001b[0m\u001b[32m{\u001b[0m\u001b[32m'code': 'import math\\\\nresult =\u001b[0m\n",
       "\u001b[32mmath.sqrt\u001b[0m\u001b[32m(\u001b[0m\u001b[32m102001\u001b[0m\u001b[32m)\u001b[0m\u001b[32m'\u001b[0m\u001b[32m}\u001b[0m\u001b[32m\"\u001b[0m\n",
       "\u001b[39m                    \u001b[0m\u001b[1;39m}\u001b[0m\n",
       "\u001b[39m                \u001b[0m\u001b[1;39m]\u001b[0m\n",
       "\u001b[39m            \u001b[0m\u001b[1;39m}\u001b[0m\u001b[39m,\u001b[0m\n",
       "\u001b[39m            \u001b[0m\u001b[1;39m{\u001b[0m\n",
       "\u001b[39m                \u001b[0m\u001b[32m'role'\u001b[0m\u001b[39m: <MessageRole.TOOL_CALL: \u001b[0m\u001b[32m'tool-call'\u001b[0m\u001b[39m>,\u001b[0m\n",
       "\u001b[39m                \u001b[0m\u001b[32m'content'\u001b[0m\u001b[39m: \u001b[0m\u001b[1;39m[\u001b[0m\n",
       "\u001b[39m                    \u001b[0m\u001b[1;39m{\u001b[0m\n",
       "\u001b[39m                        \u001b[0m\u001b[32m'type'\u001b[0m\u001b[39m: \u001b[0m\u001b[32m'text'\u001b[0m\u001b[39m,\u001b[0m\n",
       "\u001b[39m                        \u001b[0m\u001b[32m'text'\u001b[0m\u001b[39m: \u001b[0m\u001b[32m\"Calling tools:\\n\u001b[0m\u001b[32m[\u001b[0m\u001b[32m{\u001b[0m\u001b[32m'id': 'call_lgGJFqVTBUhukwEocWOi5yci', 'type': 'function', \u001b[0m\n",
       "\u001b[32m'function': \u001b[0m\u001b[32m{\u001b[0m\u001b[32m'name': 'python_interpreter', 'arguments': \u001b[0m\u001b[32m{\u001b[0m\u001b[32m'code': 'import math\\\\nresult = math.sqrt\u001b[0m\u001b[32m(\u001b[0m\u001b[32m102001\u001b[0m\u001b[32m)\u001b[0m\u001b[32m'\u001b[0m\u001b[32m}\u001b[0m\u001b[32m}\u001b[0m\u001b[32m}\u001b[0m\u001b[32m]\u001b[0m\u001b[32m\"\u001b[0m\n",
       "\u001b[39m                    \u001b[0m\u001b[1;39m}\u001b[0m\n",
       "\u001b[39m                \u001b[0m\u001b[1;39m]\u001b[0m\n",
       "\u001b[39m            \u001b[0m\u001b[1;39m}\u001b[0m\u001b[39m,\u001b[0m\n",
       "\u001b[39m            \u001b[0m\u001b[1;39m{\u001b[0m\n",
       "\u001b[39m                \u001b[0m\u001b[32m'role'\u001b[0m\u001b[39m: <MessageRole.TOOL_RESPONSE: \u001b[0m\u001b[32m'tool-response'\u001b[0m\u001b[1m>\u001b[0m,\n",
       "                \u001b[32m'content'\u001b[0m: \u001b[1m[\u001b[0m\u001b[1m{\u001b[0m\u001b[32m'type'\u001b[0m: \u001b[32m'text'\u001b[0m, \u001b[32m'text'\u001b[0m: \u001b[32m'Observation:\\nStdout:\\n\\nOutput: 319.37595401031683'\u001b[0m\u001b[1m}\u001b[0m\u001b[1m]\u001b[0m\n",
       "            \u001b[1m}\u001b[0m\n",
       "        \u001b[1m]\u001b[0m,\n",
       "        \u001b[33mtool_calls\u001b[0m=\u001b[1m[\u001b[0m\n",
       "            \u001b[1;35mToolCall\u001b[0m\u001b[1m(\u001b[0m\n",
       "                \u001b[33mname\u001b[0m=\u001b[32m'final_answer'\u001b[0m,\n",
       "                \u001b[33marguments\u001b[0m=\u001b[1m{\u001b[0m\u001b[32m'answer'\u001b[0m: \u001b[32m'319.37595401031683'\u001b[0m\u001b[1m}\u001b[0m,\n",
       "                \u001b[33mid\u001b[0m=\u001b[32m'call_AXT19qWqwIeZwAZhUPKe6RbK'\u001b[0m\n",
       "            \u001b[1m)\u001b[0m\n",
       "        \u001b[1m]\u001b[0m,\n",
       "        \u001b[33mstart_time\u001b[0m=\u001b[1;36m1747562741\u001b[0m\u001b[1;36m.820061\u001b[0m,\n",
       "        \u001b[33mend_time\u001b[0m=\u001b[1;36m1747562742\u001b[0m\u001b[1;36m.6031659\u001b[0m,\n",
       "        \u001b[33mstep_number\u001b[0m=\u001b[1;36m2\u001b[0m,\n",
       "        \u001b[33merror\u001b[0m=\u001b[3;35mNone\u001b[0m,\n",
       "        \u001b[33mduration\u001b[0m=\u001b[1;36m0\u001b[0m\u001b[1;36m.7831048965454102\u001b[0m,\n",
       "        \u001b[33mmodel_output_message\u001b[0m=\u001b[1;35mChatMessage\u001b[0m\u001b[1m(\u001b[0m\n",
       "            \u001b[33mrole\u001b[0m=\u001b[32m'assistant'\u001b[0m,\n",
       "            \u001b[33mcontent\u001b[0m=\u001b[3;35mNone\u001b[0m,\n",
       "            \u001b[33mtool_calls\u001b[0m=\u001b[1m[\u001b[0m\n",
       "                \u001b[1;35mChatMessageToolCall\u001b[0m\u001b[1m(\u001b[0m\n",
       "                    \u001b[33mfunction\u001b[0m=\u001b[1;35mChatMessageToolCallDefinition\u001b[0m\u001b[1m(\u001b[0m\n",
       "                        \u001b[33marguments\u001b[0m=\u001b[1m{\u001b[0m\u001b[32m'answer'\u001b[0m: \u001b[32m'319.37595401031683'\u001b[0m\u001b[1m}\u001b[0m,\n",
       "                        \u001b[33mname\u001b[0m=\u001b[32m'final_answer'\u001b[0m,\n",
       "                        \u001b[33mdescription\u001b[0m=\u001b[3;35mNone\u001b[0m\n",
       "                    \u001b[1m)\u001b[0m,\n",
       "                    \u001b[33mid\u001b[0m=\u001b[32m'call_AXT19qWqwIeZwAZhUPKe6RbK'\u001b[0m,\n",
       "                    \u001b[33mtype\u001b[0m=\u001b[32m'function'\u001b[0m\n",
       "                \u001b[1m)\u001b[0m\n",
       "            \u001b[1m]\u001b[0m,\n",
       "            \u001b[33mraw\u001b[0m=\u001b[1;35mModelResponse\u001b[0m\u001b[1m(\u001b[0m\n",
       "                \u001b[33mid\u001b[0m=\u001b[32m'chatcmpl-BYVBmIKHBP1N4TUSWcfdnko7gOTfN'\u001b[0m,\n",
       "                \u001b[33mcreated\u001b[0m=\u001b[1;36m1747562742\u001b[0m,\n",
       "                \u001b[33mmodel\u001b[0m=\u001b[32m'gpt-3.5-turbo-0125'\u001b[0m,\n",
       "                \u001b[33mobject\u001b[0m=\u001b[32m'chat.completion'\u001b[0m,\n",
       "                \u001b[33msystem_fingerprint\u001b[0m=\u001b[3;35mNone\u001b[0m,\n",
       "                \u001b[33mchoices\u001b[0m=\u001b[1m[\u001b[0m\n",
       "                    \u001b[1;35mChoices\u001b[0m\u001b[1m(\u001b[0m\n",
       "                        \u001b[33mfinish_reason\u001b[0m=\u001b[32m'tool_calls'\u001b[0m,\n",
       "                        \u001b[33mindex\u001b[0m=\u001b[1;36m0\u001b[0m,\n",
       "                        \u001b[33mmessage\u001b[0m=\u001b[1;35mMessage\u001b[0m\u001b[1m(\u001b[0m\n",
       "                            \u001b[33mcontent\u001b[0m=\u001b[3;35mNone\u001b[0m,\n",
       "                            \u001b[33mrole\u001b[0m=\u001b[32m'assistant'\u001b[0m,\n",
       "                            \u001b[33mtool_calls\u001b[0m=\u001b[1m[\u001b[0m\n",
       "                                \u001b[1;35mChatCompletionMessageToolCall\u001b[0m\u001b[1m(\u001b[0m\n",
       "                                    \u001b[33mfunction\u001b[0m=\u001b[1;35mFunction\u001b[0m\u001b[1m(\u001b[0m\n",
       "                                        \u001b[33marguments\u001b[0m=\u001b[32m'\u001b[0m\u001b[32m{\u001b[0m\u001b[32m\"answer\":\"319.37595401031683\"\u001b[0m\u001b[32m}\u001b[0m\u001b[32m'\u001b[0m,\n",
       "                                        \u001b[33mname\u001b[0m=\u001b[32m'final_answer'\u001b[0m\n",
       "                                    \u001b[1m)\u001b[0m,\n",
       "                                    \u001b[33mid\u001b[0m=\u001b[32m'call_AXT19qWqwIeZwAZhUPKe6RbK'\u001b[0m,\n",
       "                                    \u001b[33mtype\u001b[0m=\u001b[32m'function'\u001b[0m\n",
       "                                \u001b[1m)\u001b[0m\n",
       "                            \u001b[1m]\u001b[0m,\n",
       "                            \u001b[33mfunction_call\u001b[0m=\u001b[3;35mNone\u001b[0m,\n",
       "                            \u001b[33mprovider_specific_fields\u001b[0m=\u001b[1m{\u001b[0m\u001b[32m'refusal'\u001b[0m: \u001b[3;35mNone\u001b[0m\u001b[1m}\u001b[0m,\n",
       "                            \u001b[33mannotations\u001b[0m=\u001b[1m[\u001b[0m\u001b[1m]\u001b[0m\n",
       "                        \u001b[1m)\u001b[0m\n",
       "                    \u001b[1m)\u001b[0m\n",
       "                \u001b[1m]\u001b[0m,\n",
       "                \u001b[33musage\u001b[0m=\u001b[1;35mUsage\u001b[0m\u001b[1m(\u001b[0m\n",
       "                    \u001b[33mcompletion_tokens\u001b[0m=\u001b[1;36m20\u001b[0m,\n",
       "                    \u001b[33mprompt_tokens\u001b[0m=\u001b[1;36m1427\u001b[0m,\n",
       "                    \u001b[33mtotal_tokens\u001b[0m=\u001b[1;36m1447\u001b[0m,\n",
       "                    \u001b[33mcompletion_tokens_details\u001b[0m=\u001b[1;35mCompletionTokensDetailsWrapper\u001b[0m\u001b[1m(\u001b[0m\n",
       "                        \u001b[33maccepted_prediction_tokens\u001b[0m=\u001b[1;36m0\u001b[0m,\n",
       "                        \u001b[33maudio_tokens\u001b[0m=\u001b[1;36m0\u001b[0m,\n",
       "                        \u001b[33mreasoning_tokens\u001b[0m=\u001b[1;36m0\u001b[0m,\n",
       "                        \u001b[33mrejected_prediction_tokens\u001b[0m=\u001b[1;36m0\u001b[0m,\n",
       "                        \u001b[33mtext_tokens\u001b[0m=\u001b[3;35mNone\u001b[0m\n",
       "                    \u001b[1m)\u001b[0m,\n",
       "                    \u001b[33mprompt_tokens_details\u001b[0m=\u001b[1;35mPromptTokensDetailsWrapper\u001b[0m\u001b[1m(\u001b[0m\n",
       "                        \u001b[33maudio_tokens\u001b[0m=\u001b[1;36m0\u001b[0m,\n",
       "                        \u001b[33mcached_tokens\u001b[0m=\u001b[1;36m0\u001b[0m,\n",
       "                        \u001b[33mtext_tokens\u001b[0m=\u001b[3;35mNone\u001b[0m,\n",
       "                        \u001b[33mimage_tokens\u001b[0m=\u001b[3;35mNone\u001b[0m\n",
       "                    \u001b[1m)\u001b[0m\n",
       "                \u001b[1m)\u001b[0m,\n",
       "                \u001b[33mservice_tier\u001b[0m=\u001b[32m'default'\u001b[0m\n",
       "            \u001b[1m)\u001b[0m\n",
       "        \u001b[1m)\u001b[0m,\n",
       "        \u001b[33mmodel_output\u001b[0m=\u001b[32m\"Called\u001b[0m\u001b[32m Tool: 'final_answer' with arguments: \u001b[0m\u001b[32m{\u001b[0m\u001b[32m'answer': '319.37595401031683'\u001b[0m\u001b[32m}\u001b[0m\u001b[32m\"\u001b[0m,\n",
       "        \u001b[33mobservations\u001b[0m=\u001b[3;35mNone\u001b[0m,\n",
       "        \u001b[33mobservations_images\u001b[0m=\u001b[3;35mNone\u001b[0m,\n",
       "        \u001b[33maction_output\u001b[0m=\u001b[32m'319.37595401031683'\u001b[0m\n",
       "    \u001b[1m)\u001b[0m\n",
       "\u001b[1m]\u001b[0m\n"
      ]
     },
     "metadata": {},
     "output_type": "display_data"
    }
   ],
   "source": [
    "print(agent.logs)"
   ]
  },
  {
   "cell_type": "code",
   "execution_count": 45,
   "id": "1aed4cca-606d-4419-8441-7fb206671ef8",
   "metadata": {},
   "outputs": [
    {
     "data": {
      "text/html": [
       "<pre style=\"white-space:pre;overflow-x:auto;line-height:normal;font-family:Menlo,'DejaVu Sans Mono',consolas,'Courier New',monospace\"><span style=\"color: #7fbfbf; text-decoration-color: #7fbfbf\">[15:37:08] </span>Replaying the agent's steps:                                                               <a href=\"file:///Users/prthamesh/personal-projects/test-nyi/.venv/lib/python3.12/site-packages/smolagents/memory.py\" target=\"_blank\"><span style=\"color: #7f7f7f; text-decoration-color: #7f7f7f\">memory.py</span></a><span style=\"color: #7f7f7f; text-decoration-color: #7f7f7f\">:</span><a href=\"file:///Users/prthamesh/personal-projects/test-nyi/.venv/lib/python3.12/site-packages/smolagents/memory.py#212\" target=\"_blank\"><span style=\"color: #7f7f7f; text-decoration-color: #7f7f7f\">212</span></a>\n",
       "</pre>\n"
      ],
      "text/plain": [
       "\u001b[2;36m[15:37:08]\u001b[0m\u001b[2;36m \u001b[0mReplaying the agent's steps:                                                               \u001b]8;id=52413;file:///Users/prthamesh/personal-projects/test-nyi/.venv/lib/python3.12/site-packages/smolagents/memory.py\u001b\\\u001b[2mmemory.py\u001b[0m\u001b]8;;\u001b\\\u001b[2m:\u001b[0m\u001b]8;id=108383;file:///Users/prthamesh/personal-projects/test-nyi/.venv/lib/python3.12/site-packages/smolagents/memory.py#212\u001b\\\u001b[2m212\u001b[0m\u001b]8;;\u001b\\\n"
      ]
     },
     "metadata": {},
     "output_type": "display_data"
    },
    {
     "data": {
      "text/html": [
       "<pre style=\"white-space:pre;overflow-x:auto;line-height:normal;font-family:Menlo,'DejaVu Sans Mono',consolas,'Courier New',monospace\"><span style=\"color: #d4b702; text-decoration-color: #d4b702\">╭──────────────────────────────────────────────────── </span><span style=\"color: #d4b702; text-decoration-color: #d4b702; font-weight: bold\">New run</span><span style=\"color: #d4b702; text-decoration-color: #d4b702\"> ────────────────────────────────────────────────────╮</span>\n",
       "<span style=\"color: #d4b702; text-decoration-color: #d4b702\">│</span>                                                                                                                 <span style=\"color: #d4b702; text-decoration-color: #d4b702\">│</span>\n",
       "<span style=\"color: #d4b702; text-decoration-color: #d4b702\">│</span> <span style=\"font-weight: bold\">Can you find me the square root of 102001</span>                                                                       <span style=\"color: #d4b702; text-decoration-color: #d4b702\">│</span>\n",
       "<span style=\"color: #d4b702; text-decoration-color: #d4b702\">│</span>                                                                                                                 <span style=\"color: #d4b702; text-decoration-color: #d4b702\">│</span>\n",
       "<span style=\"color: #d4b702; text-decoration-color: #d4b702\">╰─────────────────────────────────────────────────────────────────────────────────────────────────────────────────╯</span>\n",
       "</pre>\n"
      ],
      "text/plain": [
       "\u001b[38;2;212;183;2m╭─\u001b[0m\u001b[38;2;212;183;2m───────────────────────────────────────────────────\u001b[0m\u001b[38;2;212;183;2m \u001b[0m\u001b[1;38;2;212;183;2mNew run\u001b[0m\u001b[38;2;212;183;2m \u001b[0m\u001b[38;2;212;183;2m───────────────────────────────────────────────────\u001b[0m\u001b[38;2;212;183;2m─╮\u001b[0m\n",
       "\u001b[38;2;212;183;2m│\u001b[0m                                                                                                                 \u001b[38;2;212;183;2m│\u001b[0m\n",
       "\u001b[38;2;212;183;2m│\u001b[0m \u001b[1mCan you find me the square root of 102001\u001b[0m                                                                       \u001b[38;2;212;183;2m│\u001b[0m\n",
       "\u001b[38;2;212;183;2m│\u001b[0m                                                                                                                 \u001b[38;2;212;183;2m│\u001b[0m\n",
       "\u001b[38;2;212;183;2m╰─────────────────────────────────────────────────────────────────────────────────────────────────────────────────╯\u001b[0m\n"
      ]
     },
     "metadata": {},
     "output_type": "display_data"
    },
    {
     "data": {
      "text/html": [
       "<pre style=\"white-space:pre;overflow-x:auto;line-height:normal;font-family:Menlo,'DejaVu Sans Mono',consolas,'Courier New',monospace\"><span style=\"color: #d4b702; text-decoration-color: #d4b702\">━━━━━━━━━━━━━━━━━━━━━━━━━━━━━━━━━━━━━━━━━━━━━━━━━━━━━ </span><span style=\"font-weight: bold\">Step </span><span style=\"color: #008080; text-decoration-color: #008080; font-weight: bold\">1</span><span style=\"color: #d4b702; text-decoration-color: #d4b702\"> ━━━━━━━━━━━━━━━━━━━━━━━━━━━━━━━━━━━━━━━━━━━━━━━━━━━━━━</span>\n",
       "</pre>\n"
      ],
      "text/plain": [
       "\u001b[38;2;212;183;2m━━━━━━━━━━━━━━━━━━━━━━━━━━━━━━━━━━━━━━━━━━━━━━━━━━━━━ \u001b[0m\u001b[1mStep \u001b[0m\u001b[1;36m1\u001b[0m\u001b[38;2;212;183;2m ━━━━━━━━━━━━━━━━━━━━━━━━━━━━━━━━━━━━━━━━━━━━━━━━━━━━━━\u001b[0m\n"
      ]
     },
     "metadata": {},
     "output_type": "display_data"
    },
    {
     "data": {
      "text/html": [
       "<pre style=\"white-space:pre;overflow-x:auto;line-height:normal;font-family:Menlo,'DejaVu Sans Mono',consolas,'Courier New',monospace\"><span style=\"font-weight: bold; font-style: italic\">Agent output:</span> <span style=\"color: #d4b702; text-decoration-color: #d4b702\">─────────────────────────────────────────────────────────────────────────────────────────────────────</span>\n",
       "<span style=\"color: #e6edf3; text-decoration-color: #e6edf3; background-color: #0d1117\">Called Tool: 'python_interpreter' with arguments: {'code': 'import math\\nresult = math.sqrt(102001)'}</span><span style=\"background-color: #0d1117\">              </span>\n",
       "</pre>\n"
      ],
      "text/plain": [
       "\u001b[1;3mAgent output:\u001b[0m \u001b[38;2;212;183;2m─────────────────────────────────────────────────────────────────────────────────────────────────────\u001b[0m\n",
       "\u001b[38;2;230;237;243;48;2;13;17;23mCalled\u001b[0m\u001b[38;2;230;237;243;48;2;13;17;23m \u001b[0m\u001b[38;2;230;237;243;48;2;13;17;23mTool:\u001b[0m\u001b[38;2;230;237;243;48;2;13;17;23m \u001b[0m\u001b[38;2;230;237;243;48;2;13;17;23m'python_interpreter'\u001b[0m\u001b[38;2;230;237;243;48;2;13;17;23m \u001b[0m\u001b[38;2;230;237;243;48;2;13;17;23mwith\u001b[0m\u001b[38;2;230;237;243;48;2;13;17;23m \u001b[0m\u001b[38;2;230;237;243;48;2;13;17;23marguments:\u001b[0m\u001b[38;2;230;237;243;48;2;13;17;23m \u001b[0m\u001b[38;2;230;237;243;48;2;13;17;23m{'code':\u001b[0m\u001b[38;2;230;237;243;48;2;13;17;23m \u001b[0m\u001b[38;2;230;237;243;48;2;13;17;23m'import\u001b[0m\u001b[38;2;230;237;243;48;2;13;17;23m \u001b[0m\u001b[38;2;230;237;243;48;2;13;17;23mmath\u001b[0m\u001b[38;2;230;237;243;48;2;13;17;23m\\n\u001b[0m\u001b[38;2;230;237;243;48;2;13;17;23mresult\u001b[0m\u001b[38;2;230;237;243;48;2;13;17;23m \u001b[0m\u001b[38;2;230;237;243;48;2;13;17;23m=\u001b[0m\u001b[38;2;230;237;243;48;2;13;17;23m \u001b[0m\u001b[38;2;230;237;243;48;2;13;17;23mmath.sqrt(102001)'}\u001b[0m\u001b[48;2;13;17;23m              \u001b[0m\n"
      ]
     },
     "metadata": {},
     "output_type": "display_data"
    },
    {
     "data": {
      "text/html": [
       "<pre style=\"white-space:pre;overflow-x:auto;line-height:normal;font-family:Menlo,'DejaVu Sans Mono',consolas,'Courier New',monospace\"><span style=\"color: #d4b702; text-decoration-color: #d4b702\">━━━━━━━━━━━━━━━━━━━━━━━━━━━━━━━━━━━━━━━━━━━━━━━━━━━━━ </span><span style=\"font-weight: bold\">Step </span><span style=\"color: #008080; text-decoration-color: #008080; font-weight: bold\">2</span><span style=\"color: #d4b702; text-decoration-color: #d4b702\"> ━━━━━━━━━━━━━━━━━━━━━━━━━━━━━━━━━━━━━━━━━━━━━━━━━━━━━━</span>\n",
       "</pre>\n"
      ],
      "text/plain": [
       "\u001b[38;2;212;183;2m━━━━━━━━━━━━━━━━━━━━━━━━━━━━━━━━━━━━━━━━━━━━━━━━━━━━━ \u001b[0m\u001b[1mStep \u001b[0m\u001b[1;36m2\u001b[0m\u001b[38;2;212;183;2m ━━━━━━━━━━━━━━━━━━━━━━━━━━━━━━━━━━━━━━━━━━━━━━━━━━━━━━\u001b[0m\n"
      ]
     },
     "metadata": {},
     "output_type": "display_data"
    },
    {
     "data": {
      "text/html": [
       "<pre style=\"white-space:pre;overflow-x:auto;line-height:normal;font-family:Menlo,'DejaVu Sans Mono',consolas,'Courier New',monospace\"><span style=\"font-weight: bold; font-style: italic\">Agent output:</span> <span style=\"color: #d4b702; text-decoration-color: #d4b702\">─────────────────────────────────────────────────────────────────────────────────────────────────────</span>\n",
       "<span style=\"color: #e6edf3; text-decoration-color: #e6edf3; background-color: #0d1117\">Called Tool: 'final_answer' with arguments: {'answer': '319.37595401031683'}</span><span style=\"background-color: #0d1117\">                                       </span>\n",
       "</pre>\n"
      ],
      "text/plain": [
       "\u001b[1;3mAgent output:\u001b[0m \u001b[38;2;212;183;2m─────────────────────────────────────────────────────────────────────────────────────────────────────\u001b[0m\n",
       "\u001b[38;2;230;237;243;48;2;13;17;23mCalled\u001b[0m\u001b[38;2;230;237;243;48;2;13;17;23m \u001b[0m\u001b[38;2;230;237;243;48;2;13;17;23mTool:\u001b[0m\u001b[38;2;230;237;243;48;2;13;17;23m \u001b[0m\u001b[38;2;230;237;243;48;2;13;17;23m'final_answer'\u001b[0m\u001b[38;2;230;237;243;48;2;13;17;23m \u001b[0m\u001b[38;2;230;237;243;48;2;13;17;23mwith\u001b[0m\u001b[38;2;230;237;243;48;2;13;17;23m \u001b[0m\u001b[38;2;230;237;243;48;2;13;17;23marguments:\u001b[0m\u001b[38;2;230;237;243;48;2;13;17;23m \u001b[0m\u001b[38;2;230;237;243;48;2;13;17;23m{'answer':\u001b[0m\u001b[38;2;230;237;243;48;2;13;17;23m \u001b[0m\u001b[38;2;230;237;243;48;2;13;17;23m'319.37595401031683'}\u001b[0m\u001b[48;2;13;17;23m                                       \u001b[0m\n"
      ]
     },
     "metadata": {},
     "output_type": "display_data"
    },
    {
     "data": {
      "text/html": [
       "<pre style=\"white-space:pre;overflow-x:auto;line-height:normal;font-family:Menlo,'DejaVu Sans Mono',consolas,'Courier New',monospace\"><span style=\"color: #800080; text-decoration-color: #800080; font-style: italic\">None</span>\n",
       "</pre>\n"
      ],
      "text/plain": [
       "\u001b[3;35mNone\u001b[0m\n"
      ]
     },
     "metadata": {},
     "output_type": "display_data"
    }
   ],
   "source": [
    "print(agent.replay())"
   ]
  },
  {
   "cell_type": "code",
   "execution_count": 46,
   "id": "0097b9b7-0e3e-49c6-a35d-6670578c0fbf",
   "metadata": {},
   "outputs": [
    {
     "data": {
      "text/html": [
       "<pre style=\"white-space:pre;overflow-x:auto;line-height:normal;font-family:Menlo,'DejaVu Sans Mono',consolas,'Courier New',monospace\">## Search Results\n",
       "\n",
       "<span style=\"font-weight: bold\">[</span>List of Arsenal F.C. managers - Wikipedia<span style=\"font-weight: bold\">](</span><span style=\"color: #0000ff; text-decoration-color: #0000ff; text-decoration: underline\">https://en.wikipedia.org/wiki/List_of_Arsenal_F.C._managers)</span>\n",
       "A statue of Herbert Chapman <span style=\"font-weight: bold\">(</span><span style=\"color: #008080; text-decoration-color: #008080; font-weight: bold\">1878</span>-<span style=\"color: #008080; text-decoration-color: #008080; font-weight: bold\">1934</span><span style=\"font-weight: bold\">)</span>, Arsenal  manager from <span style=\"color: #008080; text-decoration-color: #008080; font-weight: bold\">1925</span> to <span style=\"color: #008080; text-decoration-color: #008080; font-weight: bold\">1934</span> Arsenal Football Club is an English \n",
       "professional association football club based in Islington, London. The club was formed in Woolwich in <span style=\"color: #008080; text-decoration-color: #008080; font-weight: bold\">1886</span> as Dial \n",
       "Square before it was shortly renamed to Royal Arsenal , and then Woolwich Arsenal in <span style=\"color: #008080; text-decoration-color: #008080; font-weight: bold\">1893</span>. <span style=\"font-weight: bold\">[</span><span style=\"color: #008080; text-decoration-color: #008080; font-weight: bold\">1</span><span style=\"font-weight: bold\">]</span> They became the \n",
       "first southern member  admitted into the Football <span style=\"color: #808000; text-decoration-color: #808000\">...</span>\n",
       "\n",
       "<span style=\"font-weight: bold\">[</span>Arsenal Coaching Staff<span style=\"font-weight: bold\">](</span><span style=\"color: #0000ff; text-decoration-color: #0000ff; text-decoration: underline\">https://www.arsenalinsider.com/club/coaching-staff/)</span>\n",
       "A full list of Arsenal's coaching staff under Mikel Arteta for <span style=\"color: #008080; text-decoration-color: #008080; font-weight: bold\">2024</span>/<span style=\"color: #008080; text-decoration-color: #008080; font-weight: bold\">25</span>. Keep up-to-date on all things on the \n",
       "Gunners with Arsenal Insider.\n",
       "\n",
       "<span style=\"font-weight: bold\">[</span>Arsenal appoint Renee Slegers as new head coach after impressive \n",
       "<span style=\"color: #808000; text-decoration-color: #808000\">...</span><span style=\"font-weight: bold\">](</span><span style=\"color: #0000ff; text-decoration-color: #0000ff; text-decoration: underline\">https://www.independent.co.uk/sport/football/renee-slegers-arsenal-head-coach-new-b2681227.html)</span>\n",
       " Arsenal appoint Renee Slegers as new head coach after impressive interim spell The Dutch coach has overseen <span style=\"color: #008080; text-decoration-color: #008080; font-weight: bold\">10</span> \n",
       "wins and one draw since replacing Jonas Eidevall in October and was identified as the <span style=\"color: #808000; text-decoration-color: #808000\">...</span>\n",
       "\n",
       "<span style=\"font-weight: bold\">[</span>Arsenal Managers List: Former, Current, Past Managers<span style=\"font-weight: bold\">](</span><span style=\"color: #0000ff; text-decoration-color: #0000ff; text-decoration: underline\">https://arsenalfclatestnews.com/arsenal-managers-list/)</span>\n",
       " Arsenal  managers  of all time - full history list! Arsenal Football Club is an English professional club based in\n",
       "Islington, London. The club was formed in Woolwich in <span style=\"color: #008080; text-decoration-color: #008080; font-weight: bold\">1886</span> as Dial Square before it was shortly renamed to Royal \n",
       "Arsenal , and then Woolwich Arsenal in <span style=\"color: #008080; text-decoration-color: #008080; font-weight: bold\">1893</span>. They became the first southern member to be admitted into the football\n",
       "league in <span style=\"color: #008080; text-decoration-color: #008080; font-weight: bold\">1893</span>, having spent their first four seasons <span style=\"color: #808000; text-decoration-color: #808000\">...</span>\n",
       "\n",
       "<span style=\"font-weight: bold\">[</span>Renee Slegers confirmed as new Arsenal head coach - \n",
       "90min<span style=\"font-weight: bold\">](</span><span style=\"color: #0000ff; text-decoration-color: #0000ff; text-decoration: underline\">https://www.90min.com/renee-slegers-confirmed-new-arsenal-head-coach)</span>\n",
       " Arsenal have unveiled Renee Slegers as their next permanent head coach. The <span style=\"color: #008080; text-decoration-color: #008080; font-weight: bold\">35</span>-year-old has put pen to paper on a \n",
       "deal that will see her lead the side through to the end of the <span style=\"color: #008080; text-decoration-color: #008080; font-weight: bold\">2025</span>/<span style=\"color: #008080; text-decoration-color: #008080; font-weight: bold\">26</span> season.\n",
       "\n",
       "<span style=\"font-weight: bold\">[</span>Mikel Arteta interview: Arsenal manager says he envisaged lifting the \n",
       "<span style=\"color: #808000; text-decoration-color: #808000\">...</span><span style=\"font-weight: bold\">](</span><span style=\"color: #0000ff; text-decoration-color: #0000ff; text-decoration: underline\">https://www.skysports.com/football/news/11670/13369144/mikel-arteta-interview-arsenal-manager-says-he-envisage</span>\n",
       "<span style=\"color: #0000ff; text-decoration-color: #0000ff; text-decoration: underline\">d-lifting-the-premier-league-title-this-weekend-and-discusses-transfer-plans)</span>\n",
       "Mikel Arteta has revealed he envisaged Arsenal lifting the Premier League title on their final home game of this \n",
       "season - and has called on his club to boost his squad in the transfer window as <span style=\"color: #808000; text-decoration-color: #808000\">...</span>\n",
       "\n",
       "<span style=\"font-weight: bold\">[</span>Mikel reflects on five-years as manager - Arsenal FC Official \n",
       "Website<span style=\"font-weight: bold\">](</span><span style=\"color: #0000ff; text-decoration-color: #0000ff; text-decoration: underline\">https://www.arsenal.com/news/mikel-reflects-five-years-manager)</span>\n",
       "With the festive period approaching, Mikel goes into Saturday's Premier League match against Crystal Palace \n",
       "celebrating five years in charge at the club. <span style=\"color: #008000; text-decoration-color: #008000\">\"I think you have to live the present in this job, you know, and </span>\n",
       "<span style=\"color: #008000; text-decoration-color: #008000\">obviously you have to plan for what is coming,\"</span> he said in his pre-match press conference. \"You know, I'm paying \n",
       "attention to every detail, understanding how things are <span style=\"color: #808000; text-decoration-color: #808000\">...</span>\n",
       "\n",
       "<span style=\"font-weight: bold\">[</span>Mikel Arteta named Arsenal head coach - \n",
       "ESPN<span style=\"font-weight: bold\">](</span><span style=\"color: #0000ff; text-decoration-color: #0000ff; text-decoration: underline\">https://www.espn.com/soccer/story/_/id/37580019/mikel-arteta-named-arsenal-head-coach)</span>\n",
       "Mikel Arteta has been named the new Arsenal head coach on a 3½-year deal, the club confirmed on Friday. <span style=\"color: #008000; text-decoration-color: #008000\">\"This is a </span>\n",
       "<span style=\"color: #008000; text-decoration-color: #008000\">huge honour. Arsenal is one of the biggest clubs in the world,\"</span> Arteta said. \"We <span style=\"color: #808000; text-decoration-color: #808000\">...</span>\n",
       "\n",
       "<span style=\"font-weight: bold\">[</span>Who Is The Manager Of Arsenal | StatMuse<span style=\"font-weight: bold\">](</span><span style=\"color: #0000ff; text-decoration-color: #0000ff; text-decoration: underline\">https://www.statmuse.com/fc/ask/who-is-the-manager-of-arsenal)</span>\n",
       "Mikel Arteta has managed Arsenal from <span style=\"color: #008080; text-decoration-color: #008080; font-weight: bold\">2019</span>-<span style=\"color: #008080; text-decoration-color: #008080; font-weight: bold\">20</span> to <span style=\"color: #008080; text-decoration-color: #008080; font-weight: bold\">2023</span>-<span style=\"color: #008080; text-decoration-color: #008080; font-weight: bold\">24</span>.\n",
       "\n",
       "<span style=\"font-weight: bold\">[</span>Arsenal Manager Information<span style=\"font-weight: bold\">](</span><span style=\"color: #0000ff; text-decoration-color: #0000ff; text-decoration: underline\">https://www.arsenalinsider.com/club/manager/)</span>\n",
       "All you need to know about Arsenal  manager Mikel Arteta from Arsenal Insider, bringing you the latest news and \n",
       "updates on the Gunners.\n",
       "</pre>\n"
      ],
      "text/plain": [
       "## Search Results\n",
       "\n",
       "\u001b[1m[\u001b[0mList of Arsenal F.C. managers - Wikipedia\u001b[1m]\u001b[0m\u001b[1m(\u001b[0m\u001b[4;94mhttps://en.wikipedia.org/wiki/List_of_Arsenal_F.C._managers\u001b[0m\u001b[4;94m)\u001b[0m\n",
       "A statue of Herbert Chapman \u001b[1m(\u001b[0m\u001b[1;36m1878\u001b[0m-\u001b[1;36m1934\u001b[0m\u001b[1m)\u001b[0m, Arsenal  manager from \u001b[1;36m1925\u001b[0m to \u001b[1;36m1934\u001b[0m Arsenal Football Club is an English \n",
       "professional association football club based in Islington, London. The club was formed in Woolwich in \u001b[1;36m1886\u001b[0m as Dial \n",
       "Square before it was shortly renamed to Royal Arsenal , and then Woolwich Arsenal in \u001b[1;36m1893\u001b[0m. \u001b[1m[\u001b[0m\u001b[1;36m1\u001b[0m\u001b[1m]\u001b[0m They became the \n",
       "first southern member  admitted into the Football \u001b[33m...\u001b[0m\n",
       "\n",
       "\u001b[1m[\u001b[0mArsenal Coaching Staff\u001b[1m]\u001b[0m\u001b[1m(\u001b[0m\u001b[4;94mhttps://www.arsenalinsider.com/club/coaching-staff/\u001b[0m\u001b[4;94m)\u001b[0m\n",
       "A full list of Arsenal's coaching staff under Mikel Arteta for \u001b[1;36m2024\u001b[0m/\u001b[1;36m25\u001b[0m. Keep up-to-date on all things on the \n",
       "Gunners with Arsenal Insider.\n",
       "\n",
       "\u001b[1m[\u001b[0mArsenal appoint Renee Slegers as new head coach after impressive \n",
       "\u001b[33m...\u001b[0m\u001b[1m]\u001b[0m\u001b[1m(\u001b[0m\u001b[4;94mhttps://www.independent.co.uk/sport/football/renee-slegers-arsenal-head-coach-new-b2681227.html\u001b[0m\u001b[4;94m)\u001b[0m\n",
       " Arsenal appoint Renee Slegers as new head coach after impressive interim spell The Dutch coach has overseen \u001b[1;36m10\u001b[0m \n",
       "wins and one draw since replacing Jonas Eidevall in October and was identified as the \u001b[33m...\u001b[0m\n",
       "\n",
       "\u001b[1m[\u001b[0mArsenal Managers List: Former, Current, Past Managers\u001b[1m]\u001b[0m\u001b[1m(\u001b[0m\u001b[4;94mhttps://arsenalfclatestnews.com/arsenal-managers-list/\u001b[0m\u001b[4;94m)\u001b[0m\n",
       " Arsenal  managers  of all time - full history list! Arsenal Football Club is an English professional club based in\n",
       "Islington, London. The club was formed in Woolwich in \u001b[1;36m1886\u001b[0m as Dial Square before it was shortly renamed to Royal \n",
       "Arsenal , and then Woolwich Arsenal in \u001b[1;36m1893\u001b[0m. They became the first southern member to be admitted into the football\n",
       "league in \u001b[1;36m1893\u001b[0m, having spent their first four seasons \u001b[33m...\u001b[0m\n",
       "\n",
       "\u001b[1m[\u001b[0mRenee Slegers confirmed as new Arsenal head coach - \n",
       "90min\u001b[1m]\u001b[0m\u001b[1m(\u001b[0m\u001b[4;94mhttps://www.90min.com/renee-slegers-confirmed-new-arsenal-head-coach\u001b[0m\u001b[4;94m)\u001b[0m\n",
       " Arsenal have unveiled Renee Slegers as their next permanent head coach. The \u001b[1;36m35\u001b[0m-year-old has put pen to paper on a \n",
       "deal that will see her lead the side through to the end of the \u001b[1;36m2025\u001b[0m/\u001b[1;36m26\u001b[0m season.\n",
       "\n",
       "\u001b[1m[\u001b[0mMikel Arteta interview: Arsenal manager says he envisaged lifting the \n",
       "\u001b[33m...\u001b[0m\u001b[1m]\u001b[0m\u001b[1m(\u001b[0m\u001b[4;94mhttps://www.skysports.com/football/news/11670/13369144/mikel-arteta-interview-arsenal-manager-says-he-envisage\u001b[0m\n",
       "\u001b[4;94md-lifting-the-premier-league-title-this-weekend-and-discusses-transfer-plans\u001b[0m\u001b[4;94m)\u001b[0m\n",
       "Mikel Arteta has revealed he envisaged Arsenal lifting the Premier League title on their final home game of this \n",
       "season - and has called on his club to boost his squad in the transfer window as \u001b[33m...\u001b[0m\n",
       "\n",
       "\u001b[1m[\u001b[0mMikel reflects on five-years as manager - Arsenal FC Official \n",
       "Website\u001b[1m]\u001b[0m\u001b[1m(\u001b[0m\u001b[4;94mhttps://www.arsenal.com/news/mikel-reflects-five-years-manager\u001b[0m\u001b[4;94m)\u001b[0m\n",
       "With the festive period approaching, Mikel goes into Saturday's Premier League match against Crystal Palace \n",
       "celebrating five years in charge at the club. \u001b[32m\"I think you have to live the present in this job, you know, and \u001b[0m\n",
       "\u001b[32mobviously you have to plan for what is coming,\"\u001b[0m he said in his pre-match press conference. \"You know, I'm paying \n",
       "attention to every detail, understanding how things are \u001b[33m...\u001b[0m\n",
       "\n",
       "\u001b[1m[\u001b[0mMikel Arteta named Arsenal head coach - \n",
       "ESPN\u001b[1m]\u001b[0m\u001b[1m(\u001b[0m\u001b[4;94mhttps://www.espn.com/soccer/story/_/id/37580019/mikel-arteta-named-arsenal-head-coach\u001b[0m\u001b[4;94m)\u001b[0m\n",
       "Mikel Arteta has been named the new Arsenal head coach on a 3½-year deal, the club confirmed on Friday. \u001b[32m\"This is a \u001b[0m\n",
       "\u001b[32mhuge honour. Arsenal is one of the biggest clubs in the world,\"\u001b[0m Arteta said. \"We \u001b[33m...\u001b[0m\n",
       "\n",
       "\u001b[1m[\u001b[0mWho Is The Manager Of Arsenal | StatMuse\u001b[1m]\u001b[0m\u001b[1m(\u001b[0m\u001b[4;94mhttps://www.statmuse.com/fc/ask/who-is-the-manager-of-arsenal\u001b[0m\u001b[4;94m)\u001b[0m\n",
       "Mikel Arteta has managed Arsenal from \u001b[1;36m2019\u001b[0m-\u001b[1;36m20\u001b[0m to \u001b[1;36m2023\u001b[0m-\u001b[1;36m24\u001b[0m.\n",
       "\n",
       "\u001b[1m[\u001b[0mArsenal Manager Information\u001b[1m]\u001b[0m\u001b[1m(\u001b[0m\u001b[4;94mhttps://www.arsenalinsider.com/club/manager/\u001b[0m\u001b[4;94m)\u001b[0m\n",
       "All you need to know about Arsenal  manager Mikel Arteta from Arsenal Insider, bringing you the latest news and \n",
       "updates on the Gunners.\n"
      ]
     },
     "metadata": {},
     "output_type": "display_data"
    }
   ],
   "source": [
    "from smolagents import WebSearchTool\n",
    "\n",
    "search_tool = WebSearchTool()\n",
    "print(search_tool(\"Who's the current manager of Arsenal FC?\"))"
   ]
  },
  {
   "cell_type": "code",
   "execution_count": null,
   "id": "5aeeaa10-afba-40af-868b-2d4515773241",
   "metadata": {},
   "outputs": [],
   "source": []
  },
  {
   "cell_type": "code",
   "execution_count": null,
   "id": "cd2573bb-88bd-4af8-9952-be7ad4363d8d",
   "metadata": {},
   "outputs": [],
   "source": []
  },
  {
   "cell_type": "markdown",
   "id": "1610cad1-c4eb-460b-8c5a-3cf2b2809ee3",
   "metadata": {},
   "source": [
    "Using the weather and time tool"
   ]
  },
  {
   "cell_type": "code",
   "execution_count": 47,
   "id": "3602afff-41a5-48a6-9991-cff4f068731b",
   "metadata": {},
   "outputs": [],
   "source": [
    "from smolagents import tool\n",
    "\n",
    "@tool\n",
    "def get_weather_api(latitude: float, longitude: float) -> float:\n",
    "    \"\"\"\n",
    "    This is a tool that gives weather of the location when provided with it's latitude and longitude\n",
    "\n",
    "    Args:\n",
    "        latitude: latitude of the location\n",
    "        longitude: longitude of the location\n",
    "    \"\"\"\n",
    "    response = requests.get(f\"https://api.open-meteo.com/v1/forecast?latitude={latitude}&longitude={longitude}&current=temperature_2m,wind_speed_10m&hourly=temperature_2m,relative_humidity_2m,wind_speed_10m\")\n",
    "    data = response.json()\n",
    "    return data['current']['temperature_2m']"
   ]
  },
  {
   "cell_type": "code",
   "execution_count": 48,
   "id": "9bdddc2a-3460-43d1-b769-81e05364285c",
   "metadata": {},
   "outputs": [],
   "source": [
    "@tool\n",
    "def get_time(location: str) -> str:\n",
    "    \"\"\"\n",
    "    This is a tool to give the local time given a location\n",
    "\n",
    "    Args:\n",
    "        location: String location of the place\n",
    "    \"\"\"\n",
    "    try:\n",
    "        city_to_timezone = {\n",
    "            \"new york\": \"America/New_York\",\n",
    "            \"london\": \"Europe/London\",\n",
    "            \"tokyo\": \"Asia/Tokyo\",\n",
    "            \"paris\": \"Europe/Paris\",\n",
    "        }\n",
    "        \n",
    "        timezone_str = city_to_timezone.get(location.lower(), location)\n",
    "        timezone = pytz.timezone(timezone_str)\n",
    "        \n",
    "        local_time = datetime.now(timezone)\n",
    "        formatted_time = local_time.strftime(\"%I:%M %p\")\n",
    "        \n",
    "        return f\"The local time in {location} is {formatted_time}.\"\n",
    "    \n",
    "    except pytz.exceptions.UnknownTimeZoneError:\n",
    "        return f\"Sorry, couldn't find timezone data for {location}. Please use a valid city name or timezone identifier (e.g. 'America/New_York').\""
   ]
  },
  {
   "cell_type": "code",
   "execution_count": 49,
   "id": "a466f9cf-d483-4b41-b836-d42f1ed7d218",
   "metadata": {},
   "outputs": [
    {
     "data": {
      "text/html": [
       "<pre style=\"white-space:pre;overflow-x:auto;line-height:normal;font-family:Menlo,'DejaVu Sans Mono',consolas,'Courier New',monospace\"><span style=\"color: #d4b702; text-decoration-color: #d4b702\">╭──────────────────────────────────────────────────── </span><span style=\"color: #d4b702; text-decoration-color: #d4b702; font-weight: bold\">New run</span><span style=\"color: #d4b702; text-decoration-color: #d4b702\"> ────────────────────────────────────────────────────╮</span>\n",
       "<span style=\"color: #d4b702; text-decoration-color: #d4b702\">│</span>                                                                                                                 <span style=\"color: #d4b702; text-decoration-color: #d4b702\">│</span>\n",
       "<span style=\"color: #d4b702; text-decoration-color: #d4b702\">│</span> <span style=\"font-weight: bold\">What's the time in Delhi?</span>                                                                                       <span style=\"color: #d4b702; text-decoration-color: #d4b702\">│</span>\n",
       "<span style=\"color: #d4b702; text-decoration-color: #d4b702\">│</span>                                                                                                                 <span style=\"color: #d4b702; text-decoration-color: #d4b702\">│</span>\n",
       "<span style=\"color: #d4b702; text-decoration-color: #d4b702\">╰─ LiteLLMModel - gpt-3.5-turbo ──────────────────────────────────────────────────────────────────────────────────╯</span>\n",
       "</pre>\n"
      ],
      "text/plain": [
       "\u001b[38;2;212;183;2m╭─\u001b[0m\u001b[38;2;212;183;2m───────────────────────────────────────────────────\u001b[0m\u001b[38;2;212;183;2m \u001b[0m\u001b[1;38;2;212;183;2mNew run\u001b[0m\u001b[38;2;212;183;2m \u001b[0m\u001b[38;2;212;183;2m───────────────────────────────────────────────────\u001b[0m\u001b[38;2;212;183;2m─╮\u001b[0m\n",
       "\u001b[38;2;212;183;2m│\u001b[0m                                                                                                                 \u001b[38;2;212;183;2m│\u001b[0m\n",
       "\u001b[38;2;212;183;2m│\u001b[0m \u001b[1mWhat's the time in Delhi?\u001b[0m                                                                                       \u001b[38;2;212;183;2m│\u001b[0m\n",
       "\u001b[38;2;212;183;2m│\u001b[0m                                                                                                                 \u001b[38;2;212;183;2m│\u001b[0m\n",
       "\u001b[38;2;212;183;2m╰─\u001b[0m\u001b[38;2;212;183;2m LiteLLMModel - gpt-3.5-turbo \u001b[0m\u001b[38;2;212;183;2m─────────────────────────────────────────────────────────────────────────────────\u001b[0m\u001b[38;2;212;183;2m─╯\u001b[0m\n"
      ]
     },
     "metadata": {},
     "output_type": "display_data"
    },
    {
     "data": {
      "text/html": [
       "<pre style=\"white-space:pre;overflow-x:auto;line-height:normal;font-family:Menlo,'DejaVu Sans Mono',consolas,'Courier New',monospace\"><span style=\"color: #d4b702; text-decoration-color: #d4b702\">━━━━━━━━━━━━━━━━━━━━━━━━━━━━━━━━━━━━━━━━━━━━━━━━━━━━━ </span><span style=\"font-weight: bold\">Step </span><span style=\"color: #008080; text-decoration-color: #008080; font-weight: bold\">1</span><span style=\"color: #d4b702; text-decoration-color: #d4b702\"> ━━━━━━━━━━━━━━━━━━━━━━━━━━━━━━━━━━━━━━━━━━━━━━━━━━━━━━</span>\n",
       "</pre>\n"
      ],
      "text/plain": [
       "\u001b[38;2;212;183;2m━━━━━━━━━━━━━━━━━━━━━━━━━━━━━━━━━━━━━━━━━━━━━━━━━━━━━ \u001b[0m\u001b[1mStep \u001b[0m\u001b[1;36m1\u001b[0m\u001b[38;2;212;183;2m ━━━━━━━━━━━━━━━━━━━━━━━━━━━━━━━━━━━━━━━━━━━━━━━━━━━━━━\u001b[0m\n"
      ]
     },
     "metadata": {},
     "output_type": "display_data"
    },
    {
     "data": {
      "text/html": [
       "<pre style=\"white-space:pre;overflow-x:auto;line-height:normal;font-family:Menlo,'DejaVu Sans Mono',consolas,'Courier New',monospace\"> ─ <span style=\"font-weight: bold\">Executing parsed code:</span> ──────────────────────────────────────────────────────────────────────────────────────── \n",
       "  <span style=\"color: #f8f8f2; text-decoration-color: #f8f8f2; background-color: #272822\">time_in_delhi </span><span style=\"color: #ff4689; text-decoration-color: #ff4689; background-color: #272822\">=</span><span style=\"color: #f8f8f2; text-decoration-color: #f8f8f2; background-color: #272822\"> get_time(location</span><span style=\"color: #ff4689; text-decoration-color: #ff4689; background-color: #272822\">=</span><span style=\"color: #e6db74; text-decoration-color: #e6db74; background-color: #272822\">\"Delhi\"</span><span style=\"color: #f8f8f2; text-decoration-color: #f8f8f2; background-color: #272822\">)</span><span style=\"background-color: #272822\">                                                                     </span>  \n",
       "  <span style=\"color: #f8f8f2; text-decoration-color: #f8f8f2; background-color: #272822\">print(time_in_delhi)</span><span style=\"background-color: #272822\">                                                                                           </span>  \n",
       " ───────────────────────────────────────────────────────────────────────────────────────────────────────────────── \n",
       "</pre>\n"
      ],
      "text/plain": [
       " ─ \u001b[1mExecuting parsed code:\u001b[0m ──────────────────────────────────────────────────────────────────────────────────────── \n",
       "  \u001b[38;2;248;248;242;48;2;39;40;34mtime_in_delhi\u001b[0m\u001b[38;2;248;248;242;48;2;39;40;34m \u001b[0m\u001b[38;2;255;70;137;48;2;39;40;34m=\u001b[0m\u001b[38;2;248;248;242;48;2;39;40;34m \u001b[0m\u001b[38;2;248;248;242;48;2;39;40;34mget_time\u001b[0m\u001b[38;2;248;248;242;48;2;39;40;34m(\u001b[0m\u001b[38;2;248;248;242;48;2;39;40;34mlocation\u001b[0m\u001b[38;2;255;70;137;48;2;39;40;34m=\u001b[0m\u001b[38;2;230;219;116;48;2;39;40;34m\"\u001b[0m\u001b[38;2;230;219;116;48;2;39;40;34mDelhi\u001b[0m\u001b[38;2;230;219;116;48;2;39;40;34m\"\u001b[0m\u001b[38;2;248;248;242;48;2;39;40;34m)\u001b[0m\u001b[48;2;39;40;34m                                                                     \u001b[0m  \n",
       "  \u001b[38;2;248;248;242;48;2;39;40;34mprint\u001b[0m\u001b[38;2;248;248;242;48;2;39;40;34m(\u001b[0m\u001b[38;2;248;248;242;48;2;39;40;34mtime_in_delhi\u001b[0m\u001b[38;2;248;248;242;48;2;39;40;34m)\u001b[0m\u001b[48;2;39;40;34m                                                                                           \u001b[0m  \n",
       " ───────────────────────────────────────────────────────────────────────────────────────────────────────────────── \n"
      ]
     },
     "metadata": {},
     "output_type": "display_data"
    },
    {
     "data": {
      "text/html": [
       "<pre style=\"white-space:pre;overflow-x:auto;line-height:normal;font-family:Menlo,'DejaVu Sans Mono',consolas,'Courier New',monospace\"><span style=\"font-weight: bold\">Execution logs:</span>\n",
       "Sorry, couldn't find timezone data for Delhi. Please use a valid city name or timezone identifier (e.g. \n",
       "'America/New_York').\n",
       "\n",
       "Out: None\n",
       "</pre>\n"
      ],
      "text/plain": [
       "\u001b[1mExecution logs:\u001b[0m\n",
       "Sorry, couldn't find timezone data for Delhi. Please use a valid city name or timezone identifier (e.g. \n",
       "'America/New_York').\n",
       "\n",
       "Out: None\n"
      ]
     },
     "metadata": {},
     "output_type": "display_data"
    },
    {
     "data": {
      "text/html": [
       "<pre style=\"white-space:pre;overflow-x:auto;line-height:normal;font-family:Menlo,'DejaVu Sans Mono',consolas,'Courier New',monospace\"><span style=\"color: #7f7f7f; text-decoration-color: #7f7f7f\">[Step 1: Duration 1.49 seconds| Input tokens: 2,048 | Output tokens: 73]</span>\n",
       "</pre>\n"
      ],
      "text/plain": [
       "\u001b[2m[Step 1: Duration 1.49 seconds| Input tokens: 2,048 | Output tokens: 73]\u001b[0m\n"
      ]
     },
     "metadata": {},
     "output_type": "display_data"
    },
    {
     "data": {
      "text/html": [
       "<pre style=\"white-space:pre;overflow-x:auto;line-height:normal;font-family:Menlo,'DejaVu Sans Mono',consolas,'Courier New',monospace\"><span style=\"color: #d4b702; text-decoration-color: #d4b702\">━━━━━━━━━━━━━━━━━━━━━━━━━━━━━━━━━━━━━━━━━━━━━━━━━━━━━ </span><span style=\"font-weight: bold\">Step </span><span style=\"color: #008080; text-decoration-color: #008080; font-weight: bold\">2</span><span style=\"color: #d4b702; text-decoration-color: #d4b702\"> ━━━━━━━━━━━━━━━━━━━━━━━━━━━━━━━━━━━━━━━━━━━━━━━━━━━━━━</span>\n",
       "</pre>\n"
      ],
      "text/plain": [
       "\u001b[38;2;212;183;2m━━━━━━━━━━━━━━━━━━━━━━━━━━━━━━━━━━━━━━━━━━━━━━━━━━━━━ \u001b[0m\u001b[1mStep \u001b[0m\u001b[1;36m2\u001b[0m\u001b[38;2;212;183;2m ━━━━━━━━━━━━━━━━━━━━━━━━━━━━━━━━━━━━━━━━━━━━━━━━━━━━━━\u001b[0m\n"
      ]
     },
     "metadata": {},
     "output_type": "display_data"
    },
    {
     "data": {
      "text/html": [
       "<pre style=\"white-space:pre;overflow-x:auto;line-height:normal;font-family:Menlo,'DejaVu Sans Mono',consolas,'Courier New',monospace\"> ─ <span style=\"font-weight: bold\">Executing parsed code:</span> ──────────────────────────────────────────────────────────────────────────────────────── \n",
       "  <span style=\"color: #f8f8f2; text-decoration-color: #f8f8f2; background-color: #272822\">delhi_time </span><span style=\"color: #ff4689; text-decoration-color: #ff4689; background-color: #272822\">=</span><span style=\"color: #f8f8f2; text-decoration-color: #f8f8f2; background-color: #272822\"> get_time(location</span><span style=\"color: #ff4689; text-decoration-color: #ff4689; background-color: #272822\">=</span><span style=\"color: #e6db74; text-decoration-color: #e6db74; background-color: #272822\">\"28.7041,77.1025\"</span><span style=\"color: #f8f8f2; text-decoration-color: #f8f8f2; background-color: #272822\">)</span><span style=\"background-color: #272822\">                                                              </span>  \n",
       "  <span style=\"color: #f8f8f2; text-decoration-color: #f8f8f2; background-color: #272822\">print(delhi_time)</span><span style=\"background-color: #272822\">                                                                                              </span>  \n",
       " ───────────────────────────────────────────────────────────────────────────────────────────────────────────────── \n",
       "</pre>\n"
      ],
      "text/plain": [
       " ─ \u001b[1mExecuting parsed code:\u001b[0m ──────────────────────────────────────────────────────────────────────────────────────── \n",
       "  \u001b[38;2;248;248;242;48;2;39;40;34mdelhi_time\u001b[0m\u001b[38;2;248;248;242;48;2;39;40;34m \u001b[0m\u001b[38;2;255;70;137;48;2;39;40;34m=\u001b[0m\u001b[38;2;248;248;242;48;2;39;40;34m \u001b[0m\u001b[38;2;248;248;242;48;2;39;40;34mget_time\u001b[0m\u001b[38;2;248;248;242;48;2;39;40;34m(\u001b[0m\u001b[38;2;248;248;242;48;2;39;40;34mlocation\u001b[0m\u001b[38;2;255;70;137;48;2;39;40;34m=\u001b[0m\u001b[38;2;230;219;116;48;2;39;40;34m\"\u001b[0m\u001b[38;2;230;219;116;48;2;39;40;34m28.7041,77.1025\u001b[0m\u001b[38;2;230;219;116;48;2;39;40;34m\"\u001b[0m\u001b[38;2;248;248;242;48;2;39;40;34m)\u001b[0m\u001b[48;2;39;40;34m                                                              \u001b[0m  \n",
       "  \u001b[38;2;248;248;242;48;2;39;40;34mprint\u001b[0m\u001b[38;2;248;248;242;48;2;39;40;34m(\u001b[0m\u001b[38;2;248;248;242;48;2;39;40;34mdelhi_time\u001b[0m\u001b[38;2;248;248;242;48;2;39;40;34m)\u001b[0m\u001b[48;2;39;40;34m                                                                                              \u001b[0m  \n",
       " ───────────────────────────────────────────────────────────────────────────────────────────────────────────────── \n"
      ]
     },
     "metadata": {},
     "output_type": "display_data"
    },
    {
     "data": {
      "text/html": [
       "<pre style=\"white-space:pre;overflow-x:auto;line-height:normal;font-family:Menlo,'DejaVu Sans Mono',consolas,'Courier New',monospace\"><span style=\"font-weight: bold\">Execution logs:</span>\n",
       "Sorry, couldn't find timezone data for 28.7041,77.1025. Please use a valid city name or timezone identifier (e.g. \n",
       "'America/New_York').\n",
       "\n",
       "Out: None\n",
       "</pre>\n"
      ],
      "text/plain": [
       "\u001b[1mExecution logs:\u001b[0m\n",
       "Sorry, couldn't find timezone data for 28.7041,77.1025. Please use a valid city name or timezone identifier (e.g. \n",
       "'America/New_York').\n",
       "\n",
       "Out: None\n"
      ]
     },
     "metadata": {},
     "output_type": "display_data"
    },
    {
     "data": {
      "text/html": [
       "<pre style=\"white-space:pre;overflow-x:auto;line-height:normal;font-family:Menlo,'DejaVu Sans Mono',consolas,'Courier New',monospace\"><span style=\"color: #7f7f7f; text-decoration-color: #7f7f7f\">[Step 2: Duration 1.47 seconds| Input tokens: 4,274 | Output tokens: 167]</span>\n",
       "</pre>\n"
      ],
      "text/plain": [
       "\u001b[2m[Step 2: Duration 1.47 seconds| Input tokens: 4,274 | Output tokens: 167]\u001b[0m\n"
      ]
     },
     "metadata": {},
     "output_type": "display_data"
    },
    {
     "data": {
      "text/html": [
       "<pre style=\"white-space:pre;overflow-x:auto;line-height:normal;font-family:Menlo,'DejaVu Sans Mono',consolas,'Courier New',monospace\"><span style=\"color: #d4b702; text-decoration-color: #d4b702\">━━━━━━━━━━━━━━━━━━━━━━━━━━━━━━━━━━━━━━━━━━━━━━━━━━━━━ </span><span style=\"font-weight: bold\">Step </span><span style=\"color: #008080; text-decoration-color: #008080; font-weight: bold\">3</span><span style=\"color: #d4b702; text-decoration-color: #d4b702\"> ━━━━━━━━━━━━━━━━━━━━━━━━━━━━━━━━━━━━━━━━━━━━━━━━━━━━━━</span>\n",
       "</pre>\n"
      ],
      "text/plain": [
       "\u001b[38;2;212;183;2m━━━━━━━━━━━━━━━━━━━━━━━━━━━━━━━━━━━━━━━━━━━━━━━━━━━━━ \u001b[0m\u001b[1mStep \u001b[0m\u001b[1;36m3\u001b[0m\u001b[38;2;212;183;2m ━━━━━━━━━━━━━━━━━━━━━━━━━━━━━━━━━━━━━━━━━━━━━━━━━━━━━━\u001b[0m\n"
      ]
     },
     "metadata": {},
     "output_type": "display_data"
    },
    {
     "data": {
      "text/html": [
       "<pre style=\"white-space:pre;overflow-x:auto;line-height:normal;font-family:Menlo,'DejaVu Sans Mono',consolas,'Courier New',monospace\"> ─ <span style=\"font-weight: bold\">Executing parsed code:</span> ──────────────────────────────────────────────────────────────────────────────────────── \n",
       "  <span style=\"color: #f8f8f2; text-decoration-color: #f8f8f2; background-color: #272822\">new_delhi_time </span><span style=\"color: #ff4689; text-decoration-color: #ff4689; background-color: #272822\">=</span><span style=\"color: #f8f8f2; text-decoration-color: #f8f8f2; background-color: #272822\"> get_time(location</span><span style=\"color: #ff4689; text-decoration-color: #ff4689; background-color: #272822\">=</span><span style=\"color: #e6db74; text-decoration-color: #e6db74; background-color: #272822\">\"28.6139,77.209\"</span><span style=\"color: #f8f8f2; text-decoration-color: #f8f8f2; background-color: #272822\">)</span><span style=\"background-color: #272822\">                                                           </span>  \n",
       "  <span style=\"color: #f8f8f2; text-decoration-color: #f8f8f2; background-color: #272822\">print(new_delhi_time)</span><span style=\"background-color: #272822\">                                                                                          </span>  \n",
       " ───────────────────────────────────────────────────────────────────────────────────────────────────────────────── \n",
       "</pre>\n"
      ],
      "text/plain": [
       " ─ \u001b[1mExecuting parsed code:\u001b[0m ──────────────────────────────────────────────────────────────────────────────────────── \n",
       "  \u001b[38;2;248;248;242;48;2;39;40;34mnew_delhi_time\u001b[0m\u001b[38;2;248;248;242;48;2;39;40;34m \u001b[0m\u001b[38;2;255;70;137;48;2;39;40;34m=\u001b[0m\u001b[38;2;248;248;242;48;2;39;40;34m \u001b[0m\u001b[38;2;248;248;242;48;2;39;40;34mget_time\u001b[0m\u001b[38;2;248;248;242;48;2;39;40;34m(\u001b[0m\u001b[38;2;248;248;242;48;2;39;40;34mlocation\u001b[0m\u001b[38;2;255;70;137;48;2;39;40;34m=\u001b[0m\u001b[38;2;230;219;116;48;2;39;40;34m\"\u001b[0m\u001b[38;2;230;219;116;48;2;39;40;34m28.6139,77.209\u001b[0m\u001b[38;2;230;219;116;48;2;39;40;34m\"\u001b[0m\u001b[38;2;248;248;242;48;2;39;40;34m)\u001b[0m\u001b[48;2;39;40;34m                                                           \u001b[0m  \n",
       "  \u001b[38;2;248;248;242;48;2;39;40;34mprint\u001b[0m\u001b[38;2;248;248;242;48;2;39;40;34m(\u001b[0m\u001b[38;2;248;248;242;48;2;39;40;34mnew_delhi_time\u001b[0m\u001b[38;2;248;248;242;48;2;39;40;34m)\u001b[0m\u001b[48;2;39;40;34m                                                                                          \u001b[0m  \n",
       " ───────────────────────────────────────────────────────────────────────────────────────────────────────────────── \n"
      ]
     },
     "metadata": {},
     "output_type": "display_data"
    },
    {
     "data": {
      "text/html": [
       "<pre style=\"white-space:pre;overflow-x:auto;line-height:normal;font-family:Menlo,'DejaVu Sans Mono',consolas,'Courier New',monospace\"><span style=\"font-weight: bold\">Execution logs:</span>\n",
       "Sorry, couldn't find timezone data for 28.6139,77.209. Please use a valid city name or timezone identifier (e.g. \n",
       "'America/New_York').\n",
       "\n",
       "Out: None\n",
       "</pre>\n"
      ],
      "text/plain": [
       "\u001b[1mExecution logs:\u001b[0m\n",
       "Sorry, couldn't find timezone data for 28.6139,77.209. Please use a valid city name or timezone identifier (e.g. \n",
       "'America/New_York').\n",
       "\n",
       "Out: None\n"
      ]
     },
     "metadata": {},
     "output_type": "display_data"
    },
    {
     "data": {
      "text/html": [
       "<pre style=\"white-space:pre;overflow-x:auto;line-height:normal;font-family:Menlo,'DejaVu Sans Mono',consolas,'Courier New',monospace\"><span style=\"color: #7f7f7f; text-decoration-color: #7f7f7f\">[Step 3: Duration 1.10 seconds| Input tokens: 6,713 | Output tokens: 246]</span>\n",
       "</pre>\n"
      ],
      "text/plain": [
       "\u001b[2m[Step 3: Duration 1.10 seconds| Input tokens: 6,713 | Output tokens: 246]\u001b[0m\n"
      ]
     },
     "metadata": {},
     "output_type": "display_data"
    },
    {
     "data": {
      "text/html": [
       "<pre style=\"white-space:pre;overflow-x:auto;line-height:normal;font-family:Menlo,'DejaVu Sans Mono',consolas,'Courier New',monospace\"><span style=\"color: #d4b702; text-decoration-color: #d4b702\">━━━━━━━━━━━━━━━━━━━━━━━━━━━━━━━━━━━━━━━━━━━━━━━━━━━━━ </span><span style=\"font-weight: bold\">Step </span><span style=\"color: #008080; text-decoration-color: #008080; font-weight: bold\">4</span><span style=\"color: #d4b702; text-decoration-color: #d4b702\"> ━━━━━━━━━━━━━━━━━━━━━━━━━━━━━━━━━━━━━━━━━━━━━━━━━━━━━━</span>\n",
       "</pre>\n"
      ],
      "text/plain": [
       "\u001b[38;2;212;183;2m━━━━━━━━━━━━━━━━━━━━━━━━━━━━━━━━━━━━━━━━━━━━━━━━━━━━━ \u001b[0m\u001b[1mStep \u001b[0m\u001b[1;36m4\u001b[0m\u001b[38;2;212;183;2m ━━━━━━━━━━━━━━━━━━━━━━━━━━━━━━━━━━━━━━━━━━━━━━━━━━━━━━\u001b[0m\n"
      ]
     },
     "metadata": {},
     "output_type": "display_data"
    },
    {
     "data": {
      "text/html": [
       "<pre style=\"white-space:pre;overflow-x:auto;line-height:normal;font-family:Menlo,'DejaVu Sans Mono',consolas,'Courier New',monospace\"> ─ <span style=\"font-weight: bold\">Executing parsed code:</span> ──────────────────────────────────────────────────────────────────────────────────────── \n",
       "  <span style=\"color: #f8f8f2; text-decoration-color: #f8f8f2; background-color: #272822\">new_delhi_weather </span><span style=\"color: #ff4689; text-decoration-color: #ff4689; background-color: #272822\">=</span><span style=\"color: #f8f8f2; text-decoration-color: #f8f8f2; background-color: #272822\"> get_weather_api(latitude</span><span style=\"color: #ff4689; text-decoration-color: #ff4689; background-color: #272822\">=</span><span style=\"color: #ae81ff; text-decoration-color: #ae81ff; background-color: #272822\">28.6139</span><span style=\"color: #f8f8f2; text-decoration-color: #f8f8f2; background-color: #272822\">, longitude</span><span style=\"color: #ff4689; text-decoration-color: #ff4689; background-color: #272822\">=</span><span style=\"color: #ae81ff; text-decoration-color: #ae81ff; background-color: #272822\">77.209</span><span style=\"color: #f8f8f2; text-decoration-color: #f8f8f2; background-color: #272822\">)</span><span style=\"background-color: #272822\">                                        </span>  \n",
       "  <span style=\"color: #f8f8f2; text-decoration-color: #f8f8f2; background-color: #272822\">print(new_delhi_weather)</span><span style=\"background-color: #272822\">                                                                                       </span>  \n",
       " ───────────────────────────────────────────────────────────────────────────────────────────────────────────────── \n",
       "</pre>\n"
      ],
      "text/plain": [
       " ─ \u001b[1mExecuting parsed code:\u001b[0m ──────────────────────────────────────────────────────────────────────────────────────── \n",
       "  \u001b[38;2;248;248;242;48;2;39;40;34mnew_delhi_weather\u001b[0m\u001b[38;2;248;248;242;48;2;39;40;34m \u001b[0m\u001b[38;2;255;70;137;48;2;39;40;34m=\u001b[0m\u001b[38;2;248;248;242;48;2;39;40;34m \u001b[0m\u001b[38;2;248;248;242;48;2;39;40;34mget_weather_api\u001b[0m\u001b[38;2;248;248;242;48;2;39;40;34m(\u001b[0m\u001b[38;2;248;248;242;48;2;39;40;34mlatitude\u001b[0m\u001b[38;2;255;70;137;48;2;39;40;34m=\u001b[0m\u001b[38;2;174;129;255;48;2;39;40;34m28.6139\u001b[0m\u001b[38;2;248;248;242;48;2;39;40;34m,\u001b[0m\u001b[38;2;248;248;242;48;2;39;40;34m \u001b[0m\u001b[38;2;248;248;242;48;2;39;40;34mlongitude\u001b[0m\u001b[38;2;255;70;137;48;2;39;40;34m=\u001b[0m\u001b[38;2;174;129;255;48;2;39;40;34m77.209\u001b[0m\u001b[38;2;248;248;242;48;2;39;40;34m)\u001b[0m\u001b[48;2;39;40;34m                                        \u001b[0m  \n",
       "  \u001b[38;2;248;248;242;48;2;39;40;34mprint\u001b[0m\u001b[38;2;248;248;242;48;2;39;40;34m(\u001b[0m\u001b[38;2;248;248;242;48;2;39;40;34mnew_delhi_weather\u001b[0m\u001b[38;2;248;248;242;48;2;39;40;34m)\u001b[0m\u001b[48;2;39;40;34m                                                                                       \u001b[0m  \n",
       " ───────────────────────────────────────────────────────────────────────────────────────────────────────────────── \n"
      ]
     },
     "metadata": {},
     "output_type": "display_data"
    },
    {
     "data": {
      "text/html": [
       "<pre style=\"white-space:pre;overflow-x:auto;line-height:normal;font-family:Menlo,'DejaVu Sans Mono',consolas,'Courier New',monospace\"><span style=\"font-weight: bold\">Execution logs:</span>\n",
       "41.3\n",
       "\n",
       "Out: None\n",
       "</pre>\n"
      ],
      "text/plain": [
       "\u001b[1mExecution logs:\u001b[0m\n",
       "41.3\n",
       "\n",
       "Out: None\n"
      ]
     },
     "metadata": {},
     "output_type": "display_data"
    },
    {
     "data": {
      "text/html": [
       "<pre style=\"white-space:pre;overflow-x:auto;line-height:normal;font-family:Menlo,'DejaVu Sans Mono',consolas,'Courier New',monospace\"><span style=\"color: #7f7f7f; text-decoration-color: #7f7f7f\">[Step 4: Duration 3.20 seconds| Input tokens: 9,350 | Output tokens: 361]</span>\n",
       "</pre>\n"
      ],
      "text/plain": [
       "\u001b[2m[Step 4: Duration 3.20 seconds| Input tokens: 9,350 | Output tokens: 361]\u001b[0m\n"
      ]
     },
     "metadata": {},
     "output_type": "display_data"
    },
    {
     "data": {
      "text/html": [
       "<pre style=\"white-space:pre;overflow-x:auto;line-height:normal;font-family:Menlo,'DejaVu Sans Mono',consolas,'Courier New',monospace\"><span style=\"color: #d4b702; text-decoration-color: #d4b702\">━━━━━━━━━━━━━━━━━━━━━━━━━━━━━━━━━━━━━━━━━━━━━━━━━━━━━ </span><span style=\"font-weight: bold\">Step </span><span style=\"color: #008080; text-decoration-color: #008080; font-weight: bold\">5</span><span style=\"color: #d4b702; text-decoration-color: #d4b702\"> ━━━━━━━━━━━━━━━━━━━━━━━━━━━━━━━━━━━━━━━━━━━━━━━━━━━━━━</span>\n",
       "</pre>\n"
      ],
      "text/plain": [
       "\u001b[38;2;212;183;2m━━━━━━━━━━━━━━━━━━━━━━━━━━━━━━━━━━━━━━━━━━━━━━━━━━━━━ \u001b[0m\u001b[1mStep \u001b[0m\u001b[1;36m5\u001b[0m\u001b[38;2;212;183;2m ━━━━━━━━━━━━━━━━━━━━━━━━━━━━━━━━━━━━━━━━━━━━━━━━━━━━━━\u001b[0m\n"
      ]
     },
     "metadata": {},
     "output_type": "display_data"
    },
    {
     "data": {
      "text/html": [
       "<pre style=\"white-space:pre;overflow-x:auto;line-height:normal;font-family:Menlo,'DejaVu Sans Mono',consolas,'Courier New',monospace\"> ─ <span style=\"font-weight: bold\">Executing parsed code:</span> ──────────────────────────────────────────────────────────────────────────────────────── \n",
       "  <span style=\"color: #f8f8f2; text-decoration-color: #f8f8f2; background-color: #272822\">delhi_time_search </span><span style=\"color: #ff4689; text-decoration-color: #ff4689; background-color: #272822\">=</span><span style=\"color: #f8f8f2; text-decoration-color: #f8f8f2; background-color: #272822\"> web_search(query</span><span style=\"color: #ff4689; text-decoration-color: #ff4689; background-color: #272822\">=</span><span style=\"color: #e6db74; text-decoration-color: #e6db74; background-color: #272822\">\"current time in Delhi\"</span><span style=\"color: #f8f8f2; text-decoration-color: #f8f8f2; background-color: #272822\">)</span><span style=\"background-color: #272822\">                                                  </span>  \n",
       "  <span style=\"color: #f8f8f2; text-decoration-color: #f8f8f2; background-color: #272822\">print(delhi_time_search)</span><span style=\"background-color: #272822\">                                                                                       </span>  \n",
       " ───────────────────────────────────────────────────────────────────────────────────────────────────────────────── \n",
       "</pre>\n"
      ],
      "text/plain": [
       " ─ \u001b[1mExecuting parsed code:\u001b[0m ──────────────────────────────────────────────────────────────────────────────────────── \n",
       "  \u001b[38;2;248;248;242;48;2;39;40;34mdelhi_time_search\u001b[0m\u001b[38;2;248;248;242;48;2;39;40;34m \u001b[0m\u001b[38;2;255;70;137;48;2;39;40;34m=\u001b[0m\u001b[38;2;248;248;242;48;2;39;40;34m \u001b[0m\u001b[38;2;248;248;242;48;2;39;40;34mweb_search\u001b[0m\u001b[38;2;248;248;242;48;2;39;40;34m(\u001b[0m\u001b[38;2;248;248;242;48;2;39;40;34mquery\u001b[0m\u001b[38;2;255;70;137;48;2;39;40;34m=\u001b[0m\u001b[38;2;230;219;116;48;2;39;40;34m\"\u001b[0m\u001b[38;2;230;219;116;48;2;39;40;34mcurrent time in Delhi\u001b[0m\u001b[38;2;230;219;116;48;2;39;40;34m\"\u001b[0m\u001b[38;2;248;248;242;48;2;39;40;34m)\u001b[0m\u001b[48;2;39;40;34m                                                  \u001b[0m  \n",
       "  \u001b[38;2;248;248;242;48;2;39;40;34mprint\u001b[0m\u001b[38;2;248;248;242;48;2;39;40;34m(\u001b[0m\u001b[38;2;248;248;242;48;2;39;40;34mdelhi_time_search\u001b[0m\u001b[38;2;248;248;242;48;2;39;40;34m)\u001b[0m\u001b[48;2;39;40;34m                                                                                       \u001b[0m  \n",
       " ───────────────────────────────────────────────────────────────────────────────────────────────────────────────── \n"
      ]
     },
     "metadata": {},
     "output_type": "display_data"
    },
    {
     "data": {
      "text/html": [
       "<pre style=\"white-space:pre;overflow-x:auto;line-height:normal;font-family:Menlo,'DejaVu Sans Mono',consolas,'Courier New',monospace\"><span style=\"color: #800000; text-decoration-color: #800000; font-weight: bold\">Code execution failed at line </span><span style=\"color: #008000; text-decoration-color: #008000\">'delhi_time_search = web_search(query=\"current time in Delhi\")'</span><span style=\"color: #800000; text-decoration-color: #800000; font-weight: bold\"> due to: </span>\n",
       "<span style=\"color: #800000; text-decoration-color: #800000; font-weight: bold\">InterpreterError: Forbidden function evaluation: </span><span style=\"color: #008000; text-decoration-color: #008000\">'web_search'</span><span style=\"color: #800000; text-decoration-color: #800000; font-weight: bold\"> is not among the explicitly allowed tools or </span>\n",
       "<span style=\"color: #800000; text-decoration-color: #800000; font-weight: bold\">defined/imported in the preceding code</span>\n",
       "</pre>\n"
      ],
      "text/plain": [
       "\u001b[1;31mCode execution failed at line \u001b[0m\u001b[32m'delhi_time_search = web_search\u001b[0m\u001b[32m(\u001b[0m\u001b[32mquery\u001b[0m\u001b[32m=\u001b[0m\u001b[32m\"current\u001b[0m\u001b[32m time in Delhi\"\u001b[0m\u001b[32m)\u001b[0m\u001b[32m'\u001b[0m\u001b[1;31m due to: \u001b[0m\n",
       "\u001b[1;31mInterpreterError: Forbidden function evaluation: \u001b[0m\u001b[32m'web_search'\u001b[0m\u001b[1;31m is not among the explicitly allowed tools or \u001b[0m\n",
       "\u001b[1;31mdefined/imported in the preceding code\u001b[0m\n"
      ]
     },
     "metadata": {},
     "output_type": "display_data"
    },
    {
     "data": {
      "text/html": [
       "<pre style=\"white-space:pre;overflow-x:auto;line-height:normal;font-family:Menlo,'DejaVu Sans Mono',consolas,'Courier New',monospace\"><span style=\"color: #7f7f7f; text-decoration-color: #7f7f7f\">[Step 5: Duration 1.55 seconds| Input tokens: 12,190 | Output tokens: 455]</span>\n",
       "</pre>\n"
      ],
      "text/plain": [
       "\u001b[2m[Step 5: Duration 1.55 seconds| Input tokens: 12,190 | Output tokens: 455]\u001b[0m\n"
      ]
     },
     "metadata": {},
     "output_type": "display_data"
    },
    {
     "data": {
      "text/html": [
       "<pre style=\"white-space:pre;overflow-x:auto;line-height:normal;font-family:Menlo,'DejaVu Sans Mono',consolas,'Courier New',monospace\"><span style=\"color: #d4b702; text-decoration-color: #d4b702\">━━━━━━━━━━━━━━━━━━━━━━━━━━━━━━━━━━━━━━━━━━━━━━━━━━━━━ </span><span style=\"font-weight: bold\">Step </span><span style=\"color: #008080; text-decoration-color: #008080; font-weight: bold\">6</span><span style=\"color: #d4b702; text-decoration-color: #d4b702\"> ━━━━━━━━━━━━━━━━━━━━━━━━━━━━━━━━━━━━━━━━━━━━━━━━━━━━━━</span>\n",
       "</pre>\n"
      ],
      "text/plain": [
       "\u001b[38;2;212;183;2m━━━━━━━━━━━━━━━━━━━━━━━━━━━━━━━━━━━━━━━━━━━━━━━━━━━━━ \u001b[0m\u001b[1mStep \u001b[0m\u001b[1;36m6\u001b[0m\u001b[38;2;212;183;2m ━━━━━━━━━━━━━━━━━━━━━━━━━━━━━━━━━━━━━━━━━━━━━━━━━━━━━━\u001b[0m\n"
      ]
     },
     "metadata": {},
     "output_type": "display_data"
    },
    {
     "data": {
      "text/html": [
       "<pre style=\"white-space:pre;overflow-x:auto;line-height:normal;font-family:Menlo,'DejaVu Sans Mono',consolas,'Courier New',monospace\"> ─ <span style=\"font-weight: bold\">Executing parsed code:</span> ──────────────────────────────────────────────────────────────────────────────────────── \n",
       "  <span style=\"color: #f8f8f2; text-decoration-color: #f8f8f2; background-color: #272822\">search_result </span><span style=\"color: #ff4689; text-decoration-color: #ff4689; background-color: #272822\">=</span><span style=\"color: #f8f8f2; text-decoration-color: #f8f8f2; background-color: #272822\"> get_time(</span><span style=\"color: #e6db74; text-decoration-color: #e6db74; background-color: #272822\">\"New Delhi\"</span><span style=\"color: #f8f8f2; text-decoration-color: #f8f8f2; background-color: #272822\">)</span><span style=\"background-color: #272822\">                                                                          </span>  \n",
       "  <span style=\"color: #f8f8f2; text-decoration-color: #f8f8f2; background-color: #272822\">print(search_result)</span><span style=\"background-color: #272822\">                                                                                           </span>  \n",
       " ───────────────────────────────────────────────────────────────────────────────────────────────────────────────── \n",
       "</pre>\n"
      ],
      "text/plain": [
       " ─ \u001b[1mExecuting parsed code:\u001b[0m ──────────────────────────────────────────────────────────────────────────────────────── \n",
       "  \u001b[38;2;248;248;242;48;2;39;40;34msearch_result\u001b[0m\u001b[38;2;248;248;242;48;2;39;40;34m \u001b[0m\u001b[38;2;255;70;137;48;2;39;40;34m=\u001b[0m\u001b[38;2;248;248;242;48;2;39;40;34m \u001b[0m\u001b[38;2;248;248;242;48;2;39;40;34mget_time\u001b[0m\u001b[38;2;248;248;242;48;2;39;40;34m(\u001b[0m\u001b[38;2;230;219;116;48;2;39;40;34m\"\u001b[0m\u001b[38;2;230;219;116;48;2;39;40;34mNew Delhi\u001b[0m\u001b[38;2;230;219;116;48;2;39;40;34m\"\u001b[0m\u001b[38;2;248;248;242;48;2;39;40;34m)\u001b[0m\u001b[48;2;39;40;34m                                                                          \u001b[0m  \n",
       "  \u001b[38;2;248;248;242;48;2;39;40;34mprint\u001b[0m\u001b[38;2;248;248;242;48;2;39;40;34m(\u001b[0m\u001b[38;2;248;248;242;48;2;39;40;34msearch_result\u001b[0m\u001b[38;2;248;248;242;48;2;39;40;34m)\u001b[0m\u001b[48;2;39;40;34m                                                                                           \u001b[0m  \n",
       " ───────────────────────────────────────────────────────────────────────────────────────────────────────────────── \n"
      ]
     },
     "metadata": {},
     "output_type": "display_data"
    },
    {
     "data": {
      "text/html": [
       "<pre style=\"white-space:pre;overflow-x:auto;line-height:normal;font-family:Menlo,'DejaVu Sans Mono',consolas,'Courier New',monospace\"><span style=\"font-weight: bold\">Execution logs:</span>\n",
       "Sorry, couldn't find timezone data for New Delhi. Please use a valid city name or timezone identifier (e.g. \n",
       "'America/New_York').\n",
       "\n",
       "Out: None\n",
       "</pre>\n"
      ],
      "text/plain": [
       "\u001b[1mExecution logs:\u001b[0m\n",
       "Sorry, couldn't find timezone data for New Delhi. Please use a valid city name or timezone identifier (e.g. \n",
       "'America/New_York').\n",
       "\n",
       "Out: None\n"
      ]
     },
     "metadata": {},
     "output_type": "display_data"
    },
    {
     "data": {
      "text/html": [
       "<pre style=\"white-space:pre;overflow-x:auto;line-height:normal;font-family:Menlo,'DejaVu Sans Mono',consolas,'Courier New',monospace\"><span style=\"color: #7f7f7f; text-decoration-color: #7f7f7f\">[Step 6: Duration 1.06 seconds| Input tokens: 15,276 | Output tokens: 522]</span>\n",
       "</pre>\n"
      ],
      "text/plain": [
       "\u001b[2m[Step 6: Duration 1.06 seconds| Input tokens: 15,276 | Output tokens: 522]\u001b[0m\n"
      ]
     },
     "metadata": {},
     "output_type": "display_data"
    },
    {
     "data": {
      "text/html": [
       "<pre style=\"white-space:pre;overflow-x:auto;line-height:normal;font-family:Menlo,'DejaVu Sans Mono',consolas,'Courier New',monospace\"><span style=\"color: #d4b702; text-decoration-color: #d4b702\">━━━━━━━━━━━━━━━━━━━━━━━━━━━━━━━━━━━━━━━━━━━━━━━━━━━━━ </span><span style=\"font-weight: bold\">Step </span><span style=\"color: #008080; text-decoration-color: #008080; font-weight: bold\">7</span><span style=\"color: #d4b702; text-decoration-color: #d4b702\"> ━━━━━━━━━━━━━━━━━━━━━━━━━━━━━━━━━━━━━━━━━━━━━━━━━━━━━━</span>\n",
       "</pre>\n"
      ],
      "text/plain": [
       "\u001b[38;2;212;183;2m━━━━━━━━━━━━━━━━━━━━━━━━━━━━━━━━━━━━━━━━━━━━━━━━━━━━━ \u001b[0m\u001b[1mStep \u001b[0m\u001b[1;36m7\u001b[0m\u001b[38;2;212;183;2m ━━━━━━━━━━━━━━━━━━━━━━━━━━━━━━━━━━━━━━━━━━━━━━━━━━━━━━\u001b[0m\n"
      ]
     },
     "metadata": {},
     "output_type": "display_data"
    },
    {
     "data": {
      "text/html": [
       "<pre style=\"white-space:pre;overflow-x:auto;line-height:normal;font-family:Menlo,'DejaVu Sans Mono',consolas,'Courier New',monospace\"> ─ <span style=\"font-weight: bold\">Executing parsed code:</span> ──────────────────────────────────────────────────────────────────────────────────────── \n",
       "  <span style=\"color: #f8f8f2; text-decoration-color: #f8f8f2; background-color: #272822\">delhi_timezone_search </span><span style=\"color: #ff4689; text-decoration-color: #ff4689; background-color: #272822\">=</span><span style=\"color: #f8f8f2; text-decoration-color: #f8f8f2; background-color: #272822\"> search(</span><span style=\"color: #e6db74; text-decoration-color: #e6db74; background-color: #272822\">\"New Delhi time zone\"</span><span style=\"color: #f8f8f2; text-decoration-color: #f8f8f2; background-color: #272822\">)</span><span style=\"background-color: #272822\">                                                          </span>  \n",
       "  <span style=\"color: #f8f8f2; text-decoration-color: #f8f8f2; background-color: #272822\">print(delhi_timezone_search)</span><span style=\"background-color: #272822\">                                                                                   </span>  \n",
       " ───────────────────────────────────────────────────────────────────────────────────────────────────────────────── \n",
       "</pre>\n"
      ],
      "text/plain": [
       " ─ \u001b[1mExecuting parsed code:\u001b[0m ──────────────────────────────────────────────────────────────────────────────────────── \n",
       "  \u001b[38;2;248;248;242;48;2;39;40;34mdelhi_timezone_search\u001b[0m\u001b[38;2;248;248;242;48;2;39;40;34m \u001b[0m\u001b[38;2;255;70;137;48;2;39;40;34m=\u001b[0m\u001b[38;2;248;248;242;48;2;39;40;34m \u001b[0m\u001b[38;2;248;248;242;48;2;39;40;34msearch\u001b[0m\u001b[38;2;248;248;242;48;2;39;40;34m(\u001b[0m\u001b[38;2;230;219;116;48;2;39;40;34m\"\u001b[0m\u001b[38;2;230;219;116;48;2;39;40;34mNew Delhi time zone\u001b[0m\u001b[38;2;230;219;116;48;2;39;40;34m\"\u001b[0m\u001b[38;2;248;248;242;48;2;39;40;34m)\u001b[0m\u001b[48;2;39;40;34m                                                          \u001b[0m  \n",
       "  \u001b[38;2;248;248;242;48;2;39;40;34mprint\u001b[0m\u001b[38;2;248;248;242;48;2;39;40;34m(\u001b[0m\u001b[38;2;248;248;242;48;2;39;40;34mdelhi_timezone_search\u001b[0m\u001b[38;2;248;248;242;48;2;39;40;34m)\u001b[0m\u001b[48;2;39;40;34m                                                                                   \u001b[0m  \n",
       " ───────────────────────────────────────────────────────────────────────────────────────────────────────────────── \n"
      ]
     },
     "metadata": {},
     "output_type": "display_data"
    },
    {
     "data": {
      "text/html": [
       "<pre style=\"white-space:pre;overflow-x:auto;line-height:normal;font-family:Menlo,'DejaVu Sans Mono',consolas,'Courier New',monospace\"><span style=\"color: #800000; text-decoration-color: #800000; font-weight: bold\">Code execution failed at line </span><span style=\"color: #008000; text-decoration-color: #008000\">'delhi_timezone_search = search(\"New Delhi time zone\")'</span><span style=\"color: #800000; text-decoration-color: #800000; font-weight: bold\"> due to: InterpreterError: </span>\n",
       "<span style=\"color: #800000; text-decoration-color: #800000; font-weight: bold\">Forbidden function evaluation: </span><span style=\"color: #008000; text-decoration-color: #008000\">'search'</span><span style=\"color: #800000; text-decoration-color: #800000; font-weight: bold\"> is not among the explicitly allowed tools or defined/imported in the </span>\n",
       "<span style=\"color: #800000; text-decoration-color: #800000; font-weight: bold\">preceding code</span>\n",
       "</pre>\n"
      ],
      "text/plain": [
       "\u001b[1;31mCode execution failed at line \u001b[0m\u001b[32m'delhi_timezone_search = search\u001b[0m\u001b[32m(\u001b[0m\u001b[32m\"New Delhi time zone\"\u001b[0m\u001b[32m)\u001b[0m\u001b[32m'\u001b[0m\u001b[1;31m due to: InterpreterError: \u001b[0m\n",
       "\u001b[1;31mForbidden function evaluation: \u001b[0m\u001b[32m'search'\u001b[0m\u001b[1;31m is not among the explicitly allowed tools or defined/imported in the \u001b[0m\n",
       "\u001b[1;31mpreceding code\u001b[0m\n"
      ]
     },
     "metadata": {},
     "output_type": "display_data"
    },
    {
     "data": {
      "text/html": [
       "<pre style=\"white-space:pre;overflow-x:auto;line-height:normal;font-family:Menlo,'DejaVu Sans Mono',consolas,'Courier New',monospace\"><span style=\"color: #7f7f7f; text-decoration-color: #7f7f7f\">[Step 7: Duration 1.32 seconds| Input tokens: 18,530 | Output tokens: 610]</span>\n",
       "</pre>\n"
      ],
      "text/plain": [
       "\u001b[2m[Step 7: Duration 1.32 seconds| Input tokens: 18,530 | Output tokens: 610]\u001b[0m\n"
      ]
     },
     "metadata": {},
     "output_type": "display_data"
    },
    {
     "data": {
      "text/html": [
       "<pre style=\"white-space:pre;overflow-x:auto;line-height:normal;font-family:Menlo,'DejaVu Sans Mono',consolas,'Courier New',monospace\"><span style=\"color: #d4b702; text-decoration-color: #d4b702\">━━━━━━━━━━━━━━━━━━━━━━━━━━━━━━━━━━━━━━━━━━━━━━━━━━━━━ </span><span style=\"font-weight: bold\">Step </span><span style=\"color: #008080; text-decoration-color: #008080; font-weight: bold\">8</span><span style=\"color: #d4b702; text-decoration-color: #d4b702\"> ━━━━━━━━━━━━━━━━━━━━━━━━━━━━━━━━━━━━━━━━━━━━━━━━━━━━━━</span>\n",
       "</pre>\n"
      ],
      "text/plain": [
       "\u001b[38;2;212;183;2m━━━━━━━━━━━━━━━━━━━━━━━━━━━━━━━━━━━━━━━━━━━━━━━━━━━━━ \u001b[0m\u001b[1mStep \u001b[0m\u001b[1;36m8\u001b[0m\u001b[38;2;212;183;2m ━━━━━━━━━━━━━━━━━━━━━━━━━━━━━━━━━━━━━━━━━━━━━━━━━━━━━━\u001b[0m\n"
      ]
     },
     "metadata": {},
     "output_type": "display_data"
    },
    {
     "data": {
      "text/html": [
       "<pre style=\"white-space:pre;overflow-x:auto;line-height:normal;font-family:Menlo,'DejaVu Sans Mono',consolas,'Courier New',monospace\"> ─ <span style=\"font-weight: bold\">Executing parsed code:</span> ──────────────────────────────────────────────────────────────────────────────────────── \n",
       "  <span style=\"color: #f8f8f2; text-decoration-color: #f8f8f2; background-color: #272822\">delhi_time_search </span><span style=\"color: #ff4689; text-decoration-color: #ff4689; background-color: #272822\">=</span><span style=\"color: #f8f8f2; text-decoration-color: #f8f8f2; background-color: #272822\"> get_time(</span><span style=\"color: #e6db74; text-decoration-color: #e6db74; background-color: #272822\">\"India/Delhi\"</span><span style=\"color: #f8f8f2; text-decoration-color: #f8f8f2; background-color: #272822\">)</span><span style=\"background-color: #272822\">                                                                    </span>  \n",
       "  <span style=\"color: #f8f8f2; text-decoration-color: #f8f8f2; background-color: #272822\">print(delhi_time_search)</span><span style=\"background-color: #272822\">                                                                                       </span>  \n",
       " ───────────────────────────────────────────────────────────────────────────────────────────────────────────────── \n",
       "</pre>\n"
      ],
      "text/plain": [
       " ─ \u001b[1mExecuting parsed code:\u001b[0m ──────────────────────────────────────────────────────────────────────────────────────── \n",
       "  \u001b[38;2;248;248;242;48;2;39;40;34mdelhi_time_search\u001b[0m\u001b[38;2;248;248;242;48;2;39;40;34m \u001b[0m\u001b[38;2;255;70;137;48;2;39;40;34m=\u001b[0m\u001b[38;2;248;248;242;48;2;39;40;34m \u001b[0m\u001b[38;2;248;248;242;48;2;39;40;34mget_time\u001b[0m\u001b[38;2;248;248;242;48;2;39;40;34m(\u001b[0m\u001b[38;2;230;219;116;48;2;39;40;34m\"\u001b[0m\u001b[38;2;230;219;116;48;2;39;40;34mIndia/Delhi\u001b[0m\u001b[38;2;230;219;116;48;2;39;40;34m\"\u001b[0m\u001b[38;2;248;248;242;48;2;39;40;34m)\u001b[0m\u001b[48;2;39;40;34m                                                                    \u001b[0m  \n",
       "  \u001b[38;2;248;248;242;48;2;39;40;34mprint\u001b[0m\u001b[38;2;248;248;242;48;2;39;40;34m(\u001b[0m\u001b[38;2;248;248;242;48;2;39;40;34mdelhi_time_search\u001b[0m\u001b[38;2;248;248;242;48;2;39;40;34m)\u001b[0m\u001b[48;2;39;40;34m                                                                                       \u001b[0m  \n",
       " ───────────────────────────────────────────────────────────────────────────────────────────────────────────────── \n"
      ]
     },
     "metadata": {},
     "output_type": "display_data"
    },
    {
     "data": {
      "text/html": [
       "<pre style=\"white-space:pre;overflow-x:auto;line-height:normal;font-family:Menlo,'DejaVu Sans Mono',consolas,'Courier New',monospace\"><span style=\"font-weight: bold\">Execution logs:</span>\n",
       "Sorry, couldn't find timezone data for India/Delhi. Please use a valid city name or timezone identifier (e.g. \n",
       "'America/New_York').\n",
       "\n",
       "Out: None\n",
       "</pre>\n"
      ],
      "text/plain": [
       "\u001b[1mExecution logs:\u001b[0m\n",
       "Sorry, couldn't find timezone data for India/Delhi. Please use a valid city name or timezone identifier (e.g. \n",
       "'America/New_York').\n",
       "\n",
       "Out: None\n"
      ]
     },
     "metadata": {},
     "output_type": "display_data"
    },
    {
     "data": {
      "text/html": [
       "<pre style=\"white-space:pre;overflow-x:auto;line-height:normal;font-family:Menlo,'DejaVu Sans Mono',consolas,'Courier New',monospace\"><span style=\"color: #7f7f7f; text-decoration-color: #7f7f7f\">[Step 8: Duration 1.30 seconds| Input tokens: 22,019 | Output tokens: 682]</span>\n",
       "</pre>\n"
      ],
      "text/plain": [
       "\u001b[2m[Step 8: Duration 1.30 seconds| Input tokens: 22,019 | Output tokens: 682]\u001b[0m\n"
      ]
     },
     "metadata": {},
     "output_type": "display_data"
    },
    {
     "data": {
      "text/html": [
       "<pre style=\"white-space:pre;overflow-x:auto;line-height:normal;font-family:Menlo,'DejaVu Sans Mono',consolas,'Courier New',monospace\"><span style=\"color: #d4b702; text-decoration-color: #d4b702\">━━━━━━━━━━━━━━━━━━━━━━━━━━━━━━━━━━━━━━━━━━━━━━━━━━━━━ </span><span style=\"font-weight: bold\">Step </span><span style=\"color: #008080; text-decoration-color: #008080; font-weight: bold\">9</span><span style=\"color: #d4b702; text-decoration-color: #d4b702\"> ━━━━━━━━━━━━━━━━━━━━━━━━━━━━━━━━━━━━━━━━━━━━━━━━━━━━━━</span>\n",
       "</pre>\n"
      ],
      "text/plain": [
       "\u001b[38;2;212;183;2m━━━━━━━━━━━━━━━━━━━━━━━━━━━━━━━━━━━━━━━━━━━━━━━━━━━━━ \u001b[0m\u001b[1mStep \u001b[0m\u001b[1;36m9\u001b[0m\u001b[38;2;212;183;2m ━━━━━━━━━━━━━━━━━━━━━━━━━━━━━━━━━━━━━━━━━━━━━━━━━━━━━━\u001b[0m\n"
      ]
     },
     "metadata": {},
     "output_type": "display_data"
    },
    {
     "data": {
      "text/html": [
       "<pre style=\"white-space:pre;overflow-x:auto;line-height:normal;font-family:Menlo,'DejaVu Sans Mono',consolas,'Courier New',monospace\"> ─ <span style=\"font-weight: bold\">Executing parsed code:</span> ──────────────────────────────────────────────────────────────────────────────────────── \n",
       "  <span style=\"color: #f8f8f2; text-decoration-color: #f8f8f2; background-color: #272822\">kolkata_time </span><span style=\"color: #ff4689; text-decoration-color: #ff4689; background-color: #272822\">=</span><span style=\"color: #f8f8f2; text-decoration-color: #f8f8f2; background-color: #272822\"> get_time(location</span><span style=\"color: #ff4689; text-decoration-color: #ff4689; background-color: #272822\">=</span><span style=\"color: #e6db74; text-decoration-color: #e6db74; background-color: #272822\">\"Asia/Kolkata\"</span><span style=\"color: #f8f8f2; text-decoration-color: #f8f8f2; background-color: #272822\">)</span><span style=\"background-color: #272822\">                                                               </span>  \n",
       "  <span style=\"color: #f8f8f2; text-decoration-color: #f8f8f2; background-color: #272822\">print(kolkata_time)</span><span style=\"background-color: #272822\">                                                                                            </span>  \n",
       " ───────────────────────────────────────────────────────────────────────────────────────────────────────────────── \n",
       "</pre>\n"
      ],
      "text/plain": [
       " ─ \u001b[1mExecuting parsed code:\u001b[0m ──────────────────────────────────────────────────────────────────────────────────────── \n",
       "  \u001b[38;2;248;248;242;48;2;39;40;34mkolkata_time\u001b[0m\u001b[38;2;248;248;242;48;2;39;40;34m \u001b[0m\u001b[38;2;255;70;137;48;2;39;40;34m=\u001b[0m\u001b[38;2;248;248;242;48;2;39;40;34m \u001b[0m\u001b[38;2;248;248;242;48;2;39;40;34mget_time\u001b[0m\u001b[38;2;248;248;242;48;2;39;40;34m(\u001b[0m\u001b[38;2;248;248;242;48;2;39;40;34mlocation\u001b[0m\u001b[38;2;255;70;137;48;2;39;40;34m=\u001b[0m\u001b[38;2;230;219;116;48;2;39;40;34m\"\u001b[0m\u001b[38;2;230;219;116;48;2;39;40;34mAsia/Kolkata\u001b[0m\u001b[38;2;230;219;116;48;2;39;40;34m\"\u001b[0m\u001b[38;2;248;248;242;48;2;39;40;34m)\u001b[0m\u001b[48;2;39;40;34m                                                               \u001b[0m  \n",
       "  \u001b[38;2;248;248;242;48;2;39;40;34mprint\u001b[0m\u001b[38;2;248;248;242;48;2;39;40;34m(\u001b[0m\u001b[38;2;248;248;242;48;2;39;40;34mkolkata_time\u001b[0m\u001b[38;2;248;248;242;48;2;39;40;34m)\u001b[0m\u001b[48;2;39;40;34m                                                                                            \u001b[0m  \n",
       " ───────────────────────────────────────────────────────────────────────────────────────────────────────────────── \n"
      ]
     },
     "metadata": {},
     "output_type": "display_data"
    },
    {
     "data": {
      "text/html": [
       "<pre style=\"white-space:pre;overflow-x:auto;line-height:normal;font-family:Menlo,'DejaVu Sans Mono',consolas,'Courier New',monospace\"><span style=\"font-weight: bold\">Execution logs:</span>\n",
       "The local time in Asia/Kolkata is 03:38 PM.\n",
       "\n",
       "Out: None\n",
       "</pre>\n"
      ],
      "text/plain": [
       "\u001b[1mExecution logs:\u001b[0m\n",
       "The local time in Asia/Kolkata is 03:38 PM.\n",
       "\n",
       "Out: None\n"
      ]
     },
     "metadata": {},
     "output_type": "display_data"
    },
    {
     "data": {
      "text/html": [
       "<pre style=\"white-space:pre;overflow-x:auto;line-height:normal;font-family:Menlo,'DejaVu Sans Mono',consolas,'Courier New',monospace\"><span style=\"color: #7f7f7f; text-decoration-color: #7f7f7f\">[Step 9: Duration 1.34 seconds| Input tokens: 25,689 | Output tokens: 774]</span>\n",
       "</pre>\n"
      ],
      "text/plain": [
       "\u001b[2m[Step 9: Duration 1.34 seconds| Input tokens: 25,689 | Output tokens: 774]\u001b[0m\n"
      ]
     },
     "metadata": {},
     "output_type": "display_data"
    },
    {
     "data": {
      "text/html": [
       "<pre style=\"white-space:pre;overflow-x:auto;line-height:normal;font-family:Menlo,'DejaVu Sans Mono',consolas,'Courier New',monospace\"><span style=\"color: #d4b702; text-decoration-color: #d4b702\">━━━━━━━━━━━━━━━━━━━━━━━━━━━━━━━━━━━━━━━━━━━━━━━━━━━━━ </span><span style=\"font-weight: bold\">Step </span><span style=\"color: #008080; text-decoration-color: #008080; font-weight: bold\">10</span><span style=\"color: #d4b702; text-decoration-color: #d4b702\"> ━━━━━━━━━━━━━━━━━━━━━━━━━━━━━━━━━━━━━━━━━━━━━━━━━━━━━</span>\n",
       "</pre>\n"
      ],
      "text/plain": [
       "\u001b[38;2;212;183;2m━━━━━━━━━━━━━━━━━━━━━━━━━━━━━━━━━━━━━━━━━━━━━━━━━━━━━ \u001b[0m\u001b[1mStep \u001b[0m\u001b[1;36m10\u001b[0m\u001b[38;2;212;183;2m ━━━━━━━━━━━━━━━━━━━━━━━━━━━━━━━━━━━━━━━━━━━━━━━━━━━━━\u001b[0m\n"
      ]
     },
     "metadata": {},
     "output_type": "display_data"
    },
    {
     "data": {
      "text/html": [
       "<pre style=\"white-space:pre;overflow-x:auto;line-height:normal;font-family:Menlo,'DejaVu Sans Mono',consolas,'Courier New',monospace\"><span style=\"color: #800000; text-decoration-color: #800000; font-weight: bold\">Error in code parsing:</span>\n",
       "<span style=\"color: #800000; text-decoration-color: #800000; font-weight: bold\">Your code snippet is invalid, because the regex pattern ```(?:py|python)?\\s*\\</span><span style=\"color: #800080; text-decoration-color: #800080; font-weight: bold\">n</span><span style=\"color: #800000; text-decoration-color: #800000; font-weight: bold\">(.*?)\\n``` was not found in it.</span>\n",
       "<span style=\"color: #800000; text-decoration-color: #800000; font-weight: bold\">Here is your code snippet:</span>\n",
       "<span style=\"color: #800000; text-decoration-color: #800000; font-weight: bold\">Final Answer: The current time in New Delhi, India is </span><span style=\"color: #00ff00; text-decoration-color: #00ff00; font-weight: bold\">03:38</span><span style=\"color: #800000; text-decoration-color: #800000; font-weight: bold\"> PM.</span>\n",
       "<span style=\"color: #800000; text-decoration-color: #800000; font-weight: bold\">Make sure to include code with the correct pattern, for instance:</span>\n",
       "<span style=\"color: #800000; text-decoration-color: #800000; font-weight: bold\">Thoughts: Your thoughts</span>\n",
       "<span style=\"color: #800000; text-decoration-color: #800000; font-weight: bold\">Code:</span>\n",
       "<span style=\"color: #800000; text-decoration-color: #800000; font-weight: bold\">```py</span>\n",
       "<span style=\"color: #800000; text-decoration-color: #800000; font-weight: bold\"># Your python code here</span>\n",
       "<span style=\"color: #800000; text-decoration-color: #800000; font-weight: bold\">```&lt;</span><span style=\"color: #ff00ff; text-decoration-color: #ff00ff; font-weight: bold\">end_code</span><span style=\"color: #800000; text-decoration-color: #800000; font-weight: bold\">&gt;</span>\n",
       "<span style=\"color: #800000; text-decoration-color: #800000; font-weight: bold\">Make sure to provide correct code blobs.</span>\n",
       "</pre>\n"
      ],
      "text/plain": [
       "\u001b[1;31mError in code parsing:\u001b[0m\n",
       "\u001b[1;31mYour code snippet is invalid, because the regex pattern ```\u001b[0m\u001b[1;31m(\u001b[0m\u001b[1;31m?:py|python\u001b[0m\u001b[1;31m)\u001b[0m\u001b[1;31m?\\s*\\\u001b[0m\u001b[1;35mn\u001b[0m\u001b[1;31m(\u001b[0m\u001b[1;31m.*?\u001b[0m\u001b[1;31m)\u001b[0m\u001b[1;31m\\n``` was not found in it.\u001b[0m\n",
       "\u001b[1;31mHere is your code snippet:\u001b[0m\n",
       "\u001b[1;31mFinal Answer: The current time in New Delhi, India is \u001b[0m\u001b[1;92m03:38\u001b[0m\u001b[1;31m PM.\u001b[0m\n",
       "\u001b[1;31mMake sure to include code with the correct pattern, for instance:\u001b[0m\n",
       "\u001b[1;31mThoughts: Your thoughts\u001b[0m\n",
       "\u001b[1;31mCode:\u001b[0m\n",
       "\u001b[1;31m```py\u001b[0m\n",
       "\u001b[1;31m# Your python code here\u001b[0m\n",
       "\u001b[1;31m```\u001b[0m\u001b[1;31m<\u001b[0m\u001b[1;95mend_code\u001b[0m\u001b[1;31m>\u001b[0m\n",
       "\u001b[1;31mMake sure to provide correct code blobs.\u001b[0m\n"
      ]
     },
     "metadata": {},
     "output_type": "display_data"
    },
    {
     "data": {
      "text/html": [
       "<pre style=\"white-space:pre;overflow-x:auto;line-height:normal;font-family:Menlo,'DejaVu Sans Mono',consolas,'Courier New',monospace\"><span style=\"color: #7f7f7f; text-decoration-color: #7f7f7f\">[Step 10: Duration 0.81 seconds| Input tokens: 29,540 | Output tokens: 792]</span>\n",
       "</pre>\n"
      ],
      "text/plain": [
       "\u001b[2m[Step 10: Duration 0.81 seconds| Input tokens: 29,540 | Output tokens: 792]\u001b[0m\n"
      ]
     },
     "metadata": {},
     "output_type": "display_data"
    },
    {
     "data": {
      "text/html": [
       "<pre style=\"white-space:pre;overflow-x:auto;line-height:normal;font-family:Menlo,'DejaVu Sans Mono',consolas,'Courier New',monospace\"><span style=\"color: #d4b702; text-decoration-color: #d4b702\">━━━━━━━━━━━━━━━━━━━━━━━━━━━━━━━━━━━━━━━━━━━━━━━━━━━━━ </span><span style=\"font-weight: bold\">Step </span><span style=\"color: #008080; text-decoration-color: #008080; font-weight: bold\">11</span><span style=\"color: #d4b702; text-decoration-color: #d4b702\"> ━━━━━━━━━━━━━━━━━━━━━━━━━━━━━━━━━━━━━━━━━━━━━━━━━━━━━</span>\n",
       "</pre>\n"
      ],
      "text/plain": [
       "\u001b[38;2;212;183;2m━━━━━━━━━━━━━━━━━━━━━━━━━━━━━━━━━━━━━━━━━━━━━━━━━━━━━ \u001b[0m\u001b[1mStep \u001b[0m\u001b[1;36m11\u001b[0m\u001b[38;2;212;183;2m ━━━━━━━━━━━━━━━━━━━━━━━━━━━━━━━━━━━━━━━━━━━━━━━━━━━━━\u001b[0m\n"
      ]
     },
     "metadata": {},
     "output_type": "display_data"
    },
    {
     "data": {
      "text/html": [
       "<pre style=\"white-space:pre;overflow-x:auto;line-height:normal;font-family:Menlo,'DejaVu Sans Mono',consolas,'Courier New',monospace\"> ─ <span style=\"font-weight: bold\">Executing parsed code:</span> ──────────────────────────────────────────────────────────────────────────────────────── \n",
       "  <span style=\"color: #f8f8f2; text-decoration-color: #f8f8f2; background-color: #272822\">final_answer(</span><span style=\"color: #e6db74; text-decoration-color: #e6db74; background-color: #272822\">\"03:38 PM\"</span><span style=\"color: #f8f8f2; text-decoration-color: #f8f8f2; background-color: #272822\">)</span><span style=\"background-color: #272822\">                                                                                       </span>  \n",
       " ───────────────────────────────────────────────────────────────────────────────────────────────────────────────── \n",
       "</pre>\n"
      ],
      "text/plain": [
       " ─ \u001b[1mExecuting parsed code:\u001b[0m ──────────────────────────────────────────────────────────────────────────────────────── \n",
       "  \u001b[38;2;248;248;242;48;2;39;40;34mfinal_answer\u001b[0m\u001b[38;2;248;248;242;48;2;39;40;34m(\u001b[0m\u001b[38;2;230;219;116;48;2;39;40;34m\"\u001b[0m\u001b[38;2;230;219;116;48;2;39;40;34m03:38 PM\u001b[0m\u001b[38;2;230;219;116;48;2;39;40;34m\"\u001b[0m\u001b[38;2;248;248;242;48;2;39;40;34m)\u001b[0m\u001b[48;2;39;40;34m                                                                                       \u001b[0m  \n",
       " ───────────────────────────────────────────────────────────────────────────────────────────────────────────────── \n"
      ]
     },
     "metadata": {},
     "output_type": "display_data"
    },
    {
     "data": {
      "text/html": [
       "<pre style=\"white-space:pre;overflow-x:auto;line-height:normal;font-family:Menlo,'DejaVu Sans Mono',consolas,'Courier New',monospace\"><span style=\"color: #d4b702; text-decoration-color: #d4b702; font-weight: bold\">Out - Final answer: 03:38 PM</span>\n",
       "</pre>\n"
      ],
      "text/plain": [
       "\u001b[1;38;2;212;183;2mOut - Final answer: 03:38 PM\u001b[0m\n"
      ]
     },
     "metadata": {},
     "output_type": "display_data"
    },
    {
     "data": {
      "text/html": [
       "<pre style=\"white-space:pre;overflow-x:auto;line-height:normal;font-family:Menlo,'DejaVu Sans Mono',consolas,'Courier New',monospace\"><span style=\"color: #7f7f7f; text-decoration-color: #7f7f7f\">[Step 11: Duration 0.90 seconds| Input tokens: 33,549 | Output tokens: 828]</span>\n",
       "</pre>\n"
      ],
      "text/plain": [
       "\u001b[2m[Step 11: Duration 0.90 seconds| Input tokens: 33,549 | Output tokens: 828]\u001b[0m\n"
      ]
     },
     "metadata": {},
     "output_type": "display_data"
    },
    {
     "data": {
      "text/plain": [
       "'03:38 PM'"
      ]
     },
     "execution_count": 49,
     "metadata": {},
     "output_type": "execute_result"
    }
   ],
   "source": [
    "agent = CodeAgent(tools=[get_weather_api, get_time], model=model)\n",
    "agent.run(\n",
    "    \"What's the time in Delhi?\"\n",
    ")"
   ]
  },
  {
   "cell_type": "code",
   "execution_count": 50,
   "id": "728d41eb-f4dc-4490-b7c6-3c6dda48d239",
   "metadata": {},
   "outputs": [
    {
     "data": {
      "text/html": [
       "<pre style=\"white-space:pre;overflow-x:auto;line-height:normal;font-family:Menlo,'DejaVu Sans Mono',consolas,'Courier New',monospace\"><span style=\"color: #d4b702; text-decoration-color: #d4b702\">╭──────────────────────────────────────────────────── </span><span style=\"color: #d4b702; text-decoration-color: #d4b702; font-weight: bold\">New run</span><span style=\"color: #d4b702; text-decoration-color: #d4b702\"> ────────────────────────────────────────────────────╮</span>\n",
       "<span style=\"color: #d4b702; text-decoration-color: #d4b702\">│</span>                                                                                                                 <span style=\"color: #d4b702; text-decoration-color: #d4b702\">│</span>\n",
       "<span style=\"color: #d4b702; text-decoration-color: #d4b702\">│</span> <span style=\"font-weight: bold\">What's the time in Delhi?</span>                                                                                       <span style=\"color: #d4b702; text-decoration-color: #d4b702\">│</span>\n",
       "<span style=\"color: #d4b702; text-decoration-color: #d4b702\">│</span>                                                                                                                 <span style=\"color: #d4b702; text-decoration-color: #d4b702\">│</span>\n",
       "<span style=\"color: #d4b702; text-decoration-color: #d4b702\">╰─ LiteLLMModel - gpt-3.5-turbo ──────────────────────────────────────────────────────────────────────────────────╯</span>\n",
       "</pre>\n"
      ],
      "text/plain": [
       "\u001b[38;2;212;183;2m╭─\u001b[0m\u001b[38;2;212;183;2m───────────────────────────────────────────────────\u001b[0m\u001b[38;2;212;183;2m \u001b[0m\u001b[1;38;2;212;183;2mNew run\u001b[0m\u001b[38;2;212;183;2m \u001b[0m\u001b[38;2;212;183;2m───────────────────────────────────────────────────\u001b[0m\u001b[38;2;212;183;2m─╮\u001b[0m\n",
       "\u001b[38;2;212;183;2m│\u001b[0m                                                                                                                 \u001b[38;2;212;183;2m│\u001b[0m\n",
       "\u001b[38;2;212;183;2m│\u001b[0m \u001b[1mWhat's the time in Delhi?\u001b[0m                                                                                       \u001b[38;2;212;183;2m│\u001b[0m\n",
       "\u001b[38;2;212;183;2m│\u001b[0m                                                                                                                 \u001b[38;2;212;183;2m│\u001b[0m\n",
       "\u001b[38;2;212;183;2m╰─\u001b[0m\u001b[38;2;212;183;2m LiteLLMModel - gpt-3.5-turbo \u001b[0m\u001b[38;2;212;183;2m─────────────────────────────────────────────────────────────────────────────────\u001b[0m\u001b[38;2;212;183;2m─╯\u001b[0m\n"
      ]
     },
     "metadata": {},
     "output_type": "display_data"
    },
    {
     "data": {
      "text/html": [
       "<pre style=\"white-space:pre;overflow-x:auto;line-height:normal;font-family:Menlo,'DejaVu Sans Mono',consolas,'Courier New',monospace\"><span style=\"color: #d4b702; text-decoration-color: #d4b702\">━━━━━━━━━━━━━━━━━━━━━━━━━━━━━━━━━━━━━━━━━━━━━━━━━━━━━ </span><span style=\"font-weight: bold\">Step </span><span style=\"color: #008080; text-decoration-color: #008080; font-weight: bold\">1</span><span style=\"color: #d4b702; text-decoration-color: #d4b702\"> ━━━━━━━━━━━━━━━━━━━━━━━━━━━━━━━━━━━━━━━━━━━━━━━━━━━━━━</span>\n",
       "</pre>\n"
      ],
      "text/plain": [
       "\u001b[38;2;212;183;2m━━━━━━━━━━━━━━━━━━━━━━━━━━━━━━━━━━━━━━━━━━━━━━━━━━━━━ \u001b[0m\u001b[1mStep \u001b[0m\u001b[1;36m1\u001b[0m\u001b[38;2;212;183;2m ━━━━━━━━━━━━━━━━━━━━━━━━━━━━━━━━━━━━━━━━━━━━━━━━━━━━━━\u001b[0m\n"
      ]
     },
     "metadata": {},
     "output_type": "display_data"
    },
    {
     "data": {
      "text/html": [
       "<pre style=\"white-space:pre;overflow-x:auto;line-height:normal;font-family:Menlo,'DejaVu Sans Mono',consolas,'Courier New',monospace\">╭─────────────────────────────────────────────────────────────────────────────────────────────────────────────────╮\n",
       "│ Calling tool: 'get_time' with arguments: {'location': 'Delhi'}                                                  │\n",
       "╰─────────────────────────────────────────────────────────────────────────────────────────────────────────────────╯\n",
       "</pre>\n"
      ],
      "text/plain": [
       "╭─────────────────────────────────────────────────────────────────────────────────────────────────────────────────╮\n",
       "│ Calling tool: 'get_time' with arguments: {'location': 'Delhi'}                                                  │\n",
       "╰─────────────────────────────────────────────────────────────────────────────────────────────────────────────────╯\n"
      ]
     },
     "metadata": {},
     "output_type": "display_data"
    },
    {
     "data": {
      "text/html": [
       "<pre style=\"white-space:pre;overflow-x:auto;line-height:normal;font-family:Menlo,'DejaVu Sans Mono',consolas,'Courier New',monospace\">Observations: Sorry, couldn't find timezone data for Delhi. Please use a valid city name or timezone identifier \n",
       "<span style=\"font-weight: bold\">(</span>e.g. <span style=\"color: #008000; text-decoration-color: #008000\">'America/New_York'</span><span style=\"font-weight: bold\">)</span>.\n",
       "</pre>\n"
      ],
      "text/plain": [
       "Observations: Sorry, couldn't find timezone data for Delhi. Please use a valid city name or timezone identifier \n",
       "\u001b[1m(\u001b[0me.g. \u001b[32m'America/New_York'\u001b[0m\u001b[1m)\u001b[0m.\n"
      ]
     },
     "metadata": {},
     "output_type": "display_data"
    },
    {
     "data": {
      "text/html": [
       "<pre style=\"white-space:pre;overflow-x:auto;line-height:normal;font-family:Menlo,'DejaVu Sans Mono',consolas,'Courier New',monospace\"><span style=\"color: #7f7f7f; text-decoration-color: #7f7f7f\">[Step 1: Duration 0.71 seconds| Input tokens: 1,064 | Output tokens: 15]</span>\n",
       "</pre>\n"
      ],
      "text/plain": [
       "\u001b[2m[Step 1: Duration 0.71 seconds| Input tokens: 1,064 | Output tokens: 15]\u001b[0m\n"
      ]
     },
     "metadata": {},
     "output_type": "display_data"
    },
    {
     "data": {
      "text/html": [
       "<pre style=\"white-space:pre;overflow-x:auto;line-height:normal;font-family:Menlo,'DejaVu Sans Mono',consolas,'Courier New',monospace\"><span style=\"color: #d4b702; text-decoration-color: #d4b702\">━━━━━━━━━━━━━━━━━━━━━━━━━━━━━━━━━━━━━━━━━━━━━━━━━━━━━ </span><span style=\"font-weight: bold\">Step </span><span style=\"color: #008080; text-decoration-color: #008080; font-weight: bold\">2</span><span style=\"color: #d4b702; text-decoration-color: #d4b702\"> ━━━━━━━━━━━━━━━━━━━━━━━━━━━━━━━━━━━━━━━━━━━━━━━━━━━━━━</span>\n",
       "</pre>\n"
      ],
      "text/plain": [
       "\u001b[38;2;212;183;2m━━━━━━━━━━━━━━━━━━━━━━━━━━━━━━━━━━━━━━━━━━━━━━━━━━━━━ \u001b[0m\u001b[1mStep \u001b[0m\u001b[1;36m2\u001b[0m\u001b[38;2;212;183;2m ━━━━━━━━━━━━━━━━━━━━━━━━━━━━━━━━━━━━━━━━━━━━━━━━━━━━━━\u001b[0m\n"
      ]
     },
     "metadata": {},
     "output_type": "display_data"
    },
    {
     "data": {
      "text/html": [
       "<pre style=\"white-space:pre;overflow-x:auto;line-height:normal;font-family:Menlo,'DejaVu Sans Mono',consolas,'Courier New',monospace\">╭─────────────────────────────────────────────────────────────────────────────────────────────────────────────────╮\n",
       "│ Calling tool: 'get_time' with arguments: {'location': 'Asia/Kolkata'}                                           │\n",
       "╰─────────────────────────────────────────────────────────────────────────────────────────────────────────────────╯\n",
       "</pre>\n"
      ],
      "text/plain": [
       "╭─────────────────────────────────────────────────────────────────────────────────────────────────────────────────╮\n",
       "│ Calling tool: 'get_time' with arguments: {'location': 'Asia/Kolkata'}                                           │\n",
       "╰─────────────────────────────────────────────────────────────────────────────────────────────────────────────────╯\n"
      ]
     },
     "metadata": {},
     "output_type": "display_data"
    },
    {
     "data": {
      "text/html": [
       "<pre style=\"white-space:pre;overflow-x:auto;line-height:normal;font-family:Menlo,'DejaVu Sans Mono',consolas,'Courier New',monospace\">Observations: The local time in Asia/Kolkata is <span style=\"color: #00ff00; text-decoration-color: #00ff00; font-weight: bold\">03:41</span> PM.\n",
       "</pre>\n"
      ],
      "text/plain": [
       "Observations: The local time in Asia/Kolkata is \u001b[1;92m03:41\u001b[0m PM.\n"
      ]
     },
     "metadata": {},
     "output_type": "display_data"
    },
    {
     "data": {
      "text/html": [
       "<pre style=\"white-space:pre;overflow-x:auto;line-height:normal;font-family:Menlo,'DejaVu Sans Mono',consolas,'Courier New',monospace\"><span style=\"color: #7f7f7f; text-decoration-color: #7f7f7f\">[Step 2: Duration 0.70 seconds| Input tokens: 2,239 | Output tokens: 31]</span>\n",
       "</pre>\n"
      ],
      "text/plain": [
       "\u001b[2m[Step 2: Duration 0.70 seconds| Input tokens: 2,239 | Output tokens: 31]\u001b[0m\n"
      ]
     },
     "metadata": {},
     "output_type": "display_data"
    },
    {
     "data": {
      "text/html": [
       "<pre style=\"white-space:pre;overflow-x:auto;line-height:normal;font-family:Menlo,'DejaVu Sans Mono',consolas,'Courier New',monospace\"><span style=\"color: #d4b702; text-decoration-color: #d4b702\">━━━━━━━━━━━━━━━━━━━━━━━━━━━━━━━━━━━━━━━━━━━━━━━━━━━━━ </span><span style=\"font-weight: bold\">Step </span><span style=\"color: #008080; text-decoration-color: #008080; font-weight: bold\">3</span><span style=\"color: #d4b702; text-decoration-color: #d4b702\"> ━━━━━━━━━━━━━━━━━━━━━━━━━━━━━━━━━━━━━━━━━━━━━━━━━━━━━━</span>\n",
       "</pre>\n"
      ],
      "text/plain": [
       "\u001b[38;2;212;183;2m━━━━━━━━━━━━━━━━━━━━━━━━━━━━━━━━━━━━━━━━━━━━━━━━━━━━━ \u001b[0m\u001b[1mStep \u001b[0m\u001b[1;36m3\u001b[0m\u001b[38;2;212;183;2m ━━━━━━━━━━━━━━━━━━━━━━━━━━━━━━━━━━━━━━━━━━━━━━━━━━━━━━\u001b[0m\n"
      ]
     },
     "metadata": {},
     "output_type": "display_data"
    },
    {
     "data": {
      "text/html": [
       "<pre style=\"white-space:pre;overflow-x:auto;line-height:normal;font-family:Menlo,'DejaVu Sans Mono',consolas,'Courier New',monospace\">╭─────────────────────────────────────────────────────────────────────────────────────────────────────────────────╮\n",
       "│ Calling tool: 'final_answer' with arguments: {'answer': '03:41 PM'}                                             │\n",
       "╰─────────────────────────────────────────────────────────────────────────────────────────────────────────────────╯\n",
       "</pre>\n"
      ],
      "text/plain": [
       "╭─────────────────────────────────────────────────────────────────────────────────────────────────────────────────╮\n",
       "│ Calling tool: 'final_answer' with arguments: {'answer': '03:41 PM'}                                             │\n",
       "╰─────────────────────────────────────────────────────────────────────────────────────────────────────────────────╯\n"
      ]
     },
     "metadata": {},
     "output_type": "display_data"
    },
    {
     "data": {
      "text/html": [
       "<pre style=\"white-space:pre;overflow-x:auto;line-height:normal;font-family:Menlo,'DejaVu Sans Mono',consolas,'Courier New',monospace\"><span style=\"color: #d4b702; text-decoration-color: #d4b702; font-weight: bold\">Final answer: 03:41 PM</span>\n",
       "</pre>\n"
      ],
      "text/plain": [
       "\u001b[1;38;2;212;183;2mFinal answer: 03:41 PM\u001b[0m\n"
      ]
     },
     "metadata": {},
     "output_type": "display_data"
    },
    {
     "data": {
      "text/html": [
       "<pre style=\"white-space:pre;overflow-x:auto;line-height:normal;font-family:Menlo,'DejaVu Sans Mono',consolas,'Courier New',monospace\"><span style=\"color: #7f7f7f; text-decoration-color: #7f7f7f\">[Step 3: Duration 0.78 seconds| Input tokens: 3,513 | Output tokens: 48]</span>\n",
       "</pre>\n"
      ],
      "text/plain": [
       "\u001b[2m[Step 3: Duration 0.78 seconds| Input tokens: 3,513 | Output tokens: 48]\u001b[0m\n"
      ]
     },
     "metadata": {},
     "output_type": "display_data"
    },
    {
     "data": {
      "text/plain": [
       "'03:41 PM'"
      ]
     },
     "execution_count": 50,
     "metadata": {},
     "output_type": "execute_result"
    }
   ],
   "source": [
    "agent = ToolCallingAgent(tools=[get_weather_api, get_time], model=model)\n",
    "agent.run(\n",
    "    \"What's the time in Delhi?\"\n",
    ")"
   ]
  },
  {
   "cell_type": "code",
   "execution_count": 51,
   "id": "408efa2a-b4aa-4c8a-8ab1-e53cf6353508",
   "metadata": {},
   "outputs": [
    {
     "data": {
      "text/html": [
       "<pre style=\"white-space:pre;overflow-x:auto;line-height:normal;font-family:Menlo,'DejaVu Sans Mono',consolas,'Courier New',monospace\"><span style=\"color: #d4b702; text-decoration-color: #d4b702\">╭──────────────────────────────────────────────────── </span><span style=\"color: #d4b702; text-decoration-color: #d4b702; font-weight: bold\">New run</span><span style=\"color: #d4b702; text-decoration-color: #d4b702\"> ────────────────────────────────────────────────────╮</span>\n",
       "<span style=\"color: #d4b702; text-decoration-color: #d4b702\">│</span>                                                                                                                 <span style=\"color: #d4b702; text-decoration-color: #d4b702\">│</span>\n",
       "<span style=\"color: #d4b702; text-decoration-color: #d4b702\">│</span> <span style=\"font-weight: bold\">What's the temperature in Paris?</span>                                                                                <span style=\"color: #d4b702; text-decoration-color: #d4b702\">│</span>\n",
       "<span style=\"color: #d4b702; text-decoration-color: #d4b702\">│</span>                                                                                                                 <span style=\"color: #d4b702; text-decoration-color: #d4b702\">│</span>\n",
       "<span style=\"color: #d4b702; text-decoration-color: #d4b702\">╰─ LiteLLMModel - gpt-3.5-turbo ──────────────────────────────────────────────────────────────────────────────────╯</span>\n",
       "</pre>\n"
      ],
      "text/plain": [
       "\u001b[38;2;212;183;2m╭─\u001b[0m\u001b[38;2;212;183;2m───────────────────────────────────────────────────\u001b[0m\u001b[38;2;212;183;2m \u001b[0m\u001b[1;38;2;212;183;2mNew run\u001b[0m\u001b[38;2;212;183;2m \u001b[0m\u001b[38;2;212;183;2m───────────────────────────────────────────────────\u001b[0m\u001b[38;2;212;183;2m─╮\u001b[0m\n",
       "\u001b[38;2;212;183;2m│\u001b[0m                                                                                                                 \u001b[38;2;212;183;2m│\u001b[0m\n",
       "\u001b[38;2;212;183;2m│\u001b[0m \u001b[1mWhat's the temperature in Paris?\u001b[0m                                                                                \u001b[38;2;212;183;2m│\u001b[0m\n",
       "\u001b[38;2;212;183;2m│\u001b[0m                                                                                                                 \u001b[38;2;212;183;2m│\u001b[0m\n",
       "\u001b[38;2;212;183;2m╰─\u001b[0m\u001b[38;2;212;183;2m LiteLLMModel - gpt-3.5-turbo \u001b[0m\u001b[38;2;212;183;2m─────────────────────────────────────────────────────────────────────────────────\u001b[0m\u001b[38;2;212;183;2m─╯\u001b[0m\n"
      ]
     },
     "metadata": {},
     "output_type": "display_data"
    },
    {
     "data": {
      "text/html": [
       "<pre style=\"white-space:pre;overflow-x:auto;line-height:normal;font-family:Menlo,'DejaVu Sans Mono',consolas,'Courier New',monospace\"><span style=\"color: #d4b702; text-decoration-color: #d4b702\">━━━━━━━━━━━━━━━━━━━━━━━━━━━━━━━━━━━━━━━━━━━━━━━━━━━━━ </span><span style=\"font-weight: bold\">Step </span><span style=\"color: #008080; text-decoration-color: #008080; font-weight: bold\">1</span><span style=\"color: #d4b702; text-decoration-color: #d4b702\"> ━━━━━━━━━━━━━━━━━━━━━━━━━━━━━━━━━━━━━━━━━━━━━━━━━━━━━━</span>\n",
       "</pre>\n"
      ],
      "text/plain": [
       "\u001b[38;2;212;183;2m━━━━━━━━━━━━━━━━━━━━━━━━━━━━━━━━━━━━━━━━━━━━━━━━━━━━━ \u001b[0m\u001b[1mStep \u001b[0m\u001b[1;36m1\u001b[0m\u001b[38;2;212;183;2m ━━━━━━━━━━━━━━━━━━━━━━━━━━━━━━━━━━━━━━━━━━━━━━━━━━━━━━\u001b[0m\n"
      ]
     },
     "metadata": {},
     "output_type": "display_data"
    },
    {
     "data": {
      "text/html": [
       "<pre style=\"white-space:pre;overflow-x:auto;line-height:normal;font-family:Menlo,'DejaVu Sans Mono',consolas,'Courier New',monospace\">╭─────────────────────────────────────────────────────────────────────────────────────────────────────────────────╮\n",
       "│ Calling tool: 'get_weather_api' with arguments: {'latitude': 48.8566, 'longitude': 2.3522}                      │\n",
       "╰─────────────────────────────────────────────────────────────────────────────────────────────────────────────────╯\n",
       "</pre>\n"
      ],
      "text/plain": [
       "╭─────────────────────────────────────────────────────────────────────────────────────────────────────────────────╮\n",
       "│ Calling tool: 'get_weather_api' with arguments: {'latitude': 48.8566, 'longitude': 2.3522}                      │\n",
       "╰─────────────────────────────────────────────────────────────────────────────────────────────────────────────────╯\n"
      ]
     },
     "metadata": {},
     "output_type": "display_data"
    },
    {
     "data": {
      "text/html": [
       "<pre style=\"white-space:pre;overflow-x:auto;line-height:normal;font-family:Menlo,'DejaVu Sans Mono',consolas,'Courier New',monospace\">Observations: <span style=\"color: #008080; text-decoration-color: #008080; font-weight: bold\">16.0</span>\n",
       "</pre>\n"
      ],
      "text/plain": [
       "Observations: \u001b[1;36m16.0\u001b[0m\n"
      ]
     },
     "metadata": {},
     "output_type": "display_data"
    },
    {
     "data": {
      "text/html": [
       "<pre style=\"white-space:pre;overflow-x:auto;line-height:normal;font-family:Menlo,'DejaVu Sans Mono',consolas,'Courier New',monospace\"><span style=\"color: #7f7f7f; text-decoration-color: #7f7f7f\">[Step 1: Duration 2.96 seconds| Input tokens: 1,064 | Output tokens: 25]</span>\n",
       "</pre>\n"
      ],
      "text/plain": [
       "\u001b[2m[Step 1: Duration 2.96 seconds| Input tokens: 1,064 | Output tokens: 25]\u001b[0m\n"
      ]
     },
     "metadata": {},
     "output_type": "display_data"
    },
    {
     "data": {
      "text/html": [
       "<pre style=\"white-space:pre;overflow-x:auto;line-height:normal;font-family:Menlo,'DejaVu Sans Mono',consolas,'Courier New',monospace\"><span style=\"color: #d4b702; text-decoration-color: #d4b702\">━━━━━━━━━━━━━━━━━━━━━━━━━━━━━━━━━━━━━━━━━━━━━━━━━━━━━ </span><span style=\"font-weight: bold\">Step </span><span style=\"color: #008080; text-decoration-color: #008080; font-weight: bold\">2</span><span style=\"color: #d4b702; text-decoration-color: #d4b702\"> ━━━━━━━━━━━━━━━━━━━━━━━━━━━━━━━━━━━━━━━━━━━━━━━━━━━━━━</span>\n",
       "</pre>\n"
      ],
      "text/plain": [
       "\u001b[38;2;212;183;2m━━━━━━━━━━━━━━━━━━━━━━━━━━━━━━━━━━━━━━━━━━━━━━━━━━━━━ \u001b[0m\u001b[1mStep \u001b[0m\u001b[1;36m2\u001b[0m\u001b[38;2;212;183;2m ━━━━━━━━━━━━━━━━━━━━━━━━━━━━━━━━━━━━━━━━━━━━━━━━━━━━━━\u001b[0m\n"
      ]
     },
     "metadata": {},
     "output_type": "display_data"
    },
    {
     "data": {
      "text/html": [
       "<pre style=\"white-space:pre;overflow-x:auto;line-height:normal;font-family:Menlo,'DejaVu Sans Mono',consolas,'Courier New',monospace\">╭─────────────────────────────────────────────────────────────────────────────────────────────────────────────────╮\n",
       "│ Calling tool: 'final_answer' with arguments: {'answer': '16.0°C'}                                               │\n",
       "╰─────────────────────────────────────────────────────────────────────────────────────────────────────────────────╯\n",
       "</pre>\n"
      ],
      "text/plain": [
       "╭─────────────────────────────────────────────────────────────────────────────────────────────────────────────────╮\n",
       "│ Calling tool: 'final_answer' with arguments: {'answer': '16.0°C'}                                               │\n",
       "╰─────────────────────────────────────────────────────────────────────────────────────────────────────────────────╯\n"
      ]
     },
     "metadata": {},
     "output_type": "display_data"
    },
    {
     "data": {
      "text/html": [
       "<pre style=\"white-space:pre;overflow-x:auto;line-height:normal;font-family:Menlo,'DejaVu Sans Mono',consolas,'Courier New',monospace\"><span style=\"color: #d4b702; text-decoration-color: #d4b702; font-weight: bold\">Final answer: 16.0°C</span>\n",
       "</pre>\n"
      ],
      "text/plain": [
       "\u001b[1;38;2;212;183;2mFinal answer: 16.0°C\u001b[0m\n"
      ]
     },
     "metadata": {},
     "output_type": "display_data"
    },
    {
     "data": {
      "text/html": [
       "<pre style=\"white-space:pre;overflow-x:auto;line-height:normal;font-family:Menlo,'DejaVu Sans Mono',consolas,'Courier New',monospace\"><span style=\"color: #7f7f7f; text-decoration-color: #7f7f7f\">[Step 2: Duration 0.69 seconds| Input tokens: 2,238 | Output tokens: 42]</span>\n",
       "</pre>\n"
      ],
      "text/plain": [
       "\u001b[2m[Step 2: Duration 0.69 seconds| Input tokens: 2,238 | Output tokens: 42]\u001b[0m\n"
      ]
     },
     "metadata": {},
     "output_type": "display_data"
    },
    {
     "data": {
      "text/plain": [
       "'16.0°C'"
      ]
     },
     "execution_count": 51,
     "metadata": {},
     "output_type": "execute_result"
    }
   ],
   "source": [
    "agent = ToolCallingAgent(tools=[get_weather_api, get_time], model=model)\n",
    "agent.run(\n",
    "    \"What's the temperature in Paris?\"\n",
    ")"
   ]
  },
  {
   "cell_type": "code",
   "execution_count": 52,
   "id": "199b915d-15c1-4404-82ad-4f7dcb0a3524",
   "metadata": {},
   "outputs": [
    {
     "data": {
      "text/html": [
       "<pre style=\"white-space:pre;overflow-x:auto;line-height:normal;font-family:Menlo,'DejaVu Sans Mono',consolas,'Courier New',monospace\"><span style=\"color: #d4b702; text-decoration-color: #d4b702\">╭──────────────────────────────────────────────────── </span><span style=\"color: #d4b702; text-decoration-color: #d4b702; font-weight: bold\">New run</span><span style=\"color: #d4b702; text-decoration-color: #d4b702\"> ────────────────────────────────────────────────────╮</span>\n",
       "<span style=\"color: #d4b702; text-decoration-color: #d4b702\">│</span>                                                                                                                 <span style=\"color: #d4b702; text-decoration-color: #d4b702\">│</span>\n",
       "<span style=\"color: #d4b702; text-decoration-color: #d4b702\">│</span> <span style=\"font-weight: bold\">What's the temperature in Paris?</span>                                                                                <span style=\"color: #d4b702; text-decoration-color: #d4b702\">│</span>\n",
       "<span style=\"color: #d4b702; text-decoration-color: #d4b702\">│</span>                                                                                                                 <span style=\"color: #d4b702; text-decoration-color: #d4b702\">│</span>\n",
       "<span style=\"color: #d4b702; text-decoration-color: #d4b702\">╰─ LiteLLMModel - gpt-3.5-turbo ──────────────────────────────────────────────────────────────────────────────────╯</span>\n",
       "</pre>\n"
      ],
      "text/plain": [
       "\u001b[38;2;212;183;2m╭─\u001b[0m\u001b[38;2;212;183;2m───────────────────────────────────────────────────\u001b[0m\u001b[38;2;212;183;2m \u001b[0m\u001b[1;38;2;212;183;2mNew run\u001b[0m\u001b[38;2;212;183;2m \u001b[0m\u001b[38;2;212;183;2m───────────────────────────────────────────────────\u001b[0m\u001b[38;2;212;183;2m─╮\u001b[0m\n",
       "\u001b[38;2;212;183;2m│\u001b[0m                                                                                                                 \u001b[38;2;212;183;2m│\u001b[0m\n",
       "\u001b[38;2;212;183;2m│\u001b[0m \u001b[1mWhat's the temperature in Paris?\u001b[0m                                                                                \u001b[38;2;212;183;2m│\u001b[0m\n",
       "\u001b[38;2;212;183;2m│\u001b[0m                                                                                                                 \u001b[38;2;212;183;2m│\u001b[0m\n",
       "\u001b[38;2;212;183;2m╰─\u001b[0m\u001b[38;2;212;183;2m LiteLLMModel - gpt-3.5-turbo \u001b[0m\u001b[38;2;212;183;2m─────────────────────────────────────────────────────────────────────────────────\u001b[0m\u001b[38;2;212;183;2m─╯\u001b[0m\n"
      ]
     },
     "metadata": {},
     "output_type": "display_data"
    },
    {
     "data": {
      "text/html": [
       "<pre style=\"white-space:pre;overflow-x:auto;line-height:normal;font-family:Menlo,'DejaVu Sans Mono',consolas,'Courier New',monospace\"><span style=\"color: #d4b702; text-decoration-color: #d4b702\">━━━━━━━━━━━━━━━━━━━━━━━━━━━━━━━━━━━━━━━━━━━━━━━━━━━━━ </span><span style=\"font-weight: bold\">Step </span><span style=\"color: #008080; text-decoration-color: #008080; font-weight: bold\">1</span><span style=\"color: #d4b702; text-decoration-color: #d4b702\"> ━━━━━━━━━━━━━━━━━━━━━━━━━━━━━━━━━━━━━━━━━━━━━━━━━━━━━━</span>\n",
       "</pre>\n"
      ],
      "text/plain": [
       "\u001b[38;2;212;183;2m━━━━━━━━━━━━━━━━━━━━━━━━━━━━━━━━━━━━━━━━━━━━━━━━━━━━━ \u001b[0m\u001b[1mStep \u001b[0m\u001b[1;36m1\u001b[0m\u001b[38;2;212;183;2m ━━━━━━━━━━━━━━━━━━━━━━━━━━━━━━━━━━━━━━━━━━━━━━━━━━━━━━\u001b[0m\n"
      ]
     },
     "metadata": {},
     "output_type": "display_data"
    },
    {
     "data": {
      "text/html": [
       "<pre style=\"white-space:pre;overflow-x:auto;line-height:normal;font-family:Menlo,'DejaVu Sans Mono',consolas,'Courier New',monospace\"> ─ <span style=\"font-weight: bold\">Executing parsed code:</span> ──────────────────────────────────────────────────────────────────────────────────────── \n",
       "  <span style=\"color: #f8f8f2; text-decoration-color: #f8f8f2; background-color: #272822\">temperature_paris </span><span style=\"color: #ff4689; text-decoration-color: #ff4689; background-color: #272822\">=</span><span style=\"color: #f8f8f2; text-decoration-color: #f8f8f2; background-color: #272822\"> get_weather_api(latitude</span><span style=\"color: #ff4689; text-decoration-color: #ff4689; background-color: #272822\">=</span><span style=\"color: #ae81ff; text-decoration-color: #ae81ff; background-color: #272822\">48.8566</span><span style=\"color: #f8f8f2; text-decoration-color: #f8f8f2; background-color: #272822\">, longitude</span><span style=\"color: #ff4689; text-decoration-color: #ff4689; background-color: #272822\">=</span><span style=\"color: #ae81ff; text-decoration-color: #ae81ff; background-color: #272822\">2.3522</span><span style=\"color: #f8f8f2; text-decoration-color: #f8f8f2; background-color: #272822\">)</span><span style=\"background-color: #272822\">                                        </span>  \n",
       "  <span style=\"color: #f8f8f2; text-decoration-color: #f8f8f2; background-color: #272822\">print(temperature_paris)</span><span style=\"background-color: #272822\">                                                                                       </span>  \n",
       " ───────────────────────────────────────────────────────────────────────────────────────────────────────────────── \n",
       "</pre>\n"
      ],
      "text/plain": [
       " ─ \u001b[1mExecuting parsed code:\u001b[0m ──────────────────────────────────────────────────────────────────────────────────────── \n",
       "  \u001b[38;2;248;248;242;48;2;39;40;34mtemperature_paris\u001b[0m\u001b[38;2;248;248;242;48;2;39;40;34m \u001b[0m\u001b[38;2;255;70;137;48;2;39;40;34m=\u001b[0m\u001b[38;2;248;248;242;48;2;39;40;34m \u001b[0m\u001b[38;2;248;248;242;48;2;39;40;34mget_weather_api\u001b[0m\u001b[38;2;248;248;242;48;2;39;40;34m(\u001b[0m\u001b[38;2;248;248;242;48;2;39;40;34mlatitude\u001b[0m\u001b[38;2;255;70;137;48;2;39;40;34m=\u001b[0m\u001b[38;2;174;129;255;48;2;39;40;34m48.8566\u001b[0m\u001b[38;2;248;248;242;48;2;39;40;34m,\u001b[0m\u001b[38;2;248;248;242;48;2;39;40;34m \u001b[0m\u001b[38;2;248;248;242;48;2;39;40;34mlongitude\u001b[0m\u001b[38;2;255;70;137;48;2;39;40;34m=\u001b[0m\u001b[38;2;174;129;255;48;2;39;40;34m2.3522\u001b[0m\u001b[38;2;248;248;242;48;2;39;40;34m)\u001b[0m\u001b[48;2;39;40;34m                                        \u001b[0m  \n",
       "  \u001b[38;2;248;248;242;48;2;39;40;34mprint\u001b[0m\u001b[38;2;248;248;242;48;2;39;40;34m(\u001b[0m\u001b[38;2;248;248;242;48;2;39;40;34mtemperature_paris\u001b[0m\u001b[38;2;248;248;242;48;2;39;40;34m)\u001b[0m\u001b[48;2;39;40;34m                                                                                       \u001b[0m  \n",
       " ───────────────────────────────────────────────────────────────────────────────────────────────────────────────── \n"
      ]
     },
     "metadata": {},
     "output_type": "display_data"
    },
    {
     "data": {
      "text/html": [
       "<pre style=\"white-space:pre;overflow-x:auto;line-height:normal;font-family:Menlo,'DejaVu Sans Mono',consolas,'Courier New',monospace\"><span style=\"font-weight: bold\">Execution logs:</span>\n",
       "16.0\n",
       "\n",
       "Out: None\n",
       "</pre>\n"
      ],
      "text/plain": [
       "\u001b[1mExecution logs:\u001b[0m\n",
       "16.0\n",
       "\n",
       "Out: None\n"
      ]
     },
     "metadata": {},
     "output_type": "display_data"
    },
    {
     "data": {
      "text/html": [
       "<pre style=\"white-space:pre;overflow-x:auto;line-height:normal;font-family:Menlo,'DejaVu Sans Mono',consolas,'Courier New',monospace\"><span style=\"color: #7f7f7f; text-decoration-color: #7f7f7f\">[Step 1: Duration 2.05 seconds| Input tokens: 2,048 | Output tokens: 65]</span>\n",
       "</pre>\n"
      ],
      "text/plain": [
       "\u001b[2m[Step 1: Duration 2.05 seconds| Input tokens: 2,048 | Output tokens: 65]\u001b[0m\n"
      ]
     },
     "metadata": {},
     "output_type": "display_data"
    },
    {
     "data": {
      "text/html": [
       "<pre style=\"white-space:pre;overflow-x:auto;line-height:normal;font-family:Menlo,'DejaVu Sans Mono',consolas,'Courier New',monospace\"><span style=\"color: #d4b702; text-decoration-color: #d4b702\">━━━━━━━━━━━━━━━━━━━━━━━━━━━━━━━━━━━━━━━━━━━━━━━━━━━━━ </span><span style=\"font-weight: bold\">Step </span><span style=\"color: #008080; text-decoration-color: #008080; font-weight: bold\">2</span><span style=\"color: #d4b702; text-decoration-color: #d4b702\"> ━━━━━━━━━━━━━━━━━━━━━━━━━━━━━━━━━━━━━━━━━━━━━━━━━━━━━━</span>\n",
       "</pre>\n"
      ],
      "text/plain": [
       "\u001b[38;2;212;183;2m━━━━━━━━━━━━━━━━━━━━━━━━━━━━━━━━━━━━━━━━━━━━━━━━━━━━━ \u001b[0m\u001b[1mStep \u001b[0m\u001b[1;36m2\u001b[0m\u001b[38;2;212;183;2m ━━━━━━━━━━━━━━━━━━━━━━━━━━━━━━━━━━━━━━━━━━━━━━━━━━━━━━\u001b[0m\n"
      ]
     },
     "metadata": {},
     "output_type": "display_data"
    },
    {
     "data": {
      "text/html": [
       "<pre style=\"white-space:pre;overflow-x:auto;line-height:normal;font-family:Menlo,'DejaVu Sans Mono',consolas,'Courier New',monospace\"> ─ <span style=\"font-weight: bold\">Executing parsed code:</span> ──────────────────────────────────────────────────────────────────────────────────────── \n",
       "  <span style=\"color: #f8f8f2; text-decoration-color: #f8f8f2; background-color: #272822\">final_answer(</span><span style=\"color: #ae81ff; text-decoration-color: #ae81ff; background-color: #272822\">16.0</span><span style=\"color: #f8f8f2; text-decoration-color: #f8f8f2; background-color: #272822\">)</span><span style=\"background-color: #272822\">                                                                                             </span>  \n",
       " ───────────────────────────────────────────────────────────────────────────────────────────────────────────────── \n",
       "</pre>\n"
      ],
      "text/plain": [
       " ─ \u001b[1mExecuting parsed code:\u001b[0m ──────────────────────────────────────────────────────────────────────────────────────── \n",
       "  \u001b[38;2;248;248;242;48;2;39;40;34mfinal_answer\u001b[0m\u001b[38;2;248;248;242;48;2;39;40;34m(\u001b[0m\u001b[38;2;174;129;255;48;2;39;40;34m16.0\u001b[0m\u001b[38;2;248;248;242;48;2;39;40;34m)\u001b[0m\u001b[48;2;39;40;34m                                                                                             \u001b[0m  \n",
       " ───────────────────────────────────────────────────────────────────────────────────────────────────────────────── \n"
      ]
     },
     "metadata": {},
     "output_type": "display_data"
    },
    {
     "data": {
      "text/html": [
       "<pre style=\"white-space:pre;overflow-x:auto;line-height:normal;font-family:Menlo,'DejaVu Sans Mono',consolas,'Courier New',monospace\"><span style=\"color: #d4b702; text-decoration-color: #d4b702; font-weight: bold\">Out - Final answer: 16.0</span>\n",
       "</pre>\n"
      ],
      "text/plain": [
       "\u001b[1;38;2;212;183;2mOut - Final answer: 16.0\u001b[0m\n"
      ]
     },
     "metadata": {},
     "output_type": "display_data"
    },
    {
     "data": {
      "text/html": [
       "<pre style=\"white-space:pre;overflow-x:auto;line-height:normal;font-family:Menlo,'DejaVu Sans Mono',consolas,'Courier New',monospace\"><span style=\"color: #7f7f7f; text-decoration-color: #7f7f7f\">[Step 2: Duration 0.88 seconds| Input tokens: 4,249 | Output tokens: 105]</span>\n",
       "</pre>\n"
      ],
      "text/plain": [
       "\u001b[2m[Step 2: Duration 0.88 seconds| Input tokens: 4,249 | Output tokens: 105]\u001b[0m\n"
      ]
     },
     "metadata": {},
     "output_type": "display_data"
    },
    {
     "data": {
      "text/plain": [
       "16.0"
      ]
     },
     "execution_count": 52,
     "metadata": {},
     "output_type": "execute_result"
    }
   ],
   "source": [
    "agent = CodeAgent(tools=[get_weather_api, get_time], model=model)\n",
    "agent.run(\n",
    "    \"What's the temperature in Paris?\"\n",
    ")"
   ]
  },
  {
   "cell_type": "markdown",
   "id": "dde9b445-a0ad-4bd3-af05-4c5377c96e3d",
   "metadata": {},
   "source": [
    "**TASK: Find the token usage in the OpenAI SDK**"
   ]
  },
  {
   "cell_type": "code",
   "execution_count": null,
   "id": "fd73f271-71d7-4c96-9b50-cbc6eb7492c7",
   "metadata": {},
   "outputs": [],
   "source": []
  },
  {
   "cell_type": "code",
   "execution_count": null,
   "id": "1922e1c8-3716-4fd0-a823-8a30806331b5",
   "metadata": {},
   "outputs": [],
   "source": []
  },
  {
   "cell_type": "markdown",
   "id": "0748379f-7889-44a6-80a4-d20655ac5875",
   "metadata": {},
   "source": [
    "### Building the Fbref Scouting Bot"
   ]
  },
  {
   "cell_type": "markdown",
   "id": "053870f8-69e6-4510-afd9-c11cc696d979",
   "metadata": {},
   "source": [
    "The previous version, we did the following things:\n",
    "\n",
    "- Scraped the data using url\n",
    "- Sent that data to the model for parsing\n",
    "- Use that parsed data to do some analysis. We can use spider charts\n",
    "\n",
    "Instead of giving urls, we can give names and fetch the urls directly. The analysis can be done using the matplotlib tooling to automatically generate the charts"
   ]
  },
  {
   "cell_type": "markdown",
   "id": "cbd16e57-85de-4b47-a45f-f1d345c81491",
   "metadata": {},
   "source": [
    "We'll use the default search tools and add a few more of us"
   ]
  },
  {
   "cell_type": "code",
   "execution_count": 53,
   "id": "0c169a12-413c-44c8-a566-d23bfab72931",
   "metadata": {},
   "outputs": [
    {
     "name": "stdout",
     "output_type": "stream",
     "text": [
      " ········\n"
     ]
    }
   ],
   "source": [
    "from firecrawl import FirecrawlApp, ScrapeOptions\n",
    "from firecrawl.firecrawl import ScrapeResponse\n",
    "\n",
    "from getpass import getpass\n",
    "fc_api_key = getpass()"
   ]
  },
  {
   "cell_type": "code",
   "execution_count": 54,
   "id": "e60a9148-7ae3-4046-8a0a-6739fe2a8350",
   "metadata": {},
   "outputs": [],
   "source": [
    "@tool\n",
    "def firecrawl_scrape(url: str) -> ScrapeResponse:\n",
    "    \"\"\"\n",
    "    Firecrawl scraping tool to extract data in markdown and html format\n",
    "    \n",
    "    Args:\n",
    "        url: url that we need to scrape\n",
    "    \"\"\"\n",
    "    app = FirecrawlApp(api_key=fc_api_key)\n",
    "    \n",
    "    # Scrape a website:\n",
    "    return app.scrape_url(\n",
    "      url, \n",
    "      formats=['markdown', 'html']\n",
    "    )"
   ]
  },
  {
   "cell_type": "code",
   "execution_count": 55,
   "id": "da779fbc-0149-40ec-a3c4-38f97b712610",
   "metadata": {
    "scrolled": true
   },
   "outputs": [
    {
     "data": {
      "text/html": [
       "<pre style=\"white-space:pre;overflow-x:auto;line-height:normal;font-family:Menlo,'DejaVu Sans Mono',consolas,'Courier New',monospace\"><span style=\"color: #d4b702; text-decoration-color: #d4b702\">╭──────────────────────────────────────────────────── </span><span style=\"color: #d4b702; text-decoration-color: #d4b702; font-weight: bold\">New run</span><span style=\"color: #d4b702; text-decoration-color: #d4b702\"> ────────────────────────────────────────────────────╮</span>\n",
       "<span style=\"color: #d4b702; text-decoration-color: #d4b702\">│</span>                                                                                                                 <span style=\"color: #d4b702; text-decoration-color: #d4b702\">│</span>\n",
       "<span style=\"color: #d4b702; text-decoration-color: #d4b702\">│</span> <span style=\"font-weight: bold\">I want to scout Bukayo Saka as a player. Want to get a comprehensive report about him. Please use data from </span>    <span style=\"color: #d4b702; text-decoration-color: #d4b702\">│</span>\n",
       "<span style=\"color: #d4b702; text-decoration-color: #d4b702\">│</span> <span style=\"font-weight: bold\">fbref.com</span>                                                                                                       <span style=\"color: #d4b702; text-decoration-color: #d4b702\">│</span>\n",
       "<span style=\"color: #d4b702; text-decoration-color: #d4b702\">│</span>                                                                                                                 <span style=\"color: #d4b702; text-decoration-color: #d4b702\">│</span>\n",
       "<span style=\"color: #d4b702; text-decoration-color: #d4b702\">╰─ LiteLLMModel - gpt-4.1-mini ───────────────────────────────────────────────────────────────────────────────────╯</span>\n",
       "</pre>\n"
      ],
      "text/plain": [
       "\u001b[38;2;212;183;2m╭─\u001b[0m\u001b[38;2;212;183;2m───────────────────────────────────────────────────\u001b[0m\u001b[38;2;212;183;2m \u001b[0m\u001b[1;38;2;212;183;2mNew run\u001b[0m\u001b[38;2;212;183;2m \u001b[0m\u001b[38;2;212;183;2m───────────────────────────────────────────────────\u001b[0m\u001b[38;2;212;183;2m─╮\u001b[0m\n",
       "\u001b[38;2;212;183;2m│\u001b[0m                                                                                                                 \u001b[38;2;212;183;2m│\u001b[0m\n",
       "\u001b[38;2;212;183;2m│\u001b[0m \u001b[1mI want to scout Bukayo Saka as a player. Want to get a comprehensive report about him. Please use data from \u001b[0m    \u001b[38;2;212;183;2m│\u001b[0m\n",
       "\u001b[38;2;212;183;2m│\u001b[0m \u001b[1mfbref.com\u001b[0m                                                                                                       \u001b[38;2;212;183;2m│\u001b[0m\n",
       "\u001b[38;2;212;183;2m│\u001b[0m                                                                                                                 \u001b[38;2;212;183;2m│\u001b[0m\n",
       "\u001b[38;2;212;183;2m╰─\u001b[0m\u001b[38;2;212;183;2m LiteLLMModel - gpt-4.1-mini \u001b[0m\u001b[38;2;212;183;2m──────────────────────────────────────────────────────────────────────────────────\u001b[0m\u001b[38;2;212;183;2m─╯\u001b[0m\n"
      ]
     },
     "metadata": {},
     "output_type": "display_data"
    },
    {
     "data": {
      "text/html": [
       "<pre style=\"white-space:pre;overflow-x:auto;line-height:normal;font-family:Menlo,'DejaVu Sans Mono',consolas,'Courier New',monospace\"><span style=\"color: #d4b702; text-decoration-color: #d4b702\">━━━━━━━━━━━━━━━━━━━━━━━━━━━━━━━━━━━━━━━━━━━━━━━━━━━━━ </span><span style=\"font-weight: bold\">Step </span><span style=\"color: #008080; text-decoration-color: #008080; font-weight: bold\">1</span><span style=\"color: #d4b702; text-decoration-color: #d4b702\"> ━━━━━━━━━━━━━━━━━━━━━━━━━━━━━━━━━━━━━━━━━━━━━━━━━━━━━━</span>\n",
       "</pre>\n"
      ],
      "text/plain": [
       "\u001b[38;2;212;183;2m━━━━━━━━━━━━━━━━━━━━━━━━━━━━━━━━━━━━━━━━━━━━━━━━━━━━━ \u001b[0m\u001b[1mStep \u001b[0m\u001b[1;36m1\u001b[0m\u001b[38;2;212;183;2m ━━━━━━━━━━━━━━━━━━━━━━━━━━━━━━━━━━━━━━━━━━━━━━━━━━━━━━\u001b[0m\n"
      ]
     },
     "metadata": {},
     "output_type": "display_data"
    },
    {
     "data": {
      "text/html": [
       "<pre style=\"white-space:pre;overflow-x:auto;line-height:normal;font-family:Menlo,'DejaVu Sans Mono',consolas,'Courier New',monospace\"> ─ <span style=\"font-weight: bold\">Executing parsed code:</span> ──────────────────────────────────────────────────────────────────────────────────────── \n",
       "  <span style=\"color: #f8f8f2; text-decoration-color: #f8f8f2; background-color: #272822\">search_url </span><span style=\"color: #ff4689; text-decoration-color: #ff4689; background-color: #272822\">=</span><span style=\"color: #f8f8f2; text-decoration-color: #f8f8f2; background-color: #272822\"> </span><span style=\"color: #e6db74; text-decoration-color: #e6db74; background-color: #272822\">\"https://fbref.com/en/search/search.fcgi?search=bukayo+saka\"</span><span style=\"background-color: #272822\">                                      </span>  \n",
       "  <span style=\"color: #f8f8f2; text-decoration-color: #f8f8f2; background-color: #272822\">search_page </span><span style=\"color: #ff4689; text-decoration-color: #ff4689; background-color: #272822\">=</span><span style=\"color: #f8f8f2; text-decoration-color: #f8f8f2; background-color: #272822\"> firecrawl_scrape(search_url)</span><span style=\"background-color: #272822\">                                                                     </span>  \n",
       "  <span style=\"color: #f8f8f2; text-decoration-color: #f8f8f2; background-color: #272822\">print(search_page)</span><span style=\"background-color: #272822\">                                                                                             </span>  \n",
       " ───────────────────────────────────────────────────────────────────────────────────────────────────────────────── \n",
       "</pre>\n"
      ],
      "text/plain": [
       " ─ \u001b[1mExecuting parsed code:\u001b[0m ──────────────────────────────────────────────────────────────────────────────────────── \n",
       "  \u001b[38;2;248;248;242;48;2;39;40;34msearch_url\u001b[0m\u001b[38;2;248;248;242;48;2;39;40;34m \u001b[0m\u001b[38;2;255;70;137;48;2;39;40;34m=\u001b[0m\u001b[38;2;248;248;242;48;2;39;40;34m \u001b[0m\u001b[38;2;230;219;116;48;2;39;40;34m\"\u001b[0m\u001b[38;2;230;219;116;48;2;39;40;34mhttps://fbref.com/en/search/search.fcgi?search=bukayo+saka\u001b[0m\u001b[38;2;230;219;116;48;2;39;40;34m\"\u001b[0m\u001b[48;2;39;40;34m                                      \u001b[0m  \n",
       "  \u001b[38;2;248;248;242;48;2;39;40;34msearch_page\u001b[0m\u001b[38;2;248;248;242;48;2;39;40;34m \u001b[0m\u001b[38;2;255;70;137;48;2;39;40;34m=\u001b[0m\u001b[38;2;248;248;242;48;2;39;40;34m \u001b[0m\u001b[38;2;248;248;242;48;2;39;40;34mfirecrawl_scrape\u001b[0m\u001b[38;2;248;248;242;48;2;39;40;34m(\u001b[0m\u001b[38;2;248;248;242;48;2;39;40;34msearch_url\u001b[0m\u001b[38;2;248;248;242;48;2;39;40;34m)\u001b[0m\u001b[48;2;39;40;34m                                                                     \u001b[0m  \n",
       "  \u001b[38;2;248;248;242;48;2;39;40;34mprint\u001b[0m\u001b[38;2;248;248;242;48;2;39;40;34m(\u001b[0m\u001b[38;2;248;248;242;48;2;39;40;34msearch_page\u001b[0m\u001b[38;2;248;248;242;48;2;39;40;34m)\u001b[0m\u001b[48;2;39;40;34m                                                                                             \u001b[0m  \n",
       " ───────────────────────────────────────────────────────────────────────────────────────────────────────────────── \n"
      ]
     },
     "metadata": {},
     "output_type": "display_data"
    },
    {
     "data": {
      "text/html": [
       "<pre style=\"white-space:pre;overflow-x:auto;line-height:normal;font-family:Menlo,'DejaVu Sans Mono',consolas,'Courier New',monospace\"><span style=\"font-weight: bold\">Execution logs:</span>\n",
       "url=None markdown=\"Opens in a new windowOpens an external websiteOpens an external website in a new window\\n\\nClose\n",
       "this dialog\\n\\nThis website utilizes technologies such as cookies to enable essential site functionality, as well \n",
       "as for analytics, personalization, and targeted advertising. To learn more, view the following link: [Privacy \n",
       "Policy](https://www.sports-reference.com/privacy.html)\\n\\nManage Preferences\\n\\nClose Cookie \n",
       "Preferences\\n\\nWelcome, football fans from around the world!\\n\\nUse FBref \n",
       "in:\\n\\n[Português](https://fbref.com/pt/players/bc7dc64d/Bukayo-Saka)\\n· \n",
       "[Français](https://fbref.com/fr/players/bc7dc64d/Bukayo-Saka)\\n· \n",
       "[Deutsch](https://fbref.com/de/players/bc7dc64d/Bukayo-Saka)\\n· \n",
       "[Italiano](https://fbref.com/it/players/bc7dc64d/Bukayo-Saka)\\n· \n",
       "[Español](https://fbref.com/es/players/bc7dc64d/Bukayo-Saka)\\n· \n",
       "[English](https://fbref.com/en/players/bc7dc64d/Bukayo-Saka)\\n\\nWe're hiring! Join our team as a Senior Test \n",
       "Engineer. [Apply here](https://sports-reference-llc.breezy.hr/p/54f6a295cde1-senior-test-engineer).\\n\\n![Bukayo \n",
       "Saka headshot](https://fbref.com/req/202302030/images/headshots/bc7dc64d_2022.jpg)\\n\\n# Bukayo Saka\\n\\n**Bukayo \n",
       "Ayoyinka T.M. Saka**\\n\\n**Position:** DF-FW-MF (AM, right)\\xa0▪\\xa0 **Footed:** \n",
       "Left\\n\\n178cm,\\xa064kg\\xa0(5-10,\\xa0143lb)\\n\\n**Born:**\\nSeptember 5, 2001\\n(Age:\\xa023-255d)\\n\\nin Ealing, \n",
       "England, United Kingdom\\n\\neng\\n\\n**National Team:** [England](https://fbref.com/en/country/ENG/England-Football) \n",
       "eng\\n\\n**Club:** [Arsenal](https://fbref.com/en/squads/18bb7c10/Arsenal-Stats)\\n\\n**Wages**:\\n[￡ 195,000 \n",
       "Weekly](https://fbref.com/en/players/bc7dc64d/Bukayo-Saka#all_wages)\\nExpires June 2027. Via \n",
       "[Capology](https://www.capology.com/).\\n\\n\\n**Instagram:** \n",
       "[@bukayosaka87](https://instagram.com/bukayosaka87/)\\n\\n[Become a Stathead &amp; surf this site \n",
       "ad-free.](https://stathead.com/?ref=fb&amp;utm_source=fb&amp;utm_medium=sr_xsite&amp;utm_campaign=2024_04_23_adfree_callouts)\\n\n",
       "\\n**2024-2025**\\n\\n**Premier League**\\n\\n**Champions \n",
       "Lg**\\n\\n**MP**\\n\\n23\\n\\n9\\n\\n**Min**\\n\\n1626\\n\\n760\\n\\n**Gls**\\n\\n6\\n\\n6\\n\\n**Ast**\\n\\n10\\n\\n2\\n\\n**xG**\\n\\n6.7\\n\\n\n",
       "4.4\\n\\n**npxG**\\n\\n5.9\\n\\n2.9\\n\\n**xAG**\\n\\n7.0\\n\\n3.3\\n\\n**SCA**\\n\\n109\\n\\n31\\n\\n**GCA**\\n\\n22\\n\\n7\\n\\n\\\\\\\\* see \n",
       "our [coverage note](https://fbref.com/en/players/bc7dc64d/Bukayo-Saka#coverage)\\n\\n- [Bukayo Saka \n",
       "Overview](https://fbref.com/en/players/bc7dc64d/Bukayo-Saka)\\n- More Bukayo Saka Pages\\n\\n\\nStats by \n",
       "Competition\\n\\n\\n\\n- [All \n",
       "Competitions](https://fbref.com/en/players/bc7dc64d/all_comps/Bukayo-Saka-Stats---All-Competitions)\\n- [Domestic \n",
       "Leagues](https://fbref.com/en/players/bc7dc64d/dom_lg/Bukayo-Saka-Domestic-League-Stats)\\n- [Domestic \n",
       "Cups](https://fbref.com/en/players/bc7dc64d/dom_cup/Bukayo-Saka-Domestic-Cup-Stats)\\n- [International \n",
       "Cups](https://fbref.com/en/players/bc7dc64d/intl_cup/Bukayo-Saka-International-Cup-Stats)\\n- [National \n",
       "Team](https://fbref.com/en/players/bc7dc64d/nat_tm/Bukayo-Saka-National-Team-Stats)\\n\\nMatch Logs (Summary)\\n\\n- \n",
       "[2018-2019](https://fbref.com/en/players/bc7dc64d/matchlogs/2018-2019/summary/Bukayo-Saka-Match-Logs)\\n- \n",
       "[2019-2020](https://fbref.com/en/players/bc7dc64d/matchlogs/2019-2020/summary/Bukayo-Saka-Match-Logs)\\n- \n",
       "[2020-2021](https://fbref.com/en/players/bc7dc64d/matchlogs/2020-2021/summary/Bukayo-Saka-Match-Logs)\\n- \n",
       "[2021-2022](https://fbref.com/en/players/bc7dc64d/matchlogs/2021-2022/summary/Bukayo-Saka-Match-Logs)\\n- \n",
       "[2022-2023](https://fbref.com/en/players/bc7dc64d/matchlogs/2022-2023/summary/Bukayo-Saka-Match-Logs)\\n- \n",
       "[2023-2024](https://fbref.com/en/players/bc7dc64d/matchlogs/2023-2024/summary/Bukayo-Saka-Match-Logs)\\n- \n",
       "[2024-2025](https://fbref.com/en/players/bc7dc64d/matchlogs/2024-2025/summary/Bukayo-Saka-Match-Logs)\\n- [National \n",
       "Team](https://fbref.com/en/players/bc7dc64d/matchlogs/nat_tm/summary/Bukayo-Saka-Match-Logs)\\n\\nMatch Logs \n",
       "(Passing)\\n\\n- \n",
       "[2018-2019](https://fbref.com/en/players/bc7dc64d/matchlogs/2018-2019/passing/Bukayo-Saka-Match-Logs)\\n- \n",
       "[2019-2020](https://fbref.com/en/players/bc7dc64d/matchlogs/2019-2020/passing/Bukayo-Saka-Match-Logs)\\n- \n",
       "[2020-2021](https://fbref.com/en/players/bc7dc64d/matchlogs/2020-2021/passing/Bukayo-Saka-Match-Logs)\\n- \n",
       "[2021-2022](https://fbref.com/en/players/bc7dc64d/matchlogs/2021-2022/passing/Bukayo-Saka-Match-Logs)\\n- \n",
       "[2022-2023](https://fbref.com/en/players/bc7dc64d/matchlogs/2022-2023/passing/Bukayo-Saka-Match-Logs)\\n- \n",
       "[2023-2024](https://fbref.com/en/players/bc7dc64d/matchlogs/2023-2024/passing/Bukayo-Saka-Match-Logs)\\n- \n",
       "[2024-2025](https://fbref.com/en/players/bc7dc64d/matchlogs/2024-2025/passing/Bukayo-Saka-Match-Logs)\\n- [National \n",
       "Team](https://fbref.com/en/players/bc7dc64d/matchlogs/nat_tm/passing/Bukayo-Saka-Match-Logs)\\n\\nMatch Logs (Pass \n",
       "Types)\\n\\n- \n",
       "[2018-2019](https://fbref.com/en/players/bc7dc64d/matchlogs/2018-2019/passing_types/Bukayo-Saka-Match-Logs)\\n- \n",
       "[2019-2020](https://fbref.com/en/players/bc7dc64d/matchlogs/2019-2020/passing_types/Bukayo-Saka-Match-Logs)\\n- \n",
       "[2020-2021](https://fbref.com/en/players/bc7dc64d/matchlogs/2020-2021/passing_types/Bukayo-Saka-Match-Logs)\\n- \n",
       "[2021-2022](https://fbref.com/en/players/bc7dc64d/matchlogs/2021-2022/passing_types/Bukayo-Saka-Match-Logs)\\n- \n",
       "[2022-2023](https://fbref.com/en/players/bc7dc64d/matchlogs/2022-2023/passing_types/Bukayo-Saka-Match-Logs)\\n- \n",
       "[2023-2024](https://fbref.com/en/players/bc7dc64d/matchlogs/2023-2024/passing_types/Bukayo-Saka-Match-Logs)\\n- \n",
       "[2024-2025](https://fbref.com/en/players/bc7dc64d/matchlogs/2024-2025/passing_types/Bukayo-Saka-Match-Logs)\\n- \n",
       "[National \n",
       "Team](https://fbref.com/en/players/bc7dc64d/matchlogs/nat_tm/passing_types/Bukayo-Saka-Match-Logs)\\n\\nMatch Logs \n",
       "(Goal and Shot Creation)\\n\\n- \n",
       "[2018-2019](https://fbref.com/en/players/bc7dc64d/matchlogs/2018-2019/gca/Bukayo-Saka-Match-Logs)\\n- \n",
       "[2019-2020](https://fbref.com/en/players/bc7dc64d/matchlogs/2019-2020/gca/Bukayo-Saka-Match-Logs)\\n- \n",
       "[2020-2021](https://fbref.com/en/players/bc7dc64d/matchlogs/2020-2021/gca/Bukayo-Saka-Match-Logs)\\n- \n",
       "[2021-2022](https://fbref.com/en/players/bc7dc64d/matchlogs/2021-2022/gca/Bukayo-Saka-Match-Logs)\\n- \n",
       "[2022-2023](https://fbref.com/en/players/bc7dc64d/matchlogs/2022-2023/gca/Bukayo-Saka-Match-Logs)\\n- \n",
       "[2023-2024](https://fbref.com/en/players/bc7dc64d/matchlogs/2023-2024/gca/Bukayo-Saka-Match-Logs)\\n- \n",
       "[2024-2025](https://fbref.com/en/players/bc7dc64d/matchlogs/2024-2025/gca/Bukayo-Saka-Match-Logs)\\n- [National \n",
       "Team](https://fbref.com/en/players/bc7dc64d/matchlogs/nat_tm/gca/Bukayo-Saka-Match-Logs)\\n\\nMatch Logs (Defensive \n",
       "Actions)\\n\\n- \n",
       "[2018-2019](https://fbref.com/en/players/bc7dc64d/matchlogs/2018-2019/defense/Bukayo-Saka-Match-Logs)\\n- \n",
       "[2019-2020](https://fbref.com/en/players/bc7dc64d/matchlogs/2019-2020/defense/Bukayo-Saka-Match-Logs)\\n- \n",
       "[2020-2021](https://fbref.com/en/players/bc7dc64d/matchlogs/2020-2021/defense/Bukayo-Saka-Match-Logs)\\n- \n",
       "[2021-2022](https://fbref.com/en/players/bc7dc64d/matchlogs/2021-2022/defense/Bukayo-Saka-Match-Logs)\\n- \n",
       "[2022-2023](https://fbref.com/en/players/bc7dc64d/matchlogs/2022-2023/defense/Bukayo-Saka-Match-Logs)\\n- \n",
       "[2023-2024](https://fbref.com/en/players/bc7dc64d/matchlogs/2023-2024/defense/Bukayo-Saka-Match-Logs)\\n- \n",
       "[2024-2025](https://fbref.com/en/players/bc7dc64d/matchlogs/2024-2025/defense/Bukayo-Saka-Match-Logs)\\n- [National \n",
       "Team](https://fbref.com/en/players/bc7dc64d/matchlogs/nat_tm/defense/Bukayo-Saka-Match-Logs)\\n\\nMatch Logs \n",
       "(Possession)\\n\\n- \n",
       "[2018-2019](https://fbref.com/en/players/bc7dc64d/matchlogs/2018-2019/possession/Bukayo-Saka-Match-Logs)\\n- \n",
       "[2019-2020](https://fbref.com/en/players/bc7dc64d/matchlogs/2019-2020/possession/Bukayo-Saka-Match-Logs)\\n- \n",
       "[2020-2021](https://fbref.com/en/players/bc7dc64d/matchlogs/2020-2021/possession/Bukayo-Saka-Match-Logs)\\n- \n",
       "[2021-2022](https://fbref.com/en/players/bc7dc64d/matchlogs/2021-2022/possession/Bukayo-Saka-Match-Logs)\\n- \n",
       "[2022-2023](https://fbref.com/en/players/bc7dc64d/matchlogs/2022-2023/possession/Bukayo-Saka-Match-Logs)\\n- \n",
       "[2023-2024](https://fbref.com/en/players/bc7dc64d/matchlogs/2023-2024/possession/Bukayo-Saka-Match-Logs)\\n- \n",
       "[2024-2025](https://fbref.com/en/players/bc7dc64d/matchlogs/2024-2025/possession/Bukayo-Saka-Match-Logs)\\n- \n",
       "[National Team](https://fbref.com/en/players/bc7dc64d/matchlogs/nat_tm/possession/Bukayo-Saka-Match-Logs)\\n\\nMatch \n",
       "Logs (Miscellaneous Stats)\\n\\n- \n",
       "[2018-2019](https://fbref.com/en/players/bc7dc64d/matchlogs/2018-2019/misc/Bukayo-Saka-Match-Logs)\\n- \n",
       "[2019-2020](https://fbref.com/en/players/bc7dc64d/matchlogs/2019-2020/misc/Bukayo-Saka-Match-Logs)\\n- \n",
       "[2020-2021](https://fbref.com/en/players/bc7dc64d/matchlogs/2020-2021/misc/Bukayo-Saka-Match-Logs)\\n- \n",
       "[2021-2022](https://fbref.com/en/players/bc7dc64d/matchlogs/2021-2022/misc/Bukayo-Saka-Match-Logs)\\n- \n",
       "[2022-2023](https://fbref.com/en/players/bc7dc64d/matchlogs/2022-2023/misc/Bukayo-Saka-Match-Logs)\\n- \n",
       "[2023-2024](https://fbref.com/en/players/bc7dc64d/matchlogs/2023-2024/misc/Bukayo-Saka-Match-Logs)\\n- \n",
       "[2024-2025](https://fbref.com/en/players/bc7dc64d/matchlogs/2024-2025/misc/Bukayo-Saka-Match-Logs)\\n- [National \n",
       "Team](https://fbref.com/en/players/bc7dc64d/matchlogs/nat_tm/misc/Bukayo-Saka-Match-Logs)\\n\\nGoal Logs by \n",
       "Competition\\n\\n- [All \n",
       "Competitions](https://fbref.com/en/players/bc7dc64d/goallogs/all_comps/Bukayo-Saka-Goal-Log)\\n- [Domestic \n",
       "Leagues](https://fbref.com/en/players/bc7dc64d/goallogs/dom_lg/Bukayo-Saka-Goal-Log)\\n- [Domestic \n",
       "Cups](https://fbref.com/en/players/bc7dc64d/goallogs/dom_cup/Bukayo-Saka-Goal-Log)\\n- [International \n",
       "Cups](https://fbref.com/en/players/bc7dc64d/goallogs/intl_cup/Bukayo-Saka-Goal-Log)\\n- [National \n",
       "Team](https://fbref.com/en/players/bc7dc64d/goallogs/nat_tm/Bukayo-Saka-Goal-Log)\\n\\nScouting Report\\n\\n- [Last 365\n",
       "Days Men's Big 5 Leagues, UCL, \n",
       "UEL](https://fbref.com/en/players/bc7dc64d/scout/365_m1/Bukayo-Saka-Scouting-Report)\\n- [2024-2025 Premier \n",
       "League](https://fbref.com/en/players/bc7dc64d/scout/12524/Bukayo-Saka-Scouting-Report)\\n- [2024-2025 Champions \n",
       "League](https://fbref.com/en/players/bc7dc64d/scout/12623/Bukayo-Saka-Scouting-Report)\\n- [2024 UEFA Euro \n",
       "2024](https://fbref.com/en/players/bc7dc64d/scout/10279/Bukayo-Saka-Scouting-Report)\\n- [2023-2024 Champions \n",
       "League](https://fbref.com/en/players/bc7dc64d/scout/11835/Bukayo-Saka-Scouting-Report)\\n- [2023-2024 Premier \n",
       "League](https://fbref.com/en/players/bc7dc64d/scout/12192/Bukayo-Saka-Scouting-Report)\\n- [2022-2023 Europa \n",
       "League](https://fbref.com/en/players/bc7dc64d/scout/11455/Bukayo-Saka-Scouting-Report)\\n- [2022-2023 Premier \n",
       "League](https://fbref.com/en/players/bc7dc64d/scout/11566/Bukayo-Saka-Scouting-Report)\\n- [2022 World \n",
       "Cup](https://fbref.com/en/players/bc7dc64d/scout/1711/Bukayo-Saka-Scouting-Report)\\n- [2021-2022 Premier \n",
       "League](https://fbref.com/en/players/bc7dc64d/scout/11160/Bukayo-Saka-Scouting-Report)\\n- [2021 UEFA Euro \n",
       "2020](https://fbref.com/en/players/bc7dc64d/scout/10278/Bukayo-Saka-Scouting-Report)\\n- [2020-2021 Europa \n",
       "League](https://fbref.com/en/players/bc7dc64d/scout/10097/Bukayo-Saka-Scouting-Report)\\n- [2020-2021 Premier \n",
       "League](https://fbref.com/en/players/bc7dc64d/scout/10728/Bukayo-Saka-Scouting-Report)\\n- [2019-2020 Europa \n",
       "League](https://fbref.com/en/players/bc7dc64d/scout/2901/Bukayo-Saka-Scouting-Report)\\n- [2019-2020 Premier \n",
       "League](https://fbref.com/en/players/bc7dc64d/scout/3232/Bukayo-Saka-Scouting-Report)\\n\\nStathead &amp; Player \n",
       "Comparison\\n\\n- [Player Match \n",
       "Finder](https://stathead.com/fbref/player-match-finder.cgi?player_id=bc7dc64d&amp;comp_gender=m&amp;utm_source=fb&amp;utm_mediu\n",
       "m=sr_xsite&amp;utm_campaign=2023_11_player_innernav_stathead)\\n- [Player Season \n",
       "Finder](https://stathead.com/fbref/player-season-finder.cgi?player_id=bc7dc64d&amp;comp_gender=m&amp;utm_source=fb&amp;utm_medi\n",
       "um=sr_xsite&amp;utm_campaign=2023_11_player_innernav_stathead)\\n- [Player \n",
       "Comparison](https://fbref.com/en/stathead/player_comparison.cgi?show_form=1&amp;request=1&amp;sum=0&amp;comp_type=by_type&amp;dom_l\n",
       "g=1&amp;player_id1=bc7dc64d&amp;p1yrfrom=2024-2025&amp;player_id2=de112b84&amp;p2yrfrom=2024-2025&amp;player_id3=8236f673&amp;p3yrfrom=2024\n",
       "-2025&amp;player_id4=d781d855&amp;p4yrfrom=2024-2025&amp;player_id5=f36d5624&amp;p5yrfrom=2024-2025&amp;player_id6=0313a347&amp;p6yrfrom=20\n",
       "24-2025)\\n\\n- Stats by Competition\\n\\n\\nStats by Competition\\n\\n\\n\\n- [All \n",
       "Competitions](https://fbref.com/en/players/bc7dc64d/all_comps/Bukayo-Saka-Stats---All-Competitions)\\n- [Domestic \n",
       "Leagues](https://fbref.com/en/players/bc7dc64d/dom_lg/Bukayo-Saka-Domestic-League-Stats)\\n- [Domestic \n",
       "Cups](https://fbref.com/en/players/bc7dc64d/dom_cup/Bukayo-Saka-Domestic-Cup-Stats)\\n- [International \n",
       "Cups](https://fbref.com/en/players/bc7dc64d/intl_cup/Bukayo-Saka-International-Cup-Stats)\\n- [National \n",
       "Team](https://fbref.com/en/players/bc7dc64d/nat_tm/Bukayo-Saka-National-Team-Stats)\\n\\n- Match Logs\\n\\n\\nMatch Logs\n",
       "(Summary)\\n\\n\\n\\n- \n",
       "[2018-2019](https://fbref.com/en/players/bc7dc64d/matchlogs/2018-2019/summary/Bukayo-Saka-Match-Logs)\\n- \n",
       "[2019-2020](https://fbref.com/en/players/bc7dc64d/matchlogs/2019-2020/summary/Bukayo-Saka-Match-Logs)\\n- \n",
       "[2020-2021](https://fbref.com/en/players/bc7dc64d/matchlogs/2020-2021/summary/Bukayo-Saka-Match-Logs)\\n- \n",
       "[2021-2022](https://fbref.com/en/players/bc7dc64d/matchlogs/2021-2022/summary/Bukayo-Saka-Match-Logs)\\n- \n",
       "[2022-2023](https://fbref.com/en/players/bc7dc64d/matchlogs/2022-2023/summary/Bukayo-Saka-Match-Logs)\\n- \n",
       "[2023-2024](https://fbref.com/en/players/bc7dc64d/matchlogs/2023-2024/summary/Bukayo-Saka-Match-Logs)\\n- \n",
       "[2024-2025](https://fbref.com/en/players/bc7dc64d/matchlogs/2024-2025/summary/Bukayo-Saka-Match-Logs)\\n- [National \n",
       "Team](https://fbref.com/en/players/bc7dc64d/matchlogs/nat_tm/summary/Bukayo-Saka-Match-Logs)\\n\\nMatch Logs \n",
       "(Passing)\\n\\n- \n",
       "[2018-2019](https://fbref.com/en/players/bc7dc64d/matchlogs/2018-2019/passing/Bukayo-Saka-Match-Logs)\\n- \n",
       "[2019-2020](https://fbref.com/en/players/bc7dc64d/matchlogs/2019-2020/passing/Bukayo-Saka-Match-Logs)\\n- \n",
       "[2020-2021](https://fbref.com/en/players/bc7dc64d/matchlogs/2020-2021/passing/Bukayo-Saka-Match-Logs)\\n- \n",
       "[2021-2022](https://fbref.com/en/players/bc7dc64d/matchlogs/2021-2022/passing/Bukayo-Saka-Match-Logs)\\n- \n",
       "[2022-2023](https://fbref.com/en/players/bc7dc64d/matchlogs/2022-2023/passing/Bukayo-Saka-Match-Logs)\\n- \n",
       "[2023-2024](https://fbref.com/en/players/bc7dc64d/matchlogs/2023-2024/passing/Bukayo-Saka-Match-Logs)\\n- \n",
       "[2024-2025](https://fbref.com/en/players/bc7dc64d/matchlogs/2024-2025/passing/Bukayo-Saka-Match-Logs)\\n- [National \n",
       "Team](https://fbref.com/en/players/bc7dc64d/matchlogs/nat_tm/passing/Bukayo-Saka-Match-Logs)\\n\\nMatch Logs (Pass \n",
       "Types)\\n\\n- \n",
       "[2018-2019](https://fbref.com/en/players/bc7dc64d/matchlogs/2018-2019/passing_types/Bukayo-Saka-Match-Logs)\\n- \n",
       "[2019-2020](https://fbref.com/en/players/bc7dc64d/matchlogs/2019-2020/passing_types/Bukayo-Saka-Match-Logs)\\n- \n",
       "[2020-2021](https://fbref.com/en/players/bc7dc64d/matchlogs/2020-2021/passing_types/Bukayo-Saka-Match-Logs)\\n- \n",
       "[2021-2022](https://fbref.com/en/players/bc7dc64d/matchlogs/2021-2022/passing_types/Bukayo-Saka-Match-Logs)\\n- \n",
       "[2022-2023](https://fbref.com/en/players/bc7dc64d/matchlogs/2022-2023/passing_types/Bukayo-Saka-Match-Logs)\\n- \n",
       "[2023-2024](https://fbref.com/en/players/bc7dc64d/matchlogs/2023-2024/passing_types/Bukayo-Saka-Match-Logs)\\n- \n",
       "[2024-2025](https://fbref.com/en/players/bc7dc64d/matchlogs/2024-2025/passing_types/Bukayo-Saka-Match-Logs)\\n- \n",
       "[National \n",
       "Team](https://fbref.com/en/players/bc7dc64d/matchlogs/nat_tm/passing_types/Bukayo-Saka-Match-Logs)\\n\\nMatch Logs \n",
       "(Goal and Shot Creation)\\n\\n- \n",
       "[2018-2019](https://fbref.com/en/players/bc7dc64d/matchlogs/2018-2019/gca/Bukayo-Saka-Match-Logs)\\n- \n",
       "[2019-2020](https://fbref.com/en/players/bc7dc64d/matchlogs/2019-2020/gca/Bukayo-Saka-Match-Logs)\\n- \n",
       "[2020-2021](https://fbref.com/en/players/bc7dc64d/matchlogs/2020-2021/gca/Bukayo-Saka-Match-Logs)\\n- \n",
       "[2021-2022](https://fbref.com/en/players/bc7dc64d/matchlogs/2021-2022/gca/Bukayo-Saka-Match-Logs)\\n- \n",
       "[2022-2023](https://fbref.com/en/players/bc7dc64d/matchlogs/2022-2023/gca/Bukayo-Saka-Match-Logs)\\n- \n",
       "[2023-2024](https://fbref.com/en/players/bc7dc64d/matchlogs/2023-2024/gca/Bukayo-Saka-Match-Logs)\\n- \n",
       "[2024-2025](https://fbref.com/en/players/bc7dc64d/matchlogs/2024-2025/gca/Bukayo-Saka-Match-Logs)\\n- [National \n",
       "Team](https://fbref.com/en/players/bc7dc64d/matchlogs/nat_tm/gca/Bukayo-Saka-Match-Logs)\\n\\nMatch Logs (Defensive \n",
       "Actions)\\n\\n- \n",
       "[2018-2019](https://fbref.com/en/players/bc7dc64d/matchlogs/2018-2019/defense/Bukayo-Saka-Match-Logs)\\n- \n",
       "[2019-2020](https://fbref.com/en/players/bc7dc64d/matchlogs/2019-2020/defense/Bukayo-Saka-Match-Logs)\\n- \n",
       "[2020-2021](https://fbref.com/en/players/bc7dc64d/matchlogs/2020-2021/defense/Bukayo-Saka-Match-Logs)\\n- \n",
       "[2021-2022](https://fbref.com/en/players/bc7dc64d/matchlogs/2021-2022/defense/Bukayo-Saka-Match-Logs)\\n- \n",
       "[2022-2023](https://fbref.com/en/players/bc7dc64d/matchlogs/2022-2023/defense/Bukayo-Saka-Match-Logs)\\n- \n",
       "[2023-2024](https://fbref.com/en/players/bc7dc64d/matchlogs/2023-2024/defense/Bukayo-Saka-Match-Logs)\\n- \n",
       "[2024-2025](https://fbref.com/en/players/bc7dc64d/matchlogs/2024-2025/defense/Bukayo-Saka-Match-Logs)\\n- [National \n",
       "Team](https://fbref.com/en/players/bc7dc64d/matchlogs/nat_tm/defense/Bukayo-Saka-Match-Logs)\\n\\nMatch Logs \n",
       "(Possession)\\n\\n- \n",
       "[2018-2019](https://fbref.com/en/players/bc7dc64d/matchlogs/2018-2019/possession/Bukayo-Saka-Match-Logs)\\n- \n",
       "[2019-2020](https://fbref.com/en/players/bc7dc64d/matchlogs/2019-2020/possession/Bukayo-Saka-Match-Logs)\\n- \n",
       "[2020-2021](https://fbref.com/en/players/bc7dc64d/matchlogs/2020-2021/possession/Bukayo-Saka-Match-Logs)\\n- \n",
       "[2021-2022](https://fbref.com/en/players/bc7dc64d/matchlogs/2021-2022/possession/Bukayo-Saka-Match-Logs)\\n- \n",
       "[2022-2023](https://fbref.com/en/players/bc7dc64d/matchlogs/2022-2023/possession/Bukayo-Saka-Match-Logs)\\n- \n",
       "[2023-2024](https://fbref.com/en/players/bc7dc64d/matchlogs/2023-2024/possession/Bukayo-Saka-Match-Logs)\\n- \n",
       "[2024-2025](https://fbref.com/en/players/bc7dc64d/matchlogs/2024-2025/possession/Bukayo-Saka-Match-Logs)\\n- \n",
       "[National Team](https://fbref.com/en/players/bc7dc64d/matchlogs/nat_tm/possession/Bukayo-Saka-Match-Logs)\\n\\nMatch \n",
       "Logs (Miscellaneous Stats)\\n\\n- \n",
       "[2018-2019](https://fbref.com/en/players/bc7dc64d/matchlogs/2018-2019/misc/Bukayo-Saka-Match-Logs)\\n- \n",
       "[2019-2020](https://fbref.com/en/players/bc7dc64d/matchlogs/2019-2020/misc/Bukayo-Saka-Match-Logs)\\n- \n",
       "[2020-2021](https://fbref.com/en/players/bc7dc64d/matchlogs/2020-2021/misc/Bukayo-Saka-Match-Logs)\\n- \n",
       "[2021-2022](https://fbref.com/en/players/bc7dc64d/matchlogs/2021-2022/misc/Bukayo-Saka-Match-Logs)\\n- \n",
       "[2022-2023](https://fbref.com/en/players/bc7dc64d/matchlogs/2022-2023/misc/Bukayo-Saka-Match-Logs)\\n- \n",
       "[2023-2024](https://fbref.com/en/players/bc7dc64d/matchlogs/2023-2024/misc/Bukayo-Saka-Match-Logs)\\n- \n",
       "[2024-2025](https://fbref.com/en/players/bc7dc64d/matchlogs/2024-2025/misc/Bukayo-Saka-Match-Logs)\\n- [National \n",
       "Team](https://fbref.com/en/players/bc7dc64d/matchlogs/nat_tm/misc/Bukayo-Saka-Match-Logs)\\n\\n- Goal Logs\\n\\n\\nGoal \n",
       "Logs by Competition\\n\\n\\n\\n- [All \n",
       "Competitions](https://fbref.com/en/players/bc7dc64d/goallogs/all_comps/Bukayo-Saka-Goal-Log)\\n- [Domestic \n",
       "Leagues](https://fbref.com/en/players/bc7dc64d/goallogs/dom_lg/Bukayo-Saka-Goal-Log)\\n- [Domestic \n",
       "Cups](https://fbref.com/en/players/bc7dc64d/goallogs/dom_cup/Bukayo-Saka-Goal-Log)\\n- [International \n",
       "Cups](https://fbref.com/en/players/bc7dc64d/goallogs/intl_cup/Bukayo-Saka-Goal-Log)\\n- [National \n",
       "Team](https://fbref.com/en/players/bc7dc64d/goallogs/nat_tm/Bukayo-Saka-Goal-Log)\\n\\n- Scouting \n",
       "Report\\n\\n\\nScouting Report\\n\\n\\n\\n- [Last 365 Days Men's Big 5 Leagues, UCL, \n",
       "UEL](https://fbref.com/en/players/bc7dc64d/scout/365_m1/Bukayo-Saka-Scouting-Report)\\n- [2024-2025 Premier \n",
       "League](https://fbref.com/en/players/bc7dc64d/scout/12524/Bukayo-Saka-Scouting-Report)\\n- [2024-2025 Champions \n",
       "League](https://fbref.com/en/players/bc7dc64d/scout/12623/Bukayo-Saka-Scouting-Report)\\n- [2024 UEFA Euro \n",
       "2024](https://fbref.com/en/players/bc7dc64d/scout/10279/Bukayo-Saka-Scouting-Report)\\n- [2023-2024 Champions \n",
       "League](https://fbref.com/en/players/bc7dc64d/scout/11835/Bukayo-Saka-Scouting-Report)\\n- [2023-2024 Premier \n",
       "League](https://fbref.com/en/players/bc7dc64d/scout/12192/Bukayo-Saka-Scouting-Report)\\n- [2022-2023 Europa \n",
       "League](https://fbref.com/en/players/bc7dc64d/scout/11455/Bukayo-Saka-Scouting-Report)\\n- [2022-2023 Premier \n",
       "League](https://fbref.com/en/players/bc7dc64d/scout/11566/Bukayo-Saka-Scouting-Report)\\n- [2022 World \n",
       "Cup](https://fbref.com/en/players/bc7dc64d/scout/1711/Bukayo-Saka-Scouting-Report)\\n- [2021-2022 Premier \n",
       "League](https://fbref.com/en/players/bc7dc64d/scout/11160/Bukayo-Saka-Scouting-Report)\\n- [2021 UEFA Euro \n",
       "2020](https://fbref.com/en/players/bc7dc64d/scout/10278/Bukayo-Saka-Scouting-Report)\\n- [2020-2021 Europa \n",
       "League](https://fbref.com/en/players/bc7dc64d/scout/10097/Bukayo-Saka-Scouting-Report)\\n- [2020-2021 Premier \n",
       "League](https://fbref.com/en/players/bc7dc64d/scout/10728/Bukayo-Saka-Scouting-Report)\\n- [2019-2020 Europa \n",
       "League](https://fbref.com/en/players/bc7dc64d/scout/2901/Bukayo-Saka-Scouting-Report)\\n- [2019-2020 Premier \n",
       "League](https://fbref.com/en/players/bc7dc64d/scout/3232/Bukayo-Saka-Scouting-Report)\\n\\n- \n",
       "Stathead/Compare\\n\\n\\nStathead &amp; Player Comparison\\n\\n\\n\\n- [Player Match \n",
       "Finder](https://stathead.com/fbref/player-match-finder.cgi?player_id=bc7dc64d&amp;comp_gender=m&amp;utm_source=fb&amp;utm_mediu\n",
       "m=sr_xsite&amp;utm_campaign=2023_11_player_innernav_stathead)\\n- [Player Season \n",
       "Finder](https://stathead.com/fbref/player-season-finder.cgi?player_id=bc7dc64d&amp;comp_gender=m&amp;utm_source=fb&amp;utm_medi\n",
       "um=sr_xsite&amp;utm_campaign=2023_11_player_innernav_stathead)\\n- [Player \n",
       "Comparison](https://fbref.com/en/stathead/player_comparison.cgi?show_form=1&amp;request=1&amp;sum=0&amp;comp_type=by_type&amp;dom_l\n",
       "g=1&amp;player_id1=bc7dc64d&amp;p1yrfrom=2024-2025&amp;player_id2=de112b84&amp;p2yrfrom=2024-2025&amp;player_id3=8236f673&amp;p3yrfrom=2024\n",
       "-2025&amp;player_id4=d781d855&amp;p4yrfrom=2024-2025&amp;player_id5=f36d5624&amp;p5yrfrom=2024-2025&amp;player_id6=0313a347&amp;p6yrfrom=20\n",
       "24-2025)\\n\\n- \n",
       "[Arsenal](https://fbref.com/en/squads/18bb7c10/Arsenal-Stats)\\n\\n\\n[Arsenal](https://fbref.com/en/squads/18bb7c10/A\n",
       "rsenal-Stats)\\n\\n(18-14-4, 2nd place in Premier League)\\n\\n\\n\\n\\n\\n\\n\\nRoster\\n\\n\\n\\n- [Nathan \n",
       "Butler-Oyedeji](https://fbref.com/en/players/3a686640/Nathan-Butler-Oyedeji)\\n- [Riccardo \n",
       "Calafiori](https://fbref.com/en/players/aded8e6f/Riccardo-Calafiori)\\n- [Brayden \n",
       "Clarke](https://fbref.com/en/players/f9657b1b/Brayden-Clarke)\\n- [Jimi \n",
       "Gower](https://fbref.com/en/players/4571f93e/Jimi-Gower)\\n- [Kai \n",
       "Havertz](https://fbref.com/en/players/fed7cb61/Kai-Havertz)\\n- [Ayden \n",
       "Heaven](https://fbref.com/en/players/64e17fab/Ayden-Heaven)\\n- [Jack \n",
       "Henry-Francis](https://fbref.com/en/players/e93d8ed1/Jack-Henry-Francis)\\n- [Gabriel \n",
       "Jesus](https://fbref.com/en/players/b66315ae/Gabriel-Jesus)\\n- \n",
       "[Jorginho](https://fbref.com/en/players/45db685d/Jorginho)\\n- [Ismeal \n",
       "Kabia](https://fbref.com/en/players/6b15cf32/Ismeal-Kabia)\\n\\n[Maldini \n",
       "Kacurri](https://fbref.com/en/players/7be4311f/Maldini-Kacurri)\\n[Jakub \n",
       "Kiwior](https://fbref.com/en/players/dc3e663e/Jakub-Kiwior)\\n[Myles \n",
       "Lewis-Skelly](https://fbref.com/en/players/5dff6c28/Myles-Lewis-Skelly)\\n[Gabriel \n",
       "Magalhães](https://fbref.com/en/players/67ac5bb8/Gabriel-Magalhaes)\\n[Gabriel \n",
       "Martinelli](https://fbref.com/en/players/48a5a5d6/Gabriel-Martinelli)\\n[Mikel \n",
       "Merino](https://fbref.com/en/players/d080ed5e/Mikel-Merino)\\n[Zane \n",
       "Monlouis](https://fbref.com/en/players/7745640e/Zane-Monlouis)\\n[Reiss \n",
       "Nelson](https://fbref.com/en/players/c5bdb6e3/Reiss-Nelson)\\n[Neto](https://fbref.com/en/players/a9dc785c/Neto)\\n[J\n",
       "osh Nichols](https://fbref.com/en/players/676cf55d/Josh-Nichols)\\n[Eddie \n",
       "Nketiah](https://fbref.com/en/players/a53649b7/Eddie-Nketiah)\\n[Ethan \n",
       "Nwaneri](https://fbref.com/en/players/7f94982c/Ethan-Nwaneri)\\n[Salah Oulad \n",
       "M'Hand](https://fbref.com/en/players/b85c3273/Salah-Oulad-MHand)\\n[Thomas \n",
       "Partey](https://fbref.com/en/players/529f49ab/Thomas-Partey)\\n[Jack \n",
       "Porter](https://fbref.com/en/players/0b4ecd65/Jack-Porter)\\n[Aaron \n",
       "Ramsdale](https://fbref.com/en/players/466fb2c5/Aaron-Ramsdale)\\n[David \n",
       "Raya](https://fbref.com/en/players/98ea5115/David-Raya)\\n[Declan \n",
       "Rice](https://fbref.com/en/players/1c7012b8/Declan-Rice)\\n[Josh \n",
       "Robinson](https://fbref.com/en/players/5260ea6b/Josh-Robinson)\\n[Alexei \n",
       "Rojas](https://fbref.com/en/players/eb189764/Alexei-Rojas)\\n[Michal \n",
       "Rosiak](https://fbref.com/en/players/dbd6a18f/Michal-Rosiak)\\n[Bukayo \n",
       "Saka](https://fbref.com/en/players/bc7dc64d/Bukayo-Saka)\\n[William \n",
       "Saliba](https://fbref.com/en/players/972aeb2a/William-Saliba)\\n[Tommy \n",
       "Setford](https://fbref.com/en/players/d1a2e006/Tommy-Setford)\\n[Raheem \n",
       "Sterling](https://fbref.com/en/players/b400bde0/Raheem-Sterling)\\n[Kieran \n",
       "Tierney](https://fbref.com/en/players/fce2302c/Kieran-Tierney)\\n[Jurriën \n",
       "Timber](https://fbref.com/en/players/41034650/Jurrien-Timber)\\n[Takehiro \n",
       "Tomiyasu](https://fbref.com/en/players/b3af9be1/Takehiro-Tomiyasu)\\n[Leandro \n",
       "Trossard](https://fbref.com/en/players/38ceb24a/Leandro-Trossard)\\n[Ben \n",
       "White](https://fbref.com/en/players/35e413f1/Ben-White)\\n[Oleksandr \n",
       "Zinchenko](https://fbref.com/en/players/51cf8561/Oleksandr-Zinchenko)\\n[Martin \n",
       "Ødegaard](https://fbref.com/en/players/79300479/Martin-Odegaard)\\n\\nSh\n",
       "..._This content has been truncated to stay below 50000 characters_...\n",
       "team\"&gt;&lt;/td&gt;&lt;td class=\"left iz\" data-stat=\"country\"&gt;&lt;/td&gt;&lt;td class=\"left iz\" data-stat=\"comp_level\"&gt;&lt;/td&gt;&lt;td \n",
       "class=\"right iz group_start\" data-stat=\"weekly_wages\"&gt;&lt;/td&gt;&lt;td class=\"right iz\" data-stat=\"annual_wages\"&gt;&lt;/td&gt;&lt;td \n",
       "class=\"left iz\" data-stat=\"notes\"&gt;&lt;/td&gt;&lt;/tr&gt;\\n&lt;tr&gt;&lt;th scope=\"row\" class=\"left \" data-stat=\"year\" \n",
       "colspan=\"\"&gt;2025-2026&lt;/th&gt;&lt;td class=\"center \" data-stat=\"age\"&gt;23&lt;/td&gt;&lt;td class=\"left \" data-stat=\"team\"&gt;&lt;a \n",
       "href=\"https://fbref.com/en/squads/18bb7c10/Arsenal-Stats\"&gt;Arsenal&lt;/a&gt;&lt;/td&gt;&lt;td class=\"left \" data-stat=\"country\"&gt;&lt;a \n",
       "href=\"https://fbref.com/en/country/ENG/England-Football\"&gt;&lt;span class=\"f-i f-gb-eng\" style=\"\"&gt;eng&lt;/span&gt;&lt;/a&gt; &lt;a \n",
       "href=\"https://fbref.com/en/country/ENG/England-Football\"&gt;ENG&lt;/a&gt;&lt;/td&gt;&lt;td class=\"left \" data-stat=\"comp_level\" \n",
       "csk=\"1a.9\"&gt;&lt;span class=\"level\"&gt;1.&lt;/span&gt; &lt;a href=\"https://fbref.com/en/comps/9/Premier-League-Stats\"&gt;Premier \n",
       "League&lt;/a&gt;&lt;/td&gt;&lt;td class=\"right group_start\" data-stat=\"weekly_wages\" csk=\"12025741\"&gt;&lt;strong&gt;£ 195,000&lt;/strong&gt; (€ \n",
       "231,264, $258,846)&lt;/td&gt;&lt;td class=\"right \" data-stat=\"annual_wages\" csk=\"12025741\"&gt;&lt;strong&gt;£ 10,140,000&lt;/strong&gt; (€ \n",
       "12,025,741, $13,459,997)&lt;/td&gt;&lt;td class=\"left iz\" data-stat=\"notes\"&gt;&lt;/td&gt;&lt;/tr&gt;\\n&lt;tr&gt;&lt;th scope=\"row\" class=\"left \" \n",
       "data-stat=\"year\" colspan=\"\"&gt;2026-2027&lt;/th&gt;&lt;td class=\"center \" data-stat=\"age\"&gt;24&lt;/td&gt;&lt;td class=\"left \" \n",
       "data-stat=\"team\"&gt;&lt;a href=\"https://fbref.com/en/squads/18bb7c10/Arsenal-Stats\"&gt;Arsenal&lt;/a&gt;&lt;/td&gt;&lt;td class=\"left \" \n",
       "data-stat=\"country\"&gt;&lt;a href=\"https://fbref.com/en/country/ENG/England-Football\"&gt;&lt;span class=\"f-i f-gb-eng\" \n",
       "style=\"\"&gt;eng&lt;/span&gt;&lt;/a&gt; &lt;a href=\"https://fbref.com/en/country/ENG/England-Football\"&gt;ENG&lt;/a&gt;&lt;/td&gt;&lt;td class=\"left \" \n",
       "data-stat=\"comp_level\" csk=\"1a.9\"&gt;&lt;span class=\"level\"&gt;1.&lt;/span&gt; &lt;a \n",
       "href=\"https://fbref.com/en/comps/9/Premier-League-Stats\"&gt;Premier League&lt;/a&gt;&lt;/td&gt;&lt;td class=\"right group_start\" \n",
       "data-stat=\"weekly_wages\" csk=\"12025741\"&gt;&lt;strong&gt;£ 195,000&lt;/strong&gt; (€ 231,264, $258,846)&lt;/td&gt;&lt;td class=\"right \" \n",
       "data-stat=\"annual_wages\" csk=\"12025741\"&gt;&lt;strong&gt;£ 10,140,000&lt;/strong&gt; (€ 12,025,741, $13,459,997)&lt;/td&gt;&lt;td \n",
       "class=\"left iz\" data-stat=\"notes\"&gt;&lt;/td&gt;&lt;/tr&gt;\\n&lt;/tbody&gt;&lt;tfoot&gt;&lt;tr&gt;&lt;th scope=\"row\" class=\"left \" data-stat=\"year\" \n",
       "colspan=\"\"&gt;&lt;a href=\"https://fbref.com/en/players/bc7dc64d/Bukayo-Saka#coverage\"&gt;7 Seasons&lt;/a&gt;*&lt;/th&gt;&lt;td \n",
       "class=\"center iz\" data-stat=\"age\"&gt;&lt;/td&gt;&lt;td class=\"left \" data-stat=\"team\"&gt;1 Club&lt;/td&gt;&lt;td class=\"left iz\" \n",
       "data-stat=\"country\"&gt;&lt;/td&gt;&lt;td class=\"left iz\" data-stat=\"comp_level\"&gt;&lt;/td&gt;&lt;td class=\"right iz group_start\" \n",
       "data-stat=\"weekly_wages\"&gt;&lt;/td&gt;&lt;td class=\"right iz\" data-stat=\"annual_wages\"&gt;&lt;/td&gt;&lt;td class=\"left iz\" \n",
       "data-stat=\"notes\"&gt;&lt;/td&gt;&lt;/tr&gt;\\n\\n   &lt;/tfoot&gt;\\n\\n&lt;/table&gt;\\n\\n\\n&lt;/div&gt;\\n&lt;/div&gt;\\n\\n            \\n            \\n        \n",
       "\\n         \\n      \\n         \\n            &lt;div class=\"section_wrapper\" id=\"all_resources_other\"&gt;\\n&lt;div \n",
       "class=\"section_heading assoc_resources_other\" id=\"resources_other_sh\"&gt;\\n  &lt;span class=\"section_anchor\" \n",
       "id=\"resources_other_link\" data-label=\"Additional Resources\"&gt;&lt;/span&gt;&lt;h2&gt;Additional Resources&lt;/h2&gt;\\n      &lt;div \n",
       "class=\"section_heading_text\"&gt;\\n      &lt;ul&gt;\\n      &lt;/ul&gt;\\n    &lt;/div&gt;\\n    \\n    \\t\\t\\n&lt;/div&gt;&lt;div \n",
       "class=\"placeholder\"&gt;&lt;/div&gt;\\n&lt;!--     &lt;div class=\"section_content\" id=\"div_resources_other\"&gt;\\n\\t    &lt;a \n",
       "rel=\"nofollow\" href=\"https://en.wikipedia.org/wiki/Bukayo Saka\"&gt;Wikipedia&lt;/a&gt; &amp;nbsp; &amp;nbsp;\\n &amp;#183; &lt;a \n",
       "rel=\"nofollow\" href=\"https://www.wikidata.org/wiki/Q59306386\"&gt;Wikidata&lt;/a&gt; &amp;nbsp; &amp;nbsp;\\n\\n\\t\\t\\n    &lt;/div&gt;\\n--&gt;\\n\n",
       "&lt;div class=\"section_content\" id=\"div_resources_other\"&gt;\\n\\t    &lt;a rel=\"nofollow\" \n",
       "href=\"https://en.wikipedia.org/wiki/Bukayo%20Saka\"&gt;Wikipedia&lt;/a&gt; &amp;nbsp; &amp;nbsp;\\n · &lt;a rel=\"nofollow\" \n",
       "href=\"https://www.wikidata.org/wiki/Q59306386\"&gt;Wikidata&lt;/a&gt; &amp;nbsp; &amp;nbsp;\\n\\n\\t\\t\\n    &lt;/div&gt;\\n&lt;/div&gt;\\n\\n          \n",
       "\\n            \\n            \\n         \\n      \\n\\n&lt;!-- global.nonempty_tables_num: 17, table_count: 17 --&gt;\\n   \n",
       "&lt;div id=\"coverage\" style=\"margin-bottom:60px\" data-comment=\"style is for the inner nav frozen to top of \n",
       "page\"&gt;&lt;/div&gt;\\n&lt;div class=\"callout light\"&gt;\\n    &lt;h3&gt;About FBref.com&lt;/h3&gt;\\n    \\n    \\n    \\n    \\n    \\n\\n\\n    \\n  \n",
       "\\n    &lt;p&gt;\\n    FBref.com launched (June 13, 2018) with domestic league coverage for England, France, Germany, \n",
       "Italy, Spain, and United States. Since then we have been steadily expanding our coverage to include domestic \n",
       "leagues from over 40 countries as well as domestic cup, super cup and youth leagues from top European countries. We\n",
       "have also added coverage for major international cups such as the &lt;a \n",
       "href=\"https://fbref.com/en/comps/8/UEFA-Champions-League-Stats\"&gt;UEFA Champions League&lt;/a&gt; and &lt;a \n",
       "href=\"https://fbref.com/en/comps/14/Copa-Libertadores-Stats\"&gt;Copa Libertadores&lt;/a&gt;.\\n    &lt;/p&gt;\\n\\n    \\n    &lt;p&gt;\\n   \n",
       "FBref is the most complete sources for women\\'s football data on the internet. This includes the entire history of \n",
       "the &lt;a href=\"https://fbref.com/en/comps/106/history/Womens-World-Cup-Seasons\"&gt;FIFA Women\\'s World Cup&lt;/a&gt; as well \n",
       "as recent domestic league seasons from nine countries, including advanced stats like xG for most of those nine.\\n  \n",
       "&lt;/p&gt;\\n\\n    \\n    \\n    &lt;p&gt;\\n    In collaboration with &lt;a href=\"https://www.statsperform.com/opta/\"&gt;Opta&lt;/a&gt;, we \n",
       "are including advanced analytical data such as xG, xA, progressive passing, duels and more for over twenty \n",
       "competitions. For more information on the expected goals model and which competitions have advanced data, see our \n",
       "&lt;a href=\"https://fbref.com/en/expected-goals-model-explained/\"&gt;xG explainer&lt;/a&gt;.\\n    &lt;/p&gt;\\n\\n    \\n\\n    &lt;button \n",
       "class=\"tooltip opener\" data-selector=\"#coverage_additional\" data-type=\"hide_after\" data-has-listener=\"true\"&gt;View \n",
       "Additional Information&lt;/button&gt;\\n\\n    &lt;div id=\"coverage_additional\" class=\"toggleable\"&gt;\\n        &lt;p&gt;\\n        Note\n",
       "that player records are likely not complete for their careers. Players may come from or move to leagues we don\\'t \n",
       "currently cover. This issue will go down over time, as we add new leagues and seasons. We will never in the future \n",
       "have less data than we do today.\\n        &lt;/p&gt;\\n\\n        &lt;p&gt;You can sign up to &lt;a \n",
       "href=\"https://fbref.com/en/email\"&gt;receive an e-mail&lt;/a&gt; when new countries and features launch.&lt;/p&gt;\\n\\n        \n",
       "&lt;p&gt;For more information, see our &lt;a \n",
       "href=\"https://www.sports-reference.com/blog/2018/06/fbref-com-launches-today\"&gt;Launch Blog Post&lt;/a&gt;, the overall &lt;a \n",
       "href=\"https://fbref.com/en/comps/\"&gt;leagues/competition page&lt;/a&gt; with details on leagues and seasons we include, or \n",
       "our &lt;a href=\"https://fbref.com/en/about/\"&gt;About Page&lt;/a&gt;.  &lt;a href=\"https://fbref.com/feedback/\"&gt;Let us know if you\n",
       "find an issue or have a suggestion&lt;/a&gt;.&lt;/p&gt;\\n\\n        &lt;p&gt;FBref is one of seven &lt;a \n",
       "href=\"https://www.sports-reference.com/\"&gt;Sports-Reference.com&lt;/a&gt; sites.&lt;/p&gt;\\n    &lt;/div&gt;\\n&lt;/div&gt;\\n\\n&lt;div \n",
       "id=\"bottom_nav\" class=\"section_wrapper\"&gt;\\n&lt;div class=\"section_heading\"&gt;&lt;span data-no-inpage=\"1\" \n",
       "class=\"section_anchor\" id=\"inner_nav_bottom_link\" data-label=\"More Bukayo Saka Pages\"&gt;&lt;/span&gt;&lt;h2&gt;More Bukayo Saka \n",
       "Pages&lt;/h2&gt;&lt;/div&gt;\\n&lt;div class=\"section_content\" id=\"bottom_nav_container\"&gt;\\n\\n  &lt;p&gt;&lt;a \n",
       "href=\"https://fbref.com/en/players/bc7dc64d/Bukayo-Saka\"&gt;Bukayo Saka Overview&lt;/a&gt;&lt;/p&gt;\\n  &lt;p class=\"listhead\"&gt;Stats \n",
       "by Competition&lt;/p&gt;\\n        &lt;ul class=\"\"&gt;\\n          &lt;li&gt;&lt;a \n",
       "href=\"https://fbref.com/en/players/bc7dc64d/all_comps/Bukayo-Saka-Stats---All-Competitions\"&gt;All \n",
       "Competitions&lt;/a&gt;&lt;/li&gt;\\n          &lt;li&gt;&lt;a \n",
       "href=\"https://fbref.com/en/players/bc7dc64d/dom_lg/Bukayo-Saka-Domestic-League-Stats\"&gt;Domestic Leagues&lt;/a&gt;&lt;/li&gt;\\n  \n",
       "&lt;li&gt;&lt;a href=\"https://fbref.com/en/players/bc7dc64d/dom_cup/Bukayo-Saka-Domestic-Cup-Stats\"&gt;Domestic Cups&lt;/a&gt;&lt;/li&gt;\\n\n",
       "&lt;li&gt;&lt;a href=\"https://fbref.com/en/players/bc7dc64d/intl_cup/Bukayo-Saka-International-Cup-Stats\"&gt;International \n",
       "Cups&lt;/a&gt;&lt;/li&gt;\\n          &lt;li&gt;&lt;a \n",
       "href=\"https://fbref.com/en/players/bc7dc64d/nat_tm/Bukayo-Saka-National-Team-Stats\"&gt;National Team&lt;/a&gt;&lt;/li&gt;\\n       \n",
       "&lt;/ul&gt;&lt;p class=\"listhead\"&gt;Match Logs (Summary)&lt;/p&gt;\\n        &lt;ul class=\"\"&gt;\\n          &lt;li&gt;&lt;a \n",
       "href=\"https://fbref.com/en/players/bc7dc64d/matchlogs/2018-2019/summary/Bukayo-Saka-Match-Logs\"&gt;2018-2019&lt;/a&gt;&lt;/li&gt;\\\n",
       "n          &lt;li&gt;&lt;a \n",
       "href=\"https://fbref.com/en/players/bc7dc64d/matchlogs/2019-2020/summary/Bukayo-Saka-Match-Logs\"&gt;2019-2020&lt;/a&gt;&lt;/li&gt;\\\n",
       "n          &lt;li&gt;&lt;a \n",
       "href=\"https://fbref.com/en/players/bc7dc64d/matchlogs/2020-2021/summary/Bukayo-Saka-Match-Logs\"&gt;2020-2021&lt;/a&gt;&lt;/li&gt;\\\n",
       "n          &lt;li&gt;&lt;a \n",
       "href=\"https://fbref.com/en/players/bc7dc64d/matchlogs/2021-2022/summary/Bukayo-Saka-Match-Logs\"&gt;2021-2022&lt;/a&gt;&lt;/li&gt;\\\n",
       "n          &lt;li&gt;&lt;a \n",
       "href=\"https://fbref.com/en/players/bc7dc64d/matchlogs/2022-2023/summary/Bukayo-Saka-Match-Logs\"&gt;2022-2023&lt;/a&gt;&lt;/li&gt;\\\n",
       "n          &lt;li&gt;&lt;a \n",
       "href=\"https://fbref.com/en/players/bc7dc64d/matchlogs/2023-2024/summary/Bukayo-Saka-Match-Logs\"&gt;2023-2024&lt;/a&gt;&lt;/li&gt;\\\n",
       "n          &lt;li&gt;&lt;a \n",
       "href=\"https://fbref.com/en/players/bc7dc64d/matchlogs/2024-2025/summary/Bukayo-Saka-Match-Logs\"&gt;2024-2025&lt;/a&gt;&lt;/li&gt;\\\n",
       "n          &lt;li&gt;&lt;a \n",
       "href=\"https://fbref.com/en/players/bc7dc64d/matchlogs/nat_tm/summary/Bukayo-Saka-Match-Logs\"&gt;National \n",
       "Team&lt;/a&gt;&lt;/li&gt;\\n        &lt;/ul&gt;&lt;p class=\"listhead\"&gt;Match Logs (Passing)&lt;/p&gt;\\n        &lt;ul class=\"\"&gt;\\n          &lt;li&gt;&lt;a \n",
       "href=\"https://fbref.com/en/players/bc7dc64d/matchlogs/2018-2019/passing/Bukayo-Saka-Match-Logs\"&gt;2018-2019&lt;/a&gt;&lt;/li&gt;\\\n",
       "n          &lt;li&gt;&lt;a \n",
       "href=\"https://fbref.com/en/players/bc7dc64d/matchlogs/2019-2020/passing/Bukayo-Saka-Match-Logs\"&gt;2019-2020&lt;/a&gt;&lt;/li&gt;\\\n",
       "n          &lt;li&gt;&lt;a \n",
       "href=\"https://fbref.com/en/players/bc7dc64d/matchlogs/2020-2021/passing/Bukayo-Saka-Match-Logs\"&gt;2020-2021&lt;/a&gt;&lt;/li&gt;\\\n",
       "n          &lt;li&gt;&lt;a \n",
       "href=\"https://fbref.com/en/players/bc7dc64d/matchlogs/2021-2022/passing/Bukayo-Saka-Match-Logs\"&gt;2021-2022&lt;/a&gt;&lt;/li&gt;\\\n",
       "n          &lt;li&gt;&lt;a \n",
       "href=\"https://fbref.com/en/players/bc7dc64d/matchlogs/2022-2023/passing/Bukayo-Saka-Match-Logs\"&gt;2022-2023&lt;/a&gt;&lt;/li&gt;\\\n",
       "n          &lt;li&gt;&lt;a \n",
       "href=\"https://fbref.com/en/players/bc7dc64d/matchlogs/2023-2024/passing/Bukayo-Saka-Match-Logs\"&gt;2023-2024&lt;/a&gt;&lt;/li&gt;\\\n",
       "n          &lt;li&gt;&lt;a \n",
       "href=\"https://fbref.com/en/players/bc7dc64d/matchlogs/2024-2025/passing/Bukayo-Saka-Match-Logs\"&gt;2024-2025&lt;/a&gt;&lt;/li&gt;\\\n",
       "n          &lt;li&gt;&lt;a \n",
       "href=\"https://fbref.com/en/players/bc7dc64d/matchlogs/nat_tm/passing/Bukayo-Saka-Match-Logs\"&gt;National \n",
       "Team&lt;/a&gt;&lt;/li&gt;\\n        &lt;/ul&gt;&lt;p class=\"listhead\"&gt;Match Logs (Pass Types)&lt;/p&gt;\\n        &lt;ul class=\"\"&gt;\\n          \n",
       "&lt;li&gt;&lt;a \n",
       "href=\"https://fbref.com/en/players/bc7dc64d/matchlogs/2018-2019/passing_types/Bukayo-Saka-Match-Logs\"&gt;2018-2019&lt;/a&gt;\n",
       "&lt;/li&gt;\\n          &lt;li&gt;&lt;a \n",
       "href=\"https://fbref.com/en/players/bc7dc64d/matchlogs/2019-2020/passing_types/Bukayo-Saka-Match-Logs\"&gt;2019-2020&lt;/a&gt;\n",
       "&lt;/li&gt;\\n          &lt;li&gt;&lt;a \n",
       "href=\"https://fbref.com/en/players/bc7dc64d/matchlogs/2020-2021/passing_types/Bukayo-Saka-Match-Logs\"&gt;2020-2021&lt;/a&gt;\n",
       "&lt;/li&gt;\\n          &lt;li&gt;&lt;a \n",
       "href=\"https://fbref.com/en/players/bc7dc64d/matchlogs/2021-2022/passing_types/Bukayo-Saka-Match-Logs\"&gt;2021-2022&lt;/a&gt;\n",
       "&lt;/li&gt;\\n          &lt;li&gt;&lt;a \n",
       "href=\"https://fbref.com/en/players/bc7dc64d/matchlogs/2022-2023/passing_types/Bukayo-Saka-Match-Logs\"&gt;2022-2023&lt;/a&gt;\n",
       "&lt;/li&gt;\\n          &lt;li&gt;&lt;a \n",
       "href=\"https://fbref.com/en/players/bc7dc64d/matchlogs/2023-2024/passing_types/Bukayo-Saka-Match-Logs\"&gt;2023-2024&lt;/a&gt;\n",
       "&lt;/li&gt;\\n          &lt;li&gt;&lt;a \n",
       "href=\"https://fbref.com/en/players/bc7dc64d/matchlogs/2024-2025/passing_types/Bukayo-Saka-Match-Logs\"&gt;2024-2025&lt;/a&gt;\n",
       "&lt;/li&gt;\\n          &lt;li&gt;&lt;a \n",
       "href=\"https://fbref.com/en/players/bc7dc64d/matchlogs/nat_tm/passing_types/Bukayo-Saka-Match-Logs\"&gt;National \n",
       "Team&lt;/a&gt;&lt;/li&gt;\\n        &lt;/ul&gt;&lt;p class=\"listhead\"&gt;Match Logs (Goal and Shot Creation)&lt;/p&gt;\\n        &lt;ul class=\"\"&gt;\\n   \n",
       "&lt;li&gt;&lt;a \n",
       "href=\"https://fbref.com/en/players/bc7dc64d/matchlogs/2018-2019/gca/Bukayo-Saka-Match-Logs\"&gt;2018-2019&lt;/a&gt;&lt;/li&gt;\\n   \n",
       "&lt;li&gt;&lt;a \n",
       "href=\"https://fbref.com/en/players/bc7dc64d/matchlogs/2019-2020/gca/Bukayo-Saka-Match-Logs\"&gt;2019-2020&lt;/a&gt;&lt;/li&gt;\\n   \n",
       "&lt;li&gt;&lt;a \n",
       "href=\"https://fbref.com/en/players/bc7dc64d/matchlogs/2020-2021/gca/Bukayo-Saka-Match-Logs\"&gt;2020-2021&lt;/a&gt;&lt;/li&gt;\\n   \n",
       "&lt;li&gt;&lt;a \n",
       "href=\"https://fbref.com/en/players/bc7dc64d/matchlogs/2021-2022/gca/Bukayo-Saka-Match-Logs\"&gt;2021-2022&lt;/a&gt;&lt;/li&gt;\\n   \n",
       "&lt;li&gt;&lt;a \n",
       "href=\"https://fbref.com/en/players/bc7dc64d/matchlogs/2022-2023/gca/Bukayo-Saka-Match-Logs\"&gt;2022-2023&lt;/a&gt;&lt;/li&gt;\\n   \n",
       "&lt;li&gt;&lt;a \n",
       "href=\"https://fbref.com/en/players/bc7dc64d/matchlogs/2023-2024/gca/Bukayo-Saka-Match-Logs\"&gt;2023-2024&lt;/a&gt;&lt;/li&gt;\\n   \n",
       "&lt;li&gt;&lt;a \n",
       "href=\"https://fbref.com/en/players/bc7dc64d/matchlogs/2024-2025/gca/Bukayo-Saka-Match-Logs\"&gt;2024-2025&lt;/a&gt;&lt;/li&gt;\\n   \n",
       "&lt;li&gt;&lt;a href=\"https://fbref.com/en/players/bc7dc64d/matchlogs/nat_tm/gca/Bukayo-Saka-Match-Logs\"&gt;National \n",
       "Team&lt;/a&gt;&lt;/li&gt;\\n        &lt;/ul&gt;&lt;p class=\"listhead\"&gt;Match Logs (Defensive Actions)&lt;/p&gt;\\n        &lt;ul class=\"\"&gt;\\n        \n",
       "&lt;li&gt;&lt;a \n",
       "href=\"https://fbref.com/en/players/bc7dc64d/matchlogs/2018-2019/defense/Bukayo-Saka-Match-Logs\"&gt;2018-2019&lt;/a&gt;&lt;/li&gt;\\\n",
       "n          &lt;li&gt;&lt;a \n",
       "href=\"https://fbref.com/en/players/bc7dc64d/matchlogs/2019-2020/defense/Bukayo-Saka-Match-Logs\"&gt;2019-2020&lt;/a&gt;&lt;/li&gt;\\\n",
       "n          &lt;li&gt;&lt;a \n",
       "href=\"https://fbref.com/en/players/bc7dc64d/matchlogs/2020-2021/defense/Bukayo-Saka-Match-Logs\"&gt;2020-2021&lt;/a&gt;&lt;/li&gt;\\\n",
       "n          &lt;li&gt;&lt;a \n",
       "href=\"https://fbref.com/en/players/bc7dc64d/matchlogs/2021-2022/defense/Bukayo-Saka-Match-Logs\"&gt;2021-2022&lt;/a&gt;&lt;/li&gt;\\\n",
       "n          &lt;li&gt;&lt;a \n",
       "href=\"https://fbref.com/en/players/bc7dc64d/matchlogs/2022-2023/defense/Bukayo-Saka-Match-Logs\"&gt;2022-2023&lt;/a&gt;&lt;/li&gt;\\\n",
       "n          &lt;li&gt;&lt;a \n",
       "href=\"https://fbref.com/en/players/bc7dc64d/matchlogs/2023-2024/defense/Bukayo-Saka-Match-Logs\"&gt;2023-2024&lt;/a&gt;&lt;/li&gt;\\\n",
       "n          &lt;li&gt;&lt;a \n",
       "href=\"https://fbref.com/en/players/bc7dc64d/matchlogs/2024-2025/defense/Bukayo-Saka-Match-Logs\"&gt;2024-2025&lt;/a&gt;&lt;/li&gt;\\\n",
       "n          &lt;li&gt;&lt;a \n",
       "href=\"https://fbref.com/en/players/bc7dc64d/matchlogs/nat_tm/defense/Bukayo-Saka-Match-Logs\"&gt;National \n",
       "Team&lt;/a&gt;&lt;/li&gt;\\n        &lt;/ul&gt;&lt;p class=\"listhead\"&gt;Match Logs (Possession)&lt;/p&gt;\\n        &lt;ul class=\"\"&gt;\\n          \n",
       "&lt;li&gt;&lt;a \n",
       "href=\"https://fbref.com/en/players/bc7dc64d/matchlogs/2018-2019/possession/Bukayo-Saka-Match-Logs\"&gt;2018-2019&lt;/a&gt;&lt;/l\n",
       "i&gt;\\n          &lt;li&gt;&lt;a \n",
       "href=\"https://fbref.com/en/players/bc7dc64d/matchlogs/2019-2020/possession/Bukayo-Saka-Match-Logs\"&gt;2019-2020&lt;/a&gt;&lt;/l\n",
       "i&gt;\\n          &lt;li&gt;&lt;a \n",
       "href=\"https://fbref.com/en/players/bc7dc64d/matchlogs/2020-2021/possession/Bukayo-Saka-Match-Logs\"&gt;2020-2021&lt;/a&gt;&lt;/l\n",
       "i&gt;\\n          &lt;li&gt;&lt;a \n",
       "href=\"https://fbref.com/en/players/bc7dc64d/matchlogs/2021-2022/possession/Bukayo-Saka-Match-Logs\"&gt;2021-2022&lt;/a&gt;&lt;/l\n",
       "i&gt;\\n          &lt;li&gt;&lt;a \n",
       "href=\"https://fbref.com/en/players/bc7dc64d/matchlogs/2022-2023/possession/Bukayo-Saka-Match-Logs\"&gt;2022-2023&lt;/a&gt;&lt;/l\n",
       "i&gt;\\n          &lt;li&gt;&lt;a \n",
       "href=\"https://fbref.com/en/players/bc7dc64d/matchlogs/2023-2024/possession/Bukayo-Saka-Match-Logs\"&gt;2023-2024&lt;/a&gt;&lt;/l\n",
       "i&gt;\\n          &lt;li&gt;&lt;a \n",
       "href=\"https://fbref.com/en/players/bc7dc64d/matchlogs/2024-2025/possession/Bukayo-Saka-Match-Logs\"&gt;2024-2025&lt;/a&gt;&lt;/l\n",
       "i&gt;\\n          &lt;li&gt;&lt;a \n",
       "href=\"https://fbref.com/en/players/bc7dc64d/matchlogs/nat_tm/possession/Bukayo-Saka-Match-Logs\"&gt;National \n",
       "Team&lt;/a&gt;&lt;/li&gt;\\n        &lt;/ul&gt;&lt;p class=\"listhead\"&gt;Match Logs (Miscellaneous Stats)&lt;/p&gt;\\n        &lt;ul class=\"\"&gt;\\n      \n",
       "&lt;li&gt;&lt;a \n",
       "href=\"https://fbref.com/en/players/bc7dc64d/matchlogs/2018-2019/misc/Bukayo-Saka-Match-Logs\"&gt;2018-2019&lt;/a&gt;&lt;/li&gt;\\n  \n",
       "&lt;li&gt;&lt;a \n",
       "href=\"https://fbref.com/en/players/bc7dc64d/matchlogs/2019-2020/misc/Bukayo-Saka-Match-Logs\"&gt;2019-2020&lt;/a&gt;&lt;/li&gt;\\n  \n",
       "&lt;li&gt;&lt;a \n",
       "href=\"https://fbref.com/en/players/bc7dc64d/matchlogs/2020-2021/misc/Bukayo-Saka-Match-Logs\"&gt;2020-2021&lt;/a&gt;&lt;/li&gt;\\n  \n",
       "&lt;li&gt;&lt;a \n",
       "href=\"https://fbref.com/en/players/bc7dc64d/matchlogs/2021-2022/misc/Bukayo-Saka-Match-Logs\"&gt;2021-2022&lt;/a&gt;&lt;/li&gt;\\n  \n",
       "&lt;li&gt;&lt;a \n",
       "href=\"https://fbref.com/en/players/bc7dc64d/matchlogs/2022-2023/misc/Bukayo-Saka-Match-Logs\"&gt;2022-2023&lt;/a&gt;&lt;/li&gt;\\n  \n",
       "&lt;li&gt;&lt;a \n",
       "href=\"https://fbref.com/en/players/bc7dc64d/matchlogs/2023-2024/misc/Bukayo-Saka-Match-Logs\"&gt;2023-2024&lt;/a&gt;&lt;/li&gt;\\n  \n",
       "&lt;li&gt;&lt;a \n",
       "href=\"https://fbref.com/en/players/bc7dc64d/matchlogs/2024-2025/misc/Bukayo-Saka-Match-Logs\"&gt;2024-2025&lt;/a&gt;&lt;/li&gt;\\n  \n",
       "&lt;li&gt;&lt;a href=\"https://fbref.com/en/players/bc7dc64d/matchlogs/nat_tm/misc/Bukayo-Saka-Match-Logs\"&gt;National \n",
       "Team&lt;/a&gt;&lt;/li&gt;\\n        &lt;/ul&gt;&lt;p class=\"listhead\"&gt;Goal Logs by Competition&lt;/p&gt;\\n        &lt;ul class=\"\"&gt;\\n          \n",
       "&lt;li&gt;&lt;a href=\"https://fbref.com/en/players/bc7dc64d/goallogs/all_comps/Bukayo-Saka-Goal-Log\"&gt;All \n",
       "Competitions&lt;/a&gt;&lt;/li&gt;\\n          &lt;li&gt;&lt;a \n",
       "href=\"https://fbref.com/en/players/bc7dc64d/goallogs/dom_lg/Bukayo-Saka-Goal-Log\"&gt;Domestic Leagues&lt;/a&gt;&lt;/li&gt;\\n      \n",
       "&lt;li&gt;&lt;a href=\"https://fbref.com/en/players/bc7dc64d/goallogs/dom_cup/Bukayo-Saka-Goal-Log\"&gt;Domestic Cups&lt;/a&gt;&lt;/li&gt;\\n \n",
       "&lt;li&gt;&lt;a href=\"https://fbref.com/en/players/bc7dc64d/goallogs/intl_cup/Bukayo-Saka-Goal-Log\"&gt;International \n",
       "Cups&lt;/a&gt;&lt;/li&gt;\\n          &lt;li&gt;&lt;a \n",
       "href=\"https://fbref.com/en/players/bc7dc64d/goallogs/nat_tm/Bukayo-Saka-Goal-Log\"&gt;National Team&lt;/a&gt;&lt;/li&gt;\\n        \n",
       "&lt;/ul&gt;&lt;p class=\"listhead\"&gt;Scouting Report&lt;/p&gt;\\n        &lt;ul class=\"\"&gt;\\n          &lt;li&gt;&lt;a \n",
       "href=\"https://fbref.com/en/players/bc7dc64d/scout/365_m1/Bukayo-Saka-Scouting-Report\"&gt;Last 365 Days Men\\'s Big 5 \n",
       "Leagues, UCL, UEL&lt;/a&gt;&lt;/li&gt;\\n          &lt;li&gt;&lt;a \n",
       "href=\"https://fbref.com/en/players/bc7dc64d/scout/12524/Bukayo-Saka-Scouting-Report\"&gt;2024-2025 Premier \n",
       "League&lt;/a&gt;&lt;/li&gt;\\n          &lt;li&gt;&lt;a \n",
       "href=\"https://fbref.com/en/players/bc7dc64d/scout/12623/Bukayo-Saka-Scouting-Report\"&gt;2024-2025 Champions \n",
       "League&lt;/a&gt;&lt;/li&gt;\\n          &lt;li&gt;&lt;a \n",
       "href=\"https://fbref.com/en/players/bc7dc64d/scout/10279/Bukayo-Saka-Scouting-Report\"&gt;2024 UEFA Euro 2024&lt;/a&gt;&lt;/li&gt;\\n\n",
       "&lt;li&gt;&lt;a href=\"https://fbref.com/en/players/bc7dc64d/scout/11835/Bukayo-Saka-Scouting-Report\"&gt;2023-2024 Champions \n",
       "League&lt;/a&gt;&lt;/li&gt;\\n          &lt;li&gt;&lt;a \n",
       "href=\"https://fbref.com/en/players/bc7dc64d/scout/12192/Bukayo-Saka-Scouting-Report\"&gt;2023-2024 Premier \n",
       "League&lt;/a&gt;&lt;/li&gt;\\n          &lt;li&gt;&lt;a \n",
       "href=\"https://fbref.com/en/players/bc7dc64d/scout/11455/Bukayo-Saka-Scouting-Report\"&gt;2022-2023 Europa \n",
       "League&lt;/a&gt;&lt;/li&gt;\\n          &lt;li&gt;&lt;a \n",
       "href=\"https://fbref.com/en/players/bc7dc64d/scout/11566/Bukayo-Saka-Scouting-Report\"&gt;2022-2023 Premier \n",
       "League&lt;/a&gt;&lt;/li&gt;\\n          &lt;li&gt;&lt;a \n",
       "href=\"https://fbref.com/en/players/bc7dc64d/scout/1711/Bukayo-Saka-Scouting-Report\"&gt;2022 World Cup&lt;/a&gt;&lt;/li&gt;\\n      \n",
       "&lt;li&gt;&lt;a href=\"https://fbref.com/en/players/bc7dc64d/scout/11160/Bukayo-Saka-Scouting-Report\"&gt;2021-2022 Premier \n",
       "League&lt;/a&gt;&lt;/li&gt;\\n          &lt;li&gt;&lt;a \n",
       "href=\"https://fbref.com/en/players/bc7dc64d/scout/10278/Bukayo-Saka-Scouting-Report\"&gt;2021 UEFA Euro 2020&lt;/a&gt;&lt;/li&gt;\\n\n",
       "&lt;li&gt;&lt;a href=\"https://fbref.com/en/players/bc7dc64d/scout/10097/Bukayo-Saka-Scouting-Report\"&gt;2020-2021 Europa \n",
       "League&lt;/a&gt;&lt;/li&gt;\\n          &lt;li&gt;&lt;a \n",
       "href=\"https://fbref.com/en/players/bc7dc64d/scout/10728/Bukayo-Saka-Scouting-Report\"&gt;2020-2021 Premier \n",
       "League&lt;/a&gt;&lt;/li&gt;\\n          &lt;li&gt;&lt;a \n",
       "href=\"https://fbref.com/en/players/bc7dc64d/scout/2901/Bukayo-Saka-Scouting-Report\"&gt;2019-2020 Europa \n",
       "League&lt;/a&gt;&lt;/li&gt;\\n          &lt;li&gt;&lt;a \n",
       "href=\"https://fbref.com/en/players/bc7dc64d/scout/3232/Bukayo-Saka-Scouting-Report\"&gt;2019-2020 Premier \n",
       "League&lt;/a&gt;&lt;/li&gt;\\n        &lt;/ul&gt;&lt;p class=\"listhead\"&gt;Stathead &amp;amp; Player Comparison&lt;/p&gt;\\n        &lt;ul class=\"\"&gt;\\n    \n",
       "&lt;li&gt;&lt;a \n",
       "href=\"https://stathead.com/fbref/player-match-finder.cgi?player_id=bc7dc64d&amp;amp;comp_gender=m&amp;amp;utm_source=fb&amp;amp\n",
       ";utm_medium=sr_xsite&amp;amp;utm_campaign=2023_11_player_innernav_stathead\"&gt;Player Match Finder&lt;/a&gt;&lt;/li&gt;\\n          \n",
       "&lt;li&gt;&lt;a \n",
       "href=\"https://stathead.com/fbref/player-season-finder.cgi?player_id=bc7dc64d&amp;amp;comp_gender=m&amp;amp;utm_source=fb&amp;am\n",
       "p;utm_medium=sr_xsite&amp;amp;utm_campaign=2023_11_player_innernav_stathead\"&gt;Player Season Finder&lt;/a&gt;&lt;/li&gt;\\n          \n",
       "&lt;li&gt;&lt;a \n",
       "href=\"https://fbref.com/en/stathead/player_comparison.cgi?show_form=1&amp;amp;request=1&amp;amp;sum=0&amp;amp;comp_type=by_type\n",
       "&amp;amp;dom_lg=1&amp;amp;player_id1=bc7dc64d&amp;amp;p1yrfrom=2024-2025&amp;amp;player_id2=de112b84&amp;amp;p2yrfrom=2024-2025&amp;amp;pla\n",
       "yer_id3=8236f673&amp;amp;p3yrfrom=2024-2025&amp;amp;player_id4=d781d855&amp;amp;p4yrfrom=2024-2025&amp;amp;player_id5=f36d5624&amp;amp;\n",
       "p5yrfrom=2024-2025&amp;amp;player_id6=0313a347&amp;amp;p6yrfrom=2024-2025\"&gt;Player Comparison&lt;/a&gt;&lt;/li&gt;\\n        \n",
       "&lt;/ul&gt;&lt;/div&gt;&lt;/div&gt;\\n\\n   \\n\\n\\n&lt;!-- fs_footer --&gt;\\n&lt;div class=\"adblock\"&gt;\\n&lt;!-- div#fs_fs_footer  --&gt;\\n&lt;div \n",
       "align=\"center\" id=\"div-gpt-ad-728x90-Footer\" data-freestar-ad=\"__300x250 __970x90\"&gt;\\n  \\n&lt;/div&gt;\\n&lt;!-- \n",
       "/div.#fs_fs_footer --&gt;\\n\\n&lt;/div&gt;\\n\\n\\n\\n\\n\\n\\n&lt;/div&gt;&lt;!-- div#content --&gt;\\n\\n&lt;!-- div#footer --&gt;\\n\\n&lt;/div&gt;&lt;!-- \n",
       "div#wrap --&gt;\\n\\n\\n\\n\\n&lt;!-- rails --&gt;\\n\\n&lt;div class=\"adblock rails  left\" style=\"left: 400px;\"&gt;&lt;!-- \n",
       "div#fs_fs_rails_left  --&gt;\\n&lt;div align=\"center\" id=\"div-gpt-ad-160x600-1\" data-freestar-ad=\"\"&gt;\\n  \\n&lt;/div&gt;\\n&lt;!-- \n",
       "/div.#fs_fs_rails_left --&gt;\\n&lt;/div&gt;\\n&lt;div class=\"adblock rails right\" style=\"right: 400px;\"&gt;&lt;!-- \n",
       "div#fs_fs_rails_right  --&gt;\\n&lt;div align=\"center\" id=\"div-gpt-ad-160x600-2\" data-freestar-ad=\"\"&gt;\\n  \\n&lt;/div&gt;\\n&lt;!-- \n",
       "/div.#fs_fs_rails_right --&gt;\\n&lt;/div&gt;\\n\\n\\n&lt;!-- sr_gender is used in Templates/Assets/GoogleAnalytics.tt2 --&gt;\\n\\n&lt;!--\n",
       "Google Analytics --&gt;\\n&lt;!-- Google Analytics UA,  UA-1890630-23 --&gt;\\n&lt;!-- Google Analytics GA4, G-T897NZ0GWZ \n",
       "--&gt;\\n&lt;!-- Google Tag Manager --&gt;  &lt;!-- End Google Tag Manager --&gt; &lt;!-- Google Tag Manager (noscript) --&gt;  &lt;!-- End \n",
       "Google Tag Manager (noscript) --&gt;\\n\\n&lt;!-- End Google Analytics --&gt;\\n\\n&lt;!-- Start of HubSpot Embed Code --&gt;\\n\\n&lt;!-- \n",
       "End of HubSpot Embed Code --&gt;\\n\\n\\n\\n\\n\\n\\n\\n\\n\\n\\n&lt;div class=\"go2933276541 go2369186930\" \n",
       "id=\"hs-web-interactives-top-anchor\"&gt;&lt;div id=\"hs-interactives-modal-overlay\" class=\"go1632949049\"&gt;&lt;/div&gt;&lt;/div&gt;\\n&lt;div\n",
       "class=\"go2933276541 go1348078617\" id=\"hs-web-interactives-bottom-anchor\"&gt;&lt;/div&gt;\\n&lt;div \n",
       "id=\"hs-web-interactives-floating-container\"&gt;\\n  &lt;div id=\"hs-web-interactives-floating-top-left-anchor\" \n",
       "class=\"go2417249464 go613305155\"&gt;\\n  &lt;/div&gt;\\n  &lt;div id=\"hs-web-interactives-floating-top-right-anchor\" \n",
       "class=\"go2417249464 go471583506\"&gt;\\n  &lt;/div&gt;\\n  &lt;div id=\"hs-web-interactives-floating-bottom-left-anchor\" \n",
       "class=\"go2417249464 go3921366393\"&gt;\\n  &lt;/div&gt;\\n  &lt;div id=\"hs-web-interactives-floating-bottom-right-anchor\" \n",
       "class=\"go2417249464 go3967842156\"&gt;\\n  &lt;/div&gt;\\n&lt;/div&gt;\\n&lt;div id=\"modal-overlay\" style=\"visibility: \n",
       "hidden;\"&gt;&lt;/div&gt;&lt;div id=\"modal-container\" style=\"visibility: hidden;\"&gt;&lt;div id=\"modal-header\"&gt;&lt;div id=\"modal-close\" \n",
       "class=\"closer\" aria-label=\"Close in-page popup window\"&gt;&lt;/div&gt;&lt;/div&gt;&lt;div id=\"modal-content\"&gt;&lt;/div&gt;&lt;div \n",
       "id=\"modal-loading\"&gt;&lt;/div&gt;&lt;/div&gt;&lt;/body&gt;&lt;!-- SR --&gt;&lt;/html&gt;' rawHtml=None links=None extract=None json=&lt;function \n",
       "BaseModel.json at 0x112d9bce0&gt; screenshot=None metadata={'favicon': \n",
       "'https://cdn.ssref.net/req/202505152/favicons/fb/favicon-48.png', 'sr-web-model': \n",
       "'SRlocal::Models::Web::Players::Front', 'og:type': '    Athlete', 'fb:app_id': '', 'ogSiteName': 'FBref.com', \n",
       "'twitter:creator': '@FBref', 'ogTitle': 'Bukayo Saka Stats, Goals, Records, Assists, Cups and more | FBref.com', \n",
       "'revised': '22:45:19 17-May-2025', 'apple-mobile-web-app-capable': 'no', 'ogImage': \n",
       "'http://cdn.ssref.net/scripts/image_resize.cgi?min=200&amp;url=https://fbref.com/req/202302030/images/headshots/bc7dc64\n",
       "d_2022.jpg', 'HandheldFriendly': ['True', 'True'], 'ogUrl': 'https://fbref.com/en/players/bc7dc64d/Bukayo-Saka', \n",
       "'msapplication-navbutton-color': '4d383b', 'apple-mobile-web-app-status-bar-style': '4d383b', 'og:description': \n",
       "\"Check out the latest domestic and international stats, match logs, goals, height, weight and more for Bukayo Saka \n",
       "playing for Arsenal FC, England men's national team and Arsenal FC U23 in the Premier League, Champions League and \n",
       "UEFA Euro\", 'format-detection': 'telephone=no', 'generated-by': '/home/fb/deploy/www/base_en/players/player.fcgi', \n",
       "'theme-color': '4d383b', 'og:title': 'Bukayo Saka Stats, Goals, Records, Assists, Cups and more | FBref.com', \n",
       "'msapplication-TileImage': 'https://cdn.ssref.net/req/202505152/favicons/fb/ms-tile-144.png', 'language': 'en', \n",
       "'title': 'Bukayo Saka Stats, Goals, Records, Assists, Cups and more | FBref.com', 'og:site_name': 'FBref.com', \n",
       "'ogDescription': \"Check out the latest domestic and international stats, match logs, goals, height, weight and more\n",
       "for Bukayo Saka playing for Arsenal FC, England men's national team and Arsenal FC U23 in the Premier League, \n",
       "Champions League and UEFA Euro\", 'twitter:domain': 'FBref.com', 'og:url': \n",
       "'https://fbref.com/en/players/bc7dc64d/Bukayo-Saka', 'twitter:image': \n",
       "'http://cdn.ssref.net/scripts/image_resize.cgi?min=200&amp;url=https://fbref.com/req/202302030/images/headshots/bc7dc64\n",
       "d_2022.jpg', 'Description': \"Check out the latest domestic and international stats, match logs, goals, height, \n",
       "weight and more for Bukayo Saka playing for Arsenal FC, England men's national team and Arsenal FC U23 in the \n",
       "Premier League, Champions League and UEFA Euro\", 'mobile-web-app-capable': 'yes', 'keywords': '', 'twitter:card': \n",
       "'summary', 'twitter:site': '@FBref', 'referrer': 'unsafe-url', 'viewport': 'width=device-width, initial-scale=1.0, \n",
       "maximum-scale=2.0', 'msapplication-TileColor': '#04376c', 'og:image': \n",
       "'http://cdn.ssref.net/scripts/image_resize.cgi?min=200&amp;url=https://fbref.com/req/202302030/images/headshots/bc7dc64\n",
       "d_2022.jpg', 'scrapeId': '34800906-a5f6-4932-8b77-35d1d9066d11', 'sourceURL': \n",
       "'https://fbref.com/en/search/search.fcgi?search=bukayo+saka', 'url': \n",
       "'https://fbref.com/en/players/bc7dc64d/Bukayo-Saka', 'statusCode': 200} actions=None title=None description=None \n",
       "changeTracking=None success=True warning=None error=None\n",
       "\n",
       "Out: None\n",
       "</pre>\n"
      ],
      "text/plain": [
       "\u001b[1mExecution logs:\u001b[0m\n",
       "url=None markdown=\"Opens in a new windowOpens an external websiteOpens an external website in a new window\\n\\nClose\n",
       "this dialog\\n\\nThis website utilizes technologies such as cookies to enable essential site functionality, as well \n",
       "as for analytics, personalization, and targeted advertising. To learn more, view the following link: [Privacy \n",
       "Policy](https://www.sports-reference.com/privacy.html)\\n\\nManage Preferences\\n\\nClose Cookie \n",
       "Preferences\\n\\nWelcome, football fans from around the world!\\n\\nUse FBref \n",
       "in:\\n\\n[Português](https://fbref.com/pt/players/bc7dc64d/Bukayo-Saka)\\n· \n",
       "[Français](https://fbref.com/fr/players/bc7dc64d/Bukayo-Saka)\\n· \n",
       "[Deutsch](https://fbref.com/de/players/bc7dc64d/Bukayo-Saka)\\n· \n",
       "[Italiano](https://fbref.com/it/players/bc7dc64d/Bukayo-Saka)\\n· \n",
       "[Español](https://fbref.com/es/players/bc7dc64d/Bukayo-Saka)\\n· \n",
       "[English](https://fbref.com/en/players/bc7dc64d/Bukayo-Saka)\\n\\nWe're hiring! Join our team as a Senior Test \n",
       "Engineer. [Apply here](https://sports-reference-llc.breezy.hr/p/54f6a295cde1-senior-test-engineer).\\n\\n![Bukayo \n",
       "Saka headshot](https://fbref.com/req/202302030/images/headshots/bc7dc64d_2022.jpg)\\n\\n# Bukayo Saka\\n\\n**Bukayo \n",
       "Ayoyinka T.M. Saka**\\n\\n**Position:** DF-FW-MF (AM, right)\\xa0▪\\xa0 **Footed:** \n",
       "Left\\n\\n178cm,\\xa064kg\\xa0(5-10,\\xa0143lb)\\n\\n**Born:**\\nSeptember 5, 2001\\n(Age:\\xa023-255d)\\n\\nin Ealing, \n",
       "England, United Kingdom\\n\\neng\\n\\n**National Team:** [England](https://fbref.com/en/country/ENG/England-Football) \n",
       "eng\\n\\n**Club:** [Arsenal](https://fbref.com/en/squads/18bb7c10/Arsenal-Stats)\\n\\n**Wages**:\\n[￡ 195,000 \n",
       "Weekly](https://fbref.com/en/players/bc7dc64d/Bukayo-Saka#all_wages)\\nExpires June 2027. Via \n",
       "[Capology](https://www.capology.com/).\\n\\n\\n**Instagram:** \n",
       "[@bukayosaka87](https://instagram.com/bukayosaka87/)\\n\\n[Become a Stathead & surf this site \n",
       "ad-free.](https://stathead.com/?ref=fb&utm_source=fb&utm_medium=sr_xsite&utm_campaign=2024_04_23_adfree_callouts)\\n\n",
       "\\n**2024-2025**\\n\\n**Premier League**\\n\\n**Champions \n",
       "Lg**\\n\\n**MP**\\n\\n23\\n\\n9\\n\\n**Min**\\n\\n1626\\n\\n760\\n\\n**Gls**\\n\\n6\\n\\n6\\n\\n**Ast**\\n\\n10\\n\\n2\\n\\n**xG**\\n\\n6.7\\n\\n\n",
       "4.4\\n\\n**npxG**\\n\\n5.9\\n\\n2.9\\n\\n**xAG**\\n\\n7.0\\n\\n3.3\\n\\n**SCA**\\n\\n109\\n\\n31\\n\\n**GCA**\\n\\n22\\n\\n7\\n\\n\\\\\\\\* see \n",
       "our [coverage note](https://fbref.com/en/players/bc7dc64d/Bukayo-Saka#coverage)\\n\\n- [Bukayo Saka \n",
       "Overview](https://fbref.com/en/players/bc7dc64d/Bukayo-Saka)\\n- More Bukayo Saka Pages\\n\\n\\nStats by \n",
       "Competition\\n\\n\\n\\n- [All \n",
       "Competitions](https://fbref.com/en/players/bc7dc64d/all_comps/Bukayo-Saka-Stats---All-Competitions)\\n- [Domestic \n",
       "Leagues](https://fbref.com/en/players/bc7dc64d/dom_lg/Bukayo-Saka-Domestic-League-Stats)\\n- [Domestic \n",
       "Cups](https://fbref.com/en/players/bc7dc64d/dom_cup/Bukayo-Saka-Domestic-Cup-Stats)\\n- [International \n",
       "Cups](https://fbref.com/en/players/bc7dc64d/intl_cup/Bukayo-Saka-International-Cup-Stats)\\n- [National \n",
       "Team](https://fbref.com/en/players/bc7dc64d/nat_tm/Bukayo-Saka-National-Team-Stats)\\n\\nMatch Logs (Summary)\\n\\n- \n",
       "[2018-2019](https://fbref.com/en/players/bc7dc64d/matchlogs/2018-2019/summary/Bukayo-Saka-Match-Logs)\\n- \n",
       "[2019-2020](https://fbref.com/en/players/bc7dc64d/matchlogs/2019-2020/summary/Bukayo-Saka-Match-Logs)\\n- \n",
       "[2020-2021](https://fbref.com/en/players/bc7dc64d/matchlogs/2020-2021/summary/Bukayo-Saka-Match-Logs)\\n- \n",
       "[2021-2022](https://fbref.com/en/players/bc7dc64d/matchlogs/2021-2022/summary/Bukayo-Saka-Match-Logs)\\n- \n",
       "[2022-2023](https://fbref.com/en/players/bc7dc64d/matchlogs/2022-2023/summary/Bukayo-Saka-Match-Logs)\\n- \n",
       "[2023-2024](https://fbref.com/en/players/bc7dc64d/matchlogs/2023-2024/summary/Bukayo-Saka-Match-Logs)\\n- \n",
       "[2024-2025](https://fbref.com/en/players/bc7dc64d/matchlogs/2024-2025/summary/Bukayo-Saka-Match-Logs)\\n- [National \n",
       "Team](https://fbref.com/en/players/bc7dc64d/matchlogs/nat_tm/summary/Bukayo-Saka-Match-Logs)\\n\\nMatch Logs \n",
       "(Passing)\\n\\n- \n",
       "[2018-2019](https://fbref.com/en/players/bc7dc64d/matchlogs/2018-2019/passing/Bukayo-Saka-Match-Logs)\\n- \n",
       "[2019-2020](https://fbref.com/en/players/bc7dc64d/matchlogs/2019-2020/passing/Bukayo-Saka-Match-Logs)\\n- \n",
       "[2020-2021](https://fbref.com/en/players/bc7dc64d/matchlogs/2020-2021/passing/Bukayo-Saka-Match-Logs)\\n- \n",
       "[2021-2022](https://fbref.com/en/players/bc7dc64d/matchlogs/2021-2022/passing/Bukayo-Saka-Match-Logs)\\n- \n",
       "[2022-2023](https://fbref.com/en/players/bc7dc64d/matchlogs/2022-2023/passing/Bukayo-Saka-Match-Logs)\\n- \n",
       "[2023-2024](https://fbref.com/en/players/bc7dc64d/matchlogs/2023-2024/passing/Bukayo-Saka-Match-Logs)\\n- \n",
       "[2024-2025](https://fbref.com/en/players/bc7dc64d/matchlogs/2024-2025/passing/Bukayo-Saka-Match-Logs)\\n- [National \n",
       "Team](https://fbref.com/en/players/bc7dc64d/matchlogs/nat_tm/passing/Bukayo-Saka-Match-Logs)\\n\\nMatch Logs (Pass \n",
       "Types)\\n\\n- \n",
       "[2018-2019](https://fbref.com/en/players/bc7dc64d/matchlogs/2018-2019/passing_types/Bukayo-Saka-Match-Logs)\\n- \n",
       "[2019-2020](https://fbref.com/en/players/bc7dc64d/matchlogs/2019-2020/passing_types/Bukayo-Saka-Match-Logs)\\n- \n",
       "[2020-2021](https://fbref.com/en/players/bc7dc64d/matchlogs/2020-2021/passing_types/Bukayo-Saka-Match-Logs)\\n- \n",
       "[2021-2022](https://fbref.com/en/players/bc7dc64d/matchlogs/2021-2022/passing_types/Bukayo-Saka-Match-Logs)\\n- \n",
       "[2022-2023](https://fbref.com/en/players/bc7dc64d/matchlogs/2022-2023/passing_types/Bukayo-Saka-Match-Logs)\\n- \n",
       "[2023-2024](https://fbref.com/en/players/bc7dc64d/matchlogs/2023-2024/passing_types/Bukayo-Saka-Match-Logs)\\n- \n",
       "[2024-2025](https://fbref.com/en/players/bc7dc64d/matchlogs/2024-2025/passing_types/Bukayo-Saka-Match-Logs)\\n- \n",
       "[National \n",
       "Team](https://fbref.com/en/players/bc7dc64d/matchlogs/nat_tm/passing_types/Bukayo-Saka-Match-Logs)\\n\\nMatch Logs \n",
       "(Goal and Shot Creation)\\n\\n- \n",
       "[2018-2019](https://fbref.com/en/players/bc7dc64d/matchlogs/2018-2019/gca/Bukayo-Saka-Match-Logs)\\n- \n",
       "[2019-2020](https://fbref.com/en/players/bc7dc64d/matchlogs/2019-2020/gca/Bukayo-Saka-Match-Logs)\\n- \n",
       "[2020-2021](https://fbref.com/en/players/bc7dc64d/matchlogs/2020-2021/gca/Bukayo-Saka-Match-Logs)\\n- \n",
       "[2021-2022](https://fbref.com/en/players/bc7dc64d/matchlogs/2021-2022/gca/Bukayo-Saka-Match-Logs)\\n- \n",
       "[2022-2023](https://fbref.com/en/players/bc7dc64d/matchlogs/2022-2023/gca/Bukayo-Saka-Match-Logs)\\n- \n",
       "[2023-2024](https://fbref.com/en/players/bc7dc64d/matchlogs/2023-2024/gca/Bukayo-Saka-Match-Logs)\\n- \n",
       "[2024-2025](https://fbref.com/en/players/bc7dc64d/matchlogs/2024-2025/gca/Bukayo-Saka-Match-Logs)\\n- [National \n",
       "Team](https://fbref.com/en/players/bc7dc64d/matchlogs/nat_tm/gca/Bukayo-Saka-Match-Logs)\\n\\nMatch Logs (Defensive \n",
       "Actions)\\n\\n- \n",
       "[2018-2019](https://fbref.com/en/players/bc7dc64d/matchlogs/2018-2019/defense/Bukayo-Saka-Match-Logs)\\n- \n",
       "[2019-2020](https://fbref.com/en/players/bc7dc64d/matchlogs/2019-2020/defense/Bukayo-Saka-Match-Logs)\\n- \n",
       "[2020-2021](https://fbref.com/en/players/bc7dc64d/matchlogs/2020-2021/defense/Bukayo-Saka-Match-Logs)\\n- \n",
       "[2021-2022](https://fbref.com/en/players/bc7dc64d/matchlogs/2021-2022/defense/Bukayo-Saka-Match-Logs)\\n- \n",
       "[2022-2023](https://fbref.com/en/players/bc7dc64d/matchlogs/2022-2023/defense/Bukayo-Saka-Match-Logs)\\n- \n",
       "[2023-2024](https://fbref.com/en/players/bc7dc64d/matchlogs/2023-2024/defense/Bukayo-Saka-Match-Logs)\\n- \n",
       "[2024-2025](https://fbref.com/en/players/bc7dc64d/matchlogs/2024-2025/defense/Bukayo-Saka-Match-Logs)\\n- [National \n",
       "Team](https://fbref.com/en/players/bc7dc64d/matchlogs/nat_tm/defense/Bukayo-Saka-Match-Logs)\\n\\nMatch Logs \n",
       "(Possession)\\n\\n- \n",
       "[2018-2019](https://fbref.com/en/players/bc7dc64d/matchlogs/2018-2019/possession/Bukayo-Saka-Match-Logs)\\n- \n",
       "[2019-2020](https://fbref.com/en/players/bc7dc64d/matchlogs/2019-2020/possession/Bukayo-Saka-Match-Logs)\\n- \n",
       "[2020-2021](https://fbref.com/en/players/bc7dc64d/matchlogs/2020-2021/possession/Bukayo-Saka-Match-Logs)\\n- \n",
       "[2021-2022](https://fbref.com/en/players/bc7dc64d/matchlogs/2021-2022/possession/Bukayo-Saka-Match-Logs)\\n- \n",
       "[2022-2023](https://fbref.com/en/players/bc7dc64d/matchlogs/2022-2023/possession/Bukayo-Saka-Match-Logs)\\n- \n",
       "[2023-2024](https://fbref.com/en/players/bc7dc64d/matchlogs/2023-2024/possession/Bukayo-Saka-Match-Logs)\\n- \n",
       "[2024-2025](https://fbref.com/en/players/bc7dc64d/matchlogs/2024-2025/possession/Bukayo-Saka-Match-Logs)\\n- \n",
       "[National Team](https://fbref.com/en/players/bc7dc64d/matchlogs/nat_tm/possession/Bukayo-Saka-Match-Logs)\\n\\nMatch \n",
       "Logs (Miscellaneous Stats)\\n\\n- \n",
       "[2018-2019](https://fbref.com/en/players/bc7dc64d/matchlogs/2018-2019/misc/Bukayo-Saka-Match-Logs)\\n- \n",
       "[2019-2020](https://fbref.com/en/players/bc7dc64d/matchlogs/2019-2020/misc/Bukayo-Saka-Match-Logs)\\n- \n",
       "[2020-2021](https://fbref.com/en/players/bc7dc64d/matchlogs/2020-2021/misc/Bukayo-Saka-Match-Logs)\\n- \n",
       "[2021-2022](https://fbref.com/en/players/bc7dc64d/matchlogs/2021-2022/misc/Bukayo-Saka-Match-Logs)\\n- \n",
       "[2022-2023](https://fbref.com/en/players/bc7dc64d/matchlogs/2022-2023/misc/Bukayo-Saka-Match-Logs)\\n- \n",
       "[2023-2024](https://fbref.com/en/players/bc7dc64d/matchlogs/2023-2024/misc/Bukayo-Saka-Match-Logs)\\n- \n",
       "[2024-2025](https://fbref.com/en/players/bc7dc64d/matchlogs/2024-2025/misc/Bukayo-Saka-Match-Logs)\\n- [National \n",
       "Team](https://fbref.com/en/players/bc7dc64d/matchlogs/nat_tm/misc/Bukayo-Saka-Match-Logs)\\n\\nGoal Logs by \n",
       "Competition\\n\\n- [All \n",
       "Competitions](https://fbref.com/en/players/bc7dc64d/goallogs/all_comps/Bukayo-Saka-Goal-Log)\\n- [Domestic \n",
       "Leagues](https://fbref.com/en/players/bc7dc64d/goallogs/dom_lg/Bukayo-Saka-Goal-Log)\\n- [Domestic \n",
       "Cups](https://fbref.com/en/players/bc7dc64d/goallogs/dom_cup/Bukayo-Saka-Goal-Log)\\n- [International \n",
       "Cups](https://fbref.com/en/players/bc7dc64d/goallogs/intl_cup/Bukayo-Saka-Goal-Log)\\n- [National \n",
       "Team](https://fbref.com/en/players/bc7dc64d/goallogs/nat_tm/Bukayo-Saka-Goal-Log)\\n\\nScouting Report\\n\\n- [Last 365\n",
       "Days Men's Big 5 Leagues, UCL, \n",
       "UEL](https://fbref.com/en/players/bc7dc64d/scout/365_m1/Bukayo-Saka-Scouting-Report)\\n- [2024-2025 Premier \n",
       "League](https://fbref.com/en/players/bc7dc64d/scout/12524/Bukayo-Saka-Scouting-Report)\\n- [2024-2025 Champions \n",
       "League](https://fbref.com/en/players/bc7dc64d/scout/12623/Bukayo-Saka-Scouting-Report)\\n- [2024 UEFA Euro \n",
       "2024](https://fbref.com/en/players/bc7dc64d/scout/10279/Bukayo-Saka-Scouting-Report)\\n- [2023-2024 Champions \n",
       "League](https://fbref.com/en/players/bc7dc64d/scout/11835/Bukayo-Saka-Scouting-Report)\\n- [2023-2024 Premier \n",
       "League](https://fbref.com/en/players/bc7dc64d/scout/12192/Bukayo-Saka-Scouting-Report)\\n- [2022-2023 Europa \n",
       "League](https://fbref.com/en/players/bc7dc64d/scout/11455/Bukayo-Saka-Scouting-Report)\\n- [2022-2023 Premier \n",
       "League](https://fbref.com/en/players/bc7dc64d/scout/11566/Bukayo-Saka-Scouting-Report)\\n- [2022 World \n",
       "Cup](https://fbref.com/en/players/bc7dc64d/scout/1711/Bukayo-Saka-Scouting-Report)\\n- [2021-2022 Premier \n",
       "League](https://fbref.com/en/players/bc7dc64d/scout/11160/Bukayo-Saka-Scouting-Report)\\n- [2021 UEFA Euro \n",
       "2020](https://fbref.com/en/players/bc7dc64d/scout/10278/Bukayo-Saka-Scouting-Report)\\n- [2020-2021 Europa \n",
       "League](https://fbref.com/en/players/bc7dc64d/scout/10097/Bukayo-Saka-Scouting-Report)\\n- [2020-2021 Premier \n",
       "League](https://fbref.com/en/players/bc7dc64d/scout/10728/Bukayo-Saka-Scouting-Report)\\n- [2019-2020 Europa \n",
       "League](https://fbref.com/en/players/bc7dc64d/scout/2901/Bukayo-Saka-Scouting-Report)\\n- [2019-2020 Premier \n",
       "League](https://fbref.com/en/players/bc7dc64d/scout/3232/Bukayo-Saka-Scouting-Report)\\n\\nStathead & Player \n",
       "Comparison\\n\\n- [Player Match \n",
       "Finder](https://stathead.com/fbref/player-match-finder.cgi?player_id=bc7dc64d&comp_gender=m&utm_source=fb&utm_mediu\n",
       "m=sr_xsite&utm_campaign=2023_11_player_innernav_stathead)\\n- [Player Season \n",
       "Finder](https://stathead.com/fbref/player-season-finder.cgi?player_id=bc7dc64d&comp_gender=m&utm_source=fb&utm_medi\n",
       "um=sr_xsite&utm_campaign=2023_11_player_innernav_stathead)\\n- [Player \n",
       "Comparison](https://fbref.com/en/stathead/player_comparison.cgi?show_form=1&request=1&sum=0&comp_type=by_type&dom_l\n",
       "g=1&player_id1=bc7dc64d&p1yrfrom=2024-2025&player_id2=de112b84&p2yrfrom=2024-2025&player_id3=8236f673&p3yrfrom=2024\n",
       "-2025&player_id4=d781d855&p4yrfrom=2024-2025&player_id5=f36d5624&p5yrfrom=2024-2025&player_id6=0313a347&p6yrfrom=20\n",
       "24-2025)\\n\\n- Stats by Competition\\n\\n\\nStats by Competition\\n\\n\\n\\n- [All \n",
       "Competitions](https://fbref.com/en/players/bc7dc64d/all_comps/Bukayo-Saka-Stats---All-Competitions)\\n- [Domestic \n",
       "Leagues](https://fbref.com/en/players/bc7dc64d/dom_lg/Bukayo-Saka-Domestic-League-Stats)\\n- [Domestic \n",
       "Cups](https://fbref.com/en/players/bc7dc64d/dom_cup/Bukayo-Saka-Domestic-Cup-Stats)\\n- [International \n",
       "Cups](https://fbref.com/en/players/bc7dc64d/intl_cup/Bukayo-Saka-International-Cup-Stats)\\n- [National \n",
       "Team](https://fbref.com/en/players/bc7dc64d/nat_tm/Bukayo-Saka-National-Team-Stats)\\n\\n- Match Logs\\n\\n\\nMatch Logs\n",
       "(Summary)\\n\\n\\n\\n- \n",
       "[2018-2019](https://fbref.com/en/players/bc7dc64d/matchlogs/2018-2019/summary/Bukayo-Saka-Match-Logs)\\n- \n",
       "[2019-2020](https://fbref.com/en/players/bc7dc64d/matchlogs/2019-2020/summary/Bukayo-Saka-Match-Logs)\\n- \n",
       "[2020-2021](https://fbref.com/en/players/bc7dc64d/matchlogs/2020-2021/summary/Bukayo-Saka-Match-Logs)\\n- \n",
       "[2021-2022](https://fbref.com/en/players/bc7dc64d/matchlogs/2021-2022/summary/Bukayo-Saka-Match-Logs)\\n- \n",
       "[2022-2023](https://fbref.com/en/players/bc7dc64d/matchlogs/2022-2023/summary/Bukayo-Saka-Match-Logs)\\n- \n",
       "[2023-2024](https://fbref.com/en/players/bc7dc64d/matchlogs/2023-2024/summary/Bukayo-Saka-Match-Logs)\\n- \n",
       "[2024-2025](https://fbref.com/en/players/bc7dc64d/matchlogs/2024-2025/summary/Bukayo-Saka-Match-Logs)\\n- [National \n",
       "Team](https://fbref.com/en/players/bc7dc64d/matchlogs/nat_tm/summary/Bukayo-Saka-Match-Logs)\\n\\nMatch Logs \n",
       "(Passing)\\n\\n- \n",
       "[2018-2019](https://fbref.com/en/players/bc7dc64d/matchlogs/2018-2019/passing/Bukayo-Saka-Match-Logs)\\n- \n",
       "[2019-2020](https://fbref.com/en/players/bc7dc64d/matchlogs/2019-2020/passing/Bukayo-Saka-Match-Logs)\\n- \n",
       "[2020-2021](https://fbref.com/en/players/bc7dc64d/matchlogs/2020-2021/passing/Bukayo-Saka-Match-Logs)\\n- \n",
       "[2021-2022](https://fbref.com/en/players/bc7dc64d/matchlogs/2021-2022/passing/Bukayo-Saka-Match-Logs)\\n- \n",
       "[2022-2023](https://fbref.com/en/players/bc7dc64d/matchlogs/2022-2023/passing/Bukayo-Saka-Match-Logs)\\n- \n",
       "[2023-2024](https://fbref.com/en/players/bc7dc64d/matchlogs/2023-2024/passing/Bukayo-Saka-Match-Logs)\\n- \n",
       "[2024-2025](https://fbref.com/en/players/bc7dc64d/matchlogs/2024-2025/passing/Bukayo-Saka-Match-Logs)\\n- [National \n",
       "Team](https://fbref.com/en/players/bc7dc64d/matchlogs/nat_tm/passing/Bukayo-Saka-Match-Logs)\\n\\nMatch Logs (Pass \n",
       "Types)\\n\\n- \n",
       "[2018-2019](https://fbref.com/en/players/bc7dc64d/matchlogs/2018-2019/passing_types/Bukayo-Saka-Match-Logs)\\n- \n",
       "[2019-2020](https://fbref.com/en/players/bc7dc64d/matchlogs/2019-2020/passing_types/Bukayo-Saka-Match-Logs)\\n- \n",
       "[2020-2021](https://fbref.com/en/players/bc7dc64d/matchlogs/2020-2021/passing_types/Bukayo-Saka-Match-Logs)\\n- \n",
       "[2021-2022](https://fbref.com/en/players/bc7dc64d/matchlogs/2021-2022/passing_types/Bukayo-Saka-Match-Logs)\\n- \n",
       "[2022-2023](https://fbref.com/en/players/bc7dc64d/matchlogs/2022-2023/passing_types/Bukayo-Saka-Match-Logs)\\n- \n",
       "[2023-2024](https://fbref.com/en/players/bc7dc64d/matchlogs/2023-2024/passing_types/Bukayo-Saka-Match-Logs)\\n- \n",
       "[2024-2025](https://fbref.com/en/players/bc7dc64d/matchlogs/2024-2025/passing_types/Bukayo-Saka-Match-Logs)\\n- \n",
       "[National \n",
       "Team](https://fbref.com/en/players/bc7dc64d/matchlogs/nat_tm/passing_types/Bukayo-Saka-Match-Logs)\\n\\nMatch Logs \n",
       "(Goal and Shot Creation)\\n\\n- \n",
       "[2018-2019](https://fbref.com/en/players/bc7dc64d/matchlogs/2018-2019/gca/Bukayo-Saka-Match-Logs)\\n- \n",
       "[2019-2020](https://fbref.com/en/players/bc7dc64d/matchlogs/2019-2020/gca/Bukayo-Saka-Match-Logs)\\n- \n",
       "[2020-2021](https://fbref.com/en/players/bc7dc64d/matchlogs/2020-2021/gca/Bukayo-Saka-Match-Logs)\\n- \n",
       "[2021-2022](https://fbref.com/en/players/bc7dc64d/matchlogs/2021-2022/gca/Bukayo-Saka-Match-Logs)\\n- \n",
       "[2022-2023](https://fbref.com/en/players/bc7dc64d/matchlogs/2022-2023/gca/Bukayo-Saka-Match-Logs)\\n- \n",
       "[2023-2024](https://fbref.com/en/players/bc7dc64d/matchlogs/2023-2024/gca/Bukayo-Saka-Match-Logs)\\n- \n",
       "[2024-2025](https://fbref.com/en/players/bc7dc64d/matchlogs/2024-2025/gca/Bukayo-Saka-Match-Logs)\\n- [National \n",
       "Team](https://fbref.com/en/players/bc7dc64d/matchlogs/nat_tm/gca/Bukayo-Saka-Match-Logs)\\n\\nMatch Logs (Defensive \n",
       "Actions)\\n\\n- \n",
       "[2018-2019](https://fbref.com/en/players/bc7dc64d/matchlogs/2018-2019/defense/Bukayo-Saka-Match-Logs)\\n- \n",
       "[2019-2020](https://fbref.com/en/players/bc7dc64d/matchlogs/2019-2020/defense/Bukayo-Saka-Match-Logs)\\n- \n",
       "[2020-2021](https://fbref.com/en/players/bc7dc64d/matchlogs/2020-2021/defense/Bukayo-Saka-Match-Logs)\\n- \n",
       "[2021-2022](https://fbref.com/en/players/bc7dc64d/matchlogs/2021-2022/defense/Bukayo-Saka-Match-Logs)\\n- \n",
       "[2022-2023](https://fbref.com/en/players/bc7dc64d/matchlogs/2022-2023/defense/Bukayo-Saka-Match-Logs)\\n- \n",
       "[2023-2024](https://fbref.com/en/players/bc7dc64d/matchlogs/2023-2024/defense/Bukayo-Saka-Match-Logs)\\n- \n",
       "[2024-2025](https://fbref.com/en/players/bc7dc64d/matchlogs/2024-2025/defense/Bukayo-Saka-Match-Logs)\\n- [National \n",
       "Team](https://fbref.com/en/players/bc7dc64d/matchlogs/nat_tm/defense/Bukayo-Saka-Match-Logs)\\n\\nMatch Logs \n",
       "(Possession)\\n\\n- \n",
       "[2018-2019](https://fbref.com/en/players/bc7dc64d/matchlogs/2018-2019/possession/Bukayo-Saka-Match-Logs)\\n- \n",
       "[2019-2020](https://fbref.com/en/players/bc7dc64d/matchlogs/2019-2020/possession/Bukayo-Saka-Match-Logs)\\n- \n",
       "[2020-2021](https://fbref.com/en/players/bc7dc64d/matchlogs/2020-2021/possession/Bukayo-Saka-Match-Logs)\\n- \n",
       "[2021-2022](https://fbref.com/en/players/bc7dc64d/matchlogs/2021-2022/possession/Bukayo-Saka-Match-Logs)\\n- \n",
       "[2022-2023](https://fbref.com/en/players/bc7dc64d/matchlogs/2022-2023/possession/Bukayo-Saka-Match-Logs)\\n- \n",
       "[2023-2024](https://fbref.com/en/players/bc7dc64d/matchlogs/2023-2024/possession/Bukayo-Saka-Match-Logs)\\n- \n",
       "[2024-2025](https://fbref.com/en/players/bc7dc64d/matchlogs/2024-2025/possession/Bukayo-Saka-Match-Logs)\\n- \n",
       "[National Team](https://fbref.com/en/players/bc7dc64d/matchlogs/nat_tm/possession/Bukayo-Saka-Match-Logs)\\n\\nMatch \n",
       "Logs (Miscellaneous Stats)\\n\\n- \n",
       "[2018-2019](https://fbref.com/en/players/bc7dc64d/matchlogs/2018-2019/misc/Bukayo-Saka-Match-Logs)\\n- \n",
       "[2019-2020](https://fbref.com/en/players/bc7dc64d/matchlogs/2019-2020/misc/Bukayo-Saka-Match-Logs)\\n- \n",
       "[2020-2021](https://fbref.com/en/players/bc7dc64d/matchlogs/2020-2021/misc/Bukayo-Saka-Match-Logs)\\n- \n",
       "[2021-2022](https://fbref.com/en/players/bc7dc64d/matchlogs/2021-2022/misc/Bukayo-Saka-Match-Logs)\\n- \n",
       "[2022-2023](https://fbref.com/en/players/bc7dc64d/matchlogs/2022-2023/misc/Bukayo-Saka-Match-Logs)\\n- \n",
       "[2023-2024](https://fbref.com/en/players/bc7dc64d/matchlogs/2023-2024/misc/Bukayo-Saka-Match-Logs)\\n- \n",
       "[2024-2025](https://fbref.com/en/players/bc7dc64d/matchlogs/2024-2025/misc/Bukayo-Saka-Match-Logs)\\n- [National \n",
       "Team](https://fbref.com/en/players/bc7dc64d/matchlogs/nat_tm/misc/Bukayo-Saka-Match-Logs)\\n\\n- Goal Logs\\n\\n\\nGoal \n",
       "Logs by Competition\\n\\n\\n\\n- [All \n",
       "Competitions](https://fbref.com/en/players/bc7dc64d/goallogs/all_comps/Bukayo-Saka-Goal-Log)\\n- [Domestic \n",
       "Leagues](https://fbref.com/en/players/bc7dc64d/goallogs/dom_lg/Bukayo-Saka-Goal-Log)\\n- [Domestic \n",
       "Cups](https://fbref.com/en/players/bc7dc64d/goallogs/dom_cup/Bukayo-Saka-Goal-Log)\\n- [International \n",
       "Cups](https://fbref.com/en/players/bc7dc64d/goallogs/intl_cup/Bukayo-Saka-Goal-Log)\\n- [National \n",
       "Team](https://fbref.com/en/players/bc7dc64d/goallogs/nat_tm/Bukayo-Saka-Goal-Log)\\n\\n- Scouting \n",
       "Report\\n\\n\\nScouting Report\\n\\n\\n\\n- [Last 365 Days Men's Big 5 Leagues, UCL, \n",
       "UEL](https://fbref.com/en/players/bc7dc64d/scout/365_m1/Bukayo-Saka-Scouting-Report)\\n- [2024-2025 Premier \n",
       "League](https://fbref.com/en/players/bc7dc64d/scout/12524/Bukayo-Saka-Scouting-Report)\\n- [2024-2025 Champions \n",
       "League](https://fbref.com/en/players/bc7dc64d/scout/12623/Bukayo-Saka-Scouting-Report)\\n- [2024 UEFA Euro \n",
       "2024](https://fbref.com/en/players/bc7dc64d/scout/10279/Bukayo-Saka-Scouting-Report)\\n- [2023-2024 Champions \n",
       "League](https://fbref.com/en/players/bc7dc64d/scout/11835/Bukayo-Saka-Scouting-Report)\\n- [2023-2024 Premier \n",
       "League](https://fbref.com/en/players/bc7dc64d/scout/12192/Bukayo-Saka-Scouting-Report)\\n- [2022-2023 Europa \n",
       "League](https://fbref.com/en/players/bc7dc64d/scout/11455/Bukayo-Saka-Scouting-Report)\\n- [2022-2023 Premier \n",
       "League](https://fbref.com/en/players/bc7dc64d/scout/11566/Bukayo-Saka-Scouting-Report)\\n- [2022 World \n",
       "Cup](https://fbref.com/en/players/bc7dc64d/scout/1711/Bukayo-Saka-Scouting-Report)\\n- [2021-2022 Premier \n",
       "League](https://fbref.com/en/players/bc7dc64d/scout/11160/Bukayo-Saka-Scouting-Report)\\n- [2021 UEFA Euro \n",
       "2020](https://fbref.com/en/players/bc7dc64d/scout/10278/Bukayo-Saka-Scouting-Report)\\n- [2020-2021 Europa \n",
       "League](https://fbref.com/en/players/bc7dc64d/scout/10097/Bukayo-Saka-Scouting-Report)\\n- [2020-2021 Premier \n",
       "League](https://fbref.com/en/players/bc7dc64d/scout/10728/Bukayo-Saka-Scouting-Report)\\n- [2019-2020 Europa \n",
       "League](https://fbref.com/en/players/bc7dc64d/scout/2901/Bukayo-Saka-Scouting-Report)\\n- [2019-2020 Premier \n",
       "League](https://fbref.com/en/players/bc7dc64d/scout/3232/Bukayo-Saka-Scouting-Report)\\n\\n- \n",
       "Stathead/Compare\\n\\n\\nStathead & Player Comparison\\n\\n\\n\\n- [Player Match \n",
       "Finder](https://stathead.com/fbref/player-match-finder.cgi?player_id=bc7dc64d&comp_gender=m&utm_source=fb&utm_mediu\n",
       "m=sr_xsite&utm_campaign=2023_11_player_innernav_stathead)\\n- [Player Season \n",
       "Finder](https://stathead.com/fbref/player-season-finder.cgi?player_id=bc7dc64d&comp_gender=m&utm_source=fb&utm_medi\n",
       "um=sr_xsite&utm_campaign=2023_11_player_innernav_stathead)\\n- [Player \n",
       "Comparison](https://fbref.com/en/stathead/player_comparison.cgi?show_form=1&request=1&sum=0&comp_type=by_type&dom_l\n",
       "g=1&player_id1=bc7dc64d&p1yrfrom=2024-2025&player_id2=de112b84&p2yrfrom=2024-2025&player_id3=8236f673&p3yrfrom=2024\n",
       "-2025&player_id4=d781d855&p4yrfrom=2024-2025&player_id5=f36d5624&p5yrfrom=2024-2025&player_id6=0313a347&p6yrfrom=20\n",
       "24-2025)\\n\\n- \n",
       "[Arsenal](https://fbref.com/en/squads/18bb7c10/Arsenal-Stats)\\n\\n\\n[Arsenal](https://fbref.com/en/squads/18bb7c10/A\n",
       "rsenal-Stats)\\n\\n(18-14-4, 2nd place in Premier League)\\n\\n\\n\\n\\n\\n\\n\\nRoster\\n\\n\\n\\n- [Nathan \n",
       "Butler-Oyedeji](https://fbref.com/en/players/3a686640/Nathan-Butler-Oyedeji)\\n- [Riccardo \n",
       "Calafiori](https://fbref.com/en/players/aded8e6f/Riccardo-Calafiori)\\n- [Brayden \n",
       "Clarke](https://fbref.com/en/players/f9657b1b/Brayden-Clarke)\\n- [Jimi \n",
       "Gower](https://fbref.com/en/players/4571f93e/Jimi-Gower)\\n- [Kai \n",
       "Havertz](https://fbref.com/en/players/fed7cb61/Kai-Havertz)\\n- [Ayden \n",
       "Heaven](https://fbref.com/en/players/64e17fab/Ayden-Heaven)\\n- [Jack \n",
       "Henry-Francis](https://fbref.com/en/players/e93d8ed1/Jack-Henry-Francis)\\n- [Gabriel \n",
       "Jesus](https://fbref.com/en/players/b66315ae/Gabriel-Jesus)\\n- \n",
       "[Jorginho](https://fbref.com/en/players/45db685d/Jorginho)\\n- [Ismeal \n",
       "Kabia](https://fbref.com/en/players/6b15cf32/Ismeal-Kabia)\\n\\n[Maldini \n",
       "Kacurri](https://fbref.com/en/players/7be4311f/Maldini-Kacurri)\\n[Jakub \n",
       "Kiwior](https://fbref.com/en/players/dc3e663e/Jakub-Kiwior)\\n[Myles \n",
       "Lewis-Skelly](https://fbref.com/en/players/5dff6c28/Myles-Lewis-Skelly)\\n[Gabriel \n",
       "Magalhães](https://fbref.com/en/players/67ac5bb8/Gabriel-Magalhaes)\\n[Gabriel \n",
       "Martinelli](https://fbref.com/en/players/48a5a5d6/Gabriel-Martinelli)\\n[Mikel \n",
       "Merino](https://fbref.com/en/players/d080ed5e/Mikel-Merino)\\n[Zane \n",
       "Monlouis](https://fbref.com/en/players/7745640e/Zane-Monlouis)\\n[Reiss \n",
       "Nelson](https://fbref.com/en/players/c5bdb6e3/Reiss-Nelson)\\n[Neto](https://fbref.com/en/players/a9dc785c/Neto)\\n[J\n",
       "osh Nichols](https://fbref.com/en/players/676cf55d/Josh-Nichols)\\n[Eddie \n",
       "Nketiah](https://fbref.com/en/players/a53649b7/Eddie-Nketiah)\\n[Ethan \n",
       "Nwaneri](https://fbref.com/en/players/7f94982c/Ethan-Nwaneri)\\n[Salah Oulad \n",
       "M'Hand](https://fbref.com/en/players/b85c3273/Salah-Oulad-MHand)\\n[Thomas \n",
       "Partey](https://fbref.com/en/players/529f49ab/Thomas-Partey)\\n[Jack \n",
       "Porter](https://fbref.com/en/players/0b4ecd65/Jack-Porter)\\n[Aaron \n",
       "Ramsdale](https://fbref.com/en/players/466fb2c5/Aaron-Ramsdale)\\n[David \n",
       "Raya](https://fbref.com/en/players/98ea5115/David-Raya)\\n[Declan \n",
       "Rice](https://fbref.com/en/players/1c7012b8/Declan-Rice)\\n[Josh \n",
       "Robinson](https://fbref.com/en/players/5260ea6b/Josh-Robinson)\\n[Alexei \n",
       "Rojas](https://fbref.com/en/players/eb189764/Alexei-Rojas)\\n[Michal \n",
       "Rosiak](https://fbref.com/en/players/dbd6a18f/Michal-Rosiak)\\n[Bukayo \n",
       "Saka](https://fbref.com/en/players/bc7dc64d/Bukayo-Saka)\\n[William \n",
       "Saliba](https://fbref.com/en/players/972aeb2a/William-Saliba)\\n[Tommy \n",
       "Setford](https://fbref.com/en/players/d1a2e006/Tommy-Setford)\\n[Raheem \n",
       "Sterling](https://fbref.com/en/players/b400bde0/Raheem-Sterling)\\n[Kieran \n",
       "Tierney](https://fbref.com/en/players/fce2302c/Kieran-Tierney)\\n[Jurriën \n",
       "Timber](https://fbref.com/en/players/41034650/Jurrien-Timber)\\n[Takehiro \n",
       "Tomiyasu](https://fbref.com/en/players/b3af9be1/Takehiro-Tomiyasu)\\n[Leandro \n",
       "Trossard](https://fbref.com/en/players/38ceb24a/Leandro-Trossard)\\n[Ben \n",
       "White](https://fbref.com/en/players/35e413f1/Ben-White)\\n[Oleksandr \n",
       "Zinchenko](https://fbref.com/en/players/51cf8561/Oleksandr-Zinchenko)\\n[Martin \n",
       "Ødegaard](https://fbref.com/en/players/79300479/Martin-Odegaard)\\n\\nSh\n",
       "..._This content has been truncated to stay below 50000 characters_...\n",
       "team\"></td><td class=\"left iz\" data-stat=\"country\"></td><td class=\"left iz\" data-stat=\"comp_level\"></td><td \n",
       "class=\"right iz group_start\" data-stat=\"weekly_wages\"></td><td class=\"right iz\" data-stat=\"annual_wages\"></td><td \n",
       "class=\"left iz\" data-stat=\"notes\"></td></tr>\\n<tr><th scope=\"row\" class=\"left \" data-stat=\"year\" \n",
       "colspan=\"\">2025-2026</th><td class=\"center \" data-stat=\"age\">23</td><td class=\"left \" data-stat=\"team\"><a \n",
       "href=\"https://fbref.com/en/squads/18bb7c10/Arsenal-Stats\">Arsenal</a></td><td class=\"left \" data-stat=\"country\"><a \n",
       "href=\"https://fbref.com/en/country/ENG/England-Football\"><span class=\"f-i f-gb-eng\" style=\"\">eng</span></a> <a \n",
       "href=\"https://fbref.com/en/country/ENG/England-Football\">ENG</a></td><td class=\"left \" data-stat=\"comp_level\" \n",
       "csk=\"1a.9\"><span class=\"level\">1.</span> <a href=\"https://fbref.com/en/comps/9/Premier-League-Stats\">Premier \n",
       "League</a></td><td class=\"right group_start\" data-stat=\"weekly_wages\" csk=\"12025741\"><strong>£ 195,000</strong> (€ \n",
       "231,264, $258,846)</td><td class=\"right \" data-stat=\"annual_wages\" csk=\"12025741\"><strong>£ 10,140,000</strong> (€ \n",
       "12,025,741, $13,459,997)</td><td class=\"left iz\" data-stat=\"notes\"></td></tr>\\n<tr><th scope=\"row\" class=\"left \" \n",
       "data-stat=\"year\" colspan=\"\">2026-2027</th><td class=\"center \" data-stat=\"age\">24</td><td class=\"left \" \n",
       "data-stat=\"team\"><a href=\"https://fbref.com/en/squads/18bb7c10/Arsenal-Stats\">Arsenal</a></td><td class=\"left \" \n",
       "data-stat=\"country\"><a href=\"https://fbref.com/en/country/ENG/England-Football\"><span class=\"f-i f-gb-eng\" \n",
       "style=\"\">eng</span></a> <a href=\"https://fbref.com/en/country/ENG/England-Football\">ENG</a></td><td class=\"left \" \n",
       "data-stat=\"comp_level\" csk=\"1a.9\"><span class=\"level\">1.</span> <a \n",
       "href=\"https://fbref.com/en/comps/9/Premier-League-Stats\">Premier League</a></td><td class=\"right group_start\" \n",
       "data-stat=\"weekly_wages\" csk=\"12025741\"><strong>£ 195,000</strong> (€ 231,264, $258,846)</td><td class=\"right \" \n",
       "data-stat=\"annual_wages\" csk=\"12025741\"><strong>£ 10,140,000</strong> (€ 12,025,741, $13,459,997)</td><td \n",
       "class=\"left iz\" data-stat=\"notes\"></td></tr>\\n</tbody><tfoot><tr><th scope=\"row\" class=\"left \" data-stat=\"year\" \n",
       "colspan=\"\"><a href=\"https://fbref.com/en/players/bc7dc64d/Bukayo-Saka#coverage\">7 Seasons</a>*</th><td \n",
       "class=\"center iz\" data-stat=\"age\"></td><td class=\"left \" data-stat=\"team\">1 Club</td><td class=\"left iz\" \n",
       "data-stat=\"country\"></td><td class=\"left iz\" data-stat=\"comp_level\"></td><td class=\"right iz group_start\" \n",
       "data-stat=\"weekly_wages\"></td><td class=\"right iz\" data-stat=\"annual_wages\"></td><td class=\"left iz\" \n",
       "data-stat=\"notes\"></td></tr>\\n\\n   </tfoot>\\n\\n</table>\\n\\n\\n</div>\\n</div>\\n\\n            \\n            \\n        \n",
       "\\n         \\n      \\n         \\n            <div class=\"section_wrapper\" id=\"all_resources_other\">\\n<div \n",
       "class=\"section_heading assoc_resources_other\" id=\"resources_other_sh\">\\n  <span class=\"section_anchor\" \n",
       "id=\"resources_other_link\" data-label=\"Additional Resources\"></span><h2>Additional Resources</h2>\\n      <div \n",
       "class=\"section_heading_text\">\\n      <ul>\\n      </ul>\\n    </div>\\n    \\n    \\t\\t\\n</div><div \n",
       "class=\"placeholder\"></div>\\n<!--     <div class=\"section_content\" id=\"div_resources_other\">\\n\\t    <a \n",
       "rel=\"nofollow\" href=\"https://en.wikipedia.org/wiki/Bukayo Saka\">Wikipedia</a> &nbsp; &nbsp;\\n &#183; <a \n",
       "rel=\"nofollow\" href=\"https://www.wikidata.org/wiki/Q59306386\">Wikidata</a> &nbsp; &nbsp;\\n\\n\\t\\t\\n    </div>\\n-->\\n\n",
       "<div class=\"section_content\" id=\"div_resources_other\">\\n\\t    <a rel=\"nofollow\" \n",
       "href=\"https://en.wikipedia.org/wiki/Bukayo%20Saka\">Wikipedia</a> &nbsp; &nbsp;\\n · <a rel=\"nofollow\" \n",
       "href=\"https://www.wikidata.org/wiki/Q59306386\">Wikidata</a> &nbsp; &nbsp;\\n\\n\\t\\t\\n    </div>\\n</div>\\n\\n          \n",
       "\\n            \\n            \\n         \\n      \\n\\n<!-- global.nonempty_tables_num: 17, table_count: 17 -->\\n   \n",
       "<div id=\"coverage\" style=\"margin-bottom:60px\" data-comment=\"style is for the inner nav frozen to top of \n",
       "page\"></div>\\n<div class=\"callout light\">\\n    <h3>About FBref.com</h3>\\n    \\n    \\n    \\n    \\n    \\n\\n\\n    \\n  \n",
       "\\n    <p>\\n    FBref.com launched (June 13, 2018) with domestic league coverage for England, France, Germany, \n",
       "Italy, Spain, and United States. Since then we have been steadily expanding our coverage to include domestic \n",
       "leagues from over 40 countries as well as domestic cup, super cup and youth leagues from top European countries. We\n",
       "have also added coverage for major international cups such as the <a \n",
       "href=\"https://fbref.com/en/comps/8/UEFA-Champions-League-Stats\">UEFA Champions League</a> and <a \n",
       "href=\"https://fbref.com/en/comps/14/Copa-Libertadores-Stats\">Copa Libertadores</a>.\\n    </p>\\n\\n    \\n    <p>\\n   \n",
       "FBref is the most complete sources for women\\'s football data on the internet. This includes the entire history of \n",
       "the <a href=\"https://fbref.com/en/comps/106/history/Womens-World-Cup-Seasons\">FIFA Women\\'s World Cup</a> as well \n",
       "as recent domestic league seasons from nine countries, including advanced stats like xG for most of those nine.\\n  \n",
       "</p>\\n\\n    \\n    \\n    <p>\\n    In collaboration with <a href=\"https://www.statsperform.com/opta/\">Opta</a>, we \n",
       "are including advanced analytical data such as xG, xA, progressive passing, duels and more for over twenty \n",
       "competitions. For more information on the expected goals model and which competitions have advanced data, see our \n",
       "<a href=\"https://fbref.com/en/expected-goals-model-explained/\">xG explainer</a>.\\n    </p>\\n\\n    \\n\\n    <button \n",
       "class=\"tooltip opener\" data-selector=\"#coverage_additional\" data-type=\"hide_after\" data-has-listener=\"true\">View \n",
       "Additional Information</button>\\n\\n    <div id=\"coverage_additional\" class=\"toggleable\">\\n        <p>\\n        Note\n",
       "that player records are likely not complete for their careers. Players may come from or move to leagues we don\\'t \n",
       "currently cover. This issue will go down over time, as we add new leagues and seasons. We will never in the future \n",
       "have less data than we do today.\\n        </p>\\n\\n        <p>You can sign up to <a \n",
       "href=\"https://fbref.com/en/email\">receive an e-mail</a> when new countries and features launch.</p>\\n\\n        \n",
       "<p>For more information, see our <a \n",
       "href=\"https://www.sports-reference.com/blog/2018/06/fbref-com-launches-today\">Launch Blog Post</a>, the overall <a \n",
       "href=\"https://fbref.com/en/comps/\">leagues/competition page</a> with details on leagues and seasons we include, or \n",
       "our <a href=\"https://fbref.com/en/about/\">About Page</a>.  <a href=\"https://fbref.com/feedback/\">Let us know if you\n",
       "find an issue or have a suggestion</a>.</p>\\n\\n        <p>FBref is one of seven <a \n",
       "href=\"https://www.sports-reference.com/\">Sports-Reference.com</a> sites.</p>\\n    </div>\\n</div>\\n\\n<div \n",
       "id=\"bottom_nav\" class=\"section_wrapper\">\\n<div class=\"section_heading\"><span data-no-inpage=\"1\" \n",
       "class=\"section_anchor\" id=\"inner_nav_bottom_link\" data-label=\"More Bukayo Saka Pages\"></span><h2>More Bukayo Saka \n",
       "Pages</h2></div>\\n<div class=\"section_content\" id=\"bottom_nav_container\">\\n\\n  <p><a \n",
       "href=\"https://fbref.com/en/players/bc7dc64d/Bukayo-Saka\">Bukayo Saka Overview</a></p>\\n  <p class=\"listhead\">Stats \n",
       "by Competition</p>\\n        <ul class=\"\">\\n          <li><a \n",
       "href=\"https://fbref.com/en/players/bc7dc64d/all_comps/Bukayo-Saka-Stats---All-Competitions\">All \n",
       "Competitions</a></li>\\n          <li><a \n",
       "href=\"https://fbref.com/en/players/bc7dc64d/dom_lg/Bukayo-Saka-Domestic-League-Stats\">Domestic Leagues</a></li>\\n  \n",
       "<li><a href=\"https://fbref.com/en/players/bc7dc64d/dom_cup/Bukayo-Saka-Domestic-Cup-Stats\">Domestic Cups</a></li>\\n\n",
       "<li><a href=\"https://fbref.com/en/players/bc7dc64d/intl_cup/Bukayo-Saka-International-Cup-Stats\">International \n",
       "Cups</a></li>\\n          <li><a \n",
       "href=\"https://fbref.com/en/players/bc7dc64d/nat_tm/Bukayo-Saka-National-Team-Stats\">National Team</a></li>\\n       \n",
       "</ul><p class=\"listhead\">Match Logs (Summary)</p>\\n        <ul class=\"\">\\n          <li><a \n",
       "href=\"https://fbref.com/en/players/bc7dc64d/matchlogs/2018-2019/summary/Bukayo-Saka-Match-Logs\">2018-2019</a></li>\\\n",
       "n          <li><a \n",
       "href=\"https://fbref.com/en/players/bc7dc64d/matchlogs/2019-2020/summary/Bukayo-Saka-Match-Logs\">2019-2020</a></li>\\\n",
       "n          <li><a \n",
       "href=\"https://fbref.com/en/players/bc7dc64d/matchlogs/2020-2021/summary/Bukayo-Saka-Match-Logs\">2020-2021</a></li>\\\n",
       "n          <li><a \n",
       "href=\"https://fbref.com/en/players/bc7dc64d/matchlogs/2021-2022/summary/Bukayo-Saka-Match-Logs\">2021-2022</a></li>\\\n",
       "n          <li><a \n",
       "href=\"https://fbref.com/en/players/bc7dc64d/matchlogs/2022-2023/summary/Bukayo-Saka-Match-Logs\">2022-2023</a></li>\\\n",
       "n          <li><a \n",
       "href=\"https://fbref.com/en/players/bc7dc64d/matchlogs/2023-2024/summary/Bukayo-Saka-Match-Logs\">2023-2024</a></li>\\\n",
       "n          <li><a \n",
       "href=\"https://fbref.com/en/players/bc7dc64d/matchlogs/2024-2025/summary/Bukayo-Saka-Match-Logs\">2024-2025</a></li>\\\n",
       "n          <li><a \n",
       "href=\"https://fbref.com/en/players/bc7dc64d/matchlogs/nat_tm/summary/Bukayo-Saka-Match-Logs\">National \n",
       "Team</a></li>\\n        </ul><p class=\"listhead\">Match Logs (Passing)</p>\\n        <ul class=\"\">\\n          <li><a \n",
       "href=\"https://fbref.com/en/players/bc7dc64d/matchlogs/2018-2019/passing/Bukayo-Saka-Match-Logs\">2018-2019</a></li>\\\n",
       "n          <li><a \n",
       "href=\"https://fbref.com/en/players/bc7dc64d/matchlogs/2019-2020/passing/Bukayo-Saka-Match-Logs\">2019-2020</a></li>\\\n",
       "n          <li><a \n",
       "href=\"https://fbref.com/en/players/bc7dc64d/matchlogs/2020-2021/passing/Bukayo-Saka-Match-Logs\">2020-2021</a></li>\\\n",
       "n          <li><a \n",
       "href=\"https://fbref.com/en/players/bc7dc64d/matchlogs/2021-2022/passing/Bukayo-Saka-Match-Logs\">2021-2022</a></li>\\\n",
       "n          <li><a \n",
       "href=\"https://fbref.com/en/players/bc7dc64d/matchlogs/2022-2023/passing/Bukayo-Saka-Match-Logs\">2022-2023</a></li>\\\n",
       "n          <li><a \n",
       "href=\"https://fbref.com/en/players/bc7dc64d/matchlogs/2023-2024/passing/Bukayo-Saka-Match-Logs\">2023-2024</a></li>\\\n",
       "n          <li><a \n",
       "href=\"https://fbref.com/en/players/bc7dc64d/matchlogs/2024-2025/passing/Bukayo-Saka-Match-Logs\">2024-2025</a></li>\\\n",
       "n          <li><a \n",
       "href=\"https://fbref.com/en/players/bc7dc64d/matchlogs/nat_tm/passing/Bukayo-Saka-Match-Logs\">National \n",
       "Team</a></li>\\n        </ul><p class=\"listhead\">Match Logs (Pass Types)</p>\\n        <ul class=\"\">\\n          \n",
       "<li><a \n",
       "href=\"https://fbref.com/en/players/bc7dc64d/matchlogs/2018-2019/passing_types/Bukayo-Saka-Match-Logs\">2018-2019</a>\n",
       "</li>\\n          <li><a \n",
       "href=\"https://fbref.com/en/players/bc7dc64d/matchlogs/2019-2020/passing_types/Bukayo-Saka-Match-Logs\">2019-2020</a>\n",
       "</li>\\n          <li><a \n",
       "href=\"https://fbref.com/en/players/bc7dc64d/matchlogs/2020-2021/passing_types/Bukayo-Saka-Match-Logs\">2020-2021</a>\n",
       "</li>\\n          <li><a \n",
       "href=\"https://fbref.com/en/players/bc7dc64d/matchlogs/2021-2022/passing_types/Bukayo-Saka-Match-Logs\">2021-2022</a>\n",
       "</li>\\n          <li><a \n",
       "href=\"https://fbref.com/en/players/bc7dc64d/matchlogs/2022-2023/passing_types/Bukayo-Saka-Match-Logs\">2022-2023</a>\n",
       "</li>\\n          <li><a \n",
       "href=\"https://fbref.com/en/players/bc7dc64d/matchlogs/2023-2024/passing_types/Bukayo-Saka-Match-Logs\">2023-2024</a>\n",
       "</li>\\n          <li><a \n",
       "href=\"https://fbref.com/en/players/bc7dc64d/matchlogs/2024-2025/passing_types/Bukayo-Saka-Match-Logs\">2024-2025</a>\n",
       "</li>\\n          <li><a \n",
       "href=\"https://fbref.com/en/players/bc7dc64d/matchlogs/nat_tm/passing_types/Bukayo-Saka-Match-Logs\">National \n",
       "Team</a></li>\\n        </ul><p class=\"listhead\">Match Logs (Goal and Shot Creation)</p>\\n        <ul class=\"\">\\n   \n",
       "<li><a \n",
       "href=\"https://fbref.com/en/players/bc7dc64d/matchlogs/2018-2019/gca/Bukayo-Saka-Match-Logs\">2018-2019</a></li>\\n   \n",
       "<li><a \n",
       "href=\"https://fbref.com/en/players/bc7dc64d/matchlogs/2019-2020/gca/Bukayo-Saka-Match-Logs\">2019-2020</a></li>\\n   \n",
       "<li><a \n",
       "href=\"https://fbref.com/en/players/bc7dc64d/matchlogs/2020-2021/gca/Bukayo-Saka-Match-Logs\">2020-2021</a></li>\\n   \n",
       "<li><a \n",
       "href=\"https://fbref.com/en/players/bc7dc64d/matchlogs/2021-2022/gca/Bukayo-Saka-Match-Logs\">2021-2022</a></li>\\n   \n",
       "<li><a \n",
       "href=\"https://fbref.com/en/players/bc7dc64d/matchlogs/2022-2023/gca/Bukayo-Saka-Match-Logs\">2022-2023</a></li>\\n   \n",
       "<li><a \n",
       "href=\"https://fbref.com/en/players/bc7dc64d/matchlogs/2023-2024/gca/Bukayo-Saka-Match-Logs\">2023-2024</a></li>\\n   \n",
       "<li><a \n",
       "href=\"https://fbref.com/en/players/bc7dc64d/matchlogs/2024-2025/gca/Bukayo-Saka-Match-Logs\">2024-2025</a></li>\\n   \n",
       "<li><a href=\"https://fbref.com/en/players/bc7dc64d/matchlogs/nat_tm/gca/Bukayo-Saka-Match-Logs\">National \n",
       "Team</a></li>\\n        </ul><p class=\"listhead\">Match Logs (Defensive Actions)</p>\\n        <ul class=\"\">\\n        \n",
       "<li><a \n",
       "href=\"https://fbref.com/en/players/bc7dc64d/matchlogs/2018-2019/defense/Bukayo-Saka-Match-Logs\">2018-2019</a></li>\\\n",
       "n          <li><a \n",
       "href=\"https://fbref.com/en/players/bc7dc64d/matchlogs/2019-2020/defense/Bukayo-Saka-Match-Logs\">2019-2020</a></li>\\\n",
       "n          <li><a \n",
       "href=\"https://fbref.com/en/players/bc7dc64d/matchlogs/2020-2021/defense/Bukayo-Saka-Match-Logs\">2020-2021</a></li>\\\n",
       "n          <li><a \n",
       "href=\"https://fbref.com/en/players/bc7dc64d/matchlogs/2021-2022/defense/Bukayo-Saka-Match-Logs\">2021-2022</a></li>\\\n",
       "n          <li><a \n",
       "href=\"https://fbref.com/en/players/bc7dc64d/matchlogs/2022-2023/defense/Bukayo-Saka-Match-Logs\">2022-2023</a></li>\\\n",
       "n          <li><a \n",
       "href=\"https://fbref.com/en/players/bc7dc64d/matchlogs/2023-2024/defense/Bukayo-Saka-Match-Logs\">2023-2024</a></li>\\\n",
       "n          <li><a \n",
       "href=\"https://fbref.com/en/players/bc7dc64d/matchlogs/2024-2025/defense/Bukayo-Saka-Match-Logs\">2024-2025</a></li>\\\n",
       "n          <li><a \n",
       "href=\"https://fbref.com/en/players/bc7dc64d/matchlogs/nat_tm/defense/Bukayo-Saka-Match-Logs\">National \n",
       "Team</a></li>\\n        </ul><p class=\"listhead\">Match Logs (Possession)</p>\\n        <ul class=\"\">\\n          \n",
       "<li><a \n",
       "href=\"https://fbref.com/en/players/bc7dc64d/matchlogs/2018-2019/possession/Bukayo-Saka-Match-Logs\">2018-2019</a></l\n",
       "i>\\n          <li><a \n",
       "href=\"https://fbref.com/en/players/bc7dc64d/matchlogs/2019-2020/possession/Bukayo-Saka-Match-Logs\">2019-2020</a></l\n",
       "i>\\n          <li><a \n",
       "href=\"https://fbref.com/en/players/bc7dc64d/matchlogs/2020-2021/possession/Bukayo-Saka-Match-Logs\">2020-2021</a></l\n",
       "i>\\n          <li><a \n",
       "href=\"https://fbref.com/en/players/bc7dc64d/matchlogs/2021-2022/possession/Bukayo-Saka-Match-Logs\">2021-2022</a></l\n",
       "i>\\n          <li><a \n",
       "href=\"https://fbref.com/en/players/bc7dc64d/matchlogs/2022-2023/possession/Bukayo-Saka-Match-Logs\">2022-2023</a></l\n",
       "i>\\n          <li><a \n",
       "href=\"https://fbref.com/en/players/bc7dc64d/matchlogs/2023-2024/possession/Bukayo-Saka-Match-Logs\">2023-2024</a></l\n",
       "i>\\n          <li><a \n",
       "href=\"https://fbref.com/en/players/bc7dc64d/matchlogs/2024-2025/possession/Bukayo-Saka-Match-Logs\">2024-2025</a></l\n",
       "i>\\n          <li><a \n",
       "href=\"https://fbref.com/en/players/bc7dc64d/matchlogs/nat_tm/possession/Bukayo-Saka-Match-Logs\">National \n",
       "Team</a></li>\\n        </ul><p class=\"listhead\">Match Logs (Miscellaneous Stats)</p>\\n        <ul class=\"\">\\n      \n",
       "<li><a \n",
       "href=\"https://fbref.com/en/players/bc7dc64d/matchlogs/2018-2019/misc/Bukayo-Saka-Match-Logs\">2018-2019</a></li>\\n  \n",
       "<li><a \n",
       "href=\"https://fbref.com/en/players/bc7dc64d/matchlogs/2019-2020/misc/Bukayo-Saka-Match-Logs\">2019-2020</a></li>\\n  \n",
       "<li><a \n",
       "href=\"https://fbref.com/en/players/bc7dc64d/matchlogs/2020-2021/misc/Bukayo-Saka-Match-Logs\">2020-2021</a></li>\\n  \n",
       "<li><a \n",
       "href=\"https://fbref.com/en/players/bc7dc64d/matchlogs/2021-2022/misc/Bukayo-Saka-Match-Logs\">2021-2022</a></li>\\n  \n",
       "<li><a \n",
       "href=\"https://fbref.com/en/players/bc7dc64d/matchlogs/2022-2023/misc/Bukayo-Saka-Match-Logs\">2022-2023</a></li>\\n  \n",
       "<li><a \n",
       "href=\"https://fbref.com/en/players/bc7dc64d/matchlogs/2023-2024/misc/Bukayo-Saka-Match-Logs\">2023-2024</a></li>\\n  \n",
       "<li><a \n",
       "href=\"https://fbref.com/en/players/bc7dc64d/matchlogs/2024-2025/misc/Bukayo-Saka-Match-Logs\">2024-2025</a></li>\\n  \n",
       "<li><a href=\"https://fbref.com/en/players/bc7dc64d/matchlogs/nat_tm/misc/Bukayo-Saka-Match-Logs\">National \n",
       "Team</a></li>\\n        </ul><p class=\"listhead\">Goal Logs by Competition</p>\\n        <ul class=\"\">\\n          \n",
       "<li><a href=\"https://fbref.com/en/players/bc7dc64d/goallogs/all_comps/Bukayo-Saka-Goal-Log\">All \n",
       "Competitions</a></li>\\n          <li><a \n",
       "href=\"https://fbref.com/en/players/bc7dc64d/goallogs/dom_lg/Bukayo-Saka-Goal-Log\">Domestic Leagues</a></li>\\n      \n",
       "<li><a href=\"https://fbref.com/en/players/bc7dc64d/goallogs/dom_cup/Bukayo-Saka-Goal-Log\">Domestic Cups</a></li>\\n \n",
       "<li><a href=\"https://fbref.com/en/players/bc7dc64d/goallogs/intl_cup/Bukayo-Saka-Goal-Log\">International \n",
       "Cups</a></li>\\n          <li><a \n",
       "href=\"https://fbref.com/en/players/bc7dc64d/goallogs/nat_tm/Bukayo-Saka-Goal-Log\">National Team</a></li>\\n        \n",
       "</ul><p class=\"listhead\">Scouting Report</p>\\n        <ul class=\"\">\\n          <li><a \n",
       "href=\"https://fbref.com/en/players/bc7dc64d/scout/365_m1/Bukayo-Saka-Scouting-Report\">Last 365 Days Men\\'s Big 5 \n",
       "Leagues, UCL, UEL</a></li>\\n          <li><a \n",
       "href=\"https://fbref.com/en/players/bc7dc64d/scout/12524/Bukayo-Saka-Scouting-Report\">2024-2025 Premier \n",
       "League</a></li>\\n          <li><a \n",
       "href=\"https://fbref.com/en/players/bc7dc64d/scout/12623/Bukayo-Saka-Scouting-Report\">2024-2025 Champions \n",
       "League</a></li>\\n          <li><a \n",
       "href=\"https://fbref.com/en/players/bc7dc64d/scout/10279/Bukayo-Saka-Scouting-Report\">2024 UEFA Euro 2024</a></li>\\n\n",
       "<li><a href=\"https://fbref.com/en/players/bc7dc64d/scout/11835/Bukayo-Saka-Scouting-Report\">2023-2024 Champions \n",
       "League</a></li>\\n          <li><a \n",
       "href=\"https://fbref.com/en/players/bc7dc64d/scout/12192/Bukayo-Saka-Scouting-Report\">2023-2024 Premier \n",
       "League</a></li>\\n          <li><a \n",
       "href=\"https://fbref.com/en/players/bc7dc64d/scout/11455/Bukayo-Saka-Scouting-Report\">2022-2023 Europa \n",
       "League</a></li>\\n          <li><a \n",
       "href=\"https://fbref.com/en/players/bc7dc64d/scout/11566/Bukayo-Saka-Scouting-Report\">2022-2023 Premier \n",
       "League</a></li>\\n          <li><a \n",
       "href=\"https://fbref.com/en/players/bc7dc64d/scout/1711/Bukayo-Saka-Scouting-Report\">2022 World Cup</a></li>\\n      \n",
       "<li><a href=\"https://fbref.com/en/players/bc7dc64d/scout/11160/Bukayo-Saka-Scouting-Report\">2021-2022 Premier \n",
       "League</a></li>\\n          <li><a \n",
       "href=\"https://fbref.com/en/players/bc7dc64d/scout/10278/Bukayo-Saka-Scouting-Report\">2021 UEFA Euro 2020</a></li>\\n\n",
       "<li><a href=\"https://fbref.com/en/players/bc7dc64d/scout/10097/Bukayo-Saka-Scouting-Report\">2020-2021 Europa \n",
       "League</a></li>\\n          <li><a \n",
       "href=\"https://fbref.com/en/players/bc7dc64d/scout/10728/Bukayo-Saka-Scouting-Report\">2020-2021 Premier \n",
       "League</a></li>\\n          <li><a \n",
       "href=\"https://fbref.com/en/players/bc7dc64d/scout/2901/Bukayo-Saka-Scouting-Report\">2019-2020 Europa \n",
       "League</a></li>\\n          <li><a \n",
       "href=\"https://fbref.com/en/players/bc7dc64d/scout/3232/Bukayo-Saka-Scouting-Report\">2019-2020 Premier \n",
       "League</a></li>\\n        </ul><p class=\"listhead\">Stathead &amp; Player Comparison</p>\\n        <ul class=\"\">\\n    \n",
       "<li><a \n",
       "href=\"https://stathead.com/fbref/player-match-finder.cgi?player_id=bc7dc64d&amp;comp_gender=m&amp;utm_source=fb&amp\n",
       ";utm_medium=sr_xsite&amp;utm_campaign=2023_11_player_innernav_stathead\">Player Match Finder</a></li>\\n          \n",
       "<li><a \n",
       "href=\"https://stathead.com/fbref/player-season-finder.cgi?player_id=bc7dc64d&amp;comp_gender=m&amp;utm_source=fb&am\n",
       "p;utm_medium=sr_xsite&amp;utm_campaign=2023_11_player_innernav_stathead\">Player Season Finder</a></li>\\n          \n",
       "<li><a \n",
       "href=\"https://fbref.com/en/stathead/player_comparison.cgi?show_form=1&amp;request=1&amp;sum=0&amp;comp_type=by_type\n",
       "&amp;dom_lg=1&amp;player_id1=bc7dc64d&amp;p1yrfrom=2024-2025&amp;player_id2=de112b84&amp;p2yrfrom=2024-2025&amp;pla\n",
       "yer_id3=8236f673&amp;p3yrfrom=2024-2025&amp;player_id4=d781d855&amp;p4yrfrom=2024-2025&amp;player_id5=f36d5624&amp;\n",
       "p5yrfrom=2024-2025&amp;player_id6=0313a347&amp;p6yrfrom=2024-2025\">Player Comparison</a></li>\\n        \n",
       "</ul></div></div>\\n\\n   \\n\\n\\n<!-- fs_footer -->\\n<div class=\"adblock\">\\n<!-- div#fs_fs_footer  -->\\n<div \n",
       "align=\"center\" id=\"div-gpt-ad-728x90-Footer\" data-freestar-ad=\"__300x250 __970x90\">\\n  \\n</div>\\n<!-- \n",
       "/div.#fs_fs_footer -->\\n\\n</div>\\n\\n\\n\\n\\n\\n\\n</div><!-- div#content -->\\n\\n<!-- div#footer -->\\n\\n</div><!-- \n",
       "div#wrap -->\\n\\n\\n\\n\\n<!-- rails -->\\n\\n<div class=\"adblock rails  left\" style=\"left: 400px;\"><!-- \n",
       "div#fs_fs_rails_left  -->\\n<div align=\"center\" id=\"div-gpt-ad-160x600-1\" data-freestar-ad=\"\">\\n  \\n</div>\\n<!-- \n",
       "/div.#fs_fs_rails_left -->\\n</div>\\n<div class=\"adblock rails right\" style=\"right: 400px;\"><!-- \n",
       "div#fs_fs_rails_right  -->\\n<div align=\"center\" id=\"div-gpt-ad-160x600-2\" data-freestar-ad=\"\">\\n  \\n</div>\\n<!-- \n",
       "/div.#fs_fs_rails_right -->\\n</div>\\n\\n\\n<!-- sr_gender is used in Templates/Assets/GoogleAnalytics.tt2 -->\\n\\n<!--\n",
       "Google Analytics -->\\n<!-- Google Analytics UA,  UA-1890630-23 -->\\n<!-- Google Analytics GA4, G-T897NZ0GWZ \n",
       "-->\\n<!-- Google Tag Manager -->  <!-- End Google Tag Manager --> <!-- Google Tag Manager (noscript) -->  <!-- End \n",
       "Google Tag Manager (noscript) -->\\n\\n<!-- End Google Analytics -->\\n\\n<!-- Start of HubSpot Embed Code -->\\n\\n<!-- \n",
       "End of HubSpot Embed Code -->\\n\\n\\n\\n\\n\\n\\n\\n\\n\\n\\n<div class=\"go2933276541 go2369186930\" \n",
       "id=\"hs-web-interactives-top-anchor\"><div id=\"hs-interactives-modal-overlay\" class=\"go1632949049\"></div></div>\\n<div\n",
       "class=\"go2933276541 go1348078617\" id=\"hs-web-interactives-bottom-anchor\"></div>\\n<div \n",
       "id=\"hs-web-interactives-floating-container\">\\n  <div id=\"hs-web-interactives-floating-top-left-anchor\" \n",
       "class=\"go2417249464 go613305155\">\\n  </div>\\n  <div id=\"hs-web-interactives-floating-top-right-anchor\" \n",
       "class=\"go2417249464 go471583506\">\\n  </div>\\n  <div id=\"hs-web-interactives-floating-bottom-left-anchor\" \n",
       "class=\"go2417249464 go3921366393\">\\n  </div>\\n  <div id=\"hs-web-interactives-floating-bottom-right-anchor\" \n",
       "class=\"go2417249464 go3967842156\">\\n  </div>\\n</div>\\n<div id=\"modal-overlay\" style=\"visibility: \n",
       "hidden;\"></div><div id=\"modal-container\" style=\"visibility: hidden;\"><div id=\"modal-header\"><div id=\"modal-close\" \n",
       "class=\"closer\" aria-label=\"Close in-page popup window\"></div></div><div id=\"modal-content\"></div><div \n",
       "id=\"modal-loading\"></div></div></body><!-- SR --></html>' rawHtml=None links=None extract=None json=<function \n",
       "BaseModel.json at 0x112d9bce0> screenshot=None metadata={'favicon': \n",
       "'https://cdn.ssref.net/req/202505152/favicons/fb/favicon-48.png', 'sr-web-model': \n",
       "'SRlocal::Models::Web::Players::Front', 'og:type': '    Athlete', 'fb:app_id': '', 'ogSiteName': 'FBref.com', \n",
       "'twitter:creator': '@FBref', 'ogTitle': 'Bukayo Saka Stats, Goals, Records, Assists, Cups and more | FBref.com', \n",
       "'revised': '22:45:19 17-May-2025', 'apple-mobile-web-app-capable': 'no', 'ogImage': \n",
       "'http://cdn.ssref.net/scripts/image_resize.cgi?min=200&url=https://fbref.com/req/202302030/images/headshots/bc7dc64\n",
       "d_2022.jpg', 'HandheldFriendly': ['True', 'True'], 'ogUrl': 'https://fbref.com/en/players/bc7dc64d/Bukayo-Saka', \n",
       "'msapplication-navbutton-color': '4d383b', 'apple-mobile-web-app-status-bar-style': '4d383b', 'og:description': \n",
       "\"Check out the latest domestic and international stats, match logs, goals, height, weight and more for Bukayo Saka \n",
       "playing for Arsenal FC, England men's national team and Arsenal FC U23 in the Premier League, Champions League and \n",
       "UEFA Euro\", 'format-detection': 'telephone=no', 'generated-by': '/home/fb/deploy/www/base_en/players/player.fcgi', \n",
       "'theme-color': '4d383b', 'og:title': 'Bukayo Saka Stats, Goals, Records, Assists, Cups and more | FBref.com', \n",
       "'msapplication-TileImage': 'https://cdn.ssref.net/req/202505152/favicons/fb/ms-tile-144.png', 'language': 'en', \n",
       "'title': 'Bukayo Saka Stats, Goals, Records, Assists, Cups and more | FBref.com', 'og:site_name': 'FBref.com', \n",
       "'ogDescription': \"Check out the latest domestic and international stats, match logs, goals, height, weight and more\n",
       "for Bukayo Saka playing for Arsenal FC, England men's national team and Arsenal FC U23 in the Premier League, \n",
       "Champions League and UEFA Euro\", 'twitter:domain': 'FBref.com', 'og:url': \n",
       "'https://fbref.com/en/players/bc7dc64d/Bukayo-Saka', 'twitter:image': \n",
       "'http://cdn.ssref.net/scripts/image_resize.cgi?min=200&url=https://fbref.com/req/202302030/images/headshots/bc7dc64\n",
       "d_2022.jpg', 'Description': \"Check out the latest domestic and international stats, match logs, goals, height, \n",
       "weight and more for Bukayo Saka playing for Arsenal FC, England men's national team and Arsenal FC U23 in the \n",
       "Premier League, Champions League and UEFA Euro\", 'mobile-web-app-capable': 'yes', 'keywords': '', 'twitter:card': \n",
       "'summary', 'twitter:site': '@FBref', 'referrer': 'unsafe-url', 'viewport': 'width=device-width, initial-scale=1.0, \n",
       "maximum-scale=2.0', 'msapplication-TileColor': '#04376c', 'og:image': \n",
       "'http://cdn.ssref.net/scripts/image_resize.cgi?min=200&url=https://fbref.com/req/202302030/images/headshots/bc7dc64\n",
       "d_2022.jpg', 'scrapeId': '34800906-a5f6-4932-8b77-35d1d9066d11', 'sourceURL': \n",
       "'https://fbref.com/en/search/search.fcgi?search=bukayo+saka', 'url': \n",
       "'https://fbref.com/en/players/bc7dc64d/Bukayo-Saka', 'statusCode': 200} actions=None title=None description=None \n",
       "changeTracking=None success=True warning=None error=None\n",
       "\n",
       "Out: None\n"
      ]
     },
     "metadata": {},
     "output_type": "display_data"
    },
    {
     "data": {
      "text/html": [
       "<pre style=\"white-space:pre;overflow-x:auto;line-height:normal;font-family:Menlo,'DejaVu Sans Mono',consolas,'Courier New',monospace\"><span style=\"color: #7f7f7f; text-decoration-color: #7f7f7f\">[Step 1: Duration 8.71 seconds| Input tokens: 2,001 | Output tokens: 105]</span>\n",
       "</pre>\n"
      ],
      "text/plain": [
       "\u001b[2m[Step 1: Duration 8.71 seconds| Input tokens: 2,001 | Output tokens: 105]\u001b[0m\n"
      ]
     },
     "metadata": {},
     "output_type": "display_data"
    },
    {
     "data": {
      "text/html": [
       "<pre style=\"white-space:pre;overflow-x:auto;line-height:normal;font-family:Menlo,'DejaVu Sans Mono',consolas,'Courier New',monospace\"><span style=\"color: #d4b702; text-decoration-color: #d4b702\">━━━━━━━━━━━━━━━━━━━━━━━━━━━━━━━━━━━━━━━━━━━━━━━━━━━━━ </span><span style=\"font-weight: bold\">Step </span><span style=\"color: #008080; text-decoration-color: #008080; font-weight: bold\">2</span><span style=\"color: #d4b702; text-decoration-color: #d4b702\"> ━━━━━━━━━━━━━━━━━━━━━━━━━━━━━━━━━━━━━━━━━━━━━━━━━━━━━━</span>\n",
       "</pre>\n"
      ],
      "text/plain": [
       "\u001b[38;2;212;183;2m━━━━━━━━━━━━━━━━━━━━━━━━━━━━━━━━━━━━━━━━━━━━━━━━━━━━━ \u001b[0m\u001b[1mStep \u001b[0m\u001b[1;36m2\u001b[0m\u001b[38;2;212;183;2m ━━━━━━━━━━━━━━━━━━━━━━━━━━━━━━━━━━━━━━━━━━━━━━━━━━━━━━\u001b[0m\n"
      ]
     },
     "metadata": {},
     "output_type": "display_data"
    },
    {
     "data": {
      "text/html": [
       "<pre style=\"white-space:pre;overflow-x:auto;line-height:normal;font-family:Menlo,'DejaVu Sans Mono',consolas,'Courier New',monospace\"> ─ <span style=\"font-weight: bold\">Executing parsed code:</span> ──────────────────────────────────────────────────────────────────────────────────────── \n",
       "  <span style=\"color: #f8f8f2; text-decoration-color: #f8f8f2; background-color: #272822\">profile_url </span><span style=\"color: #ff4689; text-decoration-color: #ff4689; background-color: #272822\">=</span><span style=\"color: #f8f8f2; text-decoration-color: #f8f8f2; background-color: #272822\"> </span><span style=\"color: #e6db74; text-decoration-color: #e6db74; background-color: #272822\">\"https://fbref.com/en/players/bc7dc64d/Bukayo-Saka\"</span><span style=\"background-color: #272822\">                                              </span>  \n",
       "  <span style=\"color: #f8f8f2; text-decoration-color: #f8f8f2; background-color: #272822\">profile_page </span><span style=\"color: #ff4689; text-decoration-color: #ff4689; background-color: #272822\">=</span><span style=\"color: #f8f8f2; text-decoration-color: #f8f8f2; background-color: #272822\"> firecrawl_scrape(profile_url)</span><span style=\"background-color: #272822\">                                                                   </span>  \n",
       "  <span style=\"color: #f8f8f2; text-decoration-color: #f8f8f2; background-color: #272822\">print(profile_page)</span><span style=\"background-color: #272822\">                                                                                            </span>  \n",
       " ───────────────────────────────────────────────────────────────────────────────────────────────────────────────── \n",
       "</pre>\n"
      ],
      "text/plain": [
       " ─ \u001b[1mExecuting parsed code:\u001b[0m ──────────────────────────────────────────────────────────────────────────────────────── \n",
       "  \u001b[38;2;248;248;242;48;2;39;40;34mprofile_url\u001b[0m\u001b[38;2;248;248;242;48;2;39;40;34m \u001b[0m\u001b[38;2;255;70;137;48;2;39;40;34m=\u001b[0m\u001b[38;2;248;248;242;48;2;39;40;34m \u001b[0m\u001b[38;2;230;219;116;48;2;39;40;34m\"\u001b[0m\u001b[38;2;230;219;116;48;2;39;40;34mhttps://fbref.com/en/players/bc7dc64d/Bukayo-Saka\u001b[0m\u001b[38;2;230;219;116;48;2;39;40;34m\"\u001b[0m\u001b[48;2;39;40;34m                                              \u001b[0m  \n",
       "  \u001b[38;2;248;248;242;48;2;39;40;34mprofile_page\u001b[0m\u001b[38;2;248;248;242;48;2;39;40;34m \u001b[0m\u001b[38;2;255;70;137;48;2;39;40;34m=\u001b[0m\u001b[38;2;248;248;242;48;2;39;40;34m \u001b[0m\u001b[38;2;248;248;242;48;2;39;40;34mfirecrawl_scrape\u001b[0m\u001b[38;2;248;248;242;48;2;39;40;34m(\u001b[0m\u001b[38;2;248;248;242;48;2;39;40;34mprofile_url\u001b[0m\u001b[38;2;248;248;242;48;2;39;40;34m)\u001b[0m\u001b[48;2;39;40;34m                                                                   \u001b[0m  \n",
       "  \u001b[38;2;248;248;242;48;2;39;40;34mprint\u001b[0m\u001b[38;2;248;248;242;48;2;39;40;34m(\u001b[0m\u001b[38;2;248;248;242;48;2;39;40;34mprofile_page\u001b[0m\u001b[38;2;248;248;242;48;2;39;40;34m)\u001b[0m\u001b[48;2;39;40;34m                                                                                            \u001b[0m  \n",
       " ───────────────────────────────────────────────────────────────────────────────────────────────────────────────── \n"
      ]
     },
     "metadata": {},
     "output_type": "display_data"
    },
    {
     "data": {
      "text/html": [
       "<pre style=\"white-space:pre;overflow-x:auto;line-height:normal;font-family:Menlo,'DejaVu Sans Mono',consolas,'Courier New',monospace\"><span style=\"font-weight: bold\">Execution logs:</span>\n",
       "url=None markdown=\"Opens in a new windowOpens an external websiteOpens an external website in a new window\\n\\nClose\n",
       "this dialog\\n\\nThis website utilizes technologies such as cookies to enable essential site functionality, as well \n",
       "as for analytics, personalization, and targeted advertising. To learn more, view the following link: [Privacy \n",
       "Policy](https://www.sports-reference.com/privacy.html)\\n\\nManage Preferences\\n\\nClose Cookie \n",
       "Preferences\\n\\nWelcome, football fans from around the world!\\n\\nUse FBref \n",
       "in:\\n\\n[Português](https://fbref.com/pt/players/bc7dc64d/Bukayo-Saka)\\n· \n",
       "[Français](https://fbref.com/fr/players/bc7dc64d/Bukayo-Saka)\\n· \n",
       "[Deutsch](https://fbref.com/de/players/bc7dc64d/Bukayo-Saka)\\n· \n",
       "[Italiano](https://fbref.com/it/players/bc7dc64d/Bukayo-Saka)\\n· \n",
       "[Español](https://fbref.com/es/players/bc7dc64d/Bukayo-Saka)\\n· \n",
       "[English](https://fbref.com/en/players/bc7dc64d/Bukayo-Saka)\\n\\nWe're hiring! Join our team as a Senior Test \n",
       "Engineer. [Apply here](https://sports-reference-llc.breezy.hr/p/54f6a295cde1-senior-test-engineer).\\n\\n![Bukayo \n",
       "Saka headshot](https://fbref.com/req/202302030/images/headshots/bc7dc64d_2022.jpg)\\n\\n# Bukayo Saka\\n\\n**Bukayo \n",
       "Ayoyinka T.M. Saka**\\n\\n**Position:** DF-FW-MF (AM, right)\\xa0▪\\xa0 **Footed:** \n",
       "Left\\n\\n178cm,\\xa064kg\\xa0(5-10,\\xa0143lb)\\n\\n**Born:**\\nSeptember 5, 2001\\n(Age:\\xa023-255d)\\n\\nin Ealing, \n",
       "England, United Kingdom\\n\\neng\\n\\n**National Team:** [England](https://fbref.com/en/country/ENG/England-Football) \n",
       "eng\\n\\n**Club:** [Arsenal](https://fbref.com/en/squads/18bb7c10/Arsenal-Stats)\\n\\n**Wages**:\\n[￡ 195,000 \n",
       "Weekly](https://fbref.com/en/players/bc7dc64d/Bukayo-Saka#all_wages)\\nExpires June 2027. Via \n",
       "[Capology](https://www.capology.com/).\\n\\n\\n**Instagram:** \n",
       "[@bukayosaka87](https://instagram.com/bukayosaka87/)\\n\\n[Become a Stathead &amp; surf this site \n",
       "ad-free.](https://stathead.com/?ref=fb&amp;utm_source=fb&amp;utm_medium=sr_xsite&amp;utm_campaign=2024_04_23_adfree_callouts)\\n\n",
       "\\n**2024-2025**\\n\\n**Premier League**\\n\\n**Champions \n",
       "Lg**\\n\\n**MP**\\n\\n23\\n\\n9\\n\\n**Min**\\n\\n1626\\n\\n760\\n\\n**Gls**\\n\\n6\\n\\n6\\n\\n**Ast**\\n\\n10\\n\\n2\\n\\n**xG**\\n\\n6.7\\n\\n\n",
       "4.4\\n\\n**npxG**\\n\\n5.9\\n\\n2.9\\n\\n**xAG**\\n\\n7.0\\n\\n3.3\\n\\n**SCA**\\n\\n109\\n\\n31\\n\\n**GCA**\\n\\n22\\n\\n7\\n\\n\\\\\\\\* see \n",
       "our [coverage note](https://fbref.com/en/players/bc7dc64d/Bukayo-Saka#coverage)\\n\\n- [Bukayo Saka \n",
       "Overview](https://fbref.com/en/players/bc7dc64d/Bukayo-Saka)\\n- More Bukayo Saka Pages\\n\\n\\nStats by \n",
       "Competition\\n\\n\\n\\n- [All \n",
       "Competitions](https://fbref.com/en/players/bc7dc64d/all_comps/Bukayo-Saka-Stats---All-Competitions)\\n- [Domestic \n",
       "Leagues](https://fbref.com/en/players/bc7dc64d/dom_lg/Bukayo-Saka-Domestic-League-Stats)\\n- [Domestic \n",
       "Cups](https://fbref.com/en/players/bc7dc64d/dom_cup/Bukayo-Saka-Domestic-Cup-Stats)\\n- [International \n",
       "Cups](https://fbref.com/en/players/bc7dc64d/intl_cup/Bukayo-Saka-International-Cup-Stats)\\n- [National \n",
       "Team](https://fbref.com/en/players/bc7dc64d/nat_tm/Bukayo-Saka-National-Team-Stats)\\n\\nMatch Logs (Summary)\\n\\n- \n",
       "[2018-2019](https://fbref.com/en/players/bc7dc64d/matchlogs/2018-2019/summary/Bukayo-Saka-Match-Logs)\\n- \n",
       "[2019-2020](https://fbref.com/en/players/bc7dc64d/matchlogs/2019-2020/summary/Bukayo-Saka-Match-Logs)\\n- \n",
       "[2020-2021](https://fbref.com/en/players/bc7dc64d/matchlogs/2020-2021/summary/Bukayo-Saka-Match-Logs)\\n- \n",
       "[2021-2022](https://fbref.com/en/players/bc7dc64d/matchlogs/2021-2022/summary/Bukayo-Saka-Match-Logs)\\n- \n",
       "[2022-2023](https://fbref.com/en/players/bc7dc64d/matchlogs/2022-2023/summary/Bukayo-Saka-Match-Logs)\\n- \n",
       "[2023-2024](https://fbref.com/en/players/bc7dc64d/matchlogs/2023-2024/summary/Bukayo-Saka-Match-Logs)\\n- \n",
       "[2024-2025](https://fbref.com/en/players/bc7dc64d/matchlogs/2024-2025/summary/Bukayo-Saka-Match-Logs)\\n- [National \n",
       "Team](https://fbref.com/en/players/bc7dc64d/matchlogs/nat_tm/summary/Bukayo-Saka-Match-Logs)\\n\\nMatch Logs \n",
       "(Passing)\\n\\n- \n",
       "[2018-2019](https://fbref.com/en/players/bc7dc64d/matchlogs/2018-2019/passing/Bukayo-Saka-Match-Logs)\\n- \n",
       "[2019-2020](https://fbref.com/en/players/bc7dc64d/matchlogs/2019-2020/passing/Bukayo-Saka-Match-Logs)\\n- \n",
       "[2020-2021](https://fbref.com/en/players/bc7dc64d/matchlogs/2020-2021/passing/Bukayo-Saka-Match-Logs)\\n- \n",
       "[2021-2022](https://fbref.com/en/players/bc7dc64d/matchlogs/2021-2022/passing/Bukayo-Saka-Match-Logs)\\n- \n",
       "[2022-2023](https://fbref.com/en/players/bc7dc64d/matchlogs/2022-2023/passing/Bukayo-Saka-Match-Logs)\\n- \n",
       "[2023-2024](https://fbref.com/en/players/bc7dc64d/matchlogs/2023-2024/passing/Bukayo-Saka-Match-Logs)\\n- \n",
       "[2024-2025](https://fbref.com/en/players/bc7dc64d/matchlogs/2024-2025/passing/Bukayo-Saka-Match-Logs)\\n- [National \n",
       "Team](https://fbref.com/en/players/bc7dc64d/matchlogs/nat_tm/passing/Bukayo-Saka-Match-Logs)\\n\\nMatch Logs (Pass \n",
       "Types)\\n\\n- \n",
       "[2018-2019](https://fbref.com/en/players/bc7dc64d/matchlogs/2018-2019/passing_types/Bukayo-Saka-Match-Logs)\\n- \n",
       "[2019-2020](https://fbref.com/en/players/bc7dc64d/matchlogs/2019-2020/passing_types/Bukayo-Saka-Match-Logs)\\n- \n",
       "[2020-2021](https://fbref.com/en/players/bc7dc64d/matchlogs/2020-2021/passing_types/Bukayo-Saka-Match-Logs)\\n- \n",
       "[2021-2022](https://fbref.com/en/players/bc7dc64d/matchlogs/2021-2022/passing_types/Bukayo-Saka-Match-Logs)\\n- \n",
       "[2022-2023](https://fbref.com/en/players/bc7dc64d/matchlogs/2022-2023/passing_types/Bukayo-Saka-Match-Logs)\\n- \n",
       "[2023-2024](https://fbref.com/en/players/bc7dc64d/matchlogs/2023-2024/passing_types/Bukayo-Saka-Match-Logs)\\n- \n",
       "[2024-2025](https://fbref.com/en/players/bc7dc64d/matchlogs/2024-2025/passing_types/Bukayo-Saka-Match-Logs)\\n- \n",
       "[National \n",
       "Team](https://fbref.com/en/players/bc7dc64d/matchlogs/nat_tm/passing_types/Bukayo-Saka-Match-Logs)\\n\\nMatch Logs \n",
       "(Goal and Shot Creation)\\n\\n- \n",
       "[2018-2019](https://fbref.com/en/players/bc7dc64d/matchlogs/2018-2019/gca/Bukayo-Saka-Match-Logs)\\n- \n",
       "[2019-2020](https://fbref.com/en/players/bc7dc64d/matchlogs/2019-2020/gca/Bukayo-Saka-Match-Logs)\\n- \n",
       "[2020-2021](https://fbref.com/en/players/bc7dc64d/matchlogs/2020-2021/gca/Bukayo-Saka-Match-Logs)\\n- \n",
       "[2021-2022](https://fbref.com/en/players/bc7dc64d/matchlogs/2021-2022/gca/Bukayo-Saka-Match-Logs)\\n- \n",
       "[2022-2023](https://fbref.com/en/players/bc7dc64d/matchlogs/2022-2023/gca/Bukayo-Saka-Match-Logs)\\n- \n",
       "[2023-2024](https://fbref.com/en/players/bc7dc64d/matchlogs/2023-2024/gca/Bukayo-Saka-Match-Logs)\\n- \n",
       "[2024-2025](https://fbref.com/en/players/bc7dc64d/matchlogs/2024-2025/gca/Bukayo-Saka-Match-Logs)\\n- [National \n",
       "Team](https://fbref.com/en/players/bc7dc64d/matchlogs/nat_tm/gca/Bukayo-Saka-Match-Logs)\\n\\nMatch Logs (Defensive \n",
       "Actions)\\n\\n- \n",
       "[2018-2019](https://fbref.com/en/players/bc7dc64d/matchlogs/2018-2019/defense/Bukayo-Saka-Match-Logs)\\n- \n",
       "[2019-2020](https://fbref.com/en/players/bc7dc64d/matchlogs/2019-2020/defense/Bukayo-Saka-Match-Logs)\\n- \n",
       "[2020-2021](https://fbref.com/en/players/bc7dc64d/matchlogs/2020-2021/defense/Bukayo-Saka-Match-Logs)\\n- \n",
       "[2021-2022](https://fbref.com/en/players/bc7dc64d/matchlogs/2021-2022/defense/Bukayo-Saka-Match-Logs)\\n- \n",
       "[2022-2023](https://fbref.com/en/players/bc7dc64d/matchlogs/2022-2023/defense/Bukayo-Saka-Match-Logs)\\n- \n",
       "[2023-2024](https://fbref.com/en/players/bc7dc64d/matchlogs/2023-2024/defense/Bukayo-Saka-Match-Logs)\\n- \n",
       "[2024-2025](https://fbref.com/en/players/bc7dc64d/matchlogs/2024-2025/defense/Bukayo-Saka-Match-Logs)\\n- [National \n",
       "Team](https://fbref.com/en/players/bc7dc64d/matchlogs/nat_tm/defense/Bukayo-Saka-Match-Logs)\\n\\nMatch Logs \n",
       "(Possession)\\n\\n- \n",
       "[2018-2019](https://fbref.com/en/players/bc7dc64d/matchlogs/2018-2019/possession/Bukayo-Saka-Match-Logs)\\n- \n",
       "[2019-2020](https://fbref.com/en/players/bc7dc64d/matchlogs/2019-2020/possession/Bukayo-Saka-Match-Logs)\\n- \n",
       "[2020-2021](https://fbref.com/en/players/bc7dc64d/matchlogs/2020-2021/possession/Bukayo-Saka-Match-Logs)\\n- \n",
       "[2021-2022](https://fbref.com/en/players/bc7dc64d/matchlogs/2021-2022/possession/Bukayo-Saka-Match-Logs)\\n- \n",
       "[2022-2023](https://fbref.com/en/players/bc7dc64d/matchlogs/2022-2023/possession/Bukayo-Saka-Match-Logs)\\n- \n",
       "[2023-2024](https://fbref.com/en/players/bc7dc64d/matchlogs/2023-2024/possession/Bukayo-Saka-Match-Logs)\\n- \n",
       "[2024-2025](https://fbref.com/en/players/bc7dc64d/matchlogs/2024-2025/possession/Bukayo-Saka-Match-Logs)\\n- \n",
       "[National Team](https://fbref.com/en/players/bc7dc64d/matchlogs/nat_tm/possession/Bukayo-Saka-Match-Logs)\\n\\nMatch \n",
       "Logs (Miscellaneous Stats)\\n\\n- \n",
       "[2018-2019](https://fbref.com/en/players/bc7dc64d/matchlogs/2018-2019/misc/Bukayo-Saka-Match-Logs)\\n- \n",
       "[2019-2020](https://fbref.com/en/players/bc7dc64d/matchlogs/2019-2020/misc/Bukayo-Saka-Match-Logs)\\n- \n",
       "[2020-2021](https://fbref.com/en/players/bc7dc64d/matchlogs/2020-2021/misc/Bukayo-Saka-Match-Logs)\\n- \n",
       "[2021-2022](https://fbref.com/en/players/bc7dc64d/matchlogs/2021-2022/misc/Bukayo-Saka-Match-Logs)\\n- \n",
       "[2022-2023](https://fbref.com/en/players/bc7dc64d/matchlogs/2022-2023/misc/Bukayo-Saka-Match-Logs)\\n- \n",
       "[2023-2024](https://fbref.com/en/players/bc7dc64d/matchlogs/2023-2024/misc/Bukayo-Saka-Match-Logs)\\n- \n",
       "[2024-2025](https://fbref.com/en/players/bc7dc64d/matchlogs/2024-2025/misc/Bukayo-Saka-Match-Logs)\\n- [National \n",
       "Team](https://fbref.com/en/players/bc7dc64d/matchlogs/nat_tm/misc/Bukayo-Saka-Match-Logs)\\n\\nGoal Logs by \n",
       "Competition\\n\\n- [All \n",
       "Competitions](https://fbref.com/en/players/bc7dc64d/goallogs/all_comps/Bukayo-Saka-Goal-Log)\\n- [Domestic \n",
       "Leagues](https://fbref.com/en/players/bc7dc64d/goallogs/dom_lg/Bukayo-Saka-Goal-Log)\\n- [Domestic \n",
       "Cups](https://fbref.com/en/players/bc7dc64d/goallogs/dom_cup/Bukayo-Saka-Goal-Log)\\n- [International \n",
       "Cups](https://fbref.com/en/players/bc7dc64d/goallogs/intl_cup/Bukayo-Saka-Goal-Log)\\n- [National \n",
       "Team](https://fbref.com/en/players/bc7dc64d/goallogs/nat_tm/Bukayo-Saka-Goal-Log)\\n\\nScouting Report\\n\\n- [Last 365\n",
       "Days Men's Big 5 Leagues, UCL, \n",
       "UEL](https://fbref.com/en/players/bc7dc64d/scout/365_m1/Bukayo-Saka-Scouting-Report)\\n- [2024-2025 Premier \n",
       "League](https://fbref.com/en/players/bc7dc64d/scout/12524/Bukayo-Saka-Scouting-Report)\\n- [2024-2025 Champions \n",
       "League](https://fbref.com/en/players/bc7dc64d/scout/12623/Bukayo-Saka-Scouting-Report)\\n- [2024 UEFA Euro \n",
       "2024](https://fbref.com/en/players/bc7dc64d/scout/10279/Bukayo-Saka-Scouting-Report)\\n- [2023-2024 Champions \n",
       "League](https://fbref.com/en/players/bc7dc64d/scout/11835/Bukayo-Saka-Scouting-Report)\\n- [2023-2024 Premier \n",
       "League](https://fbref.com/en/players/bc7dc64d/scout/12192/Bukayo-Saka-Scouting-Report)\\n- [2022-2023 Europa \n",
       "League](https://fbref.com/en/players/bc7dc64d/scout/11455/Bukayo-Saka-Scouting-Report)\\n- [2022-2023 Premier \n",
       "League](https://fbref.com/en/players/bc7dc64d/scout/11566/Bukayo-Saka-Scouting-Report)\\n- [2022 World \n",
       "Cup](https://fbref.com/en/players/bc7dc64d/scout/1711/Bukayo-Saka-Scouting-Report)\\n- [2021-2022 Premier \n",
       "League](https://fbref.com/en/players/bc7dc64d/scout/11160/Bukayo-Saka-Scouting-Report)\\n- [2021 UEFA Euro \n",
       "2020](https://fbref.com/en/players/bc7dc64d/scout/10278/Bukayo-Saka-Scouting-Report)\\n- [2020-2021 Europa \n",
       "League](https://fbref.com/en/players/bc7dc64d/scout/10097/Bukayo-Saka-Scouting-Report)\\n- [2020-2021 Premier \n",
       "League](https://fbref.com/en/players/bc7dc64d/scout/10728/Bukayo-Saka-Scouting-Report)\\n- [2019-2020 Europa \n",
       "League](https://fbref.com/en/players/bc7dc64d/scout/2901/Bukayo-Saka-Scouting-Report)\\n- [2019-2020 Premier \n",
       "League](https://fbref.com/en/players/bc7dc64d/scout/3232/Bukayo-Saka-Scouting-Report)\\n\\nStathead &amp; Player \n",
       "Comparison\\n\\n- [Player Match \n",
       "Finder](https://stathead.com/fbref/player-match-finder.cgi?player_id=bc7dc64d&amp;comp_gender=m&amp;utm_source=fb&amp;utm_mediu\n",
       "m=sr_xsite&amp;utm_campaign=2023_11_player_innernav_stathead)\\n- [Player Season \n",
       "Finder](https://stathead.com/fbref/player-season-finder.cgi?player_id=bc7dc64d&amp;comp_gender=m&amp;utm_source=fb&amp;utm_medi\n",
       "um=sr_xsite&amp;utm_campaign=2023_11_player_innernav_stathead)\\n- [Player \n",
       "Comparison](https://fbref.com/en/stathead/player_comparison.cgi?show_form=1&amp;request=1&amp;sum=0&amp;comp_type=by_type&amp;dom_l\n",
       "g=1&amp;player_id1=bc7dc64d&amp;p1yrfrom=2024-2025&amp;player_id2=de112b84&amp;p2yrfrom=2024-2025&amp;player_id3=8236f673&amp;p3yrfrom=2024\n",
       "-2025&amp;player_id4=d781d855&amp;p4yrfrom=2024-2025&amp;player_id5=f36d5624&amp;p5yrfrom=2024-2025&amp;player_id6=0313a347&amp;p6yrfrom=20\n",
       "24-2025)\\n\\n- Stats by Competition\\n\\n\\nStats by Competition\\n\\n\\n\\n- [All \n",
       "Competitions](https://fbref.com/en/players/bc7dc64d/all_comps/Bukayo-Saka-Stats---All-Competitions)\\n- [Domestic \n",
       "Leagues](https://fbref.com/en/players/bc7dc64d/dom_lg/Bukayo-Saka-Domestic-League-Stats)\\n- [Domestic \n",
       "Cups](https://fbref.com/en/players/bc7dc64d/dom_cup/Bukayo-Saka-Domestic-Cup-Stats)\\n- [International \n",
       "Cups](https://fbref.com/en/players/bc7dc64d/intl_cup/Bukayo-Saka-International-Cup-Stats)\\n- [National \n",
       "Team](https://fbref.com/en/players/bc7dc64d/nat_tm/Bukayo-Saka-National-Team-Stats)\\n\\n- Match Logs\\n\\n\\nMatch Logs\n",
       "(Summary)\\n\\n\\n\\n- \n",
       "[2018-2019](https://fbref.com/en/players/bc7dc64d/matchlogs/2018-2019/summary/Bukayo-Saka-Match-Logs)\\n- \n",
       "[2019-2020](https://fbref.com/en/players/bc7dc64d/matchlogs/2019-2020/summary/Bukayo-Saka-Match-Logs)\\n- \n",
       "[2020-2021](https://fbref.com/en/players/bc7dc64d/matchlogs/2020-2021/summary/Bukayo-Saka-Match-Logs)\\n- \n",
       "[2021-2022](https://fbref.com/en/players/bc7dc64d/matchlogs/2021-2022/summary/Bukayo-Saka-Match-Logs)\\n- \n",
       "[2022-2023](https://fbref.com/en/players/bc7dc64d/matchlogs/2022-2023/summary/Bukayo-Saka-Match-Logs)\\n- \n",
       "[2023-2024](https://fbref.com/en/players/bc7dc64d/matchlogs/2023-2024/summary/Bukayo-Saka-Match-Logs)\\n- \n",
       "[2024-2025](https://fbref.com/en/players/bc7dc64d/matchlogs/2024-2025/summary/Bukayo-Saka-Match-Logs)\\n- [National \n",
       "Team](https://fbref.com/en/players/bc7dc64d/matchlogs/nat_tm/summary/Bukayo-Saka-Match-Logs)\\n\\nMatch Logs \n",
       "(Passing)\\n\\n- \n",
       "[2018-2019](https://fbref.com/en/players/bc7dc64d/matchlogs/2018-2019/passing/Bukayo-Saka-Match-Logs)\\n- \n",
       "[2019-2020](https://fbref.com/en/players/bc7dc64d/matchlogs/2019-2020/passing/Bukayo-Saka-Match-Logs)\\n- \n",
       "[2020-2021](https://fbref.com/en/players/bc7dc64d/matchlogs/2020-2021/passing/Bukayo-Saka-Match-Logs)\\n- \n",
       "[2021-2022](https://fbref.com/en/players/bc7dc64d/matchlogs/2021-2022/passing/Bukayo-Saka-Match-Logs)\\n- \n",
       "[2022-2023](https://fbref.com/en/players/bc7dc64d/matchlogs/2022-2023/passing/Bukayo-Saka-Match-Logs)\\n- \n",
       "[2023-2024](https://fbref.com/en/players/bc7dc64d/matchlogs/2023-2024/passing/Bukayo-Saka-Match-Logs)\\n- \n",
       "[2024-2025](https://fbref.com/en/players/bc7dc64d/matchlogs/2024-2025/passing/Bukayo-Saka-Match-Logs)\\n- [National \n",
       "Team](https://fbref.com/en/players/bc7dc64d/matchlogs/nat_tm/passing/Bukayo-Saka-Match-Logs)\\n\\nMatch Logs (Pass \n",
       "Types)\\n\\n- \n",
       "[2018-2019](https://fbref.com/en/players/bc7dc64d/matchlogs/2018-2019/passing_types/Bukayo-Saka-Match-Logs)\\n- \n",
       "[2019-2020](https://fbref.com/en/players/bc7dc64d/matchlogs/2019-2020/passing_types/Bukayo-Saka-Match-Logs)\\n- \n",
       "[2020-2021](https://fbref.com/en/players/bc7dc64d/matchlogs/2020-2021/passing_types/Bukayo-Saka-Match-Logs)\\n- \n",
       "[2021-2022](https://fbref.com/en/players/bc7dc64d/matchlogs/2021-2022/passing_types/Bukayo-Saka-Match-Logs)\\n- \n",
       "[2022-2023](https://fbref.com/en/players/bc7dc64d/matchlogs/2022-2023/passing_types/Bukayo-Saka-Match-Logs)\\n- \n",
       "[2023-2024](https://fbref.com/en/players/bc7dc64d/matchlogs/2023-2024/passing_types/Bukayo-Saka-Match-Logs)\\n- \n",
       "[2024-2025](https://fbref.com/en/players/bc7dc64d/matchlogs/2024-2025/passing_types/Bukayo-Saka-Match-Logs)\\n- \n",
       "[National \n",
       "Team](https://fbref.com/en/players/bc7dc64d/matchlogs/nat_tm/passing_types/Bukayo-Saka-Match-Logs)\\n\\nMatch Logs \n",
       "(Goal and Shot Creation)\\n\\n- \n",
       "[2018-2019](https://fbref.com/en/players/bc7dc64d/matchlogs/2018-2019/gca/Bukayo-Saka-Match-Logs)\\n- \n",
       "[2019-2020](https://fbref.com/en/players/bc7dc64d/matchlogs/2019-2020/gca/Bukayo-Saka-Match-Logs)\\n- \n",
       "[2020-2021](https://fbref.com/en/players/bc7dc64d/matchlogs/2020-2021/gca/Bukayo-Saka-Match-Logs)\\n- \n",
       "[2021-2022](https://fbref.com/en/players/bc7dc64d/matchlogs/2021-2022/gca/Bukayo-Saka-Match-Logs)\\n- \n",
       "[2022-2023](https://fbref.com/en/players/bc7dc64d/matchlogs/2022-2023/gca/Bukayo-Saka-Match-Logs)\\n- \n",
       "[2023-2024](https://fbref.com/en/players/bc7dc64d/matchlogs/2023-2024/gca/Bukayo-Saka-Match-Logs)\\n- \n",
       "[2024-2025](https://fbref.com/en/players/bc7dc64d/matchlogs/2024-2025/gca/Bukayo-Saka-Match-Logs)\\n- [National \n",
       "Team](https://fbref.com/en/players/bc7dc64d/matchlogs/nat_tm/gca/Bukayo-Saka-Match-Logs)\\n\\nMatch Logs (Defensive \n",
       "Actions)\\n\\n- \n",
       "[2018-2019](https://fbref.com/en/players/bc7dc64d/matchlogs/2018-2019/defense/Bukayo-Saka-Match-Logs)\\n- \n",
       "[2019-2020](https://fbref.com/en/players/bc7dc64d/matchlogs/2019-2020/defense/Bukayo-Saka-Match-Logs)\\n- \n",
       "[2020-2021](https://fbref.com/en/players/bc7dc64d/matchlogs/2020-2021/defense/Bukayo-Saka-Match-Logs)\\n- \n",
       "[2021-2022](https://fbref.com/en/players/bc7dc64d/matchlogs/2021-2022/defense/Bukayo-Saka-Match-Logs)\\n- \n",
       "[2022-2023](https://fbref.com/en/players/bc7dc64d/matchlogs/2022-2023/defense/Bukayo-Saka-Match-Logs)\\n- \n",
       "[2023-2024](https://fbref.com/en/players/bc7dc64d/matchlogs/2023-2024/defense/Bukayo-Saka-Match-Logs)\\n- \n",
       "[2024-2025](https://fbref.com/en/players/bc7dc64d/matchlogs/2024-2025/defense/Bukayo-Saka-Match-Logs)\\n- [National \n",
       "Team](https://fbref.com/en/players/bc7dc64d/matchlogs/nat_tm/defense/Bukayo-Saka-Match-Logs)\\n\\nMatch Logs \n",
       "(Possession)\\n\\n- \n",
       "[2018-2019](https://fbref.com/en/players/bc7dc64d/matchlogs/2018-2019/possession/Bukayo-Saka-Match-Logs)\\n- \n",
       "[2019-2020](https://fbref.com/en/players/bc7dc64d/matchlogs/2019-2020/possession/Bukayo-Saka-Match-Logs)\\n- \n",
       "[2020-2021](https://fbref.com/en/players/bc7dc64d/matchlogs/2020-2021/possession/Bukayo-Saka-Match-Logs)\\n- \n",
       "[2021-2022](https://fbref.com/en/players/bc7dc64d/matchlogs/2021-2022/possession/Bukayo-Saka-Match-Logs)\\n- \n",
       "[2022-2023](https://fbref.com/en/players/bc7dc64d/matchlogs/2022-2023/possession/Bukayo-Saka-Match-Logs)\\n- \n",
       "[2023-2024](https://fbref.com/en/players/bc7dc64d/matchlogs/2023-2024/possession/Bukayo-Saka-Match-Logs)\\n- \n",
       "[2024-2025](https://fbref.com/en/players/bc7dc64d/matchlogs/2024-2025/possession/Bukayo-Saka-Match-Logs)\\n- \n",
       "[National Team](https://fbref.com/en/players/bc7dc64d/matchlogs/nat_tm/possession/Bukayo-Saka-Match-Logs)\\n\\nMatch \n",
       "Logs (Miscellaneous Stats)\\n\\n- \n",
       "[2018-2019](https://fbref.com/en/players/bc7dc64d/matchlogs/2018-2019/misc/Bukayo-Saka-Match-Logs)\\n- \n",
       "[2019-2020](https://fbref.com/en/players/bc7dc64d/matchlogs/2019-2020/misc/Bukayo-Saka-Match-Logs)\\n- \n",
       "[2020-2021](https://fbref.com/en/players/bc7dc64d/matchlogs/2020-2021/misc/Bukayo-Saka-Match-Logs)\\n- \n",
       "[2021-2022](https://fbref.com/en/players/bc7dc64d/matchlogs/2021-2022/misc/Bukayo-Saka-Match-Logs)\\n- \n",
       "[2022-2023](https://fbref.com/en/players/bc7dc64d/matchlogs/2022-2023/misc/Bukayo-Saka-Match-Logs)\\n- \n",
       "[2023-2024](https://fbref.com/en/players/bc7dc64d/matchlogs/2023-2024/misc/Bukayo-Saka-Match-Logs)\\n- \n",
       "[2024-2025](https://fbref.com/en/players/bc7dc64d/matchlogs/2024-2025/misc/Bukayo-Saka-Match-Logs)\\n- [National \n",
       "Team](https://fbref.com/en/players/bc7dc64d/matchlogs/nat_tm/misc/Bukayo-Saka-Match-Logs)\\n\\n- Goal Logs\\n\\n\\nGoal \n",
       "Logs by Competition\\n\\n\\n\\n- [All \n",
       "Competitions](https://fbref.com/en/players/bc7dc64d/goallogs/all_comps/Bukayo-Saka-Goal-Log)\\n- [Domestic \n",
       "Leagues](https://fbref.com/en/players/bc7dc64d/goallogs/dom_lg/Bukayo-Saka-Goal-Log)\\n- [Domestic \n",
       "Cups](https://fbref.com/en/players/bc7dc64d/goallogs/dom_cup/Bukayo-Saka-Goal-Log)\\n- [International \n",
       "Cups](https://fbref.com/en/players/bc7dc64d/goallogs/intl_cup/Bukayo-Saka-Goal-Log)\\n- [National \n",
       "Team](https://fbref.com/en/players/bc7dc64d/goallogs/nat_tm/Bukayo-Saka-Goal-Log)\\n\\n- Scouting \n",
       "Report\\n\\n\\nScouting Report\\n\\n\\n\\n- [Last 365 Days Men's Big 5 Leagues, UCL, \n",
       "UEL](https://fbref.com/en/players/bc7dc64d/scout/365_m1/Bukayo-Saka-Scouting-Report)\\n- [2024-2025 Premier \n",
       "League](https://fbref.com/en/players/bc7dc64d/scout/12524/Bukayo-Saka-Scouting-Report)\\n- [2024-2025 Champions \n",
       "League](https://fbref.com/en/players/bc7dc64d/scout/12623/Bukayo-Saka-Scouting-Report)\\n- [2024 UEFA Euro \n",
       "2024](https://fbref.com/en/players/bc7dc64d/scout/10279/Bukayo-Saka-Scouting-Report)\\n- [2023-2024 Champions \n",
       "League](https://fbref.com/en/players/bc7dc64d/scout/11835/Bukayo-Saka-Scouting-Report)\\n- [2023-2024 Premier \n",
       "League](https://fbref.com/en/players/bc7dc64d/scout/12192/Bukayo-Saka-Scouting-Report)\\n- [2022-2023 Europa \n",
       "League](https://fbref.com/en/players/bc7dc64d/scout/11455/Bukayo-Saka-Scouting-Report)\\n- [2022-2023 Premier \n",
       "League](https://fbref.com/en/players/bc7dc64d/scout/11566/Bukayo-Saka-Scouting-Report)\\n- [2022 World \n",
       "Cup](https://fbref.com/en/players/bc7dc64d/scout/1711/Bukayo-Saka-Scouting-Report)\\n- [2021-2022 Premier \n",
       "League](https://fbref.com/en/players/bc7dc64d/scout/11160/Bukayo-Saka-Scouting-Report)\\n- [2021 UEFA Euro \n",
       "2020](https://fbref.com/en/players/bc7dc64d/scout/10278/Bukayo-Saka-Scouting-Report)\\n- [2020-2021 Europa \n",
       "League](https://fbref.com/en/players/bc7dc64d/scout/10097/Bukayo-Saka-Scouting-Report)\\n- [2020-2021 Premier \n",
       "League](https://fbref.com/en/players/bc7dc64d/scout/10728/Bukayo-Saka-Scouting-Report)\\n- [2019-2020 Europa \n",
       "League](https://fbref.com/en/players/bc7dc64d/scout/2901/Bukayo-Saka-Scouting-Report)\\n- [2019-2020 Premier \n",
       "League](https://fbref.com/en/players/bc7dc64d/scout/3232/Bukayo-Saka-Scouting-Report)\\n\\n- \n",
       "Stathead/Compare\\n\\n\\nStathead &amp; Player Comparison\\n\\n\\n\\n- [Player Match \n",
       "Finder](https://stathead.com/fbref/player-match-finder.cgi?player_id=bc7dc64d&amp;comp_gender=m&amp;utm_source=fb&amp;utm_mediu\n",
       "m=sr_xsite&amp;utm_campaign=2023_11_player_innernav_stathead)\\n- [Player Season \n",
       "Finder](https://stathead.com/fbref/player-season-finder.cgi?player_id=bc7dc64d&amp;comp_gender=m&amp;utm_source=fb&amp;utm_medi\n",
       "um=sr_xsite&amp;utm_campaign=2023_11_player_innernav_stathead)\\n- [Player \n",
       "Comparison](https://fbref.com/en/stathead/player_comparison.cgi?show_form=1&amp;request=1&amp;sum=0&amp;comp_type=by_type&amp;dom_l\n",
       "g=1&amp;player_id1=bc7dc64d&amp;p1yrfrom=2024-2025&amp;player_id2=de112b84&amp;p2yrfrom=2024-2025&amp;player_id3=8236f673&amp;p3yrfrom=2024\n",
       "-2025&amp;player_id4=d781d855&amp;p4yrfrom=2024-2025&amp;player_id5=f36d5624&amp;p5yrfrom=2024-2025&amp;player_id6=0313a347&amp;p6yrfrom=20\n",
       "24-2025)\\n\\n- \n",
       "[Arsenal](https://fbref.com/en/squads/18bb7c10/Arsenal-Stats)\\n\\n\\n[Arsenal](https://fbref.com/en/squads/18bb7c10/A\n",
       "rsenal-Stats)\\n\\n(18-14-4, 2nd place in Premier League)\\n\\n\\n\\n\\n\\n\\n\\nRoster\\n\\n\\n\\n- [Nathan \n",
       "Butler-Oyedeji](https://fbref.com/en/players/3a686640/Nathan-Butler-Oyedeji)\\n- [Riccardo \n",
       "Calafiori](https://fbref.com/en/players/aded8e6f/Riccardo-Calafiori)\\n- [Brayden \n",
       "Clarke](https://fbref.com/en/players/f9657b1b/Brayden-Clarke)\\n- [Jimi \n",
       "Gower](https://fbref.com/en/players/4571f93e/Jimi-Gower)\\n- [Kai \n",
       "Havertz](https://fbref.com/en/players/fed7cb61/Kai-Havertz)\\n- [Ayden \n",
       "Heaven](https://fbref.com/en/players/64e17fab/Ayden-Heaven)\\n- [Jack \n",
       "Henry-Francis](https://fbref.com/en/players/e93d8ed1/Jack-Henry-Francis)\\n- [Gabriel \n",
       "Jesus](https://fbref.com/en/players/b66315ae/Gabriel-Jesus)\\n- \n",
       "[Jorginho](https://fbref.com/en/players/45db685d/Jorginho)\\n- [Ismeal \n",
       "Kabia](https://fbref.com/en/players/6b15cf32/Ismeal-Kabia)\\n\\n[Maldini \n",
       "Kacurri](https://fbref.com/en/players/7be4311f/Maldini-Kacurri)\\n[Jakub \n",
       "Kiwior](https://fbref.com/en/players/dc3e663e/Jakub-Kiwior)\\n[Myles \n",
       "Lewis-Skelly](https://fbref.com/en/players/5dff6c28/Myles-Lewis-Skelly)\\n[Gabriel \n",
       "Magalhães](https://fbref.com/en/players/67ac5bb8/Gabriel-Magalhaes)\\n[Gabriel \n",
       "Martinelli](https://fbref.com/en/players/48a5a5d6/Gabriel-Martinelli)\\n[Mikel \n",
       "Merino](https://fbref.com/en/players/d080ed5e/Mikel-Merino)\\n[Zane \n",
       "Monlouis](https://fbref.com/en/players/7745640e/Zane-Monlouis)\\n[Reiss \n",
       "Nelson](https://fbref.com/en/players/c5bdb6e3/Reiss-Nelson)\\n[Neto](https://fbref.com/en/players/a9dc785c/Neto)\\n[J\n",
       "osh Nichols](https://fbref.com/en/players/676cf55d/Josh-Nichols)\\n[Eddie \n",
       "Nketiah](https://fbref.com/en/players/a53649b7/Eddie-Nketiah)\\n[Ethan \n",
       "Nwaneri](https://fbref.com/en/players/7f94982c/Ethan-Nwaneri)\\n[Salah Oulad \n",
       "M'Hand](https://fbref.com/en/players/b85c3273/Salah-Oulad-MHand)\\n[Thomas \n",
       "Partey](https://fbref.com/en/players/529f49ab/Thomas-Partey)\\n[Jack \n",
       "Porter](https://fbref.com/en/players/0b4ecd65/Jack-Porter)\\n[Aaron \n",
       "Ramsdale](https://fbref.com/en/players/466fb2c5/Aaron-Ramsdale)\\n[David \n",
       "Raya](https://fbref.com/en/players/98ea5115/David-Raya)\\n[Declan \n",
       "Rice](https://fbref.com/en/players/1c7012b8/Declan-Rice)\\n[Josh \n",
       "Robinson](https://fbref.com/en/players/5260ea6b/Josh-Robinson)\\n[Alexei \n",
       "Rojas](https://fbref.com/en/players/eb189764/Alexei-Rojas)\\n[Michal \n",
       "Rosiak](https://fbref.com/en/players/dbd6a18f/Michal-Rosiak)\\n[Bukayo \n",
       "Saka](https://fbref.com/en/players/bc7dc64d/Bukayo-Saka)\\n[William \n",
       "Saliba](https://fbref.com/en/players/972aeb2a/William-Saliba)\\n[Tommy \n",
       "Setford](https://fbref.com/en/players/d1a2e006/Tommy-Setford)\\n[Raheem \n",
       "Sterling](https://fbref.com/en/players/b400bde0/Raheem-Sterling)\\n[Kieran \n",
       "Tierney](https://fbref.com/en/players/fce2302c/Kieran-Tierney)\\n[Jurriën \n",
       "Timber](https://fbref.com/en/players/41034650/Jurrien-Timber)\\n[Takehiro \n",
       "Tomiyasu](https://fbref.com/en/players/b3af9be1/Takehiro-Tomiyasu)\\n[Leandro \n",
       "Trossard](https://fbref.com/en/players/38ceb24a/Leandro-Trossard)\\n[Ben \n",
       "White](https://fbref.com/en/players/35e413f1/Ben-White)\\n[Oleksandr \n",
       "Zinchenko](https://fbref.com/en/players/51cf8561/Oleksandr-Zinchenko)\\n[Martin \n",
       "Ødegaard](https://fbref.com/en/players/79300479/Martin-Odegaard)\\n\\nSh\n",
       "..._This content has been truncated to stay below 50000 characters_...\n",
       "le=\"\"&gt;eng&lt;/span&gt;&lt;/a&gt; &lt;a href=\"https://fbref.com/en/country/ENG/England-Football\"&gt;ENG&lt;/a&gt;&lt;/td&gt;&lt;td class=\"left \" \n",
       "data-stat=\"comp_level\" csk=\"1a.9\"&gt;&lt;span class=\"level\"&gt;1.&lt;/span&gt; &lt;a \n",
       "href=\"https://fbref.com/en/comps/9/Premier-League-Stats\"&gt;Premier League&lt;/a&gt;&lt;/td&gt;&lt;td class=\"right group_start\" \n",
       "data-stat=\"weekly_wages\" csk=\"12025741\"&gt;&lt;strong&gt;£ 195,000&lt;/strong&gt; (€ 231,264, $258,846)&lt;/td&gt;&lt;td class=\"right \" \n",
       "data-stat=\"annual_wages\" csk=\"12025741\"&gt;&lt;strong&gt;£ 10,140,000&lt;/strong&gt; (€ 12,025,741, $13,459,997)&lt;/td&gt;&lt;td \n",
       "class=\"left iz\" data-stat=\"notes\"&gt;&lt;/td&gt;&lt;/tr&gt;\\n&lt;tr class=\"spacer partial_table\"&gt;&lt;th scope=\"row\" class=\"left iz\" \n",
       "data-stat=\"year\" colspan=\"\"&gt;&lt;/th&gt;&lt;td class=\"center iz\" data-stat=\"age\"&gt;&lt;/td&gt;&lt;td class=\"left iz\" \n",
       "data-stat=\"team\"&gt;&lt;/td&gt;&lt;td class=\"left iz\" data-stat=\"country\"&gt;&lt;/td&gt;&lt;td class=\"left iz\" \n",
       "data-stat=\"comp_level\"&gt;&lt;/td&gt;&lt;td class=\"right iz group_start\" data-stat=\"weekly_wages\"&gt;&lt;/td&gt;&lt;td class=\"right iz\" \n",
       "data-stat=\"annual_wages\"&gt;&lt;/td&gt;&lt;td class=\"left iz\" data-stat=\"notes\"&gt;&lt;/td&gt;&lt;/tr&gt;\\n&lt;tr&gt;&lt;th scope=\"row\" class=\"left \" \n",
       "data-stat=\"year\" colspan=\"\"&gt;2025-2026&lt;/th&gt;&lt;td class=\"center \" data-stat=\"age\"&gt;23&lt;/td&gt;&lt;td class=\"left \" \n",
       "data-stat=\"team\"&gt;&lt;a href=\"https://fbref.com/en/squads/18bb7c10/Arsenal-Stats\"&gt;Arsenal&lt;/a&gt;&lt;/td&gt;&lt;td class=\"left \" \n",
       "data-stat=\"country\"&gt;&lt;a href=\"https://fbref.com/en/country/ENG/England-Football\"&gt;&lt;span class=\"f-i f-gb-eng\" \n",
       "style=\"\"&gt;eng&lt;/span&gt;&lt;/a&gt; &lt;a href=\"https://fbref.com/en/country/ENG/England-Football\"&gt;ENG&lt;/a&gt;&lt;/td&gt;&lt;td class=\"left \" \n",
       "data-stat=\"comp_level\" csk=\"1a.9\"&gt;&lt;span class=\"level\"&gt;1.&lt;/span&gt; &lt;a \n",
       "href=\"https://fbref.com/en/comps/9/Premier-League-Stats\"&gt;Premier League&lt;/a&gt;&lt;/td&gt;&lt;td class=\"right group_start\" \n",
       "data-stat=\"weekly_wages\" csk=\"12025741\"&gt;&lt;strong&gt;£ 195,000&lt;/strong&gt; (€ 231,264, $258,846)&lt;/td&gt;&lt;td class=\"right \" \n",
       "data-stat=\"annual_wages\" csk=\"12025741\"&gt;&lt;strong&gt;£ 10,140,000&lt;/strong&gt; (€ 12,025,741, $13,459,997)&lt;/td&gt;&lt;td \n",
       "class=\"left iz\" data-stat=\"notes\"&gt;&lt;/td&gt;&lt;/tr&gt;\\n&lt;tr&gt;&lt;th scope=\"row\" class=\"left \" data-stat=\"year\" \n",
       "colspan=\"\"&gt;2026-2027&lt;/th&gt;&lt;td class=\"center \" data-stat=\"age\"&gt;24&lt;/td&gt;&lt;td class=\"left \" data-stat=\"team\"&gt;&lt;a \n",
       "href=\"https://fbref.com/en/squads/18bb7c10/Arsenal-Stats\"&gt;Arsenal&lt;/a&gt;&lt;/td&gt;&lt;td class=\"left \" data-stat=\"country\"&gt;&lt;a \n",
       "href=\"https://fbref.com/en/country/ENG/England-Football\"&gt;&lt;span class=\"f-i f-gb-eng\" style=\"\"&gt;eng&lt;/span&gt;&lt;/a&gt; &lt;a \n",
       "href=\"https://fbref.com/en/country/ENG/England-Football\"&gt;ENG&lt;/a&gt;&lt;/td&gt;&lt;td class=\"left \" data-stat=\"comp_level\" \n",
       "csk=\"1a.9\"&gt;&lt;span class=\"level\"&gt;1.&lt;/span&gt; &lt;a href=\"https://fbref.com/en/comps/9/Premier-League-Stats\"&gt;Premier \n",
       "League&lt;/a&gt;&lt;/td&gt;&lt;td class=\"right group_start\" data-stat=\"weekly_wages\" csk=\"12025741\"&gt;&lt;strong&gt;£ 195,000&lt;/strong&gt; (€ \n",
       "231,264, $258,846)&lt;/td&gt;&lt;td class=\"right \" data-stat=\"annual_wages\" csk=\"12025741\"&gt;&lt;strong&gt;£ 10,140,000&lt;/strong&gt; (€ \n",
       "12,025,741, $13,459,997)&lt;/td&gt;&lt;td class=\"left iz\" data-stat=\"notes\"&gt;&lt;/td&gt;&lt;/tr&gt;\\n&lt;/tbody&gt;&lt;tfoot&gt;&lt;tr&gt;&lt;th scope=\"row\" \n",
       "class=\"left \" data-stat=\"year\" colspan=\"\"&gt;&lt;a href=\"https://fbref.com/en/players/bc7dc64d/Bukayo-Saka#coverage\"&gt;7 \n",
       "Seasons&lt;/a&gt;*&lt;/th&gt;&lt;td class=\"center iz\" data-stat=\"age\"&gt;&lt;/td&gt;&lt;td class=\"left \" data-stat=\"team\"&gt;1 Club&lt;/td&gt;&lt;td \n",
       "class=\"left iz\" data-stat=\"country\"&gt;&lt;/td&gt;&lt;td class=\"left iz\" data-stat=\"comp_level\"&gt;&lt;/td&gt;&lt;td class=\"right iz \n",
       "group_start\" data-stat=\"weekly_wages\"&gt;&lt;/td&gt;&lt;td class=\"right iz\" data-stat=\"annual_wages\"&gt;&lt;/td&gt;&lt;td class=\"left iz\" \n",
       "data-stat=\"notes\"&gt;&lt;/td&gt;&lt;/tr&gt;\\n\\n   &lt;/tfoot&gt;\\n\\n&lt;/table&gt;\\n\\n\\n&lt;/div&gt;\\n&lt;/div&gt;\\n\\n            \\n            \\n        \n",
       "\\n         \\n      \\n         \\n            &lt;div class=\"section_wrapper\" id=\"all_resources_other\"&gt;\\n&lt;div \n",
       "class=\"section_heading assoc_resources_other\" id=\"resources_other_sh\"&gt;\\n  &lt;span class=\"section_anchor\" \n",
       "id=\"resources_other_link\" data-label=\"Additional Resources\"&gt;&lt;/span&gt;&lt;h2&gt;Additional Resources&lt;/h2&gt;\\n      &lt;div \n",
       "class=\"section_heading_text\"&gt;\\n      &lt;ul&gt;\\n      &lt;/ul&gt;\\n    &lt;/div&gt;\\n    \\n    \\t\\t\\n&lt;/div&gt;&lt;div \n",
       "class=\"placeholder\"&gt;&lt;/div&gt;\\n&lt;!--     &lt;div class=\"section_content\" id=\"div_resources_other\"&gt;\\n\\t    &lt;a \n",
       "rel=\"nofollow\" href=\"https://en.wikipedia.org/wiki/Bukayo Saka\"&gt;Wikipedia&lt;/a&gt; &amp;nbsp; &amp;nbsp;\\n &amp;#183; &lt;a \n",
       "rel=\"nofollow\" href=\"https://www.wikidata.org/wiki/Q59306386\"&gt;Wikidata&lt;/a&gt; &amp;nbsp; &amp;nbsp;\\n\\n\\t\\t\\n    &lt;/div&gt;\\n--&gt;\\n\n",
       "&lt;div class=\"section_content\" id=\"div_resources_other\"&gt;\\n\\t    &lt;a rel=\"nofollow\" \n",
       "href=\"https://en.wikipedia.org/wiki/Bukayo%20Saka\"&gt;Wikipedia&lt;/a&gt; &amp;nbsp; &amp;nbsp;\\n · &lt;a rel=\"nofollow\" \n",
       "href=\"https://www.wikidata.org/wiki/Q59306386\"&gt;Wikidata&lt;/a&gt; &amp;nbsp; &amp;nbsp;\\n\\n\\t\\t\\n    &lt;/div&gt;\\n&lt;/div&gt;\\n\\n          \n",
       "\\n            \\n            \\n         \\n      \\n\\n&lt;!-- global.nonempty_tables_num: 17, table_count: 17 --&gt;\\n   \n",
       "&lt;div id=\"coverage\" style=\"margin-bottom:60px\" data-comment=\"style is for the inner nav frozen to top of \n",
       "page\"&gt;&lt;/div&gt;\\n&lt;div class=\"callout light\"&gt;\\n    &lt;h3&gt;About FBref.com&lt;/h3&gt;\\n    \\n    \\n    \\n    \\n    \\n\\n\\n    \\n  \n",
       "\\n    &lt;p&gt;\\n    FBref.com launched (June 13, 2018) with domestic league coverage for England, France, Germany, \n",
       "Italy, Spain, and United States. Since then we have been steadily expanding our coverage to include domestic \n",
       "leagues from over 40 countries as well as domestic cup, super cup and youth leagues from top European countries. We\n",
       "have also added coverage for major international cups such as the &lt;a \n",
       "href=\"https://fbref.com/en/comps/8/UEFA-Champions-League-Stats\"&gt;UEFA Champions League&lt;/a&gt; and &lt;a \n",
       "href=\"https://fbref.com/en/comps/14/Copa-Libertadores-Stats\"&gt;Copa Libertadores&lt;/a&gt;.\\n    &lt;/p&gt;\\n\\n    \\n    &lt;p&gt;\\n   \n",
       "FBref is the most complete sources for women\\'s football data on the internet. This includes the entire history of \n",
       "the &lt;a href=\"https://fbref.com/en/comps/106/history/Womens-World-Cup-Seasons\"&gt;FIFA Women\\'s World Cup&lt;/a&gt; as well \n",
       "as recent domestic league seasons from nine countries, including advanced stats like xG for most of those nine.\\n  \n",
       "&lt;/p&gt;\\n\\n    \\n    \\n    &lt;p&gt;\\n    In collaboration with &lt;a href=\"https://www.statsperform.com/opta/\"&gt;Opta&lt;/a&gt;, we \n",
       "are including advanced analytical data such as xG, xA, progressive passing, duels and more for over twenty \n",
       "competitions. For more information on the expected goals model and which competitions have advanced data, see our \n",
       "&lt;a href=\"https://fbref.com/en/expected-goals-model-explained/\"&gt;xG explainer&lt;/a&gt;.\\n    &lt;/p&gt;\\n\\n    \\n\\n    &lt;button \n",
       "class=\"tooltip opener\" data-selector=\"#coverage_additional\" data-type=\"hide_after\" data-has-listener=\"true\"&gt;View \n",
       "Additional Information&lt;/button&gt;\\n\\n    &lt;div id=\"coverage_additional\" class=\"toggleable\"&gt;\\n        &lt;p&gt;\\n        Note\n",
       "that player records are likely not complete for their careers. Players may come from or move to leagues we don\\'t \n",
       "currently cover. This issue will go down over time, as we add new leagues and seasons. We will never in the future \n",
       "have less data than we do today.\\n        &lt;/p&gt;\\n\\n        &lt;p&gt;You can sign up to &lt;a \n",
       "href=\"https://fbref.com/en/email\"&gt;receive an e-mail&lt;/a&gt; when new countries and features launch.&lt;/p&gt;\\n\\n        \n",
       "&lt;p&gt;For more information, see our &lt;a \n",
       "href=\"https://www.sports-reference.com/blog/2018/06/fbref-com-launches-today\"&gt;Launch Blog Post&lt;/a&gt;, the overall &lt;a \n",
       "href=\"https://fbref.com/en/comps/\"&gt;leagues/competition page&lt;/a&gt; with details on leagues and seasons we include, or \n",
       "our &lt;a href=\"https://fbref.com/en/about/\"&gt;About Page&lt;/a&gt;.  &lt;a href=\"https://fbref.com/feedback/\"&gt;Let us know if you\n",
       "find an issue or have a suggestion&lt;/a&gt;.&lt;/p&gt;\\n\\n        &lt;p&gt;FBref is one of seven &lt;a \n",
       "href=\"https://www.sports-reference.com/\"&gt;Sports-Reference.com&lt;/a&gt; sites.&lt;/p&gt;\\n    &lt;/div&gt;\\n&lt;/div&gt;\\n\\n&lt;div \n",
       "id=\"bottom_nav\" class=\"section_wrapper\"&gt;\\n&lt;div class=\"section_heading\"&gt;&lt;span data-no-inpage=\"1\" \n",
       "class=\"section_anchor\" id=\"inner_nav_bottom_link\" data-label=\"More Bukayo Saka Pages\"&gt;&lt;/span&gt;&lt;h2&gt;More Bukayo Saka \n",
       "Pages&lt;/h2&gt;&lt;/div&gt;\\n&lt;div class=\"section_content\" id=\"bottom_nav_container\"&gt;\\n\\n  &lt;p&gt;&lt;a \n",
       "href=\"https://fbref.com/en/players/bc7dc64d/Bukayo-Saka\"&gt;Bukayo Saka Overview&lt;/a&gt;&lt;/p&gt;\\n  &lt;p class=\"listhead\"&gt;Stats \n",
       "by Competition&lt;/p&gt;\\n        &lt;ul class=\"\"&gt;\\n          &lt;li&gt;&lt;a \n",
       "href=\"https://fbref.com/en/players/bc7dc64d/all_comps/Bukayo-Saka-Stats---All-Competitions\"&gt;All \n",
       "Competitions&lt;/a&gt;&lt;/li&gt;\\n          &lt;li&gt;&lt;a \n",
       "href=\"https://fbref.com/en/players/bc7dc64d/dom_lg/Bukayo-Saka-Domestic-League-Stats\"&gt;Domestic Leagues&lt;/a&gt;&lt;/li&gt;\\n  \n",
       "&lt;li&gt;&lt;a href=\"https://fbref.com/en/players/bc7dc64d/dom_cup/Bukayo-Saka-Domestic-Cup-Stats\"&gt;Domestic Cups&lt;/a&gt;&lt;/li&gt;\\n\n",
       "&lt;li&gt;&lt;a href=\"https://fbref.com/en/players/bc7dc64d/intl_cup/Bukayo-Saka-International-Cup-Stats\"&gt;International \n",
       "Cups&lt;/a&gt;&lt;/li&gt;\\n          &lt;li&gt;&lt;a \n",
       "href=\"https://fbref.com/en/players/bc7dc64d/nat_tm/Bukayo-Saka-National-Team-Stats\"&gt;National Team&lt;/a&gt;&lt;/li&gt;\\n       \n",
       "&lt;/ul&gt;&lt;p class=\"listhead\"&gt;Match Logs (Summary)&lt;/p&gt;\\n        &lt;ul class=\"\"&gt;\\n          &lt;li&gt;&lt;a \n",
       "href=\"https://fbref.com/en/players/bc7dc64d/matchlogs/2018-2019/summary/Bukayo-Saka-Match-Logs\"&gt;2018-2019&lt;/a&gt;&lt;/li&gt;\\\n",
       "n          &lt;li&gt;&lt;a \n",
       "href=\"https://fbref.com/en/players/bc7dc64d/matchlogs/2019-2020/summary/Bukayo-Saka-Match-Logs\"&gt;2019-2020&lt;/a&gt;&lt;/li&gt;\\\n",
       "n          &lt;li&gt;&lt;a \n",
       "href=\"https://fbref.com/en/players/bc7dc64d/matchlogs/2020-2021/summary/Bukayo-Saka-Match-Logs\"&gt;2020-2021&lt;/a&gt;&lt;/li&gt;\\\n",
       "n          &lt;li&gt;&lt;a \n",
       "href=\"https://fbref.com/en/players/bc7dc64d/matchlogs/2021-2022/summary/Bukayo-Saka-Match-Logs\"&gt;2021-2022&lt;/a&gt;&lt;/li&gt;\\\n",
       "n          &lt;li&gt;&lt;a \n",
       "href=\"https://fbref.com/en/players/bc7dc64d/matchlogs/2022-2023/summary/Bukayo-Saka-Match-Logs\"&gt;2022-2023&lt;/a&gt;&lt;/li&gt;\\\n",
       "n          &lt;li&gt;&lt;a \n",
       "href=\"https://fbref.com/en/players/bc7dc64d/matchlogs/2023-2024/summary/Bukayo-Saka-Match-Logs\"&gt;2023-2024&lt;/a&gt;&lt;/li&gt;\\\n",
       "n          &lt;li&gt;&lt;a \n",
       "href=\"https://fbref.com/en/players/bc7dc64d/matchlogs/2024-2025/summary/Bukayo-Saka-Match-Logs\"&gt;2024-2025&lt;/a&gt;&lt;/li&gt;\\\n",
       "n          &lt;li&gt;&lt;a \n",
       "href=\"https://fbref.com/en/players/bc7dc64d/matchlogs/nat_tm/summary/Bukayo-Saka-Match-Logs\"&gt;National \n",
       "Team&lt;/a&gt;&lt;/li&gt;\\n        &lt;/ul&gt;&lt;p class=\"listhead\"&gt;Match Logs (Passing)&lt;/p&gt;\\n        &lt;ul class=\"\"&gt;\\n          &lt;li&gt;&lt;a \n",
       "href=\"https://fbref.com/en/players/bc7dc64d/matchlogs/2018-2019/passing/Bukayo-Saka-Match-Logs\"&gt;2018-2019&lt;/a&gt;&lt;/li&gt;\\\n",
       "n          &lt;li&gt;&lt;a \n",
       "href=\"https://fbref.com/en/players/bc7dc64d/matchlogs/2019-2020/passing/Bukayo-Saka-Match-Logs\"&gt;2019-2020&lt;/a&gt;&lt;/li&gt;\\\n",
       "n          &lt;li&gt;&lt;a \n",
       "href=\"https://fbref.com/en/players/bc7dc64d/matchlogs/2020-2021/passing/Bukayo-Saka-Match-Logs\"&gt;2020-2021&lt;/a&gt;&lt;/li&gt;\\\n",
       "n          &lt;li&gt;&lt;a \n",
       "href=\"https://fbref.com/en/players/bc7dc64d/matchlogs/2021-2022/passing/Bukayo-Saka-Match-Logs\"&gt;2021-2022&lt;/a&gt;&lt;/li&gt;\\\n",
       "n          &lt;li&gt;&lt;a \n",
       "href=\"https://fbref.com/en/players/bc7dc64d/matchlogs/2022-2023/passing/Bukayo-Saka-Match-Logs\"&gt;2022-2023&lt;/a&gt;&lt;/li&gt;\\\n",
       "n          &lt;li&gt;&lt;a \n",
       "href=\"https://fbref.com/en/players/bc7dc64d/matchlogs/2023-2024/passing/Bukayo-Saka-Match-Logs\"&gt;2023-2024&lt;/a&gt;&lt;/li&gt;\\\n",
       "n          &lt;li&gt;&lt;a \n",
       "href=\"https://fbref.com/en/players/bc7dc64d/matchlogs/2024-2025/passing/Bukayo-Saka-Match-Logs\"&gt;2024-2025&lt;/a&gt;&lt;/li&gt;\\\n",
       "n          &lt;li&gt;&lt;a \n",
       "href=\"https://fbref.com/en/players/bc7dc64d/matchlogs/nat_tm/passing/Bukayo-Saka-Match-Logs\"&gt;National \n",
       "Team&lt;/a&gt;&lt;/li&gt;\\n        &lt;/ul&gt;&lt;p class=\"listhead\"&gt;Match Logs (Pass Types)&lt;/p&gt;\\n        &lt;ul class=\"\"&gt;\\n          \n",
       "&lt;li&gt;&lt;a \n",
       "href=\"https://fbref.com/en/players/bc7dc64d/matchlogs/2018-2019/passing_types/Bukayo-Saka-Match-Logs\"&gt;2018-2019&lt;/a&gt;\n",
       "&lt;/li&gt;\\n          &lt;li&gt;&lt;a \n",
       "href=\"https://fbref.com/en/players/bc7dc64d/matchlogs/2019-2020/passing_types/Bukayo-Saka-Match-Logs\"&gt;2019-2020&lt;/a&gt;\n",
       "&lt;/li&gt;\\n          &lt;li&gt;&lt;a \n",
       "href=\"https://fbref.com/en/players/bc7dc64d/matchlogs/2020-2021/passing_types/Bukayo-Saka-Match-Logs\"&gt;2020-2021&lt;/a&gt;\n",
       "&lt;/li&gt;\\n          &lt;li&gt;&lt;a \n",
       "href=\"https://fbref.com/en/players/bc7dc64d/matchlogs/2021-2022/passing_types/Bukayo-Saka-Match-Logs\"&gt;2021-2022&lt;/a&gt;\n",
       "&lt;/li&gt;\\n          &lt;li&gt;&lt;a \n",
       "href=\"https://fbref.com/en/players/bc7dc64d/matchlogs/2022-2023/passing_types/Bukayo-Saka-Match-Logs\"&gt;2022-2023&lt;/a&gt;\n",
       "&lt;/li&gt;\\n          &lt;li&gt;&lt;a \n",
       "href=\"https://fbref.com/en/players/bc7dc64d/matchlogs/2023-2024/passing_types/Bukayo-Saka-Match-Logs\"&gt;2023-2024&lt;/a&gt;\n",
       "&lt;/li&gt;\\n          &lt;li&gt;&lt;a \n",
       "href=\"https://fbref.com/en/players/bc7dc64d/matchlogs/2024-2025/passing_types/Bukayo-Saka-Match-Logs\"&gt;2024-2025&lt;/a&gt;\n",
       "&lt;/li&gt;\\n          &lt;li&gt;&lt;a \n",
       "href=\"https://fbref.com/en/players/bc7dc64d/matchlogs/nat_tm/passing_types/Bukayo-Saka-Match-Logs\"&gt;National \n",
       "Team&lt;/a&gt;&lt;/li&gt;\\n        &lt;/ul&gt;&lt;p class=\"listhead\"&gt;Match Logs (Goal and Shot Creation)&lt;/p&gt;\\n        &lt;ul class=\"\"&gt;\\n   \n",
       "&lt;li&gt;&lt;a \n",
       "href=\"https://fbref.com/en/players/bc7dc64d/matchlogs/2018-2019/gca/Bukayo-Saka-Match-Logs\"&gt;2018-2019&lt;/a&gt;&lt;/li&gt;\\n   \n",
       "&lt;li&gt;&lt;a \n",
       "href=\"https://fbref.com/en/players/bc7dc64d/matchlogs/2019-2020/gca/Bukayo-Saka-Match-Logs\"&gt;2019-2020&lt;/a&gt;&lt;/li&gt;\\n   \n",
       "&lt;li&gt;&lt;a \n",
       "href=\"https://fbref.com/en/players/bc7dc64d/matchlogs/2020-2021/gca/Bukayo-Saka-Match-Logs\"&gt;2020-2021&lt;/a&gt;&lt;/li&gt;\\n   \n",
       "&lt;li&gt;&lt;a \n",
       "href=\"https://fbref.com/en/players/bc7dc64d/matchlogs/2021-2022/gca/Bukayo-Saka-Match-Logs\"&gt;2021-2022&lt;/a&gt;&lt;/li&gt;\\n   \n",
       "&lt;li&gt;&lt;a \n",
       "href=\"https://fbref.com/en/players/bc7dc64d/matchlogs/2022-2023/gca/Bukayo-Saka-Match-Logs\"&gt;2022-2023&lt;/a&gt;&lt;/li&gt;\\n   \n",
       "&lt;li&gt;&lt;a \n",
       "href=\"https://fbref.com/en/players/bc7dc64d/matchlogs/2023-2024/gca/Bukayo-Saka-Match-Logs\"&gt;2023-2024&lt;/a&gt;&lt;/li&gt;\\n   \n",
       "&lt;li&gt;&lt;a \n",
       "href=\"https://fbref.com/en/players/bc7dc64d/matchlogs/2024-2025/gca/Bukayo-Saka-Match-Logs\"&gt;2024-2025&lt;/a&gt;&lt;/li&gt;\\n   \n",
       "&lt;li&gt;&lt;a href=\"https://fbref.com/en/players/bc7dc64d/matchlogs/nat_tm/gca/Bukayo-Saka-Match-Logs\"&gt;National \n",
       "Team&lt;/a&gt;&lt;/li&gt;\\n        &lt;/ul&gt;&lt;p class=\"listhead\"&gt;Match Logs (Defensive Actions)&lt;/p&gt;\\n        &lt;ul class=\"\"&gt;\\n        \n",
       "&lt;li&gt;&lt;a \n",
       "href=\"https://fbref.com/en/players/bc7dc64d/matchlogs/2018-2019/defense/Bukayo-Saka-Match-Logs\"&gt;2018-2019&lt;/a&gt;&lt;/li&gt;\\\n",
       "n          &lt;li&gt;&lt;a \n",
       "href=\"https://fbref.com/en/players/bc7dc64d/matchlogs/2019-2020/defense/Bukayo-Saka-Match-Logs\"&gt;2019-2020&lt;/a&gt;&lt;/li&gt;\\\n",
       "n          &lt;li&gt;&lt;a \n",
       "href=\"https://fbref.com/en/players/bc7dc64d/matchlogs/2020-2021/defense/Bukayo-Saka-Match-Logs\"&gt;2020-2021&lt;/a&gt;&lt;/li&gt;\\\n",
       "n          &lt;li&gt;&lt;a \n",
       "href=\"https://fbref.com/en/players/bc7dc64d/matchlogs/2021-2022/defense/Bukayo-Saka-Match-Logs\"&gt;2021-2022&lt;/a&gt;&lt;/li&gt;\\\n",
       "n          &lt;li&gt;&lt;a \n",
       "href=\"https://fbref.com/en/players/bc7dc64d/matchlogs/2022-2023/defense/Bukayo-Saka-Match-Logs\"&gt;2022-2023&lt;/a&gt;&lt;/li&gt;\\\n",
       "n          &lt;li&gt;&lt;a \n",
       "href=\"https://fbref.com/en/players/bc7dc64d/matchlogs/2023-2024/defense/Bukayo-Saka-Match-Logs\"&gt;2023-2024&lt;/a&gt;&lt;/li&gt;\\\n",
       "n          &lt;li&gt;&lt;a \n",
       "href=\"https://fbref.com/en/players/bc7dc64d/matchlogs/2024-2025/defense/Bukayo-Saka-Match-Logs\"&gt;2024-2025&lt;/a&gt;&lt;/li&gt;\\\n",
       "n          &lt;li&gt;&lt;a \n",
       "href=\"https://fbref.com/en/players/bc7dc64d/matchlogs/nat_tm/defense/Bukayo-Saka-Match-Logs\"&gt;National \n",
       "Team&lt;/a&gt;&lt;/li&gt;\\n        &lt;/ul&gt;&lt;p class=\"listhead\"&gt;Match Logs (Possession)&lt;/p&gt;\\n        &lt;ul class=\"\"&gt;\\n          \n",
       "&lt;li&gt;&lt;a \n",
       "href=\"https://fbref.com/en/players/bc7dc64d/matchlogs/2018-2019/possession/Bukayo-Saka-Match-Logs\"&gt;2018-2019&lt;/a&gt;&lt;/l\n",
       "i&gt;\\n          &lt;li&gt;&lt;a \n",
       "href=\"https://fbref.com/en/players/bc7dc64d/matchlogs/2019-2020/possession/Bukayo-Saka-Match-Logs\"&gt;2019-2020&lt;/a&gt;&lt;/l\n",
       "i&gt;\\n          &lt;li&gt;&lt;a \n",
       "href=\"https://fbref.com/en/players/bc7dc64d/matchlogs/2020-2021/possession/Bukayo-Saka-Match-Logs\"&gt;2020-2021&lt;/a&gt;&lt;/l\n",
       "i&gt;\\n          &lt;li&gt;&lt;a \n",
       "href=\"https://fbref.com/en/players/bc7dc64d/matchlogs/2021-2022/possession/Bukayo-Saka-Match-Logs\"&gt;2021-2022&lt;/a&gt;&lt;/l\n",
       "i&gt;\\n          &lt;li&gt;&lt;a \n",
       "href=\"https://fbref.com/en/players/bc7dc64d/matchlogs/2022-2023/possession/Bukayo-Saka-Match-Logs\"&gt;2022-2023&lt;/a&gt;&lt;/l\n",
       "i&gt;\\n          &lt;li&gt;&lt;a \n",
       "href=\"https://fbref.com/en/players/bc7dc64d/matchlogs/2023-2024/possession/Bukayo-Saka-Match-Logs\"&gt;2023-2024&lt;/a&gt;&lt;/l\n",
       "i&gt;\\n          &lt;li&gt;&lt;a \n",
       "href=\"https://fbref.com/en/players/bc7dc64d/matchlogs/2024-2025/possession/Bukayo-Saka-Match-Logs\"&gt;2024-2025&lt;/a&gt;&lt;/l\n",
       "i&gt;\\n          &lt;li&gt;&lt;a \n",
       "href=\"https://fbref.com/en/players/bc7dc64d/matchlogs/nat_tm/possession/Bukayo-Saka-Match-Logs\"&gt;National \n",
       "Team&lt;/a&gt;&lt;/li&gt;\\n        &lt;/ul&gt;&lt;p class=\"listhead\"&gt;Match Logs (Miscellaneous Stats)&lt;/p&gt;\\n        &lt;ul class=\"\"&gt;\\n      \n",
       "&lt;li&gt;&lt;a \n",
       "href=\"https://fbref.com/en/players/bc7dc64d/matchlogs/2018-2019/misc/Bukayo-Saka-Match-Logs\"&gt;2018-2019&lt;/a&gt;&lt;/li&gt;\\n  \n",
       "&lt;li&gt;&lt;a \n",
       "href=\"https://fbref.com/en/players/bc7dc64d/matchlogs/2019-2020/misc/Bukayo-Saka-Match-Logs\"&gt;2019-2020&lt;/a&gt;&lt;/li&gt;\\n  \n",
       "&lt;li&gt;&lt;a \n",
       "href=\"https://fbref.com/en/players/bc7dc64d/matchlogs/2020-2021/misc/Bukayo-Saka-Match-Logs\"&gt;2020-2021&lt;/a&gt;&lt;/li&gt;\\n  \n",
       "&lt;li&gt;&lt;a \n",
       "href=\"https://fbref.com/en/players/bc7dc64d/matchlogs/2021-2022/misc/Bukayo-Saka-Match-Logs\"&gt;2021-2022&lt;/a&gt;&lt;/li&gt;\\n  \n",
       "&lt;li&gt;&lt;a \n",
       "href=\"https://fbref.com/en/players/bc7dc64d/matchlogs/2022-2023/misc/Bukayo-Saka-Match-Logs\"&gt;2022-2023&lt;/a&gt;&lt;/li&gt;\\n  \n",
       "&lt;li&gt;&lt;a \n",
       "href=\"https://fbref.com/en/players/bc7dc64d/matchlogs/2023-2024/misc/Bukayo-Saka-Match-Logs\"&gt;2023-2024&lt;/a&gt;&lt;/li&gt;\\n  \n",
       "&lt;li&gt;&lt;a \n",
       "href=\"https://fbref.com/en/players/bc7dc64d/matchlogs/2024-2025/misc/Bukayo-Saka-Match-Logs\"&gt;2024-2025&lt;/a&gt;&lt;/li&gt;\\n  \n",
       "&lt;li&gt;&lt;a href=\"https://fbref.com/en/players/bc7dc64d/matchlogs/nat_tm/misc/Bukayo-Saka-Match-Logs\"&gt;National \n",
       "Team&lt;/a&gt;&lt;/li&gt;\\n        &lt;/ul&gt;&lt;p class=\"listhead\"&gt;Goal Logs by Competition&lt;/p&gt;\\n        &lt;ul class=\"\"&gt;\\n          \n",
       "&lt;li&gt;&lt;a href=\"https://fbref.com/en/players/bc7dc64d/goallogs/all_comps/Bukayo-Saka-Goal-Log\"&gt;All \n",
       "Competitions&lt;/a&gt;&lt;/li&gt;\\n          &lt;li&gt;&lt;a \n",
       "href=\"https://fbref.com/en/players/bc7dc64d/goallogs/dom_lg/Bukayo-Saka-Goal-Log\"&gt;Domestic Leagues&lt;/a&gt;&lt;/li&gt;\\n      \n",
       "&lt;li&gt;&lt;a href=\"https://fbref.com/en/players/bc7dc64d/goallogs/dom_cup/Bukayo-Saka-Goal-Log\"&gt;Domestic Cups&lt;/a&gt;&lt;/li&gt;\\n \n",
       "&lt;li&gt;&lt;a href=\"https://fbref.com/en/players/bc7dc64d/goallogs/intl_cup/Bukayo-Saka-Goal-Log\"&gt;International \n",
       "Cups&lt;/a&gt;&lt;/li&gt;\\n          &lt;li&gt;&lt;a \n",
       "href=\"https://fbref.com/en/players/bc7dc64d/goallogs/nat_tm/Bukayo-Saka-Goal-Log\"&gt;National Team&lt;/a&gt;&lt;/li&gt;\\n        \n",
       "&lt;/ul&gt;&lt;p class=\"listhead\"&gt;Scouting Report&lt;/p&gt;\\n        &lt;ul class=\"\"&gt;\\n          &lt;li&gt;&lt;a \n",
       "href=\"https://fbref.com/en/players/bc7dc64d/scout/365_m1/Bukayo-Saka-Scouting-Report\"&gt;Last 365 Days Men\\'s Big 5 \n",
       "Leagues, UCL, UEL&lt;/a&gt;&lt;/li&gt;\\n          &lt;li&gt;&lt;a \n",
       "href=\"https://fbref.com/en/players/bc7dc64d/scout/12524/Bukayo-Saka-Scouting-Report\"&gt;2024-2025 Premier \n",
       "League&lt;/a&gt;&lt;/li&gt;\\n          &lt;li&gt;&lt;a \n",
       "href=\"https://fbref.com/en/players/bc7dc64d/scout/12623/Bukayo-Saka-Scouting-Report\"&gt;2024-2025 Champions \n",
       "League&lt;/a&gt;&lt;/li&gt;\\n          &lt;li&gt;&lt;a \n",
       "href=\"https://fbref.com/en/players/bc7dc64d/scout/10279/Bukayo-Saka-Scouting-Report\"&gt;2024 UEFA Euro 2024&lt;/a&gt;&lt;/li&gt;\\n\n",
       "&lt;li&gt;&lt;a href=\"https://fbref.com/en/players/bc7dc64d/scout/11835/Bukayo-Saka-Scouting-Report\"&gt;2023-2024 Champions \n",
       "League&lt;/a&gt;&lt;/li&gt;\\n          &lt;li&gt;&lt;a \n",
       "href=\"https://fbref.com/en/players/bc7dc64d/scout/12192/Bukayo-Saka-Scouting-Report\"&gt;2023-2024 Premier \n",
       "League&lt;/a&gt;&lt;/li&gt;\\n          &lt;li&gt;&lt;a \n",
       "href=\"https://fbref.com/en/players/bc7dc64d/scout/11455/Bukayo-Saka-Scouting-Report\"&gt;2022-2023 Europa \n",
       "League&lt;/a&gt;&lt;/li&gt;\\n          &lt;li&gt;&lt;a \n",
       "href=\"https://fbref.com/en/players/bc7dc64d/scout/11566/Bukayo-Saka-Scouting-Report\"&gt;2022-2023 Premier \n",
       "League&lt;/a&gt;&lt;/li&gt;\\n          &lt;li&gt;&lt;a \n",
       "href=\"https://fbref.com/en/players/bc7dc64d/scout/1711/Bukayo-Saka-Scouting-Report\"&gt;2022 World Cup&lt;/a&gt;&lt;/li&gt;\\n      \n",
       "&lt;li&gt;&lt;a href=\"https://fbref.com/en/players/bc7dc64d/scout/11160/Bukayo-Saka-Scouting-Report\"&gt;2021-2022 Premier \n",
       "League&lt;/a&gt;&lt;/li&gt;\\n          &lt;li&gt;&lt;a \n",
       "href=\"https://fbref.com/en/players/bc7dc64d/scout/10278/Bukayo-Saka-Scouting-Report\"&gt;2021 UEFA Euro 2020&lt;/a&gt;&lt;/li&gt;\\n\n",
       "&lt;li&gt;&lt;a href=\"https://fbref.com/en/players/bc7dc64d/scout/10097/Bukayo-Saka-Scouting-Report\"&gt;2020-2021 Europa \n",
       "League&lt;/a&gt;&lt;/li&gt;\\n          &lt;li&gt;&lt;a \n",
       "href=\"https://fbref.com/en/players/bc7dc64d/scout/10728/Bukayo-Saka-Scouting-Report\"&gt;2020-2021 Premier \n",
       "League&lt;/a&gt;&lt;/li&gt;\\n          &lt;li&gt;&lt;a \n",
       "href=\"https://fbref.com/en/players/bc7dc64d/scout/2901/Bukayo-Saka-Scouting-Report\"&gt;2019-2020 Europa \n",
       "League&lt;/a&gt;&lt;/li&gt;\\n          &lt;li&gt;&lt;a \n",
       "href=\"https://fbref.com/en/players/bc7dc64d/scout/3232/Bukayo-Saka-Scouting-Report\"&gt;2019-2020 Premier \n",
       "League&lt;/a&gt;&lt;/li&gt;\\n        &lt;/ul&gt;&lt;p class=\"listhead\"&gt;Stathead &amp;amp; Player Comparison&lt;/p&gt;\\n        &lt;ul class=\"\"&gt;\\n    \n",
       "&lt;li&gt;&lt;a \n",
       "href=\"https://stathead.com/fbref/player-match-finder.cgi?player_id=bc7dc64d&amp;amp;comp_gender=m&amp;amp;utm_source=fb&amp;amp\n",
       ";utm_medium=sr_xsite&amp;amp;utm_campaign=2023_11_player_innernav_stathead\"&gt;Player Match Finder&lt;/a&gt;&lt;/li&gt;\\n          \n",
       "&lt;li&gt;&lt;a \n",
       "href=\"https://stathead.com/fbref/player-season-finder.cgi?player_id=bc7dc64d&amp;amp;comp_gender=m&amp;amp;utm_source=fb&amp;am\n",
       "p;utm_medium=sr_xsite&amp;amp;utm_campaign=2023_11_player_innernav_stathead\"&gt;Player Season Finder&lt;/a&gt;&lt;/li&gt;\\n          \n",
       "&lt;li&gt;&lt;a \n",
       "href=\"https://fbref.com/en/stathead/player_comparison.cgi?show_form=1&amp;amp;request=1&amp;amp;sum=0&amp;amp;comp_type=by_type\n",
       "&amp;amp;dom_lg=1&amp;amp;player_id1=bc7dc64d&amp;amp;p1yrfrom=2024-2025&amp;amp;player_id2=de112b84&amp;amp;p2yrfrom=2024-2025&amp;amp;pla\n",
       "yer_id3=8236f673&amp;amp;p3yrfrom=2024-2025&amp;amp;player_id4=d781d855&amp;amp;p4yrfrom=2024-2025&amp;amp;player_id5=f36d5624&amp;amp;\n",
       "p5yrfrom=2024-2025&amp;amp;player_id6=0313a347&amp;amp;p6yrfrom=2024-2025\"&gt;Player Comparison&lt;/a&gt;&lt;/li&gt;\\n        \n",
       "&lt;/ul&gt;&lt;/div&gt;&lt;/div&gt;\\n\\n   \\n\\n\\n&lt;!-- fs_footer --&gt;\\n&lt;div class=\"adblock\"&gt;\\n&lt;!-- div#fs_fs_footer  --&gt;\\n&lt;div \n",
       "align=\"center\" id=\"div-gpt-ad-728x90-Footer\" data-freestar-ad=\"__300x250 __970x90\"&gt;\\n  \\n&lt;/div&gt;\\n&lt;!-- \n",
       "/div.#fs_fs_footer --&gt;\\n\\n&lt;/div&gt;\\n\\n\\n\\n\\n\\n\\n&lt;/div&gt;&lt;!-- div#content --&gt;\\n\\n&lt;!-- div#footer --&gt;\\n\\n&lt;/div&gt;&lt;!-- \n",
       "div#wrap --&gt;\\n\\n\\n\\n\\n&lt;!-- rails --&gt;\\n\\n&lt;div class=\"adblock rails  left\" style=\"left: 400px;\"&gt;&lt;!-- \n",
       "div#fs_fs_rails_left  --&gt;\\n&lt;div align=\"center\" id=\"div-gpt-ad-160x600-1\" data-freestar-ad=\"\"&gt;\\n  \\n&lt;/div&gt;\\n&lt;!-- \n",
       "/div.#fs_fs_rails_left --&gt;\\n&lt;/div&gt;\\n&lt;div class=\"adblock rails right\" style=\"right: 400px;\"&gt;&lt;!-- \n",
       "div#fs_fs_rails_right  --&gt;\\n&lt;div align=\"center\" id=\"div-gpt-ad-160x600-2\" data-freestar-ad=\"\"&gt;\\n  \\n&lt;/div&gt;\\n&lt;!-- \n",
       "/div.#fs_fs_rails_right --&gt;\\n&lt;/div&gt;\\n\\n\\n&lt;!-- sr_gender is used in Templates/Assets/GoogleAnalytics.tt2 --&gt;\\n\\n&lt;!--\n",
       "Google Analytics --&gt;\\n&lt;!-- Google Analytics UA,  UA-1890630-23 --&gt;\\n&lt;!-- Google Analytics GA4, G-T897NZ0GWZ \n",
       "--&gt;\\n&lt;!-- Google Tag Manager --&gt;  &lt;!-- End Google Tag Manager --&gt; &lt;!-- Google Tag Manager (noscript) --&gt;  &lt;!-- End \n",
       "Google Tag Manager (noscript) --&gt;\\n\\n&lt;!-- End Google Analytics --&gt;\\n\\n&lt;!-- Start of HubSpot Embed Code --&gt;\\n\\n&lt;!-- \n",
       "End of HubSpot Embed Code --&gt;\\n\\n\\n\\n\\n\\n\\n\\n\\n\\n&lt;div id=\"modal-overlay\" style=\"visibility: hidden;\"&gt;&lt;/div&gt;&lt;div \n",
       "id=\"modal-container\" style=\"visibility: hidden;\"&gt;&lt;div id=\"modal-header\"&gt;&lt;div id=\"modal-close\" class=\"closer\" \n",
       "aria-label=\"Close in-page popup window\"&gt;&lt;/div&gt;&lt;/div&gt;&lt;div id=\"modal-content\"&gt;&lt;/div&gt;&lt;div \n",
       "id=\"modal-loading\"&gt;&lt;/div&gt;&lt;/div&gt;&lt;/body&gt;&lt;!-- SR --&gt;&lt;/html&gt;' rawHtml=None links=None extract=None json=&lt;function \n",
       "BaseModel.json at 0x112d9bce0&gt; screenshot=None metadata={'msapplication-TileColor': '#04376c', 'viewport': \n",
       "'width=device-width, initial-scale=1.0, maximum-scale=2.0', 'og:image': \n",
       "'http://cdn.ssref.net/scripts/image_resize.cgi?min=200&amp;url=https://fbref.com/req/202302030/images/headshots/bc7dc64\n",
       "d_2022.jpg', 'HandheldFriendly': ['True', 'True'], 'fb:app_id': '', 'msapplication-navbutton-color': '4d383b', \n",
       "'og:description': \"Check out the latest domestic and international stats, match logs, goals, height, weight and \n",
       "more for Bukayo Saka playing for Arsenal FC, England men's national team and Arsenal FC U23 in the Premier League, \n",
       "Champions League and UEFA Euro\", 'keywords': '', 'favicon': \n",
       "'https://cdn.ssref.net/req/202505152/favicons/fb/favicon-48.png', 'twitter:creator': '@FBref', 'title': 'Bukayo \n",
       "Saka Stats, Goals, Records, Assists, Cups and more | FBref.com', 'revised': '22:45:19 17-May-2025', \n",
       "'twitter:image': \n",
       "'http://cdn.ssref.net/scripts/image_resize.cgi?min=200&amp;url=https://fbref.com/req/202302030/images/headshots/bc7dc64\n",
       "d_2022.jpg', 'og:site_name': 'FBref.com', 'twitter:site': '@FBref', 'og:url': \n",
       "'https://fbref.com/en/players/bc7dc64d/Bukayo-Saka', 'ogDescription': \"Check out the latest domestic and \n",
       "international stats, match logs, goals, height, weight and more for Bukayo Saka playing for Arsenal FC, England \n",
       "men's national team and Arsenal FC U23 in the Premier League, Champions League and UEFA Euro\", \n",
       "'msapplication-TileImage': 'https://cdn.ssref.net/req/202505152/favicons/fb/ms-tile-144.png', 'format-detection': \n",
       "'telephone=no', 'mobile-web-app-capable': 'yes', 'og:title': 'Bukayo Saka Stats, Goals, Records, Assists, Cups and \n",
       "more | FBref.com', 'language': 'en', 'ogTitle': 'Bukayo Saka Stats, Goals, Records, Assists, Cups and more | \n",
       "FBref.com', 'Description': \"Check out the latest domestic and international stats, match logs, goals, height, \n",
       "weight and more for Bukayo Saka playing for Arsenal FC, England men's national team and Arsenal FC U23 in the \n",
       "Premier League, Champions League and UEFA Euro\", 'apple-mobile-web-app-status-bar-style': '4d383b', 'ogUrl': \n",
       "'https://fbref.com/en/players/bc7dc64d/Bukayo-Saka', 'apple-mobile-web-app-capable': 'no', 'referrer': \n",
       "'unsafe-url', 'generated-by': '/home/fb/deploy/www/base_en/players/player.fcgi', 'twitter:card': 'summary', \n",
       "'og:type': '    Athlete', 'ogSiteName': 'FBref.com', 'twitter:domain': 'FBref.com', 'ogImage': \n",
       "'http://cdn.ssref.net/scripts/image_resize.cgi?min=200&amp;url=https://fbref.com/req/202302030/images/headshots/bc7dc64\n",
       "d_2022.jpg', 'sr-web-model': 'SRlocal::Models::Web::Players::Front', 'theme-color': '4d383b', 'scrapeId': \n",
       "'c64d02a4-03a7-4a6b-8cff-c71a727a8905', 'sourceURL': 'https://fbref.com/en/players/bc7dc64d/Bukayo-Saka', 'url': \n",
       "'https://fbref.com/en/players/bc7dc64d/Bukayo-Saka', 'statusCode': 200} actions=None title=None description=None \n",
       "changeTracking=None success=True warning=None error=None\n",
       "\n",
       "Out: None\n",
       "</pre>\n"
      ],
      "text/plain": [
       "\u001b[1mExecution logs:\u001b[0m\n",
       "url=None markdown=\"Opens in a new windowOpens an external websiteOpens an external website in a new window\\n\\nClose\n",
       "this dialog\\n\\nThis website utilizes technologies such as cookies to enable essential site functionality, as well \n",
       "as for analytics, personalization, and targeted advertising. To learn more, view the following link: [Privacy \n",
       "Policy](https://www.sports-reference.com/privacy.html)\\n\\nManage Preferences\\n\\nClose Cookie \n",
       "Preferences\\n\\nWelcome, football fans from around the world!\\n\\nUse FBref \n",
       "in:\\n\\n[Português](https://fbref.com/pt/players/bc7dc64d/Bukayo-Saka)\\n· \n",
       "[Français](https://fbref.com/fr/players/bc7dc64d/Bukayo-Saka)\\n· \n",
       "[Deutsch](https://fbref.com/de/players/bc7dc64d/Bukayo-Saka)\\n· \n",
       "[Italiano](https://fbref.com/it/players/bc7dc64d/Bukayo-Saka)\\n· \n",
       "[Español](https://fbref.com/es/players/bc7dc64d/Bukayo-Saka)\\n· \n",
       "[English](https://fbref.com/en/players/bc7dc64d/Bukayo-Saka)\\n\\nWe're hiring! Join our team as a Senior Test \n",
       "Engineer. [Apply here](https://sports-reference-llc.breezy.hr/p/54f6a295cde1-senior-test-engineer).\\n\\n![Bukayo \n",
       "Saka headshot](https://fbref.com/req/202302030/images/headshots/bc7dc64d_2022.jpg)\\n\\n# Bukayo Saka\\n\\n**Bukayo \n",
       "Ayoyinka T.M. Saka**\\n\\n**Position:** DF-FW-MF (AM, right)\\xa0▪\\xa0 **Footed:** \n",
       "Left\\n\\n178cm,\\xa064kg\\xa0(5-10,\\xa0143lb)\\n\\n**Born:**\\nSeptember 5, 2001\\n(Age:\\xa023-255d)\\n\\nin Ealing, \n",
       "England, United Kingdom\\n\\neng\\n\\n**National Team:** [England](https://fbref.com/en/country/ENG/England-Football) \n",
       "eng\\n\\n**Club:** [Arsenal](https://fbref.com/en/squads/18bb7c10/Arsenal-Stats)\\n\\n**Wages**:\\n[￡ 195,000 \n",
       "Weekly](https://fbref.com/en/players/bc7dc64d/Bukayo-Saka#all_wages)\\nExpires June 2027. Via \n",
       "[Capology](https://www.capology.com/).\\n\\n\\n**Instagram:** \n",
       "[@bukayosaka87](https://instagram.com/bukayosaka87/)\\n\\n[Become a Stathead & surf this site \n",
       "ad-free.](https://stathead.com/?ref=fb&utm_source=fb&utm_medium=sr_xsite&utm_campaign=2024_04_23_adfree_callouts)\\n\n",
       "\\n**2024-2025**\\n\\n**Premier League**\\n\\n**Champions \n",
       "Lg**\\n\\n**MP**\\n\\n23\\n\\n9\\n\\n**Min**\\n\\n1626\\n\\n760\\n\\n**Gls**\\n\\n6\\n\\n6\\n\\n**Ast**\\n\\n10\\n\\n2\\n\\n**xG**\\n\\n6.7\\n\\n\n",
       "4.4\\n\\n**npxG**\\n\\n5.9\\n\\n2.9\\n\\n**xAG**\\n\\n7.0\\n\\n3.3\\n\\n**SCA**\\n\\n109\\n\\n31\\n\\n**GCA**\\n\\n22\\n\\n7\\n\\n\\\\\\\\* see \n",
       "our [coverage note](https://fbref.com/en/players/bc7dc64d/Bukayo-Saka#coverage)\\n\\n- [Bukayo Saka \n",
       "Overview](https://fbref.com/en/players/bc7dc64d/Bukayo-Saka)\\n- More Bukayo Saka Pages\\n\\n\\nStats by \n",
       "Competition\\n\\n\\n\\n- [All \n",
       "Competitions](https://fbref.com/en/players/bc7dc64d/all_comps/Bukayo-Saka-Stats---All-Competitions)\\n- [Domestic \n",
       "Leagues](https://fbref.com/en/players/bc7dc64d/dom_lg/Bukayo-Saka-Domestic-League-Stats)\\n- [Domestic \n",
       "Cups](https://fbref.com/en/players/bc7dc64d/dom_cup/Bukayo-Saka-Domestic-Cup-Stats)\\n- [International \n",
       "Cups](https://fbref.com/en/players/bc7dc64d/intl_cup/Bukayo-Saka-International-Cup-Stats)\\n- [National \n",
       "Team](https://fbref.com/en/players/bc7dc64d/nat_tm/Bukayo-Saka-National-Team-Stats)\\n\\nMatch Logs (Summary)\\n\\n- \n",
       "[2018-2019](https://fbref.com/en/players/bc7dc64d/matchlogs/2018-2019/summary/Bukayo-Saka-Match-Logs)\\n- \n",
       "[2019-2020](https://fbref.com/en/players/bc7dc64d/matchlogs/2019-2020/summary/Bukayo-Saka-Match-Logs)\\n- \n",
       "[2020-2021](https://fbref.com/en/players/bc7dc64d/matchlogs/2020-2021/summary/Bukayo-Saka-Match-Logs)\\n- \n",
       "[2021-2022](https://fbref.com/en/players/bc7dc64d/matchlogs/2021-2022/summary/Bukayo-Saka-Match-Logs)\\n- \n",
       "[2022-2023](https://fbref.com/en/players/bc7dc64d/matchlogs/2022-2023/summary/Bukayo-Saka-Match-Logs)\\n- \n",
       "[2023-2024](https://fbref.com/en/players/bc7dc64d/matchlogs/2023-2024/summary/Bukayo-Saka-Match-Logs)\\n- \n",
       "[2024-2025](https://fbref.com/en/players/bc7dc64d/matchlogs/2024-2025/summary/Bukayo-Saka-Match-Logs)\\n- [National \n",
       "Team](https://fbref.com/en/players/bc7dc64d/matchlogs/nat_tm/summary/Bukayo-Saka-Match-Logs)\\n\\nMatch Logs \n",
       "(Passing)\\n\\n- \n",
       "[2018-2019](https://fbref.com/en/players/bc7dc64d/matchlogs/2018-2019/passing/Bukayo-Saka-Match-Logs)\\n- \n",
       "[2019-2020](https://fbref.com/en/players/bc7dc64d/matchlogs/2019-2020/passing/Bukayo-Saka-Match-Logs)\\n- \n",
       "[2020-2021](https://fbref.com/en/players/bc7dc64d/matchlogs/2020-2021/passing/Bukayo-Saka-Match-Logs)\\n- \n",
       "[2021-2022](https://fbref.com/en/players/bc7dc64d/matchlogs/2021-2022/passing/Bukayo-Saka-Match-Logs)\\n- \n",
       "[2022-2023](https://fbref.com/en/players/bc7dc64d/matchlogs/2022-2023/passing/Bukayo-Saka-Match-Logs)\\n- \n",
       "[2023-2024](https://fbref.com/en/players/bc7dc64d/matchlogs/2023-2024/passing/Bukayo-Saka-Match-Logs)\\n- \n",
       "[2024-2025](https://fbref.com/en/players/bc7dc64d/matchlogs/2024-2025/passing/Bukayo-Saka-Match-Logs)\\n- [National \n",
       "Team](https://fbref.com/en/players/bc7dc64d/matchlogs/nat_tm/passing/Bukayo-Saka-Match-Logs)\\n\\nMatch Logs (Pass \n",
       "Types)\\n\\n- \n",
       "[2018-2019](https://fbref.com/en/players/bc7dc64d/matchlogs/2018-2019/passing_types/Bukayo-Saka-Match-Logs)\\n- \n",
       "[2019-2020](https://fbref.com/en/players/bc7dc64d/matchlogs/2019-2020/passing_types/Bukayo-Saka-Match-Logs)\\n- \n",
       "[2020-2021](https://fbref.com/en/players/bc7dc64d/matchlogs/2020-2021/passing_types/Bukayo-Saka-Match-Logs)\\n- \n",
       "[2021-2022](https://fbref.com/en/players/bc7dc64d/matchlogs/2021-2022/passing_types/Bukayo-Saka-Match-Logs)\\n- \n",
       "[2022-2023](https://fbref.com/en/players/bc7dc64d/matchlogs/2022-2023/passing_types/Bukayo-Saka-Match-Logs)\\n- \n",
       "[2023-2024](https://fbref.com/en/players/bc7dc64d/matchlogs/2023-2024/passing_types/Bukayo-Saka-Match-Logs)\\n- \n",
       "[2024-2025](https://fbref.com/en/players/bc7dc64d/matchlogs/2024-2025/passing_types/Bukayo-Saka-Match-Logs)\\n- \n",
       "[National \n",
       "Team](https://fbref.com/en/players/bc7dc64d/matchlogs/nat_tm/passing_types/Bukayo-Saka-Match-Logs)\\n\\nMatch Logs \n",
       "(Goal and Shot Creation)\\n\\n- \n",
       "[2018-2019](https://fbref.com/en/players/bc7dc64d/matchlogs/2018-2019/gca/Bukayo-Saka-Match-Logs)\\n- \n",
       "[2019-2020](https://fbref.com/en/players/bc7dc64d/matchlogs/2019-2020/gca/Bukayo-Saka-Match-Logs)\\n- \n",
       "[2020-2021](https://fbref.com/en/players/bc7dc64d/matchlogs/2020-2021/gca/Bukayo-Saka-Match-Logs)\\n- \n",
       "[2021-2022](https://fbref.com/en/players/bc7dc64d/matchlogs/2021-2022/gca/Bukayo-Saka-Match-Logs)\\n- \n",
       "[2022-2023](https://fbref.com/en/players/bc7dc64d/matchlogs/2022-2023/gca/Bukayo-Saka-Match-Logs)\\n- \n",
       "[2023-2024](https://fbref.com/en/players/bc7dc64d/matchlogs/2023-2024/gca/Bukayo-Saka-Match-Logs)\\n- \n",
       "[2024-2025](https://fbref.com/en/players/bc7dc64d/matchlogs/2024-2025/gca/Bukayo-Saka-Match-Logs)\\n- [National \n",
       "Team](https://fbref.com/en/players/bc7dc64d/matchlogs/nat_tm/gca/Bukayo-Saka-Match-Logs)\\n\\nMatch Logs (Defensive \n",
       "Actions)\\n\\n- \n",
       "[2018-2019](https://fbref.com/en/players/bc7dc64d/matchlogs/2018-2019/defense/Bukayo-Saka-Match-Logs)\\n- \n",
       "[2019-2020](https://fbref.com/en/players/bc7dc64d/matchlogs/2019-2020/defense/Bukayo-Saka-Match-Logs)\\n- \n",
       "[2020-2021](https://fbref.com/en/players/bc7dc64d/matchlogs/2020-2021/defense/Bukayo-Saka-Match-Logs)\\n- \n",
       "[2021-2022](https://fbref.com/en/players/bc7dc64d/matchlogs/2021-2022/defense/Bukayo-Saka-Match-Logs)\\n- \n",
       "[2022-2023](https://fbref.com/en/players/bc7dc64d/matchlogs/2022-2023/defense/Bukayo-Saka-Match-Logs)\\n- \n",
       "[2023-2024](https://fbref.com/en/players/bc7dc64d/matchlogs/2023-2024/defense/Bukayo-Saka-Match-Logs)\\n- \n",
       "[2024-2025](https://fbref.com/en/players/bc7dc64d/matchlogs/2024-2025/defense/Bukayo-Saka-Match-Logs)\\n- [National \n",
       "Team](https://fbref.com/en/players/bc7dc64d/matchlogs/nat_tm/defense/Bukayo-Saka-Match-Logs)\\n\\nMatch Logs \n",
       "(Possession)\\n\\n- \n",
       "[2018-2019](https://fbref.com/en/players/bc7dc64d/matchlogs/2018-2019/possession/Bukayo-Saka-Match-Logs)\\n- \n",
       "[2019-2020](https://fbref.com/en/players/bc7dc64d/matchlogs/2019-2020/possession/Bukayo-Saka-Match-Logs)\\n- \n",
       "[2020-2021](https://fbref.com/en/players/bc7dc64d/matchlogs/2020-2021/possession/Bukayo-Saka-Match-Logs)\\n- \n",
       "[2021-2022](https://fbref.com/en/players/bc7dc64d/matchlogs/2021-2022/possession/Bukayo-Saka-Match-Logs)\\n- \n",
       "[2022-2023](https://fbref.com/en/players/bc7dc64d/matchlogs/2022-2023/possession/Bukayo-Saka-Match-Logs)\\n- \n",
       "[2023-2024](https://fbref.com/en/players/bc7dc64d/matchlogs/2023-2024/possession/Bukayo-Saka-Match-Logs)\\n- \n",
       "[2024-2025](https://fbref.com/en/players/bc7dc64d/matchlogs/2024-2025/possession/Bukayo-Saka-Match-Logs)\\n- \n",
       "[National Team](https://fbref.com/en/players/bc7dc64d/matchlogs/nat_tm/possession/Bukayo-Saka-Match-Logs)\\n\\nMatch \n",
       "Logs (Miscellaneous Stats)\\n\\n- \n",
       "[2018-2019](https://fbref.com/en/players/bc7dc64d/matchlogs/2018-2019/misc/Bukayo-Saka-Match-Logs)\\n- \n",
       "[2019-2020](https://fbref.com/en/players/bc7dc64d/matchlogs/2019-2020/misc/Bukayo-Saka-Match-Logs)\\n- \n",
       "[2020-2021](https://fbref.com/en/players/bc7dc64d/matchlogs/2020-2021/misc/Bukayo-Saka-Match-Logs)\\n- \n",
       "[2021-2022](https://fbref.com/en/players/bc7dc64d/matchlogs/2021-2022/misc/Bukayo-Saka-Match-Logs)\\n- \n",
       "[2022-2023](https://fbref.com/en/players/bc7dc64d/matchlogs/2022-2023/misc/Bukayo-Saka-Match-Logs)\\n- \n",
       "[2023-2024](https://fbref.com/en/players/bc7dc64d/matchlogs/2023-2024/misc/Bukayo-Saka-Match-Logs)\\n- \n",
       "[2024-2025](https://fbref.com/en/players/bc7dc64d/matchlogs/2024-2025/misc/Bukayo-Saka-Match-Logs)\\n- [National \n",
       "Team](https://fbref.com/en/players/bc7dc64d/matchlogs/nat_tm/misc/Bukayo-Saka-Match-Logs)\\n\\nGoal Logs by \n",
       "Competition\\n\\n- [All \n",
       "Competitions](https://fbref.com/en/players/bc7dc64d/goallogs/all_comps/Bukayo-Saka-Goal-Log)\\n- [Domestic \n",
       "Leagues](https://fbref.com/en/players/bc7dc64d/goallogs/dom_lg/Bukayo-Saka-Goal-Log)\\n- [Domestic \n",
       "Cups](https://fbref.com/en/players/bc7dc64d/goallogs/dom_cup/Bukayo-Saka-Goal-Log)\\n- [International \n",
       "Cups](https://fbref.com/en/players/bc7dc64d/goallogs/intl_cup/Bukayo-Saka-Goal-Log)\\n- [National \n",
       "Team](https://fbref.com/en/players/bc7dc64d/goallogs/nat_tm/Bukayo-Saka-Goal-Log)\\n\\nScouting Report\\n\\n- [Last 365\n",
       "Days Men's Big 5 Leagues, UCL, \n",
       "UEL](https://fbref.com/en/players/bc7dc64d/scout/365_m1/Bukayo-Saka-Scouting-Report)\\n- [2024-2025 Premier \n",
       "League](https://fbref.com/en/players/bc7dc64d/scout/12524/Bukayo-Saka-Scouting-Report)\\n- [2024-2025 Champions \n",
       "League](https://fbref.com/en/players/bc7dc64d/scout/12623/Bukayo-Saka-Scouting-Report)\\n- [2024 UEFA Euro \n",
       "2024](https://fbref.com/en/players/bc7dc64d/scout/10279/Bukayo-Saka-Scouting-Report)\\n- [2023-2024 Champions \n",
       "League](https://fbref.com/en/players/bc7dc64d/scout/11835/Bukayo-Saka-Scouting-Report)\\n- [2023-2024 Premier \n",
       "League](https://fbref.com/en/players/bc7dc64d/scout/12192/Bukayo-Saka-Scouting-Report)\\n- [2022-2023 Europa \n",
       "League](https://fbref.com/en/players/bc7dc64d/scout/11455/Bukayo-Saka-Scouting-Report)\\n- [2022-2023 Premier \n",
       "League](https://fbref.com/en/players/bc7dc64d/scout/11566/Bukayo-Saka-Scouting-Report)\\n- [2022 World \n",
       "Cup](https://fbref.com/en/players/bc7dc64d/scout/1711/Bukayo-Saka-Scouting-Report)\\n- [2021-2022 Premier \n",
       "League](https://fbref.com/en/players/bc7dc64d/scout/11160/Bukayo-Saka-Scouting-Report)\\n- [2021 UEFA Euro \n",
       "2020](https://fbref.com/en/players/bc7dc64d/scout/10278/Bukayo-Saka-Scouting-Report)\\n- [2020-2021 Europa \n",
       "League](https://fbref.com/en/players/bc7dc64d/scout/10097/Bukayo-Saka-Scouting-Report)\\n- [2020-2021 Premier \n",
       "League](https://fbref.com/en/players/bc7dc64d/scout/10728/Bukayo-Saka-Scouting-Report)\\n- [2019-2020 Europa \n",
       "League](https://fbref.com/en/players/bc7dc64d/scout/2901/Bukayo-Saka-Scouting-Report)\\n- [2019-2020 Premier \n",
       "League](https://fbref.com/en/players/bc7dc64d/scout/3232/Bukayo-Saka-Scouting-Report)\\n\\nStathead & Player \n",
       "Comparison\\n\\n- [Player Match \n",
       "Finder](https://stathead.com/fbref/player-match-finder.cgi?player_id=bc7dc64d&comp_gender=m&utm_source=fb&utm_mediu\n",
       "m=sr_xsite&utm_campaign=2023_11_player_innernav_stathead)\\n- [Player Season \n",
       "Finder](https://stathead.com/fbref/player-season-finder.cgi?player_id=bc7dc64d&comp_gender=m&utm_source=fb&utm_medi\n",
       "um=sr_xsite&utm_campaign=2023_11_player_innernav_stathead)\\n- [Player \n",
       "Comparison](https://fbref.com/en/stathead/player_comparison.cgi?show_form=1&request=1&sum=0&comp_type=by_type&dom_l\n",
       "g=1&player_id1=bc7dc64d&p1yrfrom=2024-2025&player_id2=de112b84&p2yrfrom=2024-2025&player_id3=8236f673&p3yrfrom=2024\n",
       "-2025&player_id4=d781d855&p4yrfrom=2024-2025&player_id5=f36d5624&p5yrfrom=2024-2025&player_id6=0313a347&p6yrfrom=20\n",
       "24-2025)\\n\\n- Stats by Competition\\n\\n\\nStats by Competition\\n\\n\\n\\n- [All \n",
       "Competitions](https://fbref.com/en/players/bc7dc64d/all_comps/Bukayo-Saka-Stats---All-Competitions)\\n- [Domestic \n",
       "Leagues](https://fbref.com/en/players/bc7dc64d/dom_lg/Bukayo-Saka-Domestic-League-Stats)\\n- [Domestic \n",
       "Cups](https://fbref.com/en/players/bc7dc64d/dom_cup/Bukayo-Saka-Domestic-Cup-Stats)\\n- [International \n",
       "Cups](https://fbref.com/en/players/bc7dc64d/intl_cup/Bukayo-Saka-International-Cup-Stats)\\n- [National \n",
       "Team](https://fbref.com/en/players/bc7dc64d/nat_tm/Bukayo-Saka-National-Team-Stats)\\n\\n- Match Logs\\n\\n\\nMatch Logs\n",
       "(Summary)\\n\\n\\n\\n- \n",
       "[2018-2019](https://fbref.com/en/players/bc7dc64d/matchlogs/2018-2019/summary/Bukayo-Saka-Match-Logs)\\n- \n",
       "[2019-2020](https://fbref.com/en/players/bc7dc64d/matchlogs/2019-2020/summary/Bukayo-Saka-Match-Logs)\\n- \n",
       "[2020-2021](https://fbref.com/en/players/bc7dc64d/matchlogs/2020-2021/summary/Bukayo-Saka-Match-Logs)\\n- \n",
       "[2021-2022](https://fbref.com/en/players/bc7dc64d/matchlogs/2021-2022/summary/Bukayo-Saka-Match-Logs)\\n- \n",
       "[2022-2023](https://fbref.com/en/players/bc7dc64d/matchlogs/2022-2023/summary/Bukayo-Saka-Match-Logs)\\n- \n",
       "[2023-2024](https://fbref.com/en/players/bc7dc64d/matchlogs/2023-2024/summary/Bukayo-Saka-Match-Logs)\\n- \n",
       "[2024-2025](https://fbref.com/en/players/bc7dc64d/matchlogs/2024-2025/summary/Bukayo-Saka-Match-Logs)\\n- [National \n",
       "Team](https://fbref.com/en/players/bc7dc64d/matchlogs/nat_tm/summary/Bukayo-Saka-Match-Logs)\\n\\nMatch Logs \n",
       "(Passing)\\n\\n- \n",
       "[2018-2019](https://fbref.com/en/players/bc7dc64d/matchlogs/2018-2019/passing/Bukayo-Saka-Match-Logs)\\n- \n",
       "[2019-2020](https://fbref.com/en/players/bc7dc64d/matchlogs/2019-2020/passing/Bukayo-Saka-Match-Logs)\\n- \n",
       "[2020-2021](https://fbref.com/en/players/bc7dc64d/matchlogs/2020-2021/passing/Bukayo-Saka-Match-Logs)\\n- \n",
       "[2021-2022](https://fbref.com/en/players/bc7dc64d/matchlogs/2021-2022/passing/Bukayo-Saka-Match-Logs)\\n- \n",
       "[2022-2023](https://fbref.com/en/players/bc7dc64d/matchlogs/2022-2023/passing/Bukayo-Saka-Match-Logs)\\n- \n",
       "[2023-2024](https://fbref.com/en/players/bc7dc64d/matchlogs/2023-2024/passing/Bukayo-Saka-Match-Logs)\\n- \n",
       "[2024-2025](https://fbref.com/en/players/bc7dc64d/matchlogs/2024-2025/passing/Bukayo-Saka-Match-Logs)\\n- [National \n",
       "Team](https://fbref.com/en/players/bc7dc64d/matchlogs/nat_tm/passing/Bukayo-Saka-Match-Logs)\\n\\nMatch Logs (Pass \n",
       "Types)\\n\\n- \n",
       "[2018-2019](https://fbref.com/en/players/bc7dc64d/matchlogs/2018-2019/passing_types/Bukayo-Saka-Match-Logs)\\n- \n",
       "[2019-2020](https://fbref.com/en/players/bc7dc64d/matchlogs/2019-2020/passing_types/Bukayo-Saka-Match-Logs)\\n- \n",
       "[2020-2021](https://fbref.com/en/players/bc7dc64d/matchlogs/2020-2021/passing_types/Bukayo-Saka-Match-Logs)\\n- \n",
       "[2021-2022](https://fbref.com/en/players/bc7dc64d/matchlogs/2021-2022/passing_types/Bukayo-Saka-Match-Logs)\\n- \n",
       "[2022-2023](https://fbref.com/en/players/bc7dc64d/matchlogs/2022-2023/passing_types/Bukayo-Saka-Match-Logs)\\n- \n",
       "[2023-2024](https://fbref.com/en/players/bc7dc64d/matchlogs/2023-2024/passing_types/Bukayo-Saka-Match-Logs)\\n- \n",
       "[2024-2025](https://fbref.com/en/players/bc7dc64d/matchlogs/2024-2025/passing_types/Bukayo-Saka-Match-Logs)\\n- \n",
       "[National \n",
       "Team](https://fbref.com/en/players/bc7dc64d/matchlogs/nat_tm/passing_types/Bukayo-Saka-Match-Logs)\\n\\nMatch Logs \n",
       "(Goal and Shot Creation)\\n\\n- \n",
       "[2018-2019](https://fbref.com/en/players/bc7dc64d/matchlogs/2018-2019/gca/Bukayo-Saka-Match-Logs)\\n- \n",
       "[2019-2020](https://fbref.com/en/players/bc7dc64d/matchlogs/2019-2020/gca/Bukayo-Saka-Match-Logs)\\n- \n",
       "[2020-2021](https://fbref.com/en/players/bc7dc64d/matchlogs/2020-2021/gca/Bukayo-Saka-Match-Logs)\\n- \n",
       "[2021-2022](https://fbref.com/en/players/bc7dc64d/matchlogs/2021-2022/gca/Bukayo-Saka-Match-Logs)\\n- \n",
       "[2022-2023](https://fbref.com/en/players/bc7dc64d/matchlogs/2022-2023/gca/Bukayo-Saka-Match-Logs)\\n- \n",
       "[2023-2024](https://fbref.com/en/players/bc7dc64d/matchlogs/2023-2024/gca/Bukayo-Saka-Match-Logs)\\n- \n",
       "[2024-2025](https://fbref.com/en/players/bc7dc64d/matchlogs/2024-2025/gca/Bukayo-Saka-Match-Logs)\\n- [National \n",
       "Team](https://fbref.com/en/players/bc7dc64d/matchlogs/nat_tm/gca/Bukayo-Saka-Match-Logs)\\n\\nMatch Logs (Defensive \n",
       "Actions)\\n\\n- \n",
       "[2018-2019](https://fbref.com/en/players/bc7dc64d/matchlogs/2018-2019/defense/Bukayo-Saka-Match-Logs)\\n- \n",
       "[2019-2020](https://fbref.com/en/players/bc7dc64d/matchlogs/2019-2020/defense/Bukayo-Saka-Match-Logs)\\n- \n",
       "[2020-2021](https://fbref.com/en/players/bc7dc64d/matchlogs/2020-2021/defense/Bukayo-Saka-Match-Logs)\\n- \n",
       "[2021-2022](https://fbref.com/en/players/bc7dc64d/matchlogs/2021-2022/defense/Bukayo-Saka-Match-Logs)\\n- \n",
       "[2022-2023](https://fbref.com/en/players/bc7dc64d/matchlogs/2022-2023/defense/Bukayo-Saka-Match-Logs)\\n- \n",
       "[2023-2024](https://fbref.com/en/players/bc7dc64d/matchlogs/2023-2024/defense/Bukayo-Saka-Match-Logs)\\n- \n",
       "[2024-2025](https://fbref.com/en/players/bc7dc64d/matchlogs/2024-2025/defense/Bukayo-Saka-Match-Logs)\\n- [National \n",
       "Team](https://fbref.com/en/players/bc7dc64d/matchlogs/nat_tm/defense/Bukayo-Saka-Match-Logs)\\n\\nMatch Logs \n",
       "(Possession)\\n\\n- \n",
       "[2018-2019](https://fbref.com/en/players/bc7dc64d/matchlogs/2018-2019/possession/Bukayo-Saka-Match-Logs)\\n- \n",
       "[2019-2020](https://fbref.com/en/players/bc7dc64d/matchlogs/2019-2020/possession/Bukayo-Saka-Match-Logs)\\n- \n",
       "[2020-2021](https://fbref.com/en/players/bc7dc64d/matchlogs/2020-2021/possession/Bukayo-Saka-Match-Logs)\\n- \n",
       "[2021-2022](https://fbref.com/en/players/bc7dc64d/matchlogs/2021-2022/possession/Bukayo-Saka-Match-Logs)\\n- \n",
       "[2022-2023](https://fbref.com/en/players/bc7dc64d/matchlogs/2022-2023/possession/Bukayo-Saka-Match-Logs)\\n- \n",
       "[2023-2024](https://fbref.com/en/players/bc7dc64d/matchlogs/2023-2024/possession/Bukayo-Saka-Match-Logs)\\n- \n",
       "[2024-2025](https://fbref.com/en/players/bc7dc64d/matchlogs/2024-2025/possession/Bukayo-Saka-Match-Logs)\\n- \n",
       "[National Team](https://fbref.com/en/players/bc7dc64d/matchlogs/nat_tm/possession/Bukayo-Saka-Match-Logs)\\n\\nMatch \n",
       "Logs (Miscellaneous Stats)\\n\\n- \n",
       "[2018-2019](https://fbref.com/en/players/bc7dc64d/matchlogs/2018-2019/misc/Bukayo-Saka-Match-Logs)\\n- \n",
       "[2019-2020](https://fbref.com/en/players/bc7dc64d/matchlogs/2019-2020/misc/Bukayo-Saka-Match-Logs)\\n- \n",
       "[2020-2021](https://fbref.com/en/players/bc7dc64d/matchlogs/2020-2021/misc/Bukayo-Saka-Match-Logs)\\n- \n",
       "[2021-2022](https://fbref.com/en/players/bc7dc64d/matchlogs/2021-2022/misc/Bukayo-Saka-Match-Logs)\\n- \n",
       "[2022-2023](https://fbref.com/en/players/bc7dc64d/matchlogs/2022-2023/misc/Bukayo-Saka-Match-Logs)\\n- \n",
       "[2023-2024](https://fbref.com/en/players/bc7dc64d/matchlogs/2023-2024/misc/Bukayo-Saka-Match-Logs)\\n- \n",
       "[2024-2025](https://fbref.com/en/players/bc7dc64d/matchlogs/2024-2025/misc/Bukayo-Saka-Match-Logs)\\n- [National \n",
       "Team](https://fbref.com/en/players/bc7dc64d/matchlogs/nat_tm/misc/Bukayo-Saka-Match-Logs)\\n\\n- Goal Logs\\n\\n\\nGoal \n",
       "Logs by Competition\\n\\n\\n\\n- [All \n",
       "Competitions](https://fbref.com/en/players/bc7dc64d/goallogs/all_comps/Bukayo-Saka-Goal-Log)\\n- [Domestic \n",
       "Leagues](https://fbref.com/en/players/bc7dc64d/goallogs/dom_lg/Bukayo-Saka-Goal-Log)\\n- [Domestic \n",
       "Cups](https://fbref.com/en/players/bc7dc64d/goallogs/dom_cup/Bukayo-Saka-Goal-Log)\\n- [International \n",
       "Cups](https://fbref.com/en/players/bc7dc64d/goallogs/intl_cup/Bukayo-Saka-Goal-Log)\\n- [National \n",
       "Team](https://fbref.com/en/players/bc7dc64d/goallogs/nat_tm/Bukayo-Saka-Goal-Log)\\n\\n- Scouting \n",
       "Report\\n\\n\\nScouting Report\\n\\n\\n\\n- [Last 365 Days Men's Big 5 Leagues, UCL, \n",
       "UEL](https://fbref.com/en/players/bc7dc64d/scout/365_m1/Bukayo-Saka-Scouting-Report)\\n- [2024-2025 Premier \n",
       "League](https://fbref.com/en/players/bc7dc64d/scout/12524/Bukayo-Saka-Scouting-Report)\\n- [2024-2025 Champions \n",
       "League](https://fbref.com/en/players/bc7dc64d/scout/12623/Bukayo-Saka-Scouting-Report)\\n- [2024 UEFA Euro \n",
       "2024](https://fbref.com/en/players/bc7dc64d/scout/10279/Bukayo-Saka-Scouting-Report)\\n- [2023-2024 Champions \n",
       "League](https://fbref.com/en/players/bc7dc64d/scout/11835/Bukayo-Saka-Scouting-Report)\\n- [2023-2024 Premier \n",
       "League](https://fbref.com/en/players/bc7dc64d/scout/12192/Bukayo-Saka-Scouting-Report)\\n- [2022-2023 Europa \n",
       "League](https://fbref.com/en/players/bc7dc64d/scout/11455/Bukayo-Saka-Scouting-Report)\\n- [2022-2023 Premier \n",
       "League](https://fbref.com/en/players/bc7dc64d/scout/11566/Bukayo-Saka-Scouting-Report)\\n- [2022 World \n",
       "Cup](https://fbref.com/en/players/bc7dc64d/scout/1711/Bukayo-Saka-Scouting-Report)\\n- [2021-2022 Premier \n",
       "League](https://fbref.com/en/players/bc7dc64d/scout/11160/Bukayo-Saka-Scouting-Report)\\n- [2021 UEFA Euro \n",
       "2020](https://fbref.com/en/players/bc7dc64d/scout/10278/Bukayo-Saka-Scouting-Report)\\n- [2020-2021 Europa \n",
       "League](https://fbref.com/en/players/bc7dc64d/scout/10097/Bukayo-Saka-Scouting-Report)\\n- [2020-2021 Premier \n",
       "League](https://fbref.com/en/players/bc7dc64d/scout/10728/Bukayo-Saka-Scouting-Report)\\n- [2019-2020 Europa \n",
       "League](https://fbref.com/en/players/bc7dc64d/scout/2901/Bukayo-Saka-Scouting-Report)\\n- [2019-2020 Premier \n",
       "League](https://fbref.com/en/players/bc7dc64d/scout/3232/Bukayo-Saka-Scouting-Report)\\n\\n- \n",
       "Stathead/Compare\\n\\n\\nStathead & Player Comparison\\n\\n\\n\\n- [Player Match \n",
       "Finder](https://stathead.com/fbref/player-match-finder.cgi?player_id=bc7dc64d&comp_gender=m&utm_source=fb&utm_mediu\n",
       "m=sr_xsite&utm_campaign=2023_11_player_innernav_stathead)\\n- [Player Season \n",
       "Finder](https://stathead.com/fbref/player-season-finder.cgi?player_id=bc7dc64d&comp_gender=m&utm_source=fb&utm_medi\n",
       "um=sr_xsite&utm_campaign=2023_11_player_innernav_stathead)\\n- [Player \n",
       "Comparison](https://fbref.com/en/stathead/player_comparison.cgi?show_form=1&request=1&sum=0&comp_type=by_type&dom_l\n",
       "g=1&player_id1=bc7dc64d&p1yrfrom=2024-2025&player_id2=de112b84&p2yrfrom=2024-2025&player_id3=8236f673&p3yrfrom=2024\n",
       "-2025&player_id4=d781d855&p4yrfrom=2024-2025&player_id5=f36d5624&p5yrfrom=2024-2025&player_id6=0313a347&p6yrfrom=20\n",
       "24-2025)\\n\\n- \n",
       "[Arsenal](https://fbref.com/en/squads/18bb7c10/Arsenal-Stats)\\n\\n\\n[Arsenal](https://fbref.com/en/squads/18bb7c10/A\n",
       "rsenal-Stats)\\n\\n(18-14-4, 2nd place in Premier League)\\n\\n\\n\\n\\n\\n\\n\\nRoster\\n\\n\\n\\n- [Nathan \n",
       "Butler-Oyedeji](https://fbref.com/en/players/3a686640/Nathan-Butler-Oyedeji)\\n- [Riccardo \n",
       "Calafiori](https://fbref.com/en/players/aded8e6f/Riccardo-Calafiori)\\n- [Brayden \n",
       "Clarke](https://fbref.com/en/players/f9657b1b/Brayden-Clarke)\\n- [Jimi \n",
       "Gower](https://fbref.com/en/players/4571f93e/Jimi-Gower)\\n- [Kai \n",
       "Havertz](https://fbref.com/en/players/fed7cb61/Kai-Havertz)\\n- [Ayden \n",
       "Heaven](https://fbref.com/en/players/64e17fab/Ayden-Heaven)\\n- [Jack \n",
       "Henry-Francis](https://fbref.com/en/players/e93d8ed1/Jack-Henry-Francis)\\n- [Gabriel \n",
       "Jesus](https://fbref.com/en/players/b66315ae/Gabriel-Jesus)\\n- \n",
       "[Jorginho](https://fbref.com/en/players/45db685d/Jorginho)\\n- [Ismeal \n",
       "Kabia](https://fbref.com/en/players/6b15cf32/Ismeal-Kabia)\\n\\n[Maldini \n",
       "Kacurri](https://fbref.com/en/players/7be4311f/Maldini-Kacurri)\\n[Jakub \n",
       "Kiwior](https://fbref.com/en/players/dc3e663e/Jakub-Kiwior)\\n[Myles \n",
       "Lewis-Skelly](https://fbref.com/en/players/5dff6c28/Myles-Lewis-Skelly)\\n[Gabriel \n",
       "Magalhães](https://fbref.com/en/players/67ac5bb8/Gabriel-Magalhaes)\\n[Gabriel \n",
       "Martinelli](https://fbref.com/en/players/48a5a5d6/Gabriel-Martinelli)\\n[Mikel \n",
       "Merino](https://fbref.com/en/players/d080ed5e/Mikel-Merino)\\n[Zane \n",
       "Monlouis](https://fbref.com/en/players/7745640e/Zane-Monlouis)\\n[Reiss \n",
       "Nelson](https://fbref.com/en/players/c5bdb6e3/Reiss-Nelson)\\n[Neto](https://fbref.com/en/players/a9dc785c/Neto)\\n[J\n",
       "osh Nichols](https://fbref.com/en/players/676cf55d/Josh-Nichols)\\n[Eddie \n",
       "Nketiah](https://fbref.com/en/players/a53649b7/Eddie-Nketiah)\\n[Ethan \n",
       "Nwaneri](https://fbref.com/en/players/7f94982c/Ethan-Nwaneri)\\n[Salah Oulad \n",
       "M'Hand](https://fbref.com/en/players/b85c3273/Salah-Oulad-MHand)\\n[Thomas \n",
       "Partey](https://fbref.com/en/players/529f49ab/Thomas-Partey)\\n[Jack \n",
       "Porter](https://fbref.com/en/players/0b4ecd65/Jack-Porter)\\n[Aaron \n",
       "Ramsdale](https://fbref.com/en/players/466fb2c5/Aaron-Ramsdale)\\n[David \n",
       "Raya](https://fbref.com/en/players/98ea5115/David-Raya)\\n[Declan \n",
       "Rice](https://fbref.com/en/players/1c7012b8/Declan-Rice)\\n[Josh \n",
       "Robinson](https://fbref.com/en/players/5260ea6b/Josh-Robinson)\\n[Alexei \n",
       "Rojas](https://fbref.com/en/players/eb189764/Alexei-Rojas)\\n[Michal \n",
       "Rosiak](https://fbref.com/en/players/dbd6a18f/Michal-Rosiak)\\n[Bukayo \n",
       "Saka](https://fbref.com/en/players/bc7dc64d/Bukayo-Saka)\\n[William \n",
       "Saliba](https://fbref.com/en/players/972aeb2a/William-Saliba)\\n[Tommy \n",
       "Setford](https://fbref.com/en/players/d1a2e006/Tommy-Setford)\\n[Raheem \n",
       "Sterling](https://fbref.com/en/players/b400bde0/Raheem-Sterling)\\n[Kieran \n",
       "Tierney](https://fbref.com/en/players/fce2302c/Kieran-Tierney)\\n[Jurriën \n",
       "Timber](https://fbref.com/en/players/41034650/Jurrien-Timber)\\n[Takehiro \n",
       "Tomiyasu](https://fbref.com/en/players/b3af9be1/Takehiro-Tomiyasu)\\n[Leandro \n",
       "Trossard](https://fbref.com/en/players/38ceb24a/Leandro-Trossard)\\n[Ben \n",
       "White](https://fbref.com/en/players/35e413f1/Ben-White)\\n[Oleksandr \n",
       "Zinchenko](https://fbref.com/en/players/51cf8561/Oleksandr-Zinchenko)\\n[Martin \n",
       "Ødegaard](https://fbref.com/en/players/79300479/Martin-Odegaard)\\n\\nSh\n",
       "..._This content has been truncated to stay below 50000 characters_...\n",
       "le=\"\">eng</span></a> <a href=\"https://fbref.com/en/country/ENG/England-Football\">ENG</a></td><td class=\"left \" \n",
       "data-stat=\"comp_level\" csk=\"1a.9\"><span class=\"level\">1.</span> <a \n",
       "href=\"https://fbref.com/en/comps/9/Premier-League-Stats\">Premier League</a></td><td class=\"right group_start\" \n",
       "data-stat=\"weekly_wages\" csk=\"12025741\"><strong>£ 195,000</strong> (€ 231,264, $258,846)</td><td class=\"right \" \n",
       "data-stat=\"annual_wages\" csk=\"12025741\"><strong>£ 10,140,000</strong> (€ 12,025,741, $13,459,997)</td><td \n",
       "class=\"left iz\" data-stat=\"notes\"></td></tr>\\n<tr class=\"spacer partial_table\"><th scope=\"row\" class=\"left iz\" \n",
       "data-stat=\"year\" colspan=\"\"></th><td class=\"center iz\" data-stat=\"age\"></td><td class=\"left iz\" \n",
       "data-stat=\"team\"></td><td class=\"left iz\" data-stat=\"country\"></td><td class=\"left iz\" \n",
       "data-stat=\"comp_level\"></td><td class=\"right iz group_start\" data-stat=\"weekly_wages\"></td><td class=\"right iz\" \n",
       "data-stat=\"annual_wages\"></td><td class=\"left iz\" data-stat=\"notes\"></td></tr>\\n<tr><th scope=\"row\" class=\"left \" \n",
       "data-stat=\"year\" colspan=\"\">2025-2026</th><td class=\"center \" data-stat=\"age\">23</td><td class=\"left \" \n",
       "data-stat=\"team\"><a href=\"https://fbref.com/en/squads/18bb7c10/Arsenal-Stats\">Arsenal</a></td><td class=\"left \" \n",
       "data-stat=\"country\"><a href=\"https://fbref.com/en/country/ENG/England-Football\"><span class=\"f-i f-gb-eng\" \n",
       "style=\"\">eng</span></a> <a href=\"https://fbref.com/en/country/ENG/England-Football\">ENG</a></td><td class=\"left \" \n",
       "data-stat=\"comp_level\" csk=\"1a.9\"><span class=\"level\">1.</span> <a \n",
       "href=\"https://fbref.com/en/comps/9/Premier-League-Stats\">Premier League</a></td><td class=\"right group_start\" \n",
       "data-stat=\"weekly_wages\" csk=\"12025741\"><strong>£ 195,000</strong> (€ 231,264, $258,846)</td><td class=\"right \" \n",
       "data-stat=\"annual_wages\" csk=\"12025741\"><strong>£ 10,140,000</strong> (€ 12,025,741, $13,459,997)</td><td \n",
       "class=\"left iz\" data-stat=\"notes\"></td></tr>\\n<tr><th scope=\"row\" class=\"left \" data-stat=\"year\" \n",
       "colspan=\"\">2026-2027</th><td class=\"center \" data-stat=\"age\">24</td><td class=\"left \" data-stat=\"team\"><a \n",
       "href=\"https://fbref.com/en/squads/18bb7c10/Arsenal-Stats\">Arsenal</a></td><td class=\"left \" data-stat=\"country\"><a \n",
       "href=\"https://fbref.com/en/country/ENG/England-Football\"><span class=\"f-i f-gb-eng\" style=\"\">eng</span></a> <a \n",
       "href=\"https://fbref.com/en/country/ENG/England-Football\">ENG</a></td><td class=\"left \" data-stat=\"comp_level\" \n",
       "csk=\"1a.9\"><span class=\"level\">1.</span> <a href=\"https://fbref.com/en/comps/9/Premier-League-Stats\">Premier \n",
       "League</a></td><td class=\"right group_start\" data-stat=\"weekly_wages\" csk=\"12025741\"><strong>£ 195,000</strong> (€ \n",
       "231,264, $258,846)</td><td class=\"right \" data-stat=\"annual_wages\" csk=\"12025741\"><strong>£ 10,140,000</strong> (€ \n",
       "12,025,741, $13,459,997)</td><td class=\"left iz\" data-stat=\"notes\"></td></tr>\\n</tbody><tfoot><tr><th scope=\"row\" \n",
       "class=\"left \" data-stat=\"year\" colspan=\"\"><a href=\"https://fbref.com/en/players/bc7dc64d/Bukayo-Saka#coverage\">7 \n",
       "Seasons</a>*</th><td class=\"center iz\" data-stat=\"age\"></td><td class=\"left \" data-stat=\"team\">1 Club</td><td \n",
       "class=\"left iz\" data-stat=\"country\"></td><td class=\"left iz\" data-stat=\"comp_level\"></td><td class=\"right iz \n",
       "group_start\" data-stat=\"weekly_wages\"></td><td class=\"right iz\" data-stat=\"annual_wages\"></td><td class=\"left iz\" \n",
       "data-stat=\"notes\"></td></tr>\\n\\n   </tfoot>\\n\\n</table>\\n\\n\\n</div>\\n</div>\\n\\n            \\n            \\n        \n",
       "\\n         \\n      \\n         \\n            <div class=\"section_wrapper\" id=\"all_resources_other\">\\n<div \n",
       "class=\"section_heading assoc_resources_other\" id=\"resources_other_sh\">\\n  <span class=\"section_anchor\" \n",
       "id=\"resources_other_link\" data-label=\"Additional Resources\"></span><h2>Additional Resources</h2>\\n      <div \n",
       "class=\"section_heading_text\">\\n      <ul>\\n      </ul>\\n    </div>\\n    \\n    \\t\\t\\n</div><div \n",
       "class=\"placeholder\"></div>\\n<!--     <div class=\"section_content\" id=\"div_resources_other\">\\n\\t    <a \n",
       "rel=\"nofollow\" href=\"https://en.wikipedia.org/wiki/Bukayo Saka\">Wikipedia</a> &nbsp; &nbsp;\\n &#183; <a \n",
       "rel=\"nofollow\" href=\"https://www.wikidata.org/wiki/Q59306386\">Wikidata</a> &nbsp; &nbsp;\\n\\n\\t\\t\\n    </div>\\n-->\\n\n",
       "<div class=\"section_content\" id=\"div_resources_other\">\\n\\t    <a rel=\"nofollow\" \n",
       "href=\"https://en.wikipedia.org/wiki/Bukayo%20Saka\">Wikipedia</a> &nbsp; &nbsp;\\n · <a rel=\"nofollow\" \n",
       "href=\"https://www.wikidata.org/wiki/Q59306386\">Wikidata</a> &nbsp; &nbsp;\\n\\n\\t\\t\\n    </div>\\n</div>\\n\\n          \n",
       "\\n            \\n            \\n         \\n      \\n\\n<!-- global.nonempty_tables_num: 17, table_count: 17 -->\\n   \n",
       "<div id=\"coverage\" style=\"margin-bottom:60px\" data-comment=\"style is for the inner nav frozen to top of \n",
       "page\"></div>\\n<div class=\"callout light\">\\n    <h3>About FBref.com</h3>\\n    \\n    \\n    \\n    \\n    \\n\\n\\n    \\n  \n",
       "\\n    <p>\\n    FBref.com launched (June 13, 2018) with domestic league coverage for England, France, Germany, \n",
       "Italy, Spain, and United States. Since then we have been steadily expanding our coverage to include domestic \n",
       "leagues from over 40 countries as well as domestic cup, super cup and youth leagues from top European countries. We\n",
       "have also added coverage for major international cups such as the <a \n",
       "href=\"https://fbref.com/en/comps/8/UEFA-Champions-League-Stats\">UEFA Champions League</a> and <a \n",
       "href=\"https://fbref.com/en/comps/14/Copa-Libertadores-Stats\">Copa Libertadores</a>.\\n    </p>\\n\\n    \\n    <p>\\n   \n",
       "FBref is the most complete sources for women\\'s football data on the internet. This includes the entire history of \n",
       "the <a href=\"https://fbref.com/en/comps/106/history/Womens-World-Cup-Seasons\">FIFA Women\\'s World Cup</a> as well \n",
       "as recent domestic league seasons from nine countries, including advanced stats like xG for most of those nine.\\n  \n",
       "</p>\\n\\n    \\n    \\n    <p>\\n    In collaboration with <a href=\"https://www.statsperform.com/opta/\">Opta</a>, we \n",
       "are including advanced analytical data such as xG, xA, progressive passing, duels and more for over twenty \n",
       "competitions. For more information on the expected goals model and which competitions have advanced data, see our \n",
       "<a href=\"https://fbref.com/en/expected-goals-model-explained/\">xG explainer</a>.\\n    </p>\\n\\n    \\n\\n    <button \n",
       "class=\"tooltip opener\" data-selector=\"#coverage_additional\" data-type=\"hide_after\" data-has-listener=\"true\">View \n",
       "Additional Information</button>\\n\\n    <div id=\"coverage_additional\" class=\"toggleable\">\\n        <p>\\n        Note\n",
       "that player records are likely not complete for their careers. Players may come from or move to leagues we don\\'t \n",
       "currently cover. This issue will go down over time, as we add new leagues and seasons. We will never in the future \n",
       "have less data than we do today.\\n        </p>\\n\\n        <p>You can sign up to <a \n",
       "href=\"https://fbref.com/en/email\">receive an e-mail</a> when new countries and features launch.</p>\\n\\n        \n",
       "<p>For more information, see our <a \n",
       "href=\"https://www.sports-reference.com/blog/2018/06/fbref-com-launches-today\">Launch Blog Post</a>, the overall <a \n",
       "href=\"https://fbref.com/en/comps/\">leagues/competition page</a> with details on leagues and seasons we include, or \n",
       "our <a href=\"https://fbref.com/en/about/\">About Page</a>.  <a href=\"https://fbref.com/feedback/\">Let us know if you\n",
       "find an issue or have a suggestion</a>.</p>\\n\\n        <p>FBref is one of seven <a \n",
       "href=\"https://www.sports-reference.com/\">Sports-Reference.com</a> sites.</p>\\n    </div>\\n</div>\\n\\n<div \n",
       "id=\"bottom_nav\" class=\"section_wrapper\">\\n<div class=\"section_heading\"><span data-no-inpage=\"1\" \n",
       "class=\"section_anchor\" id=\"inner_nav_bottom_link\" data-label=\"More Bukayo Saka Pages\"></span><h2>More Bukayo Saka \n",
       "Pages</h2></div>\\n<div class=\"section_content\" id=\"bottom_nav_container\">\\n\\n  <p><a \n",
       "href=\"https://fbref.com/en/players/bc7dc64d/Bukayo-Saka\">Bukayo Saka Overview</a></p>\\n  <p class=\"listhead\">Stats \n",
       "by Competition</p>\\n        <ul class=\"\">\\n          <li><a \n",
       "href=\"https://fbref.com/en/players/bc7dc64d/all_comps/Bukayo-Saka-Stats---All-Competitions\">All \n",
       "Competitions</a></li>\\n          <li><a \n",
       "href=\"https://fbref.com/en/players/bc7dc64d/dom_lg/Bukayo-Saka-Domestic-League-Stats\">Domestic Leagues</a></li>\\n  \n",
       "<li><a href=\"https://fbref.com/en/players/bc7dc64d/dom_cup/Bukayo-Saka-Domestic-Cup-Stats\">Domestic Cups</a></li>\\n\n",
       "<li><a href=\"https://fbref.com/en/players/bc7dc64d/intl_cup/Bukayo-Saka-International-Cup-Stats\">International \n",
       "Cups</a></li>\\n          <li><a \n",
       "href=\"https://fbref.com/en/players/bc7dc64d/nat_tm/Bukayo-Saka-National-Team-Stats\">National Team</a></li>\\n       \n",
       "</ul><p class=\"listhead\">Match Logs (Summary)</p>\\n        <ul class=\"\">\\n          <li><a \n",
       "href=\"https://fbref.com/en/players/bc7dc64d/matchlogs/2018-2019/summary/Bukayo-Saka-Match-Logs\">2018-2019</a></li>\\\n",
       "n          <li><a \n",
       "href=\"https://fbref.com/en/players/bc7dc64d/matchlogs/2019-2020/summary/Bukayo-Saka-Match-Logs\">2019-2020</a></li>\\\n",
       "n          <li><a \n",
       "href=\"https://fbref.com/en/players/bc7dc64d/matchlogs/2020-2021/summary/Bukayo-Saka-Match-Logs\">2020-2021</a></li>\\\n",
       "n          <li><a \n",
       "href=\"https://fbref.com/en/players/bc7dc64d/matchlogs/2021-2022/summary/Bukayo-Saka-Match-Logs\">2021-2022</a></li>\\\n",
       "n          <li><a \n",
       "href=\"https://fbref.com/en/players/bc7dc64d/matchlogs/2022-2023/summary/Bukayo-Saka-Match-Logs\">2022-2023</a></li>\\\n",
       "n          <li><a \n",
       "href=\"https://fbref.com/en/players/bc7dc64d/matchlogs/2023-2024/summary/Bukayo-Saka-Match-Logs\">2023-2024</a></li>\\\n",
       "n          <li><a \n",
       "href=\"https://fbref.com/en/players/bc7dc64d/matchlogs/2024-2025/summary/Bukayo-Saka-Match-Logs\">2024-2025</a></li>\\\n",
       "n          <li><a \n",
       "href=\"https://fbref.com/en/players/bc7dc64d/matchlogs/nat_tm/summary/Bukayo-Saka-Match-Logs\">National \n",
       "Team</a></li>\\n        </ul><p class=\"listhead\">Match Logs (Passing)</p>\\n        <ul class=\"\">\\n          <li><a \n",
       "href=\"https://fbref.com/en/players/bc7dc64d/matchlogs/2018-2019/passing/Bukayo-Saka-Match-Logs\">2018-2019</a></li>\\\n",
       "n          <li><a \n",
       "href=\"https://fbref.com/en/players/bc7dc64d/matchlogs/2019-2020/passing/Bukayo-Saka-Match-Logs\">2019-2020</a></li>\\\n",
       "n          <li><a \n",
       "href=\"https://fbref.com/en/players/bc7dc64d/matchlogs/2020-2021/passing/Bukayo-Saka-Match-Logs\">2020-2021</a></li>\\\n",
       "n          <li><a \n",
       "href=\"https://fbref.com/en/players/bc7dc64d/matchlogs/2021-2022/passing/Bukayo-Saka-Match-Logs\">2021-2022</a></li>\\\n",
       "n          <li><a \n",
       "href=\"https://fbref.com/en/players/bc7dc64d/matchlogs/2022-2023/passing/Bukayo-Saka-Match-Logs\">2022-2023</a></li>\\\n",
       "n          <li><a \n",
       "href=\"https://fbref.com/en/players/bc7dc64d/matchlogs/2023-2024/passing/Bukayo-Saka-Match-Logs\">2023-2024</a></li>\\\n",
       "n          <li><a \n",
       "href=\"https://fbref.com/en/players/bc7dc64d/matchlogs/2024-2025/passing/Bukayo-Saka-Match-Logs\">2024-2025</a></li>\\\n",
       "n          <li><a \n",
       "href=\"https://fbref.com/en/players/bc7dc64d/matchlogs/nat_tm/passing/Bukayo-Saka-Match-Logs\">National \n",
       "Team</a></li>\\n        </ul><p class=\"listhead\">Match Logs (Pass Types)</p>\\n        <ul class=\"\">\\n          \n",
       "<li><a \n",
       "href=\"https://fbref.com/en/players/bc7dc64d/matchlogs/2018-2019/passing_types/Bukayo-Saka-Match-Logs\">2018-2019</a>\n",
       "</li>\\n          <li><a \n",
       "href=\"https://fbref.com/en/players/bc7dc64d/matchlogs/2019-2020/passing_types/Bukayo-Saka-Match-Logs\">2019-2020</a>\n",
       "</li>\\n          <li><a \n",
       "href=\"https://fbref.com/en/players/bc7dc64d/matchlogs/2020-2021/passing_types/Bukayo-Saka-Match-Logs\">2020-2021</a>\n",
       "</li>\\n          <li><a \n",
       "href=\"https://fbref.com/en/players/bc7dc64d/matchlogs/2021-2022/passing_types/Bukayo-Saka-Match-Logs\">2021-2022</a>\n",
       "</li>\\n          <li><a \n",
       "href=\"https://fbref.com/en/players/bc7dc64d/matchlogs/2022-2023/passing_types/Bukayo-Saka-Match-Logs\">2022-2023</a>\n",
       "</li>\\n          <li><a \n",
       "href=\"https://fbref.com/en/players/bc7dc64d/matchlogs/2023-2024/passing_types/Bukayo-Saka-Match-Logs\">2023-2024</a>\n",
       "</li>\\n          <li><a \n",
       "href=\"https://fbref.com/en/players/bc7dc64d/matchlogs/2024-2025/passing_types/Bukayo-Saka-Match-Logs\">2024-2025</a>\n",
       "</li>\\n          <li><a \n",
       "href=\"https://fbref.com/en/players/bc7dc64d/matchlogs/nat_tm/passing_types/Bukayo-Saka-Match-Logs\">National \n",
       "Team</a></li>\\n        </ul><p class=\"listhead\">Match Logs (Goal and Shot Creation)</p>\\n        <ul class=\"\">\\n   \n",
       "<li><a \n",
       "href=\"https://fbref.com/en/players/bc7dc64d/matchlogs/2018-2019/gca/Bukayo-Saka-Match-Logs\">2018-2019</a></li>\\n   \n",
       "<li><a \n",
       "href=\"https://fbref.com/en/players/bc7dc64d/matchlogs/2019-2020/gca/Bukayo-Saka-Match-Logs\">2019-2020</a></li>\\n   \n",
       "<li><a \n",
       "href=\"https://fbref.com/en/players/bc7dc64d/matchlogs/2020-2021/gca/Bukayo-Saka-Match-Logs\">2020-2021</a></li>\\n   \n",
       "<li><a \n",
       "href=\"https://fbref.com/en/players/bc7dc64d/matchlogs/2021-2022/gca/Bukayo-Saka-Match-Logs\">2021-2022</a></li>\\n   \n",
       "<li><a \n",
       "href=\"https://fbref.com/en/players/bc7dc64d/matchlogs/2022-2023/gca/Bukayo-Saka-Match-Logs\">2022-2023</a></li>\\n   \n",
       "<li><a \n",
       "href=\"https://fbref.com/en/players/bc7dc64d/matchlogs/2023-2024/gca/Bukayo-Saka-Match-Logs\">2023-2024</a></li>\\n   \n",
       "<li><a \n",
       "href=\"https://fbref.com/en/players/bc7dc64d/matchlogs/2024-2025/gca/Bukayo-Saka-Match-Logs\">2024-2025</a></li>\\n   \n",
       "<li><a href=\"https://fbref.com/en/players/bc7dc64d/matchlogs/nat_tm/gca/Bukayo-Saka-Match-Logs\">National \n",
       "Team</a></li>\\n        </ul><p class=\"listhead\">Match Logs (Defensive Actions)</p>\\n        <ul class=\"\">\\n        \n",
       "<li><a \n",
       "href=\"https://fbref.com/en/players/bc7dc64d/matchlogs/2018-2019/defense/Bukayo-Saka-Match-Logs\">2018-2019</a></li>\\\n",
       "n          <li><a \n",
       "href=\"https://fbref.com/en/players/bc7dc64d/matchlogs/2019-2020/defense/Bukayo-Saka-Match-Logs\">2019-2020</a></li>\\\n",
       "n          <li><a \n",
       "href=\"https://fbref.com/en/players/bc7dc64d/matchlogs/2020-2021/defense/Bukayo-Saka-Match-Logs\">2020-2021</a></li>\\\n",
       "n          <li><a \n",
       "href=\"https://fbref.com/en/players/bc7dc64d/matchlogs/2021-2022/defense/Bukayo-Saka-Match-Logs\">2021-2022</a></li>\\\n",
       "n          <li><a \n",
       "href=\"https://fbref.com/en/players/bc7dc64d/matchlogs/2022-2023/defense/Bukayo-Saka-Match-Logs\">2022-2023</a></li>\\\n",
       "n          <li><a \n",
       "href=\"https://fbref.com/en/players/bc7dc64d/matchlogs/2023-2024/defense/Bukayo-Saka-Match-Logs\">2023-2024</a></li>\\\n",
       "n          <li><a \n",
       "href=\"https://fbref.com/en/players/bc7dc64d/matchlogs/2024-2025/defense/Bukayo-Saka-Match-Logs\">2024-2025</a></li>\\\n",
       "n          <li><a \n",
       "href=\"https://fbref.com/en/players/bc7dc64d/matchlogs/nat_tm/defense/Bukayo-Saka-Match-Logs\">National \n",
       "Team</a></li>\\n        </ul><p class=\"listhead\">Match Logs (Possession)</p>\\n        <ul class=\"\">\\n          \n",
       "<li><a \n",
       "href=\"https://fbref.com/en/players/bc7dc64d/matchlogs/2018-2019/possession/Bukayo-Saka-Match-Logs\">2018-2019</a></l\n",
       "i>\\n          <li><a \n",
       "href=\"https://fbref.com/en/players/bc7dc64d/matchlogs/2019-2020/possession/Bukayo-Saka-Match-Logs\">2019-2020</a></l\n",
       "i>\\n          <li><a \n",
       "href=\"https://fbref.com/en/players/bc7dc64d/matchlogs/2020-2021/possession/Bukayo-Saka-Match-Logs\">2020-2021</a></l\n",
       "i>\\n          <li><a \n",
       "href=\"https://fbref.com/en/players/bc7dc64d/matchlogs/2021-2022/possession/Bukayo-Saka-Match-Logs\">2021-2022</a></l\n",
       "i>\\n          <li><a \n",
       "href=\"https://fbref.com/en/players/bc7dc64d/matchlogs/2022-2023/possession/Bukayo-Saka-Match-Logs\">2022-2023</a></l\n",
       "i>\\n          <li><a \n",
       "href=\"https://fbref.com/en/players/bc7dc64d/matchlogs/2023-2024/possession/Bukayo-Saka-Match-Logs\">2023-2024</a></l\n",
       "i>\\n          <li><a \n",
       "href=\"https://fbref.com/en/players/bc7dc64d/matchlogs/2024-2025/possession/Bukayo-Saka-Match-Logs\">2024-2025</a></l\n",
       "i>\\n          <li><a \n",
       "href=\"https://fbref.com/en/players/bc7dc64d/matchlogs/nat_tm/possession/Bukayo-Saka-Match-Logs\">National \n",
       "Team</a></li>\\n        </ul><p class=\"listhead\">Match Logs (Miscellaneous Stats)</p>\\n        <ul class=\"\">\\n      \n",
       "<li><a \n",
       "href=\"https://fbref.com/en/players/bc7dc64d/matchlogs/2018-2019/misc/Bukayo-Saka-Match-Logs\">2018-2019</a></li>\\n  \n",
       "<li><a \n",
       "href=\"https://fbref.com/en/players/bc7dc64d/matchlogs/2019-2020/misc/Bukayo-Saka-Match-Logs\">2019-2020</a></li>\\n  \n",
       "<li><a \n",
       "href=\"https://fbref.com/en/players/bc7dc64d/matchlogs/2020-2021/misc/Bukayo-Saka-Match-Logs\">2020-2021</a></li>\\n  \n",
       "<li><a \n",
       "href=\"https://fbref.com/en/players/bc7dc64d/matchlogs/2021-2022/misc/Bukayo-Saka-Match-Logs\">2021-2022</a></li>\\n  \n",
       "<li><a \n",
       "href=\"https://fbref.com/en/players/bc7dc64d/matchlogs/2022-2023/misc/Bukayo-Saka-Match-Logs\">2022-2023</a></li>\\n  \n",
       "<li><a \n",
       "href=\"https://fbref.com/en/players/bc7dc64d/matchlogs/2023-2024/misc/Bukayo-Saka-Match-Logs\">2023-2024</a></li>\\n  \n",
       "<li><a \n",
       "href=\"https://fbref.com/en/players/bc7dc64d/matchlogs/2024-2025/misc/Bukayo-Saka-Match-Logs\">2024-2025</a></li>\\n  \n",
       "<li><a href=\"https://fbref.com/en/players/bc7dc64d/matchlogs/nat_tm/misc/Bukayo-Saka-Match-Logs\">National \n",
       "Team</a></li>\\n        </ul><p class=\"listhead\">Goal Logs by Competition</p>\\n        <ul class=\"\">\\n          \n",
       "<li><a href=\"https://fbref.com/en/players/bc7dc64d/goallogs/all_comps/Bukayo-Saka-Goal-Log\">All \n",
       "Competitions</a></li>\\n          <li><a \n",
       "href=\"https://fbref.com/en/players/bc7dc64d/goallogs/dom_lg/Bukayo-Saka-Goal-Log\">Domestic Leagues</a></li>\\n      \n",
       "<li><a href=\"https://fbref.com/en/players/bc7dc64d/goallogs/dom_cup/Bukayo-Saka-Goal-Log\">Domestic Cups</a></li>\\n \n",
       "<li><a href=\"https://fbref.com/en/players/bc7dc64d/goallogs/intl_cup/Bukayo-Saka-Goal-Log\">International \n",
       "Cups</a></li>\\n          <li><a \n",
       "href=\"https://fbref.com/en/players/bc7dc64d/goallogs/nat_tm/Bukayo-Saka-Goal-Log\">National Team</a></li>\\n        \n",
       "</ul><p class=\"listhead\">Scouting Report</p>\\n        <ul class=\"\">\\n          <li><a \n",
       "href=\"https://fbref.com/en/players/bc7dc64d/scout/365_m1/Bukayo-Saka-Scouting-Report\">Last 365 Days Men\\'s Big 5 \n",
       "Leagues, UCL, UEL</a></li>\\n          <li><a \n",
       "href=\"https://fbref.com/en/players/bc7dc64d/scout/12524/Bukayo-Saka-Scouting-Report\">2024-2025 Premier \n",
       "League</a></li>\\n          <li><a \n",
       "href=\"https://fbref.com/en/players/bc7dc64d/scout/12623/Bukayo-Saka-Scouting-Report\">2024-2025 Champions \n",
       "League</a></li>\\n          <li><a \n",
       "href=\"https://fbref.com/en/players/bc7dc64d/scout/10279/Bukayo-Saka-Scouting-Report\">2024 UEFA Euro 2024</a></li>\\n\n",
       "<li><a href=\"https://fbref.com/en/players/bc7dc64d/scout/11835/Bukayo-Saka-Scouting-Report\">2023-2024 Champions \n",
       "League</a></li>\\n          <li><a \n",
       "href=\"https://fbref.com/en/players/bc7dc64d/scout/12192/Bukayo-Saka-Scouting-Report\">2023-2024 Premier \n",
       "League</a></li>\\n          <li><a \n",
       "href=\"https://fbref.com/en/players/bc7dc64d/scout/11455/Bukayo-Saka-Scouting-Report\">2022-2023 Europa \n",
       "League</a></li>\\n          <li><a \n",
       "href=\"https://fbref.com/en/players/bc7dc64d/scout/11566/Bukayo-Saka-Scouting-Report\">2022-2023 Premier \n",
       "League</a></li>\\n          <li><a \n",
       "href=\"https://fbref.com/en/players/bc7dc64d/scout/1711/Bukayo-Saka-Scouting-Report\">2022 World Cup</a></li>\\n      \n",
       "<li><a href=\"https://fbref.com/en/players/bc7dc64d/scout/11160/Bukayo-Saka-Scouting-Report\">2021-2022 Premier \n",
       "League</a></li>\\n          <li><a \n",
       "href=\"https://fbref.com/en/players/bc7dc64d/scout/10278/Bukayo-Saka-Scouting-Report\">2021 UEFA Euro 2020</a></li>\\n\n",
       "<li><a href=\"https://fbref.com/en/players/bc7dc64d/scout/10097/Bukayo-Saka-Scouting-Report\">2020-2021 Europa \n",
       "League</a></li>\\n          <li><a \n",
       "href=\"https://fbref.com/en/players/bc7dc64d/scout/10728/Bukayo-Saka-Scouting-Report\">2020-2021 Premier \n",
       "League</a></li>\\n          <li><a \n",
       "href=\"https://fbref.com/en/players/bc7dc64d/scout/2901/Bukayo-Saka-Scouting-Report\">2019-2020 Europa \n",
       "League</a></li>\\n          <li><a \n",
       "href=\"https://fbref.com/en/players/bc7dc64d/scout/3232/Bukayo-Saka-Scouting-Report\">2019-2020 Premier \n",
       "League</a></li>\\n        </ul><p class=\"listhead\">Stathead &amp; Player Comparison</p>\\n        <ul class=\"\">\\n    \n",
       "<li><a \n",
       "href=\"https://stathead.com/fbref/player-match-finder.cgi?player_id=bc7dc64d&amp;comp_gender=m&amp;utm_source=fb&amp\n",
       ";utm_medium=sr_xsite&amp;utm_campaign=2023_11_player_innernav_stathead\">Player Match Finder</a></li>\\n          \n",
       "<li><a \n",
       "href=\"https://stathead.com/fbref/player-season-finder.cgi?player_id=bc7dc64d&amp;comp_gender=m&amp;utm_source=fb&am\n",
       "p;utm_medium=sr_xsite&amp;utm_campaign=2023_11_player_innernav_stathead\">Player Season Finder</a></li>\\n          \n",
       "<li><a \n",
       "href=\"https://fbref.com/en/stathead/player_comparison.cgi?show_form=1&amp;request=1&amp;sum=0&amp;comp_type=by_type\n",
       "&amp;dom_lg=1&amp;player_id1=bc7dc64d&amp;p1yrfrom=2024-2025&amp;player_id2=de112b84&amp;p2yrfrom=2024-2025&amp;pla\n",
       "yer_id3=8236f673&amp;p3yrfrom=2024-2025&amp;player_id4=d781d855&amp;p4yrfrom=2024-2025&amp;player_id5=f36d5624&amp;\n",
       "p5yrfrom=2024-2025&amp;player_id6=0313a347&amp;p6yrfrom=2024-2025\">Player Comparison</a></li>\\n        \n",
       "</ul></div></div>\\n\\n   \\n\\n\\n<!-- fs_footer -->\\n<div class=\"adblock\">\\n<!-- div#fs_fs_footer  -->\\n<div \n",
       "align=\"center\" id=\"div-gpt-ad-728x90-Footer\" data-freestar-ad=\"__300x250 __970x90\">\\n  \\n</div>\\n<!-- \n",
       "/div.#fs_fs_footer -->\\n\\n</div>\\n\\n\\n\\n\\n\\n\\n</div><!-- div#content -->\\n\\n<!-- div#footer -->\\n\\n</div><!-- \n",
       "div#wrap -->\\n\\n\\n\\n\\n<!-- rails -->\\n\\n<div class=\"adblock rails  left\" style=\"left: 400px;\"><!-- \n",
       "div#fs_fs_rails_left  -->\\n<div align=\"center\" id=\"div-gpt-ad-160x600-1\" data-freestar-ad=\"\">\\n  \\n</div>\\n<!-- \n",
       "/div.#fs_fs_rails_left -->\\n</div>\\n<div class=\"adblock rails right\" style=\"right: 400px;\"><!-- \n",
       "div#fs_fs_rails_right  -->\\n<div align=\"center\" id=\"div-gpt-ad-160x600-2\" data-freestar-ad=\"\">\\n  \\n</div>\\n<!-- \n",
       "/div.#fs_fs_rails_right -->\\n</div>\\n\\n\\n<!-- sr_gender is used in Templates/Assets/GoogleAnalytics.tt2 -->\\n\\n<!--\n",
       "Google Analytics -->\\n<!-- Google Analytics UA,  UA-1890630-23 -->\\n<!-- Google Analytics GA4, G-T897NZ0GWZ \n",
       "-->\\n<!-- Google Tag Manager -->  <!-- End Google Tag Manager --> <!-- Google Tag Manager (noscript) -->  <!-- End \n",
       "Google Tag Manager (noscript) -->\\n\\n<!-- End Google Analytics -->\\n\\n<!-- Start of HubSpot Embed Code -->\\n\\n<!-- \n",
       "End of HubSpot Embed Code -->\\n\\n\\n\\n\\n\\n\\n\\n\\n\\n<div id=\"modal-overlay\" style=\"visibility: hidden;\"></div><div \n",
       "id=\"modal-container\" style=\"visibility: hidden;\"><div id=\"modal-header\"><div id=\"modal-close\" class=\"closer\" \n",
       "aria-label=\"Close in-page popup window\"></div></div><div id=\"modal-content\"></div><div \n",
       "id=\"modal-loading\"></div></div></body><!-- SR --></html>' rawHtml=None links=None extract=None json=<function \n",
       "BaseModel.json at 0x112d9bce0> screenshot=None metadata={'msapplication-TileColor': '#04376c', 'viewport': \n",
       "'width=device-width, initial-scale=1.0, maximum-scale=2.0', 'og:image': \n",
       "'http://cdn.ssref.net/scripts/image_resize.cgi?min=200&url=https://fbref.com/req/202302030/images/headshots/bc7dc64\n",
       "d_2022.jpg', 'HandheldFriendly': ['True', 'True'], 'fb:app_id': '', 'msapplication-navbutton-color': '4d383b', \n",
       "'og:description': \"Check out the latest domestic and international stats, match logs, goals, height, weight and \n",
       "more for Bukayo Saka playing for Arsenal FC, England men's national team and Arsenal FC U23 in the Premier League, \n",
       "Champions League and UEFA Euro\", 'keywords': '', 'favicon': \n",
       "'https://cdn.ssref.net/req/202505152/favicons/fb/favicon-48.png', 'twitter:creator': '@FBref', 'title': 'Bukayo \n",
       "Saka Stats, Goals, Records, Assists, Cups and more | FBref.com', 'revised': '22:45:19 17-May-2025', \n",
       "'twitter:image': \n",
       "'http://cdn.ssref.net/scripts/image_resize.cgi?min=200&url=https://fbref.com/req/202302030/images/headshots/bc7dc64\n",
       "d_2022.jpg', 'og:site_name': 'FBref.com', 'twitter:site': '@FBref', 'og:url': \n",
       "'https://fbref.com/en/players/bc7dc64d/Bukayo-Saka', 'ogDescription': \"Check out the latest domestic and \n",
       "international stats, match logs, goals, height, weight and more for Bukayo Saka playing for Arsenal FC, England \n",
       "men's national team and Arsenal FC U23 in the Premier League, Champions League and UEFA Euro\", \n",
       "'msapplication-TileImage': 'https://cdn.ssref.net/req/202505152/favicons/fb/ms-tile-144.png', 'format-detection': \n",
       "'telephone=no', 'mobile-web-app-capable': 'yes', 'og:title': 'Bukayo Saka Stats, Goals, Records, Assists, Cups and \n",
       "more | FBref.com', 'language': 'en', 'ogTitle': 'Bukayo Saka Stats, Goals, Records, Assists, Cups and more | \n",
       "FBref.com', 'Description': \"Check out the latest domestic and international stats, match logs, goals, height, \n",
       "weight and more for Bukayo Saka playing for Arsenal FC, England men's national team and Arsenal FC U23 in the \n",
       "Premier League, Champions League and UEFA Euro\", 'apple-mobile-web-app-status-bar-style': '4d383b', 'ogUrl': \n",
       "'https://fbref.com/en/players/bc7dc64d/Bukayo-Saka', 'apple-mobile-web-app-capable': 'no', 'referrer': \n",
       "'unsafe-url', 'generated-by': '/home/fb/deploy/www/base_en/players/player.fcgi', 'twitter:card': 'summary', \n",
       "'og:type': '    Athlete', 'ogSiteName': 'FBref.com', 'twitter:domain': 'FBref.com', 'ogImage': \n",
       "'http://cdn.ssref.net/scripts/image_resize.cgi?min=200&url=https://fbref.com/req/202302030/images/headshots/bc7dc64\n",
       "d_2022.jpg', 'sr-web-model': 'SRlocal::Models::Web::Players::Front', 'theme-color': '4d383b', 'scrapeId': \n",
       "'c64d02a4-03a7-4a6b-8cff-c71a727a8905', 'sourceURL': 'https://fbref.com/en/players/bc7dc64d/Bukayo-Saka', 'url': \n",
       "'https://fbref.com/en/players/bc7dc64d/Bukayo-Saka', 'statusCode': 200} actions=None title=None description=None \n",
       "changeTracking=None success=True warning=None error=None\n",
       "\n",
       "Out: None\n"
      ]
     },
     "metadata": {},
     "output_type": "display_data"
    },
    {
     "data": {
      "text/html": [
       "<pre style=\"white-space:pre;overflow-x:auto;line-height:normal;font-family:Menlo,'DejaVu Sans Mono',consolas,'Courier New',monospace\"><span style=\"color: #7f7f7f; text-decoration-color: #7f7f7f\">[Step 2: Duration 10.01 seconds| Input tokens: 22,452 | Output tokens: 257]</span>\n",
       "</pre>\n"
      ],
      "text/plain": [
       "\u001b[2m[Step 2: Duration 10.01 seconds| Input tokens: 22,452 | Output tokens: 257]\u001b[0m\n"
      ]
     },
     "metadata": {},
     "output_type": "display_data"
    },
    {
     "data": {
      "text/html": [
       "<pre style=\"white-space:pre;overflow-x:auto;line-height:normal;font-family:Menlo,'DejaVu Sans Mono',consolas,'Courier New',monospace\"><span style=\"color: #d4b702; text-decoration-color: #d4b702\">━━━━━━━━━━━━━━━━━━━━━━━━━━━━━━━━━━━━━━━━━━━━━━━━━━━━━ </span><span style=\"font-weight: bold\">Step </span><span style=\"color: #008080; text-decoration-color: #008080; font-weight: bold\">3</span><span style=\"color: #d4b702; text-decoration-color: #d4b702\"> ━━━━━━━━━━━━━━━━━━━━━━━━━━━━━━━━━━━━━━━━━━━━━━━━━━━━━━</span>\n",
       "</pre>\n"
      ],
      "text/plain": [
       "\u001b[38;2;212;183;2m━━━━━━━━━━━━━━━━━━━━━━━━━━━━━━━━━━━━━━━━━━━━━━━━━━━━━ \u001b[0m\u001b[1mStep \u001b[0m\u001b[1;36m3\u001b[0m\u001b[38;2;212;183;2m ━━━━━━━━━━━━━━━━━━━━━━━━━━━━━━━━━━━━━━━━━━━━━━━━━━━━━━\u001b[0m\n"
      ]
     },
     "metadata": {},
     "output_type": "display_data"
    },
    {
     "data": {
      "text/html": [
       "<pre style=\"white-space:pre;overflow-x:auto;line-height:normal;font-family:Menlo,'DejaVu Sans Mono',consolas,'Courier New',monospace\"> ─ <span style=\"font-weight: bold\">Executing parsed code:</span> ──────────────────────────────────────────────────────────────────────────────────────── \n",
       "  <span style=\"color: #f8f8f2; text-decoration-color: #f8f8f2; background-color: #272822\">report </span><span style=\"color: #ff4689; text-decoration-color: #ff4689; background-color: #272822\">=</span><span style=\"color: #f8f8f2; text-decoration-color: #f8f8f2; background-color: #272822\"> </span><span style=\"color: #e6db74; text-decoration-color: #e6db74; background-color: #272822\">\"\"\"</span><span style=\"background-color: #272822\">                                                                                                   </span>  \n",
       "  <span style=\"color: #e6db74; text-decoration-color: #e6db74; background-color: #272822\">Player Report: Bukayo Saka</span><span style=\"background-color: #272822\">                                                                                     </span>  \n",
       "  <span style=\"background-color: #272822\">                                                                                                               </span>  \n",
       "  <span style=\"color: #e6db74; text-decoration-color: #e6db74; background-color: #272822\">Personal Information:</span><span style=\"background-color: #272822\">                                                                                          </span>  \n",
       "  <span style=\"color: #e6db74; text-decoration-color: #e6db74; background-color: #272822\">- Full Name: Bukayo Ayoyinka T.M. Saka</span><span style=\"background-color: #272822\">                                                                         </span>  \n",
       "  <span style=\"color: #e6db74; text-decoration-color: #e6db74; background-color: #272822\">- Position: DF-FW-MF (AM, right)</span><span style=\"background-color: #272822\">                                                                               </span>  \n",
       "  <span style=\"color: #e6db74; text-decoration-color: #e6db74; background-color: #272822\">- Footed: Left</span><span style=\"background-color: #272822\">                                                                                                 </span>  \n",
       "  <span style=\"color: #e6db74; text-decoration-color: #e6db74; background-color: #272822\">- Height: 178 cm (5-10)</span><span style=\"background-color: #272822\">                                                                                        </span>  \n",
       "  <span style=\"color: #e6db74; text-decoration-color: #e6db74; background-color: #272822\">- Weight: 64 kg (143 lb)</span><span style=\"background-color: #272822\">                                                                                       </span>  \n",
       "  <span style=\"color: #e6db74; text-decoration-color: #e6db74; background-color: #272822\">- Date of Birth: September 5, 2001 (Age: 23)</span><span style=\"background-color: #272822\">                                                                   </span>  \n",
       "  <span style=\"color: #e6db74; text-decoration-color: #e6db74; background-color: #272822\">- Nationality: England</span><span style=\"background-color: #272822\">                                                                                         </span>  \n",
       "  <span style=\"background-color: #272822\">                                                                                                               </span>  \n",
       "  <span style=\"color: #e6db74; text-decoration-color: #e6db74; background-color: #272822\">Club Information:</span><span style=\"background-color: #272822\">                                                                                              </span>  \n",
       "  <span style=\"color: #e6db74; text-decoration-color: #e6db74; background-color: #272822\">- Current Club: Arsenal FC</span><span style=\"background-color: #272822\">                                                                                     </span>  \n",
       "  <span style=\"color: #e6db74; text-decoration-color: #e6db74; background-color: #272822\">- Weekly Wage: £195,000 (expires June 2027)</span><span style=\"background-color: #272822\">                                                                    </span>  \n",
       "  <span style=\"background-color: #272822\">                                                                                                               </span>  \n",
       "  <span style=\"color: #e6db74; text-decoration-color: #e6db74; background-color: #272822\">2024-2025 Season Performance:</span><span style=\"background-color: #272822\">                                                                                  </span>  \n",
       "  <span style=\"background-color: #272822\">                                                                                                               </span>  \n",
       "  <span style=\"color: #e6db74; text-decoration-color: #e6db74; background-color: #272822\">Premier League:</span><span style=\"background-color: #272822\">                                                                                                </span>  \n",
       "  <span style=\"color: #e6db74; text-decoration-color: #e6db74; background-color: #272822\">- Matches Played: 23</span><span style=\"background-color: #272822\">                                                                                           </span>  \n",
       "  <span style=\"color: #e6db74; text-decoration-color: #e6db74; background-color: #272822\">- Minutes Played: 1626</span><span style=\"background-color: #272822\">                                                                                         </span>  \n",
       "  <span style=\"color: #e6db74; text-decoration-color: #e6db74; background-color: #272822\">- Goals: 6</span><span style=\"background-color: #272822\">                                                                                                     </span>  \n",
       "  <span style=\"color: #e6db74; text-decoration-color: #e6db74; background-color: #272822\">- Assists: 10</span><span style=\"background-color: #272822\">                                                                                                  </span>  \n",
       "  <span style=\"color: #e6db74; text-decoration-color: #e6db74; background-color: #272822\">- Expected Goals (xG): 6.7</span><span style=\"background-color: #272822\">                                                                                     </span>  \n",
       "  <span style=\"color: #e6db74; text-decoration-color: #e6db74; background-color: #272822\">- Non-Penalty Expected Goals (npxG): 5.9</span><span style=\"background-color: #272822\">                                                                       </span>  \n",
       "  <span style=\"color: #e6db74; text-decoration-color: #e6db74; background-color: #272822\">- Expected Assists (xA): 7.0</span><span style=\"background-color: #272822\">                                                                                   </span>  \n",
       "  <span style=\"color: #e6db74; text-decoration-color: #e6db74; background-color: #272822\">- Shot Creating Actions (SCA): 109</span><span style=\"background-color: #272822\">                                                                             </span>  \n",
       "  <span style=\"color: #e6db74; text-decoration-color: #e6db74; background-color: #272822\">- Goal Creating Actions (GCA): 22</span><span style=\"background-color: #272822\">                                                                              </span>  \n",
       "  <span style=\"background-color: #272822\">                                                                                                               </span>  \n",
       "  <span style=\"color: #e6db74; text-decoration-color: #e6db74; background-color: #272822\">Champions League:</span><span style=\"background-color: #272822\">                                                                                              </span>  \n",
       "  <span style=\"color: #e6db74; text-decoration-color: #e6db74; background-color: #272822\">- Matches Played: 9</span><span style=\"background-color: #272822\">                                                                                            </span>  \n",
       "  <span style=\"color: #e6db74; text-decoration-color: #e6db74; background-color: #272822\">- Minutes Played: 760</span><span style=\"background-color: #272822\">                                                                                          </span>  \n",
       "  <span style=\"color: #e6db74; text-decoration-color: #e6db74; background-color: #272822\">- Goals: 6</span><span style=\"background-color: #272822\">                                                                                                     </span>  \n",
       "  <span style=\"color: #e6db74; text-decoration-color: #e6db74; background-color: #272822\">- Assists: 2</span><span style=\"background-color: #272822\">                                                                                                   </span>  \n",
       "  <span style=\"color: #e6db74; text-decoration-color: #e6db74; background-color: #272822\">- Expected Goals (xG): 4.4</span><span style=\"background-color: #272822\">                                                                                     </span>  \n",
       "  <span style=\"color: #e6db74; text-decoration-color: #e6db74; background-color: #272822\">- Non-Penalty Expected Goals (npxG): 2.9</span><span style=\"background-color: #272822\">                                                                       </span>  \n",
       "  <span style=\"color: #e6db74; text-decoration-color: #e6db74; background-color: #272822\">- Expected Assists (xAG): 3.3</span><span style=\"background-color: #272822\">                                                                                  </span>  \n",
       "  <span style=\"color: #e6db74; text-decoration-color: #e6db74; background-color: #272822\">- Shot Creating Actions (SCA): 31</span><span style=\"background-color: #272822\">                                                                              </span>  \n",
       "  <span style=\"color: #e6db74; text-decoration-color: #e6db74; background-color: #272822\">- Goal Creating Actions (GCA): 7</span><span style=\"background-color: #272822\">                                                                               </span>  \n",
       "  <span style=\"background-color: #272822\">                                                                                                               </span>  \n",
       "  <span style=\"color: #e6db74; text-decoration-color: #e6db74; background-color: #272822\">Additional Resources:</span><span style=\"background-color: #272822\">                                                                                          </span>  \n",
       "  <span style=\"color: #e6db74; text-decoration-color: #e6db74; background-color: #272822\">- Scouting Report (Last 365 Days Men's Big 5 Leagues, UCL, UEL): </span><span style=\"background-color: #272822\">                                              </span>  \n",
       "  <span style=\"color: #e6db74; text-decoration-color: #e6db74; background-color: #272822\">https://fbref.com/en/players/bc7dc64d/scout/365_m1/Bukayo-Saka-Scouting-Report</span><span style=\"background-color: #272822\">                                 </span>  \n",
       "  <span style=\"color: #e6db74; text-decoration-color: #e6db74; background-color: #272822\">- Scouting Report (2024-2025 Premier League): </span><span style=\"background-color: #272822\">                                                                 </span>  \n",
       "  <span style=\"color: #e6db74; text-decoration-color: #e6db74; background-color: #272822\">https://fbref.com/en/players/bc7dc64d/scout/12524/Bukayo-Saka-Scouting-Report</span><span style=\"background-color: #272822\">                                  </span>  \n",
       "  <span style=\"color: #e6db74; text-decoration-color: #e6db74; background-color: #272822\">- Scouting Report (2024-2025 Champions League): </span><span style=\"background-color: #272822\">                                                               </span>  \n",
       "  <span style=\"color: #e6db74; text-decoration-color: #e6db74; background-color: #272822\">https://fbref.com/en/players/bc7dc64d/scout/12623/Bukayo-Saka-Scouting-Report</span><span style=\"background-color: #272822\">                                  </span>  \n",
       "  <span style=\"background-color: #272822\">                                                                                                               </span>  \n",
       "  <span style=\"color: #e6db74; text-decoration-color: #e6db74; background-color: #272822\">For more detailed match logs, stats by competition, and goal logs, visit on FBref: </span><span style=\"background-color: #272822\">                            </span>  \n",
       "  <span style=\"color: #e6db74; text-decoration-color: #e6db74; background-color: #272822\">https://fbref.com/en/players/bc7dc64d/Bukayo-Saka</span><span style=\"background-color: #272822\">                                                              </span>  \n",
       "  <span style=\"color: #e6db74; text-decoration-color: #e6db74; background-color: #272822\">\"\"\"</span><span style=\"background-color: #272822\">                                                                                                            </span>  \n",
       "  <span style=\"background-color: #272822\">                                                                                                               </span>  \n",
       "  <span style=\"color: #f8f8f2; text-decoration-color: #f8f8f2; background-color: #272822\">final_answer(report)</span><span style=\"background-color: #272822\">                                                                                           </span>  \n",
       " ───────────────────────────────────────────────────────────────────────────────────────────────────────────────── \n",
       "</pre>\n"
      ],
      "text/plain": [
       " ─ \u001b[1mExecuting parsed code:\u001b[0m ──────────────────────────────────────────────────────────────────────────────────────── \n",
       "  \u001b[38;2;248;248;242;48;2;39;40;34mreport\u001b[0m\u001b[38;2;248;248;242;48;2;39;40;34m \u001b[0m\u001b[38;2;255;70;137;48;2;39;40;34m=\u001b[0m\u001b[38;2;248;248;242;48;2;39;40;34m \u001b[0m\u001b[38;2;230;219;116;48;2;39;40;34m\"\"\"\u001b[0m\u001b[48;2;39;40;34m                                                                                                   \u001b[0m  \n",
       "  \u001b[38;2;230;219;116;48;2;39;40;34mPlayer Report: Bukayo Saka\u001b[0m\u001b[48;2;39;40;34m                                                                                     \u001b[0m  \n",
       "  \u001b[48;2;39;40;34m                                                                                                               \u001b[0m  \n",
       "  \u001b[38;2;230;219;116;48;2;39;40;34mPersonal Information:\u001b[0m\u001b[48;2;39;40;34m                                                                                          \u001b[0m  \n",
       "  \u001b[38;2;230;219;116;48;2;39;40;34m- Full Name: Bukayo Ayoyinka T.M. Saka\u001b[0m\u001b[48;2;39;40;34m                                                                         \u001b[0m  \n",
       "  \u001b[38;2;230;219;116;48;2;39;40;34m- Position: DF-FW-MF (AM, right)\u001b[0m\u001b[48;2;39;40;34m                                                                               \u001b[0m  \n",
       "  \u001b[38;2;230;219;116;48;2;39;40;34m- Footed: Left\u001b[0m\u001b[48;2;39;40;34m                                                                                                 \u001b[0m  \n",
       "  \u001b[38;2;230;219;116;48;2;39;40;34m- Height: 178 cm (5-10)\u001b[0m\u001b[48;2;39;40;34m                                                                                        \u001b[0m  \n",
       "  \u001b[38;2;230;219;116;48;2;39;40;34m- Weight: 64 kg (143 lb)\u001b[0m\u001b[48;2;39;40;34m                                                                                       \u001b[0m  \n",
       "  \u001b[38;2;230;219;116;48;2;39;40;34m- Date of Birth: September 5, 2001 (Age: 23)\u001b[0m\u001b[48;2;39;40;34m                                                                   \u001b[0m  \n",
       "  \u001b[38;2;230;219;116;48;2;39;40;34m- Nationality: England\u001b[0m\u001b[48;2;39;40;34m                                                                                         \u001b[0m  \n",
       "  \u001b[48;2;39;40;34m                                                                                                               \u001b[0m  \n",
       "  \u001b[38;2;230;219;116;48;2;39;40;34mClub Information:\u001b[0m\u001b[48;2;39;40;34m                                                                                              \u001b[0m  \n",
       "  \u001b[38;2;230;219;116;48;2;39;40;34m- Current Club: Arsenal FC\u001b[0m\u001b[48;2;39;40;34m                                                                                     \u001b[0m  \n",
       "  \u001b[38;2;230;219;116;48;2;39;40;34m- Weekly Wage: £195,000 (expires June 2027)\u001b[0m\u001b[48;2;39;40;34m                                                                    \u001b[0m  \n",
       "  \u001b[48;2;39;40;34m                                                                                                               \u001b[0m  \n",
       "  \u001b[38;2;230;219;116;48;2;39;40;34m2024-2025 Season Performance:\u001b[0m\u001b[48;2;39;40;34m                                                                                  \u001b[0m  \n",
       "  \u001b[48;2;39;40;34m                                                                                                               \u001b[0m  \n",
       "  \u001b[38;2;230;219;116;48;2;39;40;34mPremier League:\u001b[0m\u001b[48;2;39;40;34m                                                                                                \u001b[0m  \n",
       "  \u001b[38;2;230;219;116;48;2;39;40;34m- Matches Played: 23\u001b[0m\u001b[48;2;39;40;34m                                                                                           \u001b[0m  \n",
       "  \u001b[38;2;230;219;116;48;2;39;40;34m- Minutes Played: 1626\u001b[0m\u001b[48;2;39;40;34m                                                                                         \u001b[0m  \n",
       "  \u001b[38;2;230;219;116;48;2;39;40;34m- Goals: 6\u001b[0m\u001b[48;2;39;40;34m                                                                                                     \u001b[0m  \n",
       "  \u001b[38;2;230;219;116;48;2;39;40;34m- Assists: 10\u001b[0m\u001b[48;2;39;40;34m                                                                                                  \u001b[0m  \n",
       "  \u001b[38;2;230;219;116;48;2;39;40;34m- Expected Goals (xG): 6.7\u001b[0m\u001b[48;2;39;40;34m                                                                                     \u001b[0m  \n",
       "  \u001b[38;2;230;219;116;48;2;39;40;34m- Non-Penalty Expected Goals (npxG): 5.9\u001b[0m\u001b[48;2;39;40;34m                                                                       \u001b[0m  \n",
       "  \u001b[38;2;230;219;116;48;2;39;40;34m- Expected Assists (xA): 7.0\u001b[0m\u001b[48;2;39;40;34m                                                                                   \u001b[0m  \n",
       "  \u001b[38;2;230;219;116;48;2;39;40;34m- Shot Creating Actions (SCA): 109\u001b[0m\u001b[48;2;39;40;34m                                                                             \u001b[0m  \n",
       "  \u001b[38;2;230;219;116;48;2;39;40;34m- Goal Creating Actions (GCA): 22\u001b[0m\u001b[48;2;39;40;34m                                                                              \u001b[0m  \n",
       "  \u001b[48;2;39;40;34m                                                                                                               \u001b[0m  \n",
       "  \u001b[38;2;230;219;116;48;2;39;40;34mChampions League:\u001b[0m\u001b[48;2;39;40;34m                                                                                              \u001b[0m  \n",
       "  \u001b[38;2;230;219;116;48;2;39;40;34m- Matches Played: 9\u001b[0m\u001b[48;2;39;40;34m                                                                                            \u001b[0m  \n",
       "  \u001b[38;2;230;219;116;48;2;39;40;34m- Minutes Played: 760\u001b[0m\u001b[48;2;39;40;34m                                                                                          \u001b[0m  \n",
       "  \u001b[38;2;230;219;116;48;2;39;40;34m- Goals: 6\u001b[0m\u001b[48;2;39;40;34m                                                                                                     \u001b[0m  \n",
       "  \u001b[38;2;230;219;116;48;2;39;40;34m- Assists: 2\u001b[0m\u001b[48;2;39;40;34m                                                                                                   \u001b[0m  \n",
       "  \u001b[38;2;230;219;116;48;2;39;40;34m- Expected Goals (xG): 4.4\u001b[0m\u001b[48;2;39;40;34m                                                                                     \u001b[0m  \n",
       "  \u001b[38;2;230;219;116;48;2;39;40;34m- Non-Penalty Expected Goals (npxG): 2.9\u001b[0m\u001b[48;2;39;40;34m                                                                       \u001b[0m  \n",
       "  \u001b[38;2;230;219;116;48;2;39;40;34m- Expected Assists (xAG): 3.3\u001b[0m\u001b[48;2;39;40;34m                                                                                  \u001b[0m  \n",
       "  \u001b[38;2;230;219;116;48;2;39;40;34m- Shot Creating Actions (SCA): 31\u001b[0m\u001b[48;2;39;40;34m                                                                              \u001b[0m  \n",
       "  \u001b[38;2;230;219;116;48;2;39;40;34m- Goal Creating Actions (GCA): 7\u001b[0m\u001b[48;2;39;40;34m                                                                               \u001b[0m  \n",
       "  \u001b[48;2;39;40;34m                                                                                                               \u001b[0m  \n",
       "  \u001b[38;2;230;219;116;48;2;39;40;34mAdditional Resources:\u001b[0m\u001b[48;2;39;40;34m                                                                                          \u001b[0m  \n",
       "  \u001b[38;2;230;219;116;48;2;39;40;34m- Scouting Report (Last 365 Days Men\u001b[0m\u001b[38;2;230;219;116;48;2;39;40;34m'\u001b[0m\u001b[38;2;230;219;116;48;2;39;40;34ms Big 5 Leagues, UCL, UEL): \u001b[0m\u001b[48;2;39;40;34m                                              \u001b[0m  \n",
       "  \u001b[38;2;230;219;116;48;2;39;40;34mhttps://fbref.com/en/players/bc7dc64d/scout/365_m1/Bukayo-Saka-Scouting-Report\u001b[0m\u001b[48;2;39;40;34m                                 \u001b[0m  \n",
       "  \u001b[38;2;230;219;116;48;2;39;40;34m- Scouting Report (2024-2025 Premier League): \u001b[0m\u001b[48;2;39;40;34m                                                                 \u001b[0m  \n",
       "  \u001b[38;2;230;219;116;48;2;39;40;34mhttps://fbref.com/en/players/bc7dc64d/scout/12524/Bukayo-Saka-Scouting-Report\u001b[0m\u001b[48;2;39;40;34m                                  \u001b[0m  \n",
       "  \u001b[38;2;230;219;116;48;2;39;40;34m- Scouting Report (2024-2025 Champions League): \u001b[0m\u001b[48;2;39;40;34m                                                               \u001b[0m  \n",
       "  \u001b[38;2;230;219;116;48;2;39;40;34mhttps://fbref.com/en/players/bc7dc64d/scout/12623/Bukayo-Saka-Scouting-Report\u001b[0m\u001b[48;2;39;40;34m                                  \u001b[0m  \n",
       "  \u001b[48;2;39;40;34m                                                                                                               \u001b[0m  \n",
       "  \u001b[38;2;230;219;116;48;2;39;40;34mFor more detailed match logs, stats by competition, and goal logs, visit on FBref: \u001b[0m\u001b[48;2;39;40;34m                            \u001b[0m  \n",
       "  \u001b[38;2;230;219;116;48;2;39;40;34mhttps://fbref.com/en/players/bc7dc64d/Bukayo-Saka\u001b[0m\u001b[48;2;39;40;34m                                                              \u001b[0m  \n",
       "  \u001b[38;2;230;219;116;48;2;39;40;34m\"\"\"\u001b[0m\u001b[48;2;39;40;34m                                                                                                            \u001b[0m  \n",
       "  \u001b[48;2;39;40;34m                                                                                                               \u001b[0m  \n",
       "  \u001b[38;2;248;248;242;48;2;39;40;34mfinal_answer\u001b[0m\u001b[38;2;248;248;242;48;2;39;40;34m(\u001b[0m\u001b[38;2;248;248;242;48;2;39;40;34mreport\u001b[0m\u001b[38;2;248;248;242;48;2;39;40;34m)\u001b[0m\u001b[48;2;39;40;34m                                                                                           \u001b[0m  \n",
       " ───────────────────────────────────────────────────────────────────────────────────────────────────────────────── \n"
      ]
     },
     "metadata": {},
     "output_type": "display_data"
    },
    {
     "data": {
      "text/html": [
       "<pre style=\"white-space:pre;overflow-x:auto;line-height:normal;font-family:Menlo,'DejaVu Sans Mono',consolas,'Courier New',monospace\"><span style=\"color: #d4b702; text-decoration-color: #d4b702; font-weight: bold\">Out - Final answer: </span>\n",
       "<span style=\"color: #d4b702; text-decoration-color: #d4b702; font-weight: bold\">Player Report: Bukayo Saka</span>\n",
       "\n",
       "<span style=\"color: #d4b702; text-decoration-color: #d4b702; font-weight: bold\">Personal Information:</span>\n",
       "<span style=\"color: #d4b702; text-decoration-color: #d4b702; font-weight: bold\">- Full Name: Bukayo Ayoyinka T.M. Saka</span>\n",
       "<span style=\"color: #d4b702; text-decoration-color: #d4b702; font-weight: bold\">- Position: DF-FW-MF (AM, right)</span>\n",
       "<span style=\"color: #d4b702; text-decoration-color: #d4b702; font-weight: bold\">- Footed: Left</span>\n",
       "<span style=\"color: #d4b702; text-decoration-color: #d4b702; font-weight: bold\">- Height: 178 cm (5-10)</span>\n",
       "<span style=\"color: #d4b702; text-decoration-color: #d4b702; font-weight: bold\">- Weight: 64 kg (143 lb)</span>\n",
       "<span style=\"color: #d4b702; text-decoration-color: #d4b702; font-weight: bold\">- Date of Birth: September 5, 2001 (Age: 23)</span>\n",
       "<span style=\"color: #d4b702; text-decoration-color: #d4b702; font-weight: bold\">- Nationality: England</span>\n",
       "\n",
       "<span style=\"color: #d4b702; text-decoration-color: #d4b702; font-weight: bold\">Club Information:</span>\n",
       "<span style=\"color: #d4b702; text-decoration-color: #d4b702; font-weight: bold\">- Current Club: Arsenal FC</span>\n",
       "<span style=\"color: #d4b702; text-decoration-color: #d4b702; font-weight: bold\">- Weekly Wage: £195,000 (expires June 2027)</span>\n",
       "\n",
       "<span style=\"color: #d4b702; text-decoration-color: #d4b702; font-weight: bold\">2024-2025 Season Performance:</span>\n",
       "\n",
       "<span style=\"color: #d4b702; text-decoration-color: #d4b702; font-weight: bold\">Premier League:</span>\n",
       "<span style=\"color: #d4b702; text-decoration-color: #d4b702; font-weight: bold\">- Matches Played: 23</span>\n",
       "<span style=\"color: #d4b702; text-decoration-color: #d4b702; font-weight: bold\">- Minutes Played: 1626</span>\n",
       "<span style=\"color: #d4b702; text-decoration-color: #d4b702; font-weight: bold\">- Goals: 6</span>\n",
       "<span style=\"color: #d4b702; text-decoration-color: #d4b702; font-weight: bold\">- Assists: 10</span>\n",
       "<span style=\"color: #d4b702; text-decoration-color: #d4b702; font-weight: bold\">- Expected Goals (xG): 6.7</span>\n",
       "<span style=\"color: #d4b702; text-decoration-color: #d4b702; font-weight: bold\">- Non-Penalty Expected Goals (npxG): 5.9</span>\n",
       "<span style=\"color: #d4b702; text-decoration-color: #d4b702; font-weight: bold\">- Expected Assists (xA): 7.0</span>\n",
       "<span style=\"color: #d4b702; text-decoration-color: #d4b702; font-weight: bold\">- Shot Creating Actions (SCA): 109</span>\n",
       "<span style=\"color: #d4b702; text-decoration-color: #d4b702; font-weight: bold\">- Goal Creating Actions (GCA): 22</span>\n",
       "\n",
       "<span style=\"color: #d4b702; text-decoration-color: #d4b702; font-weight: bold\">Champions League:</span>\n",
       "<span style=\"color: #d4b702; text-decoration-color: #d4b702; font-weight: bold\">- Matches Played: 9</span>\n",
       "<span style=\"color: #d4b702; text-decoration-color: #d4b702; font-weight: bold\">- Minutes Played: 760</span>\n",
       "<span style=\"color: #d4b702; text-decoration-color: #d4b702; font-weight: bold\">- Goals: 6</span>\n",
       "<span style=\"color: #d4b702; text-decoration-color: #d4b702; font-weight: bold\">- Assists: 2</span>\n",
       "<span style=\"color: #d4b702; text-decoration-color: #d4b702; font-weight: bold\">- Expected Goals (xG): 4.4</span>\n",
       "<span style=\"color: #d4b702; text-decoration-color: #d4b702; font-weight: bold\">- Non-Penalty Expected Goals (npxG): 2.9</span>\n",
       "<span style=\"color: #d4b702; text-decoration-color: #d4b702; font-weight: bold\">- Expected Assists (xAG): 3.3</span>\n",
       "<span style=\"color: #d4b702; text-decoration-color: #d4b702; font-weight: bold\">- Shot Creating Actions (SCA): 31</span>\n",
       "<span style=\"color: #d4b702; text-decoration-color: #d4b702; font-weight: bold\">- Goal Creating Actions (GCA): 7</span>\n",
       "\n",
       "<span style=\"color: #d4b702; text-decoration-color: #d4b702; font-weight: bold\">Additional Resources:</span>\n",
       "<span style=\"color: #d4b702; text-decoration-color: #d4b702; font-weight: bold\">- Scouting Report (Last 365 Days Men's Big 5 Leagues, UCL, UEL): </span>\n",
       "<span style=\"color: #d4b702; text-decoration-color: #d4b702; font-weight: bold\">https://fbref.com/en/players/bc7dc64d/scout/365_m1/Bukayo-Saka-Scouting-Report</span>\n",
       "<span style=\"color: #d4b702; text-decoration-color: #d4b702; font-weight: bold\">- Scouting Report (2024-2025 Premier League): </span>\n",
       "<span style=\"color: #d4b702; text-decoration-color: #d4b702; font-weight: bold\">https://fbref.com/en/players/bc7dc64d/scout/12524/Bukayo-Saka-Scouting-Report</span>\n",
       "<span style=\"color: #d4b702; text-decoration-color: #d4b702; font-weight: bold\">- Scouting Report (2024-2025 Champions League): </span>\n",
       "<span style=\"color: #d4b702; text-decoration-color: #d4b702; font-weight: bold\">https://fbref.com/en/players/bc7dc64d/scout/12623/Bukayo-Saka-Scouting-Report</span>\n",
       "\n",
       "<span style=\"color: #d4b702; text-decoration-color: #d4b702; font-weight: bold\">For more detailed match logs, stats by competition, and goal logs, visit on FBref: </span>\n",
       "<span style=\"color: #d4b702; text-decoration-color: #d4b702; font-weight: bold\">https://fbref.com/en/players/bc7dc64d/Bukayo-Saka</span>\n",
       "\n",
       "</pre>\n"
      ],
      "text/plain": [
       "\u001b[1;38;2;212;183;2mOut - Final answer: \u001b[0m\n",
       "\u001b[1;38;2;212;183;2mPlayer Report: Bukayo Saka\u001b[0m\n",
       "\n",
       "\u001b[1;38;2;212;183;2mPersonal Information:\u001b[0m\n",
       "\u001b[1;38;2;212;183;2m- Full Name: Bukayo Ayoyinka T.M. Saka\u001b[0m\n",
       "\u001b[1;38;2;212;183;2m- Position: DF-FW-MF (AM, right)\u001b[0m\n",
       "\u001b[1;38;2;212;183;2m- Footed: Left\u001b[0m\n",
       "\u001b[1;38;2;212;183;2m- Height: 178 cm (5-10)\u001b[0m\n",
       "\u001b[1;38;2;212;183;2m- Weight: 64 kg (143 lb)\u001b[0m\n",
       "\u001b[1;38;2;212;183;2m- Date of Birth: September 5, 2001 (Age: 23)\u001b[0m\n",
       "\u001b[1;38;2;212;183;2m- Nationality: England\u001b[0m\n",
       "\n",
       "\u001b[1;38;2;212;183;2mClub Information:\u001b[0m\n",
       "\u001b[1;38;2;212;183;2m- Current Club: Arsenal FC\u001b[0m\n",
       "\u001b[1;38;2;212;183;2m- Weekly Wage: £195,000 (expires June 2027)\u001b[0m\n",
       "\n",
       "\u001b[1;38;2;212;183;2m2024-2025 Season Performance:\u001b[0m\n",
       "\n",
       "\u001b[1;38;2;212;183;2mPremier League:\u001b[0m\n",
       "\u001b[1;38;2;212;183;2m- Matches Played: 23\u001b[0m\n",
       "\u001b[1;38;2;212;183;2m- Minutes Played: 1626\u001b[0m\n",
       "\u001b[1;38;2;212;183;2m- Goals: 6\u001b[0m\n",
       "\u001b[1;38;2;212;183;2m- Assists: 10\u001b[0m\n",
       "\u001b[1;38;2;212;183;2m- Expected Goals (xG): 6.7\u001b[0m\n",
       "\u001b[1;38;2;212;183;2m- Non-Penalty Expected Goals (npxG): 5.9\u001b[0m\n",
       "\u001b[1;38;2;212;183;2m- Expected Assists (xA): 7.0\u001b[0m\n",
       "\u001b[1;38;2;212;183;2m- Shot Creating Actions (SCA): 109\u001b[0m\n",
       "\u001b[1;38;2;212;183;2m- Goal Creating Actions (GCA): 22\u001b[0m\n",
       "\n",
       "\u001b[1;38;2;212;183;2mChampions League:\u001b[0m\n",
       "\u001b[1;38;2;212;183;2m- Matches Played: 9\u001b[0m\n",
       "\u001b[1;38;2;212;183;2m- Minutes Played: 760\u001b[0m\n",
       "\u001b[1;38;2;212;183;2m- Goals: 6\u001b[0m\n",
       "\u001b[1;38;2;212;183;2m- Assists: 2\u001b[0m\n",
       "\u001b[1;38;2;212;183;2m- Expected Goals (xG): 4.4\u001b[0m\n",
       "\u001b[1;38;2;212;183;2m- Non-Penalty Expected Goals (npxG): 2.9\u001b[0m\n",
       "\u001b[1;38;2;212;183;2m- Expected Assists (xAG): 3.3\u001b[0m\n",
       "\u001b[1;38;2;212;183;2m- Shot Creating Actions (SCA): 31\u001b[0m\n",
       "\u001b[1;38;2;212;183;2m- Goal Creating Actions (GCA): 7\u001b[0m\n",
       "\n",
       "\u001b[1;38;2;212;183;2mAdditional Resources:\u001b[0m\n",
       "\u001b[1;38;2;212;183;2m- Scouting Report (Last 365 Days Men's Big 5 Leagues, UCL, UEL): \u001b[0m\n",
       "\u001b[1;38;2;212;183;2mhttps://fbref.com/en/players/bc7dc64d/scout/365_m1/Bukayo-Saka-Scouting-Report\u001b[0m\n",
       "\u001b[1;38;2;212;183;2m- Scouting Report (2024-2025 Premier League): \u001b[0m\n",
       "\u001b[1;38;2;212;183;2mhttps://fbref.com/en/players/bc7dc64d/scout/12524/Bukayo-Saka-Scouting-Report\u001b[0m\n",
       "\u001b[1;38;2;212;183;2m- Scouting Report (2024-2025 Champions League): \u001b[0m\n",
       "\u001b[1;38;2;212;183;2mhttps://fbref.com/en/players/bc7dc64d/scout/12623/Bukayo-Saka-Scouting-Report\u001b[0m\n",
       "\n",
       "\u001b[1;38;2;212;183;2mFor more detailed match logs, stats by competition, and goal logs, visit on FBref: \u001b[0m\n",
       "\u001b[1;38;2;212;183;2mhttps://fbref.com/en/players/bc7dc64d/Bukayo-Saka\u001b[0m\n",
       "\n"
      ]
     },
     "metadata": {},
     "output_type": "display_data"
    },
    {
     "data": {
      "text/html": [
       "<pre style=\"white-space:pre;overflow-x:auto;line-height:normal;font-family:Menlo,'DejaVu Sans Mono',consolas,'Courier New',monospace\"><span style=\"color: #7f7f7f; text-decoration-color: #7f7f7f\">[Step 3: Duration 15.22 seconds| Input tokens: 61,429 | Output tokens: 937]</span>\n",
       "</pre>\n"
      ],
      "text/plain": [
       "\u001b[2m[Step 3: Duration 15.22 seconds| Input tokens: 61,429 | Output tokens: 937]\u001b[0m\n"
      ]
     },
     "metadata": {},
     "output_type": "display_data"
    },
    {
     "data": {
      "text/plain": [
       "\"\\nPlayer Report: Bukayo Saka\\n\\nPersonal Information:\\n- Full Name: Bukayo Ayoyinka T.M. Saka\\n- Position: DF-FW-MF (AM, right)\\n- Footed: Left\\n- Height: 178 cm (5-10)\\n- Weight: 64 kg (143 lb)\\n- Date of Birth: September 5, 2001 (Age: 23)\\n- Nationality: England\\n\\nClub Information:\\n- Current Club: Arsenal FC\\n- Weekly Wage: £195,000 (expires June 2027)\\n\\n2024-2025 Season Performance:\\n\\nPremier League:\\n- Matches Played: 23\\n- Minutes Played: 1626\\n- Goals: 6\\n- Assists: 10\\n- Expected Goals (xG): 6.7\\n- Non-Penalty Expected Goals (npxG): 5.9\\n- Expected Assists (xA): 7.0\\n- Shot Creating Actions (SCA): 109\\n- Goal Creating Actions (GCA): 22\\n\\nChampions League:\\n- Matches Played: 9\\n- Minutes Played: 760\\n- Goals: 6\\n- Assists: 2\\n- Expected Goals (xG): 4.4\\n- Non-Penalty Expected Goals (npxG): 2.9\\n- Expected Assists (xAG): 3.3\\n- Shot Creating Actions (SCA): 31\\n- Goal Creating Actions (GCA): 7\\n\\nAdditional Resources:\\n- Scouting Report (Last 365 Days Men's Big 5 Leagues, UCL, UEL): https://fbref.com/en/players/bc7dc64d/scout/365_m1/Bukayo-Saka-Scouting-Report\\n- Scouting Report (2024-2025 Premier League): https://fbref.com/en/players/bc7dc64d/scout/12524/Bukayo-Saka-Scouting-Report\\n- Scouting Report (2024-2025 Champions League): https://fbref.com/en/players/bc7dc64d/scout/12623/Bukayo-Saka-Scouting-Report\\n\\nFor more detailed match logs, stats by competition, and goal logs, visit on FBref: https://fbref.com/en/players/bc7dc64d/Bukayo-Saka\\n\""
      ]
     },
     "execution_count": 55,
     "metadata": {},
     "output_type": "execute_result"
    }
   ],
   "source": [
    "gpt_41_model = LiteLLMModel(model_id=\"gpt-4.1-mini\", api_key=oai_api_key)\n",
    "\n",
    "agent = CodeAgent(tools=[firecrawl_scrape], model=gpt_41_model)\n",
    "agent.run(\n",
    "    \"I want to scout Bukayo Saka as a player. Want to get a comprehensive report about him. Please use data from fbref.com\"\n",
    ")"
   ]
  },
  {
   "cell_type": "code",
   "execution_count": 216,
   "id": "ad069dd6-05e3-45d0-9728-7b2433e8b0f0",
   "metadata": {
    "scrolled": true
   },
   "outputs": [
    {
     "data": {
      "text/html": [
       "<pre style=\"white-space:pre;overflow-x:auto;line-height:normal;font-family:Menlo,'DejaVu Sans Mono',consolas,'Courier New',monospace\">Bukayo Saka Scouting Report\n",
       "\n",
       "**Basic Information:**\n",
       "- Position: DF-FW-MF <span style=\"font-weight: bold\">(</span>AM, right<span style=\"font-weight: bold\">)</span>\n",
       "- Footed: Left\n",
       "- Height: 178cm\n",
       "- Weight: 64kg\n",
       "- Date of Birth: September <span style=\"color: #008080; text-decoration-color: #008080; font-weight: bold\">5</span>, <span style=\"color: #008080; text-decoration-color: #008080; font-weight: bold\">2001</span>\n",
       "- Birthplace: Ealing, England, United Kingdom\n",
       "- National Team: England\n",
       "\n",
       "**Recent Performance Overview:**\n",
       "While detailed individual match statistics for the current <span style=\"color: #008080; text-decoration-color: #008080; font-weight: bold\">2024</span>-<span style=\"color: #008080; text-decoration-color: #008080; font-weight: bold\">2025</span> Premier League season were not available in \n",
       "the source, Bukayo Saka is known for his versatility, being able to play as a defender, midfielder, or forward, \n",
       "primarily on the right side and in attacking midfield roles.\n",
       "\n",
       "**Playing Style &amp; Attributes:**\n",
       "- A left-footed player standing <span style=\"color: #008080; text-decoration-color: #008080; font-weight: bold\">178</span> cm tall and weighing <span style=\"color: #008080; text-decoration-color: #008080; font-weight: bold\">64</span> kg, Saka combines agility with technical skill.\n",
       "- He contributes both offensively and defensively, reflected by his ability to operate in advanced midfield and \n",
       "wing positions but also support defense as necessary.\n",
       "- Known for his creative attacking play, Saka often generates chances and provides assists due to his vision and \n",
       "passing abilities.\n",
       "- His work rate, tactical intelligence, and pace make him effective in both attacking transitions and defensive \n",
       "duties.\n",
       "\n",
       "**Additional Information:**\n",
       "For an in-depth analysis, detailed stats, and comprehensive scouting reports, including expected goals <span style=\"font-weight: bold\">(</span>xG<span style=\"font-weight: bold\">)</span>, \n",
       "expected assists <span style=\"font-weight: bold\">(</span>xAG<span style=\"font-weight: bold\">)</span>, shot-creating actions, and comparisons with other players, I recommend reviewing his \n",
       "complete scouting profile on FBref:\n",
       "\n",
       "<span style=\"font-weight: bold\">(</span><span style=\"color: #0000ff; text-decoration-color: #0000ff; text-decoration: underline\">https://fbref.com/en/players/bc7dc64d/Bukayo-Saka)</span>\n",
       "\n",
       "and\n",
       "\n",
       "<span style=\"font-weight: bold\">[</span>Comprehensive Scouting Report<span style=\"font-weight: bold\">](</span><span style=\"color: #0000ff; text-decoration-color: #0000ff; text-decoration: underline\">https://fbref.com/en/players/bc7dc64d/scout/365_m1/Bukayo-Saka-Scouting-Report)</span>\n",
       "\n",
       "This will provide full per-<span style=\"color: #008080; text-decoration-color: #008080; font-weight: bold\">90</span> metrics and advanced analytics to better understand his contributions across all \n",
       "competitions. If you want, I can also help analyze specific aspects like goal contributions, passing metrics, or \n",
       "defensive actions based on available data.\n",
       "</pre>\n"
      ],
      "text/plain": [
       "Bukayo Saka Scouting Report\n",
       "\n",
       "**Basic Information:**\n",
       "- Position: DF-FW-MF \u001b[1m(\u001b[0mAM, right\u001b[1m)\u001b[0m\n",
       "- Footed: Left\n",
       "- Height: 178cm\n",
       "- Weight: 64kg\n",
       "- Date of Birth: September \u001b[1;36m5\u001b[0m, \u001b[1;36m2001\u001b[0m\n",
       "- Birthplace: Ealing, England, United Kingdom\n",
       "- National Team: England\n",
       "\n",
       "**Recent Performance Overview:**\n",
       "While detailed individual match statistics for the current \u001b[1;36m2024\u001b[0m-\u001b[1;36m2025\u001b[0m Premier League season were not available in \n",
       "the source, Bukayo Saka is known for his versatility, being able to play as a defender, midfielder, or forward, \n",
       "primarily on the right side and in attacking midfield roles.\n",
       "\n",
       "**Playing Style & Attributes:**\n",
       "- A left-footed player standing \u001b[1;36m178\u001b[0m cm tall and weighing \u001b[1;36m64\u001b[0m kg, Saka combines agility with technical skill.\n",
       "- He contributes both offensively and defensively, reflected by his ability to operate in advanced midfield and \n",
       "wing positions but also support defense as necessary.\n",
       "- Known for his creative attacking play, Saka often generates chances and provides assists due to his vision and \n",
       "passing abilities.\n",
       "- His work rate, tactical intelligence, and pace make him effective in both attacking transitions and defensive \n",
       "duties.\n",
       "\n",
       "**Additional Information:**\n",
       "For an in-depth analysis, detailed stats, and comprehensive scouting reports, including expected goals \u001b[1m(\u001b[0mxG\u001b[1m)\u001b[0m, \n",
       "expected assists \u001b[1m(\u001b[0mxAG\u001b[1m)\u001b[0m, shot-creating actions, and comparisons with other players, I recommend reviewing his \n",
       "complete scouting profile on FBref:\n",
       "\n",
       "\u001b[1m(\u001b[0m\u001b[4;94mhttps://fbref.com/en/players/bc7dc64d/Bukayo-Saka\u001b[0m\u001b[4;94m)\u001b[0m\n",
       "\n",
       "and\n",
       "\n",
       "\u001b[1m[\u001b[0mComprehensive Scouting Report\u001b[1m]\u001b[0m\u001b[1m(\u001b[0m\u001b[4;94mhttps://fbref.com/en/players/bc7dc64d/scout/365_m1/Bukayo-Saka-Scouting-Report\u001b[0m\u001b[4;94m)\u001b[0m\n",
       "\n",
       "This will provide full per-\u001b[1;36m90\u001b[0m metrics and advanced analytics to better understand his contributions across all \n",
       "competitions. If you want, I can also help analyze specific aspects like goal contributions, passing metrics, or \n",
       "defensive actions based on available data.\n"
      ]
     },
     "metadata": {},
     "output_type": "display_data"
    }
   ],
   "source": [
    "print(agent.provide_final_answer(agent.task))"
   ]
  },
  {
   "cell_type": "markdown",
   "id": "a57d07a1-d5b4-4428-aac6-6490fc2b01b9",
   "metadata": {},
   "source": [
    "Let's try out Pydantic AI, if it actually makes life easier?"
   ]
  },
  {
   "cell_type": "code",
   "execution_count": 61,
   "id": "c9854ced-7796-4b33-b546-b61b02491468",
   "metadata": {},
   "outputs": [
    {
     "data": {
      "text/html": [
       "<pre style=\"white-space:pre;overflow-x:auto;line-height:normal;font-family:Menlo,'DejaVu Sans Mono',consolas,'Courier New',monospace\">The square root of <span style=\"color: #008080; text-decoration-color: #008080; font-weight: bold\">102001</span> is <span style=\"color: #008080; text-decoration-color: #008080; font-weight: bold\">319</span>.\n",
       "</pre>\n"
      ],
      "text/plain": [
       "The square root of \u001b[1;36m102001\u001b[0m is \u001b[1;36m319\u001b[0m.\n"
      ]
     },
     "metadata": {},
     "output_type": "display_data"
    }
   ],
   "source": [
    "from pydantic_ai import Agent\n",
    "from pydantic_ai.models.openai import OpenAIModel\n",
    "from pydantic_ai.providers.openai import OpenAIProvider\n",
    "\n",
    "number = 102001\n",
    "\n",
    "model = OpenAIModel(\"gpt-4o-mini\", provider=OpenAIProvider(api_key=oai_api_key))\n",
    "agent = Agent(  \n",
    "    model,\n",
    "    system_prompt='Be concise, reply with one sentence.',\n",
    ")\n",
    "\n",
    "prompt = f\"Can you find me square root of {number}?\"\n",
    "\n",
    "result = await agent.run(prompt)\n",
    "print(result.output)"
   ]
  },
  {
   "cell_type": "markdown",
   "id": "ce3721ff-296d-44af-a81b-bc6ff81bfe56",
   "metadata": {},
   "source": [
    "Okay, let's see how we can add tools here:"
   ]
  },
  {
   "cell_type": "code",
   "execution_count": 113,
   "id": "39d7b9fd-7b66-4b4b-8e64-6b4591c38175",
   "metadata": {},
   "outputs": [],
   "source": [
    "from pydantic_ai import RunContext\n",
    "from httpx import AsyncClient # import requests\n",
    "from dataclasses import dataclass"
   ]
  },
  {
   "cell_type": "code",
   "execution_count": 114,
   "id": "15f92769-06fd-45ec-8e52-87a370f5754f",
   "metadata": {},
   "outputs": [],
   "source": [
    "# standard python class: type\n",
    "\n",
    "class enum():\n",
    "    red = \"RED\"\n",
    "    green = \"GREEN\"\n",
    "\n",
    "@dataclass\n",
    "class Deps:\n",
    "    client: AsyncClient\n",
    "    # firecrawl_api_key: str\n",
    "    # model_name: Literal[\"moondream\", \"qwen\"]\n",
    "\n",
    "# we want to pass parameters into the tools of an agent\n",
    "\n",
    "# Agent\n",
    "    # Tools: tool_plain & tool\n",
    "    # tool_plain: This doesn't require any context\n",
    "    # tool: This requires context"
   ]
  },
  {
   "cell_type": "code",
   "execution_count": 115,
   "id": "13dc60ab-5e6f-4261-ab2e-6a7d1ed6f03a",
   "metadata": {},
   "outputs": [],
   "source": [
    "agent = Agent(  \n",
    "    model,\n",
    "    instructions=(\n",
    "        \"Be concise,reply with one sentence\"\n",
    "    ),\n",
    "    deps_type=Deps\n",
    ")"
   ]
  },
  {
   "cell_type": "code",
   "execution_count": 116,
   "id": "9ed5f8eb-22e0-48dc-b7df-3b9f99f8876a",
   "metadata": {},
   "outputs": [],
   "source": [
    "@agent.tool\n",
    "async def get_weather_api(ctx: RunContext[Deps], latitude: float, longitude: float) -> float:\n",
    "    \"\"\"\n",
    "    Retrieves the current temperature for the specified latitude and longitude\n",
    "    using the Open-Meteo API.\n",
    "\n",
    "    Args:\n",
    "        latitude: Latitude of the location.\n",
    "        longitude: Longitude of the location.\n",
    "\n",
    "    Returns:\n",
    "        The current temperature in degrees Celsius.\n",
    "    \"\"\"\n",
    "    url = \"https://api.open-meteo.com/v1/forecast\"\n",
    "    params = {\n",
    "        \"latitude\": latitude,\n",
    "        \"longitude\": longitude,\n",
    "        \"current\": \"temperature_2m,wind_speed_10m\",\n",
    "        \"hourly\": \"temperature_2m,relative_humidity_2m,wind_speed_10m\"\n",
    "    }\n",
    "\n",
    "    response = await ctx.deps.client.get(url, params=params)\n",
    "    response.raise_for_status()\n",
    "\n",
    "    data = response.json()\n",
    "    return data['current']['temperature_2m']\n"
   ]
  },
  {
   "cell_type": "code",
   "execution_count": 117,
   "id": "42d3c609-1557-45f5-ba37-85737d71c570",
   "metadata": {},
   "outputs": [],
   "source": [
    "@agent.tool_plain\n",
    "def get_time(location: str) -> str:\n",
    "    \"\"\"\n",
    "    This is a tool to give the local time given a location\n",
    "\n",
    "    Args:\n",
    "        location: String location of the place\n",
    "    \"\"\"\n",
    "    try:\n",
    "        city_to_timezone = {\n",
    "            \"new york\": \"America/New_York\",\n",
    "            \"london\": \"Europe/London\",\n",
    "            \"tokyo\": \"Asia/Tokyo\",\n",
    "            \"paris\": \"Europe/Paris\",\n",
    "        }\n",
    "        \n",
    "        timezone_str = city_to_timezone.get(location.lower(), location)\n",
    "        timezone = pytz.timezone(timezone_str)\n",
    "        \n",
    "        local_time = datetime.now(timezone)\n",
    "        formatted_time = local_time.strftime(\"%I:%M %p\")\n",
    "        \n",
    "        return f\"The local time in {location} is {formatted_time}.\"\n",
    "    \n",
    "    except pytz.exceptions.UnknownTimeZoneError:\n",
    "        return f\"Sorry, couldn't find timezone data for {location}. Please use a valid city name or timezone identifier (e.g. 'America/New_York').\""
   ]
  },
  {
   "cell_type": "code",
   "execution_count": 118,
   "id": "03a5432c-200e-4586-9edd-a5d0dfaccf8a",
   "metadata": {},
   "outputs": [
    {
     "name": "stdout",
     "output_type": "stream",
     "text": [
      "11:30:38.849 agent run\n",
      "11:30:38.850   chat gpt-4o-mini\n",
      "11:30:38.852     POST api.openai.com/v1/chat/completions\n",
      "11:30:39.964 Reading response body\n",
      "             agent run\n",
      "11:30:39.971   running 1 tool\n",
      "11:30:39.972     running tool: get_weather_api\n",
      "11:30:39.974       GET api.open-meteo.com/v1/forecast ? latitude='48.8566' & longitude='2.3522' & current='temperatu…speed_10m' & hourly='temperatu…speed_10m'\n",
      "11:30:40.557 Reading response body\n",
      "             agent run\n",
      "11:30:40.566   chat gpt-4o-mini\n",
      "11:30:40.569     POST api.openai.com/v1/chat/completions\n",
      "11:30:41.929 Reading response body\n"
     ]
    },
    {
     "data": {
      "text/html": [
       "<pre style=\"white-space:pre;overflow-x:auto;line-height:normal;font-family:Menlo,'DejaVu Sans Mono',consolas,'Courier New',monospace\">The current temperature in Paris today is <span style=\"color: #008080; text-decoration-color: #008080; font-weight: bold\">18.1</span>°C.\n",
       "</pre>\n"
      ],
      "text/plain": [
       "The current temperature in Paris today is \u001b[1;36m18.1\u001b[0m°C.\n"
      ]
     },
     "metadata": {},
     "output_type": "display_data"
    }
   ],
   "source": [
    "async with AsyncClient() as client:\n",
    "    deps = Deps(client=client)\n",
    "    result = await agent.run(\"What's the weather like in Paris today?\", deps=deps)\n",
    "    print(result.output)"
   ]
  },
  {
   "cell_type": "code",
   "execution_count": 119,
   "id": "ee3e4d81-fc10-40b9-ae6c-caec80781dcc",
   "metadata": {},
   "outputs": [
    {
     "data": {
      "text/plain": [
       "Usage(requests=2, request_tokens=329, response_tokens=39, total_tokens=368, details={'accepted_prediction_tokens': 0, 'audio_tokens': 0, 'reasoning_tokens': 0, 'rejected_prediction_tokens': 0, 'cached_tokens': 0})"
      ]
     },
     "execution_count": 119,
     "metadata": {},
     "output_type": "execute_result"
    }
   ],
   "source": [
    "result.usage()"
   ]
  },
  {
   "cell_type": "code",
   "execution_count": 120,
   "id": "c8e90fa7-2f94-49cf-9911-8b47ff4894ae",
   "metadata": {},
   "outputs": [
    {
     "name": "stdout",
     "output_type": "stream",
     "text": [
      "11:30:41.977 agent run\n",
      "11:30:41.978   chat gpt-4o-mini\n",
      "11:30:41.980     POST api.openai.com/v1/chat/completions\n",
      "11:30:43.086 Reading response body\n",
      "             agent run\n",
      "11:30:43.094   running 1 tool\n",
      "11:30:43.097     running tool: get_time\n",
      "11:30:43.101   chat gpt-4o-mini\n",
      "11:30:43.108     POST api.openai.com/v1/chat/completions\n",
      "11:30:44.477 Reading response body\n",
      "             agent run\n",
      "11:30:44.492   running 1 tool\n",
      "11:30:44.493     running tool: get_time\n",
      "11:30:44.496   chat gpt-4o-mini\n",
      "11:30:44.500     POST api.openai.com/v1/chat/completions\n",
      "11:30:45.481 Reading response body\n"
     ]
    },
    {
     "data": {
      "text/html": [
       "<pre style=\"white-space:pre;overflow-x:auto;line-height:normal;font-family:Menlo,'DejaVu Sans Mono',consolas,'Courier New',monospace\">The local time in Bogotá is <span style=\"color: #00ff00; text-decoration-color: #00ff00; font-weight: bold\">06:30</span> AM.\n",
       "</pre>\n"
      ],
      "text/plain": [
       "The local time in Bogotá is \u001b[1;92m06:30\u001b[0m AM.\n"
      ]
     },
     "metadata": {},
     "output_type": "display_data"
    }
   ],
   "source": [
    "async with AsyncClient() as client:\n",
    "    deps = Deps(client=client)\n",
    "    result = await agent.run(\"What's the time like Bogota now?\", deps=deps)\n",
    "    print(result.output)"
   ]
  },
  {
   "cell_type": "markdown",
   "id": "d018d4c6-d3b6-4c33-9198-5ef6755de0e4",
   "metadata": {},
   "source": [
    "Getting structured outputs is a good side-effect like in `instructor`, which `smolagents` at this moment doesn't have."
   ]
  },
  {
   "cell_type": "code",
   "execution_count": 121,
   "id": "915e9d09-922f-4302-885c-0ceb7f506954",
   "metadata": {},
   "outputs": [],
   "source": [
    "from pydantic import BaseModel\n",
    "from typing import Optional\n",
    "\n",
    "class LocationInfo(BaseModel):\n",
    "    place: str\n",
    "    temperature: Optional[float]\n",
    "    # time: Optional[str]"
   ]
  },
  {
   "cell_type": "code",
   "execution_count": 122,
   "id": "a643ddaf-5cdf-4dac-b19e-783972a9b2f0",
   "metadata": {},
   "outputs": [],
   "source": [
    "agent = Agent(  \n",
    "    model,\n",
    "    instructions=(\n",
    "        \"Be concise,reply with one sentence\"\n",
    "    ),\n",
    "    deps_type=Deps,\n",
    "    output_type=LocationInfo\n",
    ")"
   ]
  },
  {
   "cell_type": "code",
   "execution_count": 123,
   "id": "9fb17a08-9348-4c39-a466-dce0904a2f8b",
   "metadata": {},
   "outputs": [],
   "source": [
    "@agent.tool\n",
    "async def get_weather_api(ctx: RunContext[Deps], latitude: float, longitude: float) -> float:\n",
    "    \"\"\"\n",
    "    Retrieves the current temperature for the specified latitude and longitude\n",
    "    using the Open-Meteo API.\n",
    "\n",
    "    Args:\n",
    "        latitude: Latitude of the location.\n",
    "        longitude: Longitude of the location.\n",
    "\n",
    "    Returns:\n",
    "        The current temperature in degrees Celsius.\n",
    "    \"\"\"\n",
    "    url = \"https://api.open-meteo.com/v1/forecast\"\n",
    "    params = {\n",
    "        \"latitude\": latitude,\n",
    "        \"longitude\": longitude,\n",
    "        \"current\": \"temperature_2m,wind_speed_10m\",\n",
    "        \"hourly\": \"temperature_2m,relative_humidity_2m,wind_speed_10m\"\n",
    "    }\n",
    "\n",
    "    response = await ctx.deps.client.get(url, params=params)\n",
    "    response.raise_for_status()\n",
    "\n",
    "    data = response.json()\n",
    "    return data['current']['temperature_2m']\n"
   ]
  },
  {
   "cell_type": "code",
   "execution_count": 124,
   "id": "c3b44941-20d3-41d8-b8af-f4e52e026370",
   "metadata": {},
   "outputs": [],
   "source": [
    "\n",
    "@agent.tool_plain\n",
    "def get_time(location: str) -> str:\n",
    "    \"\"\"\n",
    "    This is a tool to give the local time given a location\n",
    "\n",
    "    Args:\n",
    "        location: String location of the place\n",
    "    \"\"\"\n",
    "    try:\n",
    "        city_to_timezone = {\n",
    "            \"new york\": \"America/New_York\",\n",
    "            \"london\": \"Europe/London\",\n",
    "            \"tokyo\": \"Asia/Tokyo\",\n",
    "            \"paris\": \"Europe/Paris\",\n",
    "        }\n",
    "        \n",
    "        timezone_str = city_to_timezone.get(location.lower(), location)\n",
    "        timezone = pytz.timezone(timezone_str)\n",
    "        \n",
    "        local_time = datetime.now(timezone)\n",
    "        formatted_time = local_time.strftime(\"%I:%M %p\")\n",
    "        \n",
    "        return f\"The local time in {location} is {formatted_time}.\"\n",
    "    \n",
    "    except pytz.exceptions.UnknownTimeZoneError:\n",
    "        return f\"Sorry, couldn't find timezone data for {location}. Please use a valid city name or timezone identifier (e.g. 'America/New_York').\""
   ]
  },
  {
   "cell_type": "code",
   "execution_count": 125,
   "id": "6037fb8f-f4ee-463b-8745-a1dbf0a925f0",
   "metadata": {},
   "outputs": [
    {
     "name": "stdout",
     "output_type": "stream",
     "text": [
      "11:30:45.552 agent run\n",
      "11:30:45.553   chat gpt-4o-mini\n",
      "11:30:45.554     POST api.openai.com/v1/chat/completions\n",
      "11:30:46.650 Reading response body\n",
      "             agent run\n",
      "11:30:46.663   running 1 tool\n",
      "11:30:46.664     running tool: get_weather_api\n",
      "11:30:46.666       GET api.open-meteo.com/v1/forecast ? latitude='48.8566' & longitude='2.3522' & current='temperatu…speed_10m' & hourly='temperatu…speed_10m'\n",
      "11:30:47.233 Reading response body\n",
      "             agent run\n",
      "11:30:47.240   chat gpt-4o-mini\n",
      "11:30:47.244     POST api.openai.com/v1/chat/completions\n",
      "11:30:48.382 Reading response body\n"
     ]
    },
    {
     "data": {
      "text/html": [
       "<pre style=\"white-space:pre;overflow-x:auto;line-height:normal;font-family:Menlo,'DejaVu Sans Mono',consolas,'Courier New',monospace\"><span style=\"color: #800080; text-decoration-color: #800080; font-weight: bold\">LocationInfo</span><span style=\"font-weight: bold\">(</span><span style=\"color: #808000; text-decoration-color: #808000\">place</span>=<span style=\"color: #008000; text-decoration-color: #008000\">'Paris'</span>, <span style=\"color: #808000; text-decoration-color: #808000\">temperature</span>=<span style=\"color: #008080; text-decoration-color: #008080; font-weight: bold\">18.1</span><span style=\"font-weight: bold\">)</span>\n",
       "</pre>\n"
      ],
      "text/plain": [
       "\u001b[1;35mLocationInfo\u001b[0m\u001b[1m(\u001b[0m\u001b[33mplace\u001b[0m=\u001b[32m'Paris'\u001b[0m, \u001b[33mtemperature\u001b[0m=\u001b[1;36m18\u001b[0m\u001b[1;36m.1\u001b[0m\u001b[1m)\u001b[0m\n"
      ]
     },
     "metadata": {},
     "output_type": "display_data"
    }
   ],
   "source": [
    "async with AsyncClient() as client:\n",
    "    deps = Deps(client=client)\n",
    "    result = await agent.run(\"What's the weather like in Paris today?\", deps=deps)\n",
    "    print(result.output)"
   ]
  },
  {
   "cell_type": "markdown",
   "id": "4265d84b-2c5a-46ca-a17a-8a1b52743b92",
   "metadata": {},
   "source": [
    "How did this run? I do not have a way to track like `smolagents`. Let's setup logfire"
   ]
  },
  {
   "cell_type": "code",
   "execution_count": 83,
   "id": "1f7388d8-e57d-4e2d-b9b5-d21cadcbbcbd",
   "metadata": {},
   "outputs": [
    {
     "name": "stderr",
     "output_type": "stream",
     "text": [
      "\u001b[1mLogfire\u001b[0m project URL: \u001b]8;id=575591;https://logfire-us.pydantic.dev/pratos/starter-project\u001b\\\u001b[4;36mhttps://logfire-us.pydantic.dev/pratos/starter-project\u001b[0m\u001b]8;;\u001b\\\n"
     ]
    }
   ],
   "source": [
    "import logfire\n",
    "\n",
    "logfire.configure(token='pylf_v1_us_YQP8PHhGTG0VS9BNv8FZmFBTRN9hvZVn65wpqWSS3S0r')\n",
    "logfire.instrument_pydantic_ai()\n",
    "logfire.instrument_httpx(capture_all=True)\n",
    "# logfire.info('Hello, {place}!', place='World')"
   ]
  },
  {
   "cell_type": "code",
   "execution_count": 84,
   "id": "725be1de-1a10-4b68-9cd1-feb5c4ce46f0",
   "metadata": {},
   "outputs": [
    {
     "name": "stdout",
     "output_type": "stream",
     "text": [
      "11:03:20.350 Hello, World!\n"
     ]
    }
   ],
   "source": [
    "logfire.info('Hello, {place}!', place='World')"
   ]
  },
  {
   "cell_type": "code",
   "execution_count": 85,
   "id": "2c71f9cc-a43b-443b-961d-d700e2a5c103",
   "metadata": {},
   "outputs": [
    {
     "name": "stdout",
     "output_type": "stream",
     "text": [
      "11:03:43.989 agent run\n",
      "11:03:43.990   chat gpt-4o-mini\n",
      "11:03:43.991     POST api.openai.com/v1/chat/completions\n",
      "11:03:45.162 Reading response body\n",
      "             agent run\n",
      "11:03:45.165   running 1 tool\n",
      "11:03:45.165     running tool: get_weather_api\n",
      "11:03:45.166       GET api.open-meteo.com/v1/forecast ? latitude='48.8566' & longitude='2.3522' & current='temperatu…speed_10m' & hourly='temperatu…speed_10m'\n",
      "11:03:45.731 Reading response body\n",
      "             agent run\n",
      "11:03:45.745   chat gpt-4o-mini\n",
      "11:03:45.748     POST api.openai.com/v1/chat/completions\n",
      "11:03:46.732 Reading response body\n"
     ]
    },
    {
     "data": {
      "text/html": [
       "<pre style=\"white-space:pre;overflow-x:auto;line-height:normal;font-family:Menlo,'DejaVu Sans Mono',consolas,'Courier New',monospace\"><span style=\"color: #800080; text-decoration-color: #800080; font-weight: bold\">LocationInfo</span><span style=\"font-weight: bold\">(</span><span style=\"color: #808000; text-decoration-color: #808000\">place</span>=<span style=\"color: #008000; text-decoration-color: #008000\">'Paris'</span>, <span style=\"color: #808000; text-decoration-color: #808000\">temperature</span>=<span style=\"color: #008080; text-decoration-color: #008080; font-weight: bold\">17.4</span><span style=\"font-weight: bold\">)</span>\n",
       "</pre>\n"
      ],
      "text/plain": [
       "\u001b[1;35mLocationInfo\u001b[0m\u001b[1m(\u001b[0m\u001b[33mplace\u001b[0m=\u001b[32m'Paris'\u001b[0m, \u001b[33mtemperature\u001b[0m=\u001b[1;36m17\u001b[0m\u001b[1;36m.4\u001b[0m\u001b[1m)\u001b[0m\n"
      ]
     },
     "metadata": {},
     "output_type": "display_data"
    }
   ],
   "source": [
    "async with AsyncClient() as client:\n",
    "    deps = Deps(client=client)\n",
    "    result = await agent.run(\"What's the weather like in Paris today?\", deps=deps)\n",
    "    print(result.output)"
   ]
  },
  {
   "cell_type": "markdown",
   "id": "5652dc36-3302-4ef3-a7cb-67e5bfb99632",
   "metadata": {},
   "source": [
    "Now that we are set, we can start building our Fbref Scouting Bot.\n",
    "\n",
    "Now this is the place where multi-step agents (workflows) that can be implemented to do our job. "
   ]
  },
  {
   "cell_type": "code",
   "execution_count": null,
   "id": "2e034f07-17b6-4281-9be1-990a07a78d11",
   "metadata": {},
   "outputs": [],
   "source": []
  },
  {
   "cell_type": "code",
   "execution_count": 86,
   "id": "4cd6e887-1249-420a-8b88-c88fcc3e0266",
   "metadata": {},
   "outputs": [],
   "source": [
    "# write the model\n",
    "from typing import Literal, List\n",
    "from pydantic import HttpUrl, Field\n",
    "\n",
    "class PlayerPersonal(BaseModel):\n",
    "    name: Optional[str] = None\n",
    "    profile_pic: Optional[HttpUrl] = None\n",
    "    position: Optional[List[str]] = None\n",
    "    foot: Literal[\"Left\", \"Right\"] = None\n",
    "    height: Optional[str]\n",
    "    weight: Optional[str]\n",
    "    birthday: Optional[str]\n",
    "    birthplace: Optional[str]\n",
    "    national_team: Optional[str]\n",
    "    club: Optional[str]\n",
    "    national_team: Optional[str]\n",
    "    wages: Optional[str]\n",
    "    contract_expiring_on: Optional[str]\n",
    "    social_media: Optional[List[str]]\n",
    "\n",
    "class AttackingStats(BaseModel):\n",
    "    npg: float\n",
    "    npg_percentile: int\n",
    "    npxG: float\n",
    "    npxG_percentile: int\n",
    "    total_shots: float\n",
    "    total_shots_percentile: int\n",
    "    assists: float\n",
    "    assists_percentile: int\n",
    "    xAG: float\n",
    "    xAG_percentile: int\n",
    "    total_attacking_prowress: Optional[float] = Field(description=\"npXG + xAG\")\n",
    "    sca: Optional[float] = Field(description=\"Shot creating actions\")\n",
    "    sca_percentile: int\n",
    "    passes_attempted: float\n",
    "    passes_attempted_percentile: int\n",
    "    pass_completion: float\n",
    "    pass_completion_percentile: int\n",
    "    progressive_passes: float\n",
    "    progressive_passes_percentile: int\n",
    "    progressive_carries: float\n",
    "    progressive_carries_percentile: int\n",
    "    successful_takeons: float\n",
    "    successful_takeons_percentile: int\n",
    "    touches: float\n",
    "    touches_percentile: int\n",
    "\n",
    "class DefensiveStats(BaseModel):\n",
    "    tackles: float\n",
    "    tackles_percentile: int\n",
    "    interceptions: float\n",
    "    interceptions_percentile: int\n",
    "    blocks: float\n",
    "    blocks_percentile: int\n",
    "    clearances: float\n",
    "    clearances_percentile: int\n",
    "    aerials_won: float\n",
    "    aerials_won_percentile: int\n",
    "\n",
    "class SimilarPlayer(BaseModel):\n",
    "    name: str\n",
    "    url: Optional[HttpUrl]\n",
    "\n",
    "class PlayerInfo(BaseModel):\n",
    "    personal: PlayerPersonal\n",
    "    attacking_stats: AttackingStats\n",
    "    defensive_stats: DefensiveStats\n",
    "    similar_players: List[SimilarPlayer] = Field(description=\"Comparing against Att Mid/Wingers with \\\n",
    "    tuple being Player Name and url of the player\")"
   ]
  },
  {
   "cell_type": "markdown",
   "id": "d1af3c46-9e3a-40d1-87d8-d9ca8739c0fe",
   "metadata": {},
   "source": [
    "- Get the url from player name\n",
    "- Scrape the data\n",
    "- Send the data to another model to get the summary"
   ]
  },
  {
   "cell_type": "markdown",
   "id": "6bdb716e-028c-4730-9caf-065ca36b3b42",
   "metadata": {},
   "source": [
    "Good thing with `pyadanitc-ai` is that tool calling (`web_search`, etc) is available"
   ]
  },
  {
   "cell_type": "code",
   "execution_count": 87,
   "id": "b421bd14-a398-4fec-8daf-29ab0d8e39e5",
   "metadata": {},
   "outputs": [],
   "source": [
    "from openai.types.responses import WebSearchToolParam  \n",
    "from pydantic_ai.models.openai import OpenAIResponsesModel, OpenAIResponsesModelSettings"
   ]
  },
  {
   "cell_type": "code",
   "execution_count": 88,
   "id": "259e90c9-2c53-48dc-8f12-62e8a441059f",
   "metadata": {},
   "outputs": [],
   "source": [
    "model_settings = OpenAIResponsesModelSettings(\n",
    "    openai_builtin_tools=[WebSearchToolParam(type=\"web_search_preview\")],\n",
    ")"
   ]
  },
  {
   "cell_type": "code",
   "execution_count": 89,
   "id": "af28de69-ac68-4292-93fa-218991449fda",
   "metadata": {},
   "outputs": [],
   "source": [
    "from pydantic import HttpUrl\n",
    "\n",
    "class PlayerUrl(BaseModel):\n",
    "    name: str\n",
    "    fbref_url: Optional[HttpUrl] = Field(description=\"Url from fbref.com about player statistics\")"
   ]
  },
  {
   "cell_type": "code",
   "execution_count": 90,
   "id": "8d49229b-4de8-40eb-90d3-72d217753f34",
   "metadata": {},
   "outputs": [],
   "source": [
    "model = OpenAIResponsesModel(\"gpt-4o-mini\", provider=OpenAIProvider(\n",
    "        api_key=oai_api_key\n",
    "    ),)\n",
    "agent = Agent(\n",
    "    model=model,\n",
    "    # instructions=('Be Specific'), \n",
    "    model_settings=model_settings, \n",
    "    output_type=PlayerUrl,\n",
    "    output_retries=5\n",
    ")"
   ]
  },
  {
   "cell_type": "code",
   "execution_count": 91,
   "id": "1af5dad3-ee3c-44e7-aa5c-068f655f46fb",
   "metadata": {},
   "outputs": [
    {
     "name": "stdout",
     "output_type": "stream",
     "text": [
      "11:05:04.324 agent run\n",
      "11:05:04.329   chat gpt-4o-mini\n",
      "11:05:04.334     POST api.openai.com/v1/responses\n",
      "11:05:11.603 Reading response body\n"
     ]
    },
    {
     "data": {
      "text/plain": [
       "AgentRunResult(output=PlayerUrl(name='Mikel Arteta', fbref_url=HttpUrl('https://fbref.com/en/managers/59c52334/Mikel-Arteta')))"
      ]
     },
     "execution_count": 91,
     "metadata": {},
     "output_type": "execute_result"
    }
   ],
   "source": [
    "await agent.run(\"Who's Arsenal FC's manager?\")"
   ]
  },
  {
   "cell_type": "code",
   "execution_count": 92,
   "id": "59349b1b-17ea-4273-8f24-bc0fca1c576e",
   "metadata": {},
   "outputs": [
    {
     "name": "stdout",
     "output_type": "stream",
     "text": [
      "11:05:11.626 agent run\n",
      "11:05:11.628   chat gpt-4o-mini\n",
      "11:05:11.630     POST api.openai.com/v1/responses\n",
      "11:05:13.072 Reading response body\n"
     ]
    },
    {
     "data": {
      "text/html": [
       "<pre style=\"white-space:pre;overflow-x:auto;line-height:normal;font-family:Menlo,'DejaVu Sans Mono',consolas,'Courier New',monospace\"><span style=\"color: #800080; text-decoration-color: #800080; font-weight: bold\">PlayerUrl</span><span style=\"font-weight: bold\">(</span><span style=\"color: #808000; text-decoration-color: #808000\">name</span>=<span style=\"color: #008000; text-decoration-color: #008000\">'Bukayo Saka'</span>, <span style=\"color: #808000; text-decoration-color: #808000\">fbref_url</span>=<span style=\"color: #800080; text-decoration-color: #800080; font-weight: bold\">HttpUrl</span><span style=\"font-weight: bold\">(</span><span style=\"color: #008000; text-decoration-color: #008000\">'https://fbref.com/en/players/26345f5d/Bukayo-Saka'</span><span style=\"font-weight: bold\">))</span>\n",
       "</pre>\n"
      ],
      "text/plain": [
       "\u001b[1;35mPlayerUrl\u001b[0m\u001b[1m(\u001b[0m\u001b[33mname\u001b[0m=\u001b[32m'Bukayo Saka'\u001b[0m, \u001b[33mfbref_url\u001b[0m=\u001b[1;35mHttpUrl\u001b[0m\u001b[1m(\u001b[0m\u001b[32m'https://fbref.com/en/players/26345f5d/Bukayo-Saka'\u001b[0m\u001b[1m)\u001b[0m\u001b[1m)\u001b[0m\n"
      ]
     },
     "metadata": {},
     "output_type": "display_data"
    }
   ],
   "source": [
    "player = \"Bukayo Saka\"\n",
    "result = await agent.run(f\"Find {player} statistics source\")\n",
    "print(result.output)"
   ]
  },
  {
   "cell_type": "code",
   "execution_count": null,
   "id": "c8a61ad9-19fe-403d-bf2f-6ac4a488da6c",
   "metadata": {},
   "outputs": [],
   "source": []
  },
  {
   "cell_type": "code",
   "execution_count": null,
   "id": "684fd351-0094-4b61-b945-99c18d108da7",
   "metadata": {},
   "outputs": [],
   "source": []
  },
  {
   "cell_type": "code",
   "execution_count": null,
   "id": "783c629a-5494-4ca7-b53c-46e83414bb22",
   "metadata": {},
   "outputs": [],
   "source": []
  },
  {
   "cell_type": "code",
   "execution_count": 290,
   "id": "da7bb50a-731c-41ea-bd29-b31f80ec9697",
   "metadata": {},
   "outputs": [
    {
     "name": "stdout",
     "output_type": "stream",
     "text": [
      " ········\n"
     ]
    }
   ],
   "source": [
    "openrouter_key = getpass()\n",
    "# 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"
   ]
  },
  {
   "cell_type": "code",
   "execution_count": null,
   "id": "97556f41-80e1-4634-a2cb-f47bba0dd395",
   "metadata": {},
   "outputs": [],
   "source": []
  },
  {
   "cell_type": "code",
   "execution_count": null,
   "id": "b4c1c64c-1427-4708-9229-01ea88fd93b2",
   "metadata": {},
   "outputs": [],
   "source": []
  },
  {
   "cell_type": "code",
   "execution_count": 131,
   "id": "de61af7e-8f85-4bbd-939c-c601b91e9d9a",
   "metadata": {},
   "outputs": [],
   "source": [
    "from pydantic_ai.common_tools.tavily import tavily_search_tool"
   ]
  },
  {
   "cell_type": "code",
   "execution_count": 132,
   "id": "9f0afa40-47a4-4841-b404-ab8379adb81b",
   "metadata": {},
   "outputs": [],
   "source": [
    "model = OpenAIModel(\"gpt-4o-mini\", provider=OpenAIProvider(api_key=oai_api_key))"
   ]
  },
  {
   "cell_type": "code",
   "execution_count": 95,
   "id": "13c0249c-e2f9-4f60-888a-49dfe3df547b",
   "metadata": {},
   "outputs": [
    {
     "name": "stdout",
     "output_type": "stream",
     "text": [
      " ········\n"
     ]
    }
   ],
   "source": [
    "tavily_api = getpass()\n",
    "#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"
   ]
  },
  {
   "cell_type": "code",
   "execution_count": 133,
   "id": "4f4dbe1e-2236-4283-a2ca-1a87bd099750",
   "metadata": {},
   "outputs": [],
   "source": [
    "agent = Agent(  \n",
    "    model,\n",
    "    instructions=(\n",
    "        \"Be concise,reply with one sentence\"\n",
    "    ),\n",
    "    tools=[tavily_search_tool(tavily_api)],\n",
    ")"
   ]
  },
  {
   "cell_type": "code",
   "execution_count": 134,
   "id": "97cec3a8-3c1e-475f-89a7-74a4c0cda89b",
   "metadata": {},
   "outputs": [
    {
     "name": "stdout",
     "output_type": "stream",
     "text": [
      "11:34:49.292 agent run\n",
      "11:34:49.302   chat gpt-4o-mini\n",
      "11:34:49.309     POST api.openai.com/v1/chat/completions\n",
      "11:34:50.550 Reading response body\n",
      "             agent run\n",
      "11:34:50.557   running 1 tool\n",
      "11:34:50.558     running tool: tavily_search\n",
      "11:34:50.598       POST api.tavily.com/search\n",
      "11:34:52.901 Reading response body\n",
      "             agent run\n",
      "11:34:52.916   chat gpt-4o-mini\n",
      "11:34:52.921     POST api.openai.com/v1/chat/completions\n",
      "11:34:55.485 Reading response body\n"
     ]
    },
    {
     "data": {
      "text/html": [
       "<pre style=\"white-space:pre;overflow-x:auto;line-height:normal;font-family:Menlo,'DejaVu Sans Mono',consolas,'Courier New',monospace\">You can find Benjamin Sesko's statistics on various platforms, including \n",
       "<span style=\"font-weight: bold\">[</span>WhoScored<span style=\"font-weight: bold\">](</span><span style=\"color: #0000ff; text-decoration-color: #0000ff; text-decoration: underline\">https://www.whoscored.com/players/424191/show/benjamin-sesko),</span> \n",
       "<span style=\"font-weight: bold\">[</span>FootyStats<span style=\"font-weight: bold\">](</span><span style=\"color: #0000ff; text-decoration-color: #0000ff; text-decoration: underline\">https://footystats.org/players/slovenia/benjamin-sesko),</span> and \n",
       "<span style=\"font-weight: bold\">[</span>FBRef<span style=\"font-weight: bold\">](</span><span style=\"color: #0000ff; text-decoration-color: #0000ff; text-decoration: underline\">https://fbref.com/en/players/3260690c/Benjamin-Sesko).</span>\n",
       "</pre>\n"
      ],
      "text/plain": [
       "You can find Benjamin Sesko's statistics on various platforms, including \n",
       "\u001b[1m[\u001b[0mWhoScored\u001b[1m]\u001b[0m\u001b[1m(\u001b[0m\u001b[4;94mhttps://www.whoscored.com/players/424191/show/benjamin-sesko\u001b[0m\u001b[4;94m)\u001b[0m\u001b[4;94m,\u001b[0m \n",
       "\u001b[1m[\u001b[0mFootyStats\u001b[1m]\u001b[0m\u001b[1m(\u001b[0m\u001b[4;94mhttps://footystats.org/players/slovenia/benjamin-sesko\u001b[0m\u001b[4;94m)\u001b[0m\u001b[4;94m,\u001b[0m and \n",
       "\u001b[1m[\u001b[0mFBRef\u001b[1m]\u001b[0m\u001b[1m(\u001b[0m\u001b[4;94mhttps://fbref.com/en/players/3260690c/Benjamin-Sesko\u001b[0m\u001b[4;94m)\u001b[0m\u001b[4;94m.\u001b[0m\n"
      ]
     },
     "metadata": {},
     "output_type": "display_data"
    }
   ],
   "source": [
    "result = await agent.run(f\"Find {player} statistics source\")\n",
    "print(result.output)"
   ]
  },
  {
   "cell_type": "code",
   "execution_count": 135,
   "id": "84c2d9ef-6b58-48ad-a6f5-610cc4a99390",
   "metadata": {},
   "outputs": [],
   "source": [
    "agent = Agent(  \n",
    "    model,\n",
    "    tools=[tavily_search_tool(tavily_api)],\n",
    "    output_type=PlayerUrl\n",
    ")"
   ]
  },
  {
   "cell_type": "code",
   "execution_count": 136,
   "id": "8ef03449-52b9-4499-83a4-18707b121bfe",
   "metadata": {},
   "outputs": [
    {
     "name": "stdout",
     "output_type": "stream",
     "text": [
      "11:34:55.519 agent run\n",
      "11:34:55.522   chat gpt-4o-mini\n",
      "11:34:55.523     POST api.openai.com/v1/chat/completions\n",
      "11:34:56.532 Reading response body\n",
      "             agent run\n",
      "11:34:56.589   running 1 tool\n",
      "11:34:56.590     running tool: tavily_search\n",
      "11:34:56.626       POST api.tavily.com/search\n",
      "11:34:59.615 Reading response body\n",
      "             agent run\n",
      "11:34:59.620   chat gpt-4o-mini\n",
      "11:34:59.625     POST api.openai.com/v1/chat/completions\n",
      "11:35:01.436 Reading response body\n"
     ]
    },
    {
     "data": {
      "text/html": [
       "<pre style=\"white-space:pre;overflow-x:auto;line-height:normal;font-family:Menlo,'DejaVu Sans Mono',consolas,'Courier New',monospace\"><span style=\"color: #800080; text-decoration-color: #800080; font-weight: bold\">PlayerUrl</span><span style=\"font-weight: bold\">(</span><span style=\"color: #808000; text-decoration-color: #808000\">name</span>=<span style=\"color: #008000; text-decoration-color: #008000\">'Benjamin Sesko'</span>, <span style=\"color: #808000; text-decoration-color: #808000\">fbref_url</span>=<span style=\"color: #800080; text-decoration-color: #800080; font-weight: bold\">HttpUrl</span><span style=\"font-weight: bold\">(</span><span style=\"color: #008000; text-decoration-color: #008000\">'https://fbref.com/en/players/3260690c/Benjamin-Sesko'</span><span style=\"font-weight: bold\">))</span>\n",
       "</pre>\n"
      ],
      "text/plain": [
       "\u001b[1;35mPlayerUrl\u001b[0m\u001b[1m(\u001b[0m\u001b[33mname\u001b[0m=\u001b[32m'Benjamin Sesko'\u001b[0m, \u001b[33mfbref_url\u001b[0m=\u001b[1;35mHttpUrl\u001b[0m\u001b[1m(\u001b[0m\u001b[32m'https://fbref.com/en/players/3260690c/Benjamin-Sesko'\u001b[0m\u001b[1m)\u001b[0m\u001b[1m)\u001b[0m\n"
      ]
     },
     "metadata": {},
     "output_type": "display_data"
    }
   ],
   "source": [
    "player = \"Benjamin Sesko\"\n",
    "\n",
    "result = await agent.run(f\"Find {player} statistics source\")\n",
    "print(result.output)"
   ]
  },
  {
   "cell_type": "code",
   "execution_count": 126,
   "id": "27a0a598-eaec-4f1b-b870-4adc4e1b69f9",
   "metadata": {},
   "outputs": [],
   "source": [
    "crawl_model = OpenAIModel(\"gpt-4.1\", provider=OpenAIProvider(api_key=oai_api_key))"
   ]
  },
  {
   "cell_type": "code",
   "execution_count": 127,
   "id": "df1ae8c0-18fb-466d-9f25-01323f829dfb",
   "metadata": {},
   "outputs": [],
   "source": [
    "@dataclass\n",
    "class Deps:\n",
    "    client: AsyncClient\n",
    "    firecrawl_api_key: str"
   ]
  },
  {
   "cell_type": "code",
   "execution_count": 128,
   "id": "5d196f22-43ac-4d39-92c1-1245d2584cc5",
   "metadata": {},
   "outputs": [],
   "source": [
    "crawl_agent = Agent(  \n",
    "    crawl_model,\n",
    "    output_type=PlayerInfo,\n",
    "    deps_type=Deps\n",
    ")"
   ]
  },
  {
   "cell_type": "code",
   "execution_count": 129,
   "id": "7bd303af-6b5c-432e-ba16-f29b8210c1ae",
   "metadata": {},
   "outputs": [],
   "source": [
    "from firecrawl.firecrawl import ScrapeResponse\n",
    "\n",
    "@crawl_agent.tool\n",
    "def firecrawl_tool(ctx: RunContext[Deps], url: str) -> str:\n",
    "    \"\"\"\n",
    "        Scraping tool using firecrawl\n",
    "\n",
    "        Args:\n",
    "            ctx: Pydantic AI context using dependency injection\n",
    "            url: Url to be scraped\n",
    "    \"\"\"\n",
    "    app = FirecrawlApp(api_key=ctx.deps.firecrawl_api_key)\n",
    "\n",
    "    scrape_status = app.scrape_url(\n",
    "      url, \n",
    "      formats=['markdown', 'html']\n",
    "    )\n",
    "    return scrape_status.html\n"
   ]
  },
  {
   "cell_type": "code",
   "execution_count": 138,
   "id": "754b4932-bef7-43ec-8463-577a22e38159",
   "metadata": {},
   "outputs": [
    {
     "name": "stdout",
     "output_type": "stream",
     "text": [
      "11:35:50.184 crawl_agent run\n",
      "11:35:50.186   chat gpt-4.1\n",
      "11:35:50.187     POST api.openai.com/v1/chat/completions\n",
      "11:35:51.157 Reading response body\n",
      "             crawl_agent run\n",
      "11:35:51.167   running 1 tool\n",
      "11:35:51.168     running tool: firecrawl_tool\n",
      "11:36:00.887   chat gpt-4.1\n",
      "11:36:00.899     POST api.openai.com/v1/chat/completions\n",
      "11:36:54.636 Reading response body\n"
     ]
    },
    {
     "data": {
      "text/html": [
       "<pre style=\"white-space:pre;overflow-x:auto;line-height:normal;font-family:Menlo,'DejaVu Sans Mono',consolas,'Courier New',monospace\"><span style=\"color: #800080; text-decoration-color: #800080; font-weight: bold\">PlayerInfo</span><span style=\"font-weight: bold\">(</span>\n",
       "    <span style=\"color: #808000; text-decoration-color: #808000\">personal</span>=<span style=\"color: #800080; text-decoration-color: #800080; font-weight: bold\">PlayerPersonal</span><span style=\"font-weight: bold\">(</span>\n",
       "        <span style=\"color: #808000; text-decoration-color: #808000\">name</span>=<span style=\"color: #008000; text-decoration-color: #008000\">'Benjamin Šeško'</span>,\n",
       "        <span style=\"color: #808000; text-decoration-color: #808000\">profile_pic</span>=<span style=\"color: #800080; text-decoration-color: #800080; font-weight: bold\">HttpUrl</span><span style=\"font-weight: bold\">(</span><span style=\"color: #008000; text-decoration-color: #008000\">'https://fbref.com/req/202302030/images/headshots/3260690c_2022.jpg'</span><span style=\"font-weight: bold\">)</span>,\n",
       "        <span style=\"color: #808000; text-decoration-color: #808000\">position</span>=<span style=\"font-weight: bold\">[</span><span style=\"color: #008000; text-decoration-color: #008000\">'Forward'</span><span style=\"font-weight: bold\">]</span>,\n",
       "        <span style=\"color: #808000; text-decoration-color: #808000\">foot</span>=<span style=\"color: #008000; text-decoration-color: #008000\">'Right'</span>,\n",
       "        <span style=\"color: #808000; text-decoration-color: #808000\">height</span>=<span style=\"color: #008000; text-decoration-color: #008000\">'194cm'</span>,\n",
       "        <span style=\"color: #808000; text-decoration-color: #808000\">weight</span>=<span style=\"color: #008000; text-decoration-color: #008000\">'77kg'</span>,\n",
       "        <span style=\"color: #808000; text-decoration-color: #808000\">birthday</span>=<span style=\"color: #008000; text-decoration-color: #008000\">'2003-05-31'</span>,\n",
       "        <span style=\"color: #808000; text-decoration-color: #808000\">birthplace</span>=<span style=\"color: #008000; text-decoration-color: #008000\">'Slovenia, Slovenia'</span>,\n",
       "        <span style=\"color: #808000; text-decoration-color: #808000\">national_team</span>=<span style=\"color: #008000; text-decoration-color: #008000\">'Slovenia'</span>,\n",
       "        <span style=\"color: #808000; text-decoration-color: #808000\">club</span>=<span style=\"color: #008000; text-decoration-color: #008000\">'RB Leipzig'</span>,\n",
       "        <span style=\"color: #808000; text-decoration-color: #808000\">wages</span>=<span style=\"color: #008000; text-decoration-color: #008000\">'€108,846 Weekly'</span>,\n",
       "        <span style=\"color: #808000; text-decoration-color: #808000\">contract_expiring_on</span>=<span style=\"color: #008000; text-decoration-color: #008000\">'June 2029'</span>,\n",
       "        <span style=\"color: #808000; text-decoration-color: #808000\">social_media</span>=<span style=\"color: #800080; text-decoration-color: #800080; font-style: italic\">None</span>\n",
       "    <span style=\"font-weight: bold\">)</span>,\n",
       "    <span style=\"color: #808000; text-decoration-color: #808000\">attacking_stats</span>=<span style=\"color: #800080; text-decoration-color: #800080; font-weight: bold\">AttackingStats</span><span style=\"font-weight: bold\">(</span>\n",
       "        <span style=\"color: #808000; text-decoration-color: #808000\">npg</span>=<span style=\"color: #008080; text-decoration-color: #008080; font-weight: bold\">0.45</span>,\n",
       "        <span style=\"color: #808000; text-decoration-color: #808000\">npg_percentile</span>=<span style=\"color: #008080; text-decoration-color: #008080; font-weight: bold\">69</span>,\n",
       "        <span style=\"color: #808000; text-decoration-color: #808000\">npxG</span>=<span style=\"color: #008080; text-decoration-color: #008080; font-weight: bold\">0.34</span>,\n",
       "        <span style=\"color: #808000; text-decoration-color: #808000\">npxG_percentile</span>=<span style=\"color: #008080; text-decoration-color: #008080; font-weight: bold\">48</span>,\n",
       "        <span style=\"color: #808000; text-decoration-color: #808000\">total_shots</span>=<span style=\"color: #008080; text-decoration-color: #008080; font-weight: bold\">2.56</span>,\n",
       "        <span style=\"color: #808000; text-decoration-color: #808000\">total_shots_percentile</span>=<span style=\"color: #008080; text-decoration-color: #008080; font-weight: bold\">60</span>,\n",
       "        <span style=\"color: #808000; text-decoration-color: #808000\">assists</span>=<span style=\"color: #008080; text-decoration-color: #008080; font-weight: bold\">0.15</span>,\n",
       "        <span style=\"color: #808000; text-decoration-color: #808000\">assists_percentile</span>=<span style=\"color: #008080; text-decoration-color: #008080; font-weight: bold\">65</span>,\n",
       "        <span style=\"color: #808000; text-decoration-color: #808000\">xAG</span>=<span style=\"color: #008080; text-decoration-color: #008080; font-weight: bold\">0.06</span>,\n",
       "        <span style=\"color: #808000; text-decoration-color: #808000\">xAG_percentile</span>=<span style=\"color: #008080; text-decoration-color: #008080; font-weight: bold\">16</span>,\n",
       "        <span style=\"color: #808000; text-decoration-color: #808000\">total_attacking_prowress</span>=<span style=\"color: #008080; text-decoration-color: #008080; font-weight: bold\">0.41</span>,\n",
       "        <span style=\"color: #808000; text-decoration-color: #808000\">sca</span>=<span style=\"color: #008080; text-decoration-color: #008080; font-weight: bold\">1.75</span>,\n",
       "        <span style=\"color: #808000; text-decoration-color: #808000\">sca_percentile</span>=<span style=\"color: #008080; text-decoration-color: #008080; font-weight: bold\">27</span>,\n",
       "        <span style=\"color: #808000; text-decoration-color: #808000\">passes_attempted</span>=<span style=\"color: #008080; text-decoration-color: #008080; font-weight: bold\">22.49</span>,\n",
       "        <span style=\"color: #808000; text-decoration-color: #808000\">passes_attempted_percentile</span>=<span style=\"color: #008080; text-decoration-color: #008080; font-weight: bold\">75</span>,\n",
       "        <span style=\"color: #808000; text-decoration-color: #808000\">pass_completion</span>=<span style=\"color: #008080; text-decoration-color: #008080; font-weight: bold\">66.4</span>,\n",
       "        <span style=\"color: #808000; text-decoration-color: #808000\">pass_completion_percentile</span>=<span style=\"color: #008080; text-decoration-color: #008080; font-weight: bold\">30</span>,\n",
       "        <span style=\"color: #808000; text-decoration-color: #808000\">progressive_passes</span>=<span style=\"color: #008080; text-decoration-color: #008080; font-weight: bold\">1.51</span>,\n",
       "        <span style=\"color: #808000; text-decoration-color: #808000\">progressive_passes_percentile</span>=<span style=\"color: #008080; text-decoration-color: #008080; font-weight: bold\">45</span>,\n",
       "        <span style=\"color: #808000; text-decoration-color: #808000\">progressive_carries</span>=<span style=\"color: #008080; text-decoration-color: #008080; font-weight: bold\">1.66</span>,\n",
       "        <span style=\"color: #808000; text-decoration-color: #808000\">progressive_carries_percentile</span>=<span style=\"color: #008080; text-decoration-color: #008080; font-weight: bold\">76</span>,\n",
       "        <span style=\"color: #808000; text-decoration-color: #808000\">successful_takeons</span>=<span style=\"color: #008080; text-decoration-color: #008080; font-weight: bold\">1.29</span>,\n",
       "        <span style=\"color: #808000; text-decoration-color: #808000\">successful_takeons_percentile</span>=<span style=\"color: #008080; text-decoration-color: #008080; font-weight: bold\">89</span>,\n",
       "        <span style=\"color: #808000; text-decoration-color: #808000\">touches</span>=<span style=\"color: #008080; text-decoration-color: #008080; font-weight: bold\">3.49</span>,\n",
       "        <span style=\"color: #808000; text-decoration-color: #808000\">touches_percentile</span>=<span style=\"color: #008080; text-decoration-color: #008080; font-weight: bold\">13</span>\n",
       "    <span style=\"font-weight: bold\">)</span>,\n",
       "    <span style=\"color: #808000; text-decoration-color: #808000\">defensive_stats</span>=<span style=\"color: #800080; text-decoration-color: #800080; font-weight: bold\">DefensiveStats</span><span style=\"font-weight: bold\">(</span>\n",
       "        <span style=\"color: #808000; text-decoration-color: #808000\">tackles</span>=<span style=\"color: #008080; text-decoration-color: #008080; font-weight: bold\">0.3</span>,\n",
       "        <span style=\"color: #808000; text-decoration-color: #808000\">tackles_percentile</span>=<span style=\"color: #008080; text-decoration-color: #008080; font-weight: bold\">13</span>,\n",
       "        <span style=\"color: #808000; text-decoration-color: #808000\">interceptions</span>=<span style=\"color: #008080; text-decoration-color: #008080; font-weight: bold\">0.18</span>,\n",
       "        <span style=\"color: #808000; text-decoration-color: #808000\">interceptions_percentile</span>=<span style=\"color: #008080; text-decoration-color: #008080; font-weight: bold\">44</span>,\n",
       "        <span style=\"color: #808000; text-decoration-color: #808000\">blocks</span>=<span style=\"color: #008080; text-decoration-color: #008080; font-weight: bold\">0.6</span>,\n",
       "        <span style=\"color: #808000; text-decoration-color: #808000\">blocks_percentile</span>=<span style=\"color: #008080; text-decoration-color: #008080; font-weight: bold\">54</span>,\n",
       "        <span style=\"color: #808000; text-decoration-color: #808000\">clearances</span>=<span style=\"color: #008080; text-decoration-color: #008080; font-weight: bold\">0.96</span>,\n",
       "        <span style=\"color: #808000; text-decoration-color: #808000\">clearances_percentile</span>=<span style=\"color: #008080; text-decoration-color: #008080; font-weight: bold\">68</span>,\n",
       "        <span style=\"color: #808000; text-decoration-color: #808000\">aerials_won</span>=<span style=\"color: #008080; text-decoration-color: #008080; font-weight: bold\">2.56</span>,\n",
       "        <span style=\"color: #808000; text-decoration-color: #808000\">aerials_won_percentile</span>=<span style=\"color: #008080; text-decoration-color: #008080; font-weight: bold\">70</span>\n",
       "    <span style=\"font-weight: bold\">)</span>,\n",
       "    <span style=\"color: #808000; text-decoration-color: #808000\">similar_players</span>=<span style=\"font-weight: bold\">[</span>\n",
       "        <span style=\"color: #800080; text-decoration-color: #800080; font-weight: bold\">SimilarPlayer</span><span style=\"font-weight: bold\">(</span><span style=\"color: #808000; text-decoration-color: #808000\">name</span>=<span style=\"color: #008000; text-decoration-color: #008000\">'Fábio Silva'</span>, <span style=\"color: #808000; text-decoration-color: #808000\">url</span>=<span style=\"color: #800080; text-decoration-color: #800080; font-weight: bold\">HttpUrl</span><span style=\"font-weight: bold\">(</span><span style=\"color: #008000; text-decoration-color: #008000\">'https://fbref.com/en/players/e7aa9d7c/Fabio-Silva'</span><span style=\"font-weight: bold\">))</span>,\n",
       "        <span style=\"color: #800080; text-decoration-color: #800080; font-weight: bold\">SimilarPlayer</span><span style=\"font-weight: bold\">(</span><span style=\"color: #808000; text-decoration-color: #808000\">name</span>=<span style=\"color: #008000; text-decoration-color: #008000\">'Moise Kean'</span>, <span style=\"color: #808000; text-decoration-color: #808000\">url</span>=<span style=\"color: #800080; text-decoration-color: #800080; font-weight: bold\">HttpUrl</span><span style=\"font-weight: bold\">(</span><span style=\"color: #008000; text-decoration-color: #008000\">'https://fbref.com/en/players/3d50bcdb/Moise-Kean'</span><span style=\"font-weight: bold\">))</span>,\n",
       "        <span style=\"color: #800080; text-decoration-color: #800080; font-weight: bold\">SimilarPlayer</span><span style=\"font-weight: bold\">(</span><span style=\"color: #808000; text-decoration-color: #808000\">name</span>=<span style=\"color: #008000; text-decoration-color: #008000\">'Matthis Abline'</span>, <span style=\"color: #808000; text-decoration-color: #808000\">url</span>=<span style=\"color: #800080; text-decoration-color: #800080; font-weight: bold\">HttpUrl</span><span style=\"font-weight: bold\">(</span><span style=\"color: #008000; text-decoration-color: #008000\">'https://fbref.com/en/players/0e46fa2f/Matthis-Abline'</span><span style=\"font-weight: bold\">))</span>,\n",
       "        <span style=\"color: #800080; text-decoration-color: #800080; font-weight: bold\">SimilarPlayer</span><span style=\"font-weight: bold\">(</span>\n",
       "            <span style=\"color: #808000; text-decoration-color: #808000\">name</span>=<span style=\"color: #008000; text-decoration-color: #008000\">'Jean-Philippe Mateta'</span>,\n",
       "            <span style=\"color: #808000; text-decoration-color: #808000\">url</span>=<span style=\"color: #800080; text-decoration-color: #800080; font-weight: bold\">HttpUrl</span><span style=\"font-weight: bold\">(</span><span style=\"color: #008000; text-decoration-color: #008000\">'https://fbref.com/en/players/50e6dc35/Jean-Philippe-Mateta'</span><span style=\"font-weight: bold\">)</span>\n",
       "        <span style=\"font-weight: bold\">)</span>,\n",
       "        <span style=\"color: #800080; text-decoration-color: #800080; font-weight: bold\">SimilarPlayer</span><span style=\"font-weight: bold\">(</span>\n",
       "            <span style=\"color: #808000; text-decoration-color: #808000\">name</span>=<span style=\"color: #008000; text-decoration-color: #008000\">'Valentín Castellanos'</span>,\n",
       "            <span style=\"color: #808000; text-decoration-color: #808000\">url</span>=<span style=\"color: #800080; text-decoration-color: #800080; font-weight: bold\">HttpUrl</span><span style=\"font-weight: bold\">(</span><span style=\"color: #008000; text-decoration-color: #008000\">'https://fbref.com/en/players/da76bab4/Valentin-Castellanos'</span><span style=\"font-weight: bold\">)</span>\n",
       "        <span style=\"font-weight: bold\">)</span>,\n",
       "        <span style=\"color: #800080; text-decoration-color: #800080; font-weight: bold\">SimilarPlayer</span><span style=\"font-weight: bold\">(</span><span style=\"color: #808000; text-decoration-color: #808000\">name</span>=<span style=\"color: #008000; text-decoration-color: #008000\">'Samuel Essende'</span>, <span style=\"color: #808000; text-decoration-color: #808000\">url</span>=<span style=\"color: #800080; text-decoration-color: #800080; font-weight: bold\">HttpUrl</span><span style=\"font-weight: bold\">(</span><span style=\"color: #008000; text-decoration-color: #008000\">'https://fbref.com/en/players/821550ce/Samuel-Essende'</span><span style=\"font-weight: bold\">))</span>,\n",
       "        <span style=\"color: #800080; text-decoration-color: #800080; font-weight: bold\">SimilarPlayer</span><span style=\"font-weight: bold\">(</span>\n",
       "            <span style=\"color: #808000; text-decoration-color: #808000\">name</span>=<span style=\"color: #008000; text-decoration-color: #008000\">'Roberto Férnandez'</span>,\n",
       "            <span style=\"color: #808000; text-decoration-color: #808000\">url</span>=<span style=\"color: #800080; text-decoration-color: #800080; font-weight: bold\">HttpUrl</span><span style=\"font-weight: bold\">(</span><span style=\"color: #008000; text-decoration-color: #008000\">'https://fbref.com/en/players/c981fc98/Roberto-Fernandez'</span><span style=\"font-weight: bold\">)</span>\n",
       "        <span style=\"font-weight: bold\">)</span>,\n",
       "        <span style=\"color: #800080; text-decoration-color: #800080; font-weight: bold\">SimilarPlayer</span><span style=\"font-weight: bold\">(</span><span style=\"color: #808000; text-decoration-color: #808000\">name</span>=<span style=\"color: #008000; text-decoration-color: #008000\">'Cyle Larin'</span>, <span style=\"color: #808000; text-decoration-color: #808000\">url</span>=<span style=\"color: #800080; text-decoration-color: #800080; font-weight: bold\">HttpUrl</span><span style=\"font-weight: bold\">(</span><span style=\"color: #008000; text-decoration-color: #008000\">'https://fbref.com/en/players/e7af9060/Cyle-Larin'</span><span style=\"font-weight: bold\">))</span>,\n",
       "        <span style=\"color: #800080; text-decoration-color: #800080; font-weight: bold\">SimilarPlayer</span><span style=\"font-weight: bold\">(</span><span style=\"color: #808000; text-decoration-color: #808000\">name</span>=<span style=\"color: #008000; text-decoration-color: #008000\">'Liam Delap'</span>, <span style=\"color: #808000; text-decoration-color: #808000\">url</span>=<span style=\"color: #800080; text-decoration-color: #800080; font-weight: bold\">HttpUrl</span><span style=\"font-weight: bold\">(</span><span style=\"color: #008000; text-decoration-color: #008000\">'https://fbref.com/en/players/dd897ee7/Liam-Delap'</span><span style=\"font-weight: bold\">))</span>,\n",
       "        <span style=\"color: #800080; text-decoration-color: #800080; font-weight: bold\">SimilarPlayer</span><span style=\"font-weight: bold\">(</span><span style=\"color: #808000; text-decoration-color: #808000\">name</span>=<span style=\"color: #008000; text-decoration-color: #008000\">'Thierno Barry'</span>, <span style=\"color: #808000; text-decoration-color: #808000\">url</span>=<span style=\"color: #800080; text-decoration-color: #800080; font-weight: bold\">HttpUrl</span><span style=\"font-weight: bold\">(</span><span style=\"color: #008000; text-decoration-color: #008000\">'https://fbref.com/en/players/52c3244b/Thierno-Barry'</span><span style=\"font-weight: bold\">))</span>\n",
       "    <span style=\"font-weight: bold\">]</span>\n",
       "<span style=\"font-weight: bold\">)</span>\n",
       "</pre>\n"
      ],
      "text/plain": [
       "\u001b[1;35mPlayerInfo\u001b[0m\u001b[1m(\u001b[0m\n",
       "    \u001b[33mpersonal\u001b[0m=\u001b[1;35mPlayerPersonal\u001b[0m\u001b[1m(\u001b[0m\n",
       "        \u001b[33mname\u001b[0m=\u001b[32m'Benjamin Šeško'\u001b[0m,\n",
       "        \u001b[33mprofile_pic\u001b[0m=\u001b[1;35mHttpUrl\u001b[0m\u001b[1m(\u001b[0m\u001b[32m'https://fbref.com/req/202302030/images/headshots/3260690c_2022.jpg'\u001b[0m\u001b[1m)\u001b[0m,\n",
       "        \u001b[33mposition\u001b[0m=\u001b[1m[\u001b[0m\u001b[32m'Forward'\u001b[0m\u001b[1m]\u001b[0m,\n",
       "        \u001b[33mfoot\u001b[0m=\u001b[32m'Right'\u001b[0m,\n",
       "        \u001b[33mheight\u001b[0m=\u001b[32m'194cm'\u001b[0m,\n",
       "        \u001b[33mweight\u001b[0m=\u001b[32m'77kg'\u001b[0m,\n",
       "        \u001b[33mbirthday\u001b[0m=\u001b[32m'2003-05-31'\u001b[0m,\n",
       "        \u001b[33mbirthplace\u001b[0m=\u001b[32m'Slovenia, Slovenia'\u001b[0m,\n",
       "        \u001b[33mnational_team\u001b[0m=\u001b[32m'Slovenia'\u001b[0m,\n",
       "        \u001b[33mclub\u001b[0m=\u001b[32m'RB Leipzig'\u001b[0m,\n",
       "        \u001b[33mwages\u001b[0m=\u001b[32m'€108,846 Weekly'\u001b[0m,\n",
       "        \u001b[33mcontract_expiring_on\u001b[0m=\u001b[32m'June 2029'\u001b[0m,\n",
       "        \u001b[33msocial_media\u001b[0m=\u001b[3;35mNone\u001b[0m\n",
       "    \u001b[1m)\u001b[0m,\n",
       "    \u001b[33mattacking_stats\u001b[0m=\u001b[1;35mAttackingStats\u001b[0m\u001b[1m(\u001b[0m\n",
       "        \u001b[33mnpg\u001b[0m=\u001b[1;36m0\u001b[0m\u001b[1;36m.45\u001b[0m,\n",
       "        \u001b[33mnpg_percentile\u001b[0m=\u001b[1;36m69\u001b[0m,\n",
       "        \u001b[33mnpxG\u001b[0m=\u001b[1;36m0\u001b[0m\u001b[1;36m.34\u001b[0m,\n",
       "        \u001b[33mnpxG_percentile\u001b[0m=\u001b[1;36m48\u001b[0m,\n",
       "        \u001b[33mtotal_shots\u001b[0m=\u001b[1;36m2\u001b[0m\u001b[1;36m.56\u001b[0m,\n",
       "        \u001b[33mtotal_shots_percentile\u001b[0m=\u001b[1;36m60\u001b[0m,\n",
       "        \u001b[33massists\u001b[0m=\u001b[1;36m0\u001b[0m\u001b[1;36m.15\u001b[0m,\n",
       "        \u001b[33massists_percentile\u001b[0m=\u001b[1;36m65\u001b[0m,\n",
       "        \u001b[33mxAG\u001b[0m=\u001b[1;36m0\u001b[0m\u001b[1;36m.06\u001b[0m,\n",
       "        \u001b[33mxAG_percentile\u001b[0m=\u001b[1;36m16\u001b[0m,\n",
       "        \u001b[33mtotal_attacking_prowress\u001b[0m=\u001b[1;36m0\u001b[0m\u001b[1;36m.41\u001b[0m,\n",
       "        \u001b[33msca\u001b[0m=\u001b[1;36m1\u001b[0m\u001b[1;36m.75\u001b[0m,\n",
       "        \u001b[33msca_percentile\u001b[0m=\u001b[1;36m27\u001b[0m,\n",
       "        \u001b[33mpasses_attempted\u001b[0m=\u001b[1;36m22\u001b[0m\u001b[1;36m.49\u001b[0m,\n",
       "        \u001b[33mpasses_attempted_percentile\u001b[0m=\u001b[1;36m75\u001b[0m,\n",
       "        \u001b[33mpass_completion\u001b[0m=\u001b[1;36m66\u001b[0m\u001b[1;36m.4\u001b[0m,\n",
       "        \u001b[33mpass_completion_percentile\u001b[0m=\u001b[1;36m30\u001b[0m,\n",
       "        \u001b[33mprogressive_passes\u001b[0m=\u001b[1;36m1\u001b[0m\u001b[1;36m.51\u001b[0m,\n",
       "        \u001b[33mprogressive_passes_percentile\u001b[0m=\u001b[1;36m45\u001b[0m,\n",
       "        \u001b[33mprogressive_carries\u001b[0m=\u001b[1;36m1\u001b[0m\u001b[1;36m.66\u001b[0m,\n",
       "        \u001b[33mprogressive_carries_percentile\u001b[0m=\u001b[1;36m76\u001b[0m,\n",
       "        \u001b[33msuccessful_takeons\u001b[0m=\u001b[1;36m1\u001b[0m\u001b[1;36m.29\u001b[0m,\n",
       "        \u001b[33msuccessful_takeons_percentile\u001b[0m=\u001b[1;36m89\u001b[0m,\n",
       "        \u001b[33mtouches\u001b[0m=\u001b[1;36m3\u001b[0m\u001b[1;36m.49\u001b[0m,\n",
       "        \u001b[33mtouches_percentile\u001b[0m=\u001b[1;36m13\u001b[0m\n",
       "    \u001b[1m)\u001b[0m,\n",
       "    \u001b[33mdefensive_stats\u001b[0m=\u001b[1;35mDefensiveStats\u001b[0m\u001b[1m(\u001b[0m\n",
       "        \u001b[33mtackles\u001b[0m=\u001b[1;36m0\u001b[0m\u001b[1;36m.3\u001b[0m,\n",
       "        \u001b[33mtackles_percentile\u001b[0m=\u001b[1;36m13\u001b[0m,\n",
       "        \u001b[33minterceptions\u001b[0m=\u001b[1;36m0\u001b[0m\u001b[1;36m.18\u001b[0m,\n",
       "        \u001b[33minterceptions_percentile\u001b[0m=\u001b[1;36m44\u001b[0m,\n",
       "        \u001b[33mblocks\u001b[0m=\u001b[1;36m0\u001b[0m\u001b[1;36m.6\u001b[0m,\n",
       "        \u001b[33mblocks_percentile\u001b[0m=\u001b[1;36m54\u001b[0m,\n",
       "        \u001b[33mclearances\u001b[0m=\u001b[1;36m0\u001b[0m\u001b[1;36m.96\u001b[0m,\n",
       "        \u001b[33mclearances_percentile\u001b[0m=\u001b[1;36m68\u001b[0m,\n",
       "        \u001b[33maerials_won\u001b[0m=\u001b[1;36m2\u001b[0m\u001b[1;36m.56\u001b[0m,\n",
       "        \u001b[33maerials_won_percentile\u001b[0m=\u001b[1;36m70\u001b[0m\n",
       "    \u001b[1m)\u001b[0m,\n",
       "    \u001b[33msimilar_players\u001b[0m=\u001b[1m[\u001b[0m\n",
       "        \u001b[1;35mSimilarPlayer\u001b[0m\u001b[1m(\u001b[0m\u001b[33mname\u001b[0m=\u001b[32m'Fábio Silva'\u001b[0m, \u001b[33murl\u001b[0m=\u001b[1;35mHttpUrl\u001b[0m\u001b[1m(\u001b[0m\u001b[32m'https://fbref.com/en/players/e7aa9d7c/Fabio-Silva'\u001b[0m\u001b[1m)\u001b[0m\u001b[1m)\u001b[0m,\n",
       "        \u001b[1;35mSimilarPlayer\u001b[0m\u001b[1m(\u001b[0m\u001b[33mname\u001b[0m=\u001b[32m'Moise Kean'\u001b[0m, \u001b[33murl\u001b[0m=\u001b[1;35mHttpUrl\u001b[0m\u001b[1m(\u001b[0m\u001b[32m'https://fbref.com/en/players/3d50bcdb/Moise-Kean'\u001b[0m\u001b[1m)\u001b[0m\u001b[1m)\u001b[0m,\n",
       "        \u001b[1;35mSimilarPlayer\u001b[0m\u001b[1m(\u001b[0m\u001b[33mname\u001b[0m=\u001b[32m'Matthis Abline'\u001b[0m, \u001b[33murl\u001b[0m=\u001b[1;35mHttpUrl\u001b[0m\u001b[1m(\u001b[0m\u001b[32m'https://fbref.com/en/players/0e46fa2f/Matthis-Abline'\u001b[0m\u001b[1m)\u001b[0m\u001b[1m)\u001b[0m,\n",
       "        \u001b[1;35mSimilarPlayer\u001b[0m\u001b[1m(\u001b[0m\n",
       "            \u001b[33mname\u001b[0m=\u001b[32m'Jean-Philippe Mateta'\u001b[0m,\n",
       "            \u001b[33murl\u001b[0m=\u001b[1;35mHttpUrl\u001b[0m\u001b[1m(\u001b[0m\u001b[32m'https://fbref.com/en/players/50e6dc35/Jean-Philippe-Mateta'\u001b[0m\u001b[1m)\u001b[0m\n",
       "        \u001b[1m)\u001b[0m,\n",
       "        \u001b[1;35mSimilarPlayer\u001b[0m\u001b[1m(\u001b[0m\n",
       "            \u001b[33mname\u001b[0m=\u001b[32m'Valentín Castellanos'\u001b[0m,\n",
       "            \u001b[33murl\u001b[0m=\u001b[1;35mHttpUrl\u001b[0m\u001b[1m(\u001b[0m\u001b[32m'https://fbref.com/en/players/da76bab4/Valentin-Castellanos'\u001b[0m\u001b[1m)\u001b[0m\n",
       "        \u001b[1m)\u001b[0m,\n",
       "        \u001b[1;35mSimilarPlayer\u001b[0m\u001b[1m(\u001b[0m\u001b[33mname\u001b[0m=\u001b[32m'Samuel Essende'\u001b[0m, \u001b[33murl\u001b[0m=\u001b[1;35mHttpUrl\u001b[0m\u001b[1m(\u001b[0m\u001b[32m'https://fbref.com/en/players/821550ce/Samuel-Essende'\u001b[0m\u001b[1m)\u001b[0m\u001b[1m)\u001b[0m,\n",
       "        \u001b[1;35mSimilarPlayer\u001b[0m\u001b[1m(\u001b[0m\n",
       "            \u001b[33mname\u001b[0m=\u001b[32m'Roberto Férnandez'\u001b[0m,\n",
       "            \u001b[33murl\u001b[0m=\u001b[1;35mHttpUrl\u001b[0m\u001b[1m(\u001b[0m\u001b[32m'https://fbref.com/en/players/c981fc98/Roberto-Fernandez'\u001b[0m\u001b[1m)\u001b[0m\n",
       "        \u001b[1m)\u001b[0m,\n",
       "        \u001b[1;35mSimilarPlayer\u001b[0m\u001b[1m(\u001b[0m\u001b[33mname\u001b[0m=\u001b[32m'Cyle Larin'\u001b[0m, \u001b[33murl\u001b[0m=\u001b[1;35mHttpUrl\u001b[0m\u001b[1m(\u001b[0m\u001b[32m'https://fbref.com/en/players/e7af9060/Cyle-Larin'\u001b[0m\u001b[1m)\u001b[0m\u001b[1m)\u001b[0m,\n",
       "        \u001b[1;35mSimilarPlayer\u001b[0m\u001b[1m(\u001b[0m\u001b[33mname\u001b[0m=\u001b[32m'Liam Delap'\u001b[0m, \u001b[33murl\u001b[0m=\u001b[1;35mHttpUrl\u001b[0m\u001b[1m(\u001b[0m\u001b[32m'https://fbref.com/en/players/dd897ee7/Liam-Delap'\u001b[0m\u001b[1m)\u001b[0m\u001b[1m)\u001b[0m,\n",
       "        \u001b[1;35mSimilarPlayer\u001b[0m\u001b[1m(\u001b[0m\u001b[33mname\u001b[0m=\u001b[32m'Thierno Barry'\u001b[0m, \u001b[33murl\u001b[0m=\u001b[1;35mHttpUrl\u001b[0m\u001b[1m(\u001b[0m\u001b[32m'https://fbref.com/en/players/52c3244b/Thierno-Barry'\u001b[0m\u001b[1m)\u001b[0m\u001b[1m)\u001b[0m\n",
       "    \u001b[1m]\u001b[0m\n",
       "\u001b[1m)\u001b[0m\n"
      ]
     },
     "metadata": {},
     "output_type": "display_data"
    }
   ],
   "source": [
    "async with AsyncClient() as client:\n",
    "    deps = Deps(client=client, firecrawl_api_key=fc_api_key)\n",
    "    crawl_result = await crawl_agent.run(f\"Crawl and format from {result.output.fbref_url}\", deps=deps)\n",
    "    print(crawl_result.output)"
   ]
  },
  {
   "cell_type": "markdown",
   "id": "3836483d-31ba-4fa8-b552-3b2705a91c8d",
   "metadata": {},
   "source": [
    "The next would be to generate the player statistics summary"
   ]
  },
  {
   "cell_type": "code",
   "execution_count": 139,
   "id": "8a55c011-94e6-429e-889d-30cf9fa09818",
   "metadata": {},
   "outputs": [],
   "source": [
    "summary_model = OpenAIModel(\"o3-mini\", provider=OpenAIProvider(api_key=oai_api_key))"
   ]
  },
  {
   "cell_type": "code",
   "execution_count": 140,
   "id": "317c3d4d-10d4-4f4b-aebd-fa5477551964",
   "metadata": {},
   "outputs": [],
   "source": [
    "class PlayerSummary(BaseModel):\n",
    "    overall: str = Field(description=\"Based on all the parameters, profile the player as an fwd, mid, def, gk. Write \\\n",
    "    2-3 lines about the same.\")\n",
    "    attacking: str = Field(description=\"Based on the attacking stats and position of the player, create a comprehensive profile of positives, negative and \\\n",
    "    what could be improved if it is applicable\")\n",
    "    defensive: str = Field(description=\"Based on the defensive stats and position of the player, create a comprehensive profile of positives, negative and \\\n",
    "    what could be improved if it is applicable\")\n",
    "    best_position: str = Field(description=\"Based on the stats, suggest the best position in the team. Give reasons why\")\n",
    "    which_team_is_suited: str = Field(description=\"Which club across all the leagues suits this players\")"
   ]
  },
  {
   "cell_type": "code",
   "execution_count": 141,
   "id": "6da6da2d-e31c-4f50-980d-efe18c970780",
   "metadata": {},
   "outputs": [],
   "source": [
    "summary_agent = Agent(  \n",
    "    summary_model,\n",
    "    system_prompt=\"You are a forward thinking coach like Mikel Arteta. You want to profile players for 5-a-side team\\\n",
    "    Give your insights and suggestions to become a great 5-a-side player.\",\n",
    "    output_type=PlayerSummary,\n",
    ")"
   ]
  },
  {
   "cell_type": "code",
   "execution_count": 142,
   "id": "ed7d4e23-02bb-4bd0-903c-863bf0dc483f",
   "metadata": {},
   "outputs": [
    {
     "name": "stdout",
     "output_type": "stream",
     "text": [
      "11:37:45.807 summary_agent run\n",
      "11:37:45.812   chat o3-mini\n",
      "11:37:45.819     POST api.openai.com/v1/chat/completions\n",
      "11:37:50.985 Reading response body\n"
     ]
    }
   ],
   "source": [
    "summary_result = await summary_agent.run(f\"Can you profile this player {crawl_result.output}\")"
   ]
  },
  {
   "cell_type": "code",
   "execution_count": 143,
   "id": "2519324e-5d1d-4b51-8b39-23008306cf45",
   "metadata": {},
   "outputs": [
    {
     "data": {
      "text/html": [
       "<pre style=\"white-space:pre;overflow-x:auto;line-height:normal;font-family:Menlo,'DejaVu Sans Mono',consolas,'Courier New',monospace\"><span style=\"color: #800080; text-decoration-color: #800080; font-weight: bold\">PlayerSummary</span><span style=\"font-weight: bold\">(</span>\n",
       "    <span style=\"color: #808000; text-decoration-color: #808000\">overall</span>=<span style=\"color: #008000; text-decoration-color: #008000\">'Benjamin Šeško emerges as a promising forward with an impressive physical presence and technical </span>\n",
       "<span style=\"color: #008000; text-decoration-color: #008000\">ability suited for a high-intensity 5-a-side game. His blend of aerial prowess and effective dribbling makes him a </span>\n",
       "<span style=\"color: #008000; text-decoration-color: #008000\">constant threat in attack, though sharpening his creative play and distribution could further elevate his game.'</span>,\n",
       "    <span style=\"color: #808000; text-decoration-color: #808000\">attacking</span>=<span style=\"color: #008000; text-decoration-color: #008000\">'On the offensive end, Šeško shows a good goals-per-game rate and excels in one-on-one situations, </span>\n",
       "<span style=\"color: #008000; text-decoration-color: #008000\">evidenced by his high percentile in successful take-ons. While his scoring metrics and progressive carries are </span>\n",
       "<span style=\"color: #008000; text-decoration-color: #008000\">noteworthy, he can work on creating more opportunities through enhanced passing and deeper playmaking, particularly</span>\n",
       "<span style=\"color: #008000; text-decoration-color: #008000\">to boost his xAG contributions.'</span>,\n",
       "    <span style=\"color: #808000; text-decoration-color: #808000\">defensive</span>=<span style=\"color: #008000; text-decoration-color: #008000\">'Defensively, his presence in aerial duels stands out, leveraging his height to win crucial balls. </span>\n",
       "<span style=\"color: #008000; text-decoration-color: #008000\">However, his tackling and intercepting metrics suggest that he might not be as involved in pressing or defensive </span>\n",
       "<span style=\"color: #008000; text-decoration-color: #008000\">transitions—a common trade-off for forwards in 5-a-side setups. Slight improvements in these areas could make him </span>\n",
       "<span style=\"color: #008000; text-decoration-color: #008000\">more well-rounded during counter-attacks.'</span>,\n",
       "    <span style=\"color: #808000; text-decoration-color: #808000\">best_position</span>=<span style=\"color: #008000; text-decoration-color: #008000\">'Forward. His physical attributes allow him to excel in tight spaces, using his aerial strength </span>\n",
       "<span style=\"color: #008000; text-decoration-color: #008000\">and dribbling to create chances. In a 5-a-side match where space is limited, his ability to challenge defenders and</span>\n",
       "<span style=\"color: #008000; text-decoration-color: #008000\">win duels makes him an ideal target for quick counters and finishing.'</span>,\n",
       "    <span style=\"color: #808000; text-decoration-color: #808000\">which_team_is_suited</span>=<span style=\"color: #008000; text-decoration-color: #008000\">'RB Leipzig is well-suited for this player’s profile, echoing their dynamic and fast-paced</span>\n",
       "<span style=\"color: #008000; text-decoration-color: #008000\">style of play. Additionally, teams that thrive on athleticism and a direct approach, similar to clubs in </span>\n",
       "<span style=\"color: #008000; text-decoration-color: #008000\">high-intensity European leagues, would benefit from his strengths, making him a natural fit in competitive, </span>\n",
       "<span style=\"color: #008000; text-decoration-color: #008000\">physical systems.'</span>\n",
       "<span style=\"font-weight: bold\">)</span>\n",
       "</pre>\n"
      ],
      "text/plain": [
       "\u001b[1;35mPlayerSummary\u001b[0m\u001b[1m(\u001b[0m\n",
       "    \u001b[33moverall\u001b[0m=\u001b[32m'Benjamin Šeško emerges as a promising forward with an impressive physical presence and technical \u001b[0m\n",
       "\u001b[32mability suited for a high-intensity 5-a-side game. His blend of aerial prowess and effective dribbling makes him a \u001b[0m\n",
       "\u001b[32mconstant threat in attack, though sharpening his creative play and distribution could further elevate his game.'\u001b[0m,\n",
       "    \u001b[33mattacking\u001b[0m=\u001b[32m'On the offensive end, Šeško shows a good goals-per-game rate and excels in one-on-one situations, \u001b[0m\n",
       "\u001b[32mevidenced by his high percentile in successful take-ons. While his scoring metrics and progressive carries are \u001b[0m\n",
       "\u001b[32mnoteworthy, he can work on creating more opportunities through enhanced passing and deeper playmaking, particularly\u001b[0m\n",
       "\u001b[32mto boost his xAG contributions.'\u001b[0m,\n",
       "    \u001b[33mdefensive\u001b[0m=\u001b[32m'Defensively, his presence in aerial duels stands out, leveraging his height to win crucial balls. \u001b[0m\n",
       "\u001b[32mHowever, his tackling and intercepting metrics suggest that he might not be as involved in pressing or defensive \u001b[0m\n",
       "\u001b[32mtransitions—a common trade-off for forwards in 5-a-side setups. Slight improvements in these areas could make him \u001b[0m\n",
       "\u001b[32mmore well-rounded during counter-attacks.'\u001b[0m,\n",
       "    \u001b[33mbest_position\u001b[0m=\u001b[32m'Forward. His physical attributes allow him to excel in tight spaces, using his aerial strength \u001b[0m\n",
       "\u001b[32mand dribbling to create chances. In a 5-a-side match where space is limited, his ability to challenge defenders and\u001b[0m\n",
       "\u001b[32mwin duels makes him an ideal target for quick counters and finishing.'\u001b[0m,\n",
       "    \u001b[33mwhich_team_is_suited\u001b[0m=\u001b[32m'RB Leipzig is well-suited for this player’s profile, echoing their dynamic and fast-paced\u001b[0m\n",
       "\u001b[32mstyle of play. Additionally, teams that thrive on athleticism and a direct approach, similar to clubs in \u001b[0m\n",
       "\u001b[32mhigh-intensity European leagues, would benefit from his strengths, making him a natural fit in competitive, \u001b[0m\n",
       "\u001b[32mphysical systems.'\u001b[0m\n",
       "\u001b[1m)\u001b[0m\n"
      ]
     },
     "metadata": {},
     "output_type": "display_data"
    }
   ],
   "source": [
    "print(summary_result.output)"
   ]
  },
  {
   "cell_type": "code",
   "execution_count": null,
   "id": "2286ef86-6273-4627-8b7e-bb6d881830bd",
   "metadata": {},
   "outputs": [],
   "source": []
  },
  {
   "cell_type": "markdown",
   "id": "79895888-56aa-4266-8899-c12979e902f5",
   "metadata": {},
   "source": [
    "**TASK: Build a research agent**\n",
    "\n",
    "- If I give a topic, the agent should search for relevant and latest topics, blogs, websites that it can find.\n",
    "- Scrape them and generate a nice summary with the exact citations.\n",
    "- Make sure that you also show what's the amount spent on this research.\n",
    "- You can add any bells&whistles + extra things that you need in your own dev life.\n",
    "- Bonus points if it has a frontend (could be a bot, desktop app or web app)"
   ]
  },
  {
   "cell_type": "code",
   "execution_count": null,
   "id": "8aa265df-07b6-495b-ad86-2e1192148a94",
   "metadata": {},
   "outputs": [],
   "source": []
  },
  {
   "cell_type": "code",
   "execution_count": null,
   "id": "23e431a3-a5e8-48a6-9fd8-3f42a326f7d1",
   "metadata": {},
   "outputs": [],
   "source": []
  },
  {
   "cell_type": "code",
   "execution_count": null,
   "id": "43bb5058-6254-4138-bffc-91f85908bc20",
   "metadata": {},
   "outputs": [],
   "source": []
  },
  {
   "cell_type": "markdown",
   "id": "f3556dcd-133c-441c-b71d-6a8900b3d408",
   "metadata": {},
   "source": [
    "`pydantic-ai` with MCPs"
   ]
  },
  {
   "cell_type": "markdown",
   "id": "7e155e90-2760-4b32-9ef6-3dbccc579b14",
   "metadata": {},
   "source": [
    "We'll replicate https://x.com/jasonzhou1993/status/1920089480817717379"
   ]
  },
  {
   "cell_type": "code",
   "execution_count": 352,
   "id": "1ae07f99-5490-4fa1-bdce-84d975086604",
   "metadata": {},
   "outputs": [],
   "source": [
    "from pydantic_ai import Agent\n",
    "from pydantic_ai.mcp import MCPServerStdio\n",
    "\n",
    "server = MCPServerStdio(  \n",
    "    'deno',\n",
    "    args=[\n",
    "        'run',\n",
    "        '-N',\n",
    "        '-R=node_modules',\n",
    "        '-W=node_modules',\n",
    "        '--node-modules-dir=auto',\n",
    "        'jsr:@pydantic/mcp-run-python',\n",
    "        'stdio',\n",
    "    ]\n",
    ")\n",
    "\n",
    "mcp_model = OpenAIModel(\"gpt-3.5-turbo\", provider=OpenAIProvider(api_key=oai_api_key))\n",
    "mcp_agent = Agent(mcp_model, mcp_servers=[server])"
   ]
  },
  {
   "cell_type": "code",
   "execution_count": null,
   "id": "22ea1b56-e489-4835-8538-88aacdb81576",
   "metadata": {},
   "outputs": [],
   "source": [
    "async with mcp_agent.run_mcp_servers():\n",
    "    mcp_result = await mcp_agent.run('How many days between 2000-01-01 and 2025-03-18?')\n",
    "    print(mcp_result.output)"
   ]
  },
  {
   "cell_type": "code",
   "execution_count": null,
   "id": "09e63a59-7e87-45e1-a238-f8b22b9f9229",
   "metadata": {},
   "outputs": [],
   "source": [
    "async with mcp_agent.run_mcp_servers():\n",
    "    mcp_result = await mcp_agent.run('How many days between 2000-01-01 and 2025-03-18?')\n",
    "    print(mcp_result.output)"
   ]
  },
  {
   "cell_type": "code",
   "execution_count": null,
   "id": "ae00991d-db8a-4b9f-a79c-64deaddaef8f",
   "metadata": {},
   "outputs": [],
   "source": []
  },
  {
   "cell_type": "markdown",
   "id": "d66e5d70-0cd0-4b30-8b78-cdeca5dfbc91",
   "metadata": {},
   "source": [
    "- Build a MCP server\n",
    "- Connect to remote mcp server (Use Zapier)"
   ]
  },
  {
   "cell_type": "code",
   "execution_count": 110,
   "id": "e793fa1a-5c01-43bc-beba-46a18d79b1c1",
   "metadata": {},
   "outputs": [],
   "source": [
    "from pydantic_ai import Agent\n",
    "from pydantic_ai.mcp import MCPServerHTTP\n",
    "\n",
    "server = MCPServerHTTP(url=\"https://mcp.zapier.com/api/mcp/s/YjZiNTRkM2MtYmE4Yi00NzBlLWFhY2QtMjdkMWFmZDczOGM1OjM4Y2Q3YTNiLTBiNTItNGMxNi04ZGMyLWY0YWVmZWY2NTcyZg==/sse\")  \n",
    "mcp_model = OpenAIModel(\"gpt-3.5-turbo\", provider=OpenAIProvider(api_key=oai_api_key))\n",
    "mcp_agent = Agent(mcp_model, mcp_servers=[server])\n",
    "\n",
    "async def main():\n",
    "    async with mcp_agent.run_mcp_servers():  \n",
    "        mcp_result = await mcp_agent.run(\"Can you fetch me emails with subject line ?\")\n",
    "    return mcp_result"
   ]
  },
  {
   "cell_type": "code",
   "execution_count": 111,
   "id": "99760e5d-833e-4656-a8e5-745333bf6202",
   "metadata": {},
   "outputs": [
    {
     "name": "stdout",
     "output_type": "stream",
     "text": [
      "11:23:25.698 GET mcp.zapier.com/api/mcp/s/YjZiNTRkM2MtYmE4Yi00NzBlLWFhY2QtMjdkMWFmZDczOGM1OjM4Y2Q3YTNiLTBiNTItNGMxNi04ZGMyLWY0YWVmZWY2NTcyZg==/sse\n",
      "11:23:26.029 POST mcp.zapier.com/api/mcp/s/YjZiNTRkM2MtYmE4Yi00NzBlLWFhY2QtMjdkMWFmZDczOGM1OjM4Y2Q3YTNiLTBiNTItNGMxNi04ZGMyLWY0YWVmZWY2NTcyZg==/message ? sessionId='bc30071c-…631565806'\n",
      "11:23:26.346 Reading response body\n",
      "11:23:26.351 POST mcp.zapier.com/api/mcp/s/YjZiNTRkM2MtYmE4Yi00NzBlLWFhY2QtMjdkMWFmZDczOGM1OjM4Y2Q3YTNiLTBiNTItNGMxNi04ZGMyLWY0YWVmZWY2NTcyZg==/message ? sessionId='bc30071c-…631565806'\n",
      "11:23:26.353 mcp_agent run\n",
      "11:23:26.641 Reading response body\n",
      "11:23:26.646 POST mcp.zapier.com/api/mcp/s/YjZiNTRkM2MtYmE4Yi00NzBlLWFhY2QtMjdkMWFmZDczOGM1OjM4Y2Q3YTNiLTBiNTItNGMxNi04ZGMyLWY0YWVmZWY2NTcyZg==/message ? sessionId='bc30071c-…631565806'\n",
      "11:23:26.932 Reading response body\n",
      "             mcp_agent run\n",
      "11:23:26.959   chat gpt-3.5-turbo\n",
      "11:23:26.965     POST api.openai.com/v1/chat/completions\n",
      "11:23:27.769 Reading response body\n",
      "11:23:27.780 POST mcp.zapier.com/api/mcp/s/YjZiNTRkM2MtYmE4Yi00NzBlLWFhY2QtMjdkMWFmZDczOGM1OjM4Y2Q3YTNiLTBiNTItNGMxNi04ZGMyLWY0YWVmZWY2NTcyZg==/message ? sessionId='bc30071c-…631565806'\n",
      "11:23:28.084 Reading response body\n",
      "             mcp_agent run\n",
      "11:23:28.118   running 1 tool\n",
      "11:23:28.119     running tool: gmail_find_email\n",
      "11:23:28.121 POST mcp.zapier.com/api/mcp/s/YjZiNTRkM2MtYmE4Yi00NzBlLWFhY2QtMjdkMWFmZDczOGM1OjM4Y2Q3YTNiLTBiNTItNGMxNi04ZGMyLWY0YWVmZWY2NTcyZg==/message ? sessionId='bc30071c-…631565806'\n",
      "11:23:28.416 Reading response body\n",
      "11:23:29.940 POST mcp.zapier.com/api/mcp/s/YjZiNTRkM2MtYmE4Yi00NzBlLWFhY2QtMjdkMWFmZDczOGM1OjM4Y2Q3YTNiLTBiNTItNGMxNi04ZGMyLWY0YWVmZWY2NTcyZg==/message ? sessionId='bc30071c-…631565806'\n",
      "11:23:30.225 Reading response body\n",
      "             mcp_agent run\n",
      "11:23:30.253   chat gpt-3.5-turbo\n",
      "11:23:30.258     POST api.openai.com/v1/chat/completions\n",
      "11:23:30.888 Reading response body\n"
     ]
    }
   ],
   "source": [
    "result = await main()"
   ]
  },
  {
   "cell_type": "code",
   "execution_count": 112,
   "id": "a9358218-75f0-4520-b28b-d9a8941872a2",
   "metadata": {},
   "outputs": [
    {
     "data": {
      "text/plain": [
       "AgentRunResult(output=\"I couldn't find any emails from Vijayata.\")"
      ]
     },
     "execution_count": 112,
     "metadata": {},
     "output_type": "execute_result"
    }
   ],
   "source": [
    "result"
   ]
  },
  {
   "cell_type": "code",
   "execution_count": null,
   "id": "e52d0fdf-1d48-4d89-8f1f-2a68364e838e",
   "metadata": {},
   "outputs": [],
   "source": []
  }
 ],
 "metadata": {
  "kernelspec": {
   "display_name": "Python 3 (ipykernel)",
   "language": "python",
   "name": "python3"
  },
  "language_info": {
   "codemirror_mode": {
    "name": "ipython",
    "version": 3
   },
   "file_extension": ".py",
   "mimetype": "text/x-python",
   "name": "python",
   "nbconvert_exporter": "python",
   "pygments_lexer": "ipython3",
   "version": "3.12.2"
  }
 },
 "nbformat": 4,
 "nbformat_minor": 5
}
